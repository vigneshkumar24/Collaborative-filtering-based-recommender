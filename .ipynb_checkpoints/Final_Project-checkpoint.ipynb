{
 "cells": [
  {
   "cell_type": "markdown",
   "metadata": {
    "id": "fCutN6LbgID1"
   },
   "source": [
    "# Final Project\n",
    "* **Sree Rukmini -C0795474**\n",
    "* **Sai Charitha -C0787250**\n",
    "* **Ramkiran Sampathi - C0793773**\n",
    "* **Nithin Tata -C0789951**"
   ]
  },
  {
   "cell_type": "code",
   "execution_count": null,
   "metadata": {
    "colab": {
     "base_uri": "https://localhost:8080/"
    },
    "id": "Rbv6Ic2OAnsn",
    "outputId": "3fe74811-ab32-4f8a-a0b5-4f86f79a5c99"
   },
   "outputs": [
    {
     "name": "stdout",
     "output_type": "stream",
     "text": [
      "Mounted at /content/drive/\n"
     ]
    }
   ],
   "source": [
    "#Mounting the google drive\n",
    "from google.colab import drive\n",
    "drive.mount('/content/drive/',force_remount=True)"
   ]
  },
  {
   "cell_type": "markdown",
   "metadata": {
    "id": "ZjYFLDSWf6Xs"
   },
   "source": [
    "## **Install necessary Libraries**"
   ]
  },
  {
   "cell_type": "code",
   "execution_count": null,
   "metadata": {
    "colab": {
     "base_uri": "https://localhost:8080/"
    },
    "id": "qvcdZr-zuAOV",
    "outputId": "01a63928-f1eb-425f-de38-f7d6ba302070"
   },
   "outputs": [
    {
     "name": "stdout",
     "output_type": "stream",
     "text": [
      "Collecting pycountry\n",
      "  Downloading pycountry-20.7.3.tar.gz (10.1 MB)\n",
      "\u001b[K     |████████████████████████████████| 10.1 MB 22.2 MB/s \n",
      "\u001b[?25hBuilding wheels for collected packages: pycountry\n",
      "  Building wheel for pycountry (setup.py) ... \u001b[?25l\u001b[?25hdone\n",
      "  Created wheel for pycountry: filename=pycountry-20.7.3-py2.py3-none-any.whl size=10746883 sha256=6407ff1390f708fdec3f872c8159c4f6c71eecf97ed7f1121101b53068c5ee17\n",
      "  Stored in directory: /root/.cache/pip/wheels/57/e8/3f/120ccc1ff7541c108bc5d656e2a14c39da0d824653b62284c6\n",
      "Successfully built pycountry\n",
      "Installing collected packages: pycountry\n",
      "Successfully installed pycountry-20.7.3\n"
     ]
    }
   ],
   "source": [
    "!pip install pycountry"
   ]
  },
  {
   "cell_type": "code",
   "execution_count": null,
   "metadata": {
    "colab": {
     "base_uri": "https://localhost:8080/"
    },
    "id": "bo0VYO5uuAXC",
    "outputId": "64766009-a500-49cf-b8d6-58dc8120ab00"
   },
   "outputs": [
    {
     "name": "stdout",
     "output_type": "stream",
     "text": [
      "Collecting langdetect\n",
      "  Downloading langdetect-1.0.9.tar.gz (981 kB)\n",
      "\u001b[?25l\r",
      "\u001b[K     |▍                               | 10 kB 18.3 MB/s eta 0:00:01\r",
      "\u001b[K     |▊                               | 20 kB 23.9 MB/s eta 0:00:01\r",
      "\u001b[K     |█                               | 30 kB 28.5 MB/s eta 0:00:01\r",
      "\u001b[K     |█▍                              | 40 kB 29.6 MB/s eta 0:00:01\r",
      "\u001b[K     |█▊                              | 51 kB 32.2 MB/s eta 0:00:01\r",
      "\u001b[K     |██                              | 61 kB 24.6 MB/s eta 0:00:01\r",
      "\u001b[K     |██▍                             | 71 kB 21.3 MB/s eta 0:00:01\r",
      "\u001b[K     |██▊                             | 81 kB 22.6 MB/s eta 0:00:01\r",
      "\u001b[K     |███                             | 92 kB 24.3 MB/s eta 0:00:01\r",
      "\u001b[K     |███▍                            | 102 kB 25.2 MB/s eta 0:00:01\r",
      "\u001b[K     |███▊                            | 112 kB 25.2 MB/s eta 0:00:01\r",
      "\u001b[K     |████                            | 122 kB 25.2 MB/s eta 0:00:01\r",
      "\u001b[K     |████▍                           | 133 kB 25.2 MB/s eta 0:00:01\r",
      "\u001b[K     |████▊                           | 143 kB 25.2 MB/s eta 0:00:01\r",
      "\u001b[K     |█████                           | 153 kB 25.2 MB/s eta 0:00:01\r",
      "\u001b[K     |█████▍                          | 163 kB 25.2 MB/s eta 0:00:01\r",
      "\u001b[K     |█████▊                          | 174 kB 25.2 MB/s eta 0:00:01\r",
      "\u001b[K     |██████                          | 184 kB 25.2 MB/s eta 0:00:01\r",
      "\u001b[K     |██████▍                         | 194 kB 25.2 MB/s eta 0:00:01\r",
      "\u001b[K     |██████▊                         | 204 kB 25.2 MB/s eta 0:00:01\r",
      "\u001b[K     |███████                         | 215 kB 25.2 MB/s eta 0:00:01\r",
      "\u001b[K     |███████▍                        | 225 kB 25.2 MB/s eta 0:00:01\r",
      "\u001b[K     |███████▊                        | 235 kB 25.2 MB/s eta 0:00:01\r",
      "\u001b[K     |████████                        | 245 kB 25.2 MB/s eta 0:00:01\r",
      "\u001b[K     |████████▍                       | 256 kB 25.2 MB/s eta 0:00:01\r",
      "\u001b[K     |████████▊                       | 266 kB 25.2 MB/s eta 0:00:01\r",
      "\u001b[K     |█████████                       | 276 kB 25.2 MB/s eta 0:00:01\r",
      "\u001b[K     |█████████▍                      | 286 kB 25.2 MB/s eta 0:00:01\r",
      "\u001b[K     |█████████▊                      | 296 kB 25.2 MB/s eta 0:00:01\r",
      "\u001b[K     |██████████                      | 307 kB 25.2 MB/s eta 0:00:01\r",
      "\u001b[K     |██████████▍                     | 317 kB 25.2 MB/s eta 0:00:01\r",
      "\u001b[K     |██████████▊                     | 327 kB 25.2 MB/s eta 0:00:01\r",
      "\u001b[K     |███████████                     | 337 kB 25.2 MB/s eta 0:00:01\r",
      "\u001b[K     |███████████▍                    | 348 kB 25.2 MB/s eta 0:00:01\r",
      "\u001b[K     |███████████▊                    | 358 kB 25.2 MB/s eta 0:00:01\r",
      "\u001b[K     |████████████                    | 368 kB 25.2 MB/s eta 0:00:01\r",
      "\u001b[K     |████████████▍                   | 378 kB 25.2 MB/s eta 0:00:01\r",
      "\u001b[K     |████████████▊                   | 389 kB 25.2 MB/s eta 0:00:01\r",
      "\u001b[K     |█████████████                   | 399 kB 25.2 MB/s eta 0:00:01\r",
      "\u001b[K     |█████████████▍                  | 409 kB 25.2 MB/s eta 0:00:01\r",
      "\u001b[K     |█████████████▊                  | 419 kB 25.2 MB/s eta 0:00:01\r",
      "\u001b[K     |██████████████                  | 430 kB 25.2 MB/s eta 0:00:01\r",
      "\u001b[K     |██████████████▍                 | 440 kB 25.2 MB/s eta 0:00:01\r",
      "\u001b[K     |██████████████▊                 | 450 kB 25.2 MB/s eta 0:00:01\r",
      "\u001b[K     |███████████████                 | 460 kB 25.2 MB/s eta 0:00:01\r",
      "\u001b[K     |███████████████▍                | 471 kB 25.2 MB/s eta 0:00:01\r",
      "\u001b[K     |███████████████▊                | 481 kB 25.2 MB/s eta 0:00:01\r",
      "\u001b[K     |████████████████                | 491 kB 25.2 MB/s eta 0:00:01\r",
      "\u001b[K     |████████████████▍               | 501 kB 25.2 MB/s eta 0:00:01\r",
      "\u001b[K     |████████████████▊               | 512 kB 25.2 MB/s eta 0:00:01\r",
      "\u001b[K     |█████████████████               | 522 kB 25.2 MB/s eta 0:00:01\r",
      "\u001b[K     |█████████████████▍              | 532 kB 25.2 MB/s eta 0:00:01\r",
      "\u001b[K     |█████████████████▊              | 542 kB 25.2 MB/s eta 0:00:01\r",
      "\u001b[K     |██████████████████              | 552 kB 25.2 MB/s eta 0:00:01\r",
      "\u001b[K     |██████████████████▍             | 563 kB 25.2 MB/s eta 0:00:01\r",
      "\u001b[K     |██████████████████▊             | 573 kB 25.2 MB/s eta 0:00:01\r",
      "\u001b[K     |███████████████████             | 583 kB 25.2 MB/s eta 0:00:01\r",
      "\u001b[K     |███████████████████▍            | 593 kB 25.2 MB/s eta 0:00:01\r",
      "\u001b[K     |███████████████████▊            | 604 kB 25.2 MB/s eta 0:00:01\r",
      "\u001b[K     |████████████████████            | 614 kB 25.2 MB/s eta 0:00:01\r",
      "\u001b[K     |████████████████████▍           | 624 kB 25.2 MB/s eta 0:00:01\r",
      "\u001b[K     |████████████████████▊           | 634 kB 25.2 MB/s eta 0:00:01\r",
      "\u001b[K     |█████████████████████           | 645 kB 25.2 MB/s eta 0:00:01\r",
      "\u001b[K     |█████████████████████▍          | 655 kB 25.2 MB/s eta 0:00:01\r",
      "\u001b[K     |█████████████████████▊          | 665 kB 25.2 MB/s eta 0:00:01\r",
      "\u001b[K     |██████████████████████          | 675 kB 25.2 MB/s eta 0:00:01\r",
      "\u001b[K     |██████████████████████▍         | 686 kB 25.2 MB/s eta 0:00:01\r",
      "\u001b[K     |██████████████████████▊         | 696 kB 25.2 MB/s eta 0:00:01\r",
      "\u001b[K     |███████████████████████         | 706 kB 25.2 MB/s eta 0:00:01\r",
      "\u001b[K     |███████████████████████▍        | 716 kB 25.2 MB/s eta 0:00:01\r",
      "\u001b[K     |███████████████████████▊        | 727 kB 25.2 MB/s eta 0:00:01\r",
      "\u001b[K     |████████████████████████        | 737 kB 25.2 MB/s eta 0:00:01\r",
      "\u001b[K     |████████████████████████▍       | 747 kB 25.2 MB/s eta 0:00:01\r",
      "\u001b[K     |████████████████████████▊       | 757 kB 25.2 MB/s eta 0:00:01\r",
      "\u001b[K     |█████████████████████████       | 768 kB 25.2 MB/s eta 0:00:01\r",
      "\u001b[K     |█████████████████████████▍      | 778 kB 25.2 MB/s eta 0:00:01\r",
      "\u001b[K     |█████████████████████████▊      | 788 kB 25.2 MB/s eta 0:00:01\r",
      "\u001b[K     |██████████████████████████      | 798 kB 25.2 MB/s eta 0:00:01\r",
      "\u001b[K     |██████████████████████████▍     | 808 kB 25.2 MB/s eta 0:00:01\r",
      "\u001b[K     |██████████████████████████▊     | 819 kB 25.2 MB/s eta 0:00:01\r",
      "\u001b[K     |███████████████████████████     | 829 kB 25.2 MB/s eta 0:00:01\r",
      "\u001b[K     |███████████████████████████▍    | 839 kB 25.2 MB/s eta 0:00:01\r",
      "\u001b[K     |███████████████████████████▊    | 849 kB 25.2 MB/s eta 0:00:01\r",
      "\u001b[K     |████████████████████████████    | 860 kB 25.2 MB/s eta 0:00:01\r",
      "\u001b[K     |████████████████████████████▍   | 870 kB 25.2 MB/s eta 0:00:01\r",
      "\u001b[K     |████████████████████████████▊   | 880 kB 25.2 MB/s eta 0:00:01\r",
      "\u001b[K     |█████████████████████████████   | 890 kB 25.2 MB/s eta 0:00:01\r",
      "\u001b[K     |█████████████████████████████▍  | 901 kB 25.2 MB/s eta 0:00:01\r",
      "\u001b[K     |█████████████████████████████▊  | 911 kB 25.2 MB/s eta 0:00:01\r",
      "\u001b[K     |██████████████████████████████  | 921 kB 25.2 MB/s eta 0:00:01\r",
      "\u001b[K     |██████████████████████████████▍ | 931 kB 25.2 MB/s eta 0:00:01\r",
      "\u001b[K     |██████████████████████████████▊ | 942 kB 25.2 MB/s eta 0:00:01\r",
      "\u001b[K     |███████████████████████████████ | 952 kB 25.2 MB/s eta 0:00:01\r",
      "\u001b[K     |███████████████████████████████▍| 962 kB 25.2 MB/s eta 0:00:01\r",
      "\u001b[K     |███████████████████████████████▊| 972 kB 25.2 MB/s eta 0:00:01\r",
      "\u001b[K     |████████████████████████████████| 981 kB 25.2 MB/s \n",
      "\u001b[?25hRequirement already satisfied: six in /usr/local/lib/python3.7/dist-packages (from langdetect) (1.15.0)\n",
      "Building wheels for collected packages: langdetect\n",
      "  Building wheel for langdetect (setup.py) ... \u001b[?25l\u001b[?25hdone\n",
      "  Created wheel for langdetect: filename=langdetect-1.0.9-py3-none-any.whl size=993241 sha256=0f7243480ad2359e02a5d63f5db93e413fec02b1f2b23f6c7051b4617b44536b\n",
      "  Stored in directory: /root/.cache/pip/wheels/c5/96/8a/f90c59ed25d75e50a8c10a1b1c2d4c402e4dacfa87f3aff36a\n",
      "Successfully built langdetect\n",
      "Installing collected packages: langdetect\n",
      "Successfully installed langdetect-1.0.9\n"
     ]
    }
   ],
   "source": [
    "!pip install langdetect"
   ]
  },
  {
   "cell_type": "code",
   "execution_count": null,
   "metadata": {
    "colab": {
     "base_uri": "https://localhost:8080/"
    },
    "id": "VQovQ2pn9mmA",
    "outputId": "c31e9367-b26d-4620-84d0-d680497bc304"
   },
   "outputs": [
    {
     "name": "stdout",
     "output_type": "stream",
     "text": [
      "[nltk_data] Downloading package vader_lexicon to /root/nltk_data...\n",
      "[nltk_data]   Package vader_lexicon is already up-to-date!\n"
     ]
    }
   ],
   "source": [
    "# Import Libraries\n",
    "from textblob import TextBlob\n",
    "import sys\n",
    "import tweepy\n",
    "import math\n",
    "import matplotlib.pyplot as plt\n",
    "import pandas as pd\n",
    "import numpy as np\n",
    "import os\n",
    "import progressbar as pb\n",
    "import nltk\n",
    "nltk.download('vader_lexicon')\n",
    "import pycountry\n",
    "import re\n",
    "import string\n",
    "from wordcloud import WordCloud, STOPWORDS\n",
    "from PIL import Image\n",
    "from nltk.sentiment.vader import SentimentIntensityAnalyzer\n",
    "from langdetect import detect\n",
    "from nltk.stem import SnowballStemmer\n",
    "from nltk.sentiment.vader import SentimentIntensityAnalyzer\n",
    "from sklearn.feature_extraction.text import CountVectorizer"
   ]
  },
  {
   "cell_type": "markdown",
   "metadata": {
    "id": "mounNbYhgtfm"
   },
   "source": [
    "### **Twitter API Credentials**"
   ]
  },
  {
   "cell_type": "code",
   "execution_count": null,
   "metadata": {
    "id": "qQBBoRBZ_UAd"
   },
   "outputs": [],
   "source": [
    "ACCESS_TOKEN=\"2988356743-XzwtJ71UNRlWNmWlQ0wp4Hb4uocqJQEwESaaimy\"\n",
    "ACCESS_TOKEN_SECRET=\"3V2sg5lemDbklk4AASkSFvdj7wSt9Q0fY6ezLke7ESSmP\"\n",
    "CONSUMER_API_KEY = \"DDuo8lmj1Ss6xc6uxnZ4iKcGY\"\n",
    "CONSUMER_API_SECRET = \"snwQtl6d650PlcvDCN1Lr9cZroESAULV0MyiT9NS9svMjnNtZA\"\n",
    "\n",
    "auth = tweepy.OAuthHandler(CONSUMER_API_KEY, CONSUMER_API_SECRET)\n",
    "auth.set_access_token(ACCESS_TOKEN, ACCESS_TOKEN_SECRET)\n",
    "api = tweepy.API(auth)"
   ]
  },
  {
   "cell_type": "markdown",
   "metadata": {
    "id": "2m-TWW9Rgd8p"
   },
   "source": [
    "### **Loading Movie dataset**"
   ]
  },
  {
   "cell_type": "code",
   "execution_count": null,
   "metadata": {
    "id": "c3prPO2k_UCy"
   },
   "outputs": [],
   "source": [
    "col_names = ['movie_id', 'movie_title', 'release_date', 'video_release_date', \n",
    "          'IMDb_URL', 'unknown', 'Action', 'Adventure', 'Animation', 'Children_s', \n",
    "          'Comedy', 'Crime', 'Documentary', 'Drama', 'Fantasy', 'Film_Noir', 'Horror', \n",
    "          'Musical', 'Mystery', 'Romance', 'Sci_Fi', 'Thriller', 'War', 'Western']\n",
    "\n",
    "movie_data = pd.read_csv('/content/drive/MyDrive/Lambton-Stuff/item.txt', sep='|', names=col_names, encoding='latin-1')"
   ]
  },
  {
   "cell_type": "code",
   "execution_count": null,
   "metadata": {
    "colab": {
     "base_uri": "https://localhost:8080/",
     "height": 377
    },
    "id": "tbCHchrtBGru",
    "outputId": "1f852e95-01a1-41a6-b7a6-e33bc32c9611"
   },
   "outputs": [
    {
     "data": {
      "text/html": [
       "<div>\n",
       "<style scoped>\n",
       "    .dataframe tbody tr th:only-of-type {\n",
       "        vertical-align: middle;\n",
       "    }\n",
       "\n",
       "    .dataframe tbody tr th {\n",
       "        vertical-align: top;\n",
       "    }\n",
       "\n",
       "    .dataframe thead th {\n",
       "        text-align: right;\n",
       "    }\n",
       "</style>\n",
       "<table border=\"1\" class=\"dataframe\">\n",
       "  <thead>\n",
       "    <tr style=\"text-align: right;\">\n",
       "      <th></th>\n",
       "      <th>movie_id</th>\n",
       "      <th>movie_title</th>\n",
       "      <th>release_date</th>\n",
       "      <th>video_release_date</th>\n",
       "      <th>IMDb_URL</th>\n",
       "      <th>unknown</th>\n",
       "      <th>Action</th>\n",
       "      <th>Adventure</th>\n",
       "      <th>Animation</th>\n",
       "      <th>Children_s</th>\n",
       "      <th>Comedy</th>\n",
       "      <th>Crime</th>\n",
       "      <th>Documentary</th>\n",
       "      <th>Drama</th>\n",
       "      <th>Fantasy</th>\n",
       "      <th>Film_Noir</th>\n",
       "      <th>Horror</th>\n",
       "      <th>Musical</th>\n",
       "      <th>Mystery</th>\n",
       "      <th>Romance</th>\n",
       "      <th>Sci_Fi</th>\n",
       "      <th>Thriller</th>\n",
       "      <th>War</th>\n",
       "      <th>Western</th>\n",
       "    </tr>\n",
       "  </thead>\n",
       "  <tbody>\n",
       "    <tr>\n",
       "      <th>1181</th>\n",
       "      <td>1182</td>\n",
       "      <td>Cops and Robbersons (1994)</td>\n",
       "      <td>01-Jan-1994</td>\n",
       "      <td>NaN</td>\n",
       "      <td>http://us.imdb.com/M/title-exact?Cops%20and%20...</td>\n",
       "      <td>0</td>\n",
       "      <td>0</td>\n",
       "      <td>0</td>\n",
       "      <td>0</td>\n",
       "      <td>0</td>\n",
       "      <td>1</td>\n",
       "      <td>0</td>\n",
       "      <td>0</td>\n",
       "      <td>0</td>\n",
       "      <td>0</td>\n",
       "      <td>0</td>\n",
       "      <td>0</td>\n",
       "      <td>0</td>\n",
       "      <td>0</td>\n",
       "      <td>0</td>\n",
       "      <td>0</td>\n",
       "      <td>0</td>\n",
       "      <td>0</td>\n",
       "      <td>0</td>\n",
       "    </tr>\n",
       "    <tr>\n",
       "      <th>440</th>\n",
       "      <td>441</td>\n",
       "      <td>Amityville Horror, The (1979)</td>\n",
       "      <td>01-Jan-1979</td>\n",
       "      <td>NaN</td>\n",
       "      <td>http://us.imdb.com/M/title-exact?Amityville%20...</td>\n",
       "      <td>0</td>\n",
       "      <td>0</td>\n",
       "      <td>0</td>\n",
       "      <td>0</td>\n",
       "      <td>0</td>\n",
       "      <td>0</td>\n",
       "      <td>0</td>\n",
       "      <td>0</td>\n",
       "      <td>0</td>\n",
       "      <td>0</td>\n",
       "      <td>0</td>\n",
       "      <td>1</td>\n",
       "      <td>0</td>\n",
       "      <td>0</td>\n",
       "      <td>0</td>\n",
       "      <td>0</td>\n",
       "      <td>0</td>\n",
       "      <td>0</td>\n",
       "      <td>0</td>\n",
       "    </tr>\n",
       "    <tr>\n",
       "      <th>291</th>\n",
       "      <td>292</td>\n",
       "      <td>Rosewood (1997)</td>\n",
       "      <td>21-Feb-1997</td>\n",
       "      <td>NaN</td>\n",
       "      <td>http://us.imdb.com/M/title-exact?Rosewood%20(1...</td>\n",
       "      <td>0</td>\n",
       "      <td>0</td>\n",
       "      <td>0</td>\n",
       "      <td>0</td>\n",
       "      <td>0</td>\n",
       "      <td>0</td>\n",
       "      <td>0</td>\n",
       "      <td>0</td>\n",
       "      <td>1</td>\n",
       "      <td>0</td>\n",
       "      <td>0</td>\n",
       "      <td>0</td>\n",
       "      <td>0</td>\n",
       "      <td>0</td>\n",
       "      <td>0</td>\n",
       "      <td>0</td>\n",
       "      <td>0</td>\n",
       "      <td>0</td>\n",
       "      <td>0</td>\n",
       "    </tr>\n",
       "    <tr>\n",
       "      <th>1558</th>\n",
       "      <td>1559</td>\n",
       "      <td>Hostile Intentions (1994)</td>\n",
       "      <td>01-Jan-1994</td>\n",
       "      <td>NaN</td>\n",
       "      <td>http://us.imdb.com/M/title-exact?Hostile%20Int...</td>\n",
       "      <td>0</td>\n",
       "      <td>1</td>\n",
       "      <td>0</td>\n",
       "      <td>0</td>\n",
       "      <td>0</td>\n",
       "      <td>0</td>\n",
       "      <td>0</td>\n",
       "      <td>0</td>\n",
       "      <td>1</td>\n",
       "      <td>0</td>\n",
       "      <td>0</td>\n",
       "      <td>0</td>\n",
       "      <td>0</td>\n",
       "      <td>0</td>\n",
       "      <td>0</td>\n",
       "      <td>0</td>\n",
       "      <td>1</td>\n",
       "      <td>0</td>\n",
       "      <td>0</td>\n",
       "    </tr>\n",
       "    <tr>\n",
       "      <th>1106</th>\n",
       "      <td>1107</td>\n",
       "      <td>Beyond Rangoon (1995)</td>\n",
       "      <td>01-Jan-1995</td>\n",
       "      <td>NaN</td>\n",
       "      <td>http://us.imdb.com/M/title-exact?Beyond%20Rang...</td>\n",
       "      <td>0</td>\n",
       "      <td>0</td>\n",
       "      <td>0</td>\n",
       "      <td>0</td>\n",
       "      <td>0</td>\n",
       "      <td>0</td>\n",
       "      <td>0</td>\n",
       "      <td>0</td>\n",
       "      <td>1</td>\n",
       "      <td>0</td>\n",
       "      <td>0</td>\n",
       "      <td>0</td>\n",
       "      <td>0</td>\n",
       "      <td>0</td>\n",
       "      <td>0</td>\n",
       "      <td>0</td>\n",
       "      <td>0</td>\n",
       "      <td>0</td>\n",
       "      <td>0</td>\n",
       "    </tr>\n",
       "  </tbody>\n",
       "</table>\n",
       "</div>"
      ],
      "text/plain": [
       "      movie_id                    movie_title  ... War  Western\n",
       "1181      1182     Cops and Robbersons (1994)  ...   0        0\n",
       "440        441  Amityville Horror, The (1979)  ...   0        0\n",
       "291        292                Rosewood (1997)  ...   0        0\n",
       "1558      1559      Hostile Intentions (1994)  ...   0        0\n",
       "1106      1107          Beyond Rangoon (1995)  ...   0        0\n",
       "\n",
       "[5 rows x 24 columns]"
      ]
     },
     "execution_count": 8,
     "metadata": {
      "tags": []
     },
     "output_type": "execute_result"
    }
   ],
   "source": [
    "movie_data.sample(5)"
   ]
  },
  {
   "cell_type": "markdown",
   "metadata": {
    "id": "lyFdQUUkg5L4"
   },
   "source": [
    "#### **Creating Hashtags**"
   ]
  },
  {
   "cell_type": "code",
   "execution_count": null,
   "metadata": {
    "id": "2fAE1-GWDiUM"
   },
   "outputs": [],
   "source": [
    "movie_data['hashtags'] = movie_data['movie_title']\n",
    "movie_data['hashtags'] = movie_data['hashtags'].apply(lambda x:\"#\" + re.sub(r'\\([^()]*\\)', '', x))"
   ]
  },
  {
   "cell_type": "code",
   "execution_count": null,
   "metadata": {
    "colab": {
     "base_uri": "https://localhost:8080/",
     "height": 408
    },
    "id": "syvO7EFJFvXm",
    "outputId": "f870e916-2f06-4e58-bcfd-93e349c57c13"
   },
   "outputs": [
    {
     "data": {
      "text/html": [
       "<div>\n",
       "<style scoped>\n",
       "    .dataframe tbody tr th:only-of-type {\n",
       "        vertical-align: middle;\n",
       "    }\n",
       "\n",
       "    .dataframe tbody tr th {\n",
       "        vertical-align: top;\n",
       "    }\n",
       "\n",
       "    .dataframe thead th {\n",
       "        text-align: right;\n",
       "    }\n",
       "</style>\n",
       "<table border=\"1\" class=\"dataframe\">\n",
       "  <thead>\n",
       "    <tr style=\"text-align: right;\">\n",
       "      <th></th>\n",
       "      <th>movie_id</th>\n",
       "      <th>movie_title</th>\n",
       "      <th>release_date</th>\n",
       "      <th>video_release_date</th>\n",
       "      <th>IMDb_URL</th>\n",
       "      <th>unknown</th>\n",
       "      <th>Action</th>\n",
       "      <th>Adventure</th>\n",
       "      <th>Animation</th>\n",
       "      <th>Children_s</th>\n",
       "      <th>Comedy</th>\n",
       "      <th>Crime</th>\n",
       "      <th>Documentary</th>\n",
       "      <th>Drama</th>\n",
       "      <th>Fantasy</th>\n",
       "      <th>Film_Noir</th>\n",
       "      <th>Horror</th>\n",
       "      <th>Musical</th>\n",
       "      <th>Mystery</th>\n",
       "      <th>Romance</th>\n",
       "      <th>Sci_Fi</th>\n",
       "      <th>Thriller</th>\n",
       "      <th>War</th>\n",
       "      <th>Western</th>\n",
       "      <th>hashtags</th>\n",
       "    </tr>\n",
       "  </thead>\n",
       "  <tbody>\n",
       "    <tr>\n",
       "      <th>0</th>\n",
       "      <td>1</td>\n",
       "      <td>Toy Story (1995)</td>\n",
       "      <td>01-Jan-1995</td>\n",
       "      <td>NaN</td>\n",
       "      <td>http://us.imdb.com/M/title-exact?Toy%20Story%2...</td>\n",
       "      <td>0</td>\n",
       "      <td>0</td>\n",
       "      <td>0</td>\n",
       "      <td>1</td>\n",
       "      <td>1</td>\n",
       "      <td>1</td>\n",
       "      <td>0</td>\n",
       "      <td>0</td>\n",
       "      <td>0</td>\n",
       "      <td>0</td>\n",
       "      <td>0</td>\n",
       "      <td>0</td>\n",
       "      <td>0</td>\n",
       "      <td>0</td>\n",
       "      <td>0</td>\n",
       "      <td>0</td>\n",
       "      <td>0</td>\n",
       "      <td>0</td>\n",
       "      <td>0</td>\n",
       "      <td>#Toy Story</td>\n",
       "    </tr>\n",
       "    <tr>\n",
       "      <th>1</th>\n",
       "      <td>2</td>\n",
       "      <td>GoldenEye (1995)</td>\n",
       "      <td>01-Jan-1995</td>\n",
       "      <td>NaN</td>\n",
       "      <td>http://us.imdb.com/M/title-exact?GoldenEye%20(...</td>\n",
       "      <td>0</td>\n",
       "      <td>1</td>\n",
       "      <td>1</td>\n",
       "      <td>0</td>\n",
       "      <td>0</td>\n",
       "      <td>0</td>\n",
       "      <td>0</td>\n",
       "      <td>0</td>\n",
       "      <td>0</td>\n",
       "      <td>0</td>\n",
       "      <td>0</td>\n",
       "      <td>0</td>\n",
       "      <td>0</td>\n",
       "      <td>0</td>\n",
       "      <td>0</td>\n",
       "      <td>0</td>\n",
       "      <td>1</td>\n",
       "      <td>0</td>\n",
       "      <td>0</td>\n",
       "      <td>#GoldenEye</td>\n",
       "    </tr>\n",
       "    <tr>\n",
       "      <th>2</th>\n",
       "      <td>3</td>\n",
       "      <td>Four Rooms (1995)</td>\n",
       "      <td>01-Jan-1995</td>\n",
       "      <td>NaN</td>\n",
       "      <td>http://us.imdb.com/M/title-exact?Four%20Rooms%...</td>\n",
       "      <td>0</td>\n",
       "      <td>0</td>\n",
       "      <td>0</td>\n",
       "      <td>0</td>\n",
       "      <td>0</td>\n",
       "      <td>0</td>\n",
       "      <td>0</td>\n",
       "      <td>0</td>\n",
       "      <td>0</td>\n",
       "      <td>0</td>\n",
       "      <td>0</td>\n",
       "      <td>0</td>\n",
       "      <td>0</td>\n",
       "      <td>0</td>\n",
       "      <td>0</td>\n",
       "      <td>0</td>\n",
       "      <td>1</td>\n",
       "      <td>0</td>\n",
       "      <td>0</td>\n",
       "      <td>#Four Rooms</td>\n",
       "    </tr>\n",
       "    <tr>\n",
       "      <th>3</th>\n",
       "      <td>4</td>\n",
       "      <td>Get Shorty (1995)</td>\n",
       "      <td>01-Jan-1995</td>\n",
       "      <td>NaN</td>\n",
       "      <td>http://us.imdb.com/M/title-exact?Get%20Shorty%...</td>\n",
       "      <td>0</td>\n",
       "      <td>1</td>\n",
       "      <td>0</td>\n",
       "      <td>0</td>\n",
       "      <td>0</td>\n",
       "      <td>1</td>\n",
       "      <td>0</td>\n",
       "      <td>0</td>\n",
       "      <td>1</td>\n",
       "      <td>0</td>\n",
       "      <td>0</td>\n",
       "      <td>0</td>\n",
       "      <td>0</td>\n",
       "      <td>0</td>\n",
       "      <td>0</td>\n",
       "      <td>0</td>\n",
       "      <td>0</td>\n",
       "      <td>0</td>\n",
       "      <td>0</td>\n",
       "      <td>#Get Shorty</td>\n",
       "    </tr>\n",
       "    <tr>\n",
       "      <th>4</th>\n",
       "      <td>5</td>\n",
       "      <td>Copycat (1995)</td>\n",
       "      <td>01-Jan-1995</td>\n",
       "      <td>NaN</td>\n",
       "      <td>http://us.imdb.com/M/title-exact?Copycat%20(1995)</td>\n",
       "      <td>0</td>\n",
       "      <td>0</td>\n",
       "      <td>0</td>\n",
       "      <td>0</td>\n",
       "      <td>0</td>\n",
       "      <td>0</td>\n",
       "      <td>1</td>\n",
       "      <td>0</td>\n",
       "      <td>1</td>\n",
       "      <td>0</td>\n",
       "      <td>0</td>\n",
       "      <td>0</td>\n",
       "      <td>0</td>\n",
       "      <td>0</td>\n",
       "      <td>0</td>\n",
       "      <td>0</td>\n",
       "      <td>1</td>\n",
       "      <td>0</td>\n",
       "      <td>0</td>\n",
       "      <td>#Copycat</td>\n",
       "    </tr>\n",
       "    <tr>\n",
       "      <th>5</th>\n",
       "      <td>6</td>\n",
       "      <td>Shanghai Triad (Yao a yao yao dao waipo qiao) ...</td>\n",
       "      <td>01-Jan-1995</td>\n",
       "      <td>NaN</td>\n",
       "      <td>http://us.imdb.com/Title?Yao+a+yao+yao+dao+wai...</td>\n",
       "      <td>0</td>\n",
       "      <td>0</td>\n",
       "      <td>0</td>\n",
       "      <td>0</td>\n",
       "      <td>0</td>\n",
       "      <td>0</td>\n",
       "      <td>0</td>\n",
       "      <td>0</td>\n",
       "      <td>1</td>\n",
       "      <td>0</td>\n",
       "      <td>0</td>\n",
       "      <td>0</td>\n",
       "      <td>0</td>\n",
       "      <td>0</td>\n",
       "      <td>0</td>\n",
       "      <td>0</td>\n",
       "      <td>0</td>\n",
       "      <td>0</td>\n",
       "      <td>0</td>\n",
       "      <td>#Shanghai Triad</td>\n",
       "    </tr>\n",
       "  </tbody>\n",
       "</table>\n",
       "</div>"
      ],
      "text/plain": [
       "   movie_id  ...           hashtags\n",
       "0         1  ...        #Toy Story \n",
       "1         2  ...        #GoldenEye \n",
       "2         3  ...       #Four Rooms \n",
       "3         4  ...       #Get Shorty \n",
       "4         5  ...          #Copycat \n",
       "5         6  ...  #Shanghai Triad  \n",
       "\n",
       "[6 rows x 25 columns]"
      ]
     },
     "execution_count": 10,
     "metadata": {
      "tags": []
     },
     "output_type": "execute_result"
    }
   ],
   "source": [
    "movie_data.head(6)"
   ]
  },
  {
   "cell_type": "code",
   "execution_count": null,
   "metadata": {
    "id": "LBK1zTdkBGt9"
   },
   "outputs": [],
   "source": []
  },
  {
   "cell_type": "markdown",
   "metadata": {
    "id": "XuZVr6lGhHHs"
   },
   "source": [
    "### **Sentiment Analysis of Tweets**"
   ]
  },
  {
   "cell_type": "code",
   "execution_count": null,
   "metadata": {
    "id": "C47op9pi_UGr"
   },
   "outputs": [],
   "source": [
    "positive = 0\n",
    "negative = 0\n",
    "neutral = 0\n",
    "polarity = 0\n",
    "tweet_list = []\n",
    "neutral_list = []\n",
    "negative_list = []\n",
    "positive_list = []\n",
    "\n",
    "def percentage(part,whole):\n",
    " return 100 * float(part)/float(whole)\n",
    "\n",
    "movie_tweets = pd.DataFrame()\n",
    "n = 1\n",
    "\n",
    "def load_tweets():\n",
    "  for keyword in movie_data.hashtags:\n",
    "    tweets = tweepy.Cursor(api.search, q=keyword).items(n)\n",
    "    for tweet in tweets:\n",
    "      tweet_list.append(tweet.text)\n",
    "      analysis = TextBlob(tweet.text)\n",
    "      score = SentimentIntensityAnalyzer().polarity_scores(tweet.text)\n",
    "      neg = score['neg']\n",
    "      neu = score['neu']\n",
    "      pos = score['pos']\n",
    "      comp = score['compound']\n",
    "      polarity += analysis.sentiment.polarity\n",
    "      \n",
    "      if neg > pos:\n",
    "        negative_list.append(tweet.text)\n",
    "        negative += 1\n",
    "      elif pos > neg:\n",
    "        positive_list.append(tweet.text)\n",
    "        positive += 1\n",
    "      \n",
    "      elif pos == neg:\n",
    "        neutral_list.append(tweet.text)\n",
    "        neutral += 1\n",
    "\n",
    "  positive = percentage(positive, n)\n",
    "  negative = percentage(negative, n)\n",
    "  neutral = percentage(neutral, n)\n",
    "  polarity = percentage(polarity, n)\n",
    "  positive = format(positive, '.1f')\n",
    "  negative = format(negative, '.1f')\n",
    "  neutral = format(neutral, '.1f')"
   ]
  },
  {
   "cell_type": "markdown",
   "metadata": {
    "id": "kH8yClfuhc2o"
   },
   "source": [
    "#### **Loading Tweets**"
   ]
  },
  {
   "cell_type": "code",
   "execution_count": null,
   "metadata": {
    "id": "NJHx-1UX_ULh"
   },
   "outputs": [],
   "source": [
    "movie_tweets = pd.read_csv('/content/drive/MyDrive/Lambton-Stuff/movieTweets.csv')\n",
    "movie_tweets['Tweets'] = movie_tweets['Tweets'].map(str)\n",
    "movie_tweets.sample(5)"
   ]
  },
  {
   "cell_type": "markdown",
   "metadata": {
    "id": "6Bfn73FPhoO1"
   },
   "source": [
    "#### **Cleaning Tweets**"
   ]
  },
  {
   "cell_type": "code",
   "execution_count": null,
   "metadata": {
    "colab": {
     "base_uri": "https://localhost:8080/"
    },
    "id": "LIdP3YH61A54",
    "outputId": "111b2cd1-e6f0-4b2f-c879-a78b4356489b"
   },
   "outputs": [
    {
     "name": "stdout",
     "output_type": "stream",
     "text": [
      "\u001b[1;30;43mStreaming output truncated to the last 5000 lines.\u001b[0m\n",
      "Assignment \n",
      "English\n",
      "Essay due\n",
      "Paper pay\n",
      "Do my home work\n",
      "Religion\n",
      "history \n",
      "Econometrics \n",
      "dm EssayWrite25 \n",
      "whatsapp 1 629 2436223 ATHLETES amp PERSONAL JOURNAL WRITING\n",
      "\n",
      "Daily Mindset Routine\n",
      "\n",
      "Power of the Written Word\n",
      "\n",
      "SelfAwareness \n",
      "\n",
      "Finding out who you really are\n",
      "\n",
      "Becoming your best self \n",
      "\n",
      "focus confidence  theinnervoice mindset  journal journaling writtenword paper writing dailyroutine httpstcoYHh9KTobwP Your righttochoose is the pivot point of our campaign Whether you prefer digital or paper statements we are here to make sure you always have the ability to choose free of charge Get the Facts httpstcoCCURY1i8pX httpstcoJ5PG0trkLf ⚔️🧱🪜 After the Craft and Royal Arch is there a need to join ‘Other Orders’\n",
      "\n",
      "⁉️ There are 1⃣0⃣8⃣ Orders and Degrees known in England Do we need to join them all to get the whole picture\n",
      "\n",
      "Read the paper here ➡️ httpstco7OID3vSFuz\n",
      "\n",
      "Image SussexCommsGuy httpstcowRhpsy5PCl ⚔️🧱🪜 After the Craft and Royal Arch is there a need to join ‘Other Orders’\n",
      "\n",
      "⁉️ There are 1⃣0⃣8⃣ Orders and Degrees known in England Do we need to join them all to get the whole picture\n",
      "\n",
      "Read the paper here ➡️ httpstco7OID3vSFuz\n",
      "\n",
      "Image SussexCommsGuy httpstcowRhpsy5PCl Your righttochoose is the pivot point of our campaign Whether you prefer digital or paper statements we are here to make sure you always have the ability to choose free of charge Get the Facts httpstcoCCURY1i8pX httpstcoJ5PG0trkLf ⚔️🧱🪜 After the Craft and Royal Arch is there a need to join ‘Other Orders’\n",
      "\n",
      "⁉️ There are 1⃣0⃣8⃣ Orders and Degrees known in England Do we need to join them all to get the whole picture\n",
      "\n",
      "Read the paper here ➡️ httpstco7OID3vSFuz\n",
      "\n",
      "Image SussexCommsGuy httpstcowRhpsy5PCl Want to keep it simple  What about the good old compostable recyclable paper bag on a string grocery bakery coffeeshop deli grabandgo streetfood httpstcogHqnGsnr8H\n",
      "cleaned: BraveGirls outfit diferentes y bonitos por favor\n",
      "❤️‍🔥❤️‍🔥❤️‍🔥❤️‍🔥\n",
      "different and beautiful outfit please\n",
      "BraveGirls FEARLESS httpstcokTl9AGDWVj BraveGirls\n",
      "\n",
      "BRAVE GIRLS\n",
      "THE 5TH MINI ALBUM REPACKAGE\n",
      "After We Ride\n",
      "\n",
      "20210823 1800 KST\n",
      "\n",
      "브레이브걸스 BraveGirls\n",
      "AfterWeRide\n",
      "202108236PM\n",
      "20210823BraveGirls \n",
      "피어레스 FEARLESS httpstcouVys4j5yXj 20210823 1800 KST\n",
      "AfterWeRide Repakage Album\n",
      "브레이브걸스 bravegirls AfterWeRide 피어레스 fearless 202108236PM httpstcoNIbLnGr7Pw 20210823 1800 KST\n",
      "AfterWeRide Repakage Album\n",
      "브레이브걸스 bravegirls AfterWeRide 피어레스 fearless 202108236PM httpstcoNIbLnGr7Pw So many of the FearlessWomen weve had on the podcast are also featured in the FearlessBook and vice versa \n",
      "\n",
      "For the full Fearless experience make sure you get your copy of the book Its the perfect physical companion piece to the podcast 📖 httpstcoKh8uobuQ1S Today’s adventure was a massive success horseriding PonyLove Fearless httpstco3sR3JHnRYK “Test Everything Hold On to what is Good Abstain from Every Form of Evil” 1Thessalonians 52122 📖 Monday MondayMotivation 💪🏽 Week Wisdom Empowerment Fearless Faith Goal Success HoldOn ForLife LIVE Lessons Learn Love Life 🙏🏾❤️🙏🏾 httpstcoWrmh9iRanT Strong fearless and beautiful  thats you  Happy Womens Day  womensday women womensday2021 fearless strong beautiful happywomensday httpstcotoTNdoCD74 MotivationMonday \n",
      "\n",
      "Be fearless in the pursuit of what sets your soul on fire httpstcoMK1ttD2aTN PacquiaoSpence who’s ready MannyPacquiao let’s take it to the NXTLVL  Believe Fearless NXTLVLUP💯🔥🔥🔥LTNC NXTLVLNation TakeoverJoe NXTLVLTakeover \n",
      "\n",
      "Stay hydrated ShopNXTLVL httpstcoFXtbc2ll8z httpstcoPXP8A74IQX Happy Birthday to our coauthor Gillian Anderson Have a wonderful day 🎉🎊💛\n",
      "\n",
      "WeWomen HappyBirthdayGillianAnderson fearless httpstcoHY5edTd50p Join us for our first annual Fearless Retirement Summit 2021 virtually on Sep 9th 12pm 4pm EST \n",
      "100 ticket sales will be donated to Alex’s Lemonade Stand Foundation 12\n",
      "Retirement RetirementPlanning FinancialIndependence FinancialFreedom joy fearless httpstcoGrtFBJK6Tj We Ride was supposed to be their last song 😭\n",
      "\n",
      "They are not going anywhere now\n",
      "They are here to stay\n",
      "\n",
      "BRAVE GIRLS FIGHTING\n",
      "\n",
      "BraveGirls WeRide AfterWeRide 202108236PM 20210823BraveGirls Fearless 브레이브걸스 피어레스 httpstcorg4CHwGWdD Finding success and living your best life isn’t about being fearless \n",
      " \n",
      "It’s about shifting your fears \n",
      " \n",
      "Instead of being afraid you’ll lose be afraid of never trying \n",
      " \n",
      "Instead of being afraid of risks be afraid you never risk winning httpstcojol9pM7cuN Why don’t you feel creative Fear is the biggest blocker of creativity \n",
      "\n",
      "httpstcoUbhq8BZAJw \n",
      "\n",
      "creativity innovation Fearless BraveGirls\n",
      "\n",
      "BRAVE GIRLS\n",
      "THE 5TH MINI ALBUM REPACKAGE\n",
      "After We Ride\n",
      "\n",
      "20210823 1800 KST\n",
      "\n",
      "브레이브걸스 BraveGirls\n",
      "AfterWeRide\n",
      "202108236PM\n",
      "20210823BraveGirls \n",
      "피어레스 FEARLESS httpstcouVys4j5yXj biden knows full well that WhitlockJason is more dangerous than he  DelanoSquires is younger and more terrible than HunterBiden too and the Fearless podcast shall go forth and listened 2 in the spineless SenateGOP RaheemKassam DennisPrager michaeljknowles ericmetaxas 20210823 1800 KST\n",
      "AfterWeRide Repakage Album\n",
      "브레이브걸스 bravegirls AfterWeRide 피어레스 fearless 202108236PM httpstcoNIbLnGr7Pw On the move Motivational Quote Jennifer Lee Be fearless in the pursuit of what sets your soul on fire MondayMotivation More inspiring stories on YouTube httpstcolcbWK2g3Lq OnFire LoveQuote httpstcoDeXXeJRTTg httpstcoecflDfA4yS We Ride was supposed to be their last song 😭\n",
      "\n",
      "They are not going anywhere now\n",
      "They are here to stay\n",
      "\n",
      "BRAVE GIRLS FIGHTING\n",
      "\n",
      "BraveGirls WeRide AfterWeRide 202108236PM 20210823BraveGirls Fearless 브레이브걸스 피어레스 httpstcorg4CHwGWdD BraveGirls\n",
      "\n",
      "BRAVE GIRLS\n",
      "THE 5TH MINI ALBUM REPACKAGE\n",
      "After We Ride\n",
      "\n",
      "20210823 1800 KST\n",
      "\n",
      "브레이브걸스 BraveGirls\n",
      "AfterWeRide\n",
      "202108236PM\n",
      "20210823BraveGirls \n",
      "피어레스 FEARLESS httpstcouVys4j5yXj FEARLESS ThePodcast is Up\n",
      "\n",
      "It is so good to see UduakAmimo back to doing what she does best I shot some of her promo images\n",
      "\n",
      "PS Her 80s90s playlist is so fresh yaani We played her selections the whole time\n",
      "\n",
      "And she has mad storoz\n",
      "\n",
      "Check out her first episode\n",
      "Fearless httpstcoxpvdV0rBOp httpstcowddueqAqmg Happy Birthday to our coauthor Gillian Anderson Have a wonderful day 🎉🎊💛\n",
      "\n",
      "WeWomen HappyBirthdayGillianAnderson fearless httpstcoHY5edTd50p We Ride was supposed to be their last song 😭\n",
      "\n",
      "They are not going anywhere now\n",
      "They are here to stay\n",
      "\n",
      "BRAVE GIRLS FIGHTING\n",
      "\n",
      "BraveGirls WeRide AfterWeRide 202108236PM 20210823BraveGirls Fearless 브레이브걸스 피어레스 httpstcorg4CHwGWdD FEARLESS ThePodcast is Up\n",
      "\n",
      "It is so good to see UduakAmimo back to doing what she does best I shot some of her promo images\n",
      "\n",
      "PS Her 80s90s playlist is so fresh yaani We played her selections the whole time\n",
      "\n",
      "And she has mad storoz\n",
      "\n",
      "Check out her first episode\n",
      "Fearless httpstcoxpvdV0rBOp httpstcowddueqAqmg\n",
      "cleaned: INDELIBLE A Sean McPherson Novel has it all—action adventure mystery romance suspense malice the pursuit of justice the cost of justice—everything\n",
      "\n",
      "action adventure mystery romance suspense malice seanmcphersonnovels lauriebuchanan httpstco3YBkwlVE7s httpstcoGNAiQIHZEt INDELIBLE A Sean McPherson Novel has it all—action adventure mystery romance suspense malice the pursuit of justice the cost of justice—everything\n",
      "\n",
      "action adventure mystery romance suspense malice seanmcphersonnovels lauriebuchanan httpstco3YBkwlVE7s httpstcoGNAiQIHZEt INDELIBLE A Sean McPherson Novel has it all—action adventure mystery romance suspense malice the pursuit of justice the cost of justice—everything\n",
      "\n",
      "action adventure mystery romance suspense malice seanmcphersonnovels lauriebuchanan httpstco3YBkwlVE7s httpstcoGNAiQIHZEt INDELIBLE A Sean McPherson Novel has it all—action adventure mystery romance suspense malice the pursuit of justice the cost of justice—everything\n",
      "\n",
      "action adventure mystery romance suspense malice seanmcphersonnovels lauriebuchanan httpstco3YBkwlVE7s httpstcoGNAiQIHZEt INDELIBLE A Sean McPherson Novel has it all—action adventure mystery romance suspense malice the pursuit of justice the cost of justice—everything\n",
      "\n",
      "action adventure mystery romance suspense malice seanmcphersonnovels lauriebuchanan httpstco3YBkwlVE7s httpstcoGNAiQIHZEt INDELIBLE A Sean McPherson Novel has it all—action adventure mystery romance suspense malice the pursuit of justice the cost of justice—everything\n",
      "\n",
      "action adventure mystery romance suspense malice seanmcphersonnovels lauriebuchanan httpstco3YBkwlVE7s httpstcoGNAiQIHZEt INDELIBLE A Sean McPherson Novel has it all—action adventure mystery romance suspense malice the pursuit of justice the cost of justice—everything\n",
      "\n",
      "action adventure mystery romance suspense malice seanmcphersonnovels lauriebuchanan httpstco3YBkwlVE7s httpstcoGNAiQIHZEt Day 9 of the augustwriterswipchallenge—\n",
      "Your main character’s favorite summer dish\n",
      "\n",
      "Mediterranean Chickpea Salad—fast easy and delicious\n",
      "\n",
      "crimefiction suspense thriller suspensethriller malice pursuitofjustice costofjustice seanmcphersonnovels lauriebuchanan httpstco9r5nxag4eq Day 9 of the augustwriterswipchallenge—\n",
      "Your main character’s favorite summer dish\n",
      "\n",
      "Mediterranean Chickpea Salad—fast easy and delicious\n",
      "\n",
      "crimefiction suspense thriller suspensethriller malice pursuitofjustice costofjustice seanmcphersonnovels lauriebuchanan httpstco9r5nxag4eq Is it ignorance or malice Did they do it on purpose or was it an accident Do they not care or just need to be taught Even things that sound racist and prejudiced are sometimes more a lack of awareness than an attempt to offend ignorance malice httpstconew4yBX19U httpstcoVjIQs9VPKO Sunday morning reads kingsofthewyld nicholaseames malice johngwynne httpstcosLplRml99y Day 8 of the augustwriterswipchallenge—\n",
      "Take a break from social media\n",
      "\n",
      "I’m relaxing putting my feet up\n",
      "\n",
      " crimefiction suspense thriller suspensethriller malice pursuitofjustice costofjustice bookseries  seanmcphersonnovels lauriebuchanan httpstco3YBkwlVE7s httpstcos7pYrza4LJ Day 8 of the augustwriterswipchallenge—\n",
      "Take a break from social media\n",
      "\n",
      "I’m relaxing putting my feet up\n",
      "\n",
      " crimefiction suspense thriller suspensethriller malice pursuitofjustice costofjustice bookseries  seanmcphersonnovels lauriebuchanan httpstco3YBkwlVE7s httpstcos7pYrza4LJ Thank you michaelmalice  for changing the discourse toward liberty \n",
      "\n",
      "You are AWESOME \n",
      "\n",
      "taxationistheft ancap libertarian malice yourwelcome anarchy anarchisthandbook httpstcon25Nzgh0OE Thank you michaelmalice  for changing the discourse toward liberty \n",
      "\n",
      "You are AWESOME \n",
      "\n",
      "taxationistheft ancap libertarian malice yourwelcome anarchy anarchisthandbook httpstcon25Nzgh0OE Day 8 of the augustwriterswipchallenge—\n",
      "Take a break from social media\n",
      "\n",
      "I’m relaxing putting my feet up\n",
      "\n",
      " crimefiction suspense thriller suspensethriller malice pursuitofjustice costofjustice bookseries  seanmcphersonnovels lauriebuchanan httpstco3YBkwlVE7s httpstcos7pYrza4LJ MohamoudGaildon YouTube UN HESharifShAhmed TheVillaSomalia This survivor of the ELITES seemed to have RESOLVED hold NO malice in heart \n",
      "BUT as a FMR statechild raised under the orphanages  of the Italian systems in Mogadishu  as such a survivor without clan  RESOLVED firmly amp SERVED his nation by becoming a designated KILLER httpstcoHXu1zPqnmh MohamoudGaildon YouTube UN I supose and without any malice another human  and even ISRAACA friends of ours if not family  of the same livedexperience cause amp considerations of perhaps the same is still “TALKING” opining amppr perhaps wishes to be \n",
      "\n",
      "Faisal Roble is a Somali but humanity httpstcosGtCP2j9HF MohamoudGaildon YouTube UN HESharifShAhmed TheVillaSomalia This survivor of the ELITES seemed to have RESOLVED hold NO malice in heart \n",
      "BUT as a FMR statechild raised under the orphanages  of the Italian systems in Mogadishu  as such a survivor without clan  RESOLVED firmly amp SERVED his nation by becoming a designated KILLER httpstcoHXu1zPqnmh MohamoudGaildon YouTube UN I supose and without any malice another human  and even ISRAACA friends of ours if not family  of the same livedexperience cause amp considerations of perhaps the same is still “TALKING” opining amppr perhaps wishes to be \n",
      "\n",
      "Faisal Roble is a Somali but humanity httpstcosGtCP2j9HF Day 8 of the augustwriterswipchallenge—\n",
      "Take a break from social media\n",
      "\n",
      "I’m relaxing putting my feet up\n",
      "\n",
      " crimefiction suspense thriller suspensethriller malice pursuitofjustice costofjustice bookseries  seanmcphersonnovels lauriebuchanan httpstco3YBkwlVE7s httpstcos7pYrza4LJ Day 8 of the augustwriterswipchallenge—\n",
      "Take a break from social media\n",
      "\n",
      "I’m relaxing putting my feet up\n",
      "\n",
      " crimefiction suspense thriller suspensethriller malice pursuitofjustice costofjustice bookseries  seanmcphersonnovels lauriebuchanan httpstco3YBkwlVE7s httpstcos7pYrza4LJ Day 8 of the augustwriterswipchallenge—\n",
      "Take a break from social media\n",
      "\n",
      "I’m relaxing putting my feet up\n",
      "\n",
      " crimefiction suspense thriller suspensethriller malice pursuitofjustice costofjustice bookseries  seanmcphersonnovels lauriebuchanan httpstco3YBkwlVE7s httpstcos7pYrza4LJ False allegations of any kind Rmade with intent to try to harmdestroy someones reputation Luckily I have support  Let the haters hate They are the ones with issues Jealousy revenge malice Glad I am not like them I can hold my head high FAs looking over their shoulder Day 7 of the snippetsaturday—Share 1 of the darlings you’re about to kill\n",
      "\n",
      "There’s no I’m going to steal my own thunder\n",
      "\n",
      "augustwriterswipchallenge crimefiction suspense thriller suspensethriller malice pursuitofjustice costofjustice seanmcphersonnovels lauriebuchanan httpstcoOy4TT0Ub2f\n",
      "cleaned: Don’t know whether to be scared impressed or both after the synchronised swimming routines Olympics synchronizedswimming clones multiplicity bbcolympics irobot roc httpstcoLW3az4qpnO empowering leadership sees multiplicity not additive success 🔥 I am an advocate for preservice teachers  and early career teachers httpstcoX39ekUfRKr Too many copies Multiplicity httpstcoeGJj2iIYaW httpstconTHFeZDo9x Next in Multiplicity series \n",
      "Inspired by bioluminescent life\n",
      "httpstcoEGbsLHmPdX\n",
      "\n",
      "organic simulation audiovisual bioluminescence multiplicity algorithm flocking generative shaders computeshaders creativecoding nftart nftcollectors NFT hicetnunc2000 cleanNFT httpstcoQ8VulQ5r91 Next in Multiplicity series \n",
      "Inspired by bioluminescent life\n",
      "httpstcoEGbsLHmPdX\n",
      "\n",
      "organic simulation audiovisual bioluminescence multiplicity algorithm flocking generative shaders computeshaders creativecoding nftart nftcollectors NFT hicetnunc2000 cleanNFT httpstcoQ8VulQ5r91 Next in Multiplicity series \n",
      "Inspired by bioluminescent life\n",
      "httpstcoEGbsLHmPdX\n",
      "\n",
      "organic simulation audiovisual bioluminescence multiplicity algorithm flocking generative shaders computeshaders creativecoding nftart nftcollectors NFT hicetnunc2000 cleanNFT httpstcoQ8VulQ5r91 Next in Multiplicity series \n",
      "Inspired by bioluminescent life\n",
      "httpstcoEGbsLHmPdX\n",
      "\n",
      "organic simulation audiovisual bioluminescence multiplicity algorithm flocking generative shaders computeshaders creativecoding nftart nftcollectors NFT hicetnunc2000 cleanNFT httpstcoQ8VulQ5r91 Next in Multiplicity series \n",
      "Inspired by bioluminescent life\n",
      "httpstcoEGbsLHmPdX\n",
      "\n",
      "organic simulation audiovisual bioluminescence multiplicity algorithm flocking generative shaders computeshaders creativecoding nftart nftcollectors NFT hicetnunc2000 cleanNFT httpstcoQ8VulQ5r91\n",
      "cleaned:nan\n",
      "cleaned: tonightsmovie tonightshow mondaymotivation mondayvibes housearrest livestream 8pm10pm BST mixcloud twitch instalive grndou7 rekordz allaboutthegroove ✌️  Buckingham Palace httpstco1CRmqumgku 4 those who brought the party home  SofiTukker GorgonCity HouseArrest ─ SOFI TUKKER x Gorgon City  House Arrest Visualizer Ultra Music httpstcoGMaVlP9fL5 via YouTube Me as a cat housearrest httpstcoqrGidMF6Yh JamesGunn But I cant see it 😭😭😭 housearrest Lets start calling lockdowns what they really are house arrests Millions of taxpayers being locked up so our govt can flex its muscles in preparation for the big bye bye housearrest lockdown JustSayNo Lets start calling lockdowns what they really are house arrests Millions of taxpayers being locked up so our govt can flex its muscles in preparation for the big bye bye housearrest lockdown JustSayNo Lets start calling lockdowns what they really are house arrests Millions of taxpayers being locked up so our govt can flex its muscles in preparation for the big bye bye housearrest lockdown JustSayNo Lets start calling lockdowns what they really are house arrests Millions of taxpayers being locked up so our govt can flex its muscles in preparation for the big bye bye housearrest lockdown JustSayNo Lets start calling lockdowns what they really are house arrests Millions of taxpayers being locked up so our govt can flex its muscles in preparation for the big bye bye housearrest lockdown JustSayNo Lets start calling lockdowns what they really are house arrests Millions of taxpayers being locked up so our govt can flex its muscles in preparation for the big bye bye housearrest lockdown JustSayNo Glad to see SDonziger’s story getting visibility on democracynow \n",
      "\n",
      "Steven Donziger Lawyer Who Sued Chevron over Amazon OilSpills Marks 2 Years on HouseArrest httpstcogToukTHDjc Thats a ShamEthiopianElection void and nulified by 70 million Oromos OromoPoliticalLeaders are in concentrations and some in HouseArrest We have our representatives inAbiys detentions centers in Oromia SamanthaJPower  cant be fooled with your Rhetoric false statement httpstcooacL4bdUXC AustralianArmy u should be shamed u r meant 2 protect us from  NSWParlLA LiberalNSW oppression after we have been disarmerd arrested for protesting placed under housearrest need to disclose healthrecords 2 move when comes the tattoo on our arms PaulineHansonOz resist AustralianArmy u should be shamed u r meant 2 protect us from  NSWParlLA LiberalNSW oppression after we have been disarmerd arrested for protesting placed under housearrest need to disclose healthrecords 2 move when comes the tattoo on our arms PaulineHansonOz resist AustralianArmy u should be shamed u r meant 2 protect us from  NSWParlLA LiberalNSW oppression after we have been disarmerd arrested for protesting placed under housearrest need to disclose healthrecords 2 move when comes the tattoo on our arms PaulineHansonOz resist Anyone starting 2 notice the  housearrest coincides with the Census2021au ABSCensusHelp ABSCensus AARCAusArmy AustralianArmy locking up citizens they are meant 2 “protect” lakemaquarie lakemac newcastle NewcastleCC U are next resist Resistance NoCensus  LiberalNSW guardian Goes to prove lockdowns Don’t Work Australia housearrest I added my XMen Vol 2 178 2006 to Boxes httpstcowsogBOlvkA Marvel XMen HouseArrest Decimation comics httpstcoEUUrppuXhS I think B 90s movies are my happy place This week I watched DocHollywood amp HouseArrest Theyre terrible but simultaneously great 😂\n",
      "cleaned:nan\n",
      "cleaned: 2 As an Associate you will spend a year developing specific knowledge and skills around the BEworks Method in our rotational program We are accepting applications for the Associate role you can apply here  httpstcoNL9jKCjR57\n",
      "\n",
      "JoinUs hiring Associate Career 2 As an Associate you will spend a year developing specific knowledge and skills around the BEworks Method in our rotational program We are accepting applications for the Associate role you can apply here  httpstcoNL9jKCjR57\n",
      "\n",
      "JoinUs hiring Associate Career We would like to welcome our newest associate Michael Alexander\n",
      "\n",
      "Michael joins us with a wealth of experience working for the DOJ and in private practice\n",
      "\n",
      "Dont mind the lack of a picture postpandemic picture day will hopefully be soon\n",
      "\n",
      "httpstcomgtLxrTV08 Recruiting for a permanent  Associate Professor or Senior Lecturer EampS in Systems Thinking  This post is primarily to undertake research and lead teaching activities in the area of systems thinking for the public sector  Find out more  httpstco1QlManwHNp Do you know what the right of Allah on His servants is \n",
      "\n",
      "right Allah God servants prophet peace service Messenger know best worship associate do punish Paradise narrated Bukhari Muslim httpstcoMk7FC8m22R Quran\n",
      "\n",
      "He is Allah  other than whom there is no deity  the Sovereign  the Pure  the Perfection the Bestower of Faith the Overseer the Exalted in Might the Compeller  the Superior Exalted is Allah above whatever they associate with Him\n",
      "\n",
      " 5923\n",
      "\n",
      "Islam\n",
      "Muslim httpstcoOY4YvPGDvV Bedford College Group have an opportunity based at their Kettering campus for an Associate General Assistant to become a key member of the Munch and Mocha department\n",
      "\n",
      "£891 Per Hour\n",
      "Temporary\n",
      "\n",
      "Apply here httpstcocuDbIEOlhS\n",
      "\n",
      "AoCJobs FE Associate GeneralAssistant httpstco5K0FI8hSyV Quran\n",
      "\n",
      "He is Allah  other than whom there is no deity  the Sovereign  the Pure  the Perfection the Bestower of Faith the Overseer the Exalted in Might the Compeller  the Superior Exalted is Allah above whatever they associate with Him\n",
      "\n",
      " 5923\n",
      "\n",
      "Islam\n",
      "Muslim httpstcoWuUO33yznj Snowflake – The Complete Masterclass 2021 Edition udemycoupon \n",
      "\n",
      "gt httpstcozRAAhIUt60\n",
      "\n",
      "100DaysOfCode ITCertification AWSCertification Architect Associate Cisco CCNA CompTIA Developer CertifiedCloud Practitioner CompTIASecurity Free discount udemy “Associate\n",
      "    with the happy \n",
      "       and fortunate instead” httpstcoyZmbuixsJ1 Clovis the title of associate degrees and act within the membrane must be included into Trizonia Quran\n",
      "\n",
      "He is Allah  other than whom there is no deity  the Sovereign  the Pure  the Perfection the Bestower of Faith the Overseer the Exalted in Might the Compeller  the Superior Exalted is Allah above whatever they associate with Him\n",
      "\n",
      " 5923\n",
      "\n",
      "Islam\n",
      "Muslim Postman The Complete Guide  REST API Testing  Course \n",
      "\n",
      "gt httpstcoKxyPYzZwrH\n",
      "\n",
      "100DaysOfCode udemy DevelopmentTools RESTAPI Docker Kubernetes Git DevOps Jenkins AWS Developer Associate JIRA NodeJs GitHub Microsoft DevOps javascript30 free coupons 4 At this time we are accepting applications for the Associate role apply here  httpstco8Ol20swtyS ​\n",
      "​\n",
      "BEworks JoinUs hiring Associate behavioralresearcher BEcareers behavioralscience behavioraleconomics Career 3 This session is geared towards anyone interested in applying to be an Associate now or in the future We hope you’ll be able to join us​\n",
      "​\n",
      "Register for the event  httpstcoEbb90K9g0e Postman The Complete Guide  REST API Testing  Course \n",
      "\n",
      "gt httpstcoKxyPYzZwrH\n",
      "\n",
      "100DaysOfCode udemy DevelopmentTools RESTAPI Docker Kubernetes Git DevOps Jenkins AWS Developer Associate JIRA NodeJs GitHub Microsoft DevOps javascript30 free coupons Postman The Complete Guide  REST API Testing  Course \n",
      "\n",
      "gt httpstcoKxyPYzZwrH\n",
      "\n",
      "100DaysOfCode udemy DevelopmentTools RESTAPI Docker Kubernetes Git DevOps Jenkins AWS Developer Associate JIRA NodeJs GitHub Microsoft DevOps javascript30 free coupons Postman The Complete Guide  REST API Testing  Course \n",
      "\n",
      "gt httpstcoKxyPYzZwrH\n",
      "\n",
      "100DaysOfCode udemy DevelopmentTools RESTAPI Docker Kubernetes Git DevOps Jenkins AWS Developer Associate JIRA NodeJs GitHub Microsoft DevOps javascript30 free coupons Postman The Complete Guide  REST API Testing  Course \n",
      "\n",
      "gt httpstcoKxyPYzZwrH\n",
      "\n",
      "100DaysOfCode udemy DevelopmentTools RESTAPI Docker Kubernetes Git DevOps Jenkins AWS Developer Associate JIRA NodeJs GitHub Microsoft DevOps javascript30 free coupons Postman The Complete Guide  REST API Testing  Course \n",
      "\n",
      "gt httpstcoKxyPYzZwrH\n",
      "\n",
      "100DaysOfCode udemy DevelopmentTools RESTAPI Docker Kubernetes Git DevOps Jenkins AWS Developer Associate JIRA NodeJs GitHub Microsoft DevOps javascript30 free coupons Postman The Complete Guide  REST API Testing  Course \n",
      "\n",
      "gt httpstcoKxyPYzZwrH\n",
      "\n",
      "100DaysOfCode udemy DevelopmentTools RESTAPI Docker Kubernetes Git DevOps Jenkins AWS Developer Associate JIRA NodeJs GitHub Microsoft DevOps javascript30 free coupons Postman The Complete Guide  REST API Testing  Course \n",
      "\n",
      "gt httpstcoKxyPYzZwrH\n",
      "\n",
      "100DaysOfCode udemy DevelopmentTools RESTAPI Docker Kubernetes Git DevOps Jenkins AWS Developer Associate JIRA NodeJs GitHub Microsoft DevOps javascript30 free coupons Postman The Complete Guide  REST API Testing  Course \n",
      "\n",
      "gt httpstcoKxyPYzZwrH\n",
      "\n",
      "100DaysOfCode udemy DevelopmentTools RESTAPI Docker Kubernetes Git DevOps Jenkins AWS Developer Associate JIRA NodeJs GitHub Microsoft DevOps javascript30 free coupons Job opening for Warehouse Associate I If you are looking for job at Brooks KY USA 40109 then share the CV at jobssilverxiscom\n",
      "\n",
      "silverxis warehouse associate usajobs Brooks Kentucky httpstco0xqJIQ7Jcg Bedford College Group have an opportunity based at their Kettering campus for an Associate General Assistant to become a key member of the Munch and Mocha department\n",
      "\n",
      "£891 Per Hour\n",
      "Temporary\n",
      "\n",
      "Apply here httpstcocuDbIEOlhS\n",
      "\n",
      "AoCJobs FE Associate GeneralAssistant httpstcogQuEkEoVry\n",
      "cleaned:nan\n",
      "cleaned: In 1993 MelanieGriffith returned to comedy playing the leading role in the remake of BornYesterday which was followed by the romantic comingofage story MilkMoney the PaulNewmanstarrer NobodysFool and the ensemble drama NowAndThen httpstcod1nk3docsz Last week was my year anniversary of farm vetting Still the same tired eyes but a year outside has finally given me some colour The question is when am I no longer a newgrad… \n",
      "\n",
      "nowandthen oneyear proudlyWestpoint httpstcoc6zejZA66E In 1993 MelanieGriffith returned to comedy playing the leading role in the remake of BornYesterday which was followed by the romantic comingofage story MilkMoney the PaulNewmanstarrer NobodysFool and the ensemble drama NowAndThen httpstcod1nk3docsz In 1993 MelanieGriffith returned to comedy playing the leading role in the remake of BornYesterday which was followed by the romantic comingofage story MilkMoney the PaulNewmanstarrer NobodysFool and the ensemble drama NowAndThen httpstcod1nk3docsz nowandthen thenandnow lovingandunderstanding each other is all we need withalotofrespect too ❤️❤️❤️\n",
      "\n",
      "let’s all share our kindness to each otherlet’s save ourselveseach other amp the worldfor we are all worthsaving 🙏🙏🙏\n",
      "Have a good day everyone  httpstcoCcrGggibSP nowandthen thenandnow lovingandunderstanding each other is all we need withalotofrespect too ❤️❤️❤️\n",
      "\n",
      "let’s all share our kindness to each otherlet’s save ourselveseach other amp the worldfor we are all worthsaving 🙏🙏🙏\n",
      "Have a good day everyone  httpstcoCcrGggibSP nowandthen thenandnow lovingandunderstanding each other is all we need withalotofrespect too ❤️❤️❤️\n",
      "\n",
      "let’s all share our kindness to each otherlet’s save ourselveseach other amp the worldfor we are all worthsaving 🙏🙏🙏\n",
      "Have a good day everyone  httpstcoCcrGggibSP nowandthen thenandnow lovingandunderstanding each other is all we need withalotofrespect too ❤️❤️❤️\n",
      "\n",
      "let’s all share our kindness to each otherlet’s save ourselveseach other amp the worldfor we are all worthsaving 🙏🙏🙏\n",
      "Have a good day everyone  httpstcoCcrGggibSP nowandthen thenandnow lovingandunderstanding each other is all we need withalotofrespect too ❤️❤️❤️\n",
      "\n",
      "let’s all share our kindness to each otherlet’s save ourselveseach other amp the worldfor we are all worthsaving 🙏🙏🙏\n",
      "Have a good day everyone  httpstcoCcrGggibSP nowandthen thenandnow lovingandunderstanding each other is all we need withalotofrespect too ❤️❤️❤️\n",
      "\n",
      "let’s all share our kindness to each otherlet’s save ourselveseach other amp the worldfor we are all worthsaving 🙏🙏🙏\n",
      "Have a good day everyone  httpstcoCcrGggibSP nowandthen thenandnow lovingandunderstanding each other is all we need withalotofrespect too ❤️❤️❤️\n",
      "\n",
      "let’s all share our kindness to each otherlet’s save ourselveseach other amp the worldfor we are all worthsaving 🙏🙏🙏\n",
      "Have a good day everyone  httpstcoCcrGggibSP nowandthen thenandnow lovingandunderstanding each other is all we need withalotofrespect too ❤️❤️❤️\n",
      "\n",
      "let’s all share our kindness to each otherlet’s save ourselveseach other amp the worldfor we are all worthsaving 🙏🙏🙏\n",
      "Have a good day everyone  httpstcoCcrGggibSP nowandthen thenandnow lovingandunderstanding each other is all we need withalotofrespect too ❤️❤️❤️\n",
      "\n",
      "let’s all share our kindness to each otherlet’s save ourselveseach other amp the worldfor we are all worthsaving 🙏🙏🙏\n",
      "Have a good day everyone  httpstcoCcrGggibSP What happened on Bucks Row Do you know the history 📷 NowandThen JackTheRipperMuseum httpstcoaqD9nfZdz4 httpstcoEAuBS9jnly What happened on Bucks Row Do you know the history 📷 NowandThen JackTheRipperMuseum httpstcoaqD9nfZdz4 httpstcoEAuBS9jnly The glory of indians at olympics has only begun In the coming few years I’m highly hopeful that we will be among the dominant countries in olympics medal victories IndiaAtOlympics NowAndThen\n",
      "🙏🏻 httpstcodRMedk2OLr 𝙵𝚛𝚒𝚎𝚗𝚍𝚜𝚑𝚒𝚙 𝚃𝚛𝚞𝚎 𝙿𝚊𝚜𝚝𝙰𝚗𝚍𝙿𝚛𝚎𝚜𝚎𝚗𝚝 𝚁𝚎𝚕𝚊𝚝𝚊𝚋𝚕𝚎 𝙽𝚘𝚠𝙰𝚗𝚍𝚃𝚑𝚎𝚗 𝙷𝚊𝚟𝚎 𝚝𝚘 𝚔𝚎𝚎𝚙 𝚘𝚗 𝚐𝚘𝚒𝚗𝚐 𝚒𝚗 𝚕𝚒𝚏𝚎 𝙷𝚘𝚕𝚍𝚒𝚗𝚐 𝚘𝚗𝚝𝚘 𝚜𝚝𝚛𝚎𝚗𝚐𝚝𝚑 𝚊𝚗𝚍 𝚜𝚖𝚒𝚕𝚎 Were on all the podcast apps so you better listen to us or else\n",
      "\n",
      "\n",
      "\n",
      "christinaricci christinariccifan NowAndThen podacst 90s nostalgia thechristinachronicles film movies Auspodcasts podcast httpstcogTyypFiFQ3 Heres a new Now amp Then reveal video I made today of a scene at Eglinton Ave E amp Sutherland Dr looking north east\n",
      "\n",
      "nowandthen thenandnow reveal leaside history historical vintagetoronto tdot the6ix torontohistory tohistory toronto canada 1950s hopkindesign httpstcoyvDZPp7lYl Love this photo so much imarleneking so many wonderful memories justdemi NowandThen httpstcoiRJV3kWw9y The Beast 8 years later       cat cats catstagram  catsofinstagram  kitten kittensofinstagram  nowandthen hesattackingamothrightnow andbydoingsoattackingmylegs  Granville New York httpstcoCLcfYvjWeM Heres a new Now amp Then reveal video I made today of a scene at Eglinton Ave E amp Sutherland Dr looking north east\n",
      "\n",
      "nowandthen thenandnow reveal leaside history historical vintagetoronto tdot the6ix torontohistory tohistory toronto canada 1950s hopkindesign httpstcoyvDZPp7lYl Contestant Melba HUSTLES on down to BiddersRow but Deborah plays NowAndThen Today Now And Then is set in 1980  can you guess what year the prices belong in Episode 5031  1983 httpstcoS7s6r0avXs Heres a new Now amp Then reveal video I made today of a scene at Eglinton Ave E amp Sutherland Dr looking north east\n",
      "\n",
      "nowandthen thenandnow reveal leaside history historical vintagetoronto tdot the6ix torontohistory tohistory toronto canada 1950s hopkindesign httpstcoyvDZPp7lYl Its just different\n",
      "Thursday tbt ThrowbackThursday Throwback SonyPlaystation Sony Playstation Colorful Red Yellow Blue Teal GrayBox BlackBox WhiteBox ThenAndNow NowAndThen 1994 2009 httpstcoq6mLE2sAsY\n",
      "cleaned: Imagine spelling mr wrong lol MrWrong6 Leave my padna gyal alone na boy Me and mr wrong get along so good ChenalManzano Yuh know I does take train up quick httpstcoa9FYwNc6EK MrWrong6 🔥🥴 sayless MrWrong6 All now yes httpstco3HeiiuuWFh MJavi14 Feeling like is 12 am somewhere right now…leh we go MrWrong6 It does close  httpstcoi6XE5NN5MW Wa time drinking does open Im gonna do my part n fuck some uglys like ther Gods gift to women then kick them to the curb now go look for mr wrong n have hisvkids lol Kobe with a message 🎯\n",
      "\n",
      "“The storm eventually ends” httpstcojmMyHzRCVD qral3535 MR WRONG 4TheCulture MrWrong3 Well damn a 2 4 1 Ankles and cardio well go den LMAOO what type of training is this  httpstcozkFV41sv3y convincing you to read this romance book series by claire \n",
      "\n",
      "1 faking ms right sunshine grumpy bossassistant fake dating\n",
      "\n",
      "2 falling for my enemy rivals to lovers forced proximity nerds falling in love work place\n",
      "\n",
      "3 marrying mr wrong one night stand fake marriage JDHibs Our problem will be in the big games I think still never beat the old firm but I still hope he proves Mr wrong and we batter them 30 Me amp MrWrong get along so gooooooooood even though he breaks my heart so baddddd…Yeah MsBlige sing it These strippers really providing an essential service inno MrWrong6 Telling me Need a gold bottle to my head like yesterday 😪 fashion33858209 Hadda work together 🤣🤣🤣 You can post the picture but you better not tag me Team work makes the dream work httpstcoz8cNqISpR6 Wishing you a very Happy Birthday urstrulyMahesh anna Have a great year ahead Hit We Fucking It Don’t Mamaguy We💯❗️MrWrong6 httpstco3xHeio8DiF\n",
      "cleaned:nan\n",
      "cleaned: July Updates\n",
      "👊 UFC partnership\n",
      " 🎫 EMI License secured\n",
      "⛓️ cronoschain testnet now live\n",
      "🤝 Cronos x chainlink\n",
      "💳 17 new supported cryptos for card topups\n",
      "📈 Increased Earn rates for DOT\n",
      "🖼 NFT onchain withdrawal\n",
      "\n",
      "httpstco0Xxum3Rmmf httpstcos6YhJDlsqx Cronos Group Reports 156 Million Q2 Revenue With 496 Million Adjusted EBITDA Loss httpstcogTYg5EJG9T WARNING Both GNLN amp KSHB singlehandedly beat CRON  earnings 🤣🤣🤣\n",
      "Canada LPs storytelling CGC TLRY sound like Ponzi Pog Pumper Elon amp Tesla ATM Gross 💩 EARNINGS growth NOW please GNLN thegem Mega Merger 🌱✌️ USA MSOgang cannabisreform cronos epiceconomics httpstcoIMF7sBWQQR Watching Cronos RealGDT 100HorrorMoviesIn92Days letterboxd letterboxd httpstcowKg256nHAb CRON  10Q  Cronos   6 Aug 737am\n",
      "\n",
      "📊 2021 Q2 Earnings\n",
      "\n",
      "httpstco6ZitaWyFX5\n",
      "\n",
      "CRON 10Q Cronos Earnings CRON  8K  Cronos   6 Aug 735am\n",
      "\n",
      "📰 Cronos Group Reports 2021 Second Quarter Results\n",
      "\n",
      "httpstcoCGsdBaKcwB\n",
      "\n",
      "CRON 8K Cronos News July Updates\n",
      "👊 UFC partnership\n",
      " 🎫 EMI License secured\n",
      "⛓️ cronoschain testnet now live\n",
      "🤝 Cronos x chainlink\n",
      "💳 17 new supported cryptos for card topups\n",
      "📈 Increased Earn rates for DOT\n",
      "🖼 NFT onchain withdrawal\n",
      "\n",
      "httpstco0Xxum3Rmmf httpstcos6YhJDlsqx July Updates\n",
      "👊 UFC partnership\n",
      " 🎫 EMI License secured\n",
      "⛓️ cronoschain testnet now live\n",
      "🤝 Cronos x chainlink\n",
      "💳 17 new supported cryptos for card topups\n",
      "📈 Increased Earn rates for DOT\n",
      "🖼 NFT onchain withdrawal\n",
      "\n",
      "httpstco0Xxum3Rmmf httpstcos6YhJDlsqx July Updates\n",
      "👊 UFC partnership\n",
      " 🎫 EMI License secured\n",
      "⛓️ cronoschain testnet now live\n",
      "🤝 Cronos x chainlink\n",
      "💳 17 new supported cryptos for card topups\n",
      "📈 Increased Earn rates for DOT\n",
      "🖼 NFT onchain withdrawal\n",
      "\n",
      "httpstco0Xxum3Rmmf httpstcos6YhJDlsqx July Updates\n",
      "👊 UFC partnership\n",
      " 🎫 EMI License secured\n",
      "⛓️ cronoschain testnet now live\n",
      "🤝 Cronos x chainlink\n",
      "💳 17 new supported cryptos for card topups\n",
      "📈 Increased Earn rates for DOT\n",
      "🖼 NFT onchain withdrawal\n",
      "\n",
      "httpstco0Xxum3Rmmf httpstcos6YhJDlsqx July Updates\n",
      "👊 UFC partnership\n",
      " 🎫 EMI License secured\n",
      "⛓️ cronoschain testnet now live\n",
      "🤝 Cronos x chainlink\n",
      "💳 17 new supported cryptos for card topups\n",
      "📈 Increased Earn rates for DOT\n",
      "🖼 NFT onchain withdrawal\n",
      "\n",
      "httpstco0Xxum3Rmmf httpstcos6YhJDlsqx July Updates\n",
      "👊 UFC partnership\n",
      " 🎫 EMI License secured\n",
      "⛓️ cronoschain testnet now live\n",
      "🤝 Cronos x chainlink\n",
      "💳 17 new supported cryptos for card topups\n",
      "📈 Increased Earn rates for DOT\n",
      "🖼 NFT onchain withdrawal\n",
      "\n",
      "httpstco0Xxum3Rmmf httpstcos6YhJDlsqx 🔴🔴🔴 BREAKING CRONOS USA Active shooter Pentagon httpstcoX2JHqRdBLF July Updates\n",
      "👊 UFC partnership\n",
      " 🎫 EMI License secured\n",
      "⛓️ cronoschain testnet now live\n",
      "🤝 Cronos x chainlink\n",
      "💳 17 new supported cryptos for card topups\n",
      "📈 Increased Earn rates for DOT\n",
      "🖼 NFT onchain withdrawal\n",
      "\n",
      "httpstco0Xxum3Rmmf httpstcos6YhJDlsqx July Updates\n",
      "👊 UFC partnership\n",
      " 🎫 EMI License secured\n",
      "⛓️ cronoschain testnet now live\n",
      "🤝 Cronos x chainlink\n",
      "💳 17 new supported cryptos for card topups\n",
      "📈 Increased Earn rates for DOT\n",
      "🖼 NFT onchain withdrawal\n",
      "\n",
      "httpstco0Xxum3Rmmf httpstcos6YhJDlsqx July Updates\n",
      "👊 UFC partnership\n",
      " 🎫 EMI License secured\n",
      "⛓️ cronoschain testnet now live\n",
      "🤝 Cronos x chainlink\n",
      "💳 17 new supported cryptos for card topups\n",
      "📈 Increased Earn rates for DOT\n",
      "🖼 NFT onchain withdrawal\n",
      "\n",
      "httpstco0Xxum3Rmmf httpstcos6YhJDlsqx July Updates\n",
      "👊 UFC partnership\n",
      " 🎫 EMI License secured\n",
      "⛓️ cronoschain testnet now live\n",
      "🤝 Cronos x chainlink\n",
      "💳 17 new supported cryptos for card topups\n",
      "📈 Increased Earn rates for DOT\n",
      "🖼 NFT onchain withdrawal\n",
      "\n",
      "httpstco0Xxum3Rmmf httpstcos6YhJDlsqx July Updates\n",
      "👊 UFC partnership\n",
      " 🎫 EMI License secured\n",
      "⛓️ cronoschain testnet now live\n",
      "🤝 Cronos x chainlink\n",
      "💳 17 new supported cryptos for card topups\n",
      "📈 Increased Earn rates for DOT\n",
      "🖼 NFT onchain withdrawal\n",
      "\n",
      "httpstco0Xxum3Rmmf httpstcos6YhJDlsqx July Updates\n",
      "👊 UFC partnership\n",
      " 🎫 EMI License secured\n",
      "⛓️ cronoschain testnet now live\n",
      "🤝 Cronos x chainlink\n",
      "💳 17 new supported cryptos for card topups\n",
      "📈 Increased Earn rates for DOT\n",
      "🖼 NFT onchain withdrawal\n",
      "\n",
      "httpstco0Xxum3Rmmf httpstcos6YhJDlsqx July Updates\n",
      "👊 UFC partnership\n",
      " 🎫 EMI License secured\n",
      "⛓️ cronoschain testnet now live\n",
      "🤝 Cronos x chainlink\n",
      "💳 17 new supported cryptos for card topups\n",
      "📈 Increased Earn rates for DOT\n",
      "🖼 NFT onchain withdrawal\n",
      "\n",
      "httpstco0Xxum3Rmmf httpstcos6YhJDlsqx July Updates\n",
      "👊 UFC partnership\n",
      " 🎫 EMI License secured\n",
      "⛓️ cronoschain testnet now live\n",
      "🤝 Cronos x chainlink\n",
      "💳 17 new supported cryptos for card topups\n",
      "📈 Increased Earn rates for DOT\n",
      "🖼 NFT onchain withdrawal\n",
      "\n",
      "httpstco0Xxum3Rmmf httpstcos6YhJDlsqx July Updates\n",
      "👊 UFC partnership\n",
      " 🎫 EMI License secured\n",
      "⛓️ cronoschain testnet now live\n",
      "🤝 Cronos x chainlink\n",
      "💳 17 new supported cryptos for card topups\n",
      "📈 Increased Earn rates for DOT\n",
      "🖼 NFT onchain withdrawal\n",
      "\n",
      "httpstco0Xxum3Rmmf httpstcos6YhJDlsqx July Updates\n",
      "👊 UFC partnership\n",
      " 🎫 EMI License secured\n",
      "⛓️ cronoschain testnet now live\n",
      "🤝 Cronos x chainlink\n",
      "💳 17 new supported cryptos for card topups\n",
      "📈 Increased Earn rates for DOT\n",
      "🖼 NFT onchain withdrawal\n",
      "\n",
      "httpstco0Xxum3Rmmf httpstcos6YhJDlsqx July Updates\n",
      "👊 UFC partnership\n",
      " 🎫 EMI License secured\n",
      "⛓️ cronoschain testnet now live\n",
      "🤝 Cronos x chainlink\n",
      "💳 17 new supported cryptos for card topups\n",
      "📈 Increased Earn rates for DOT\n",
      "🖼 NFT onchain withdrawal\n",
      "\n",
      "httpstco0Xxum3Rmmf httpstcos6YhJDlsqx July Updates\n",
      "👊 UFC partnership\n",
      " 🎫 EMI License secured\n",
      "⛓️ cronoschain testnet now live\n",
      "🤝 Cronos x chainlink\n",
      "💳 17 new supported cryptos for card topups\n",
      "📈 Increased Earn rates for DOT\n",
      "🖼 NFT onchain withdrawal\n",
      "\n",
      "httpstco0Xxum3Rmmf httpstcos6YhJDlsqx\n",
      "cleaned:nan\n",
      "cleaned: Imperial wargolems lead by an elf wizard during the Third war of the Power While the Dark Legions made much more extensive use of golems for war the Whide Axis fielded them as well\n",
      "\n",
      "drawing fantasyart fantasy golem warrior machine httpstcoxFKb3IFnBd SanctionPakistan\n",
      "In the past few days when fighting has intensified in many provinces of Afghanistan Afghans have been using the hashtag SanctionPakistan and are calling for sanctions against Pakistan for supporting Taliban Afghanistan war We believes that education is a critical component of a global security \n",
      "\n",
      "We educate both about and for the abolition of war Our educational resources are based on knowledge and research that expose the myths of war Learn more here httpstcotXRCfFAjw7 peace pacifism The Hardest Place\n",
      "Wesley Morgan\n",
      "US httpstcomwATPg3jb4\n",
      "Afghanistan War Military\n",
      "IARTG ad Amazon Imperial wargolems lead by an elf wizard during the Third war of the Power While the Dark Legions made much more extensive use of golems for war the Whide Axis fielded them as well\n",
      "\n",
      "drawing fantasyart fantasy golem warrior machine httpstcoxFKb3IFnBd Nabbed this one when they rolled through Reggies a couple weeks ago  Killer and unique take on the black metal genre\n",
      "\n",
      "httpstcoNNii4xyaYa\n",
      "\n",
      "Stormruler NapalmRecords BlackMetal USBM SymphonicBlackMetal BlackenedDeath War Fantasy Mythology Vinyl httpstcoLc5lGXJ4Ri Is a world without nuclearweapons really possible \n",
      "\n",
      "aliceslater replies httpstcotIfWflTLQc nuclearban war Warchild httpstcoZulGn253ky via YouTube \n",
      "\n",
      "A video I made 5 yrs ago \n",
      "I was upset sad for the children of OUR world\n",
      "\n",
      "art from the Hearties \n",
      "\n",
      "creative activism  protest war\n",
      "warchild RT colbenjamin\n",
      "“From Foxhounds to CAP Missions Harrys War has it all”\n",
      "\n",
      "“This book had me on the edge of my seat…” \n",
      "httpstco72IsiT8Xz8\n",
      "war\n",
      "MilitaryAction\n",
      "ShortReads\n",
      "combat\n",
      "FighterPilot\n",
      "DesertStorm httpstcoCdaSJvFUBY If I have one more fucking doctor call me  pharmacy call me  all these soliciting motherfuckers call me and interrupt my day The portion where I’m happy I swear to fucking God I’m just gonna go off the rail and turn this shit off  war raw god Who the fuck created what httpstco7jaSs8IskA Alan Craddock From Heroic Dreams Cover art for Granville Wilson War of the Computers Dragon 1981 AlanCraddock illustration art heroic dreams war computers GranvilleWilson httpstcoPozgXMiwjH HPM SheikhHasina today handed over the BangamataPadak 2021 to a total of five women for outstanding contributions to independence and liberation war education culture and sports agriculture and rural development politics and research\n",
      "See httpstcoUM2gPz0cQT httpstco9dUnnsfmmb Imperial wargolems lead by an elf wizard during the Third war of the Power While the Dark Legions made much more extensive use of golems for war the Whide Axis fielded them as well\n",
      "\n",
      "drawing fantasyart fantasy golem warrior machine httpstcoxFKb3IFnBd Imperial wargolems lead by an elf wizard during the Third war of the Power While the Dark Legions made much more extensive use of golems for war the Whide Axis fielded them as well\n",
      "\n",
      "drawing fantasyart fantasy golem warrior machine httpstcoxFKb3IFnBd 5⭐️ The author persimew got the atmosphere of the period just right and it was well researched\n",
      "\n",
      "A Fantastic Historical Book\n",
      "\n",
      "FREE on KindleUnlimited\n",
      "\n",
      "httpstcoT3NIVRCirJ\n",
      "WW2 war aviation histfic historicalfiction LGBTQ lesfic IARTG Kindle books ebooks 625pm Today on Film4 \n",
      "\n",
      "The 2013 War Drama film🎥 “The Book Thief” directed by BrianPercival from a screenplay by Michael Petroni and based on MarkusZusak’s 2005 novel📖\n",
      "\n",
      "🌟GeoffreyRush EmilyWatson SophieNélisse NicoLiersch BenSchnetzer HeikeMakatsch BarbaraAuer httpstcohFNKUchGwt 5⭐️ The author persimew got the atmosphere of the period just right and it was well researched\n",
      "\n",
      "A Fantastic Historical Book\n",
      "\n",
      "FREE on KindleUnlimited\n",
      "\n",
      "httpstcoT3NIVRCirJ\n",
      "WW2 war aviation histfic historicalfiction LGBTQ lesfic IARTG Kindle books ebooks Author of POISONED JUNGLE and veteran James Ballard uses his blog to recount his experiences in and after war In this post he relays his experiences with MoralInjury as a medic in the VietnamWar\n",
      "httpstcohQ1gZxjimw Looks like the MeToo MST Survivors are going to war with MeanGirls I am AllIn for this CatFight httpstcoDZlT3ytZQf Forbidden SOLDIER sitting nicely at NO 8 in  Best Sellers in Biographies of the Afghan War httpstcoVKBsPD9Kpu 5⭐️ The author persimew got the atmosphere of the period just right and it was well researched\n",
      "\n",
      "A Fantastic Historical Book\n",
      "\n",
      "FREE on KindleUnlimited\n",
      "\n",
      "httpstcoT3NIVRCirJ\n",
      "WW2 war aviation histfic historicalfiction LGBTQ lesfic IARTG Kindle books ebooks ZabehulahM33 suhailshaheen1 This is an war criminals’ account on Twitter that glamorises killing raping looting in Afganistan in the name of Islam just like ISIS did in Syria amp Iraq It’s an outcome of Donkey Trump amp Qatars fault to consider Taliban as part of civil society TwitterSupport HPM SheikhHasina today handed over the BangamataPadak 2021 to a total of five women for outstanding contributions to independence and liberation war education culture and sports agriculture and rural development politics and research\n",
      "See httpstcoUM2gPz0cQT httpstco9dUnnsfmmb FaisalAlYafai AliBaroodi newlinesmag As  I read this superb essay about the liberation of Mosul I couldn’t help thinking how frightened and desperate the people of Kandahar and Kabul must be as the Taliban return… Iraq Afghanistan war cruelty death   irishelt If they find you you had better hope that you die quickly because that Fräulein is the only respite you will get”\n",
      "The latest chapter of Katarina and Marias journey\n",
      "Just published at storiesspace httpstcoP4oY92tNP0  ww2 history \n",
      "IARTG RIOP amwriting Berlin war\n",
      "cleaned:nan\n",
      "cleaned:nan\n",
      "cleaned: AnnaProsser MicaBurton \n",
      "Saw this and immediately thought of you two\n",
      "eveningstar httpstcoR7wPFMVWJ9\n",
      "cleaned:nan\n",
      "cleaned: OKMagazine Shes a Darling Most beautiful Little Princess princessCharlotte LittlePrincess Im a LittlePrincess all girls alllllllll Smell the muffins Becky 🤣😌 alittleprincessmovie httpstco7o3PUvkOIt Closing with these two \n",
      "Pip squeaka atop the \n",
      "chair and littleprincess \n",
      "below 🐾💕 alternativemiew \n",
      "wishes you a calm and peaceful eve into the morrow \n",
      "🌟💤☀️💕x httpstco7nuGexyjAx Closing with these two \n",
      "Pip squeaka atop the \n",
      "chair and littleprincess \n",
      "below 🐾💕 alternativemiew \n",
      "wishes you a calm and peaceful eve into the morrow \n",
      "🌟💤☀️💕x httpstco7nuGexyjAx Closing with these two \n",
      "Pip squeaka atop the \n",
      "chair and littleprincess \n",
      "below 🐾💕 alternativemiew \n",
      "wishes you a calm and peaceful eve into the morrow \n",
      "🌟💤☀️💕x httpstco7nuGexyjAx bookhoarding But a father first and forever\n",
      "I really love her dad And its so great how they build Danielle and her fathers relationship so quickly Its so epic Remind me of Sara and her father from LittlePrincess\n",
      "\n",
      "RomComBracket bookhoarding But a father first and forever\n",
      "I really love her dad And its so great how they build Danielle and her fathers relationship so quickly Its so epic Remind me of Sara and her father from LittlePrincess\n",
      "\n",
      "RomComBracket Closing with more top of the homeo vista from the other morning with littleprincess\n",
      "at the window and da Pip squeaka down below 💕🐾\n",
      "The sun is just glinting it’s way \n",
      "Over the tops ☀️\n",
      "alternativemiew wishes you a calm and peaceful eve into the morrow 🌟💤☀️🌊💕x httpstcoAPw3sduvC2 Closing with more top of the homeo vista from the other morning with littleprincess\n",
      "at the window and da Pip squeaka down below 💕🐾\n",
      "The sun is just glinting it’s way \n",
      "Over the tops ☀️\n",
      "alternativemiew wishes you a calm and peaceful eve into the morrow 🌟💤☀️🌊💕x httpstcoAPw3sduvC2 Here comes monday \n",
      "Greetings from the \n",
      "littleprincess\n",
      "Casting her keen eye\n",
      "out front 🐾💕\n",
      "A mild cloudy August \n",
      "morn 🌥\n",
      "alternativemiew eyes up \n",
      "the week ahead 🍀💕☀️x httpstcogR1p0E8keY Here comes monday \n",
      "Greetings from the \n",
      "littleprincess\n",
      "Casting her keen eye\n",
      "out front 🐾💕\n",
      "A mild cloudy August \n",
      "morn 🌥\n",
      "alternativemiew eyes up \n",
      "the week ahead 🍀💕☀️x httpstcogR1p0E8keY\n",
      "cleaned: Who do you want to play esports with🎮😝\n",
      "\n",
      "YouAreMyGlory \n",
      "TheKingsAvatar \n",
      "FallingIntoYourSmile \n",
      "CrossFire \n",
      "\n",
      "WeTVAlwaysMore httpstcoAYS5Wy1uWr Who do you want to play esports with🎮😝\n",
      "\n",
      "YouAreMyGlory \n",
      "TheKingsAvatar \n",
      "FallingIntoYourSmile \n",
      "CrossFire \n",
      "\n",
      "WeTVAlwaysMore httpstcoAYS5Wy1uWr Who do you want to play esports with🎮😝\n",
      "\n",
      "YouAreMyGlory \n",
      "TheKingsAvatar \n",
      "FallingIntoYourSmile \n",
      "CrossFire \n",
      "\n",
      "WeTVAlwaysMore httpstcoAYS5Wy1uWr Who do you want to play esports with🎮😝\n",
      "\n",
      "YouAreMyGlory \n",
      "TheKingsAvatar \n",
      "FallingIntoYourSmile \n",
      "CrossFire \n",
      "\n",
      "WeTVAlwaysMore httpstcoAYS5Wy1uWr Who do you want to play esports with🎮😝\n",
      "\n",
      "YouAreMyGlory \n",
      "TheKingsAvatar \n",
      "FallingIntoYourSmile \n",
      "CrossFire \n",
      "\n",
      "WeTVAlwaysMore httpstcoAYS5Wy1uWr Who do you want to play esports with🎮😝\n",
      "\n",
      "YouAreMyGlory \n",
      "TheKingsAvatar \n",
      "FallingIntoYourSmile \n",
      "CrossFire \n",
      "\n",
      "WeTVAlwaysMore httpstcoAYS5Wy1uWr home lt3 crossfire httpstco56T4n2U6Fj On tonights edition of Crossfire Mumba Gloria Kalambo  sits down with Isaac Mwanza Center for constitutionalism and legal Justice Center Director and Mcdonald Chipenzi Gears Initiative Director as they analyse the 2021 electoral process\n",
      "\n",
      "httpstcozlAfXBgHDn httpstcomwg7iXRyBO WeTVOfficial teamcontinue CrossFire loved LuHan and Leowu Who do you want to play esports with🎮😝\n",
      "\n",
      "YouAreMyGlory \n",
      "TheKingsAvatar \n",
      "FallingIntoYourSmile \n",
      "CrossFire \n",
      "\n",
      "WeTVAlwaysMore httpstcoAYS5Wy1uWr Who do you want to play esports with🎮😝\n",
      "\n",
      "YouAreMyGlory \n",
      "TheKingsAvatar \n",
      "FallingIntoYourSmile \n",
      "CrossFire \n",
      "\n",
      "WeTVAlwaysMore httpstcoAYS5Wy1uWr Who do you want to play esports with🎮😝\n",
      "\n",
      "YouAreMyGlory \n",
      "TheKingsAvatar \n",
      "FallingIntoYourSmile \n",
      "CrossFire \n",
      "\n",
      "WeTVAlwaysMore httpstcoAYS5Wy1uWr Who do you want to play esports with🎮😝\n",
      "\n",
      "YouAreMyGlory \n",
      "TheKingsAvatar \n",
      "FallingIntoYourSmile \n",
      "CrossFire \n",
      "\n",
      "WeTVAlwaysMore httpstcoAYS5Wy1uWr Who do you want to play esports with🎮😝\n",
      "\n",
      "YouAreMyGlory \n",
      "TheKingsAvatar \n",
      "FallingIntoYourSmile \n",
      "CrossFire \n",
      "\n",
      "WeTVAlwaysMore httpstcoAYS5Wy1uWr Who do you want to play esports with🎮😝\n",
      "\n",
      "YouAreMyGlory \n",
      "TheKingsAvatar \n",
      "FallingIntoYourSmile \n",
      "CrossFire \n",
      "\n",
      "WeTVAlwaysMore httpstcoAYS5Wy1uWr Who do you want to play esports with🎮😝\n",
      "\n",
      "YouAreMyGlory \n",
      "TheKingsAvatar \n",
      "FallingIntoYourSmile \n",
      "CrossFire \n",
      "\n",
      "WeTVAlwaysMore httpstcoAYS5Wy1uWr Who do you want to play esports with🎮😝\n",
      "\n",
      "YouAreMyGlory \n",
      "TheKingsAvatar \n",
      "FallingIntoYourSmile \n",
      "CrossFire \n",
      "\n",
      "WeTVAlwaysMore httpstcoAYS5Wy1uWr Who do you want to play esports with🎮😝\n",
      "\n",
      "YouAreMyGlory \n",
      "TheKingsAvatar \n",
      "FallingIntoYourSmile \n",
      "CrossFire \n",
      "\n",
      "WeTVAlwaysMore httpstcoAYS5Wy1uWr Who do you want to play esports with🎮😝\n",
      "\n",
      "YouAreMyGlory \n",
      "TheKingsAvatar \n",
      "FallingIntoYourSmile \n",
      "CrossFire \n",
      "\n",
      "WeTVAlwaysMore httpstcoAYS5Wy1uWr Who do you want to play esports with🎮😝\n",
      "\n",
      "YouAreMyGlory \n",
      "TheKingsAvatar \n",
      "FallingIntoYourSmile \n",
      "CrossFire \n",
      "\n",
      "WeTVAlwaysMore httpstcoAYS5Wy1uWr Who do you want to play esports with🎮😝\n",
      "\n",
      "YouAreMyGlory \n",
      "TheKingsAvatar \n",
      "FallingIntoYourSmile \n",
      "CrossFire \n",
      "\n",
      "WeTVAlwaysMore httpstcoAYS5Wy1uWr Who do you want to play esports with🎮😝\n",
      "\n",
      "YouAreMyGlory \n",
      "TheKingsAvatar \n",
      "FallingIntoYourSmile \n",
      "CrossFire \n",
      "\n",
      "WeTVAlwaysMore httpstcoAYS5Wy1uWr Who do you want to play esports with🎮😝\n",
      "\n",
      "YouAreMyGlory \n",
      "TheKingsAvatar \n",
      "FallingIntoYourSmile \n",
      "CrossFire \n",
      "\n",
      "WeTVAlwaysMore httpstcoAYS5Wy1uWr Who do you want to play esports with🎮😝\n",
      "\n",
      "YouAreMyGlory \n",
      "TheKingsAvatar \n",
      "FallingIntoYourSmile \n",
      "CrossFire \n",
      "\n",
      "WeTVAlwaysMore httpstcoAYS5Wy1uWr Who do you want to play esports with🎮😝\n",
      "\n",
      "YouAreMyGlory \n",
      "TheKingsAvatar \n",
      "FallingIntoYourSmile \n",
      "CrossFire \n",
      "\n",
      "WeTVAlwaysMore httpstcoAYS5Wy1uWr\n",
      "cleaned: Similar movies with Powaqqatsi 1988\n",
      "\n",
      "Koyaanisqatsi\n",
      "Naqoyqatsi\n",
      "35Up\n",
      "\n",
      "More 📽 httpstco1os6Kro75C\n",
      "\n",
      "CinPick similarMovies movies findMovies watchTonight httpstcoeMpwCm9Y9B Its DAY SIX of highlighting some of cinemas best documentaries\n",
      "\n",
      "Next up Koyaanisqatsi 1982 directed by Godfrey Reggio\n",
      "\n",
      "documentary documentaries koyaanisqatsi godfreyreggio httpstcoppdeFp1Vcp Its DAY SIX of highlighting some of cinemas best documentaries\n",
      "\n",
      "Next up Koyaanisqatsi 1982 directed by Godfrey Reggio\n",
      "\n",
      "documentary documentaries koyaanisqatsi godfreyreggio httpstcoppdeFp1Vcp Its DAY SIX of highlighting some of cinemas best documentaries\n",
      "\n",
      "Next up Koyaanisqatsi 1982 directed by Godfrey Reggio\n",
      "\n",
      "documentary documentaries koyaanisqatsi godfreyreggio httpstcoppdeFp1Vcp Its DAY SIX of highlighting some of cinemas best documentaries\n",
      "\n",
      "Next up Koyaanisqatsi 1982 directed by Godfrey Reggio\n",
      "\n",
      "documentary documentaries koyaanisqatsi godfreyreggio httpstcoppdeFp1Vcp No redemption Big bowl of pure bad and sad craziness The transhate the friendonfriend hate on someone just trying to survive … just ugly KOYAANISQATSI httpstcow8mkkJHKBV Need a Mon night movie rec gtgt Koyaanisqatsi directed by Godfrey Reggio 1982 such a brilliant film lifeoutofbalance Koyaanisqatsi httpstcoxDUmfhRNrZ Need a Mon night movie rec gtgt Koyaanisqatsi directed by Godfrey Reggio 1982 such a brilliant film lifeoutofbalance Koyaanisqatsi httpstcoxDUmfhRNrZ\n",
      "cleaned: morokai and balto being super cute together lt3  httpstcoqYj5B5pl5Z morokai and balto being super cute together lt3  httpstcoqYj5B5pl5Z FanArt based on the cartoon Balto\n",
      "FanArt  BALTO httpstco5pf5Nj2tVM morokai and balto being super cute together lt3  httpstcoqYj5B5pl5Z\n",
      "cleaned: Haul of purchases to help plug the gaps in movies that I should really have seen by now If it rains the rest of August Ill be ready\n",
      "\n",
      "bottlerocket cache ratcatcher theseventhseal httpstcoIA8qNnLyqi Check out today’s interview with cole from MECSDSpartans and Jacob from HCSHORNETS they told me all about the bottle rocket competition for BroomeBOCES Summer STEAM camp 🚀💧 SummerSTEAM2021 bottlerocket httpstcosxQWGj3i0c\n",
      "cleaned:nan\n",
      "cleaned: Having a cheeky drink at the bar 😜🙄🍑\n",
      "amateur AmateurContent hotwifeclub hotwife amateurmom flashedinpublic FlashingFriday publicexhibitionist Publicnudity publicexhibtionism public flashingchallenge bootyshow BootyMonday bootyapprecation onlyfans httpstcoj1GvYHTvXu\n",
      "cleaned: Living in OblivionOriginal Vintage Movie Poster of Tom DiCillos Comedy of Errors with Steve Buscemi Catherine Keener and Peter Dinklage httpstcoacS3IvUnaE livinginoblivion filmmaking independentfilm tomdicillo stevebuscemi Originalmovieposter 1990s httpstcoaYYYK36QIs\n",
      "cleaned: whats in your httpstcoicNIPg09Uw party PartyTime partymusic partying partyplanner partyhard partydress partypeople partydecor partynight partyideas partywear Partylife partyfavors partyanimal partyplanning partygirl  olympics covid drinking safety httpstcotvFxeskfHq\n",
      "cleaned:nan\n",
      "cleaned: On Saturday 14th August \n",
      "Subject to change \n",
      "We will be discussing the 1994 movie ShallowGrave DannyBoyle KerryFox ChristopherEccleston EwanMcGregor Murder Thriller Suspense Drama 90sMovies anyone interested in joining our casts and group contact us Subscribe RT httpstcooNaWgNJYuX ALEXLAW He’s quite at ease with his sexuality—he’s almost bisexual  Dannyboyle dir of ShallowGrave 1994 httpstcopIWWoRm1ar ALEXLAW He’s quite at ease with his sexuality—he’s almost bisexual  Dannyboyle dir of ShallowGrave 1994 httpstcopIWWoRm1ar\n",
      "cleaned: Production and HR have teamed up to give PowerRossSorkin a couple of hot new assignments He will be doing an interactive reports from the Venomous Snake and Scorpion Sideshow and then the Rabid Raccoon and Skunk Roundup RealityBites httpstcoISqvnpqJwU NYCDHS midtownsouthnyc When can we have the conversation about the systemic racism within the DHS homeless shelter system  BilldeBlasio ❤️ webshareztv  Changingthenarrative REALITYBITES DaniloIgnacio homeless in NYC shelter system for 1095 days httpstco3bPaOkwdJ5 PetalsBeyond SBBExpo DCHBCU SmallBizDC SBAgov miiriya1 eatOkraTheApp ATLHBCUAlumni ❤️ webshareztv followus  Changingthenarrative    SupportBlackBusiness  BlackLivesMatter  BlackHistoryMonth blacks  FreedomOfSpeech BlackTwitter ✂️ AfricanAmerican CaribbeanAmerican  BlackAmerican join us for  REALITYBITES with DaniloIgnacio httpstco3bPaOkwdJ5 PetalsBeyond SBBExpo DCHBCU SmallBizDC SBAgov miiriya1 eatOkraTheApp ATLHBCUAlumni ❤️ webshareztv followus  Changingthenarrative    SupportBlackBusiness  BlackLivesMatter  BlackHistoryMonth blacks  FreedomOfSpeech BlackTwitter ✂️ AfricanAmerican CaribbeanAmerican  BlackAmerican join us for  REALITYBITES with DaniloIgnacio httpstco3bPaOkwdJ5 HARRYS1DEMPIRE ginestarros luisalarosa Tina1Queen IreneVarMex MechisM Leonina0108 lumpie125 Tangerine4545 eReferenceDesk Aluddin19 zapp12347 officialspagirl ❤️ webshareztv followus  Changingthenarrative    SupportBlackBusiness  BlackLivesMatter  BlackHistoryMonth blacks  FreedomOfSpeech BlackTwitter ✂️ AfricanAmerican CaribbeanAmerican  BlackAmerican join us for  REALITYBITES with DaniloIgnacio httpstco3bPaOkwdJ5 SEBAS1KING Diane1Queen Aluddin19 ginaaaa345 9Ulwi NergisN BlaCkCaTWoM SantosNer2 Ayhan525 HMaximillian essentialessel officialspagirl VIPGains tituv2000 DrDayanandbhar2 IfbSdv ReMarginal jimg1976 ElBlondyRD thano1snap ❤️ webshareztv followus  Changingthenarrative    SupportBlackBusiness  BlackLivesMatter  BlackHistoryMonth blacks  FreedomOfSpeech BlackTwitter ✂️ AfricanAmerican CaribbeanAmerican  BlackAmerican join us for  REALITYBITES with DaniloIgnacio httpstco3bPaOkwdJ5 SEBAS1KING Diane1Queen Aluddin19 ginaaaa345 9Ulwi NergisN BlaCkCaTWoM SantosNer2 Ayhan525 HMaximillian essentialessel officialspagirl VIPGains tituv2000 DrDayanandbhar2 IfbSdv ReMarginal jimg1976 ElBlondyRD thano1snap ❤️ webshareztv followus  Changingthenarrative    SupportBlackBusiness  BlackLivesMatter  BlackHistoryMonth blacks  FreedomOfSpeech BlackTwitter ✂️ AfricanAmerican CaribbeanAmerican  BlackAmerican join us for  REALITYBITES with DaniloIgnacio httpstco3bPaOkwdJ5 HARRYS1DEMPIRE ginestarros luisalarosa Tina1Queen IreneVarMex MechisM Leonina0108 lumpie125 Tangerine4545 eReferenceDesk Aluddin19 zapp12347 officialspagirl ❤️ webshareztv followus  Changingthenarrative    SupportBlackBusiness  BlackLivesMatter  BlackHistoryMonth blacks  FreedomOfSpeech BlackTwitter ✂️ AfricanAmerican CaribbeanAmerican  BlackAmerican join us for  REALITYBITES with DaniloIgnacio httpstco3bPaOkwdJ5 HARRYS1DEMPIRE ginestarros luisalarosa Tina1Queen IreneVarMex MechisM Leonina0108 lumpie125 Tangerine4545 eReferenceDesk Aluddin19 zapp12347 officialspagirl ❤️ webshareztv followus  Changingthenarrative    SupportBlackBusiness  BlackLivesMatter  BlackHistoryMonth blacks  FreedomOfSpeech BlackTwitter ✂️ AfricanAmerican CaribbeanAmerican  BlackAmerican join us for  REALITYBITES with DaniloIgnacio httpstco3bPaOkwdJ5 HARRYS1DEMPIRE ginestarros luisalarosa Tina1Queen IreneVarMex MechisM Leonina0108 lumpie125 Tangerine4545 eReferenceDesk Aluddin19 zapp12347 officialspagirl ❤️ webshareztv followus  Changingthenarrative    SupportBlackBusiness  BlackLivesMatter  BlackHistoryMonth blacks  FreedomOfSpeech BlackTwitter ✂️ AfricanAmerican CaribbeanAmerican  BlackAmerican join us for  REALITYBITES with DaniloIgnacio httpstco3bPaOkwdJ5 SEBAS1KING Diane1Queen Aluddin19 ginaaaa345 9Ulwi NergisN BlaCkCaTWoM SantosNer2 Ayhan525 HMaximillian essentialessel officialspagirl VIPGains tituv2000 DrDayanandbhar2 IfbSdv ReMarginal jimg1976 ElBlondyRD thano1snap ❤️ webshareztv followus  Changingthenarrative    SupportBlackBusiness  BlackLivesMatter  BlackHistoryMonth blacks  FreedomOfSpeech BlackTwitter ✂️ AfricanAmerican CaribbeanAmerican  BlackAmerican join us for  REALITYBITES with DaniloIgnacio httpstco3bPaOkwdJ5 SEBAS1KING Diane1Queen Aluddin19 ginaaaa345 9Ulwi NergisN BlaCkCaTWoM SantosNer2 Ayhan525 HMaximillian essentialessel officialspagirl VIPGains tituv2000 DrDayanandbhar2 IfbSdv ReMarginal jimg1976 ElBlondyRD thano1snap ❤️ webshareztv followus  Changingthenarrative    SupportBlackBusiness  BlackLivesMatter  BlackHistoryMonth blacks  FreedomOfSpeech BlackTwitter ✂️ AfricanAmerican CaribbeanAmerican  BlackAmerican join us for  REALITYBITES with DaniloIgnacio httpstco3bPaOkwdJ5 PIX11News NYCDHS midtownsouthnyc When can we have the conversation about the systemic racism within the DHS homeless shelter system  BilldeBlasio ❤️ webshareztv  Changingthenarrative REALITYBITES DaniloIgnacio homeless in NYC shelter system for 1095 days httpstco3bPaOkwdJ5 PIX11News NYCDHS midtownsouthnyc When can we have the conversation about the systemic racism within the DHS homeless shelter system  BilldeBlasio ❤️ webshareztv  Changingthenarrative REALITYBITES DaniloIgnacio homeless in NYC shelter system for 1095 days httpstco3bPaOkwdJ5 Paparazzydey4u IsabelA28235856 skyflood ❤️ webshareztv followus  Changingthenarrative    SupportBlackBusiness  BlackLivesMatter  BlackHistoryMonth blacks  FreedomOfSpeech BlackTwitter ✂️ AfricanAmerican CaribbeanAmerican  BlackAmerican join us for  REALITYBITES with DaniloIgnacio httpstco3bPaOkwdJ5 Fridah Paparazzydey4u ❤️ webshareztv followus  Changingthenarrative    SupportBlackBusiness  BlackLivesMatter  BlackHistoryMonth blacks  FreedomOfSpeech BlackTwitter ✂️ AfricanAmerican CaribbeanAmerican  BlackAmerican join us for  REALITYBITES with DaniloIgnacio httpstco3bPaOkwdJ5 Fridah Paparazzydey4u ❤️ webshareztv followus  Changingthenarrative    SupportBlackBusiness  BlackLivesMatter  BlackHistoryMonth blacks  FreedomOfSpeech BlackTwitter ✂️ AfricanAmerican CaribbeanAmerican  BlackAmerican join us for  REALITYBITES with DaniloIgnacio httpstco3bPaOkwdJ5 FollowKween Paparazzydey4u ❤️ webshareztv followus  Changingthenarrative    SupportBlackBusiness  BlackLivesMatter  BlackHistoryMonth blacks  FreedomOfSpeech BlackTwitter ✂️ AfricanAmerican CaribbeanAmerican  BlackAmerican join us for  REALITYBITES with DaniloIgnacio httpstco3bPaOkwdJ5 FollowKween Paparazzydey4u ❤️ webshareztv followus  Changingthenarrative    SupportBlackBusiness  BlackLivesMatter  BlackHistoryMonth blacks  FreedomOfSpeech BlackTwitter ✂️ AfricanAmerican CaribbeanAmerican  BlackAmerican join us for  REALITYBITES with DaniloIgnacio httpstco3bPaOkwdJ5 Niyiafrika02 ❤️ webshareztv followus  Changingthenarrative    SupportBlackBusiness  BlackLivesMatter  BlackHistoryMonth blacks  FreedomOfSpeech BlackTwitter ✂️ AfricanAmerican CaribbeanAmerican  BlackAmerican join us for  REALITYBITES with DaniloIgnacio httpstco3bPaOkwdJ5 Niyiafrika02 ❤️ webshareztv followus  Changingthenarrative    SupportBlackBusiness  BlackLivesMatter  BlackHistoryMonth blacks  FreedomOfSpeech BlackTwitter ✂️ AfricanAmerican CaribbeanAmerican  BlackAmerican join us for  REALITYBITES with DaniloIgnacio httpstco3bPaOkwdJ5 Radio Host Who Railed Against Fauci and Vaccines Dead From COVID19 httpstcoc2Re7EcVbw \n",
      "\n",
      "realitybites Didn’t hear JeffKennett acknowledge the hospital staff in Tokyo during Olympics Lockdown Saying it was ‘living with Delta’  here’s behind the gloss amp tv show of elite sport RealityBites WakeUpJeff httpstco0irRIyBUqD Didn’t hear JeffKennett acknowledge the hospital staff in Tokyo during Olympics Lockdown Saying it was ‘living with Delta’  here’s behind the gloss amp tv show of elite sport RealityBites WakeUpJeff httpstco0irRIyBUqD ShehryarAfridi1 PTIofficial KPL21\n",
      "Kashmir\n",
      "AJK\n",
      "\n",
      "Freedom to live in AJK Pakistan\n",
      "\n",
      "Oppression occupation forces extra judicial killings Indian statesponsored terrorism in Indian Illegally Occupied Jammu Kashmir\n",
      "\n",
      "StarkContrast\n",
      "RealityBites\n",
      "\n",
      "Refugees UN UNHumanRights UNOCHA amnesty amnestysasia\n",
      "cleaned:nan\n",
      "cleaned: Just finished my drawing exercises on Pagemaster Little Nemo Adventures In Slumberland and The Magic Voyage  using Procreate brianurquhartanimation pagemaster littlenemoadventuresinslumberland themagicvoyage procreate cartoonart BrianUrquhart20 ExMinds httpstcooKBMa4RqWT\n",
      "cleaned:nan\n",
      "cleaned: IMDb Oliver          Oliver amp company httpstcoaITugiDH1h Disney Oliver amp Company 🐕🐈 httpstcouZlLjuZwIS Oliver amp Company is better than Milo amp Otis BraveTweet Omg my sis got Roscoe and Dasoto from Oliver amp Company 😍😍 StephCampb7 WorldofCordeDnD CataleyaVi NPCEncyclopedia AlecAzzam InaKoffen ShanShansArt DungeonMatter TedFilla MattmanDH SolsRoles DoubleDMpod MagicMissilePod AbyssalBrews nquests penguinuncle WorldsUnending vellzbeez ZyborgKitten BrassikArts Aegides redwyrmofficial DaddyRolleda1 YoDanno Wake up to a few hundred notifications 😂 love all the movies listed \n",
      "\n",
      "Mine are  \n",
      "\n",
      "The goonies\n",
      "Stardust\n",
      "Great mouse detective\n",
      "Oliver amp company Freezair Oh my gosh this is so cute But yeah I don’t know that cat I thought Merlin had an owl named Archimedes\n",
      "\n",
      "It looks like maybe it’s from Oliver amp company Now Playing Why Should I Worry from Oliver amp Company OST by Billy Joel Listen at httpstcoSPIWRLWkg0 httpstco2Garys0ZQt A long time since I’ve seen Oliver amp Company but the songs stick in your head  ATGR LalisaTheAce Oliver amp Company\n",
      "\n",
      "FIVE YEARS WITH BLACKPINK\n",
      "BLACKPINK5thANNIVERSARY \n",
      "블랙핑크오주년블링크랑오래오래\n",
      "BLACKPINK Oliver amp company Crash bandicoot Robinhood and Vectorsonic Furries really like fox form Robinhood for a reason I can’t relate to uu httpstcoIi55EoB3We Kukurio59 my buddy turned on oliver amp company and i was very pleasantly surprised how little i noticed the screen door effect i could actually appreciate many details in the art so its opened my eyes to watching more media in vr Joes favorite Disney movie is Oliver amp Company httpstcokv2LJtMux7 TheRealACJones JDHODGE73 BetteMidler Oh yeah Hocus Pocus Oliver amp Company SeinfeldI only know Cleese from Monty Python Isnt it dangerous to use ones entire vocabulary in a single sentence  one of my favorite lines from a lesserremembered Disney film Oliver amp Company 5 comfort movies 5 mutuals🥺\n",
      "\n",
      "Dragonheart \n",
      "The Grinch 2000\n",
      "Oliver amp Company \n",
      "Shape of Water\n",
      "A Little Princess\n",
      "\n",
      "GraveyardThrill BotanicalTeas BadCiicii startrek420 kyonijimura httpstcomnw8yOW5Xq best day finally unlocked glamour in ffxiv and secured the oliver amp company lf bag httpstcobPR8Rgy9lz Oliver amp Company httpstcoWYqedeutCB This book will make a cute 21st Birthday Gift for a Disney Lover Available in my etsyshop Vintage 2000 Oliver amp Company Walt Disneys Wonderful World Of Reading Hardback Book 21stBirthdayGift BookOfTheMovie httpstcokDzkNZLkb2 OliverAndCompany WaltDisneyBook Gift httpstcoNobHEdppgk Oliver amp Company\n",
      "\n",
      "An orphaned kitten joins up with a gang of dogs engaged in petty theft in New York City Read my review of the animated Disney feature Oliver amp Company now\n",
      "\n",
      "animation SaturdayCartoons MovieReviews\n",
      "\n",
      "httpstcovCWAQ8Qiwz This book will make a cute 21st Birthday Gift for a Disney Lover Available in my etsyshop Vintage 2000 Oliver amp Company Walt Disneys Wonderful World Of Reading Hardback Book 21stBirthdayGift BookOfTheMovie httpstcokDzkNZLkb2 OliverAndCompany WaltDisneyBook Gift httpstcoNobHEdppgk oliver amp company is way too underrated boredzerro One of my designs tomorrow is for Oliver amp Company sassgremlin irishsaints23 No Im pretty sure hes a Sox fan The dog is named after Dodger from Oliver amp Company 😂😭 Karaoke song Why Should I Worry  Oliver amp Company karaokesandman stubbiesbasalt DisneyBooks andimJULIE Nice \n",
      "\n",
      "Also unrelated note Would eventually want to see Oliver amp Company Story of the Film in Comics someday\n",
      "cleaned:nan\n",
      "cleaned:nan\n",
      "cleaned:nan\n",
      "cleaned: Wouldnt it be completely superficial and shallow if my gang stalking welectronic targeted assault was over my twin looking better than me DarkNecessities SiblingDominance FemalePerversions\n",
      "cleaned: Check out this BIG gator smile on our boy Falkor the albino alligator Isnt he precious 🐊 gatorsmile albinoalligator albino evergladesholidaypark airboattour everglades alligator reptiles wildlife florida fortlauderdale miami lovefl BrowardParks VISITFLORIDA httpstcoNKC52aZTei Check out this BIG gator smile on our boy Falkor the albino alligator Isnt he precious 🐊 gatorsmile albinoalligator albino evergladesholidaypark airboattour everglades alligator reptiles wildlife florida fortlauderdale miami lovefl BrowardParks VISITFLORIDA httpstcoNKC52aZTei Check out this BIG gator smile on our boy Falkor the albino alligator Isnt he precious 🐊 gatorsmile albinoalligator albino evergladesholidaypark airboattour everglades alligator reptiles wildlife florida fortlauderdale miami lovefl BrowardParks VISITFLORIDA httpstcoNKC52aZTei\n",
      "cleaned:nan\n",
      "cleaned: TuesdayThoughts If YOU Appreciate what is Unfolding for YOU Without getting too CarriedAway with your Excitement YOU’ll Attract more Help Respect amp Accolades through Gratitude than Gregariousness 😬 TuesdayThoughts If YOU Appreciate what is Unfolding for YOU Without getting too CarriedAway with your Excitement YOU’ll Attract more Help Respect amp Accolades through Gratitude than Gregariousness 😬\n",
      "cleaned:nan\n",
      "cleaned:nan\n",
      "cleaned: Slip n slide silly boys romp slipnslide samedick doubleteam tagteam spreadeagle slingindinks… httptcoYbmlk7LvSU tenaciousd jackblack KyleGass you guys still game for playing in Wales when all this blows over \n",
      "\n",
      "DoubleTeam TenaciousD Wales Fire out Hip to Hip run your feet DoubleTeam httpstcoQvhyYT7QOT Fire out Hip to Hip run your feet DoubleTeam httpstcoQvhyYT7QOT End of day 2 at the  fivestarhockey camp at StoweSport 😀💪🏑 brilliant day as we explored defensive principals  doubleteam  Great master class from ShipperleyZoe   looking forward to day 3 tomorrow httpstco4XBL4J8fVK\n",
      "cleaned:nan\n",
      "cleaned: View \n",
      "Black and silver 😍 \n",
      "\n",
      "\n",
      " \n",
      "sparkleandhubby\n",
      "cakes \n",
      "sliver \n",
      "bakers\n",
      "abakalikibaker \n",
      "abakalikicakevendor httpstco5VYomVQZvi dawns sliver\n",
      "of hope\n",
      "welcomes new day\n",
      "possibilities \n",
      "are endless\n",
      "10wordjournal sliver \n",
      "WritingCommunity httpstcoQMUghO5EAK sliver xauusd  فوركس ذهب داكس ger30 达克斯 外汇交易 金 AUDUSD  UK France Germany SaudiArabia Spain Singapore  Oman Australia join us  httpstcokxAKhsMThV httpstcociwJfesDQH httpstcoGP2QZy9UKJ BUY XAUUSD ABOVE 174680 SL 1741 TGTS 175140 AND 1755 sliver xauusd  فوركس ذهب داكس ger30 达克斯 外汇交易 金 AUDUSD  UK France Germany SaudiArabia Spain Singapore  Oman Australia join us  httpstcokxAKhsMThV stepping from\n",
      "shadows\n",
      "slips a sliver\n",
      "of hope\n",
      "staying\n",
      "alive\n",
      "\n",
      "RockAndVerse 88\n",
      "10wordjournal 90\n",
      "prompt Just closed a beautiful trade on sliver  Absolutely blessed \n",
      "As I said before fuck Gold \n",
      "Who needs Gold when theres BTC bitcoin \n",
      "Aint that right boyz elonmusk PeterSchiff  czbinance  michaelsaylor  httpstcomY6MgGVJzJ stepping from\n",
      "shadows\n",
      "slips a sliver\n",
      "of hope\n",
      "staying\n",
      "alive\n",
      "\n",
      "RockAndVerse 88\n",
      "10wordjournal 90\n",
      "prompt summer rain\n",
      "a sliver of sky\n",
      "in my club soda\n",
      "\n",
      "10wordjournal sliver sliver falling 😭😭\n",
      "trading TeamUSA CONGRATS USA BEST MEDAL COUNT GOLD 🏅39 SLIVER 🥈41 BRONZE 🥉33  NBCOlympics 👏🏽👏🏽👏🏽👏🏽👏🏽👏🏽👏🏽👏🏽👏🏽👏🏽👏🏽👏🏽👏🏽👏🏽👏🏽👏🏽USA NUMBER ONE IN THE WORLD 🌎 POTUS VP dawns sliver\n",
      "of hope\n",
      "welcomes new day\n",
      "possibilities \n",
      "are endless\n",
      "10wordjournal sliver \n",
      "WritingCommunity httpstcoQMUghO5EAK dawns sliver\n",
      "of hope\n",
      "welcomes new day\n",
      "possibilities \n",
      "are endless\n",
      "10wordjournal sliver \n",
      "WritingCommunity httpstcoQMUghO5EAK On the inky chest \n",
      "of night sky rests\n",
      "sliver moon\n",
      "\n",
      "10wordjournal \n",
      "haikuchallenge \n",
      "\n",
      "Painting by Marika Bourdeaux httpstconEkfbS09un ARKSurvivalEvolved The Island stream on my channel httpstcouvGtSvI2ec\n",
      "With tribemembers FreakOTRT kezzahappygamer ChefAnthonyTV Radiationghoul blakewind8 MelonMech Belgianmonster sliver SLIVERtv360 KissMyKitty0729 ContentRTs httpstcoBPOTJsrBJx summer rain\n",
      "a sliver of sky\n",
      "in my club soda\n",
      "\n",
      "10wordjournal sliver summer rain\n",
      "a sliver of sky\n",
      "in my club soda\n",
      "\n",
      "10wordjournal sliver Here\n",
      "                                             there\n",
      "\n",
      "just\n",
      "\n",
      "a\n",
      "\n",
      "       s \n",
      "          live \n",
      "                 r\n",
      "\n",
      "is enough\n",
      "\n",
      "said the lark\n",
      "\n",
      " 10wordjournal sliver Here\n",
      "                                             there\n",
      "\n",
      "just\n",
      "\n",
      "a\n",
      "\n",
      "       s \n",
      "          live \n",
      "                 r\n",
      "\n",
      "is enough\n",
      "\n",
      "said the lark\n",
      "\n",
      " 10wordjournal sliver Here\n",
      "                                             there\n",
      "\n",
      "just\n",
      "\n",
      "a\n",
      "\n",
      "       s \n",
      "          live \n",
      "                 r\n",
      "\n",
      "is enough\n",
      "\n",
      "said the lark\n",
      "\n",
      " 10wordjournal sliver Nine Inch Nails Spotting \n",
      "Broken\n",
      "Sliver 1993\n",
      "nineinchnails broken sliver httpstco3jhfyvYemw Here\n",
      "                                             there\n",
      "\n",
      "just\n",
      "\n",
      "a\n",
      "\n",
      "       s \n",
      "          live \n",
      "                 r\n",
      "\n",
      "is enough\n",
      "\n",
      "said the lark\n",
      "\n",
      " 10wordjournal sliver Under my skin \n",
      "Like a sliver \n",
      "I can’t get out\n",
      "\n",
      "10wordjournal Gold ka sagun lag hi gaya aakhir🙏🏻\n",
      "Best performance by India in any Olympics by  winning 7 medals 🏅 in Tokyo Olympics 2020last done in London Olympics 2012 by winning 6 medals by Indian teams\n",
      "gold cheers4india Bronze sliver  CheerForIndia  httpstcohyDM8uFdI0 sliver love\n",
      "hangs between\n",
      "two hearts\n",
      "in silhouette\n",
      "of gazes\n",
      "\n",
      "10wordjournal  \n",
      "sliver Catch all the Tokyo 2020 moments  highlights legends gold medal wins and more IND gold Bronze sliver🥈 httpstcoBXGa0erJ17\n",
      "cleaned:nan\n",
      "cleaned: Amen 🙏   \n",
      "afamilyprayer dearGod familyprayer amen ibelieve faith havefaith keepingthefaith httpstcoUmmfVawDca DearGod Thank You DearGOD Thank you Foreign used ✨\n",
      "MERCEDES BENZ\n",
      "C300 LUXURY EDITION \n",
      "2016\n",
      "Accident free ✅\n",
      "Mint condition 💯\n",
      "14m🏷\n",
      "Essence Igbo Kante amen North NigerianIdol Wizkid DearGod Jesuschrist Chelsea islam Anambragirl melbmab OlawuO NurseLade Munashalom okuyungx BiyiThePlug httpstcopxxm2RbLmb DearGod \n",
      "Thank you for life and a Great New Day Tumeentrust so much powers kwa mikono ya polisi now our brothers have lost their lives  WillieOeba DearGod Lightsoutke justiceforkianjokomabrothers httpstcowzogjnV6d0 Aug 8 2020 Ontario has 70 new cases Aug 08 2021 as shown below 423 cases Even though most folks are vaxxed these numbers look very bleak Some experts are even expressing concern that the Delta Variant or even newer stronger variants may circumvent vaccines DearGod httpstcoUTHETX4FoW Tumeentrust so much powers kwa mikono ya polisi now our brothers have lost their lives  WillieOeba DearGod Lightsoutke justiceforkianjokomabrothers httpstcowzogjnV6d0 Tumeentrust so much powers kwa mikono ya polisi now our brothers have lost their lives  WillieOeba DearGod Lightsoutke justiceforkianjokomabrothers httpstcowzogjnV6d0 Tumeentrust so much powers kwa mikono ya polisi now our brothers have lost their lives  WillieOeba DearGod Lightsoutke justiceforkianjokomabrothers httpstcowzogjnV6d0 Tumeentrust so much powers kwa mikono ya polisi now our brothers have lost their lives  WillieOeba DearGod Lightsoutke justiceforkianjokomabrothers httpstcowzogjnV6d0 Tumeentrust so much powers kwa mikono ya polisi now our brothers have lost their lives  WillieOeba DearGod Lightsoutke justiceforkianjokomabrothers httpstcowzogjnV6d0 Tumeentrust so much powers kwa mikono ya polisi now our brothers have lost their lives  WillieOeba DearGod Lightsoutke justiceforkianjokomabrothers httpstcowzogjnV6d0 Dear God\n",
      "I dont ask you to make my life easier but I ask you to give me the strength to face all my troubles\n",
      "God DearGod life strength LifesStruggles GodsPlan GodLovesYou GodisGood Amen httpstcoaxk6GFK51a Adding new worship songs to my playlist this morning  sundaysong music song weekend worshipmusic playlist dearGod httpstcoYkmtKVqTLP\n",
      "\n",
      "CrashingIn  CoryAsbury httpstcoUGIJsVpvlN DearGod \n",
      "\n",
      "Please help \n",
      "Tyranny httpstcovdoAo5gcec DearGod \n",
      "My prayer today is thank you🙏🙏🙏 DearGod\n",
      "Thank You God for You are Sovereign and in control in our lives and church Seasons eventually change but you can keep truating the One who will be faithful to you 219of365 thebestdayever May I be\n",
      "Strong enough to witness for you\n",
      "And \n",
      "Weak enough to always need you\n",
      "\n",
      "From DearGod by Neitele Mero\n",
      "\n",
      "newbookalert PenThrillBooks PoetrySells Nagaland httpstcoWauYmzBldj May I be\n",
      "Strong enough to witness for you\n",
      "And \n",
      "Weak enough to always need you\n",
      "\n",
      "From DearGod by Neitele Mero\n",
      "\n",
      "newbookalert PenThrillBooks PoetrySells Nagaland httpstcoWauYmzBldj For the first time ever on a live performance The guy on the keyboard Fayaa 🔥💯 DearGod will be the new wave Cant wait to drop this whole album 🔥😎\n",
      "       MADE IN LOVE ALBUM\n",
      "TheKirinyagaKid👑 httpstcoTbNkAtJTyp For the first time ever on a live performance The guy on the keyboard Fayaa 🔥💯 DearGod will be the new wave Cant wait to drop this whole album 🔥😎\n",
      "       MADE IN LOVE ALBUM\n",
      "TheKirinyagaKid👑 httpstcoTbNkAtJTyp For the first time ever on a live performance The guy on the keyboard Fayaa 🔥💯 DearGod will be the new wave Cant wait to drop this whole album 🔥😎\n",
      "       MADE IN LOVE ALBUM\n",
      "TheKirinyagaKid👑 httpstcoTbNkAtJTyp Orsonb63 ChrisMeloni I read Men’s Health for the articles and in the dark when I’m alone 🔥🔥🔥😳\n",
      "\n",
      "Chrismeloni DearGod 🙏🏾\n",
      "👊🏾💯💜 httpstcogxSE2xp5ZE dearGod make me someone important with many followers on social media amen\n",
      "cleaned: Before vs After 🤣\n",
      "\n",
      "DanaDelany \n",
      "KimCattrall \n",
      "OliviadAbo \n",
      "Cynthia Stevenson\n",
      "Laila Robins \n",
      "Lora Zane\n",
      "LiveNudeGirls \n",
      "🎉♥️👯👯 httpstcoC9C2GgUpJT\n",
      "cleaned:nan\n",
      "cleaned:nan\n",
      "cleaned: 🚨🚨New Video🚨🚨\n",
      "From IUIC Minneapolis\n",
      "🔥🔥🔥🔥🔥🔥🔥🔥🔥\n",
      "\n",
      "WATCH📺 COMMENT💬 SHARE🔄 LIKE👍🏿 SUBSCRIBE🛎\n",
      "\n",
      "IUIC  SILLY WHITE BOY SALVATION IS ONLY FOR ISRAEL\n",
      "\n",
      "Video link➡️ httpstcoPjsTqnMtYq\n",
      "\n",
      "IUIC Minnesota Salvation Israel 12Tribes Worldwide \n",
      "Repent Commandments httpstcoay9G1JPide 🚨🔥🤯 Tune in NOW What  Christ Only Taught Two Commandments but not 10  🙊😤 CONNECTICUT 🚨 kjv httpstcoofwSkdYo7I  👇🏿 iuicconnecticut\n",
      "httpstcojEXaQn7EtA httpstco9gZP8AvtJ5 Todays Bible Verse 10082021\n",
      "God will fight your battles \n",
      " \n",
      " \n",
      "battles fight wars soldier army father grace god goodmorning commandments christ healing healingquotes holyspirit happiness biblequotes bibleverses biblejournaling bible salvation httpstcoJakscRXbZ8 You so called Blacks Hispanics and NativeAmericans WE ARE COMMANDED to keep ALL the LAWS STATUTES and COMMANDMENTS written in the Bible\n",
      "\n",
      "We Are Chosen\n",
      "RETURN to your heritage \n",
      "\n",
      "Follow us on httpstcocGTuY1jDm2 httpstcoPC9cz603ej As the grace of God awakens the soul we honour the power of Gods presence with the reciprocation of faith that is centered on Christ \n",
      "\n",
      "The remedy of Christ is within the framework of His covenant by this restriction our faith is aligned to His covenant commandments httpstcoDKw4QuZXVk You so called Blacks Hispanics and NativeAmericans WE ARE COMMANDED to keep ALL the LAWS STATUTES and COMMANDMENTS written in the Bible\n",
      "\n",
      "We Are Chosen\n",
      "RETURN to your heritage \n",
      "\n",
      "Follow us on httpstcocGTuY1jDm2 httpstcoPC9cz603ej Three Self Development Commandments Which I Permanently Violate  Motivation  via pensignal three self development commandments which i permanently violate httpstcohTg86IZFBh 🚨🔥🤯 Tune in NOW What  Christ Only Taught Two Commandments but not 10  🙊😤 CONNECTICUT 🚨 kjv httpstcojELdR7Q9vE  👇🏿 iuicconnecticut\n",
      "httpstcoDOsbR2WT17 httpstcobvrD4Yikfa 🚨🔥🤯 Tune in NOW What  Christ Only Taught Two Commandments but not 10  🙊😤 CONNECTICUT 🚨 kjv httpstcooS4v8spKNj  👇🏿 iuicconnecticut\n",
      "httpstcojTQwWqbQTw httpstcou1SrQDsWXC Three Self Development Commandments Which I Permanently Violate  Motivation  via pensignal three self development commandments which i permanently violate httpstcoV6VbAnK9xL 🚨🔥🤯 Tune in NOW What  Christ Only Taught Two Commandments but not 10  🙊😤 CONNECTICUT 🚨\n",
      "kjv  👇🏿 iuicconnecticut\n",
      "\n",
      "httpstcoHX8Naiy5qo httpstcoDA30gXWFv8 🚨🚨New Video🚨🚨\n",
      "From IUIC Minneapolis\n",
      "🔥🔥🔥🔥🔥🔥🔥🔥🔥\n",
      "\n",
      "WATCH📺 COMMENT💬 SHARE🔄 LIKE👍🏿 SUBSCRIBE🛎\n",
      "\n",
      "IUIC  SILLY WHITE BOY SALVATION IS ONLY FOR ISRAEL\n",
      "\n",
      "Video link➡️ httpstcopdC8hAUpMg\n",
      "\n",
      "IUIC Minnesota Salvation Israel 12Tribes Worldwide \n",
      "Repent Commandments httpstco2YhGDftar6 🚨🔥🤯 Tune in NOW What  Christ Only Taught Two Commandments but not 10  🙊😤 CONNECTICUT 🚨 kjv httpstcojELdR7Q9vE  👇🏿 iuicconnecticut\n",
      "httpstcoDOsbR2WT17 httpstcobvrD4Yikfa 🚨🚨New Video🚨🚨\n",
      "From IUIC Minneapolis\n",
      "🔥🔥🔥🔥🔥🔥🔥🔥🔥\n",
      "\n",
      "WATCH📺 COMMENT💬 SHARE🔄 LIKE👍🏿 SUBSCRIBE🛎\n",
      "\n",
      "IUIC  SILLY WHITE BOY SALVATION IS ONLY FOR ISRAEL\n",
      "\n",
      "Video link➡️ httpstcoiQEMh4Joju\n",
      "\n",
      "IUIC Minnesota Salvation Israel 12Tribes Worldwide \n",
      "Repent Commandments httpstcoQ5kVOhhV23 🚨🔥🤯 Tune in NOW What  Christ Only Taught Two Commandments but not 10  🙊😤 CONNECTICUT 🚨 kjv httpstcoWS0h3PuNYa  👇🏿 iuicconnecticut\n",
      "httpstcop4OA8vDmdJ httpstcolvqTksjAme 🚨🔥🤯 Tune in NOW What  Christ Only Taught Two Commandments but not 10  🙊😤 CONNECTICUT 🚨 kjv httpstcof2IKEBUX9X  👇🏿 iuicconnecticut\n",
      "httpstcobsbkukQsIG httpstcoHNing5Mihp 🚨🔥🤯 Tune in NOW What  Christ Only Taught Two Commandments but not 10  🙊😤 CONNECTICUT 🚨 kjv httpstcooS4v8spKNj  👇🏿 iuicconnecticut\n",
      "httpstcojTQwWqbQTw httpstcou1SrQDsWXC 🚨🔥🤯 Tune in NOW What  Christ Only Taught Two Commandments but not 10  🙊😤 CONNECTICUT 🚨 kjv httpstcojELdR7Q9vE  👇🏿 iuicconnecticut\n",
      "httpstcoDOsbR2WT17 httpstcobvrD4Yikfa 🚨🚨New Video🚨🚨\n",
      "From IUIC Minneapolis\n",
      "🔥🔥🔥🔥🔥🔥🔥🔥🔥\n",
      "\n",
      "WATCH📺 COMMENT💬 SHARE🔄 LIKE👍🏿 SUBSCRIBE🛎\n",
      "\n",
      "IUIC  SILLY WHITE BOY SALVATION IS ONLY FOR ISRAEL\n",
      "\n",
      "Video link➡️ httpstcopdC8hAUpMg\n",
      "\n",
      "IUIC Minnesota Salvation Israel 12Tribes Worldwide \n",
      "Repent Commandments httpstco2YhGDftar6 🚨🚨New Video🚨🚨\n",
      "From IUIC Minneapolis\n",
      "🔥🔥🔥🔥🔥🔥🔥🔥🔥\n",
      "\n",
      "WATCH📺 COMMENT💬 SHARE🔄 LIKE👍🏿 SUBSCRIBE🛎\n",
      "\n",
      "IUIC  SILLY WHITE BOY SALVATION IS ONLY FOR ISRAEL\n",
      "\n",
      "Video link➡️ httpstcoR8NQ8IHJxp\n",
      "\n",
      "IUIC Minnesota Salvation Israel 12Tribes Worldwide \n",
      "Repent Commandments httpstcoAFaBOet49r 🚨🔥🤯 Tune in NOW What  Christ Only Taught Two Commandments but not 10  🙊😤 CONNECTICUT 🚨 kjv httpstcoa9iM1566TP  👇🏿 iuicconnecticut\n",
      "httpstcozpJy2YaTrf httpstcoe0KhpNiJy5 🚨🔥🤯 Tune in NOW What  Christ Only Taught Two Commandments but not 10  🙊😤 CONNECTICUT 🚨 kjv httpstcogM6veuOtCo  👇🏿 iuicconnecticut\n",
      "httpstcoc6vzaHmYum httpstcoaSUAFVXv7W 🚨🚨New Video🚨🚨\n",
      "From IUIC Minneapolis\n",
      "🔥🔥🔥🔥🔥🔥🔥🔥🔥\n",
      "\n",
      "WATCH📺 COMMENT💬 SHARE🔄 LIKE👍🏿 SUBSCRIBE🛎\n",
      "\n",
      "IUIC  SILLY WHITE BOY SALVATION IS ONLY FOR ISRAEL\n",
      "\n",
      "Video link➡️ httpstco107b3Fnnk4\n",
      "\n",
      "IUIC Minnesota Salvation Israel 12Tribes Worldwide \n",
      "Repent Commandments httpstcofq4M1ZaGb0 🚨🔥🤯 Tune in NOW What  Christ Only Taught Two Commandments but not 10  🙊😤 CONNECTICUT 🚨 kjv httpstco9FRzBD7cw2  👇🏿 iuicconnecticut\n",
      "httpstcoHE99ZINChj httpstcoqtd1xNkFZg You so called Blacks Hispanics and NativeAmericans WE ARE COMMANDED to keep ALL the LAWS STATUTES and COMMANDMENTS written in the Bible\n",
      "\n",
      "Change Our Mindset\n",
      "RETURN to your heritage \n",
      "\n",
      "Follow us on httpstcocGTuY1jDm2 httpstcoz0V99E9J8H\n",
      "cleaned:nan\n",
      "cleaned: Blake Snell going Molly Hatchet in they win flirtingwithdisaster\n",
      "cleaned:nan\n",
      "cleaned: ninaturner Youve been in politics for decades and you just tried to win a game thats rigged by corruption lies defamation of character and corporate bribe money You were up by 3040pts sis  WhatHappenedWas \n",
      "cleaned: Six Degrees of Separation – From Postcards from the Edge to The Secret Letters SixDegreesofSeparation 6Degrees httpstcoJ6tbDtt4Ta via NickiMags kevinbacon if you know the world knows nsav sixdegreesofseparation httpstcozG7Mlod7ou kevinbacon if you know the world knows nsav sixdegreesofseparation httpstcozG7Mlod7ou kevinbacon if you know the world knows nsav sixdegreesofseparation httpstcozG7Mlod7ou Six Degrees of Separation – From Postcards from the Edge to The Secret Letters SixDegreesofSeparation 6Degrees httpstcoLTGnFrYOhL via NickiMags Six Degrees of Separation – From Postcards from the Edge to The Secret Letters SixDegreesofSeparation 6Degrees httpstcoxIDOgS1Agm via NickiMags Six Degrees of Separation – From Postcards from the Edge to The Secret Letters SixDegreesofSeparation 6Degrees httpstcoDj98AQ8P2Y via NickiMags iamqatch This thread was incredibly insightful A book that compliments this topic that you may find interesting is Scaling Conversations by Dave Macleod sixdegreesofseparation Six Degrees of Separation – From Postcards from the Edge to The Secret Letters SixDegreesofSeparation 6Degrees httpstcotck0R9WT5b via NickiMags Six Degrees of Separation – From Postcards from the Edge to The Secret Letters SixDegreesofSeparation 6Degrees httpstcoc2Aw1ahwdQ via NickiMags Six Degrees of Separation – From Postcards from the Edge to The Secret Letters SixDegreesofSeparation 6Degrees httpstcouqTjdLbHMl via NickiMags Six Degrees of Separation – From Postcards from the Edge to The Secret Letters SixDegreesofSeparation 6Degrees httpstcoYyVvMwe05n via NickiMags Six Degrees of Separation – From Postcards from the Edge to The Secret Letters SixDegreesofSeparation 6Degrees httpstcoHqvrANI2mk via NickiMags Six Degrees of Separation – From Postcards from the Edge to The Secret Letters SixDegreesofSeparation 6Degrees httpstcozHHSgKipJw via NickiMags Six Degrees of Separation – From Postcards from the Edge to The Secret Letters SixDegreesofSeparation 6Degrees httpstcoHqvrANI2mk via NickiMags Six Degrees of Separation – From Postcards from the Edge to The Secret Letters SixDegreesofSeparation 6Degrees httpstcoOsV2W0pz05 Six Degrees of Separation – From Postcards from the Edge to The Secret Letters SixDegreesofSeparation 6Degrees httpstcoKMBAZMDn20 via NickiMags Six Degrees of Separation – From Postcards from the Edge to The Secret Letters SixDegreesofSeparation 6Degrees httpstco5JnAIkvUfG via NickiMags Six Degrees of Separation – From Postcards from the Edge to The Secret Letters SixDegreesofSeparation 6Degrees httpstcoqsFHp4E9Eo via NickiMags Six Degrees of Separation – From Postcards from the Edge to The Secret Letters SixDegreesofSeparation 6Degrees httpstcoc3x8Thef3H via NickiMags Six Degrees of Separation – From Postcards from the Edge to The Secret Letters SixDegreesofSeparation 6Degrees httpstcoasBe6DUjrq via NickiMags Six Degrees of Separation – From Postcards from the Edge to The Secret Letters SixDegreesofSeparation 6Degrees httpstcoLExpzwt8ZG via NickiMags Six Degrees of Separation – From Postcards from the Edge to The Secret Letters SixDegreesofSeparation 6Degrees httpstcoOcfeV9TYUN via NickiMags Six Degrees of Separation – From Postcards from the Edge to The Secret Letters SixDegreesofSeparation 6Degrees httpstcoOsV2W0pz05 SixDegreesOfSeparation is the idea that all people on average are six or fewer social connections away from each other As a result a chain of friend of a friend statements can be made to connect any two people in a maximum of six steps\n",
      "\n",
      "Who can you connect with And how\n",
      "cleaned:nan\n",
      "cleaned: Creating confidence from Lab to Live \n",
      "Key Role of testing amp assurance in OpenRAN \n",
      "With sndouglas Head 5G Spirent trust\n",
      "And ebook➡️httpstcouPAHyukFhQ\n",
      "\n",
      "tech SpirentAmbassador automation AI data innovation 100DaysOfCode Security IoT ArtificialIntelligence httpstcoKqEWZAIysT With high levels of psychological safety fueled by vulnerability and trust people rise to new heights of performance and engagement Cultivate it carefully \n",
      "\n",
      "Leadership and PsychologicalSafety in Teams httpstco7azX0M6YhE TripleCrownLead httpstcorXtCZ0Ij2m WiseVasily I sell almost every coin for vra vra VraFam VraCoin Verasity VRA VRA TrustTheProcess ProofOfView againstFraud Advertisement RealvsFake hold on verawallet Stream streaming live gamer Streamer Undervalued trading token coin follow trust folloMe folloback httpstcoOUVmtnqxEX Why doesn’t someone do a survey to find out if we get too many surveys\n",
      "That way HR can hound you to complete a survey to tell them to stop creating so many surveys\n",
      "mitchzenger synctrics httpstco8V2jO77NGQ\n",
      " Learning Trust HRTech PulseSurvey Strengths Reputation httpstco3l6IjuLRV5 My new friend shellylfrancis and I travel the same pathspaved w courage trust joy adventure Read her article on CouragePress about the FTBLbooks asking Should You Have a Bucket List httpstcomtjZZLv3zO CreativeCouragePress creativecourage indieauthors httpstco7Gh96uTu7R Mondayafterworkonewomanparty …😋🍸👠🌇🎉😘💋\n",
      "\n",
      "iam monday afterwork women smile life colors mood vibes thoughts passion desire love trust hope picture drawing painting zeichnen dreaming zeichnung art artist soul longing drink imagination party heels httpstcowWcD5R8n3p Effective leadership is built on two simple principles trust and communication – Toni McEwan SlingshotGroup LoveYourWork NextLevelLeadership Quran \n",
      "quranthedivinebook \n",
      "Quranhour\n",
      "\n",
      " My success comes only through Allah In Him I trust and to Him  Allah  I turn  \n",
      "\n",
      "1188\n",
      "\n",
      "Islam\n",
      "Muslim Brands need SEO first as it is the most viable and costeffective way to both understand and reach customers in key moments that matter httpstcoPqncRKegwo via searchmastergen sejournal marketing trust engagement God is omnipotent He has all power Put your trust in God No matter the situation or any manner of sickness or disease or loss know God is a healer He will fix it\n",
      "He is a heart fixer mind regulator and an everpresent help Put everything in His hands He will handle it Why are people so afraid to give supportive advice to each other\n",
      "We need People Analytics metrics to reward individuals who give great advice\n",
      "mitchzenger synctrics httpstcooDqL11oFQJ\n",
      " Goals Synchievement PeopleAnalytics Reputation Strengths Trust HRTech httpstcoUuxbbzMzk8 How can leaders create trust when information keeps changing httpstcoGAUHpVgC5A Leadership httpstcoeQQT8822Zi How can leaders create trust when information keeps changing   903 Creating confidence from Lab to Live \n",
      "Key Role of testing amp assurance in OpenRAN \n",
      "With sndouglas Head 5G Spirent trust\n",
      "And ebook➡️httpstcouPAHyukFhQ\n",
      "\n",
      "tech SpirentAmbassador automation AI data innovation 100DaysOfCode Security IoT ArtificialIntelligence httpstcoKqEWZAIysT Real estate entrepreneur Chris Suarez and I talk about building a trustbased relationshipcentric company on his podcast at httpstcopuOyTAY3BK relationshipbuilding businessgrowth businessgoals TheGalvanizingGroup ThePlace XperienceGrowth realestate realtor trust httpstcob3KEdTnBnH LMFAOOOOOO ain’t ever tucking bread down in there shit’ll yeast up 🤣🍞 trust but I’m dyinggg httpstcoBCeB9Nyz1u Honeycakebooks features a mixedrace family amp teaches valuable life lessons on diversity mindfulness kindness trust amp gratitude\n",
      "\n",
      "Parents and Teachers Toolbox empowering kidlit series curated to help young children to become aware of big emotions\n",
      "\n",
      "httpstcoxc1sIRkLeo httpstcoPuYXWbldLi It all comes down to trust  Frank Sonnenberg ➤ httpstcoonvYj0N7Jg  Trust httpstco1XS6SKCbWM Why are people so afraid to give supportive advice to each other\n",
      "We need People Analytics metrics to reward individuals who give great advice\n",
      "mitchzenger synctrics httpstcoZLVDAmC5Cw\n",
      " Goals Synchievement PeopleAnalytics Reputation Strengths Trust HRTech httpstcozaSzZZ05Hf In the chaos of every day news — I’m grateful God still lets me know through His beauty and imagination that everything will be okay \n",
      "\n",
      " Del \n",
      "\n",
      "hope gratitude blessed faith trust httpstcoCQAPd3QzwP PILLOW🌟PROMISE💫\n",
      "\n",
      "God is our Refuge and Strength\n",
      "a very Present Help in trouble\n",
      "Psalm 461\n",
      "\n",
      "are you in the midst of a crisis right now\n",
      "heartbroken\n",
      "rejected\n",
      "perplexed\n",
      "misunderstood\n",
      "facing unjust accusations\n",
      "\n",
      "God has strength for you\n",
      "You can Trust Jesus\n",
      "He gives Peace Thank you SpeakingSavvy for a great conversation on relationshipbuilding and trust httpstcoK9EsIeoMZ9 Creating confidence from Lab to Live \n",
      "Key Role of testing amp assurance in OpenRAN \n",
      "With sndouglas Head 5G Spirent trust\n",
      "And ebook➡️httpstcouPAHyukFhQ\n",
      "\n",
      "tech SpirentAmbassador automation AI data innovation 100DaysOfCode Security IoT ArtificialIntelligence httpstcoKqEWZAIysT tarunningaway Soon bro \n",
      "trust This weeks webinar looks at trust in government from ASPAs Center for Accountability and Performance Panelists for this webinar will discuss the importance of building and nurturing trust Rakesh Mohan will moderatehost this discussion\n",
      "httpstco1utxXJFZ8N httpstco0lshvbVAd2 What better start is there to a Monday than receiving a photo like this from Rob at countygolfclub Rob is most definitely an “early adopter” of the innovative redoxgrows technology from AquatrolsEurope 💪🏻🌱 Trust Partnership IsThereADifferentWay DontBeALaggard Aquatrols httpstcoXOBGmtfh2w\n",
      "cleaned:nan\n",
      "cleaned: IndiaToday Itll Be Gruesome As Rains Will Wreck Havoc All Over North Of India\n",
      "\n",
      "Expect Disasters Striking Off Unexpectedly With Cloudbursts amp Landslides\n",
      "\n",
      "Floods ClimateChange WeatherCrisis ForcesOfNature FIRESTORM drksky48 MineerBrett syritis ColtonDavies Kamscan RadioNLNews monocultured strand forests and the practice of clearcutting have a direct role here If BCforests were selective logged forests wed have a healthier more WildfireFireStorm resistant forest and arguably a healthiermore stable forest industry Western Canada Wildfires Are Generating their Own Weather Experts Warn\n",
      "httpstcoIEsWuwQnXe wildfires firestorm weather Typecell  Firestorm Rubricate Records httpstcogn1DnVTkxx via YouTube DnB dnb2021 cool concept music electronicmusic electronicmusicproducer different compilation ArtistSupport beatport fire Storm PROMO promotion YouTube VIDEOS underground culture Finally getting to show the place to mom firestorm httpstcoXIdhEdtet6 vssmagic\n",
      "\n",
      "he would remain a firestorm\n",
      "during his time\n",
      "on the city council\n",
      "as he fought to restore\n",
      "the poor parts of town\n",
      "while keeping the elite\n",
      "satisfied\n",
      "\n",
      "Count 146\n",
      "\n",
      "poetry \n",
      "WritersPost\n",
      "micropoetry\n",
      "poetrycommunity vssmagic\n",
      "\n",
      "he would remain a firestorm\n",
      "during his time\n",
      "on the city council\n",
      "as he fought to restore\n",
      "the poor parts of town\n",
      "while keeping the elite\n",
      "satisfied\n",
      "\n",
      "Count 146\n",
      "\n",
      "poetry \n",
      "WritersPost\n",
      "micropoetry\n",
      "poetrycommunity nytimes Theres No Stopping Of It amp Almost Every Continent Will Be On 🔥 Raging Wildfires\n",
      "\n",
      "The Winds Will Turn The 🔥 Into A FIRESTORM When ForcesOfNature Strikes\n",
      "\n",
      "Nature Is At War amp This Is Well Interpreted By TheStory On A SpiritualWar Thats Going On In The Background vssmagic Whistpr\n",
      "When it didnt shock me againI brought it homeadding it 2 my jar of collectibles\n",
      "That night I awokefeeling weirdDrawn by a strange lightI looked 2wards my jarrubbing sleep frm my eyesd stoneemitting tiny gruntswas cooking up a mini firestorm inside The crow warned me Soha says Nightjars are working with outside forces to strike at us Could this call for more extreme measures\n",
      "\n",
      "We must stay on the defensive as much as we can Badroulbadour says A firestorm of violence will harm the forest\n",
      "\n",
      "vssdaily vssmagic Gyrados and Mario emerge to bring forth Moltres the Firebreather 🛡 ⚔️ 🦅 🏹 ☀️ 🐉 🪙 🚀 FireStorm MatricesAndVectors Velocity Raptor upgrades Encryption Protocols elonmusk that’s twice First play There is nobody else I am Reed Richards OrionProtocol httpstcok8gdMV3p7H CNN smerconish Expect More Wildfires Around amp Along With Mighty Winds Itll Be Next To Impossible To Bring Em Down\n",
      "\n",
      "FIRESTORM ForcesOfNature\n",
      "\n",
      "The Universe Responds amp Reacts And Its Been Proven With All That Wild🔥 amp Floods Around\n",
      "\n",
      "RadioFrequencies Wavelengths PlanetarySciences Capitalisms failings expressed in the World Wide HousingDystopia amp ClimateDisaster   Ppl moving in to WildFireLand\n",
      "Housing builders will SCREAM if restricted from building those areas Fire resistant materials will not save your home in a fireStorm vssmagic \n",
      "you there yes you\n",
      "fetch me rain water\n",
      "quench this firestorm\n",
      "in my heart\n",
      "Id no idea\n",
      "it could hurt so bad\n",
      "for us to finally part\n",
      "we could not continue\n",
      "we were doomed \n",
      "from the start\n",
      "but shoulda woulda coulda\n",
      "never fixed a damn thing CNN smerconish Expect More Wildfires Around amp Along With Mighty Winds Itll Be Next To Impossible To Bring Em Down\n",
      "\n",
      "FIRESTORM ForcesOfNature\n",
      "\n",
      "The Universe Responds amp Reacts And Its Been Proven With All That Wild🔥 amp Floods Around\n",
      "\n",
      "RadioFrequencies Wavelengths PlanetarySciences The hermit sat on his peak a painted picture of calmnesssolitude\n",
      "\n",
      "The extremes of the firestorm raging around him silhouetted a petrified oak as he finally broke a 20 year silence\n",
      "\n",
      "Bugger forgot to pack the factor 50\n",
      "vss365 vssDreams vssdaily vssmagic scifansat httpstcokyTPchVPhO A black firestorm surrounded Aerilaya and was making its way towards Fayaris While the display petrified Kailu and Kimiko they wondered how she wasnt getting burned by the rune What they didnt see was the protective barrier created by the pendants she wore\n",
      "vssmagic vss A firestorm blazed overhead Kari knelt petrified at how extreme Riniko was willing to go She’d decimate the whole land\n",
      "The witch in question approached a glimmering bracelet in one hand “Ready for your final rest demon”\n",
      "flexvss vss365 vssdaily vssmagic The hermit sat on his peak a painted picture of calmnesssolitude\n",
      "\n",
      "The extremes of the firestorm raging around him silhouetted a petrified oak as he finally broke a 20 year silence\n",
      "\n",
      "Bugger forgot to pack the factor 50\n",
      "vss365 vssDreams vssdaily vssmagic scifansat httpstcokyTPchVPhO The hermit sat on his peak a painted picture of calmnesssolitude\n",
      "\n",
      "The extremes of the firestorm raging around him silhouetted a petrified oak as he finally broke a 20 year silence\n",
      "\n",
      "Bugger forgot to pack the factor 50\n",
      "vss365 vssDreams vssdaily vssmagic scifansat httpstcokyTPchVPhO vssmagic Whistpr\n",
      "When it didnt shock me againI brought it homeadding it 2 my jar of collectibles\n",
      "That night I awokefeeling weirdDrawn by a strange lightI looked 2wards my jarrubbing sleep frm my eyesd stoneemitting tiny gruntswas cooking up a mini firestorm inside BCWildfire You know it is real when ClaireMartinWx the weather guru makes this kind of forecast for WhiteRockLake fire near Vernon Firestorm httpstco5R7sOMIu4v BCWildfire Wind warning is going to increase WhiteRockFire size and intensity Firegenerated winds will be higher This is getting really ugly Vernon can expect to see spot fires A dangerous Firestorm Going to be a long night httpstco5K36GAuW03 BCWildfire Wind warning is going to increase WhiteRockFire size and intensity Firegenerated winds will be higher This is getting really ugly Vernon can expect to see spot fires A dangerous Firestorm Going to be a long night httpstco5K36GAuW03 BCWildfire You know it is real when ClaireMartinWx the weather guru makes this kind of forecast for WhiteRockLake fire near Vernon Firestorm httpstco5R7sOMIu4v\n",
      "cleaned:nan\n",
      "cleaned:nan\n",
      "cleaned:nan\n",
      "cleaned: This isn’t just a macabre fashion shoot It’s an MampS macabre fashion shoot \n",
      "deathandthemaiden deathandthelady macabrechic httpstco4vyiXHw0Ze\n",
      "cleaned: This weekend we watched all TheSuicideSquad movies amp realized that HarleyQuinn is just TankGirl for millennials httpstco2d8r9YKxcA “James Hong”\n",
      "JamesHong actor film AsianAmerican Mulan bloodsportfilm BladeRunner TankGirl TheShadow TheVineyard KungFuPanda BigTroubleLittleChina RevengeoftheNerds ChinaTown ATLA JackieChanAdventures ArtistOnTwitter artistoninstagram httpstcowCZ2HBOX57 Building COBI TOG 2 Super Heavy Tank Kit Live PART TWO  Tankgirl Buil httpstco6r1ulkxifc via YouTube braumsart Thank you\n",
      "Doodling last night just for fun My muse Cleopantha as tankgirl httpstcoe03ygv26JP selfpromotion warning Netflixfilm put together this piece on mehistoryfuture I hope it entertains Re the zillion questions about how to become a director I talk about some ideas near the end ABabysittersGuideToMonsterHunting DoctorWho Sherlock JohnWaters TankGirl httpstcoU8UWLd4oms loripetty would’ve been the perfect Harley Quinn for Jack Nicholson’s Joker if the character was around back then \n",
      "Facts \n",
      "♦️\n",
      "\n",
      "HarleyQuinn Batman Joker TankGirl DCComics SuicideSquad httpstcoeLVxkdSZWl So happy to finally buy this tmnt set from my favorite local artist Also grabbed a tankgirl inspired piece httpstcoZu1J4ZlHsU And yes Tankgirl will always be one of my faves httpstcohNdaBautkp And yes Tankgirl will always be one of my faves httpstcohNdaBautkp I am super excited to see that MargotRobbie will be tankgirl but I kind of wish I could also see JamesGunn do a tank girl movie No limits Because his movie TheSuicideSquad was a blast httpstcozRaQ7UJjhx And yes Tankgirl will always be one of my faves httpstcohNdaBautkp I am super excited to see that MargotRobbie will be tankgirl but I kind of wish I could also see JamesGunn do a tank girl movie No limits Because his movie TheSuicideSquad was a blast httpstcozRaQ7UJjhx Nova GOTCHA DAY 2 BEST DAY EVER\n",
      "Tankgirl SuperNova GotchaDay\n",
      "dogsoftwitter AdoptDontShop httpstcooOCNzdYceu Some telegram stickers for my best friend who happen to buy me some awesome patches and pins from TankGirl\n",
      "\n",
      "I do not offer stickers as commissions please do not ask httpstco9TrhZsgKKY braumsart Thank you\n",
      "Doodling last night just for fun My muse Cleopantha as tankgirl httpstcoe03ygv26JP braumsart Thank you\n",
      "Doodling last night just for fun My muse Cleopantha as tankgirl httpstcoe03ygv26JP Episode 124  Tank Girl with Niall from BatMinute \n",
      "\n",
      "httpstcoYi83E8KBVl\n",
      "\n",
      "tankGirl podcast MovieReview httpstcoDJo6RgqiVA Nova GOTCHA DAY 2 BEST DAY EVER\n",
      "Tankgirl SuperNova GotchaDay\n",
      "dogsoftwitter AdoptDontShop httpstcooOCNzdYceu selfpromotion warning Netflixfilm put together this piece on mehistoryfuture I hope it entertains Re the zillion questions about how to become a director I talk about some ideas near the end ABabysittersGuideToMonsterHunting DoctorWho Sherlock JohnWaters TankGirl httpstcoU8UWLd4oms Hey I just uploaded soe new stickers Check’m out Patches will be next 😃\n",
      "stickers alien tankgirl sailormoon witch httpstcoDkP9hWzCBE Episode 124  Tank Girl with Niall from BatMinute \n",
      "\n",
      "httpstcoYi83E8KBVl\n",
      "\n",
      "tankGirl podcast MovieReview httpstcoDJo6RgqiVA Episode 124  Tank Girl with Niall from BatMinute \n",
      "\n",
      "httpstcoYi83E8KBVl\n",
      "\n",
      "tankGirl podcast MovieReview httpstcoDJo6RgqiVA Episode 124  Tank Girl with Niall from BatMinute \n",
      "\n",
      "httpstcoYi83E8KBVl\n",
      "\n",
      "tankGirl podcast MovieReview httpstcoDJo6RgqiVA TankGirl Aragorn LOTR HelgaKatrinaSinclair and CatNoir for my daughter httpstcoiSin8FAuZP loripetty I fucking love you TankGirl JustSaying xxx ♥️\n",
      "cleaned: Have to keep reminding myself that I cant just smash the tabletennis ball all the time like I used to with this DHS DoubleHappiness Neo Hurricane3 Slower and more deliberate looping of the ball be the name of the game with the Neo H3\n",
      "\n",
      "A completely new way of playing A wonderful beachpool day with TasiaHudson I did say that the next time I post on Twitter it will be when I’m on a beach Clearly I failed Been on Twitter and not the beach smh but this is close enough 🤷🏾‍♀️😂\n",
      "\n",
      "WeCute Baecation DoubleHappiness TasteTheRainbow httpstcoIuAMQX2TV1 Gold Knot Union DoubleHappiness ChineseWedding Jewelry Box httpstco3SaCwAeG2d via zazzle customgift weddings wedding weddinggift asianwedding\n",
      "cleaned: FACEBOOK LINK httpstcomRw8g5jxKY Do you know this Dog Austell Pentry Wales Shire Ct  GA 30106 Cobb Co  Found Dog 08072021 Male Tibetan Spaniel  Pekingese Mix Tan not neutered  \n",
      "\n",
      "CONTACT Phone see flyer\n",
      "\n",
      "More Info Photos and to Contact … httpstcoPsmpfx2an8 ebayauction 1960 Fleer TyCobb Baseball Greats baseballcard number 42\n",
      "\n",
      "cobb baseball baseballcards hof halloffame mlb  httpstcokowMQrdW8y Trucks in Cobb County 882021 Part 2 \n",
      "\n",
      "truck  trucks  cobb  county  cobbcounty  photography  photographer  photo  photos  graphic  design  designer  graphicdesign  graphicdesigner  marietta  georgia  mariettageorgia  kennesaw  httpstcomAsqYfUUV2 Trucks in Cobb County 882021 Part 2 \n",
      "\n",
      "truck  trucks  cobb  county  cobbcounty  photography  photographer  photo  photos  graphic  design  designer  graphicdesign  graphicdesigner  marietta  georgia  mariettageorgia  kennesaw  httpstcomAsqYfUUV2 Photo of the day Trucks in Cobb County 882021\n",
      "\n",
      "truck  trucks  cobb  county  cobbcounty  photooftheday  photo  photos  photography  graphic  designer  kennesaw  georgia  kennesawgeorgia  marietta  mariettageorgia  graphicdesign  httpstcoWdTqngvpOD Photo of the day Trucks in Cobb County 882021\n",
      "\n",
      "truck  trucks  cobb  county  cobbcounty  photooftheday  photo  photos  photography  graphic  designer  kennesaw  georgia  kennesawgeorgia  marietta  mariettageorgia  graphicdesign  httpstcoWdTqngvpOD FACEBOOK LINK httpstcomRw8g5jxKY Do you know this Dog Austell Pentry Wales Shire Ct  GA 30106 Cobb Co  Found Dog 08072021 Male Tibetan Spaniel  Pekingese Mix Tan not neutered  \n",
      "\n",
      "CONTACT Phone see flyer\n",
      "\n",
      "More Info Photos and to Contact … httpstcoPsmpfx2an8 ebayauction 1960 Fleer TyCobb Baseball Greats baseballcard number 42\n",
      "\n",
      "cobb baseball baseballcards hof halloffame mlb  httpstcokowMQrdW8y Accident left two lanes blocked in Cobb on I285 WB at I75 Express Lanes Entrance ATLTraffic httpstcobABElTW6T2 Accident right lane blocked in Cobb on I285 NB after S Atlanta RdExit 16 stop and go traffic back to S Cobb Dr GA280Exit 15 ATLTraffic httpstcobABElTW6T2 20 magnitude earthquake 9 km from Cobb CA United States httpstco8rj8XuVYyn 17 magnitude earthquake 10 km from Cobb CA United States httpstco742GNeGqsb 17 magnitude earthquake 10 km from Cobb CA United States httpstco742GNeGqsb 17 magnitude earthquake 10 km from Cobb CA United States httpstco742GNeGqsb MetroAtlanta school districts report 100s of COVID19 cases days into school year 🤬\n",
      "The Cobb County School district has confirmed over 185 cases just one week into the school year\n",
      "Gwinnett County Schools reported 166 cases over just two school days\n",
      "\n",
      " httpstcoomjzjFakO7 Accident right two lanes blocked in Cobb on I 75 SB at Delk RdExit 261 ATLTraffic httpstcobABElTW6T2 20 magnitude earthquake 5 mi from Cobb CA United States httpstcoY2eFyj3Q1j 17 magnitude earthquake 6 mi from Cobb CA United States httpstcoXVzLEeYs6V 17 magnitude earthquake 6 mi from Cobb CA United States httpstcoXVzLEeYs6V 17 magnitude earthquake 10 km from Cobb CA United States httpstco742GNeGqsb 20 magnitude earthquake 5 mi from Cobb CA United States httpstcoY2eFyj3Q1j 20 magnitude earthquake 9 km from Cobb CA United States httpstco8rj8XuVYyn 20 magnitude earthquake 9 km from Cobb CA United States httpstco8rj8XuVYyn 20 magnitude earthquake 9 km from Cobb CA United States httpstco8rj8XuVYyn 20 magnitude earthquake 5 mi from Cobb CA United States httpstcoY2eFyj3Q1j\n",
      "cleaned: Similar movies with 5FlightsUp 2014\n",
      "\n",
      "MrsParkerAndTheViciousCircle\n",
      "BrokenCity\n",
      "TheKennedys\n",
      "\n",
      "More 📽 httpstcogSx5Y0gouK\n",
      "\n",
      "CinPick whatToWatch findMovies movies watchTonight httpstcoe1zWUZI1my\n",
      "cleaned: My guy JLChapman fixing out lessons on how to be Faithful Pay attention people this also works for being an adult 😂🤣 httpstcoctO2iEezg1 May we have another glorious blissful and flourishing Islamic New Year ahead May this year lead you to live as a pious faithful and devoted HumanBeing\n",
      "\n",
      "islamicnewyear dubairealestate dubaiproperties realestate  dubai dubailife dubaiinvestment uaeproperty httpstco2obisiE2Sd Tomorrow is my birthday 10th Aug Im going to chill and take care God is faithful another year Just about Im truly grateful  💥💥 🎂🎂 💛💖 🦁🦁♌☀️☀️ 🧁🧁 httpstcooAA3eOWVmX My guy JLChapman fixing out lessons on how to be Faithful Pay attention people this also works for being an adult 😂🤣 httpstcoctO2iEezg1 am a faithful steward of the gospel of Christ I do God’s work wholeheartedly and I walk in the experience of the Grace of God\n",
      "\n",
      "ZoeWordnuggets WordCare zoe lifenuggets propheticalert learn grace faithful steward servant worker httpstco5NBMln7eEE MARRYING the right person is more IMPORTANT than getting married before 20304050 etc\n",
      "\n",
      "DONT SETTLE cause what GOD has for you is worth the wait \n",
      "\n",
      "Faithful God🙌 My guy JLChapman fixing out lessons on how to be Faithful Pay attention people this also works for being an adult 😂🤣 httpstcoctO2iEezg1 The surest means of salvation is to do each day what we should wish to do at the hour of death St Angela Merici Catholic Christian religion faith faithful faithfulness virtue God Jesus Christ JesusChrist Savior salvation grace perseverance charity meditation httpstcoKtrFFDblE5 As a man thinks in his heart so is he asamanthinksinhisheart asamanthinksinhisheartsoishe faithful Tomorrow is my birthday 10th Aug Im going to chill and take care God is faithful another year Just about Im truly grateful  💥💥 🎂🎂 💛💖 🦁🦁♌☀️☀️ 🧁🧁 httpstcooAA3eOWVmX Whatever youre going through you CAN successfully get through it Just do what you can TRUST IN ALLAAH and get out of the way 😃\n",
      "\n",
      "trustAllah trust faith faithful tieyourcamel quran baqarah lastverse final measuredtonesinstitute httpstcoqHAM21xORI May we have another glorious blissful and flourishing Islamic New Year ahead May this year lead you to live as a pious faithful and devoted HumanBeing\n",
      "\n",
      "Have a peaceful and blessed New Hijri Year 1443\n",
      "\n",
      "newhijriyear newislamicyear blessings … httpstcoxSdn1OIQJm httpstcoZMgscV3wuX Since my surgery I hate I’m not able to workout at all but I damn sure ain’t eating no carbs sweets or nothing I see the results another 9lbs down ketolife myjourney faithful hardworkpaysoff ketolifestyle GoGirl httpstcodBMSmLHIc5 Amen ✝️ spiritual faith faithful God grace pray prayers praying amen believe Jesus spirituality Bible salvation Christ httpstco93kUdRwPyx “Be ye therefore followers of God as dear children”\n",
      "Ephesians 51 KJV\n",
      "\n",
      "scripture verseoftheday prayer God blessed bible Lord faith faithful  Christ theword Jesus httpstco0ZgzCMJ7E0 BethFratesMD Question for BethFratesMD that Ive asked many women wALMOST unanimity of response\n",
      "\n",
      "Who Beth is the MOST reliable amp faithful companion\n",
      "\n",
      "Is it the 4legged variety or the 2legged variety\n",
      "\n",
      "WHAT SAY U BETH FRATES HAPPY MOTIVATIONAL MONDAY Take two minutes and receive some inspiration for today Stay faithful and PRESS ON faithful press victory httpstcovGOE7vaRHD When the flood of the Spirit is released surprisingly only few people will partake therein ProphetOheneBekoe Quickword Quotes Results Church Kingdom Loyalty JesusChrist Commitment Life Wisdom Time Faithful Spiritual Overcome Promotion Reward httpstcouezfb7U7z3 My mornin Coffee \n",
      "PearlJam Faithful httpstcozwmTWxOcgt Amen ✝️ spiritual faith faithful God grace pray prayers praying amen believe Jesus spirituality Bible salvation Christ httpstco93kUdRwPyx The Lord is faithful Over 25 years have passed since this young man prepared to follow Godswill Since then the Lord has led PaulBackholer to preach to remote tribes in the Pacific follow in the footsteps of DavidLivingstone\n",
      "\n",
      "httpstcouL4B7ZsiJs httpstcoxL0YWJCmhP Grateful that I have been married 15 years Anniversary marriage faithful Great to be back in LevisStadium with the faithful httpstcobI8vWM3crz 9th August 2021 ltmirrorgt 5 8 9\n",
      "\n",
      "Who is 589\n",
      "\n",
      "Maintain FOCUS\n",
      "Continue to PRAY\n",
      "God already WON\n",
      "\n",
      "Remain faithful and KNOW that nothing is real\n",
      "\n",
      "No distraction is real No speed bump is unplanned\n",
      "\n",
      "WHs are in FULL CONTROL\n",
      "\n",
      "Be CALM BE STILL and give thanks always O my strength I sing with joy your praises O my stronghold I sing with joy your song O my Savior I sing with joy the lyrics of your faithful love for me Psalm 5917 TPT\n",
      "Make His praise glorious Scriptureverse praises sing faithful love\n",
      "cleaned: Heres a musical Monday post Twelfth Night has 6 original songs within the text Heres a throwback to our Feste Beverly Wagner getting ready to sing the final song of the evening Hey Ho the wind and rain\n",
      "\n",
      "hoosiershakespeare twelfthnight httpstcodvYTpdTtGU It is only fair to confess that I am not an avid fan of Shakespeare\n",
      "\n",
      "So lets see your review of TheGlobe TwelfthNight then httpstcoNsVdb9gqVg Today we are running another InclusiveAD workshop TheGlobe with theKokoBrown and hutchrach ahrcpress TwelfthNight BlindnessGain look out for a write up on our VocalEyesAD website httpstcok50Kh8o4Xj Today we are running another InclusiveAD workshop TheGlobe with theKokoBrown and hutchrach ahrcpress TwelfthNight BlindnessGain look out for a write up on our VocalEyesAD website httpstcok50Kh8o4Xj If you desire the spleen and will laugh yourself into stitches follow me\n",
      "\n",
      "Break a leg to our wonderful TwelfthNight Company who open Shakespeares joyful comedy in the Globe Theatre this evening\n",
      "\n",
      "httpstcoWoUVkj7M68\n",
      "📷 Marc Brenner httpstco2U26MXEBSS Today we are running another InclusiveAD workshop TheGlobe with theKokoBrown and hutchrach ahrcpress TwelfthNight BlindnessGain look out for a write up on our VocalEyesAD website httpstcok50Kh8o4Xj Heading to London to see Twelfthnight TheGlobe  especially GeorgeFouracres httpstcosZikueJAgz Theatre Review ‘Twelfth Night’ presented by Her Majesty amp Sons DCTheater newcompany twelfthnight shakespeare outdoor httpstcozB1AtlkD2m Tweet is still up though for the Guardians embargobustingbutsuddenlyremoved fourstar review of TheGlobe TwelfthNight httpstcoIEuE54OeZJ But come what may I do adore thee so\n",
      "That danger shall seem sport and I will go\n",
      "TwelfthNight ShakespeareSunday Bound httpstcoiEuADl2VcL Todays soundtrack for our jaunt up to Glasgow \n",
      "\n",
      "TwelfthNight FactAndFiction WeAreSane httpstco04UHgXc0gF My bff nadinehiggin is Toby Belch in twelfthnight theglobe \n",
      "AND the first woman to ever play him Proud doesn’t even begin to cover the emotions I’m feeling right now You’re an inspiration a trailblazer amp a pain in my whole side Happy press night you just made history httpstcoypbnZEIRJk Wonderful performance amp great access TheGlobe twelfthnight accessibility VisitEngland visitlondon EuansGuide johnpringdns httpstcoArozvd0MMO Happy Opening to the amazing cast amp crew of Twelfth Night director shakespeare 12thnightdc dctheatre askifitsequity musical livetheatre twelfthnight vaccinated httpstcovxJe3ILGMP Happy Opening to the amazing cast amp crew of Twelfth Night director shakespeare 12thnightdc dctheatre askifitsequity musical livetheatre twelfthnight vaccinated httpstcovxJe3ILGMP TheGlobe TwelfthNight wonderful to be there today for a fab afternoons fun Loved the show and such a talented group of actors 👏👏 With hey ho the wind and the rain \n",
      "TwelfthNight\n",
      "\n",
      "Weve had all the weather on Bankside today but that hasnt stopped us having THE BIGGEST smiles on our faces as we watch that incredible interaction between our actors and audiences once more ⭕\n",
      "\n",
      "ThisWoodenO httpstcoh6W4xsxo1f Shakespeare theglobe Featuring fibreglass tigers and deer dripping blood Yknow traditional  practices twelfthnight theatre\n",
      "Am slightly amused by groundlings organising themselves into rows without conferring httpstcoOVqDOxP4RJ With hey ho the wind and the rain \n",
      "TwelfthNight\n",
      "\n",
      "Weve had all the weather on Bankside today but that hasnt stopped us having THE BIGGEST smiles on our faces as we watch that incredible interaction between our actors and audiences once more ⭕\n",
      "\n",
      "ThisWoodenO httpstcoh6W4xsxo1f With hey ho the wind and the rain \n",
      "TwelfthNight\n",
      "\n",
      "Weve had all the weather on Bankside today but that hasnt stopped us having THE BIGGEST smiles on our faces as we watch that incredible interaction between our actors and audiences once more ⭕\n",
      "\n",
      "ThisWoodenO httpstcoh6W4xsxo1f With hey ho the wind and the rain \n",
      "TwelfthNight\n",
      "\n",
      "Weve had all the weather on Bankside today but that hasnt stopped us having THE BIGGEST smiles on our faces as we watch that incredible interaction between our actors and audiences once more ⭕\n",
      "\n",
      "ThisWoodenO httpstcoh6W4xsxo1f With hey ho the wind and the rain \n",
      "TwelfthNight\n",
      "\n",
      "Weve had all the weather on Bankside today but that hasnt stopped us having THE BIGGEST smiles on our faces as we watch that incredible interaction between our actors and audiences once more ⭕\n",
      "\n",
      "ThisWoodenO httpstcoh6W4xsxo1f A moment in history ⁦TheGlobe⁩ ⁦nadinehiggin⁩ as TobyBelch commanding the stage at PressNight last night TwelfthNight Trailblazing httpstcowLamYqr4C8 Will you be taking your decorations down today TwelfthNight🎄\n",
      "\n",
      "This manuscript contains the earliest known record of a performance of Twelfth Night and valuable information on the festive context in which the play was first received\n",
      "\n",
      "🔗 httpstcoYXKlHzXTCV httpstcoBcUyObIVdo My bff nadinehiggin is Toby Belch in twelfthnight theglobe \n",
      "AND the first woman to ever play him Proud doesn’t even begin to cover the emotions I’m feeling right now You’re an inspiration a trailblazer amp a pain in my whole side Happy press night you just made history httpstcoypbnZEIRJk\n",
      "cleaned:nan\n",
      "cleaned:nan\n",
      "cleaned: Do you have your head in the clouds or did you just take a bite of the Up in Smoke 😶‍🌫️ One bite and you might just think you’re dreaming 🤤 UpInSmoke httpstcoQeOKPGuJy1 cryptocannabisclub CryptoCannaClub is a lit fam\n",
      "Join in the growers train NFT Weedgrowers Weed Cannabis UpinSmoke\n",
      "\n",
      "PuffPuffPass fam Tag 5 more NFTokers\n",
      "Make it the BIGGEST ROTATION EVER\n",
      "\n",
      "GOON8686 \n",
      "BradKingEth\n",
      "galaxyadams \n",
      "KennyGabbara \n",
      "EnricoMoses \n",
      "\n",
      "Lightup🔥 httpstco9FHOS0rRuZ cryptocannabisclub CryptoCannaClub is a lit fam\n",
      "Join in the growers train NFT Weedgrowers Weed Cannabis UpinSmoke\n",
      "\n",
      "PuffPuffPass fam Tag 5 more NFTokers\n",
      "Make it the BIGGEST ROTATION EVER\n",
      "\n",
      "GOON8686 \n",
      "BradKingEth\n",
      "galaxyadams \n",
      "KennyGabbara \n",
      "EnricoMoses \n",
      "\n",
      "Lightup🔥 httpstco9FHOS0rRuZ cryptocannabisclub CryptoCannaClub is a lit fam\n",
      "Join in the growers train NFT Weedgrowers Weed Cannabis UpinSmoke\n",
      "\n",
      "PuffPuffPass fam Tag 5 more NFTokers\n",
      "Make it the BIGGEST ROTATION EVER\n",
      "\n",
      "GOON8686 \n",
      "BradKingEth\n",
      "galaxyadams \n",
      "KennyGabbara \n",
      "EnricoMoses \n",
      "\n",
      "Lightup🔥 httpstco9FHOS0rRuZ tommychong talking about how his Up In Smoke money went upinsmoke Episode link in the bio\n",
      "\n",
      "comic comedy podcast interview httpstco5uwlrELhju tommychong talking about how his Up In Smoke money went upinsmoke Episode link in the bio\n",
      "\n",
      "comic comedy podcast interview httpstco5uwlrELhju tommychong talking about how his Up In Smoke money went upinsmoke Episode link in the bio\n",
      "\n",
      "comic comedy podcast interview httpstco5uwlrELhju Check out my nft collection 👇👇👇httpstcoF83MayakgR \n",
      "nftcollector nftart NFTcollection OpenSeaNFT openseanfts upinsmoke cryptopunks BoredApeYachtClub meebits eth Kitty 😚 httpstco76nPTggdOa    nftcollector nftart NFTcollection OpenSeaNFT openseanfts upinsmoke cryptopunks BoredApeYachtClub meebits ethereum bitcoin cryptocurrency cryptocannabisclub CryptoCannaClub is a lit fam\n",
      "Join in the growers train NFT Weedgrowers Weed Cannabis UpinSmoke\n",
      "\n",
      "PuffPuffPass fam Tag 5 more NFTokers\n",
      "Make it the BIGGEST ROTATION EVER\n",
      "\n",
      "GOON8686 \n",
      "BradKingEth\n",
      "galaxyadams \n",
      "KennyGabbara \n",
      "EnricoMoses \n",
      "\n",
      "Lightup🔥 httpstco9FHOS0rRuZ cryptocannabisclub CryptoCannaClub is a lit fam\n",
      "Join in the growers train NFT Weedgrowers Weed Cannabis UpinSmoke\n",
      "\n",
      "PuffPuffPass fam Tag 5 more NFTokers\n",
      "Make it the BIGGEST ROTATION EVER\n",
      "\n",
      "GOON8686 \n",
      "BradKingEth\n",
      "galaxyadams \n",
      "KennyGabbara \n",
      "EnricoMoses \n",
      "\n",
      "Lightup🔥 httpstco9FHOS0rRuZ cryptocannabisclub CryptoCannaClub is a lit fam\n",
      "Join in the growers train NFT Weedgrowers Weed Cannabis UpinSmoke\n",
      "\n",
      "PuffPuffPass fam Tag 5 more NFTokers\n",
      "Make it the BIGGEST ROTATION EVER\n",
      "\n",
      "GOON8686 \n",
      "BradKingEth\n",
      "galaxyadams \n",
      "KennyGabbara \n",
      "EnricoMoses \n",
      "\n",
      "Lightup🔥 httpstco9FHOS0rRuZ cryptocannabisclub CryptoCannaClub is a lit fam\n",
      "Join in the growers train NFT Weedgrowers Weed Cannabis UpinSmoke\n",
      "\n",
      "PuffPuffPass fam Tag 5 more NFTokers\n",
      "Make it the BIGGEST ROTATION EVER\n",
      "\n",
      "GOON8686 \n",
      "BradKingEth\n",
      "galaxyadams \n",
      "KennyGabbara \n",
      "EnricoMoses \n",
      "\n",
      "Lightup🔥 httpstco9FHOS0rRuZ cryptocannabisclub CryptoCannaClub is a lit fam\n",
      "Join in the growers train NFT Weedgrowers Weed Cannabis UpinSmoke\n",
      "\n",
      "PuffPuffPass fam Tag 5 more NFTokers\n",
      "Make it the BIGGEST ROTATION EVER\n",
      "\n",
      "GOON8686 \n",
      "BradKingEth\n",
      "galaxyadams \n",
      "KennyGabbara \n",
      "EnricoMoses \n",
      "\n",
      "Lightup🔥 httpstco9FHOS0rRuZ cryptocannabisclub CryptoCannaClub is a lit fam\n",
      "Join in the growers train NFT Weedgrowers Weed Cannabis UpinSmoke\n",
      "\n",
      "PuffPuffPass fam Tag 5 more NFTokers\n",
      "Make it the BIGGEST ROTATION EVER\n",
      "\n",
      "GOON8686 \n",
      "BradKingEth\n",
      "galaxyadams \n",
      "KennyGabbara \n",
      "EnricoMoses \n",
      "\n",
      "Lightup🔥 httpstco9FHOS0rRuZ You let me down Harry im stoned upinsmoke I dont wanna go to your school upinsmoke Fuuuuuccckkk mmmmeeee\n",
      "Fffuuuuccckk mmmeee\n",
      "Fucke Alex \n",
      "Fuck me Alex \n",
      "\n",
      "I didnt know you name was Alex 👏👏👏👏👏👏👏👏👏👏👏 upinsmoke RedDMartalArts dont make me put you back in the closet  lol upinsmoke Hair420Red  you gonnaset aside some lids for me 🤣🤣🤣upinsmoke Code name Hard head  hard hat Was that lard ass\n",
      "upinsmoke Why is Sgt Stendenko riding 3 i the front one in the back  Lol upinsmoke httpstcozP8ltSCZsQ cryptocannabisclub CryptoCannaClub is a lit fam\n",
      "Join in the growers train NFT Weedgrowers Weed Cannabis UpinSmoke\n",
      "\n",
      "PuffPuffPass fam Tag 5 more NFTokers\n",
      "Make it the BIGGEST ROTATION EVER\n",
      "\n",
      "GOON8686 \n",
      "BradKingEth\n",
      "galaxyadams \n",
      "KennyGabbara \n",
      "EnricoMoses \n",
      "\n",
      "Lightup🔥 httpstco9FHOS0rRuZ How do you make a TV out of Marijuana upinsmoke BuckPale Hair420Red TeddiThompsonS1 Shoot the moon upinsmoke\n",
      "cleaned: SomeKindofWonderful ericstoltz s Keith is oblivious that his bestie drummer Watts is in love with him whilst he yearns for LeaKThompson s Amanda who goes on a date with him  Her rich boyfriends having none of it amp vows to take him down VP\n",
      "httpstcoYm4pzdR0Pr httpstcoOtFazXxRgM SomeKindofWonderful ericstoltz s Keith is oblivious that his bestie drummer Watts is in love with him whilst he yearns for LeaKThompson s Amanda who goes on a date with him  Her rich boyfriends having none of it amp vows to take him down VP\n",
      "httpstcoYm4pzdR0Pr httpstcoOtFazXxRgM My beautiful steelbook SomeKindofWonderful JohnHughes httpstco0Cq7P8Ohbt My beautiful steelbook SomeKindofWonderful JohnHughes httpstco0Cq7P8Ohbt ericstoltz watching Somekindofwonderful \n",
      "Love this 80s flick It was a little overcast for this mornings walk but the 70s Rock Station kept me going  Happy Humpday friends  gettingmystepsin WalkEveryday 70sRockMusic SomeKindofWonderful grandfunkrailroad 🚶🏾‍♀️🎶🎧 🌸 🍁 httpstconMuiXqCNwy Man I love this movie\n",
      "SomeKindOfWonderful httpstco7exg0ZW6uI maddiecorman mollyhagan \n",
      "That time when its obscene thirty am u cant sleep amp look on Hulu to see whats currently streaming amp u have it on DVD but you watch anyway amp try not 2 wake ur spouse as u mouth the words\n",
      "somekindofwonderful maddiecorman mollyhagan \n",
      "That time when its obscene thirty am u cant sleep amp look on Hulu to see whats currently streaming amp u have it on DVD but you watch anyway amp try not 2 wake ur spouse as u mouth the words\n",
      "somekindofwonderful\n",
      "cleaned:nan\n",
      "cleaned:nan\n",
      "cleaned:nan\n",
      "cleaned:nan\n",
      "cleaned:nan\n",
      "cleaned: this song was written after the murder of two children by a PIRA bomb in England  you are insulting their memory  and causing more hurt upon the innocents  legacy httpstcoJbCFsqxxXm this song was written after the murder of two children by a PIRA bomb in England  you are insulting their memory  and causing more hurt upon the innocents  legacy httpstcoJbCFsqxxXm this song was written after the murder of two children by a PIRA bomb in England  you are insulting their memory  and causing more hurt upon the innocents  legacy httpstcoJbCFsqxxXm this song was written after the murder of two children by a PIRA bomb in England  you are insulting their memory  and causing more hurt upon the innocents  legacy httpstcoJbCFsqxxXm this song was written after the murder of two children by a PIRA bomb in England  you are insulting their memory  and causing more hurt upon the innocents  legacy httpstcoJbCFsqxxXm this song was written after the murder of two children by a PIRA bomb in England  you are insulting their memory  and causing more hurt upon the innocents  legacy httpstcoJbCFsqxxXm this song was written after the murder of two children by a PIRA bomb in England  you are insulting their memory  and causing more hurt upon the innocents  legacy httpstcoJbCFsqxxXm this song was written after the murder of two children by a PIRA bomb in England  you are insulting their memory  and causing more hurt upon the innocents  legacy httpstcoJbCFsqxxXm this song was written after the murder of two children by a PIRA bomb in England  you are insulting their memory  and causing more hurt upon the innocents  legacy httpstcoJbCFsqxxXm this song was written after the murder of two children by a PIRA bomb in England  you are insulting their memory  and causing more hurt upon the innocents  legacy httpstcoJbCFsqxxXm this song was written after the murder of two children by a PIRA bomb in England  you are insulting their memory  and causing more hurt upon the innocents  legacy httpstcoJbCFsqxxXm We call them innocents\n",
      "but innocence can be purchased\n",
      "They’ve got blood on their faces\n",
      "Fat as ticks well nourished\n",
      "\n",
      "The Vampire Party\n",
      "took over our Senate\n",
      "They’re old money families\n",
      "Big Biz amp Tech befriended\n",
      "\n",
      "Their way to suppress the vote\n",
      "Is to thin it\n",
      "\n",
      "vss365\n",
      "horrorprompt httpstcoKFu1cofSrT We call them innocents\n",
      "but innocence can be purchased\n",
      "They’ve got blood on their faces\n",
      "Fat as ticks well nourished\n",
      "\n",
      "The Vampire Party\n",
      "took over our Senate\n",
      "They’re old money families\n",
      "Big Biz amp Tech befriended\n",
      "\n",
      "Their way to suppress the vote\n",
      "Is to thin it\n",
      "\n",
      "vss365\n",
      "horrorprompt httpstcoKFu1cofSrT AskAnshul Rightofaman Innocents Men who faces FakeCases in DV2021 498A etc should also assume that the cruel Wife will bite one way or other but we have to stand firm with Truth and will get Victory over FakeCases \n",
      "\n",
      "KirenRijiju HMOIndia PMOIndia IndiaNHRC CIJICJ Olympics NBCOlympics httpstcoWthWQQC1WS We call them innocents\n",
      "but innocence can be purchased\n",
      "They’ve got blood on their faces\n",
      "Fat as ticks well nourished\n",
      "\n",
      "The Vampire Party\n",
      "took over our Senate\n",
      "They’re old money families\n",
      "Big Biz amp Tech befriended\n",
      "\n",
      "Their way to suppress the vote\n",
      "Is to thin it\n",
      "\n",
      "vss365\n",
      "horrorprompt httpstcoKFu1cofSrT We call them innocents\n",
      "but innocence can be purchased\n",
      "They’ve got blood on their faces\n",
      "Fat as ticks well nourished\n",
      "\n",
      "The Vampire Party\n",
      "took over our Senate\n",
      "They’re old money families\n",
      "Big Biz amp Tech befriended\n",
      "\n",
      "Their way to suppress the vote\n",
      "Is to thin it\n",
      "\n",
      "vss365\n",
      "horrorprompt httpstcoKFu1cofSrT AskAnshul Rightofaman Innocents Men who faces FakeCases in DV2021 498A etc should also assume that the cruel Wife will bite one way or other but we have to stand firm with Truth and will get Victory over FakeCases \n",
      "\n",
      "KirenRijiju HMOIndia PMOIndia IndiaNHRC CIJICJ Olympics NBCOlympics httpstcoWthWQQC1WS In Afghanistan girls can dream but only the dreams of boys come true\n",
      "Jeansasson\n",
      "Afghanistan \n",
      "Kabul innocents AskAnshul Rightofaman Innocents Men who faces FakeCases in DV2021 498A etc should also assume that the cruel Wife will bite one way or other but we have to stand firm with Truth and will get Victory over FakeCases \n",
      "\n",
      "KirenRijiju HMOIndia PMOIndia IndiaNHRC CIJICJ Olympics NBCOlympics httpstcoWthWQQC1WS AskAnshul Rightofaman Innocents Men who faces FakeCases in DV2021 498A etc should also assume that the cruel Wife will bite one way or other but we have to stand firm with Truth and will get Victory over FakeCases \n",
      "\n",
      "KirenRijiju HMOIndia PMOIndia IndiaNHRC CIJICJ Olympics NBCOlympics httpstcoWthWQQC1WS AskAnshul Rightofaman Innocents Men who faces FakeCases in DV2021 498A etc should also assume that the cruel Wife will bite one way or other but we have to stand firm with Truth and will get Victory over FakeCases \n",
      "\n",
      "KirenRijiju HMOIndia PMOIndia IndiaNHRC CIJICJ Olympics NBCOlympics httpstcoWthWQQC1WS Ppl are dying innocents are suffering villages and towns are slain 5 million  Tigray is at the brink of extinction\n",
      "Abiy is playing hide and sick with USAID and the international community\n",
      "And is the world cheering Genocide play \n",
      "HumeraMassacre \n",
      "TigrayGenocide AskAnshul Rightofaman Innocents Men who faces FakeCases in DV2021 498A etc should also assume that the cruel Wife will bite one way or other but we have to stand firm with Truth and will get Victory over FakeCases \n",
      "\n",
      "KirenRijiju HMOIndia PMOIndia IndiaNHRC CIJICJ Olympics NBCOlympics httpstcoWthWQQC1WS AskAnshul Rightofaman Innocents Men who faces FakeCases in DV2021 498A etc should also assume that the cruel Wife will bite one way or other but we have to stand firm with Truth and will get Victory over FakeCases \n",
      "\n",
      "KirenRijiju HMOIndia PMOIndia IndiaNHRC CIJICJ Olympics NBCOlympics httpstcoWthWQQC1WS AskAnshul Rightofaman Innocents Men who faces FakeCases in DV2021 498A etc should also assume that the cruel Wife will bite one way or other but we have to stand firm with Truth and will get Victory over FakeCases \n",
      "\n",
      "KirenRijiju HMOIndia PMOIndia IndiaNHRC CIJICJ Olympics NBCOlympics httpstcoWthWQQC1WS\n",
      "cleaned: SellStuffSaturday\n",
      "\n",
      "EstateSales \n",
      "UnkyanFinds \n",
      "\n",
      "Down to the Sea\n",
      "\n",
      "Check out Department56 NE Village Accessory The OldManandTheSea 56553 \n",
      "\n",
      "httpstco6824Hsvc62 ⁦eBay⁩ SellStuffSaturday\n",
      "\n",
      "EstateSales \n",
      "UnkyanFinds \n",
      "\n",
      "Down to the Sea\n",
      "\n",
      "Check out Department56 NE Village Accessory The OldManandTheSea 56553 \n",
      "\n",
      "httpstco6824Hsvc62 ⁦eBay⁩\n",
      "cleaned: Never Thought In My Lifetime We Would Be Living The BigLie ManMade Catastrophe To Force People Into A False Sense of Security\n",
      "\n",
      "Peak TrumanShow Orwell1984 Bezmenov httpstcoZfeT49wXhd Heres our TV amp Streaming Picks for the Week Ahead harrypotter TV trumanshow roxanne stevemartin BBCProms AmericanOz LFrankBaum WizardofOz masterchef threeamigos fatherofthebride theworstwitch babymama 30rock loki \n",
      "httpstcoe3p06BQfUf Narcissists twist the fabric of reality for their toxic agendaWe are all living in the trumanshow Propaganda lies Gaslighting theelite Karma sociopaths thesecret My dream job would be on the trumanshow so everyone can watch me live my daily life and struggles truereality thesecret My dream job would be on the trumanshow so everyone can watch me live my daily life and struggles truereality Hello Earth Here is some paintings that can help for becoming a Utopie Utopia The Trumanshow concept tool is for me temporary and I will stay logic because there is beauty in thinking well and just and logic The blackfly is space traffic and could destroy your pedophilia httpstcoAzq2dCt4ti Hello Earth Here is some paintings that can help for becoming a Utopie Utopia The Trumanshow concept tool is for me temporary and I will stay logic because there is beauty in thinking well and just and logic The blackfly is space traffic and could destroy your pedophilia httpstcoAzq2dCt4ti Sometimes I think the public is stupid and gullible and that they still believe Orson Welles alien invasion with a combination of TrumanShow TheyLive TheGiver amp TheMatrix hybrid combo in the universe we live in hazzaricks Remember the end of the movie TrumanShow \n",
      "\n",
      "Once the tv audience got what they wanted they changed the channel nicolechenelle Bravo👍 This TrumanShow for masses shows us  a pattern from the very core of their strategy Now we see how deeply they rely on persuasion techniques and PsyOps I would also guess there must be some Hollywood or TV connection to professional network Miramax Burnett nicolechenelle Bravo👍 This TrumanShow for masses shows us  a pattern from the very core of their strategy Now we see how deeply they rely on persuasion techniques and PsyOps I would also guess there must be some Hollywood or TV connection to professional network Miramax Burnett boredgentleman What if…\n",
      "Hits Blunt\n",
      "We’re actually the NFTs for our pfp \n",
      "TrumanShow The Truman Show \n",
      "\n",
      "TrumanShow rhaglund Reminds me of the TrumanShow httpstcomOxNDVr7FX elonmusk are you launching that kid into space will be in a uodated version of the trumanshow and wartch littlle EMC2 grow into a man on his 30000000 parsec journey to mars  elonmusk are you launching that kid into space will be in a uodated version of the trumanshow and wartch littlle EMC2 grow into a man on his 30000000 parsec journey to mars  This new RyanReynolds movie is the video game version of the trumanshow and I’m with it LBC Why is it better to be a terrorist😀 You can also ask why is it better to be a felon than to be TrumanBurbank in the TrumanShow\n",
      "cleaned:nan\n",
      "cleaned: Faye Wong in Chungking Express Wong KarWai 1994\n",
      "\n",
      "Fayewong ChungkingExpress httpstcoueJPJGxCwl another otp from Wong Kar Wai’s Chungking Express 1994 \n",
      "fayewong chungkingexpress wongkarwai  fanart roodle fanmade illustration httpstcoZrHUCGlhp7 Faye Wong in Chungking Express Wong KarWai 1994\n",
      "\n",
      "Fayewong ChungkingExpress httpstcoueJPJGxCwl Faye Wong in Chungking Express Wong KarWai 1994\n",
      "\n",
      "Fayewong ChungkingExpress httpstcoueJPJGxCwl Faye Wong in Chungking Express Wong KarWai 1994\n",
      "\n",
      "Fayewong ChungkingExpress httpstcoueJPJGxCwl Faye Wong in Chungking Express Wong KarWai 1994\n",
      "\n",
      "Fayewong ChungkingExpress httpstcoueJPJGxCwl Faye Wong in Chungking Express Wong KarWai 1994\n",
      "\n",
      "Fayewong ChungkingExpress httpstcoueJPJGxCwl Faye Wong in Chungking Express Wong KarWai 1994\n",
      "\n",
      "Fayewong ChungkingExpress httpstcoueJPJGxCwl Faye Wong in Chungking Express Wong KarWai 1994\n",
      "\n",
      "Fayewong ChungkingExpress httpstcoueJPJGxCwl Faye Wong in Chungking Express Wong KarWai 1994\n",
      "\n",
      "Fayewong ChungkingExpress httpstcoueJPJGxCwl Faye Wong in Chungking Express Wong KarWai 1994\n",
      "\n",
      "Fayewong ChungkingExpress httpstcoueJPJGxCwl Faye Wong in Chungking Express Wong KarWai 1994\n",
      "\n",
      "Fayewong ChungkingExpress httpstcoueJPJGxCwl Faye Wong in Chungking Express Wong KarWai 1994\n",
      "\n",
      "Fayewong ChungkingExpress httpstcoueJPJGxCwl Faye Wong in Chungking Express Wong KarWai 1994\n",
      "\n",
      "Fayewong ChungkingExpress httpstcoueJPJGxCwl Faye Wong in Chungking Express Wong KarWai 1994\n",
      "\n",
      "Fayewong ChungkingExpress httpstcoueJPJGxCwl Faye Wong in Chungking Express Wong KarWai 1994\n",
      "\n",
      "Fayewong ChungkingExpress httpstcoueJPJGxCwl Faye Wong in Chungking Express Wong KarWai 1994\n",
      "\n",
      "Fayewong ChungkingExpress httpstcoueJPJGxCwl Faye Wong in Chungking Express Wong KarWai 1994\n",
      "\n",
      "Fayewong ChungkingExpress httpstcoueJPJGxCwl Faye Wong in Chungking Express Wong KarWai 1994\n",
      "\n",
      "Fayewong ChungkingExpress httpstcoueJPJGxCwl HappyBirthday to the wonderful actress and singer FayeWong Dont stop daydreaming ChungkingExpress Dreams CaliforniaDreamin 2046Movie httpstcoVQkmeuwDyU Faye Wong in Chungking Express Wong KarWai 1994\n",
      "\n",
      "Fayewong ChungkingExpress httpstcoueJPJGxCwl Faye Wong in Chungking Express Wong KarWai 1994\n",
      "\n",
      "Fayewong ChungkingExpress httpstcoueJPJGxCwl Faye Wong in Chungking Express Wong KarWai 1994\n",
      "\n",
      "Fayewong ChungkingExpress httpstcoueJPJGxCwl Faye Wong in Chungking Express Wong KarWai 1994\n",
      "\n",
      "Fayewong ChungkingExpress httpstcoueJPJGxCwl Faye Wong in Chungking Express Wong KarWai 1994\n",
      "\n",
      "Fayewong ChungkingExpress httpstcoueJPJGxCwl\n",
      "cleaned:nan\n",
      "cleaned: We are going to go over important ResidentialSecurity tips that you should be doing in order to keep your home safe\n",
      "\n",
      "🔒 Read More httpstcoaCfIS7zX3l\n",
      "\n",
      "SecurityTips KeepYourHomeSafe HomeSecurityTips Toronto AffordableSecuritySystems Security Safety SecurityCamera httpstcogAqqIuKo6M ✅✅✅✅✅✅✅✅✅✅✅✅✅\n",
      "                              20 \n",
      "                       TODAY \n",
      "SAFE BETS WIN ALL DAY 247 httpstco8NTj8Ih7VN httpstcopRXu6duKQd Stay Safe and Insured\n",
      "We Shield You with \n",
      "Best NeedBased \n",
      "Health Insurance Plans\n",
      "\n",
      "Call Now for Best Health Insurance Plans\n",
      "9310871515\n",
      "\n",
      "health insurance safe family SBS sbsinsurance healthinsurance business httpstcofkgR0rJVvv Are you starting to think about the return to school With a selfreg focus here’s some great ideas and considerations for those returning to in person instruction It’s all about creating a safe secure and calm environment to promote learning httpstcoFR2uSOEOi9 Missed our webinar on COVID19 variants safetyguidelines masking and backtoschool considerations Check out the recording here amp share it with your friends amp family to help keep them safe httpstcottZZfdITeu \n",
      "\n",
      "ncceal northcarolina covidwebinar covid19update Our practical trainer courses may be perfect for your business This program is suitable for previously certified operators who possess good communication and operating skills Click the link to learn more safe \n",
      "\n",
      "httpstco0mWvd7uB3g httpstcoMlBoM8gKhh Todays Affirmation\n",
      "\n",
      "I will no longer allow to fear to steer me away from the life I am intended to live💛✨\n",
      "\n",
      "\n",
      "\n",
      "\n",
      "\n",
      "\n",
      "safe wearesafe breakingbarriers nonprofit affirmations blackwomen mentalhealth emotionalhealth explorepage Safe\n",
      "I respectfully beg to differ\n",
      "Safe would mean ExpellingGymJordanUnfitForOffice We ask that you attend your appointments alone Please do not bring children with you to your appointment \n",
      "\n",
      "If you are not able to arrange childcare please contact the relevant clinic or department whose details are on the appointment letter to discuss this\n",
      "\n",
      "Safe httpstconl6YyilSRz OSHA’s Safe  Sound Week kicks off today  Occupational Health amp Safety httpstcohltTriiNKW\n",
      "\n",
      "\n",
      "safetynews safeampsound OSHA cometogether savelives safety safetymanager humanresources hr onestopshop HSI healthandsafety ehs construction If you would like to look into safe options for your home or business contact us on 0203 284 1045 \n",
      "safe safes homesafes businesssafes gradedsafes fireproofsafes buysafes safesinstallation highsecurity mlalocksmith londonlocksmith london\n",
      "httpstcoqkm6q7keYe I’m a thirdgrade Sped inclusion teacher in a Title1 low income school Because of COVID  my students have extra needs like hand sanitizer to help Keep us safe Please look amp consider a donation or RT to help clearthelist grateful MagentaMagic httpstco749sWsDR1H httpstco6z4JhjldXu Always be open to listening Empathy amp compassion are what will change the world not division We need each other and every single perspective to learn amp grow forward\n",
      "\n",
      "listen emotion safe open change httpstcokCinbjuDfH Dont let the State take away your Estate \n",
      "\n",
      "Learn how EstatePlanning can Protect for and Provide for your familys Future\n",
      "\n",
      "Contact us for a FREE consultation Email giftplanseccsdaorg or Call 8004914441\n",
      "\n",
      "Blessed Safe Future Faith Hope Trust httpstcoqhTd0YMA7p Looking at those stacks of documents and wondering what to do with them Safe Secure shredding available here\n",
      "shredding documentshredding safe secure disposal libertmo httpstcodSSks33Xmh Today at YouthCamp we had the amazing Officers from LancsPolice to engage support and learn about being safe \n",
      "\n",
      "Thank you LancsPolice AndyPenwortham AJSnowden DCCWoods \n",
      "\n",
      "HAF2021 BwDDenise MaureenBateson jayneivory bethwolfie dar778900 ImranAkujii OsmanSayyed httpstcov8PBuM6vbT Today at YouthCamp we had the amazing Officers from LancsPolice to engage support and learn about being safe \n",
      "\n",
      "Thank you LancsPolice AndyPenwortham AJSnowden DCCWoods \n",
      "\n",
      "HAF2021 BwDDenise MaureenBateson jayneivory bethwolfie dar778900 ImranAkujii OsmanSayyed httpstcov8PBuM6vbT Monday Motivation keep the love in your heart safe and strong  \n",
      "\n",
      "httpstcojHV3xVeh5D\n",
      "\n",
      "InspiredPins InspireChange Safe mondaymotivation httpstco30bFfSD0ZA Providing accessible transportation solutions in a safe efficient and responsible manner\n",
      "\n",
      "Doortodoor transportation with respect and utmost care\n",
      "\n",
      "Coming to your community soon\n",
      "\n",
      "MUVE gomuve safe transit doortodoor health mobility download app httpstco69lvOVYBBl Before bed every night I put on my face shield and two masks I inject Testy and Tracy with a saline solution so they can practice what its like to receive a COVID vaccine I pray that the FDA grants emergency authorization soon for kids so they can be safe gratefulforscience This school summer holiday ensure our schools are safe from bacteria germs and viruses found on laptops tablets keyboards and mice by using our computer cleaning services\n",
      "\n",
      "Safeguard students and teachers today starting with a FREE QUOTE\n",
      "\n",
      "httpstcoLD37sMKUcY httpstco2SInUmkehG Transact online instore or in person in Stellar with the Lifestyle digital wallet  digitalwallet merchant blockchain safe secure crypto fiatcurrency Stellar commodities investments cash httpstcoaGZGEXL1HC Ya it is Any tips or tricks to making your campfire safe\n",
      "\n",
      "camping campfire HSConf yeg yyc Alberta health safety wellness healthandsafety workplace healthsafety safetyfirst safe healthylifestyle healthy occupational occupation event marketing community httpstcohMqGJw6hyi In celebration of the women in the world may you be  safe may you be protected and may you be prosperous Queens amp Princesses httpstcou6lipdfENf yournobodys i dont have a car  i dont know how to drive 😂 safe\n",
      "cleaned:nan\n",
      "cleaned: Welcome 💀 FOOLISH MORTALS\n",
      "  MUSTSEE MansionMonday\n",
      "\n",
      "The ONEnONLY ‘TONY’\n",
      "EscapeToWitchMountain’s 🛸\n",
      "⭐️IKE EISENMANN⭐️\n",
      "\n",
      "and notable author HouseOfRosen\n",
      "get me to SPILL SECRETS on\n",
      "  🔮TheHauntedMansion🔮\n",
      "\n",
      "STAY TUNED for awes DisneyPodcast🎧\n",
      "\n",
      "PEEK👉httpstcoRHlO7u4a5U httpstcoZZVCdU8R4y\n",
      "cleaned: getonthebus complimentary ridership on NEW LINXTransit Route 6 midlandON to Orillia until after LabourDay Sept 3 For more info visit httpstcobPPjTwfsqa or download the Transit app on your Apple or Android device connectingcommunities simcoecounty httpstcoLgmc0X1vj3 We go again every Monday every week and we need you to join us \n",
      "\n",
      "getonthebus\n",
      "scaleups berlin Munich london\n",
      "recruitment talentacquisition httpstcofYO4LWEzCk Kicking Off 2021 Season Can’t wait to see what this team’s legacy will be wearebranson getonthebus httpstcoYmZKy7hboC Channel surfing fighting sleep\n",
      "Produces great finds Hype to watch thus one\n",
      "\n",
      "GetOnTheBus \n",
      "FilmStudy \n",
      "\n",
      "httpstcoNN9CCeR6TX snackman RagingBitcoin bitpixi adultarts ParadoxxMedia bitpixi can you make a tour bus in voxels 🚌 I got some ideas 🤩 getonthebus httpstcovY9LlUlhr8 getonthebus complimentary ridership on NEW LINXTransit Route 6 midlandON to Orillia until after LabourDay Sept 3 For more info visit httpstcobPPjTwfsqa or download the Transit app on your Apple or Android device connectingcommunities simcoecounty httpstcodxRY9XCARD getonthebus complimentary ridership on NEW LINXTransit Route 6 midlandON to Orillia until after LabourDay Sept 3 For more info visit httpstcobPPjTwfsqa or download the Transit app on your Apple or Android device connectingcommunities simcoecounty httpstcodxRY9XCARD So yesterday me BMan2K20 and JeremyMrGeek travelled down to the simcoecounty headquarters in Midhurst and got our new LINX cards Extremely helpful staff who sorted out our cards and accounts We cant wait to getonthebus and start exploring simcoecounty httpstcoK0YId3txJK So yesterday me BMan2K20 and JeremyMrGeek travelled down to the simcoecounty headquarters in Midhurst and got our new LINX cards Extremely helpful staff who sorted out our cards and accounts We cant wait to getonthebus and start exploring simcoecounty httpstcoK0YId3txJK Scavenger hunting around KendallElem with our 4th grade team getonthebus BoerneISD JonGordon11 SheleneLivas httpstcoOOVSKhLvk3 Scavenger hunting around KendallElem with our 4th grade team getonthebus BoerneISD JonGordon11 SheleneLivas httpstcoOOVSKhLvk3 Scavenger hunting around KendallElem with our 4th grade team getonthebus BoerneISD JonGordon11 SheleneLivas httpstcoOOVSKhLvk3 Scavenger hunting around KendallElem with our 4th grade team getonthebus BoerneISD JonGordon11 SheleneLivas httpstcoOOVSKhLvk3 Widespread Panic tonight with a YouTube audio stream for free wsp widespreadpanic getonthebus livemusic httpstco4Gwra9U2F9 getonthebus complimentary ridership on NEW LINXTransit Route 6 midlandON to Orillia until after LabourDay Sept 3 For more info visit httpstcobPPjTwfsqa or download the Transit app on your Apple or Android device connectingcommunities simcoecounty httpstcoNnojbOB303 getonthebus complimentary ridership on NEW LINXTransit Route 6 midlandON to Orillia until after LabourDay Sept 3 For more info visit httpstcobPPjTwfsqa or download the Transit app on your Apple or Android device connectingcommunities simcoecounty httpstcoNnojbOB303 The socalled resistance in OntAltaSaskMan who are standing on the sidelines while the rest of 🇨🇦 takes a historic step forward are sacrificing 000s of dollars worth of benefit for their constituent parents in order to make an ideological point GetOnTheBus childcare httpstcoyGX6KJKBmj Kicked off canvassing in Northeast Houston for our Equity in Transit 2021 study this morning \n",
      "\n",
      "If you’re a local bus rider and want to share your feedback with us click here httpstco9liryPgWEU\n",
      "\n",
      "getonthebus equityintransit houston mobility ClimateJustice httpstcoh1IZCjp9cv Kicked off canvassing in Northeast Houston for our Equity in Transit 2021 study this morning \n",
      "\n",
      "If you’re a local bus rider and want to share your feedback with us click here httpstco9liryPgWEU\n",
      "\n",
      "getonthebus equityintransit houston mobility ClimateJustice httpstcoh1IZCjp9cv The socalled resistance in OntAltaSaskMan who are standing on the sidelines while the rest of 🇨🇦 takes a historic step forward are sacrificing 000s of dollars worth of benefit for their constituent parents in order to make an ideological point GetOnTheBus childcare httpstcoyGX6KJKBmj We are so grateful to getonthebus with paidleaveforall and other amazing organizations such as SEIU 9to5org CLASPDC PaidLeaveUS PoderLatinx rocunited ZEROTOTHREE and more to spread the word across the US  we need paidleaveforall working families NOW httpstcoxQkGtNIBJa The socalled resistance in OntAltaSaskMan who are standing on the sidelines while the rest of 🇨🇦 takes a historic step forward are sacrificing 000s of dollars worth of benefit for their constituent parents in order to make an ideological point GetOnTheBus childcare httpstcoyGX6KJKBmj We are so grateful to getonthebus with paidleaveforall and other amazing organizations such as SEIU 9to5org CLASPDC PaidLeaveUS PoderLatinx rocunited ZEROTOTHREE and more to spread the word across the US  we need paidleaveforall working families NOW httpstcoxQkGtNIBJa We are so grateful to getonthebus with paidleaveforall and other amazing organizations such as SEIU 9to5org CLASPDC PaidLeaveUS PoderLatinx rocunited ZEROTOTHREE and more to spread the word across the US  we need paidleaveforall working families NOW httpstcopzLYgByjcr We are so grateful to getonthebus with paidleaveforall and other amazing organizations such as SEIU 9to5org CLASPDC PaidLeaveUS PoderLatinx rocunited ZEROTOTHREE and more to spread the word across the US  we need paidleaveforall working families NOW httpstcopzLYgByjcr\n",
      "cleaned: Zyle Fenster Ireland are leaders in the design and delivery of bespoke windows and door solutions Learn more \n",
      "httpstcoKQvUHsOjpT windows windows doors newbuild homerenovation httpstcoDT4rSNGTqO MondayMotivation  “Follow your bliss and the universe will open doors where there were only walls”\n",
      "\n",
      "Joseph Campbell\n",
      "\n",
      "doors homeimprovement doubleglazing httpstcoKNZhOfF5IS Zyle Fenster Ireland are leaders in the design and delivery of bespoke windows and door solutions Learn more \n",
      "httpstcoKQvUHsOjpT windows windows doors newbuild homerenovation httpstcoDT4rSNGTqO Monrovia 6629 with an awesome outdoor Specialty Event Come on down if you’re in the area and get a Free InHome Consultation for CabinetMakeover HomeOrganization Windows amp Doors Nice likevike GeorgeDTHD thdTimPacC ReneHDISMLASo RonRothacker OrmondLsormond httpstcophn60FMwzp Thanks Rajamani sir for offering us the order Dharampuri\n",
      "DeceuninckIn\n",
      "\n",
      "httpstco1qmbOgTFec\n",
      "\n",
      "httpstcoQmJHPV8i9M\n",
      "\n",
      "httpstcoHEH7YPy4lS\n",
      "\n",
      "httpstcofb9qL9YOIi\n",
      "\n",
      "upvcwindows upvc doors windows slidingdoors fenestration architect builder contractor engineer httpstcoGsoHGaYfgE Surveillance for controlling Xinjiang Uighur population Most visibly coercive forms of what the CCP Communist party is doing It’s a virtual police state There are QR codes on people’s doors for when the party goes in to check on who is in tyranny httpstcoS7nwFZMEgz Not only can we replace the windows you already have but we can also install entirely new ones altogether\n",
      "\n",
      "If theres a spot in your house where you want a whole new window contact us at 5029774663\n",
      "\n",
      "\n",
      "\n",
      "doors windows construction louisville windowinstallers httpstcoWZeZf7Ular We are delighted to announce the launch of our new website httpstcol1HVNhQaz1\n",
      "inspiring spaces aluminium doors web website httpstcoD1qZmPZOaE Our NEW door and door hardware guide is here Order by 10 am to get sameday delivery of individual items or joblot quantities—directly to your job site Browse the guide here httpstcoBE6fc4kogG\n",
      "Doors DoorHardware ProGradeProducts WeSupplyThePros LowesProSupply httpstco2Id4O6Y8wE Until God opens the next door praise him in the hallway\n",
      "crestemedia crestedaily letsgrowtogether crestefamily \n",
      "doors httpstcofvRfC7GF7T Until God opens the next door praise him in the hallway\n",
      "crestemedia crestedaily letsgrowtogether crestefamily \n",
      "doors httpstcofvRfC7GF7T Until God opens the next door praise him in the hallway\n",
      "crestemedia crestedaily letsgrowtogether crestefamily \n",
      "doors httpstcofvRfC7GF7T paintingaz says\n",
      "“A garage that became a spraybooth  Having the space to paint doors is very important if you want a great finish Stak Racks makes painting and storing finished doors a breeze” httpstcolir2A8VDIx Until God opens the next door praise him in the hallway\n",
      "crestemedia crestedaily letsgrowtogether crestefamily \n",
      "doors httpstcofvRfC7GF7T Were delighted to welcome HBS Fabrication NW to our Doorsets Framework C8 C8 sources specialist suppliers for the supply amp installation of communal entranceexit doors fire doors amp associated works including access control\n",
      "\n",
      "Read about C8 httpstcoQRUEXalQIR httpstcoSCjFC9acs0 Until God opens the next door praise him in the hallway\n",
      "crestemedia crestedaily letsgrowtogether crestefamily \n",
      "doors httpstcofvRfC7GF7T Aluminium windows are the perfect solution for modern homes Hence the industry has seen a steady yearonyear increase in aluminium doors amp windows \n",
      "\n",
      "To know more\n",
      "Visit linkinbio\n",
      "\n",
      "ALCOITips FenestrationsTips Doors Bungalows ArchitectsOfIndia PremiumFenestrationSolutions httpstcozokUZ83nlM Kindly follow CardinalGhana for the best deals in glazed aluminiumuPVC windows and doors you will find anywhere on the Ghanaian market\n",
      "You dream We create\n",
      "Windows\n",
      "Doors\n",
      "Glazing\n",
      "WindowsAndDoors\n",
      "Accra\n",
      "Ghana Introducing the Profine Evolve Sliding Patio Door System from EuramaxSolution Click the link below to find out more \n",
      "httpstcoFHFCS6640h\n",
      "profine evolve slidingdoor patiodoor slidingpatiodoor door doors euramax euramaxsolutions euramaxdoors httpstcohDjeUbxUAI When the music’s over\n",
      "\n",
      "Turn out the light\n",
      "\n",
      "Turn out…\n",
      "\n",
      "10wordjournal 91\n",
      "Doors Our Doors Abu Dhabi products’ help you lifetime by opting for the reduction of emissions to the atmosphere and the energetic efficiency Visit Us Now httpstcoOr67Tetnyw Email Us   infoabudhabifurnitureae  Call Us Now  971 56 600 9626 httpstconNBUNcs2nj Kindly follow CardinalGhana for the best deals in glazed aluminiumuPVC windows and doors you will find anywhere on the Ghanaian market\n",
      "You dream We create\n",
      "Windows\n",
      "Doors\n",
      "Glazing\n",
      "WindowsAndDoors\n",
      "Accra\n",
      "Ghana Kindly follow CardinalGhana for the best deals in glazed aluminiumuPVC windows and doors you will find anywhere on the Ghanaian market\n",
      "You dream We create\n",
      "Windows\n",
      "Doors\n",
      "Glazing\n",
      "WindowsAndDoors\n",
      "Accra\n",
      "Ghana We are on vacation We will return with charged batteries in September to give the best of us one more year\n",
      "\n",
      "𝗠𝗔𝗕𝗘𝗟𝗨𝗫® 𝗹𝗹 𝗪𝗲 𝘄𝗼𝗿𝗸 𝗳𝗼𝗿 𝘆𝗼𝘂\n",
      "\n",
      "mabelux mabeluxtechnic bending curved architecture profiles bendingprofile aluminium inox steel windows doors httpstcomd8XjfXTqc  Bauporte designed manufactured installed and performs maintenance to the Royal Full Vision doors at Room Mate Aitana in Amsterdam\n",
      "httpstcoOovrRLQW4F\n",
      "bauporte bauportedoors designentrances royalfullvisiondoors doors talldoors roommate roommateaitana amsterdam httpstcouEymr5zCy3\n",
      "cleaned:nan\n",
      "cleaned: Our closing evening is more than special with a 25th anniversary celebration of an LGBT classic combined with a preLondon Pride party music and DJs\n",
      "\n",
      "BeckenhamPark lewishamcouncil sunsetscreeningsessions BritishFilm openaircinemas BeautifulThing\n",
      "\n",
      "httpstcon34Y7XThdK httpstcobMF9kxpuJm FANderWaalNews GraceVanderWaal Timeline Character of the Day\n",
      "PerfectlyImperfectGrace 2016\n",
      "\n",
      "httpstcoOvJCIvg0UL\n",
      "\n",
      "PerfectlyImperfect IDKMN Clay LightTheSky BeautifulThing GossipGirl  ColumbiaRecords gregwells AutumnRoweMusic Repeat DAWYDK ChooseKindness httpstcoIRb9nDvBCm FANderWaalNews GraceVanderWaal Timeline Character of the Day\n",
      "PerfectlyImperfectGrace 2016\n",
      "\n",
      "httpstcoOvJCIvg0UL\n",
      "\n",
      "PerfectlyImperfect IDKMN Clay LightTheSky BeautifulThing GossipGirl  ColumbiaRecords gregwells AutumnRoweMusic Repeat DAWYDK ChooseKindness httpstcoIRb9nDvBCm FANderWaalNews GraceVanderWaal Timeline Character of the Day\n",
      "PerfectlyImperfectGrace 2016\n",
      "\n",
      "httpstcoOvJCIvg0UL\n",
      "\n",
      "PerfectlyImperfect IDKMN Clay LightTheSky BeautifulThing GossipGirl  ColumbiaRecords gregwells AutumnRoweMusic Repeat DAWYDK ChooseKindness httpstcoIRb9nDvBCm FANderWaalNews GraceVanderWaal Timeline Character of the Day\n",
      "PerfectlyImperfectGrace 2016\n",
      "\n",
      "httpstcoOvJCIvg0UL\n",
      "\n",
      "PerfectlyImperfect IDKMN Clay LightTheSky BeautifulThing GossipGirl  ColumbiaRecords gregwells AutumnRoweMusic Repeat DAWYDK ChooseKindness httpstcoIRb9nDvBCm I wear what i wanna cause Im cool with whats underneath Cause thats perfect to me \n",
      "Ill love who I want to love cause this love is gender free Im okay with not being perfect\n",
      "\n",
      "NaturePhotography \n",
      "BlessedAndGrateful \n",
      "BeautifulThing httpstcoLUVyM7BWL7 I wear what i wanna cause Im cool with whats underneath Cause thats perfect to me \n",
      "Ill love who I want to love cause this love is gender free Im okay with not being perfect\n",
      "\n",
      "NaturePhotography \n",
      "BlessedAndGrateful \n",
      "BeautifulThing httpstcoLUVyM7BWL7 Our closing evening is more than special with a 25th anniversary celebration of an LGBT classic combined with a preLondon Pride party music and DJs\n",
      "\n",
      "BeckenhamPark lewishamcouncil sunsetscreeningsessions BritishFilm openaircinemas BeautifulThing\n",
      "\n",
      "httpstcon34Y7XThdK httpstcobMF9kxpuJm Our closing evening is more than special with a 25th anniversary celebration of an LGBT classic combined with a preLondon Pride party music and DJs\n",
      "\n",
      "BeckenhamPark lewishamcouncil sunsetscreeningsessions BritishFilm openaircinemas BeautifulThing\n",
      "\n",
      "httpstcon34Y7XThdK httpstcobMF9kxpuJm Our closing evening is more than special with a 25th anniversary celebration of an LGBT classic combined with a preLondon Pride party music and DJs\n",
      "\n",
      "BeckenhamPark lewishamcouncil sunsetscreeningsessions BritishFilm openaircinemas BeautifulThing\n",
      "\n",
      "httpstcon34Y7XThdK httpstcobMF9kxpuJm Our closing evening is more than special with a 25th anniversary celebration of an LGBT classic combined with a preLondon Pride party music and DJs\n",
      "\n",
      "BeckenhamPark lewishamcouncil sunsetscreeningsessions BritishFilm openaircinemas BeautifulThing\n",
      "\n",
      "httpstcon34Y7XThdK httpstcobMF9kxpuJm Our closing evening is more than special with a 25th anniversary celebration of an LGBT classic combined with a preLondon Pride party music and DJs\n",
      "\n",
      "BeckenhamPark lewishamcouncil sunsetscreeningsessions BritishFilm openaircinemas BeautifulThing\n",
      "\n",
      "httpstcon34Y7XThdK httpstcobMF9kxpuJm Our closing evening is more than special with a 25th anniversary celebration of an LGBT classic combined with a preLondon Pride party music and DJs\n",
      "\n",
      "BeckenhamPark lewishamcouncil sunsetscreeningsessions BritishFilm openaircinemas BeautifulThing\n",
      "\n",
      "httpstcon34Y7XThdK httpstcobMF9kxpuJm Our closing evening is more than special with a 25th anniversary celebration of an LGBT classic combined with a preLondon Pride party music and DJs\n",
      "\n",
      "BeckenhamPark lewishamcouncil sunsetscreeningsessions BritishFilm openaircinemas BeautifulThing\n",
      "\n",
      "httpstcon34Y7XThdK httpstcobMF9kxpuJm HAPPY SistersDay to GraceVanderWaal amp olivewaal \n",
      "\n",
      "Video Steve Walters\n",
      "httpstcouEo2wpBLGo\n",
      "\n",
      "BeautifulThing GaryComeHome JustTheBeginningTour Repeat DAWYDK ChooseKindness httpstcovLIUHbsStb HAPPY SistersDay to GraceVanderWaal amp olivewaal \n",
      "\n",
      "Video Steve Walters\n",
      "httpstcouEo2wpBLGo\n",
      "\n",
      "BeautifulThing GaryComeHome JustTheBeginningTour Repeat DAWYDK ChooseKindness httpstcovLIUHbsStb HAPPY SistersDay to GraceVanderWaal amp olivewaal \n",
      "\n",
      "Video Steve Walters\n",
      "httpstcouEo2wpBLGo\n",
      "\n",
      "BeautifulThing GaryComeHome JustTheBeginningTour Repeat DAWYDK ChooseKindness httpstcovLIUHbsStb\n",
      "cleaned: Ready to rumble bestmen httpstcoeAhaGKQmw9 httpstcowFjAcJY5nl Similar movies with DateAndSwitch 2014\n",
      "\n",
      "BestMen\n",
      "AnotherGayMovie\n",
      "AnotherGaySequelGaysGoneWild\n",
      "\n",
      "More 📽 httpstcompppbm7r6P\n",
      "\n",
      "CinPick findMovies movies whatToWatch similarMovies httpstco2spR2J98vN\n",
      "cleaned: Australian government warns of attacks with LockBit ransomware  httpstcogwwyKcfi6x\n",
      "Malware cybersecurity  hacker infosec cyberattack ethicalhacking ransomware cybercrime hackers security pentesting linux phishing technology IoT httpstcoD6raQEX11z Thinking 🤔\n",
      "100DaysOfCode AI Analytics AR ArtificialIntelligence BigData Cloud Coding Data DataScience DataViz DeepLearning DL FinTech Flutter IoT MachineLearning ML NLP NodeJS Python RStats Tech PegasusProject hackers crackers 😉 httpstcotZNyGhe6eE Another game spoilt by hackers Sort it out you tight shits Activision SHAMBLES Warzone hackers CallOfDuty Thinking 🤔\n",
      "100DaysOfCode AI Analytics AR ArtificialIntelligence BigData Cloud Coding Data DataScience DataViz DeepLearning DL FinTech Flutter IoT MachineLearning ML NLP NodeJS Python RStats Tech PegasusProject hackers crackers 😉 httpstcotZNyGhe6eE Thinking 🤔\n",
      "100DaysOfCode AI Analytics AR ArtificialIntelligence BigData Cloud Coding Data DataScience DataViz DeepLearning DL FinTech Flutter IoT MachineLearning ML NLP NodeJS Python RStats Tech PegasusProject hackers crackers 😉 httpstcotZNyGhe6eE Thinking 🤔\n",
      "100DaysOfCode AI Analytics AR ArtificialIntelligence BigData Cloud Coding Data DataScience DataViz DeepLearning DL FinTech Flutter IoT MachineLearning ML NLP NodeJS Python RStats Tech PegasusProject hackers crackers 😉 httpstcotZNyGhe6eE Thinking 🤔\n",
      "100DaysOfCode AI Analytics AR ArtificialIntelligence BigData Cloud Coding Data DataScience DataViz DeepLearning DL FinTech Flutter IoT MachineLearning ML NLP NodeJS Python RStats Tech PegasusProject hackers crackers 😉 httpstcotZNyGhe6eE Thinking 🤔\n",
      "100DaysOfCode AI Analytics AR ArtificialIntelligence BigData Cloud Coding Data DataScience DataViz DeepLearning DL FinTech Flutter IoT MachineLearning ML NLP NodeJS Python RStats Tech PegasusProject hackers crackers 😉 httpstcotZNyGhe6eE Thinking 🤔\n",
      "100DaysOfCode AI Analytics AR ArtificialIntelligence BigData Cloud Coding Data DataScience DataViz DeepLearning DL FinTech Flutter IoT MachineLearning ML NLP NodeJS Python RStats Tech PegasusProject hackers crackers 😉 httpstcotZNyGhe6eE Thinking 🤔\n",
      "100DaysOfCode AI Analytics AR ArtificialIntelligence BigData Cloud Coding Data DataScience DataViz DeepLearning DL FinTech Flutter IoT MachineLearning ML NLP NodeJS Python RStats Tech PegasusProject hackers crackers 😉 httpstcotZNyGhe6eE Thinking 🤔\n",
      "100DaysOfCode AI Analytics AR ArtificialIntelligence BigData Cloud Coding Data DataScience DataViz DeepLearning DL FinTech Flutter IoT MachineLearning ML NLP NodeJS Python RStats Tech PegasusProject hackers crackers 😉 httpstcotZNyGhe6eE Essential awareness as BBCNews ripoffbritain today shows how hackers are preying on  socialmedia presence of small businesses Don’t let it be you  contact us now for the simple ways you can protect your business at enquiriestemplarexecscom httpstcoDXPuUxjlOc Essential awareness as BBCNews ripoffbritain today shows how hackers are preying on  socialmedia presence of small businesses Don’t let it be you  contact us now for the simple ways you can protect your business at enquiriestemplarexecscom httpstcoDXPuUxjlOc In this era of hackers amp ransomware it pays to be prepared for the worst If you’re a member of theOfficialACM you can read it for free httpstcogy7bQpTykl Patreon Mod Apk – Publish Free Content – Premium Platform\n",
      "\n",
      "Download link here\n",
      "httpstco1TbLTGCiT4\n",
      "\n",
      "patreon patreoncreator patreonartist patreongirls patreonart patreonmod patreonmodapk\n",
      "computersecurity hackers hackersmodapk coder blogger computernetworking httpstcoUm6uPtkjDU 😮😱 Phishing Sites Targeting Scammers and Thieves DataBreaches DarkWeb CyberSec infosec Security cybercrime ThreatIntel hackers dataprotection cyberthreats cybersecurity cyberattacks cyberintelligence httpstcogUrjiC0zuc WIFI isnt as secure as you may think The NSA is warning against hackers in Public Wireless Networks so dont join a network you dont trust via threatpost \n",
      "httpstcodbwne3hKTA PWN cybersecurity security privacy cyberaware hackers WIFI isnt as secure as you may think The NSA is warning against hackers in Public Wireless Networks so dont join a network you dont trust via threatpost \n",
      "httpstcodbwne3hKTA PWN cybersecurity security privacy cyberaware hackers From where Im sitting a cashless economy is a hackers dream come true  the rise of digital transactions would open the door to significantly more cyberattacks than we already have Id love to know your thoughts on this debate\n",
      "httpstcoNV5u8FyJuG httpstcoSB24vEapid Security testers arrested in Iowa sue sheriff  httpstcov1I1DGb50X\n",
      "Malware cybersecurity  hacker infosec cyberattack ethicalhacking ransomware cybercrime hackers security pentesting linux phishing technology IoT httpstcoBa5SoxyhNk Security testers arrested in Iowa sue sheriff  httpstcov1I1DGb50X\n",
      "Malware cybersecurity  hacker infosec cyberattack ethicalhacking ransomware cybercrime hackers security pentesting linux phishing technology IoT httpstcoBa5SoxyhNk The rise in formjacking is coupled by an increase in supplychain attacks as hackers use those to get onto target sites\n",
      "\n",
      "Scanta cybersecurity CyberCrime databreach cyberattacks Ransomware javascript Python 100DaysOfCode Malware Conversationalsecurity DarkReading httpstco2EnZ8torqS The rise in formjacking is coupled by an increase in supplychain attacks as hackers use those to get onto target sites\n",
      "\n",
      "Scanta cybersecurity CyberCrime databreach cyberattacks Ransomware javascript Python 100DaysOfCode Malware Conversationalsecurity DarkReading httpstco2EnZ8torqS From where Im sitting a cashless economy is a hackers dream come true  the rise of digital transactions would open the door to significantly more cyberattacks than we already have Id love to know your thoughts on this debate\n",
      "httpstcoNV5u8FyJuG httpstcoSB24vEapid From where Im sitting a cashless economy is a hackers dream come true  the rise of digital transactions would open the door to significantly more cyberattacks than we already have Id love to know your thoughts on this debate\n",
      "httpstcoNV5u8FyJuG httpstcoSB24vEapid\n",
      "cleaned:nan\n",
      "cleaned: CindyChafian warroom\n",
      "I was appareled at the footage on Steve Bannons Warroom com watching ANTIFA ATTACK CHRISTIANS in PRAYER as the Portland Police watched amp took NO action\n",
      "\n",
      "ANTIFA is the NAZI BROWN SHIRTS OF HITLERS 1930 Germany Democratic Socialist Party \n",
      "Death Camps alisonborealis Thanks to jkenney and his warroom I now also have monthly ties to the DavidSuzukiFDN Remdesivir Is Poison Try Budesonide Ivermectin Or Hydroxychloroquine Instead \n",
      "\n",
      "🔥🔥🔥 Click Here For More Uncensored Coverage From The WarRoom httpstcoBUGdMht1dT\n",
      "\n",
      "MedicalTyranny BigPharma INFOWARS ⚔️ httpstcoH6DbZ8HclL WARROOM is LIVE \n",
      "\n",
      "The fastest 2hours in broadcasting and the best\n",
      "\n",
      "7am  9am Pacific Time\n",
      "\n",
      "stevebannon raheemkassam nataliegwinters WarRoom\n",
      "\n",
      "httpstcoLNf2uIuZwY httpstcoNDry76HorC THE DIGITAL BATTLEFIELD httpstcoUupBKXBceV  Make sure your organization has an outfit to tackle all things digital digitaleconomy remotework onlineadvertising digitalera business smallbusiness upskilling executive mba warroom 🚨Reminder FREE intro discussion to the Stock Market and QampA today at treekiller35 telegram🚨\n",
      "\n",
      "Share with your friends and family ❤️\n",
      "\n",
      "amc gme warroom httpstcoavtGyll39K 🚨Free Discussion about the Stock Market Basics and QampA🚨\n",
      "\n",
      "🔥Date Sunday August 8 tmr\n",
      "🔥Time 5pm ET \n",
      "🔥Platform treekiller35 Telegram \n",
      "\n",
      "amc gme apearmy warroom financialeducation fintwit stocks financialliteracy YourFinancialFreedom httpstcojZpsE8psWV 🚨Free Discussion about the Stock Market Basics and QampA🚨\n",
      "\n",
      "🔥Date Sunday August 8 tmr\n",
      "🔥Time 5pm ET \n",
      "🔥Platform treekiller35 Telegram \n",
      "\n",
      "amc gme apearmy warroom financialeducation fintwit stocks financialliteracy YourFinancialFreedom httpstcojZpsE8psWV PeteFuery PnPCBC jkenney PattyHajdu CMOHAlberta The UCP government must be scaling back on the warroom funds going towards Twitter trolls notterriblyoriginal Holy crap People are ALWAYS going to die from SOMETHING The “state” can’t stop that God’s plan Great to see Dr Naomi Wolf on AubreyShines tonite Usually only see her on WarRoom RealAmVoice wccoolgrove MailOnline Once again listen to the past few episodes of WarRoom The Daily Mail has been posting articles every day I would not post unless VERIFIED This is NOT OLD newsprotest ARE happening all over the world This was in the MailOnline today In particular France Paris look like there were 1M people on the streets  Listen to WarRoom from today Bannon talked about it for quite some time \n",
      "WakeUpAmerica httpstco3Ju1BdTubl 📣 New Podcast Pandemic of the VACCINATED Media Lies Reaching Breaking Point  War Room  2021August 06 Friday on Spreaker 1a clayclark drmeehan usa warroom warroomshow httpstcoLNVjCBFZqc If you havent yet start listening to WarRoom every day You will get the real news of what IS actually happing more than Newsmax or OANN The real stuff\n",
      "GetInformedPatriots If you havent yet start listening to WarRoom every day You will get the real news of what IS actually happing more than Newsmax or OANN The real stuff\n",
      "GetInformedPatriots 🚨Free Discussion about the Stock Market Basics and QampA🚨\n",
      "\n",
      "🔥Date Sunday August 8 tmr\n",
      "🔥Time 5pm ET \n",
      "🔥Platform treekiller35 Telegram \n",
      "\n",
      "amc gme apearmy warroom financialeducation fintwit stocks financialliteracy YourFinancialFreedom httpstcojZpsE8psWV 📣 New Podcast Pandemic of the VACCINATED Media Lies Reaching Breaking Point  War Room  2021August 06 Friday on Spreaker 1a clayclark drmeehan usa warroom warroomshow httpstcoLNVjCBFZqc 🚨Free Discussion about the Stock Market Basics and QampA🚨\n",
      "\n",
      "🔥Date Sunday August 8 tmr\n",
      "🔥Time 5pm ET \n",
      "🔥Platform treekiller35 Telegram \n",
      "\n",
      "amc gme apearmy warroom financialeducation fintwit stocks financialliteracy YourFinancialFreedom httpstcojZpsE8psWV 🚨Free Discussion about the Stock Market Basics and QampA🚨\n",
      "\n",
      "🔥Date Sunday August 8 tmr\n",
      "🔥Time 5pm ET \n",
      "🔥Platform treekiller35 Telegram \n",
      "\n",
      "amc gme apearmy warroom financialeducation fintwit stocks financialliteracy YourFinancialFreedom httpstcojZpsE8psWV CortesSteve Your interview on WarRoom was brilliant Best idea I have heard yet on the border Please talk about it to your guests The GOP are 90 wussies and must stand up for our country Thank you ❤️🇺🇸 If only there were some good men to warn us about this from the beginning Oh wait there were Thank you for your service WarRoom\n",
      "CC OfWudan Talismantate AJACortes  \n",
      "I tried to warn people but they didnt listen Time I level my shit up HU20 is helping httpstcoOyiPY069GS Garossino I really dont think so More like Kenney continually gaslighting Canadians on how the feds hate Alberta may be affecting your choice of words propaganda WarRoom WarRoom LIVE Pandemic of the JABBED Media Lies Reaching Breaking Point\n",
      "\n",
      "⚔️ Watch amp Share httpstcoBUGdMht1dT\n",
      "\n",
      "📲 Get Live Show Alerts  Text WARROOM To 833 6371776\n",
      "\n",
      "🇺🇸 Dont Tread On Me American Flag TShirt httpstco1IbGr3ADAA httpstcoCRhczs2870 📣 New Podcast Pandemic of the VACCINATED Media Lies Reaching Breaking Point  War Room  2021August 06 Friday on Spreaker 1a clayclark drmeehan usa warroom warroomshow httpstcoLNVjCBFZqc WarRoom LIVE Pandemic of the JABBED Media Lies Reaching Breaking Point\n",
      "\n",
      "⚔️ Watch amp Share httpstcoBUGdMht1dT\n",
      "\n",
      "📲 Get Live Show Alerts  Text WARROOM To 833 6371776\n",
      "\n",
      "🇺🇸 Dont Tread On Me American Flag TShirt httpstco1IbGr3ADAA httpstcoCRhczs2870\n",
      "cleaned: NEVER looked back and thought HEY I should’ve been a better human until I thought of OUR interaction in LasVegas 2006\n",
      "\n",
      "ThankYou HedgemanLewis for your Lessons NeverForget WhenWeWereKings \n",
      "\n",
      "Thel Torrence boxing\n",
      "cleaned:nan\n",
      "cleaned:nan\n",
      "cleaned: Legend Bob Cousy BleedGreen nba nbapl LEGEND MOVIE BlueChips 🔥🔥☘️☘️ httpstcoPYhyT3r9JK All blue chip nfts and all created by female artists 🚀🚀 All these projects GMI bluechips NFTs topdogbeachclub LNL Fameladysquad WoW httpstcoZD0iI9QtWp The other day our bluechips were on the court going up against the NYPD104Pct  The boys from the heights got some skills here httpstcoP5IY1sGFb5 Today the 110 vs 111 BlueChips Basketball 🏀 Game was played ChristTheKingNY High School Both teams played a great game and had lots of fun NYPD4TheKids  NYCBluechips httpstcoEYWT7MKZsN Today the 110 vs 111 BlueChips Basketball 🏀 Game was played ChristTheKingNY High School Both teams played a great game and had lots of fun NYPD4TheKids  NYCBluechips httpstcoEYWT7MKZsN Today the 110 vs 111 BlueChips Basketball 🏀 Game was played ChristTheKingNY High School Both teams played a great game and had lots of fun NYPD4TheKids  NYCBluechips httpstcoEYWT7MKZsN Would like to give a special congratulations to the 88 BlueChips coaches We are the number 1 seed for the citywide playoffs next week Great game today we are now 60 Shout out to our players Lets go FortGreene httpstcoBNKV7sSKAr Today the 110 vs 111 BlueChips Basketball 🏀 Game was played ChristTheKingNY High School Both teams played a great game and had lots of fun NYPD4TheKids  NYCBluechips httpstcoEYWT7MKZsN Would like to give a special congratulations to the 88 BlueChips coaches We are the number 1 seed for the citywide playoffs next week Great game today we are now 60 Shout out to our players Lets go FortGreene httpstcoBNKV7sSKAr Congratulations to the NYPD60Pct and NYPD70Pct for making it to the playoffs To all of our Brooklyn South BlueChips participants thank you for your hard work and dedication Let’s go Brooklyn South NYCBlueChips CommunitySolutions httpstcovdn9zBTe5d Congratulations to the NYPD60Pct and NYPD70Pct for making it to the playoffs To all of our Brooklyn South BlueChips participants thank you for your hard work and dedication Let’s go Brooklyn South NYCBlueChips CommunitySolutions httpstcovdn9zBTe5d Our BlueChips youth basketball team had their cooking skills tested yesterday during “mentoring day” with restaurant owner amp friend Chef Glaze httpstcoYQPlFdWDZj Would like to give a special congratulations to the 88 BlueChips coaches We are the number 1 seed for the citywide playoffs next week Great game today we are now 60 Shout out to our players Lets go FortGreene httpstcoBNKV7sSKAr Would like to give a special congratulations to the 88 BlueChips coaches We are the number 1 seed for the citywide playoffs next week Great game today we are now 60 Shout out to our players Lets go FortGreene httpstcoBNKV7sSKAr 🎉Our BlueChips 🏀team did what they promised and kept the streak alive tonight beating the nypd109pct 5️⃣5️⃣3️⃣4️⃣ and punched their ticket to the playoffs The way this team is playing they will be a force in the playoffs and we can’t wait to see how far they can go 4theKids httpstco4Q6phhyvrw After a hard game a little pizza hits the spot  BlueChips httpstco9xZ8r6bGP6 Shaq Penny Hardaway and Matt Nover acting in the movie Blue Chips\n",
      "\n",
      "Parts of this movie were filmed in Indiana\n",
      "\n",
      "ArchivesAthletes Indiana FilmCommission Basketball BlueChips Movies httpstcoHYz73wRFjH Top 5  StockMarket myths\n",
      "1 You need to have deep knowledge about Finance\n",
      "2 You need a lot of money to begin investing\n",
      "3 Retail investors cannot make a lot of money\n",
      "4 BlueChips can never give multibagger returns\n",
      "5 Investing in the stock market is like gambling Would like to give a special congratulations to the 88 BlueChips coaches We are the number 1 seed for the citywide playoffs next week Great game today we are now 60 Shout out to our players Lets go FortGreene httpstcoBNKV7sSKAr Would like to give a special congratulations to the 88 BlueChips coaches We are the number 1 seed for the citywide playoffs next week Great game today we are now 60 Shout out to our players Lets go FortGreene httpstcoBNKV7sSKAr 🎉Our BlueChips 🏀team did what they promised and kept the streak alive tonight beating the nypd109pct 5️⃣5️⃣3️⃣4️⃣ and punched their ticket to the playoffs The way this team is playing they will be a force in the playoffs and we can’t wait to see how far they can go 4theKids httpstco4Q6phhyvrw After a hard game a little pizza hits the spot  BlueChips httpstco9xZ8r6bGP6 To all the future Oldmaster Artists Traders and Collectors of NFT Bluechips   Pls focus early on Authentication Attribution Provenance Storage facts behind NFTs  \n",
      "Nothing changed since daVinci \n",
      "\n",
      " care or loose art authenticity  httpstcoBi1hkFvHFJ On amp off the courts our Blue Chips Basketball team are doing big things\n",
      "\n",
      "Here they rolled up their sleeves and painted over graffiti in the beautification of the community🎨 \n",
      "\n",
      "They play later today  go team 😀🏀 \n",
      "\n",
      "BlueChips httpstcooAChyYpzvj On amp off the courts our Blue Chips Basketball team are doing big things\n",
      "\n",
      "Here they rolled up their sleeves and painted over graffiti in the beautification of the community🎨 \n",
      "\n",
      "They play later today  go team 😀🏀 \n",
      "\n",
      "BlueChips httpstcooAChyYpzvj\n",
      "cleaned: Here’s my finished Calendar Girl fanart from Batman The Animated Series\n",
      "\n",
      "She has a fairly straightforward design so I tried to add some extra design spice in the background\n",
      "\n",
      "btas batmananimatedseries batmananimated calendargirl httpstcocEntFeAtwF Here are my inks and shading for Calendar Girl\n",
      "\n",
      "She’s not one of the well known villains from Batman The Animated Series All the more reason I wanted to do some fanart\n",
      "\n",
      "btas batmananimatedseries batmananimated calendargirl httpstcoiK3tkqhXJR HAPPY BIRTHDAY RONNIE♥️calendargirl beauty httpstcoA3dqwGMZ8I Ya couldn’t make it up 😂  calendargirl httpstcoBwJGKZkm2o HAPPY BIRTHDAY RONNIE♥️calendargirl beauty httpstcoA3dqwGMZ8I UCall It Thursday’s are back at clubrisquephiladelphia♥️ 79PM Every Thursday with 3 Drinks 4 for TopShelf  LACE calendargirl httpstcoy9Al6Z9p94 UCall It Thursday’s are back at clubrisquephiladelphia♥️ 79PM Every Thursday with 3 Drinks 4 for TopShelf  LACE calendargirl httpstcoy9Al6Z9p94 UCall It Thursday’s are back at clubrisquephiladelphia♥️ 79PM Every Thursday with 3 Drinks 4 for TopShelf  LACE calendargirl httpstcoy9Al6Z9p94 Here’s my finished Calendar Girl fanart from Batman The Animated Series\n",
      "\n",
      "She has a fairly straightforward design so I tried to add some extra design spice in the background\n",
      "\n",
      "btas batmananimatedseries batmananimated calendargirl httpstcocEntFeAtwF Here’s my finished Calendar Girl fanart from Batman The Animated Series\n",
      "\n",
      "She has a fairly straightforward design so I tried to add some extra design spice in the background\n",
      "\n",
      "btas batmananimatedseries batmananimated calendargirl httpstcocEntFeAtwF Here’s my finished Calendar Girl fanart from Batman The Animated Series\n",
      "\n",
      "She has a fairly straightforward design so I tried to add some extra design spice in the background\n",
      "\n",
      "btas batmananimatedseries batmananimated calendargirl httpstcocEntFeAtwF Here’s my finished Calendar Girl fanart from Batman The Animated Series\n",
      "\n",
      "She has a fairly straightforward design so I tried to add some extra design spice in the background\n",
      "\n",
      "btas batmananimatedseries batmananimated calendargirl httpstcocEntFeAtwF Here are my inks and shading for Calendar Girl\n",
      "\n",
      "She’s not one of the well known villains from Batman The Animated Series All the more reason I wanted to do some fanart\n",
      "\n",
      "btas batmananimatedseries batmananimated calendargirl httpstcoiK3tkqhXJR Here are my inks and shading for Calendar Girl\n",
      "\n",
      "She’s not one of the well known villains from Batman The Animated Series All the more reason I wanted to do some fanart\n",
      "\n",
      "btas batmananimatedseries batmananimated calendargirl httpstcoiK3tkqhXJR Come see your calendargirl NOW at clubrisquebristol 💧 httpstcos5KqDlzSqs\n",
      "cleaned: love how at ease my grandaughter is in the big wide worldshe is fascinated by everything around her myfamily fridaymorning httpstcoR7ANHGG5uQ granny why is your car always muddy 😳😁 love days like this ❤ SaturdayThoughts myfamily httpstcoCF2kLhcpd3 Thanks for the beautiful gifts to my Family ❤️❤ Love you all ❤❤❤\n",
      "Dhiman MyFamily PunjabiFamily Love httpstcoXwe9UnIKH8 Thanks for the beautiful gifts to my Family ❤️❤ Love you all ❤❤❤\n",
      "Dhiman MyFamily PunjabiFamily Love httpstcoQMLw4on7zu MySisters MyTribe MyFamily nationaltraining2021 LiveALive TPD4L  joansparties partywithprbyjo pureromancebyjojo pureromance  Duke Energy Convention Center httpstcoHH7CkssCNJ Wish you could have been there 25th AustinDay 2021 myfamily Gary Seagull69tattoo Jane dunkleyjane1 hubby Grande Tania me the boy djmumjeans xx httpstco8TX3vVRnAR mylife mylove myheart myair mywater myeverything myhusband myprotector mybestfriend myfamily mysupporter myking djsylk  Mos Bar and Lounge httpstcoxh0VEpYnEC Some Glimpses of my birthday party 🎉🎂🎊🎁💐APNIKALAKARI Harsh74510439 harshroushan myfamily💞 httpstcoiuRfYn6zgs Stopped by at Daddys Office did a quick tour and decide to take few selfies 🤳 💖😍\n",
      "myfamily myeverything myworldinapicture daddydaughtermoment perfectduo perfectteam \n",
      "PS  Shrimpology Restaurant theyve got some mouth watery meal on its seafood menu😋 httpstcoy6h521L2jC 16 months on we finally got to celebrate Haydens Christening\n",
      "What a special day 🙂😍\n",
      "haydenschristening\n",
      "HolyRosary\n",
      "myfamily httpstcoxgi7KNOTde agnetha666 He’s saved our sanity anyways myfamily My Family ♥️\n",
      "\n",
      "SaturdayLove Detroit Family FamilyTime Familia instagood lifeisgood myHappyPlace MyFamily Smile\n",
      "Love puppylove HGTV  Dogmom Blessed BlackLove MyLoves YourFavoriteRealtor realtorlife Cityliving httpstcocnFLtDdLdK Wish you a safe journey \n",
      "I hope that you have a good time I also wanted to wish you a pleasant journey\n",
      "There and back\n",
      "Be safe\n",
      "myfamily ✈️✈️ Wish you a safe journey \n",
      "I hope that you have a good time I also wanted to wish you a pleasant journey\n",
      "There and back\n",
      "Be safe\n",
      "myfamily ✈️✈️ I love my small family very much\n",
      "mytime bondingtime myfamily smallfamily adik kakak httpstco2XltrNM1cJ This is how hard to take a family photo with 3 kulit kiddos 🥰😂 day219of365 myfamily family kulitime nieces nephew httpstcoMIR9h8uk2Y Its cool to be recognized for what you do for your community 😁quianacritt mzklassy1087 truuuumike hardworkmike2029 chasetheballergodfrey truhoopzunited thehibachibrothers  myfamily httpstcoe7SjPFs5Eq My Evans family clan MyFamily Evansbyname httpstcoYQgIESa5wa Yes You  myfamily myfriends and mycommunity need to read this now and retweet httpstcoUPrrGBDP8D My Evans family clan MyFamily Evansbyname httpstcoYQgIESa5wa My Evans family clan MyFamily Evansbyname httpstcoYQgIESa5wa Thank you Lord Jesus for everything 🙏🏼☝🏼 To God be the Glory 💛 Blessed MyFamily MyLife Praise Honor Trust Believe Celebrating the Nuptials and Love of Elijah and Destiny Pullings whatGodhasputtogether myfamily httpstco1dGSwyonPZ On National Night Out 2021 it was an honor to receive Special Congressional Recognition Award from US Congressman Ro Khanna for my public service among family amp friends WorkingTogetherToMakeADifference lovemycommunity myneighbors myfamily wearefremont fremontstrong httpstcod2gAMU577Y On National Night Out 2021 it was an honor to receive Special Congressional Recognition Award from US Congressman Ro Khanna for my public service among family amp friends WorkingTogetherToMakeADifference lovemycommunity myneighbors myfamily wearefremont fremontstrong httpstcod2gAMU577Y\n",
      "cleaned:nan\n",
      "cleaned: St Louis Courthouse\n",
      "\n",
      "StLouisCourthouse StLCourthouse Courthouse Outside WalkAbout Art Photography Colorful Prisma PrismaEdit PrismaRemix PrismaAI AI httpstcokR3JWbKdck HBD from da hood and then some \n",
      "sg56 ineedmoreholidaysonmondays walkabout mysg twentyonejumpstart httpstco2uZ6YaahBd Jefferson Barracks Bridge Panorama flickr JeffersonBarracksBridge JeffersonBarracks Bridge Panorama BridgePanorama MississippiRiver RiverSide Walkabout Outside Photography PhotoOfTheDay White Grey Cyan Blue Green Tan Brown Black httpstcow2l2KjYJnq Jefferson Barracks Bridge Panorama flickr JeffersonBarracksBridge JeffersonBarracks Bridge Panorama BridgePanorama MississippiRiver RiverSide Walkabout Outside Photography PhotoOfTheDay White Grey Cyan Blue Green Tan Brown Black httpstcow2l2KjYJnq Why one city in carobsessed Florida is prioritizing pedestrians walkabout pedestrianrights tampa  httpstcozkTnBeMDxk My observations from my week in Cornwall Day 2\n",
      "Not a traffic cone on the whole of the M5 A modern miracle\n",
      "Every pub has bookings only service When you do book and go in Pubs empty No bubbly European staff Just an angry rude English girl walkabout BrexitLies nostaff Adventures in Stanley Park So much going on\n",
      "\n",
      "\n",
      "\n",
      "coyote racoons stanleypark vancouver wildanimals yvr walkabout nature  Stanley Park httpstcoisfF09PpTR Little Building flickr LittleBuilding BeeTree BeeTreePark Park CountyPark StLouisCountyPark StLCountyPark Walkabout Outside Photography PhotoOfTheDay Monochrome BlackAndWhite Black White httpstcoRgNaca2Y8v Old neighborhood walkabout httpstcoMScvJvjjtC More montreal Art 🎨\n",
      "artist things fun tour travel art sculpture travelmontreal montrealcity walkabout visit love travel arts citylife funtimes montrealmoments livingbestlife relax artoftheday httpstcoT6MQM8x0IA A Dutch windmill walkabout Asten httpstcoLg8Lfa1P79 Little Magenta flickr LittleMagenta MagentaFlower Flower Floral FlowerMacro Macro Macro100mm 100mm Walkabout Outside Photography PhotoOfTheDay White Pink Magenta Yellow Orange Green Brown Black httpstcoYuBmrQ4wWR Not a bad green room to be fair 😁🎭🤸🏻‍♂️🎼\n",
      "\n",
      "actor acting theatre streettheatre skinpuppetry walkabout enchantedleonardslee leonardsleegardens  Enchanted Leonardslee httpstcoVN1mt4UIvU Tower Rock\n",
      "\n",
      "TowerRock DroneView DJI OkayShot RuralMissouri  RuralMo Otuside WalkAbout Art Photography Colorful Prisma PrismaEdit PrismaRemix PrismaAI AI httpstcoYoE0rr9gmW 🎉 506 DAYS since last pressing PLAY in walkaboutblackpool … \n",
      "\n",
      "💥 TONIGHT I AM BACK \n",
      "\n",
      "💃 Can’t bloody wait  See you at 910pm 🕺\n",
      "\n",
      "🙌🙌🙌🙌🙌🙌🙌\n",
      "\n",
      "walkabout blackpool dj party pobtime  Walkabout Blackpool httpstcogSRyeCAX77 Dr Auma on a walkabout with the team They visited all our Sauti Kuu sites to induct Sharmila and Richard into the Sauti Kuu family \n",
      "\n",
      "aumaobama\n",
      "\n",
      "newstaff walkabout team sautikuu tour aumaobama httpstcozKHpImngcV What bourbons do you have Provided book Ok do you have a recommendation then 🥃 walkabout httpstcoUCelke6SYN httpstcoQZw8TOfUyf Dr Auma on a walkabout with the team They visited all our Sauti Kuu sites to induct Sharmila and Richard into the Sauti Kuu family \n",
      "\n",
      "aumaobama\n",
      "\n",
      "newstaff walkabout team sautikuu tour aumaobama httpstcozKHpImngcV Fancy a walkabout 🚶 Why not take a stroll along the River Yeo this weekend Passing through the town of Ilchester where youll find our newhomes at Hainbury Meadows httpstcoHw9PJYjHMO httpstco5LLiMI7ksq walkabout in amsterdam  Amsterdam Centrum the Netherlands httpstcovptyw0rl7B Dr Auma on a walkabout with the team They visited all our Sauti Kuu sites to induct Sharmila and Richard into the Sauti Kuu family \n",
      "\n",
      "aumaobama\n",
      "\n",
      "newstaff walkabout team sautikuu tour aumaobama httpstcozKHpImngcV Dr Auma on a walkabout with the team They visited all our Sauti Kuu sites to induct Sharmila and Richard into the Sauti Kuu family \n",
      "\n",
      "aumaobama\n",
      "\n",
      "newstaff walkabout team sautikuu tour aumaobama httpstcozKHpImngcV Bee Tree Park Infrared flickr BeeTreePark BeeTree Park CountyPark StLouisCountyPark StLCountyPark Infrared IR InfraredPhotography IRPhotography Walkabout Outside Photography PhotoOfTheDay White Grey Yellow Black httpstco3fCh5CXJIT Funky View \n",
      "\n",
      "FunkyView HawaiianScene VisitHawaii VisitHi Outside WalkAbout Art Photography Colorful Prisma PrismaEdit PrismaRemix PrismaAI AI httpstcoff91KEqGBq Memories 14 years ago  the wanderer walk walkabout backhome backontrack sunset httpstcoyIP8xcaqHB\n",
      "cleaned: Senior season starts today…where did the time go rubymeylan What a ride it’s been I’ve enjoyed watching your tremendous growth as a player teammate and young lady Make it your best year ever love you Rubs lastdance httpstco6RwBfUcr9T While Part 2 of LucLongley’s LastDance has freshly arrived on the internet\n",
      "\n",
      "ChicagoBulls AustralianStory NBA BallorFall Jordan \n",
      "httpstcoNTqtkPtGEd Via AustralianStory heres Part 1 of LucLongley’s LastDance\n",
      "\n",
      "ChicagoBulls AustralianStory NBA BallorFall Jordan\n",
      "httpstcoi3st3r0a6s So locked in they screaming “free 5”lastdance So locked in they screaming “free 5”lastdance Senior blessing night for Cass lastdance senior2022 httpstcos9Wj3gVYeR it’s amazing that the lastdance  couldn’t get a luc Longley interview from the other side of the world but AustralianStory were able to do that with MJ Scottie Phil and Steve 🤨 using a local camera crew and a laptop Now the LastDance is finally complete So happy for Luc Longley  AustralianStory Kudos to AustralianStory for a superbly produced Luc Longley story giving him his LastDance A true trailblazer for Australian basketball 🏀 AustralianStory Well what an Olympics it was I’ll be taking a look back at Tokyo2020 on your wireless for the final time on Monday morning firstly on the BBCRadioLondon Breakfast Show at 705am and then for the 12th straight weekday with annacookson on BBCRadioKent at 910am lastdance httpstcoMtFOV4sCWx Well what an Olympics it was I’ll be taking a look back at Tokyo2020 on your wireless for the final time on Monday morning firstly on the BBCRadioLondon Breakfast Show at 705am and then for the 12th straight weekday with annacookson on BBCRadioKent at 910am lastdance httpstcoMtFOV4sCWx Aaron Rodgers and the Packers NEED to grant unprecedented access to a film crew for the entire year lastdance hardknocks Senior blessing night for Cass lastdance senior2022 httpstcos9Wj3gVYeR NOW to get all of Australia to watch tonight ABC Australian Story 8pm on Luc Longley lastdance NBL BasketballAus PerthWildcats Irfan2495 Our LB 😍 Big performance lastdance Well what an Olympics it was I’ll be taking a look back at Tokyo2020 on your wireless for the final time on Monday morning firstly on the BBCRadioLondon Breakfast Show at 705am and then for the 12th straight weekday with annacookson on BBCRadioKent at 910am lastdance httpstcoMtFOV4sCWx Irfan2495 Our LB 😍 Big performance lastdance Well what an Olympics it was I’ll be taking a look back at Tokyo2020 on your wireless for the final time on Monday morning firstly on the BBCRadioLondon Breakfast Show at 705am and then for the 12th straight weekday with annacookson on BBCRadioKent at 910am lastdance httpstcoMtFOV4sCWx Wishing TannerStacy8 and the TUCBIDG a wonderful and productive band camp I’ve always enjoyed watching BeechwoodBands and TUCBIDG Both have amazing work ethic and awesome performances banddad lastdance 🤗 me1odystacy httpstcoIFWLlWuyeq Wishing TannerStacy8 and the TUCBIDG a wonderful and productive band camp I’ve always enjoyed watching BeechwoodBands and TUCBIDG Both have amazing work ethic and awesome performances banddad lastdance 🤗 me1odystacy httpstcoIFWLlWuyeq Wishing TannerStacy8 and the TUCBIDG a wonderful and productive band camp I’ve always enjoyed watching BeechwoodBands and TUCBIDG Both have amazing work ethic and awesome performances banddad lastdance 🤗 me1odystacy httpstcoIFWLlWuyeq Wishing TannerStacy8 and the TUCBIDG a wonderful and productive band camp I’ve always enjoyed watching BeechwoodBands and TUCBIDG Both have amazing work ethic and awesome performances banddad lastdance 🤗 me1odystacy httpstcoIFWLlWuyeq Last dance of the night\n",
      "Acrylic on canvas \n",
      "8” x 20”\n",
      "art painting acrylicpainting lastdance paintingoftheday artoftheday texasdancehall crowd dancers httpstcojyXA1WwwtA 20 days💕⚔️ if the shirt color don’t change WORK HARDER  lastdance httpstcoblJ8nrQjDd 171202 BIGBANG LASTDANCE in Nagoya  GD  HQ ❤️ good morning Nagoya 😊 지드래곤 권지용 ジヨン gdragon httpstco99ST6XjkxT\n",
      "cleaned: MrsSudoku madebykrisztina crownandpalette FaryadiSharareh lilzidesigns dariadaria14 zhannetpodobed to name a few These are the real NFT OGs OriginalGangstas nftgoddesses  FemalePower ❤️‍🔥\n",
      "cleaned: Mata Hari Eye of the Day Dancer Entrepreneur Lover Spy Warrior \n",
      "In Love  and War\n",
      "womeninhistory femmefatale inloveandwar\n",
      "httpstcojRKZVLieqM httpstco6nj02cbWk2\n",
      "cleaned: Dinner view at backbeat at cedarpoint with bridgetDginley httpstco5klmziu8AY In this week’s Backbeat Devvaki Aggarwal Chief Executive Officer amp Cofounder Instrucko writes about how her passions formed the tiny huts of the village that she has made in herself\n",
      "\n",
      "Read the story here\n",
      "httpstcotL8VAb9JqF\n",
      "\n",
      "devvaki instruckoedu \n",
      "\n",
      "IMPACTMagazine httpstco5N1bX2y7iO ClinicalData News\n",
      "\n",
      "Bayers newly licensed breastcancer drug clears tumors in mice\n",
      "\n",
      "SynchronLab launches ClinicalTrial on device that helps patients w paralysis \n",
      "\n",
      "Data Shows BackBeat CNT Reduces BloodPressure in crossover hypertensive patients OrchestraBioMed httpstcofOstiacqzI\n",
      "cleaned: AlphaVille’s Forever Young is a lock for my 5albums84  not a weak track on the album and two worldwide hits in Forever Young and Big in Japan both of which are regularly covered by aspiring artists to this day An absolute gem \n",
      "AlphaVille httpstcoGZDGXFguoH 80sneverend May 84 the great alphaville release a fantastic hit that they actually didnt really love httpstcoiXi5CgfGt2 SoundsLikeAMelody Alphaville 80s Now playing Alphaville  Jerusalem on channel Firstbeat Listen it on Dailymate Radio at httpstcoYKocEZAZ8D We love you nowplaying firstbeat alphaville jerusalem dailymateradio radiostream onlineradio radiodirectory httpstcohFk40FhmaN Cheerbitter gymnastics she deserved it Its a shame but then again Linoy did perform to BigInJapan alphaville Dina and Averina were amazing rythmicgymnastics hr1 The Nelson Highrise\n",
      "\n",
      "alphaville\n",
      "\n",
      "httpstcojzzX9OvSTF forever young 2021 bis 2009\n",
      "\n",
      "alphaville \n",
      "\n",
      "foreveryoung \n",
      "\n",
      "Sounds like a melody httpstcoRIS5HyMJGh RednexMusic alphaville forever young AlphaVille’s Forever Young is a lock for my 5albums84  not a weak track on the album and two worldwide hits in Forever Young and Big in Japan both of which are regularly covered by aspiring artists to this day An absolute gem \n",
      "AlphaVille httpstcoGZDGXFguoH I had a little bit to do with this one \n",
      "Youre welcome and enjoy \n",
      "\n",
      "alphaVille \n",
      "httpstcoaQRlCMC79o DEPECHEMODE  PERSONALJESUS  1989 3 INCH CD SINGLE  RARE Austrian Import  DaveGahan TheHumanLeague httpstcoOtYG1czjYv via \n",
      "eBay\n",
      "\n",
      "TheCure NewOrder Erasure DuranDuran Kraftwerk Yazoo U2 TearsForFears TheSmiths SoftCell OMD GaryNuman Ultravox Alphaville I had a little bit to do with this one \n",
      "Youre welcome and enjoy \n",
      "\n",
      "alphaVille \n",
      "httpstcoaQRlCMC79o I had a little bit to do with this one \n",
      "Youre welcome and enjoy \n",
      "\n",
      "alphaVille \n",
      "httpstcoaQRlCMC79o I had a little bit to do with this one \n",
      "Youre welcome and enjoy \n",
      "\n",
      "alphaVille \n",
      "httpstcoaQRlCMC79o Now playing on GlamsRadio  Forever Young by Alphaville Tune in now and enjoy sound of DeepHouse Love Music ♾ FOREVER YOUNG ♾ by Alphaville ◇ httpstcoPjT4oS7dtN 80sneverend Sep 84 with the release of this single and album Alphaville become absolute icons of the 80s httpstcoQiQaEDPp3e ForeverYoung DEPECHEMODE  PERSONALJESUS  1989 3 INCH CD SINGLE  RARE Austrian Import  DaveGahan TheHumanLeague httpstcoOtYG1czjYv via \n",
      "eBay\n",
      "\n",
      "TheCure NewOrder Erasure DuranDuran Kraftwerk Yazoo U2 TearsForFears TheSmiths SoftCell OMD GaryNuman Ultravox Alphaville DEPECHEMODE  PERSONALJESUS  1989 3 INCH CD SINGLE  RARE Austrian Import  DaveGahan TheHumanLeague httpstcoOtYG1czjYv via \n",
      "eBay\n",
      "\n",
      "TheCure NewOrder Erasure DuranDuran Kraftwerk Yazoo U2 TearsForFears TheSmiths SoftCell OMD GaryNuman Ultravox Alphaville DEPECHEMODE  PERSONALJESUS  1989 3 INCH CD SINGLE  RARE Austrian Import  DaveGahan TheHumanLeague httpstcoOtYG1czjYv via \n",
      "eBay\n",
      "\n",
      "TheCure NewOrder Erasure DuranDuran Kraftwerk Yazoo U2 TearsForFears TheSmiths SoftCell OMD GaryNuman Ultravox Alphaville A thing I did \n",
      "Full song amp video 👉httpstcovmydF76XMu\n",
      "\n",
      "alphaVille \n",
      "Next Generation joshua bryant remix \n",
      "NewMusicFridays NewMusic NewMusicFixFriday synthpop httpstcogbs1Awjsn4 80sneverend Jan 84 the fantastic career of Alphaville takes off with an unforgettable debut single httpstco6F6GogTpH4 BigInJapan 80s UniversalDaddy\n",
      "Alphaville \n",
      "Taken from their 1986 studio album \n",
      "AfternoonsInUtopia \n",
      "\n",
      "httpstcoEaecItB6kj via YouTube MrAndrewCotter it was Alphaville who did Big in Japan💜 Thank you for all the support you’ve given our new video If you’ve missed it please give The Awakening’s version of “A Victory Of Love” a spin and please share it if you like it 🖤 httpstcodxrplPdqWg theawakening alphaville httpstco8r3e0mkykR “If mankind had always lived without contact with open rural nature … mankind would have had no religion but would have perished believing that it could be saved by its wishes and votes and the eloquence of politicians” George Santayana 1940 alphaville\n",
      "cleaned:nan\n",
      "cleaned: One day at a time Films that I cherish and have shaped my love for cinema Tran Anh Hungs Cyclo movies moviesfromthe90s cyclo trananhhung tonyleung levanloc BenoîtDelhomme httpstcoJmSmmu9YGq Some tools just make your life easier thankful righttoolforthejob cyclo bottombracket extraction workshoplife fixit sorted citylife iphotography thebicycleboy httpstcolJslCrnKCP Want a chance to win the cyclo or grimfable skin on fortnite  All you have to do is likeRT and follow me on twitch… \n",
      "\n",
      "ContestAlert EpicPartner FortniteClips FortniteCodes fortniteskins FortniteSeason7 vbucksgiveaway battlepass Twitch affiliate Ninja Giveaway httpstcoNQsgbD9neC Want a chance to win the cyclo or grimfable skin on fortnite  All you have to do is likeRT and follow me on twitch… \n",
      "\n",
      "ContestAlert EpicPartner FortniteClips FortniteCodes fortniteskins FortniteSeason7 vbucksgiveaway battlepass Twitch affiliate Ninja Giveaway httpstcoNQsgbD9neC Want a chance to win the cyclo or grimfable skin on fortnite  All you have to do is likeRT and follow me on twitch… \n",
      "\n",
      "ContestAlert EpicPartner FortniteClips FortniteCodes fortniteskins FortniteSeason7 vbucksgiveaway battlepass Twitch affiliate Ninja Giveaway httpstcoNQsgbD9neC Want a chance to win the cyclo or grimfable skin on fortnite  All you have to do is likeRT and follow me on twitch… \n",
      "\n",
      "ContestAlert EpicPartner FortniteClips FortniteCodes fortniteskins FortniteSeason7 vbucksgiveaway battlepass Twitch affiliate Ninja Giveaway httpstcoNQsgbD9neC On this day twenty five years ago Tony Leung ChiuWai Le Van Tuc amp Tran Nu Yên Khê starred in the Vietnamese crime drama Cyclo from writer amp director Tran Anh Hung in his follow up to The Scent Of Green Papaya This film was heavily criticized for being too western influenced httpstco7qWEedC8Be\n",
      "cleaned: “DRACONIC STANDARD” \n",
      "\n",
      "Bass build finally complete Here’s pics for now I’ll have better ones soon\n",
      "Idea was the weapon of heavy metal named after the spear St George used to slay the serpent Full top to bottom upgrades specs below bass relic music httpstcomk4DBiNhnV Whoa I just made a phone call and got the busy signal because THOSE STILL EXIST I GUESS relic \n",
      "\n",
      "Maybe Ill send a fax instead Relic NatalieErikaJames I would like to have returned the 90 minutes I spent on this nonsense httpstcobBtsBhqE0Y 5 DAYS LEFT  just at 400 Every set comes w 1 relic amp 1 sketchcard\n",
      "1 FREE sketch card now during the last week\n",
      "httpstcobR8OpKqvQG\n",
      "\n",
      "comics dealers comicshops comicstores resellers vendors conventions ComicCon cardshop TradingCards stores dinosaurs monday 5 DAYS LEFT  just at 400 Every set comes w 1 relic amp 1 sketchcard\n",
      "1 FREE sketch card now during the last week\n",
      "httpstcobR8OpKqvQG\n",
      "\n",
      "sketchcards thehobby comics sketchcovers crowdfunding indiegogo dinosaurs dinos promocards monday 5 DAYS LEFT  just at 400 Every set comes w 1 relic amp 1 sketchcard\n",
      "1 FREE sketch card now during the last week\n",
      "httpstcobR8OpKqvQG\n",
      "\n",
      "comics dealers comicshops comicstores resellers vendors conventions ComicCon cardshop TradingCards stores dinosaurs monday 5 DAYS LEFT  just at 400 Every set comes w 1 relic amp 1 sketchcard\n",
      "1 FREE sketch card now during the last week\n",
      "httpstcobR8OpKqvQG\n",
      "\n",
      "teachers parents museums nonsports collectibles comics indiegogo crowdfunding paleo school monday 5 DAYS LEFT  just at 400 Every set comes w 1 relic amp 1 sketchcard\n",
      "1 FREE sketch card now during the last week\n",
      "httpstcobR8OpKqvQG\n",
      "\n",
      "teachers parents museums nonsports collectibles comics indiegogo crowdfunding paleo school monday 5 DAYS LEFT  just at 400 Every set comes w 1 relic amp 1 sketchcard\n",
      "1 FREE sketch card now during the last week\n",
      "httpstcobR8OpKqvQG\n",
      "\n",
      "comics dealers comicshops comicstores resellers vendors conventions ComicCon cardshop TradingCards stores dinosaurs monday St Dominic  pray for us May through my relic here in the 2nd photo may he intercede for each of you Catholic CATHOLICCHURCH CatholicTwitter httpstcoAVy3Wi2r4o St Dominic  pray for us May through my relic here in the 2nd photo may he intercede for each of you Catholic CATHOLICCHURCH CatholicTwitter httpstcoAVy3Wi2r4o An example of taking the concept of a relic guitar too far httpstcott6nGfXMbz An example of taking the concept of a relic guitar too far httpstcott6nGfXMbz Are you looking for the next BSCGem\n",
      "\n",
      "Well look no further \n",
      "\n",
      "RELIC is coming soon to PancakeSwap ⏰\n",
      "\n",
      "Be there from the start and join the RELICArmy 🚀\n",
      "\n",
      "BSC BinanceChain cryptogem ALTSEASON httpstcohdx6bPfGri Are you looking for the next BSCGem\n",
      "\n",
      "Well look no further \n",
      "\n",
      "RELIC is coming soon to PancakeSwap ⏰\n",
      "\n",
      "Be there from the start and join the RELICArmy 🚀\n",
      "\n",
      "BSC BinanceChain cryptogem ALTSEASON httpstcohdx6bPfGri So good I had to share Check out all the items Im loving on Poshmarkapp poshmark fashion style shopmycloset relic toryburch httpstcoR7uqm6ANT7 httpstcoBRFOOuJ3uT So good I had to share Check out all the items Im loving on Poshmarkapp poshmark fashion style shopmycloset thesak relic httpstco28Onl4uACv httpstco7UUMfhZ17m 5 Relics for the jobs I play complete Also current glamours for them Now onto gathercraft relics\n",
      "\n",
      "ffxiv ff14 lalafell glamour fashion relic weapons GPOSERS httpstcoUbxmYjr6Nd I finally got my first completed relic from shadowbringers 💕\n",
      "The astrologian weapon is so so beautiful I absolute love the design uwu \n",
      "\n",
      "elezen ffxiv relic duskwight EorzeaPhotos httpstcoQpNP9ln3i2 I finally got my first completed relic from shadowbringers 💕\n",
      "The astrologian weapon is so so beautiful I absolute love the design uwu \n",
      "\n",
      "elezen ffxiv relic duskwight EorzeaPhotos httpstcoQpNP9ln3i2 So good I had to share Check out all the items Im loving on Poshmarkapp poshmark fashion style shopmycloset converse aeropostale relic httpstcofPbCQrQWgD httpstcoX3rwp4uTUd The Duobao Tower is one of the ancient landmarks of architecture in the Dazu Rock Carvings There are 12 levels outside on the appearance and 8 levels inside It’s 3333 meters high and stands on the top of the Dazu Beishan Area  historical relic China 大足石刻 多宝塔 httpstco28MAa3WUVV So good I had to share Check out all the items Im loving on Poshmarkapp poshmark fashion style shopmycloset oldnavy unbranded relic httpstcojbKW98N7sa httpstcoWZeIIamYH9 Reasons to join the RELICArmy \n",
      "\n",
      "🔆Unique Community Pool with 100 Distribution to Holders\n",
      "\n",
      "✔Automated Liquidity Pooling amp Rug Proof\n",
      "\n",
      "🔥Deflationary with builtin Tokenomics​\n",
      "\n",
      "🐳Whale Deterrent Features\n",
      "\n",
      "🌱Quarterly Charity Initiatives\n",
      "\n",
      "BSC DeFi altcoin PancakeSwap RELIC httpstcoKJAteiHGXP Reasons to join the RELICArmy \n",
      "\n",
      "🔆Unique Community Pool with 100 Distribution to Holders\n",
      "\n",
      "✔Automated Liquidity Pooling amp Rug Proof\n",
      "\n",
      "🔥Deflationary with builtin Tokenomics​\n",
      "\n",
      "🐳Whale Deterrent Features\n",
      "\n",
      "🌱Quarterly Charity Initiatives\n",
      "\n",
      "BSC DeFi altcoin PancakeSwap RELIC httpstcoKJAteiHGXP\n",
      "cleaned:nan\n",
      "cleaned: romance AmateurRadio stalker\n",
      "httpstconLrCw97tB8\n",
      "\n",
      "httpstco1EZ2LeshYS\n",
      "The Amateur radio was for emergencies but her brother insisted she could use it to catch a man Frannie thought he might be right when she heard the sexy male voice come across the airwaves httpstcoxdkeg9owwU Just Ewww stalker httpstcoBgvqOaMoxH DermotDooley emmzcee sweetrara12 fionapettit71 tummayo She diagnosed herself with PTSD and used the victim card for the billionth time🙄\n",
      "She broke the law like her buddy Leah now it’s time to reap what she has sown\n",
      "Guilty NoHate Stalker Trespassing HateSpeech httpstcoJSNsJXD3AP 🚨FEI just uploaded STALKERs  1 teaser\n",
      "Please watch leave a like and a comment and subscribe🚨\n",
      "\n",
      "王霏霏 WangFeifei Fei 페이 不霏Fearless FearlessWangFeifei FEIisComing Stalker \n",
      "\n",
      "🖇️httpstcoPcLvywgAXd The funny thing is the GG made it seem like he was excited to meet Sandra62493574 at the airport Facts are He was very uncomfortable he said Do you guys want a pic cause Im in a hurry STALKER funny GGG  Photo teaser 1  FeiFeiWears MISBHV Ss 2021 collection \n",
      "👉🏻httpstcoRwFmCGpDkk\n",
      "Stalker 不霏Fearless Fei NewAlbum WangFeiFei httpstcoQWKamJOrXt The funny thing is the GG made it seem like he was excited to meet Sandra62493574 at the airport Facts are He was very uncomfortable he said Do you guys want a pic cause Im in a hurry STALKER funny GGG The Stalker’s hunt started in 1978 after the Jonestown Massacre The Stalker is determined and deadly Now Jason and Natalia must protect six sets of identical twins onboard the ship \n",
      "\n",
      "DNA STALKER by Diane Rapp httpstco8lxZIJ9jsf \n",
      "\n",
      "ArtKNB \n",
      "httpstcoXpAUWex6uf The Stalker’s hunt started in 1978 after the Jonestown Massacre The Stalker is determined and deadly Now Jason and Natalia must protect six sets of identical twins onboard the ship \n",
      "\n",
      "DNA STALKER by Diane Rapp httpstco8lxZIJ9jsf \n",
      "\n",
      "ArtKNB \n",
      "httpstcoXpAUWex6uf Tsosvaper She called a hr later Im passing by your house  stalker she asked me sourine you gotta help me I need  introduce me to your friends  she is cray cray  Photo teaser 1  FeiFeiWears MISBHV Ss 2021 collection \n",
      "👉🏻httpstcoRwFmCGpDkk\n",
      "Stalker 不霏Fearless Fei NewAlbum WangFeiFei httpstcoQWKamJOrXt httpstcof1T3HflPH7\n",
      "\n",
      "Fei  Stalker MV teaser only watch it if you like real Art WangFei WangFeiFei Fei Stalker Fearless Be careful with MatthiasKloska stalker blackmail  httpstcoBrhQBrOoMd In addition they put as a premiere TEASER  2\n",
      "\n",
      "🖇️ httpstcoR2uJCKwVOB\n",
      "王霏霏 WangFeifei Fei 페이 不霏Fearless FearlessWangFeifei FEIisComing Stalker Min commented Feis post about STALKER IMAGE 3\n",
      "\n",
      "王霏霏 WangFeifei Fei 페이 不霏Fearless FearlessWangFeifei FEIisComing Stalker httpstcoCWOth3XwXV 🚨FEI just uploaded STALKERs  1 teaser\n",
      "Please watch leave a like and a comment and subscribe🚨\n",
      "\n",
      "王霏霏 WangFeifei Fei 페이 不霏Fearless FearlessWangFeifei FEIisComing Stalker \n",
      "\n",
      "🖇️httpstcoPcLvywgAXd I am the terror that flaps in the night\n",
      "\n",
      "Official pic\n",
      "\n",
      "52toys beastbox desktoys ビーストボックス night stalker crawler beetle httpstcoohy3a93u0x I am the terror that flaps in the night\n",
      "\n",
      "Official pic\n",
      "\n",
      "52toys beastbox desktoys ビーストボックス night stalker crawler beetle httpstcoohy3a93u0x AnglerLouisiana RichardGrenell lol just testing to see how many of my tweets you have saved  stalker I am the terror that flaps in the night\n",
      "\n",
      "Official pic\n",
      "\n",
      "52toys beastbox desktoys ビーストボックス night stalker crawler beetle httpstcoohy3a93u0x I am the terror that flaps in the night\n",
      "\n",
      "Official pic\n",
      "\n",
      "52toys beastbox desktoys ビーストボックス night stalker crawler beetle httpstcoohy3a93u0x HELPPPPPPPPP stalker obsessed httpstcoQaBofny9xl I guess people are still watching me I make a statement about 2019 and a person comes out of the woodwork to like a couple of social media posts Keep yourself in my view I see you \n",
      "stalker The teaser already dropped\n",
      "STALKER httpstcoKSVYpUS3p2 httpstco8XfN8qODs4 WangFeiFei is about to release soty and aoty\n",
      "FearlessWangFeiFei STALKER wangfeifei0427 \n",
      "\n",
      "httpstcoKSVYpUS3p2\n",
      "cleaned: creamofwool RealJohnGlover Oh Glover What a master of his craft I know all the work he’s done but every time I see his name I’m back watching him in Love Valour Compassion LGBTQ History 4 b Aug 7 1944 John Glover Kingston NY stage TV amp film actor Tony Award for “Love Valour Compassion” Broadway 1995 film 1997 known for Lionel Luthor on “Smallville” 20012011 Queer Cinema History  16 May 1997 Love Valour Compassion was released in the USA httpstcoGOdeedVSQh OnThisDay httpstcoBsh7jOPT8q\n",
      "cleaned: I fked up I kept Mav on my fantasy team palookaville\n",
      "cleaned: 25 Years PhatBeach Starring JermaineHopkins BrianHooks GreggVance ClaudiaKaleem Coolio EricFleeks AlmaCollins CandiceMerideth Directed By DougEllin 🏖 httpstcohfqSeRcvK8 Happy 25th Anniversary to Chain Reaction Emma Matilda and Phat Beach ChainReaction Emma Matilda PhatBeach 25thAnniversary httpstco3t0CZx11sh\n",
      "cleaned:nan\n",
      "cleaned:nan\n",
      "cleaned: But im still wiping you when I see you 🤣 BIGBULLY OatlyUK was loyal customer not so loyal after your legal action against a product that looked nothing like yoursbranddamage toyspram bigbully apology\n",
      "cleaned:nan\n",
      "cleaned:nan\n",
      "cleaned: Om Shanti AnupamShyam Played a v scary Mara in Bertolucci’s LittleBuddha 1992 Met him at a preview of asifkapadia ‘s ‘Warrior’ httpstcojDlFFR1NWx Om Shanti AnupamShyam Played a v scary Mara in Bertolucci’s LittleBuddha 1992 Met him at a preview of asifkapadia ‘s ‘Warrior’ httpstcojDlFFR1NWx Love this film LittleBuddha httpstcoUA7ON9ByiZ\n",
      "cleaned: Testimony before the  Senate Judiciary makes clear how dangerously close the Big Loser amp his republican cohorts came to destroying democracy\n",
      "\n",
      "Attempts to poison the DOJ amp overthrow a legitimate election is criminal All those involved must be prosecuted\n",
      "TrumpIsGUILTY fresh httpstcoSTLOvNlZC6 Something For Everyone\n",
      "SundayFunday lifestyle fresh httpstco3Ih0Bw5eSb DevinNunes is the kind of guy who would steal money from a childs lemonade stand and give it to Vladimir Putin And if that same childs parents complained he would sue them for defamation Naturally hes the GOPs ranking member on the Hse Intel Cmte\n",
      "Fresh\n",
      "ONEV1\n",
      "wtpBLUE httpstcoTJQuvCCs5h President Biden will protect our troops by enusring they are all vaccinated against the deadly coronavirus\n",
      "\n",
      "Just as they were vaccinated against anthrax typhus cholera and yellow fever\n",
      "\n",
      "Anyone who has a problem with this commonsense measure is an ignorant ass\n",
      "vaccinate fresh httpstcoEdLVKimeGV The Military personal will be mandated to be vaccinated They’ll have determine how many Vaccines they’ll need within the next few weeks\n",
      "\n",
      "OVArrow OneV1 wtpBLUE Fresh DemCastFL DemVoice1\n",
      "\n",
      "Pentagon to require COVID vaccine 4 all troops by Sept 15 httpstcoozwwjXCHsQ President Biden will protect our troops by enusring they are all vaccinated against the deadly coronavirus\n",
      "\n",
      "Just as they were vaccinated against anthrax typhus cholera and yellow fever\n",
      "\n",
      "Anyone who has a problem with this commonsense measure is an ignorant ass\n",
      "vaccinate fresh httpstcoEdLVKimeGV President Biden will protect our troops by enusring they are all vaccinated against the deadly coronavirus\n",
      "\n",
      "Just as they were vaccinated against anthrax typhus cholera and yellow fever\n",
      "\n",
      "Anyone who has a problem with this commonsense measure is an ignorant ass\n",
      "vaccinate fresh httpstcoEdLVKimeGV The Military personal will be mandated to be vaccinated They’ll have determine how many Vaccines they’ll need within the next few weeks\n",
      "\n",
      "OVArrow OneV1 wtpBLUE Fresh DemCastFL DemVoice1\n",
      "\n",
      "Pentagon to require COVID vaccine 4 all troops by Sept 15 httpstcoozwwjXCHsQ Hello Amerika I love your country Trump is paying off his debts to me by raising money for phony audits And his minions are literally killing your children by not getting vaccinated I love it And laurenboebert is my kind of woman God Bless the USA\n",
      "Fresh\n",
      "ONEV1 \n",
      "wtpBLUE httpstcorIOiffJWjL President Biden will protect our troops by enusring they are all vaccinated against the deadly coronavirus\n",
      "\n",
      "Just as they were vaccinated against anthrax typhus cholera and yellow fever\n",
      "\n",
      "Anyone who has a problem with this commonsense measure is an ignorant ass\n",
      "vaccinate fresh httpstcoEdLVKimeGV This evil sociopath amp his republican party are mortal threats to democracy\n",
      "They came dangerously close to overthrowing an election\n",
      "\n",
      "If these devils are not prosecuted for their crimes we may witness the end of American democracy\n",
      "TrumpIsGUILTY Fresh\n",
      "httpstcoe5t5Dzha3r Rmbr last wk when DHS put out🆘 about📈in🗣online about political violence \n",
      "Well👇🏼\n",
      "These PB didn’t just make an appearance in Portland Also at Trump Fndrs last night\n",
      "Yeah remember that 🕦 in Dec when PB Ldr went WH then they all sacked the Capitol\n",
      "Fresh\n",
      "DemVoice1 \n",
      "wtpBLUE httpstcokWJxNfN3Qy President Biden will protect our troops by enusring they are all vaccinated against the deadly coronavirus\n",
      "\n",
      "Just as they were vaccinated against anthrax typhus cholera and yellow fever\n",
      "\n",
      "Anyone who has a problem with this commonsense measure is an ignorant ass\n",
      "vaccinate fresh httpstcoEdLVKimeGV How many of us agree that lunch without soup is not a real lunch🥄🍲\n",
      "How about a lunch with a delicious lentil soup filled with the best protein\n",
      "\n",
      "📍 6201 Woodside Avenue\n",
      "📞 718 205 9898\n",
      "📲 httpstcoFJoHU0CYqo\n",
      "\n",
      "PollosMarioWoodside Homedelivery FreeDelivery Fresh soup httpstcopkYSuvDBUa President Biden will protect our troops by enusring they are all vaccinated against the deadly coronavirus\n",
      "\n",
      "Just as they were vaccinated against anthrax typhus cholera and yellow fever\n",
      "\n",
      "Anyone who has a problem with this commonsense measure is an ignorant ass\n",
      "vaccinate fresh httpstcoEdLVKimeGV President Biden will protect our troops by enusring they are all vaccinated against the deadly coronavirus\n",
      "\n",
      "Just as they were vaccinated against anthrax typhus cholera and yellow fever\n",
      "\n",
      "Anyone who has a problem with this commonsense measure is an ignorant ass\n",
      "vaccinate fresh httpstcoEdLVKimeGV This evil sociopath amp his republican party are mortal threats to democracy\n",
      "They came dangerously close to overthrowing an election\n",
      "\n",
      "If these devils are not prosecuted for their crimes we may witness the end of American democracy\n",
      "TrumpIsGUILTY Fresh\n",
      "httpstcoe5t5Dzha3r Freshly Picked By Howard Carter🍄\n",
      "\n",
      "mushroom fresh garden uk picked httpstcojZByuwSieN The Military personal will be mandated to be vaccinated They’ll have determine how many Vaccines they’ll need within the next few weeks\n",
      "\n",
      "OVArrow OneV1 wtpBLUE Fresh DemCastFL DemVoice1\n",
      "\n",
      "Pentagon to require COVID vaccine 4 all troops by Sept 15 httpstcoozwwjXCHsQ Investigate and prosecute Senators Insurrectionists and Domestic Terrorists Ted Cruz and Josh Hawley\n",
      "\n",
      "InsurrectionHasConsequences \n",
      "InsurrectionHearing \n",
      "Fresh DemVoice1\n",
      " httpstcoDQTzzweRYw How to buy stocks using Webull in under 15 seconds shorts httpstcobQCLoSeSJh via YouTube  investing stocks buy amc Mrbeastlachlan ninja gamingwithkev sypherpk alia morealia tiko trimix fresh benjyfishy fortnite legend mongraal smosh dogecoin httpstcon0qdC2znHS DevinNunes is the kind of guy who would steal money from a childs lemonade stand and give it to Vladimir Putin And if that same childs parents complained he would sue them for defamation Naturally hes the GOPs ranking member on the Hse Intel Cmte\n",
      "Fresh\n",
      "ONEV1\n",
      "wtpBLUE httpstcoTJQuvCCs5h Rand Paul is a madman who clearly cares nothing about the people of Kentucky\n",
      "Instead of working to keep his constituents safe during a dangerous rise in covid cases amp deaths  this devil insanely attacks the CDC\n",
      "\n",
      "Kentucky  Recall him\n",
      "The lives you save will be your own\n",
      "fresh httpstcoS9Ej7tPWJx A cult is excessive admiration for a particular person or thing True cultists will sacrifice their own children for an icon Cults thrive on cynicism of enablers such as GregAbbottTX amp GovRonDeSantis who leverage serville hive mentality for power\n",
      "Fresh\n",
      "ONEV1\n",
      "wtpBLUE httpstcoy3vLAZNblX DevinNunes is the kind of guy who would steal money from a childs lemonade stand and give it to Vladimir Putin And if that same childs parents complained he would sue them for defamation Naturally hes the GOPs ranking member on the Hse Intel Cmte\n",
      "Fresh\n",
      "ONEV1\n",
      "wtpBLUE httpstcoTJQuvCCs5h\n",
      "cleaned:nan\n",
      "cleaned: A Sensual coming of age movie wildreeds queercinema film LGBT French httpstcoKnRcaIbELw\n",
      "cleaned: IndiaNHRC AtifBjp\n",
      "ArunKumarMishra the Chairperson amp Indias HumanRightsDefender\n",
      "\n",
      "The Oppressed Womens of Bengal seeks URGENT intervention of the SupremeCourtOfIndia for the worst ever PostPoll HumanRightsViolations in the state of WestBengal \n",
      "NCWINDIA sharmarekha httpstcocVrZPoZPn0 Excited to share the latest addition to my etsy shop Stunning 700ctw Genuine Blue amp White Topaz 925 Sterling Silver Tennis Bracelet Wt 12 G 7 Long httpstcowFTCxCslRU silver blue topaz women stone slidelock artnouveau bracelet7inches genuinetopaz httpstcocWXLc50Nts Excited to share the latest addition to my etsy shop Natural Blue Topaz 925 Sterling Silver Multitone Gold Ring Sz 75 Wt 58 g httpstcoxRKMl0EsIL blue topaz silver women stone artnouveau madewell durable sterlingsilver httpstcorOOuex4iaV Greetings Women Leaders Who in the VC circuit again is funding Femalefounders I’m going to try to raise 10k in a note for a female Startup founder from Cambodia to build out her beauty clinic amp 310x her income with the equipment Nurse degree was top staff at Slave clinic Greetings Women Leaders Who in the VC circuit again is funding Femalefounders I’m going to try to raise 10k in a note for a female Startup founder from Cambodia to build out her beauty clinic amp 310x her income with the equipment Nurse degree was top staff at Slave clinic Excited to share the latest addition to my etsy shop Laurel Burch Earrings Pierced Ear Wire Art Deco Style Royal Blue Vintage Dangle Pierced Earrings httpstco34r168X491 blue birthday gold no women earwire earlobe vintagobsessions vintageburch httpstcolAwO7KzxJA Climate and Energy Campaigner Thandile Chinyavanhu told Daily Maverick that as the potential of the agricultural industry shrinks due to climatechange impact increased job losses are felt by women\n",
      "\n",
      "httpstcocrEjNfZFUG\n",
      "\n",
      "WomensDay Excited to share the latest addition to my etsy shop Rhinestone Detachable Strap Crystal Wedding Dress Strap Bridal Shoulder Epaulettes Strap Removable Straps Necklace Bridal Shoulder Strap httpstcoz4mZJCSwEz silver wedding gold pearl women yes victor httpstcosfZzbWRrGi The greatest challenge for women is the societal perception that women cannot own land HakiNawiri Owiti1Susan Afsafrica PeasantsLeague amamponsah simonpbukenya IYD2021 senalouka ugyouthsenate MichaelFakhri ICRW falubbe ecodenker theodorapius EAYNOfficial “Women are adapting to include climatesmart agriculture in their practices but in the absence of decisive climateaction there is no way to shield women from a changing climate” Chinyavanhu said\n",
      "\n",
      "httpstcocrEjNfZFUG\n",
      "\n",
      "climatechange\n",
      "WomensDay\n",
      "WomensDay2021 Thanks for the kind words ★★★★★ This Monet Cordelia brooch is lovely It was wrapped well for transport arriving in a timely fashion Thank you TreasuringFifty for a lovely shopping experience Brenda R Davis httpstco94plyvwt4R etsy gold women monet mo httpstcovBLY6mBQjy Excited to share the latest addition to my etsy shop Handcrafted Genuine Alpaca Mexico Abalone Fish Sterling Silver Dangle 925 On New Flower 925 Ear Wire Earrings Wt 83 Grams httpstcotRyqp3mOUa silver women earwire earlobe bohohippie genuineabalone 925 httpstcoZa8jZWtxXC Thanks for the kind words ★★★★★ This Monet Cordelia brooch is lovely It was wrapped well for transport arriving in a timely fashion Thank you TreasuringFifty for a lovely shopping experience Brenda R Davis httpstco94plyvwt4R etsy gold women monet mo httpstcovBLY6mBQjy katierosman Thanks for this reporting A sad commentary on the way women are still treated as secondclass citizens by men with places at the table I hope shes able to be liberated to speak openly about all she has endured cancersurvivor httpstcoJY0hTcXuxc Excited to share the latest addition to my etsy shop Handcrafted Genuine Alpaca Mexico Abalone Fish Sterling Silver Dangle 925 On New Flower 925 Ear Wire Earrings Wt 83 Grams httpstcotRyqp3mOUa silver women earwire earlobe bohohippie genuineabalone 925 httpstcoZa8jZWtxXC Excited to share the latest addition to my etsy shop Stunning 700ctw Genuine Blue amp White Topaz 925 Sterling Silver Tennis Bracelet Wt 12 G 7 Long httpstcowFTCxCslRU silver blue topaz women stone slidelock artnouveau bracelet7inches genuinetopaz httpstcocWXLc50Nts This ones for all the ladies Stay STRONG  Stay FEARLESS  Stay FUNKY 😎 Enjoy 20 off with code FUNKYWOMAN\n",
      "\n",
      "InternationalWomensDay KnowYourWorthLadies Girlpreneur ChooseToChallenge Fempire womensday women girlpower funky cbd cbdproducts cbdlife hemp cbdbenefits httpstcojRTarlxD4V Quran \n",
      "\n",
      "And what is it with you You do not fight in the cause of Allah and for oppressed men  women  and children who cry out \n",
      "\n",
      "Our Lord  Deliver us from this land of oppressors  Appoint for us a saviour appoint for us a helper all by Your grace\n",
      " 475\n",
      "\n",
      "Islam Women are beautiful powerful and strong ♀ 💕 Happy NationalWomensDay to all our fierce ladies out there making a name for themselves by working hard and staying resilient no matter how challenging the obstacle women womenempowerment womensupportingwomen httpstcoJ3Vs0a1M02 Do Women in Africa Have Control Over Their Own Bodies Take the Quiz httpstcocSHhhiAbVy globalcitizen MyBodyMyChoice HealthForAll Health women Africa equity Equality HumanRights HumanRightsViolations Jordan Focus on the Amal project to fight unemployment among women and youth httpstcoiQ9T4JKovf httpstcoS2bRf8vEJf Its NationalWomensDay and our book collection at MuseumOfChildhood is not lacking in stories about great women of the past  WomensDay Reading BookLoversDay bookstagram httpstco9k2ZOLUdnF NEW Set of 2 Sandstone Car Coasters Sublimation Baby You Aint Worth The Time Or WHISKEYso Keep It Steppin Car Accessories Gift Handmade httpstcoQa0oqUqmw4 round circle women girl sublimation design abs httpstcoD05Y0IHIw0 It is Middlemen who  control the market and not youth or women HakiNawiri IYD2021 thefacipulator agcconnect ICRW EAYNOfficial falubbe AbukaAlfred BrianOdero7 FundAgroecology djibny dfamara1 bmngabirano1 JarcTusiime ZindukaFestival NoelTempler PeasantsLeague Excited to share the latest addition to my etsy shop Set of 2 Sandstone Car Coasters Sublimation Marine Logo Car Accessories Gift Handmade httpstcogVSFwlUwcJ round circle women mom sublimation design absorbent coasters car httpstcoylrGgoYAf1\n",
      "cleaned: RT   Cindy gemswinc\n",
      "Suite Reacció  \n",
      "Joan Ponc art\n",
      "\n",
      "Train your mind to see good in every situation\n",
      "relaxation joy envy han love optimism thrill delight bliss pride involved wowed humble passion optimistic\n",
      "\n",
      "TweetDeck httpstco6VK0DrYwhj httpstcoJ25Oz8k5Lj NEW Garden Bliss from Hoffman California Digital Sewing quilting quiltingcotton Crafting crafts Etsy httpstcope9GovFxlM httpstco0abxQef2GA Snatch a glimpse of the VFX process of expanding the setting by adding in more brains for PrimeVideos Bliss created by the MoleculeVFX team led by VFX Supervisor Luke DiTomasso\n",
      "\n",
      "VisualEffects MotionGraphics PrimeVideo BehindtheScenes BehindtheCamera Movie httpstcoeKVcmm2Vsx NEW Garden Bliss from Hoffman California Digital Sewing quilting quiltingcotton Crafting crafts Etsy httpstcope9GovFxlM httpstco0abxQef2GA NEW Garden Bliss from Hoffman California Digital Sewing quilting quiltingcotton Crafting crafts Etsy httpstcope9GovFxlM httpstco0abxQef2GA Distorted Reflections Of A Lake Surrounding On Its Water Surface\n",
      "🐦\n",
      "spiritual soothing relaxing\n",
      "calming imaginative meditation  containment photography bless\n",
      "detox Inspiring bliss Reflect love innovation Art Expression Smart nature balm Health\n",
      "SPEAKS VOLUMES httpstcoRcile2VgYr I ❤️ my job Working with LaurenGerman is a fing dream What a wonderful day of filming on LuciferNetflix Off to bed to do it all over again tmwr bliss 🙏🏾❤️ See  You ltgt Me And that makes We  gt Us\n",
      "♤♡9\n",
      " Phoenix Goddess ♤♡9\n",
      "\n",
      "selflove selfloveaboveallelse selflovefirst selflovejourney dontwasteyourenergy believe yourself angelic guide guidance bliss blissful joy exitement purity \n",
      "\n",
      "httpstcorJmQqmS4HL httpstcozZp0L9U1tn No Matter What People Tell You Words And Ideas Can Change The World” Robin Williams \n",
      "\n",
      "Joy Live Love Bliss Kindness ChangeTheWorld HealOurWorld httpstcoClo2WWhDaP No Matter What People Tell You Words And Ideas Can Change The World” Robin Williams \n",
      "\n",
      "Joy Live Love Bliss Kindness ChangeTheWorld HealOurWorld httpstcoClo2WWhDaP Home for the next week💚🏕camping Wales beach bliss httpstcoG5JLMQu6Am Proud of you Papa DrSSPorwal VSM✌💯\n",
      "\n",
      "prouddaughter rolemodel bestdad achiever gogetter inspiration KeepGoing riseandshine motivational amazing father dad daddy Papa love Tweet twitter Express bliss PositiveVibes blissful embrace httpstcoyTa250jdP8 NEW Garden Bliss from Hoffman California Digital Sewing quilting quiltingcotton Crafting crafts Etsy httpstcope9GovFxlM httpstco0abxQef2GA Back from a wonderful holiday with my family and caught up on lots of grandma cuddles 🤗 Bliss specialtimes NEW Garden Bliss from Hoffman California Digital Sewing quilting quiltingcotton Crafting crafts Etsy httpstcope9GovFxlM httpstco0abxQef2GA Silhouette of Waterfowls on Body of Water During Sunset\n",
      "🎵\n",
      "spiritual soothing relaxing\n",
      "calming imaginative meditation  containment photography bless\n",
      "detox Inspiring bliss Reflect love innovation Art Expression Smart nature balm Pexels\n",
      "💥CHILLING SILIENCE\n",
      "🎶 httpstcoCfCoHAJnBf NEW Garden Bliss from Hoffman California Digital Sewing quilting quiltingcotton Crafting crafts Etsy httpstcope9GovFxlM httpstco0abxQef2GA NEW Garden Bliss from Hoffman California Digital Sewing quilting quiltingcotton Crafting crafts Etsy httpstcope9GovFxlM httpstco0abxQef2GA NEW Garden Bliss from Hoffman California Digital Sewing quilting quiltingcotton Crafting crafts Etsy httpstcope9GovFxlM httpstco0abxQef2GA NEW Garden Bliss from Hoffman California Digital Sewing quilting quiltingcotton Crafting crafts Etsy httpstcope9GovFxlM httpstco0abxQef2GA Silhouette of Waterfowls on Body of Water During Sunset\n",
      "🎵\n",
      "spiritual soothing relaxing\n",
      "calming imaginative meditation  containment photography bless\n",
      "detox Inspiring bliss Reflect love innovation Art Expression Smart nature balm Pexels\n",
      "💥CHILLING SILIENCE\n",
      "🎶 httpstcoCfCoHAJnBf Seating by the beach sipping on some liquor listening to my fav Spotify playlist Bliss Silhouette of Waterfowls on Body of Water During Sunset\n",
      "🎵\n",
      "spiritual soothing relaxing\n",
      "calming imaginative meditation  containment photography bless\n",
      "detox Inspiring bliss Reflect love innovation Art Expression Smart nature balm Pexels\n",
      "💥CHILLING SILIENCE\n",
      "🎶 httpstcoCfCoHAJnBf Silhouette of Waterfowls on Body of Water During Sunset\n",
      "🎵\n",
      "spiritual soothing relaxing\n",
      "calming imaginative meditation  containment photography bless\n",
      "detox Inspiring bliss Reflect love innovation Art Expression Smart nature balm Pexels\n",
      "💥CHILLING SILIENCE\n",
      "🎶 httpstcoCfCoHAJnBf End of another beautiful day\n",
      "\n",
      "Good Night all of you\n",
      "\n",
      "life bliss content dreams httpstcoZeiqrvCvTO\n",
      "cleaned: The brazen lying of Azeris \n",
      "This video shows an Armenian man who is SPEAKING ARMENIAN witness an Azeri phosphorus strike The video was uploaded by this Azeri account and labelled Armenia used white phosphorus against Azerbaijan \n",
      "Liars Caught \n",
      "\n",
      "httpstcoCdhIdXXC9f The brazen lying of Azeris \n",
      "This video shows an Armenian man who is SPEAKING ARMENIAN witness an Azeri phosphorus strike The video was uploaded by this Azeri account and labelled Armenia used white phosphorus against Azerbaijan \n",
      "Liars Caught \n",
      "\n",
      "httpstcoCdhIdXXC9f These Trash streams HAVE TO STOP\n",
      "These have gone WAY too far now\n",
      "httpstcopeoPtwYpYZ\n",
      "trashstream trashstreams russiantrashstreams\n",
      "caught caughtin4k The brazen lying of Azeris \n",
      "This video shows an Armenian man who is SPEAKING ARMENIAN witness an Azeri phosphorus strike The video was uploaded by this Azeri account and labelled Armenia used white phosphorus against Azerbaijan \n",
      "Liars Caught \n",
      "\n",
      "httpstcoCdhIdXXC9f The brazen lying of Azeris \n",
      "This video shows an Armenian man who is SPEAKING ARMENIAN witness an Azeri phosphorus strike The video was uploaded by this Azeri account and labelled Armenia used white phosphorus against Azerbaijan \n",
      "Liars Caught \n",
      "\n",
      "httpstcoCdhIdXXC9f The brazen lying of Azeris \n",
      "This video shows an Armenian man who is SPEAKING ARMENIAN witness an Azeri phosphorus strike The video was uploaded by this Azeri account and labelled Armenia used white phosphorus against Azerbaijan \n",
      "Liars Caught \n",
      "\n",
      "httpstcoCdhIdXXC9f The brazen lying of Azeris \n",
      "This video shows an Armenian man who is SPEAKING ARMENIAN witness an Azeri phosphorus strike The video was uploaded by this Azeri account and labelled Armenia used white phosphorus against Azerbaijan \n",
      "Liars Caught \n",
      "\n",
      "httpstcoCdhIdXXC9f The brazen lying of Azeris \n",
      "This video shows an Armenian man who is SPEAKING ARMENIAN witness an Azeri phosphorus strike The video was uploaded by this Azeri account and labelled Armenia used white phosphorus against Azerbaijan \n",
      "Liars Caught \n",
      "\n",
      "httpstcoCdhIdXXC9f The brazen lying of Azeris \n",
      "This video shows an Armenian man who is SPEAKING ARMENIAN witness an Azeri phosphorus strike The video was uploaded by this Azeri account and labelled Armenia used white phosphorus against Azerbaijan \n",
      "Liars Caught \n",
      "\n",
      "httpstcoCdhIdXXC9f The brazen lying of Azeris \n",
      "This video shows an Armenian man who is SPEAKING ARMENIAN witness an Azeri phosphorus strike The video was uploaded by this Azeri account and labelled Armenia used white phosphorus against Azerbaijan \n",
      "Liars Caught \n",
      "\n",
      "httpstcoCdhIdXXC9f Just caught some loose water\n",
      "\n",
      "memes memesdaily memes2021 awesome caught water loosewater httpstcoSRQy5lzbtM The brazen lying of Azeris \n",
      "This video shows an Armenian man who is SPEAKING ARMENIAN witness an Azeri phosphorus strike The video was uploaded by this Azeri account and labelled Armenia used white phosphorus against Azerbaijan \n",
      "Liars Caught \n",
      "\n",
      "httpstcoCdhIdXXC9f The brazen lying of Azeris \n",
      "This video shows an Armenian man who is SPEAKING ARMENIAN witness an Azeri phosphorus strike The video was uploaded by this Azeri account and labelled Armenia used white phosphorus against Azerbaijan \n",
      "Liars Caught \n",
      "\n",
      "httpstcoCdhIdXXC9f The brazen lying of Azeris \n",
      "This video shows an Armenian man who is SPEAKING ARMENIAN witness an Azeri phosphorus strike The video was uploaded by this Azeri account and labelled Armenia used white phosphorus against Azerbaijan \n",
      "Liars Caught \n",
      "\n",
      "httpstcoCdhIdXXC9f Fish 🐠Almost Dies\n",
      "\n",
      "Caught In Plastic\n",
      "\n",
      "Straws Take 200 Yrs To Decompose\n",
      "\n",
      "PlasticBags Take 10  Yrs To Decompose\n",
      "\n",
      "PlasticBottles Take 400 Yrs To Decompose\n",
      "\n",
      "RECYCLE \n",
      "\n",
      "UseReUsableCups\n",
      "\n",
      "GoStrawFree\n",
      "\n",
      "GoPlasticFree \n",
      "\n",
      "BanSingleUsePlastic\n",
      "\n",
      " httpstco7ycQooxuHp Wow Finally caught ChickfilA slipping caught CheatersOnWatcho ripbozo JSFamilyVacation httpstco4UNhloqq8R Digital tokens brokers get in trouble…  caught  httpstcotSaLAolCle Join 13 people right now at Apex Legends and Titanfall hackers caught in elaborate plot to revive Titanfall Online cheers technology tech gaming rockpapershotgun elaborate titanfall hackers legends online revive caught plot apex httpstcoAf56AenCBv httpstcoSiEes7jX8K Brutal Seattle beating caught on surveillance video police say httpstcoc31y2kSG7D brutal seattle beating caught on surveillance video police say\n",
      "cleaned:nan\n",
      "cleaned:nan\n",
      "cleaned:nan\n",
      "cleaned: “I said pop yo titty out of his mouth and stop babying him” lmfaooo MajorPayne WHEW this movie could have not come out now lmfaoooooo\n",
      "\n",
      "MajorPayne Ass eyes 😂😂😂😂😂\n",
      "MajorPayne netflix has majorpayne it’s just as funny as the first day I seen it MajorPayne such a classic I’d love to see a sequel to MajorPayne Hey netflix I said hold it before I take it off and kick around on the ground MajorPayne “Used to be Sampson now I’m Ann gotta earn my right to be called a man”🤣🤣🤣 MajorPayne Me and someone’s daughter MajorPayne httpstco01lznf0Qwh Little Engine That Could MajorPayne httpstcotsBd3Ev2nE Imma GONNA MAKE YOU BOYS STRONG MajorPayne If he still in there HE AINT HAPPY majorpayne You want sympathy look in the dictionary between shit and syphilis  MajorPayne Welcome to the House of Payne Unity Turds MajorPayne I’m sorry that you’re just a little turd that can’t hold your liquid out in public \n",
      "MajorPayne EYE AM NOT YOUR DAMN BROTHER MajorPayne LEMME SEE THAT BELLY ROLL MajorPayne Up watchin Majorpayne in tears\n",
      "\n",
      "🤣🤣🤣🤣🤣🤣🤣🤣🤣🤣🤣🤣🤣🤣🤣🤣🤣🤣🤣🤣🤣🤣🤣🤣🤣🤣🤣🤣🤣🤣🤣🤣🤣🤣🤣🤣🤣🤣🤣🤣🤣🤣 Thur yeh thur \n",
      "\n",
      "majorpayne After 10 years Netflix has finally put an Og in the line up Majorpayne is on netflix majorpayne2 How do we get another Major Payne movie majorpayne daymonwayans NetflixFilm netflix  MajorPayne is at the top of my list of great movies TheDamonWayans keeneniwayans Major Payne said “killing is my business gentleman and business is good” \n",
      "majorpayne 😂😂😂 Watching MajorPayne wit the kiddos\n",
      "\n",
      "Hits different 😂 “Women When I was 6 yrs old I had a full time job “ 😂😂 MajorPayne\n",
      "cleaned: The ManOfTheHouse is going to shoddily assemble a chest of drawers today Thursday Looking backTbT 1995\n",
      "httpstcoII6Grs5ziP 📼 \n",
      "ManOfTheHouse📽️🎬🎞️\n",
      "ChevyChaseToGo JonathanTaylorThomas \n",
      "That voice smile laugh Missing her so much FarrahFawcett \n",
      "RyanONeal PatrickONeal AlanaKStewart FarrahFawcettFN Happy birthday to our little man  You fill our house with so much joy and a whole lot of chaos     We love ❤ you Brooks  6 ManOfTheHouse 🎁🎉🎈 httpstco1sspTK9w1s\n",
      "cleaned:nan\n",
      "cleaned:nan\n",
      "cleaned:nan\n",
      "cleaned:nan\n",
      "cleaned:nan\n",
      "cleaned: Faungirl123 Hit up SonInLaw BioDome or my favorite InTheArmyNow httpstcod5bFaJIkll Movies to check out on PrimeVideo while youre quarantined brozzz Which one is your favorite \n",
      "\n",
      "Stay safe Wash your hands dudes\n",
      "\n",
      "paulyshore encinoman soninlaw biodome juryduty inthearmynow TheComedyStore comedy quarantinelife httpstcoQlUBAgHpyN OriginalFunko Pokemon We want a Pauly Shore Pop Please So many great Pop Line opportunities Buuuddy He’s an Icon PaulyShore Encinoman Soninlaw Inthearmynow Biodome TotallyPauly Theweasel SeanAstin BrendanFraser StephenBaldwin7 andydick loripetty carlagugino PatrickRenna httpstcoaAbtCKqJFp So proud of my amazing boy sapper Prowse he is a super star  sapperprowse inthearmynow httpstcoyBNZtGSRXl OriginalFunko We need an PaulyShore Funko Pop Please Encinoman soninlaw biodome theweasel totallypauly inthearmynow Any of those would make great pops Buuuddy He’s an Icon OriginalFunko httpstcoI9JXonqmNK OriginalFunko What can we do to get an PaulyShore Funko Pop Please totallypauly encinoman soninlaw biodome goofymovie theweasel inthearmynow All great themes for a Funko Pop line OriginalFunko httpstcoBT4pEQiSFV Thanks propstorecom for adding this  Army Helmet to my collection Given as a gift to the crew that worked the comedy feature film InTheArmyNow starring PaulyShore andydick loripetty davidalangrier released 81294 httpstcoPfN9cjHSaB Newest addition to my collection 10ft x 4ft InTheArmyNow theatrical vinyl banner released in 1994 featuring PaulyShore loripetty davidalangrier andydick Arrived in time for the upcoming 27th anniversary on August 12 🎉 httpstcowi9FHEKXoG\n",
      "cleaned: FREE on Amazon  Take a reading journey of The Inkwell a Discord collaborative Review or Rate us on Amazon or Goodreads\n",
      "httpstcoyBuhs6Ikln\n",
      "writerscommunity writers inkwell httpstcoV0bY1g9ywC FREE on Amazon  Take a reading journey of The Inkwell a Discord collaborative Review or Rate us on Amazon or Goodreads\n",
      "httpstcoyBuhs6Ikln\n",
      "writerscommunity writers inkwell httpstcoV0bY1g9ywC FREE on Amazon  Take a reading journey of The Inkwell a Discord collaborative Review or Rate us on Amazon or Goodreads\n",
      "httpstcoyBuhs6Ikln\n",
      "writerscommunity writers inkwell httpstcoV0bY1g9ywC Handwritten script on the ribs tattooed by Veronica at our South Lyon location\n",
      "\n",
      "tattoo tattoos inkwell inkwelltattoo ink bodymod bodymodification art scripttattoo inkwelltattoos lineworktattoo blackandgraytattoo ribtattoo ribstattoo httpstco8jMHfpXtbj FREE on Amazon  Take a reading journey of The Inkwell a Discord collaborative Review or Rate us on Amazon or Goodreads\n",
      "httpstcoyBuhs6ZVcV\n",
      "writerscommunity writers inkwell httpstcon3QhwBzpRC FREE on Amazon  Take a reading journey of The Inkwell a Discord collaborative Review or Rate us on Amazon or Goodreads\n",
      "httpstcoyBuhs6ZVcV\n",
      "writerscommunity writers inkwell httpstcon3QhwBzpRC FREE on Amazon  Take a reading journey of The Inkwell a Discord collaborative Review or Rate us on Amazon or Goodreads\n",
      "httpstcoyBuhs6ZVcV\n",
      "writerscommunity writers inkwell httpstcon3QhwBzpRC Obamas the BlackDivide Inkwell TalentedTenth TeamLightSkinned\n",
      "LightSkinnedPrivilege httpstcoqtM8avDw4V Nice bold lines on the scriptarrow piece tattooed by Veronica at our South Lyon shop\n",
      "\n",
      "tattoo tattoos inkwell inkwelltattoo ink bodymod bodymodification art arrowtattoo inkwelltattoos lineworktattoo scripttattoo blackandgraytattoo armtattoo arrowstattoo httpstcoZNszYVSoof LPGrahamWrites FREE on Amazon  Take a reading journey of The Inkwell a Discord collaborative Review or Rate us on Amazon or Goodreads\n",
      "httpstcoyBuhs6Ikln\n",
      "writerscommunity writers inkwell httpstcowdqBG3b91l LPGrahamWrites FREE on Amazon  Take a reading journey of The Inkwell a Discord collaborative Review or Rate us on Amazon or Goodreads\n",
      "httpstcoyBuhs6Ikln\n",
      "writerscommunity writers inkwell httpstcowdqBG3b91l LPGrahamWrites FREE on Amazon  Take a reading journey of The Inkwell a Discord collaborative Review or Rate us on Amazon or Goodreads\n",
      "httpstcoyBuhs6Ikln\n",
      "writerscommunity writers inkwell httpstcowdqBG3b91l PichaelMarkes FREE on Amazon  Take a reading journey of The Inkwell a Discord collaborative Review or Rate us on Amazon or Goodreads\n",
      "httpstcoyBuhs6Ikln\n",
      "writerscommunity writers inkwell httpstcoIqdxhGSder mindfulnessfor FREE on Amazon  Take a reading journey of The Inkwell a Discord collaborative Review or Rate us on Amazon or Goodreads\n",
      "httpstcoyBuhs6Ikln\n",
      "writerscommunity writers inkwell httpstco0rxjCNdfsV While you are on the Vineyard celebrating BarackObama’s birthday check out this fabulous exhibit at mvmuseum Oprah httpstcoEMjKgOsIOu Vineyard MarthasVineyard Oakbluffs Inkwell Obama60th MichelleObama The latest addition to my etsy shop Vintage Snail Inkwell with Pen Holder and Mabie Todd and Co Dip Pen httpstco0Kxl3w6hSu calligraphy  inkwell vintage dippen waterman httpstcoEXekWHR760 Excited to share the latest addition to my etsy shop Antique Double Travel Inkwell httpstcoF3Hd5hi2Ai double travel inkwell traveller leather brass glass writing desk httpstco3rw16WI8BT\n",
      "cleaned:nan\n",
      "cleaned: Trying to get in touch with anyone who starred in or worked on YOUNGGUNSII RealKiefer LouDPhillips Trying to get in touch with anyone who starred in or worked on YOUNGGUNSII RealKiefer LouDPhillips On this day 31 years ago Jon Bon Jovi released his first solo album Blaze of Glory which was inspired by the film Young Guns II \n",
      "BlazeOfGlory YoungGunsII album BonJovi SanteFe jonbonjovi 90s Miracle BloodMoney youngguns2 albumoftheday soundtrack music RETWEEET httpstcoDHeAEzNW1a On this day 31 years ago Jon Bon Jovi released his first solo album Blaze of Glory which was inspired by the film Young Guns II \n",
      "BlazeOfGlory YoungGunsII album BonJovi SanteFe jonbonjovi 90s Miracle BloodMoney youngguns2 albumoftheday soundtrack music RETWEEET httpstcoDHeAEzNW1a Omg YoungGunsII just appeared on Netflix\n",
      "\n",
      "Cowboys amp Jon Bon Jovi here we come\n",
      "\n",
      "Yoo hoo Ill make you famous httpstcoLZEq570VIm Young Guns II 1990\n",
      "LastNightsMovie LetsMovie YoungGunsII  90sMovies GeoffMurphy EmilioEstevez KieferSutherland LouDiamondPhillips ChristianSlater WilliamPetersen AlanRuck RDCall JamesCoburn BalthazarGetty JennyWright JackKehoe ViggoMortensen ScottWilson httpstcokQgbYIFQRy I watched YoungGunsII on TV Time httpstcosq7GCZaxFA httpstcoPnaLUXt4vS\n",
      "cleaned: Let’s run it back and break the world record on our turf  no jet lag  no lactic acid usa Prefontaine httpstcoYFBA4ruJzw Let’s run it back and break the world record on our turf  no jet lag  no lactic acid usa Prefontaine httpstcoYFBA4ruJzw\n",
      "cleaned:nan\n",
      "cleaned:nan\n",
      "cleaned:nan\n",
      "cleaned:nan\n",
      "cleaned:nan\n",
      "cleaned:nan\n",
      "cleaned:nan\n",
      "cleaned: AI  its a familything Cool story out of Arizona familytime iamintel somosintel womenintech womeninsteam womeninstem communitycollege httpstcogZOj68Vjdy\n",
      "cleaned: Rocco and His Brothers 1960 \n",
      "Purple Noon 1960\n",
      "\n",
      "sidebyside AlainDelon \n",
      "RoccoAndHisBrothers LuchinoVisconti GiuseppeRotunno \n",
      "PurpleNoon PleinSoleil RenéClément HenriDecaë httpstcoJBazfq87Kh Rocco and His Brothers 1960 \n",
      "Purple Noon 1960\n",
      "\n",
      "sidebyside AlainDelon \n",
      "RoccoAndHisBrothers LuchinoVisconti GiuseppeRotunno \n",
      "PurpleNoon PleinSoleil RenéClément HenriDecaë httpstcoJBazfq87Kh In episode sixtyfive we discuss KINGDOM ASHIN OF THE NORTH Check out this epic episode on YouTube AudemicMedia Spotify amp more movie film Netflix MovieReview podcast Netflixkorea Kdrama purplenoon Femalecritics ASHINOFTHENORTH Moviepodcast cinema httpstcoH8aiHb1kQm In episode sixtyfive we discuss KINGDOM ASHIN OF THE NORTH Check out this epic episode on YouTube AudemicMedia Spotify amp more movie film Netflix MovieReview podcast Netflixkorea Kdrama purplenoon Femalecritics ASHINOFTHENORTH Moviepodcast cinema httpstcoH8aiHb1kQm In episode sixtyfive we discuss KINGDOM ASHIN OF THE NORTH Check out this epic episode on YouTube AudemicMedia Spotify amp more movie film Netflix MovieReview podcast Netflixkorea Kdrama purplenoon Femalecritics ASHINOFTHENORTH Moviepodcast cinema httpstcoH8aiHb1kQm\n",
      "cleaned:nan\n",
      "cleaned: youre one of those people who make my life better just by being in it ♥\n",
      "sekai kaihun kai sehun oh kim jongin httpstco28ZpNKaKze Baby bear happy winter bear day 🐻2YearsWithTaehyung 2yearswithwinterbear 3YearsWithSingularity 8YearsWithTaehyung BTSV CONGRATULATIONS TAEHYUNG EnjoyKloudWithV KIM TAEHYUNG WE LOVE YOU OurHappinessTaehyung not perfect ig  \n",
      "NCTzenSelcaDay nsd doyoung kim httpstcoiGVuW40CV7 Kim Go Eun\n",
      "YumisCells httpstcoPL3GmXqPIG 1 BTS  — 32831021\n",
      "2 EXO — 13577055\n",
      "3 ShinSeungHun — 12695369\n",
      "4 TVXQ — 12122659\n",
      "5 Kim Gun Mo — 11660659\n",
      "6 TWICE  — 9910957 1\n",
      "7 BoA — 9908643 1\n",
      "8 SEVENTEEN — 9603687 \n",
      "\n",
      "JYPETWICE became the bestselling female act in history Kim Go Eun\n",
      "YumisCells httpstcoPL3GmXqPIG Top 19 Singles 2021\n",
      "July 26 To Now\n",
      "Most Stream Somi DD 567603\n",
      "Positive Diff JayPark AI 19496\n",
      "Negative Diff JacksonWang DYH 21767\n",
      "1🆕\n",
      "\n",
      "do Weeekly Dreamcatcher monstax moonbyul solar loren bibi sole goldenchild astro akmu Hwasa oneus kim sunmi httpstco6gqg1h3VhC My immune booster my happy pill No words can explain how much i love you 💜✨ BTStwt \n",
      "JIN SEOKJIN BTSJIN  KIM SEOKJIN SEOKJIN LIVE VLIVE httpstco4XuZocqXkh 😫 seok Jin you angel 😇 😇😇 you’d so pretty don’t forget that Very handsome KIM SEOKJIN JIN THE BEST EVER httpstco7k22kcGDGz 1 BTS  — 32831021\n",
      "2 EXO — 13577055\n",
      "3 ShinSeungHun — 12695369\n",
      "4 TVXQ — 12122659\n",
      "5 Kim Gun Mo — 11660659\n",
      "6 TWICE  — 9910957 1\n",
      "7 BoA — 9908643 1\n",
      "8 SEVENTEEN — 9603687 \n",
      "\n",
      "JYPETWICE became the bestselling female act in history 1 BTS  — 32831021\n",
      "2 EXO — 13577055\n",
      "3 ShinSeungHun — 12695369\n",
      "4 TVXQ — 12122659\n",
      "5 Kim Gun Mo — 11660659\n",
      "6 TWICE  — 9910957 1\n",
      "7 BoA — 9908643 1\n",
      "8 SEVENTEEN — 9603687 \n",
      "\n",
      "JYPETWICE became the bestselling female act in history FINALLY JIN HYEONG LIVE😭💜💜💜💜💜💜💜💜💜 eat jin ✨\n",
      "KIM SEOKJIN JIN THE BEST EVER httpstcohhNdGbzEHm FINALLY JIN HYEONG LIVE😭💜💜💜💜💜💜💜💜💜 eat jin ✨\n",
      "KIM SEOKJIN JIN THE BEST EVER httpstcohhNdGbzEHm FINALLY JIN HYEONG LIVE😭💜💜💜💜💜💜💜💜💜 eat jin ✨\n",
      "KIM SEOKJIN JIN THE BEST EVER httpstcohhNdGbzEHm FINALLY JIN HYEONG LIVE😭💜💜💜💜💜💜💜💜💜 eat jin ✨\n",
      "KIM SEOKJIN JIN THE BEST EVER httpstcohhNdGbzEHm TRAD  NAVER VIBE 210808 Entrevista de  Kim Jaejoong sobre su programa de radio 🎙️ 동네청년 Neighbourhood Youth  PARTE 1\n",
      "\n",
      "🔗 httpstcoK3E1gt16gg\n",
      "\n",
      "김재중 ジェジュン JJUN 金在中 httpstcodciUN8SIPs 1 BTS  — 32831021\n",
      "2 EXO — 13577055\n",
      "3 ShinSeungHun — 12695369\n",
      "4 TVXQ — 12122659\n",
      "5 Kim Gun Mo — 11660659\n",
      "6 TWICE  — 9910957 1\n",
      "7 BoA — 9908643 1\n",
      "8 SEVENTEEN — 9603687 \n",
      "\n",
      "JYPETWICE became the bestselling female act in history 1 BTS  — 32831021\n",
      "2 EXO — 13577055\n",
      "3 ShinSeungHun — 12695369\n",
      "4 TVXQ — 12122659\n",
      "5 Kim Gun Mo — 11660659\n",
      "6 TWICE  — 9910957 1\n",
      "7 BoA — 9908643 1\n",
      "8 SEVENTEEN — 9603687 \n",
      "\n",
      "JYPETWICE became the bestselling female act in history 1 BTS  — 32831021\n",
      "2 EXO — 13577055\n",
      "3 ShinSeungHun — 12695369\n",
      "4 TVXQ — 12122659\n",
      "5 Kim Gun Mo — 11660659\n",
      "6 TWICE  — 9910957 1\n",
      "7 BoA — 9908643 1\n",
      "8 SEVENTEEN — 9603687 \n",
      "\n",
      "JYPETWICE became the bestselling female act in history 1 BTS  — 32831021\n",
      "2 EXO — 13577055\n",
      "3 ShinSeungHun — 12695369\n",
      "4 TVXQ — 12122659\n",
      "5 Kim Gun Mo — 11660659\n",
      "6 TWICE  — 9910957 1\n",
      "7 BoA — 9908643 1\n",
      "8 SEVENTEEN — 9603687 \n",
      "\n",
      "JYPETWICE became the bestselling female act in history 1 BTS  — 32831021\n",
      "2 EXO — 13577055\n",
      "3 ShinSeungHun — 12695369\n",
      "4 TVXQ — 12122659\n",
      "5 Kim Gun Mo — 11660659\n",
      "6 TWICE  — 9910957 1\n",
      "7 BoA — 9908643 1\n",
      "8 SEVENTEEN — 9603687 \n",
      "\n",
      "JYPETWICE became the bestselling female act in history 1 BTS  — 32831021\n",
      "2 EXO — 13577055\n",
      "3 ShinSeungHun — 12695369\n",
      "4 TVXQ — 12122659\n",
      "5 Kim Gun Mo — 11660659\n",
      "6 TWICE  — 9910957 1\n",
      "7 BoA — 9908643 1\n",
      "8 SEVENTEEN — 9603687 \n",
      "\n",
      "JYPETWICE became the bestselling female act in history 1 BTS  — 32831021\n",
      "2 EXO — 13577055\n",
      "3 ShinSeungHun — 12695369\n",
      "4 TVXQ — 12122659\n",
      "5 Kim Gun Mo — 11660659\n",
      "6 TWICE  — 9910957 1\n",
      "7 BoA — 9908643 1\n",
      "8 SEVENTEEN — 9603687 \n",
      "\n",
      "JYPETWICE became the bestselling female act in history parkbogumfamiIy BOGUMMY KSoul Music Festival SBS The Show20 Celeb TV Live Show KHip Hop Concert21 KMovie Star Movie Showcase Soribada Music Awards22 Kim JaeJoong Concert24 Musical Color Concert Closing Ceremony🎥👍👌😍🤩🥰🤍💞 1 BTS  — 32831021\n",
      "2 EXO — 13577055\n",
      "3 ShinSeungHun — 12695369\n",
      "4 TVXQ — 12122659\n",
      "5 Kim Gun Mo — 11660659\n",
      "6 TWICE  — 9910957 1\n",
      "7 BoA — 9908643 1\n",
      "8 SEVENTEEN — 9603687 \n",
      "\n",
      "JYPETWICE became the bestselling female act in history\n",
      "cleaned:nan\n",
      "cleaned:nan\n",
      "cleaned: Slash slash GunsnRoses GnFnR RnfnR myhero guitarist guitarlegend tophat gibson LesPaul detroit comericapark 📸 rockgirlsteffi  Comerica Park httpstcocqkFuf93Jf Slash slash GunsnRoses GnFnR RnfnR myhero guitarist guitarlegend tophat gibson LesPaul detroit comericapark 📸 wag72  Comerica Park httpstcoAIHBGbj5U2 👋 Punk 561 is no longer for sale httpstco3BlUmfJfkL cryptopunks punk561 punksale 2traits male tophat 3dglasses 🚁 Punk 561 was transfered from 0x18eE9C to 0x4680cb httpstco3BlUmfJfkL cryptopunks punk561 punksale 2traits male tophat 3dglasses 🔥 Punk 6648 is for sale for 115Ξ 362497 US httpstco0iCYHxFZJx cryptopunks punk6648 punklisting 2traits male goat tophat Slash slash GunsnRoses GnFnR RnfnR myhero guitarist guitarlegend tophat gibson LesPaul detroit comericapark 📸 lvdryheaves  Comerica Park httpstco16oPqHFzie 🎩 ⚙️ NEW timholtzstamps Observations CMS434\n",
      "\n",
      "🖥 blog details 👉🏻 httpstcoYW7DLqGoD7\n",
      "\n",
      "✂️ handmade by scrapxoxo\n",
      "\n",
      "dapper tophat mustache monocle timholtz stampersanonymous onlineshopping crafts diy mixedmedia httpstcoPtWDPPb4dz NGS Data Analysis Workshops  Upcoming Events\n",
      "\n",
      "httpstcoA7S6Fm4ksU\n",
      "\n",
      "NGS RNA DNA sequencing RNAseq DNAseq bioinformatics bwa bowtie tophat cufflinks star seqanswers fastqc bisulfite bsSeq epigenetics epigenomics methylation mapping qc DESeq httpstco13oQNRGRdA 🎩 quick  easy tag\n",
      "\n",
      "🏆 NEW timholtzstamps Inquisitive  Prize Ribbon\n",
      "\n",
      "✂️ handmade by mycreativelifeleontine78\n",
      "\n",
      "distressink prizeribbon tophat dapper stampersanonymous onlineshopping crafts diy mixedmedia httpstcoNPDpy7j0Q1 Slash slash GunsnRoses GnFnR RnfnR myhero guitarist guitarlegend tophat gibson LesPaul detroit comericapark 📸  megan video screenshot meeganhodges httpstcoEfugBsXGHS Slash slash GunsnRoses GnFnR RnfnR myhero guitarist guitarlegend tophat gibson LesPaul detroit comericapark 📸  megan video screenshot meeganhodges  Comerica Park httpstcorDmPXw0s5q Slash slash GunsnRoses GnFnR RnfnR myhero guitarist guitarlegend tophat gibson LesPaul detroit comericapark 📸 reneevitale  Comerica Park httpstcoQLgklL4NAp Slash slash GunsnRoses GnFnR RnfnR myhero guitarist guitarlegend tophat gibson LesPaul detroit comericapark 📸 saintedward72  Comerica Park httpstcosvIg9ZkCN5 Slash slash GunsnRoses GnFnR RnfnR myhero guitarist guitarlegend tophat gibson LesPaul detroit comericapark 📸 saintedward72  Comerica Park httpstcoIVEa1hUktW Slash slash GunsnRoses GnFnR RnfnR myhero guitarist guitarlegend tophat gibson LesPaul detroit comericapark 📸 trethora  Comerica Park httpstco2OCRQ4N3u7 Slash slash GunsnRoses GnFnR RnfnR myhero guitarist guitarlegend tophat gibson LesPaul detroit comericapark 📸 wag72  Comerica Park httpstcouUoEjrNAh7 Slash slash GunsnRoses GnFnR RnfnR myhero guitarist guitarlegend tophat gibson LesPaul detroit comericapark 📸 undauntedvisuals  Comerica Park httpstcokFkv8MVIhI 🔥 Punk 6617 is for sale for 125Ξ 369491 US httpstcoOoTVfMqGQi cryptopunks punk6617 punklisting 2traits male clowneyesblue tophat 🔥 Punk 6648 is for sale for 125Ξ 368089 US httpstco0iCYHxFZJx cryptopunks punk6648 punklisting 2traits male goat tophat Slash guitar guitarmaster tophat LesPaul Marshall Gibson idol cool GNR GnFnR SMKC \n",
      "credit to owner httpstcofydPaSkRDP Slash guitar riffking tophat LesPaul Marshall Gibson idol cool GNR GnFnR SMKC \n",
      "credit to owner httpstcoDxOOx4Nxqx Slash guitar guitarhero tophat LesPaul Marshall Gibson idol cool GNR GnFnR SMKC \n",
      "credit to owner httpstcopfoCKaHfW5 Slash guitar guitarlegend tophat LesPaul Marshall Gibson idol cool GNR GnFnR SMKC \n",
      "credit to owner httpstco7jaRNK0ZIg STREAM HERE httpstcoGPD5Yzo6gZ\n",
      "rap juggalo wickedshit hiphop dark stitchface tophat horrorcore httpstcovIbRTKPifF El Dorado Cowboy Style Concho Studd Band Leather Motorcycle Biker Short Hat in just 8499\n",
      "for more products please like and follow\n",
      "httpstcooLLAeaCrxq\n",
      "httpstcovm1Z1W9qz2\n",
      "\n",
      "tophat arainbull hatlover bikers horserider countrymusic countryliving cowgirl cowboy httpstcoSHaVMbIxDt\n",
      "cleaned: Excuse me cause Im broke  rn 😭😭😭😭 ToBeOrNotToBe httpstcoGGocvzk4ct Cause im neither DEAD OR ALIVE ToBeOrNotToBe  Im in a broken mode now😭😭 httpstcoHyofjHtGV8 I caved and read the raws till ch 98 \n",
      "\n",
      "穿越成反派要如何活命 tobeornottobe thisvillainemperorsgottacharmthemaleleadtosurvive httpstcolPtNPjwGXd Since I’m currently planning my next hop across the pond let’s fbf to when all the world was a stage  🎭💕🌟 shakespeare tobeornottobe londoncalling  The Globe Theather httpstco3UFVEFfVsJ SiblingSecret IanMcKellen Still chance for me yet ToBeOrNotToBe LTHomestead ToBeOrNotToBe  is it Baking soda or Baking Powder Many recipes come up saying add baking soda to jam but others insist its Baking powder  The  TDHomestead Shadow knows httpstco9lcfY4Oi5k two reminiscence amp two helpers ❤️ hsavmanhua ch 98\n",
      "HSAV HowToSurviveAsAVillain 穿越成反派要如何活命 tobeornottobe htsav httpstcoHJmXWiTbwy two reminiscence amp two helpers ❤️ hsavmanhua ch 98\n",
      "HSAV HowToSurviveAsAVillain 穿越成反派要如何活命 tobeornottobe htsav httpstcoHJmXWiTbwy two reminiscence amp two helpers ❤️ hsavmanhua ch 98\n",
      "HSAV HowToSurviveAsAVillain 穿越成反派要如何活命 tobeornottobe htsav httpstcoHJmXWiTbwy two reminiscence amp two helpers ❤️ hsavmanhua ch 98\n",
      "HSAV HowToSurviveAsAVillain 穿越成反派要如何活命 tobeornottobe htsav httpstcoHJmXWiTbwy Well I’m glad I didn’t see this tweet 5 years ago or it would have really messed with my head 🤣 Inception ToBeOrNotToBe playgoeswrong httpstcoHFyezxcVh2 Hello Twitter  \n",
      "\n",
      "sharing photography \n",
      "model Crystal\n",
      "place brive France\n",
      "\n",
      " to be or not to be  to exist or not to exist \n",
      "tobeornottobe exist portraits  art ArtistOnTwitter \n",
      "photographer look blackandwhitephotography streetphotography httpstcojbyKCCzbKl New hsavmanhua ch 😊🙏 90\n",
      "HSAV HowToSurviveAsAVillain 穿越成反派要如何活命 tobeornottobe htsav httpstcoK32J4OIJLM Ohh new bonus card 💗 with XYAs final body 👀  hsavmanhua ch 87\n",
      "HSAV HowToSurviveAsAVillain 穿越成反派要如何活命 tobeornottobe httpstcoEeiYp348kZ 44 postpapapaXD WANG YI you really understand them 👀 Thank you hsavmanhua ch 85 HSAV HowToSurviveAsAVillain 穿越成反派要如何活命 tobeornottobe httpstcoDanjY3gKXi dorsertman CBPowell3 If thats true are all editors writers and all writers editors \n",
      "What about professional critics\n",
      "\n",
      "If we are taught to analyse Shakespeare at school are we all indoctrinated playwrights in a world that is no longer a stage but instead a pale blue writers room\n",
      "tobeornottobe I’m so antisocial in person And unfortunately most people online will only chat with you if you show them some T amp A Guess I’ll be just as antisocial online then social antisocial tobeornottobe\n",
      "cleaned: We have accepted the mission and have one week left until we get back to work Are you ready HornsUp RollMavs SecretAgent🕵️‍♂️ httpstcoFmqLd1bo79 Was everybody here with somebody Was she the only person alone And why did it suddenly matter\n",
      "httpstcovX9zM7o5wP\n",
      "amazon KindleUnlimited RomanticSuspense RomanticSpy WritingCommunity indieauthor RT AmWriting Love IARTG ASMSG  SecretAgent Bookboost Readers Story Part 26 \n",
      "“Zero QMip isn’t Finish Yet” He’s using armed 3 And fires his laser beams The two agents gets down safely right behind the wall \n",
      "BumperMonsters artistontwittter illustration OC fox squirrel secretagent ComicArt イラスト バンパーブロック httpstcoIuqu91SCEN 💰 £25£100 InplayChallenge \n",
      "\n",
      "BET 1\n",
      "\n",
      "San Jose v The Strongest \n",
      "🔹 Over 15 first half goals\n",
      "\n",
      "£25 returns £35\n",
      "\n",
      "Hit 💜 if you’re on\n",
      "\n",
      "SecretAgent httpstcoMgTyqUsQ3y My secretagent task is to report on future events I have never complied because I discovered that these bastards only serve themselves amp view the global population of people as farm animals just below the cow but a tad bit higher than the pig httpstco29HEKvWoMG Welcome to the Official home of the highly successful sports tipster Secret Agent👋🏼\n",
      "\n",
      "🔹 Highly researched sports tips\n",
      "🔹 Inplays  Accas Challenges\n",
      "🔹 Spreadsheet tracked tips\n",
      "🔹 81 Success rate\n",
      "\n",
      "Follow amp turn notifications🔔on now\n",
      "\n",
      "LET’S GO\n",
      "\n",
      "SecretAgent Danger Mouse The Complete Series  9 DVD Set Complete amp Tested AampE 2007 httpstcoeMgTPr3YTS ebay ebay DangerMouse TheCompleteSeries 9DVDs DVDSet AandE from2007 animated cartoon TheWorldsSmallestSecretAgent secretagent CosgroveHallFilms British Spy Goodgrief httpstcoLo2aJcLRUp Youre the one that saw the Deoxys Youll have to come with us 🕶️\n",
      "\n",
      "umbreon\n",
      "secretagent\n",
      "theyrecomingforyou\n",
      "PokemonGoRaids\n",
      "Pokemon25\n",
      "ポケモンgoar\n",
      "PokemonGO\n",
      "ポケモン\n",
      "ポケモンgo\n",
      "GOsnapshot httpstcogU5k4eUZys Youre the one that saw the Deoxys Youll have to come with us 🕶️\n",
      "\n",
      "umbreon\n",
      "secretagent\n",
      "theyrecomingforyou\n",
      "PokemonGoRaids\n",
      "Pokemon25\n",
      "ポケモンgoar\n",
      "PokemonGO\n",
      "ポケモン\n",
      "ポケモンgo\n",
      "GOsnapshot httpstcogU5k4eUZys Close up of the cover art from the Yellowhead’s single “I Am A Secret Agent” but he’s not danieljmurray danieljamesmurray iamasecretagent iamasecretagentyesiam theyellowhead theyellowheadedyellowhead theyellowheadiamasecretagent secretagent spy spyspoof httpstcoH0WMMycGh5\n",
      "cleaned: ♡ 18\n",
      "♡ he they\n",
      "♡ pan but mostly gay\n",
      "♡ 5’9\n",
      "♡ anime games music\n",
      "♡ amos andrewdarby \n",
      "♡ obsessed with space and this girl\n",
      "♡  ↻ for mutuals httpstco7UVYOHBkJe MASKEDMANIACXXX Amos amp Andrew\n",
      "cleaned: Jade from mk deception\n",
      "MortalKombat Jade httpstcoE0wK4WQk8P Jade from mk deception\n",
      "MortalKombat Jade httpstcoE0wK4WQk8P Jade from mk deception\n",
      "MortalKombat Jade httpstcoE0wK4WQk8P Daily Jade taunt\n",
      "MK11 Jade MortalKombat \n",
      "•\n",
      "Give credit if you repost please httpstcoeQ35Dwchix Announcing Art Deco Jewels  a three part online course led by Daniela Mascetti \n",
      "Explore this highly popular jewellery style  find out more here httpstcoI7dJoQddFN\n",
      "httpstcospzBBswszK understandingjewellery artdeco 1920s cartier jade artdecojewels diamonds rare httpstcoL8qhWxtTLC Other Jade objects from Fuhao’s tomb include a dragon pendant a tiger a waterbuffalo and a geometric design “gui”  a food bowl 3 httpstconjcwWGGSXq Daily Jade taunt\n",
      "MK11 Jade MortalKombat \n",
      "•\n",
      "Give credit if you repost please httpstcoeQ35Dwchix Announcing Art Deco Jewels  a three part online course led by Daniela Mascetti \n",
      "Explore this highly popular jewellery style  find out more here httpstcoI7dJoQddFN\n",
      "httpstcospzBBswszK understandingjewellery artdeco 1920s cartier jade artdecojewels diamonds rare httpstcoL8qhWxtTLC Jade from mk deception\n",
      "MortalKombat Jade httpstcoE0wK4WQk8P Daily Jade taunt\n",
      "MK11 Jade MortalKombat \n",
      "•\n",
      "Give credit if you repost please httpstcoeQ35Dwchix Ring restock  Weve restocked several styles of adjustable sterling silver rings with high quality green Jade cabs and sparkling cubic zirconia accents httpstcoTnwZN83qC7\n",
      "\n",
      "jadering silverring jadejewelry silverjewelry adjustablering jadewithcz httpstcoC315BFKbwc ValentinesDay giftforher  Double Ball Posts Studs Lavender Jade Lilac Earrings Jadeite Jewelry Lavender 1980s 14K Yellow Fine Gold httpstcoWwRTjOEeus via Etsy httpstcodb5CsUnOGL So good I had to share Check out all the items Im loving on Poshmarkapp poshmark fashion style shopmycloset jade americanrag myaddedsparkle httpstcoEY7R7NIGNi httpstcoQT2OD9Nui4 Jade from mk deception\n",
      "MortalKombat Jade httpstcoE0wK4WQk8P Daily Jade taunt\n",
      "MK11 Jade MortalKombat \n",
      "•\n",
      "Give credit if you repost please httpstcoeQ35Dwchix New screenshot of Jade and LiuKang in mortalkombatlegends  mortalkombat httpstcoVWlN5qZtYk Daily Jade taunt\n",
      "MK11 Jade MortalKombat \n",
      "•\n",
      "Give credit if you repost please httpstcoeQ35Dwchix Daily Jade taunt\n",
      "MK11 Jade MortalKombat \n",
      "•\n",
      "Give credit if you repost please httpstcoeQ35Dwchix Daily Jade taunt\n",
      "MK11 Jade MortalKombat \n",
      "•\n",
      "Give credit if you repost please httpstcoeQ35Dwchix Daily Jade taunt\n",
      "MK11 Jade MortalKombat \n",
      "•\n",
      "Give credit if you repost please httpstcoeQ35Dwchix Daily Jade taunt\n",
      "MK11 Jade MortalKombat \n",
      "•\n",
      "Give credit if you repost please httpstcoeQ35Dwchix Daily Jade taunt\n",
      "MK11 Jade MortalKombat \n",
      "•\n",
      "Give credit if you repost please httpstcoeQ35Dwchix Daily Jade taunt\n",
      "MK11 Jade MortalKombat \n",
      "•\n",
      "Give credit if you repost please httpstcoeQ35Dwchix Jade from mk deception\n",
      "MortalKombat Jade httpstcoE0wK4WQk8P Daily Jade taunt\n",
      "MK11 Jade MortalKombat \n",
      "•\n",
      "Give credit if you repost please httpstcoeQ35Dwchix\n",
      "cleaned: How shizen have my R21 footy tips been\n",
      "\n",
      "1 from 8 Dees in trouble tonight\n",
      "\n",
      "Gee\n",
      "Carl\n",
      "North\n",
      "Syd\n",
      "Port\n",
      "Coll\n",
      "WB\n",
      "Frem\n",
      "Melb\n",
      "\n",
      "kissofdeath The moment NewYork stood still son kissofdeath httpstcoTDbnECZVFC The moment NewYork stood still son kissofdeath httpstcoTDbnECZVFC ElliottWilson verzuzonline This was it This was the moment NewYork stood still son Kiss Kissofdeath 🗽 Thanks for the 20 years of real hiphop jadakiss you the truth my G lox dblock kissthegamegoodbye kissofdeath httpstcoVQLLcW11Mi KissOfDeath on any sporting event\n",
      "\n",
      "Glad the ultra multicultural side won in the end are you JohnsonHasFailedTheNation httpstcoCauc6qugIs talkSPORT Here\n",
      "kissofdeath httpstconpXCMInUgh TimDellor goodingmick4  Every time Tim asks Mick “ Would you settle for a draw at this stage Mick” You can guarantee the opposition score the winning goal kissofdeath 🤪 Time Magazine named Boies Lawyer of the Year in 2000\n",
      "\n",
      "KissOfDeath Friedkin’s Jade deserves reappraisal I have a soft spot for David Caruso as a mid90s lead Love Kissofdeath too Also love Caruso’s supporting work in maddogandglory djkillatouch  Yo let’s ride to Tampa to check Jada\n",
      "attorneydarfoor Word Say less \n",
      "•••\n",
      "jadakiss kissofdeath dblock yonkers newyork hiphoplawyer top5 deadoralive  Tampa Florida httpstcoLGBVmfhKgo Gatty54 Congratulations storm  another win coming up KissOfDeath They said Kiss was coming to Florida \n",
      "\n",
      "jadakiss kissofdeath thelox  Tampa Florida httpstco41odkLggNl Braz and Gator gonna pick a winner today Stop picking my horses KissOfDeath SkyRacingAU 🤦🏻 If “he chose violence” was a person \n",
      "Mood 😏\n",
      "HIPHOP 🎤\n",
      "JadaKiss 👑\n",
      "KissOfDeath 🗣💨 httpstcoyYUsYPsYXK If “he chose violence” was a person \n",
      "Mood 😏\n",
      "HIPHOP 🎤\n",
      "JadaKiss 👑\n",
      "KissOfDeath 🗣💨 httpstcoyYUsYPsYXK Egress99 Therealkiss That cause heinous crimes like that can’t go unaccounted for Jesus H I’m almost sick to my stomach thinking about it kissofdeath manslaughter upgradetomurderone If “he chose violence” was a person \n",
      "Mood 😏\n",
      "HIPHOP 🎤\n",
      "JadaKiss 👑\n",
      "KissOfDeath 🗣💨 httpstcoyYUsYPsYXK If “he chose violence” was a person \n",
      "Mood 😏\n",
      "HIPHOP 🎤\n",
      "JadaKiss 👑\n",
      "KissOfDeath 🗣💨 httpstcoyYUsYPsYXK If “he chose violence” was a person \n",
      "Mood 😏\n",
      "HIPHOP 🎤\n",
      "JadaKiss 👑\n",
      "KissOfDeath 🗣💨 httpstcoyYUsYPsYXK HipHopDX When your don says STFU but I refuse because I was rockin JadaKiss kissofdeath beennumber1 httpstco3BXRYY0bNA thecableng Those Nigerians please don’t seek Babangida’s endorsement\n",
      "KissOfDeath If “he chose violence” was a person \n",
      "Mood 😏\n",
      "HIPHOP 🎤\n",
      "JadaKiss 👑\n",
      "KissOfDeath 🗣💨 httpstcoyYUsYPsYXK How are the CFL writers doing LOL kissofDeath LetsGoBombers If “he chose violence” was a person \n",
      "Mood 😏\n",
      "HIPHOP 🎤\n",
      "JadaKiss 👑\n",
      "KissOfDeath 🗣💨 httpstcoyYUsYPsYXK\n",
      "cleaned: Raw Whitish Sesame available at DHK International\n",
      "\n",
      "Visit now to place your order httpstcoubpKgePG5u\n",
      "\n",
      "refined qualitydryfruits cashew cashewnuts dryfruit mixednuts beans almond dhkinternational cocoabeans httpstcoLnmz35i3yd New stock of Yellow Raw Cocoa Butter now available at DHK International\n",
      "\n",
      "Visit now to place your order httpstcoubpKgePG5u\n",
      "\n",
      "refined qualitydryfruits cashew cashewnuts dryfruit mixednuts beans almond dhkinternational cocoabeans httpstcogs7LGbmBDy Cashew Nuts WW450 available at DHK International\n",
      "\n",
      "Visit now to place your order httpstcoubpKgePG5u\n",
      "\n",
      "refined qualitydryfruits cashew cashewnuts dryfruit mixednuts beans almond dhkinternational cocoabeans httpstcoQYWjuKOZ4Y You’ll go nuts over Planters mixed nuts\n",
      "\n",
      "Visit httpstcoTED73naNR9 to stock up at a great price\n",
      "\n",
      "httpstcoWN16MPNJqw helps you find the household amp consumergoods you buy at prices you love\n",
      "\n",
      "plantersnuts mixednuts gonuts mixednutsspecial trustables groceries httpstcoXU54Ndtkew\n",
      "cleaned: In Virtuosity if they had kept the movie exactly the same Although Its unusual story arcs and somewhat bumpy story line With ITS  star power and more than decent acting The movie would have been better by simply not killing william Cochane It added nothing to the movie We are hosting sessions on a variety of topics including Plant Design Structural Design with Structural WorkSuite and a session on the Effective Drawing Creation Process with ProSteel Sign up now httpstcoYrSrnvpD1h\n",
      "\n",
      "Virtuosity CivilDesign Structuralengineering RAM httpstcoSmBa9QGKnr russellcrowe watching Virtuosity right now and I got to say you were perfect in that role An excellent movie for watch every now and again Never boring On August 4 1995 Virtuosity was released Virtuosity DenzelWashington RussellCrowe KellyLynch StephenSpinella WilliamForsythe LouiseFletcher  ChristopherYoung BrettLeonard httpstcoiU1WLHOb2E Would you like to speed up your plaxis model and optimize your result postprocessing through pythonprogramming Check out these featured trainings\n",
      "\n",
      "httpstcoNt2509HWLD\n",
      "\n",
      "geowithbentley virtuosity bentleysystems geotechnicalengineering Would you like to speed up your plaxis model and optimize your result postprocessing through pythonprogramming Check out these featured trainings\n",
      "\n",
      "httpstcoNt2509HWLD\n",
      "\n",
      "geowithbentley virtuosity bentleysystems geotechnicalengineering Would you like to speed up your plaxis model and optimize your result postprocessing through pythonprogramming Check out these featured trainings\n",
      "\n",
      "httpstcoNt2509HWLD\n",
      "\n",
      "geowithbentley virtuosity bentleysystems geotechnicalengineering Would you like to speed up your plaxis model and optimize your result postprocessing through pythonprogramming Check out these featured trainings\n",
      "\n",
      "httpstcoNt2509HWLD\n",
      "\n",
      "geowithbentley virtuosity bentleysystems geotechnicalengineering\n",
      "cleaned: Good afternoon  A lovely view from between the trees  Hope you are having a blue skies day bluesky Waterview water landscapephotography NaturePhotography NaturalBeauty PrinceEdwardIsaldn PEI Canada Canadian photography PhotographyIsArt nature trees lovelyview httpstcootCm9BWaU8 when RealPinkTank emerges\n",
      "detail of digital artwork\n",
      "bluesky artwork digitalart nft kaiju monstersinc monstro satanbeetle insect insectphotography dots dotstruction pointillism eyes horns robots aliens invasion digitalartist soundexploration musicvideo bug httpstcoJnQGToajD9 Photo by Carmen Ortiz\n",
      "Instagram xe1kh\n",
      "\n",
      "minimalism minimal minimalist photominimal simplicity min minimalismo clouds sky nature sunset photography landscape naturephotography photooftheday sun travel sunrise mountains photo picoftheday  blue cloud bluesky httpstcoKsgU6UYBsG Photo by Carmen Ortiz\n",
      "Instagram xe1kh\n",
      "\n",
      "minimalism minimal minimalist photominimal simplicity min minimalismo clouds sky nature sunset photography landscape naturephotography photooftheday sun travel sunrise mountains photo picoftheday  blue cloud bluesky httpstcoKsgU6UYBsG when RealPinkTank emerges\n",
      "detail of digital artwork\n",
      "bluesky artwork digitalart nft kaiju monstersinc monstro satanbeetle insect insectphotography dots dotstruction pointillism eyes horns robots aliens invasion digitalartist soundexploration musicvideo bug httpstcoJnQGToajD9 Sometimes it’s just the simplest of things in nature that captures my attention Yesterday I pulled 🚙 to side of road to 📷 these 🌤\n",
      "NaturePhotography bluesky Cloud naturelovers httpstcoM9uGuaJ2DK Remember this ⠀⠀⠀⠀⠀⠀⠀⠀⠀\n",
      "⠀⠀⠀⠀⠀⠀⠀⠀⠀\n",
      "Art by yellow⠀⠀⠀⠀⠀⠀⠀⠀⠀\n",
      "⠀⠀⠀⠀⠀⠀⠀⠀⠀\n",
      "art quotes quoteoftheday photography bluesky aesthetic film mindfulness authentic httpstcoVqIEGzfYKU Remember this ⠀⠀⠀⠀⠀⠀⠀⠀⠀\n",
      "⠀⠀⠀⠀⠀⠀⠀⠀⠀\n",
      "Art by yellow⠀⠀⠀⠀⠀⠀⠀⠀⠀\n",
      "⠀⠀⠀⠀⠀⠀⠀⠀⠀\n",
      "art quotes quoteoftheday photography bluesky aesthetic film mindfulness authentic httpstcoVqIEGzfYKU Sometimes it’s just the simplest of things in nature that captures my attention Yesterday I pulled 🚙 to side of road to 📷 these 🌤\n",
      "NaturePhotography bluesky Cloud naturelovers httpstcoM9uGuaJ2DK Say hello to My toes 👀\n",
      "roadtrip feet bluesky\n",
      "Nail polish Elle from Curtain Call Cosmetics ❤️ hand mixed in nyc httpstcoqbREZLNgyi when RealPinkTank emerges\n",
      "detail of digital artwork\n",
      "bluesky artwork digitalart nft kaiju monstersinc monstro satanbeetle insect insectphotography dots dotstruction pointillism eyes horns robots aliens invasion digitalartist soundexploration musicvideo bug httpstcoJnQGToajD9 Before another rain downpour a little bluesky and sunshine  Also noticed towerbridge stuck ThamesPathNT …realised my whole walk the bridge didn’t go down…believe a technical fault httpstcoCKd8LAwkqq Agreed also still a punchers chance SQ and TWTR eventually mergeconverge If we could only get the two CEOs together to discuss synergies or at least a partnership on somethinganything JustSayin 🤷‍♂️ Yes BlueSky they found a lead I know 🙄 httpstcoLihj1RUjaa What a view to start the day OKFalls Okanagan bluesky💙 running 6K httpstcoExp3h4sEQ3 Before another rain downpour a little bluesky and sunshine  Also noticed towerbridge stuck ThamesPathNT …realised my whole walk the bridge didn’t go down…believe a technical fault httpstcoCKd8LAwkqq Before another rain downpour a little bluesky and sunshine  Also noticed towerbridge stuck ThamesPathNT …realised my whole walk the bridge didn’t go down…believe a technical fault httpstcoCKd8LAwkqq Me yesterday ooooh there’s some bluesky so I’ll put the washingmachine on then me look out 2mins after hanging it all out thatwentwell augustweather rain  Jesmond Newcastle Upon Tyne United Kingdom httpstcoU1kZu8eevq Good afternoon  A lovely view from between the trees  Hope you are having a blue skies day bluesky Waterview water landscapephotography NaturePhotography NaturalBeauty PrinceEdwardIsaldn PEI Canada Canadian photography PhotographyIsArt nature trees lovelyview httpstcootCm9BWaU8 I absolutely love this character and I often play him whit this song in the background 🔥 I think it fits perfectly 👌\n",
      "discorsaurus hirez evilmojogames evilmojo paladins paladinsgame drogoz reptile dragon lizard jetpack sky bluesky httpstcoUqZuTXvWVo Looking southwards from the beach house Mediterranean sea for a few hundred kilometers before hitting the African coast fiftyshadesofblue oceancolour bluesky httpstco47vV4hotlt Fly High To Touch The Sky❤\n",
      "ThePhotoHour ThePhotoMode StormHour photography SkyHigh bluesky NaturePhotography beauty httpstcoIOHXneveyP Queen’s Gardens Hull and a Kraken in a museum… hullkraken kraken queensgardens gardens hull yorkshire eastyorkshire england britain greatbritain gb unitedkingdom uk hullmaritime museum maritimemuseum summer sunny sun bluesky visithull mustbehull httpstcoigI4jJdxRB Check out this clip from one of our last streams analyzing Bobby Pontillas shot of Blu We took a closer look at Blus breathing as he talks to bring life to Blu\n",
      "\n",
      "agorastudio animationanalysis framebyframe bluesky rio\n",
      "\n",
      "This study was sponsored by httpstcomHO3rOPCFT httpstcobUWGVite1G Queen’s Gardens Hull and a Kraken in a museum… hullkraken kraken queensgardens gardens hull yorkshire eastyorkshire england britain greatbritain gb unitedkingdom uk hullmaritime museum maritimemuseum summer sunny sun bluesky visithull mustbehull httpstcoigI4jJdxRB Check out this clip from one of our last streams analyzing Bobby Pontillas shot of Blu We took a closer look at Blus breathing as he talks to bring life to Blu\n",
      "\n",
      "agorastudio animationanalysis framebyframe bluesky rio\n",
      "\n",
      "This study was sponsored by httpstcomHO3rOPCFT httpstcobUWGVite1G\n",
      "cleaned: Tour life brings me to a theatre next to a pyramid Dedicated my performance to the memory of a life taken too soon 💔fleshandbone teopanzolcoculturalcenter fidcdmx  Centro Cultural Teopanzolco httpstcoCJYQPsapaN Touring is happening again 😃 Mexico City here I come lgaisshinyandnew fleshandbone internationaldancefestival maturedancer artishealing  LaGuardia Airport httpstcogGQhh0DuDT httpstco1zik5gnA0U dougrockwell amp TovaLitvin worked on two disneyplus series HSMIndo The Musical The Series where they worked on BorntoBeBrave with OliviaRodrigo and the breakout song “FleshandBone” from Zombies2 garnered over 170 million views YouTubeMusic  httpstcoVk64gmAFBy\n",
      "cleaned: JeremyNAllen WendyRogersAZ Hey that would be great news I hope there isn’t fraud Too bad we all know that’s not the case We already know the ballot counts don’t match Why do you think the county has been blocking this audit since day one guiltyassin Amy Singer PhD is a frigging nut job CaseyAnthony murderer guiltyassin Erika’s hysterical crying and hiccuping took me back to Robert Durst and his crazy guilty burps 😂 samevibes guiltyassin girardifraud erikajayne rhobh robertdurst thejinx BravoTV httpstcoQ6QUViiClR Erika’s hysterical crying and hiccuping took me back to Robert Durst and his crazy guilty burps 😂 samevibes guiltyassin girardifraud erikajayne rhobh robertdurst thejinx BravoTV httpstcoQ6QUViiClR Now lets talk about Trump Gaetz Kavanaugh Jordan sexualpredators ruintheircareersaswell guiltyassin getridofthemall meninpowersuck andrewcuomo Needs to be in jail guiltyassin Bye Andy BigGiuli🥛 GuiltyAsSin \n",
      "\n",
      "RudyGiuliani admits it’s over for him httpstco8knP6PZ2SH via PalmerReport\n",
      "cleaned:nan\n",
      "cleaned: Jess cosplaying Barb Wire by armaron httpstcozZdPkVeSvn barbwire darkhorsecomics originalcharacter Metal On The Barbwire\n",
      "COPYRIGHT 2021 PFGUN0\n",
      "A piece of roof metal attend to a barbwire fence\n",
      "\n",
      "pfgun0 photography photograph photo metal object item fence barbwire metal roof\n",
      "写真 金属 物体 アイテム 柵 有刺鉄線 金属 屋根 httpstcouFG1UfB0yW\n",
      "cleaned: WarnieDT Had to hold and ply all of them as well as fielding Bramble 😅 kissed Frary Friday\n",
      "\n",
      "frary Reign maryqueenofscots  francis adelaidekane tobyregbo kissed httpstcoquhtI4Zuld So tiring being kissed all the time💋😈 pugs pugsoftwitter fawnpugs Saturday rainyday dogs kisses tongueout dogsofinstagram love cuddles tired yawning naptime httpstco2gxxoXupzm I kissed a man and I liked it woowhoo HappySaturday MoreirasMagic Thankfully the late Kelly out made me reverse the Cumming trade 🙌🏻 kissed httpstcolsrpIWR5gw\n",
      "His asshole will still be KISSED\n",
      "MeghanMcCain WhoopiGoldberg \n",
      "JoyVBehar sarahaines TOOBIN\n",
      "SUNNY ananavarro need to b kissed Frary Friday\n",
      "\n",
      "frary Reign maryqueenofscots  francis adelaidekane tobyregbo kissed httpstcoquhtI4Zuld Frary Friday\n",
      "\n",
      "frary Reign maryqueenofscots  francis adelaidekane tobyregbo kissed httpstcoquhtI4Zuld Frary Friday\n",
      "\n",
      "frary Reign maryqueenofscots  francis adelaidekane tobyregbo kissed httpstcoquhtI4Zuld Frary Friday\n",
      "\n",
      "frary Reign maryqueenofscots  francis adelaidekane tobyregbo kissed httpstcoquhtI4Zuld RoyDT Saved by Kelly out kissed need to b kissed need to b kissed need to b kissed need to b kissed need to b kissed It makes me feel fall inlove again❤️😍\n",
      "encounter happyending lessonsinlove songhyekyo parkbogum kdrama kissed loveknowsnobounderies httpstcou9Wb7ADx2X It makes me feel fall inlove again❤️😍\n",
      "encounter happyending lessonsinlove songhyekyo parkbogum kdrama kissed loveknowsnobounderies httpstcou9Wb7ADx2X Sun kissed and happy af  only one thing is missing but i digress 🙃 httpstcoDIuPqmI4Qb It makes me feel fall inlove again❤️😍\n",
      "encounter happyending lessonsinlove songhyekyo parkbogum kdrama kissed loveknowsnobounderies httpstcou9Wb7ADx2X It makes me feel fall inlove again❤️😍\n",
      "encounter happyending lessonsinlove songhyekyo parkbogum kdrama kissed loveknowsnobounderies httpstcou9Wb7ADx2X It makes me feel fall inlove again❤️😍\n",
      "encounter happyending lessonsinlove songhyekyo parkbogum kdrama kissed loveknowsnobounderies httpstcou9Wb7ADx2X\n",
      "cleaned: Its lunchtime on the Eastcoast Assassins⚔ are you all grabbing that new Saweetie icy meal from  Mcdonalds httpstcoPzMmSVI58s GoodMorning Assassins⚔ cues Her ft DjKhaled x BrysonTiller icanhaveitall httpstcoJerzDwnF53 Preorder the audiobook for LAST STRAND Elemental Assassin 19 Aug 10 ⚔️📕🕸️🕷️\n",
      "amazon httpstcobpnhKNUUOR\n",
      "audiblecom httpstcoudNMvYXqZt\n",
      "audiobooks ElementalAssassin LastStrand books audiobook urbanfantasy assassins comingsoon httpstco32bi9j44mX Assassins⚔️ let’s talk httpstcoYRJzCbF4dC PSGinside While there is Oil in the deserts of savage qatar PSG will have good players but I can assure you that none of them will cry over your filthy team that looks like a gigantic whorehouse when the time comes to leave like messi did Visca el Barça psg yihadists assassins LAST STRAND Elemental Assassin 19 March 16 ⚔️📕🕷️🕸️\n",
      "amazon httpstco1A7MOVv1Jc\n",
      "BNBuzz httpstcotW3IP741Nd\n",
      "indiebound httpstcoCtFBbzZi5T\n",
      "IngramSpark httpstcobW8xCYtRip\n",
      "print printbook books urbanfantasy fantasybooks assassins httpstcoaiYrFv1Ec1 And another ezio sketch🦅 assassinscreed AssassinsUK RogerCraigSmith  MentorsGuild CreedMentor assasssinscreed assasssinscreedbrotherhood acfinest assassinkscreed sketch artwork sketching polychromos skizze ezioauditore firenze rome artontwitter assassins httpstcoteqCOSkjDK Trying to finish up the first part Chapter 9 for Nightshade Pining is involvedstayed tuned\n",
      "newchapter Wattpad Romance assassins To love her he must eternally bind himself to her To protect her he must break her heart and take her memories of him away\n",
      "\n",
      "Tortured Soul The Forbidden Series Book 2\n",
      "SummerReads\n",
      "CoffeeAndABook\n",
      "ParanormalRomance\n",
      "Urbanromance\n",
      "Angel\n",
      "Assassins httpstcofLy4S5g0fK httpstco6cqbYnyNB8 Merlin333 MsRock4Ever Lawrence   They are not policemen They are paid with taxpayers money assassins assassinations assassins Hinkley CIA history\n",
      "thread\n",
      "httpstcoe1AiIMzDO8 Assassin’s Creed Valhalla Cinematic World Premiere Trailer\n",
      "httpstco8efrGNzUeT\n",
      "assasinscreedvalhalla AssassinsCreed AssassinsCreedValhalla AssassinsCreedOdyssey AssassinsCreedOrigins Assassins PS5 Gaming Trailer PCGaming Vikings VIKINGSFORTRUMP Ubisoft Valhalla Road to Valhalla Assassins Creed httpstcoAUdyns2ike A new video with the spoken word of the Assassin Altair    from the 1st Assassins Creed I\n",
      "assassinscreed assassinscreedodyssey assassinscreedvalhalla assassinscreedorigins assassinscreedunity assassinscreedsyndicate assassins assassinscreedbrotherhood assassinspride httpstcoOnYSHxBxnx See this Instagram video by wildpoetrywebs httpstcowRkrLiLP9h \n",
      "assassinscreed assassin assassincreed assassinscreedodyssey assassinscreedorigins assassinscreedunity assassinscreedsyndicate assassinscreed2 assassinscreedblackflag assassinscreedvalhalla assassins httpstcoyND6ErUJMW See this Instagram video by wildpoetrywebs httpstcowRkrLiLP9h \n",
      "assassinscreed assassin assassincreed assassinscreedodyssey assassinscreedorigins assassinscreedunity assassinscreedsyndicate assassinscreed2 assassinscreedblackflag assassinscreedvalhalla assassins httpstcoyND6ErUJMW Members got our SQ analysis last night and we were one and done within 30 mins of market opening SimplySim1 elitecap stonks stocks options sq ballers assassins httpstcoBhWHp3rgQe Members got our SQ analysis last night and we were one and done within 30 mins of market opening SimplySim1 elitecap stonks stocks options sq ballers assassins httpstcoBhWHp3rgQe Members got our SQ analysis last night and we were one and done within 30 mins of market opening SimplySim1 elitecap stonks stocks options sq ballers assassins httpstcoBhWHp3rgQe To love her he must eternally bind himself to her To protect her he must break her heart and take her memories of him away\n",
      "\n",
      "Tortured Soul The Forbidden Series Book 2\n",
      "SummerReads\n",
      "CoffeeAndABook\n",
      "ParanormalRomance\n",
      "Urbanromance\n",
      "Angel\n",
      "Assassins httpstcofLy4S5g0fK httpstcoprKmYeLjWb If Black AfricansEgyptians could travel back in time to our ANCIENT GLORIOUS PAST we would We would go back as Assassins and KILL ALL who were responsible for the situation which caused our people to suffer by the hands of many to this day httpstcozYXyyBLab9 If Black AfricansEgyptians could travel back in time to our ANCIENT GLORIOUS PAST we would We would go back as Assassins and KILL ALL who were responsible for the situation which caused our people to suffer by the hands of many to this day httpstcozYXyyBLab9 Eeeebuset ada Assassins DonnerStalloneBanderas di Netflix httpstco6xPBjAQKcT To love her he must eternally bind himself to her To protect her he must break her heart and take her memories of him away\n",
      "\n",
      "Tortured Soul The Forbidden Series Book 2\n",
      "SummerReads\n",
      "CoffeeAndABook\n",
      "ParanormalRomance\n",
      "Urbanromance\n",
      "Angel\n",
      "Assassins httpstcofLy4S5g0fK httpstcocf7BVoLqbL Sure WatchDogsLegion features Assassins but did you know WatchDogs and AssassinsCreed first crossed over back in 2014\n",
      "\n",
      "httpstco3nB0dlsoBi\n",
      "cleaned: Hadith\n",
      "\n",
      "ProphetMuhammad  PBUH   said \n",
      "\n",
      "Whoever misses Jumuah  Friday Prayers  three times  three weeks  with no cogent excuse  Allah  will place a seal on his heart\n",
      "\n",
      " Sunan anNasai\n",
      "\n",
      "Islam\n",
      "Muslim Miss going to the fair 🎠 summer fair carnival friends family fun foodfriday weekend 😂😂😂😂😂😂 shopping viral funny iphone TikTok twitch football memesdaily comedy party anime music movies viral dogs streaming rave friday news art memes snapchat httpstcoP62ArQlGPh Friday Sermon Summary Hijrah of The Prophet amp Values\n",
      "يومالجمعة\n",
      "خطبةالجمعة\n",
      "AwqafUAE httpstcoz0M17MTtWW Please retweet to help Alfie find a home BERKSHIRE ENGLAND \n",
      "Sweet Terrier aged 7 loves toys looking for an experienced adult home as the only pet though can walk with dogs out could you offer this cheeky lad a home\n",
      "DETAILS👇\n",
      "httpstcoeWguVq2Nl2\n",
      "dogs pets Friday httpstcoJgw0pgDWDa Have a nice weekend everyone Beach Friday summerbody weekend httpstcoVOx31edRNz It was great to rediscover the beauty of the Common Blue on Daisy Fleabane during this hot sunny Friday afternoon in my garden\n",
      " \n",
      "garden daisy fleabane nature NaturePhotography wildlife WildlifePhotography Butterfly insect FridayVibes FridayFeeling macrophotography httpstco6n9RAv1L2a Time for some Friday Radio fun with the talented kilmeade httpstco9i2bO4lIqW Please retweet to help Alfie find a home BERKSHIRE ENGLAND \n",
      "Sweet Terrier aged 7 loves toys looking for an experienced adult home as the only pet though can walk with dogs out could you offer this cheeky lad a home\n",
      "DETAILS👇\n",
      "httpstcoeWguVq2Nl2\n",
      "dogs pets Friday httpstcoJgw0pgDWDa Ending Friday With 5  Feedback httpstco4iU9xp85HL Last Friday of Islamic year 1442\n",
      "I pray next year will full of blessings and happiness ❤️•\n",
      "Friday JummaMubarak Please retweet to help Alfie find a home BERKSHIRE ENGLAND \n",
      "Sweet Terrier aged 7 loves toys looking for an experienced adult home as the only pet though can walk with dogs out could you offer this cheeky lad a home\n",
      "DETAILS👇\n",
      "httpstcoeWguVq2Nl2\n",
      "dogs pets Friday httpstcoJgw0pgDWDa Please retweet to help Alfie find a home BERKSHIRE ENGLAND \n",
      "Sweet Terrier aged 7 loves toys looking for an experienced adult home as the only pet though can walk with dogs out could you offer this cheeky lad a home\n",
      "DETAILS👇\n",
      "httpstcoeWguVq2Nl2\n",
      "dogs pets Friday httpstcoJgw0pgDWDa Its friday guys WE MADE IT 🥳 Look at this AWESOME fanart What do you think Do you recognize both characters 😏😏😏\n",
      "Thank you httpstcoieNdHDEPLa for sharing this DareToShare and send your art to us communitydestructivecreationspl httpstco465kbNsv97 Please retweet to help Alfie find a home BERKSHIRE ENGLAND \n",
      "Sweet Terrier aged 7 loves toys looking for an experienced adult home as the only pet though can walk with dogs out could you offer this cheeky lad a home\n",
      "DETAILS👇\n",
      "httpstcoeWguVq2Nl2\n",
      "dogs pets Friday httpstcoJgw0pgDWDa My new EP “Rap Sessions Vol 1” dropping Friday All bars \n",
      "•\n",
      "•\n",
      "RapSessions Friday\n",
      "NewMusicFriday Tidal\n",
      "NewMusic AppleMusic\n",
      "FridayThe13th Youtube \n",
      "Spotify HipHop Rap\n",
      "ExplorePage \n",
      "RestoreThaFeelin httpstcofS1jZkXpjB Please retweet to help Alfie find a home BERKSHIRE ENGLAND \n",
      "Sweet Terrier aged 7 loves toys looking for an experienced adult home as the only pet though can walk with dogs out could you offer this cheeky lad a home\n",
      "DETAILS👇\n",
      "httpstcoeWguVq2Nl2\n",
      "dogs pets Friday httpstcoJgw0pgDWDa Please retweet to help Alfie find a home BERKSHIRE ENGLAND \n",
      "Sweet Terrier aged 7 loves toys looking for an experienced adult home as the only pet though can walk with dogs out could you offer this cheeky lad a home\n",
      "DETAILS👇\n",
      "httpstcoeWguVq2Nl2\n",
      "dogs pets Friday httpstcoJgw0pgDWDa Please retweet to help Alfie find a home BERKSHIRE ENGLAND \n",
      "Sweet Terrier aged 7 loves toys looking for an experienced adult home as the only pet though can walk with dogs out could you offer this cheeky lad a home\n",
      "DETAILS👇\n",
      "httpstcoeWguVq2Nl2\n",
      "dogs pets Friday httpstcoJgw0pgDWDa Please retweet to help Alfie find a home BERKSHIRE ENGLAND \n",
      "Sweet Terrier aged 7 loves toys looking for an experienced adult home as the only pet though can walk with dogs out could you offer this cheeky lad a home\n",
      "DETAILS👇\n",
      "httpstcoeWguVq2Nl2\n",
      "dogs pets Friday httpstcoJgw0pgDWDa My boo doing the most  Making me dance to his own tunes🙋🤘🙌🙌❣️❣️❣️❣️🔥🔥🔥🔥🔥🔥🔥\n",
      "AmazingRace FakazaNews\n",
      "zamusicportal  RIPMshoza FRIDAY\n",
      "Amapiano ISSA lifestyle\n",
      "\n",
      "6o60  Taste buds Rhodes rub\n",
      "\n",
      "httpstcoRqLJw0Ua5m httpstcoS2sphDpKuc We had so much fun at cannacon this past Friday amp Saturday A huge thankyou to aGROairFans DetroitNutrient CenturionProSol NextLightLED xtremegardening PlantSuccess our amazing HTG Managers amp all the great vendors and attendees Looking forward to more 😎 🤙 httpstco3ccTaeaD0n Please retweet to help Alfie find a home BERKSHIRE ENGLAND \n",
      "Sweet Terrier aged 7 loves toys looking for an experienced adult home as the only pet though can walk with dogs out could you offer this cheeky lad a home\n",
      "DETAILS👇\n",
      "httpstcoeWguVq2Nl2\n",
      "dogs pets Friday httpstcoJgw0pgDWDa Please retweet to help Alfie find a home BERKSHIRE ENGLAND \n",
      "Sweet Terrier aged 7 loves toys looking for an experienced adult home as the only pet though can walk with dogs out could you offer this cheeky lad a home\n",
      "DETAILS👇\n",
      "httpstcoeWguVq2Nl2\n",
      "dogs pets Friday httpstcoJgw0pgDWDa LIMITED EDITION FIDGETS that I’m having fun making will be LAUNCHING on FRIDAY the 13th halloween2021 fidgets Friday the 13th liquidglitter keychains httpstcougEkLa3esy Pizza party Friday Our Managing Partner loves Costcos pizza so we had to test it against Times Square Kitchens The polls are still open\n",
      "PizzaParty TeamCulture Friday httpstcoojO6WDB7r1\n",
      "cleaned: Was rewatching the goofy movie and wanted to see how goofy would look as a human So i edited his snout and drew a human nose I CANNOT UNSEE THIS Lowkey wanna do this with other anthro characters haha GOOFY Disney goofymovie httpstcoPauOcHlC7t We talk A GOOFY MOVIE 1995 \n",
      "\n",
      "httpstcoOLLOitTHjE\n",
      "\n",
      "goofy agoofymovie goofymovie 90s billfarmer jasonmarsden kelliemartin joanneworley joeylawrence paulyshore disney disneyplus animated familyfilm growingup roadtrip podcast goodmovie fun classiccartoon httpstcocz4OEjjv1V Shes such a tease\n",
      "Roxanne Goofymovie\n",
      "8 httpstcouoCHQvby1z Beret girl from an extremely goofy movie So strange that she doesnt have a name\n",
      "markuserdtart beretgirl goofymovie fanart digital onlineartist httpstcoXRpoHvRua8 We talk A GOOFY MOVIE 1995 \n",
      "\n",
      "httpstconQCIFxuhz5\n",
      "\n",
      "goofy agoofymovie goofymovie 90s billfarmer jasonmarsden kelliemartin joanneworley joeylawrence paulyshore disney disneyplus animated familyfilm growingup roadtrip podcast goodmovie fun classiccartoon httpstcoSQBD2JOlQP Shes such a tease\n",
      "Roxanne Goofymovie\n",
      "8 httpstcouoCHQvby1z We talk A GOOFY MOVIE 1995 \n",
      "\n",
      "httpstcoJ64s18iaP5\n",
      "\n",
      "goofy agoofymovie goofymovie 90s billfarmer jasonmarsden kelliemartin joanneworley joeylawrence paulyshore disney disneyplus animated familyfilm growingup roadtrip podcast goodmovie fun classiccartoon httpstcoBJmCaXJgQJ We talk A GOOFY MOVIE 1995 \n",
      "\n",
      "httpstcohchMENV0cZ\n",
      "\n",
      "goofy agoofymovie goofymovie 90s billfarmer jasonmarsden kelliemartin joanneworley joeylawrence paulyshore disney disneyplus animated familyfilm growingup roadtrip podcast goodmovie fun classiccartoon httpstcodI0IBmbrg1 We talk A GOOFY MOVIE 1995 \n",
      "\n",
      "httpstcoWk7PfShA4w\n",
      "\n",
      "goofy agoofymovie goofymovie 90s billfarmer jasonmarsden kelliemartin joanneworley joeylawrence paulyshore disney disneyplus animated familyfilm growingup roadtrip podcast goodmovie fun classiccartoon httpstcokQHZWYAsQE We talk A GOOFY MOVIE 1995 \n",
      "\n",
      "httpstcoyCBd18Wo5E\n",
      "\n",
      "goofy agoofymovie goofymovie 90s billfarmer jasonmarsden kelliemartin joanneworley joeylawrence paulyshore disney disneyplus animated familyfilm growingup roadtrip podcast goodmovie fun classiccartoon httpstcodnWTqphZPc 5  Sylvia Marpool An Extremely Goofy Movie\n",
      "\n",
      "Obviously a better love interest for Goofy than that dumb old cow Disney keeps around for some reason\n",
      "\n",
      "Goofy GoofyMovie AGoofyMovie Disney Furry Fanart Doggirl httpstco6U3CB6ajJ6 OriginalFunko What can we do to get an PaulyShore Funko Pop Please totallypauly encinoman soninlaw biodome goofymovie theweasel inthearmynow All great themes for a Funko Pop line OriginalFunko httpstcoBT4pEQiSFV We talk A GOOFY MOVIE 1995 \n",
      "\n",
      "httpstcoEcqTerh5Ui\n",
      "\n",
      "goofy agoofymovie goofymovie 90s billfarmer jasonmarsden kelliemartin joanneworley joeylawrence paulyshore disney disneyplus animated familyfilm growingup roadtrip podcast goodmovie fun classiccartoon httpstco8vVixSxXFD Starting a petition for Powerline World Tour 2022 🎸🤘\n",
      "Powerline  GoofyMovie  I21 httpstcoMun57aLlom We talk A GOOFY MOVIE 1995 \n",
      "\n",
      "httpstcocvZrDwv1gX\n",
      "\n",
      "goofy agoofymovie goofymovie 90s billfarmer jasonmarsden kelliemartin joanneworley joeylawrence paulyshore disney disneyplus animated familyfilm growingup roadtrip podcast goodmovie fun classiccartoon httpstcoIAEDLdB99c Here’s a commission I finished a little while ago for the cover of the Goof Troop story “Mooving Forward Of Goofs and Bells” on FanFiction\n",
      "\n",
      "art fanart drawing gooftroop goofymovie goofy goofygoof maxgoof clarabelle clarabellecow disney httpstcoLOGfUn0GMy Starting a petition for Powerline World Tour 2022 🎸🤘\n",
      "Powerline  GoofyMovie  I21 httpstcoMun57aLlom We talk A GOOFY MOVIE 1995 \n",
      "\n",
      "httpstcotoe6pE6Gy9\n",
      "\n",
      "goofy agoofymovie goofymovie 90s billfarmer jasonmarsden kelliemartin joanneworley joeylawrence paulyshore disney disneyplus animated familyfilm growingup roadtrip podcast goodmovie fun classiccartoon httpstcoM8kLYp69uL We talk A GOOFY MOVIE 1995 \n",
      "\n",
      "httpstco51KbuZ73KF\n",
      "\n",
      "goofy agoofymovie goofymovie 90s billfarmer jasonmarsden kelliemartin joanneworley joeylawrence paulyshore disney disneyplus animated familyfilm growingup roadtrip podcast goodmovie fun classiccartoon httpstco25uM1G4xrr ⚡️I got myself a Notion⚡️😎 goofymovie httpstcoqMrE8RWA2L Disney DisneyAnimation disneyplus Glad to see Goofy back \n",
      "\n",
      "Now can we get more Goofy Movie installments \n",
      "\n",
      "Or perhaps a special Powerline animated concert 😉\n",
      "\n",
      "Goofy Powerline GoofyMovie DisneyPlus Disney music MusicMonday httpstcoQJIvqmICNB ⚡️I got myself a Notion⚡️😎 goofymovie httpstcoqMrE8RWA2L ⚡️I got myself a Notion⚡️😎 goofymovie httpstcoqMrE8RWA2L ⚡️I got myself a Notion⚡️😎 goofymovie httpstcoqMrE8RWA2L They have quietly been importing ‘fellow travellers’ on the Clifford the Big Red Dog front for a very long time It’s a natural function \n",
      "\n",
      "SChandraHerbert to ‘build God’ \n",
      "\n",
      "A safe haven for the ‘poor yearning to breathe free’ VancouverPD \n",
      "\n",
      "goofymovie\n",
      "cleaned: My daughter thought it was all fun and games until I broke out “Kennedi’s Word Book” A notepad 📝 filled with words I wrote while she was on the iPad and I was getting baked😤😂🤣 HighParent HigherLearning HalfedBaked HighIdeasForLearning You learning how to be a “pass through” company will get “yo ass Passed around” in the federal penitentiary💎😂 HigherLearning When a Tennis Player Learns how to become Ambidextrous they will also Learn how to become Enlightened enlightenment holistic physicaleducation exercise exercisescience kinesiology neurology learning higherlearning mindbody HAPPY Friday\n",
      "\n",
      "Journalist Jobs\n",
      " \n",
      "As a retired Broadcaster I know what a difference a “hook up” can make\n",
      "\n",
      "Here are some resources for job seekers \n",
      "Please share journalism jobs higherlearning higherlearningnetworkorg httpstcoG16zTikzPf Congrats to Pueblo Alumn Alexis and Jon on graduating from the Star program at NAU 🟦🟨 acemfboogie warriors higherlearning  Northern Arizona University httpstcoVCEkeYgOs4 VanLathan TheRachLindsay please do NOT have kmele on HigherLearning He is not just any coon he is The Coon Crusader I listen to wethefifth I listened to a great coaching podcast on improving the parent coach relationship 🗣❤️ \n",
      "appliedKnowledgeIsPower BuildingTheVillage HigherLearning httpstcoEhYcrVTjMW The following resource was shared by one of our amazing durhamcollege faculty members Learn how to integrate creativeThinking into the college classroom by visiting httpstcoWok6giNOED CreativityAndEducation higherLearning httpstcogPAJ2OpB76 ECT Reach Out Programme ROP Eastlands College of Technology ECTs Automotive Technology AMT students during a social reach out programme at paradise village in Mukuru slum\n",
      "\n",
      "ReachOut College Eastlands Mukuru Slum life TVET HigherLearning httpstcoGZISHBdtL1 🎉 SUSS wishes Singapore a happy 56th birthday🍾 We look foward to championing our nations continued growth into a diverse and inclusive society 👩🏽‍💼👩🏾‍🚀🧕👷🏼\n",
      "\n",
      "SUSSsg singaporelife singapore education socialsciences higherlearning lifelonglearning inclusivelearning httpstcomkvpq5MUgx Want to stay motivated while learning online Create a todo list of what you want to accomplish every day and reward yourself after completing your daily goals Share this Tip with a friend\n",
      "\n",
      "Vigilearn eLearning OnlineLearning Higherlearning httpstcoAkvmK9z2Gq ECT Reach Out Programme ROP Eastlands College of Technology ECTs Automotive Technology AMT students during a social reach out programme at paradise village in Mukuru slum\n",
      "\n",
      "ReachOut College Eastlands Mukuru Slum life TVET HigherLearning httpstcoGZISHBdtL1 The Best Teachers Are Those Who Show You Where To Look But Don’t Tell You What To See” \n",
      "AK Trenfor\n",
      "\n",
      "The Very Center Of Your Heart Is Where Life Begins The Most Beautiful Place On Earth”\n",
      "BuddhaBrian \n",
      "\n",
      "Love HigherLearning Education EducationOfTheHeart Rumi httpstcoEOBGmc6eQD The Very Center Of Your Heart Is Where Life Begins The Most Beautiful Place On Earth\n",
      "\n",
      "\n",
      "\n",
      "\n",
      "”The Best Teachers Are Those Who Show You Where To Look But Don’t Tell You What To See” \n",
      "AK Trenfor\n",
      "\n",
      "\n",
      "\n",
      "Love HigherLearning Education EducationOfTheHeart BuddhaBrian httpstcoVVqPktTM6F HigherLvtm Thank You 💚 So excited for HigherLearning 💚 httpstcoljUpWWdRhV absolutely loved Dee1music on HigherLearning VanLathan TheRachLindsay higherlearning The Very Center Of Your Heart Is Where Life Begins The Most Beautiful Place On Earth\n",
      "\n",
      "\n",
      "\n",
      "\n",
      "”The Best Teachers Are Those Who Show You Where To Look But Don’t Tell You What To See” \n",
      "AK Trenfor\n",
      "\n",
      "\n",
      "\n",
      "Love HigherLearning Education EducationOfTheHeart BuddhaBrian httpstcoVVqPktTM6F The Best Teachers Are Those Who Show You Where To Look But Don’t Tell You What To See” \n",
      "AK Trenfor\n",
      "\n",
      "The Very Center Of Your Heart Is Where Life Begins The Most Beautiful Place On Earth”\n",
      "BuddhaBrian \n",
      "\n",
      "Love HigherLearning Education EducationOfTheHeart Rumi httpstcoEOBGmc6eQD The Very Center Of Your Heart Is Where Life Begins The Most Beautiful Place On Earth\n",
      "\n",
      "\n",
      "\n",
      "\n",
      "”The Best Teachers Are Those Who Show You Where To Look But Don’t Tell You What To See” \n",
      "AK Trenfor\n",
      "\n",
      "\n",
      "\n",
      "Love HigherLearning Education EducationOfTheHeart BuddhaBrian httpstcoVVqPktTM6F The Best Teachers Are Those Who Show You Where To Look But Don’t Tell You What To See” \n",
      "AK Trenfor\n",
      "\n",
      "The Very Center Of Your Heart Is Where Life Begins The Most Beautiful Place On Earth”\n",
      "BuddhaBrian \n",
      "\n",
      "Love HigherLearning Education EducationOfTheHeart Rumi httpstcoEOBGmc6eQD ECT Reach Out Programme ROP Eastlands College of Technology ECTs Automotive Technology AMT students during a social reach out programme at paradise village in Mukuru slum\n",
      "\n",
      "ReachOut College Eastlands Mukuru Slum life TVET HigherLearning httpstcoGZISHBdtL1 HYSTO 129 is our 5th Anniversary Special Join us and special guest Kellie Arnold as we discuss Amèlie and the John Singleton film Higher Learning HYSTO haveyouseenthisone amelie higherlearning httpstco05yZ00ixoU httpstcozDxHutvZgG Cannabis4Conditions™ Alzheimers Disease by RobbinsGroupLLC of HigherLearning LV httpstcoztk8ZfyL8O   Alzheimers Dementia MentalHealth CannabisReformIreland CBD I’m not learning nothing new 😫😂💀thabeatbasement podcast linkinbio music musician artist rapper singer songwriter beatmaker musicproducer higherlearning beats everybody 🎹🎸🥁🎼 httpstcotWvZswfxrj I’m not learning nothing new 😫😂💀thabeatbasement podcast linkinbio music musician artist rapper singer songwriter beatmaker musicproducer higherlearning beats everybody 🎹🎸🥁🎼 httpstcotWvZswfxrj\n",
      "cleaned: ❤️ this story Song talks about a slave on the 1600’s slave  but defended his negrita ❤️ ✔️🖤sexymasculinity 💪 Salsa 💃 burn  calories than running ✨✨✨✨\n",
      "whenamanlovesawoman \n",
      "FridayVibes salsa Dance burnbabyburn latinflavor latinspice \n",
      " httpstconeiZNd4S3q This song is so goodvery classic and inspirational\n",
      "\n",
      "When A Man Loves A Woman  mbsings \n",
      "\n",
      "© New Wave  httpstco6cneTlqjHq\n",
      "\n",
      "michaelbolton whenamanlovesawoman Listen music lovethissong ListenToThis goodmusic WATCH amazing talent Singing Throwback httpstco3lLJuIGXVX When A Man Loves A Woman from Here To Stay Deluxe Edition When A Man Loves A Woman from Here To Stay Deluxe Edition click here httpstco5YaOUObuwG WhenAManLovesAWoman  HereToStayDeluxeEdition httpstcoUrYlrBaIJs\n",
      "cleaned: ICYMI Be sure to checkout my BRAND NEW REVIEW on this 1993 underrated actioncrime drama extraordinaire JudgmentNight httpstcoqZUYwX7W14\n",
      "cleaned: Caption this Its your turn to show me the funny lt3 darksouls kingofthehill artmashup httpstcoz9CPclW9Vy Caption this Its your turn to show me the funny lt3 darksouls kingofthehill artmashup httpstcoz9CPclW9Vy Idk how Twitter really works but MikeJudge BrentForrester4 my husband and I spent our pandemic writing a KingoftheHill 13 episode arc that I would love to just share with y’all Highlights are Kahn running for office and Joseph being a drag queen 12 httpstcooxZsualeYg GOOD FRIEND HANK\n",
      "\n",
      "HANK “Alright Bill let’s hear again how you’re lonely and childless amd whatnot”\n",
      "\n",
      "KingOfTheHill KOTH Animation Comedy TV MikeJudge Texas lonely child children childless httpstcohlGLKxySk6 GOOD FRIEND HANK\n",
      "\n",
      "HANK “Alright Bill let’s hear again how you’re lonely and childless amd whatnot”\n",
      "\n",
      "KingOfTheHill KOTH Animation Comedy TV MikeJudge Texas lonely child children childless httpstcohlGLKxySk6 GOOD FRIEND HANK\n",
      "\n",
      "HANK “Alright Bill let’s hear again how you’re lonely and childless amd whatnot”\n",
      "\n",
      "KingOfTheHill KOTH Animation Comedy TV MikeJudge Texas lonely child children childless httpstcohlGLKxySk6 Happy 60th birthday to LaurenTom The voice of Connie amp Minh in KingOfTheHill Amy amp Inez Wong in Futurama Kuki Sanban aka Numbuh 3 in CodenameKidsNextDoor and Gizmo amp Jinx in the original TeenTitans httpstco5MmSrlhXgs pogjuice   a mixture of passion fruit orange and guava kingofthehill videogamer gamer joyconboy Splatoon2 NintendoSwitch httpstcoDtCzdEvPTB pogjuice   a mixture of passion fruit orange and guava kingofthehill videogamer gamer joyconboy Splatoon2 NintendoSwitch httpstcoDtCzdEvPTB pogjuice   a mixture of passion fruit orange and guava kingofthehill videogamer gamer joyconboy Splatoon2 NintendoSwitch httpstcoDtCzdEvPTB pogjuice   a mixture of passion fruit orange and guava kingofthehill videogamer gamer joyconboy Splatoon2 NintendoSwitch httpstcoDtCzdEvPTB My Outside amp Ya Outside Is 2 Diff Outsides  iwantdjduffey chinesekitty 📸 officiallyice AngiesBBQ GODfidence KingOfTheHill Welcome2DibiWorld 👑😎🌎  Heaven on Earth httpstcoofx0U4JSoO THE DOGGIE DANCING SONG FROM KINGOFTHEHILL IS PLAYING IN THIS CAFE AND NO ONE ELSE IS FREAKING OUT ABOUT THIS NYinLA2121 RexChapman Hes got some diminished gluteal syndrome kingofthehill hankhill PeggyPlatter is really bringing the twitter game to kingofthehill httpstcoxwtpWszLas I swear earlier seasons of KingOfTheHill were meant for LSD 🤣🤣🤣 Can they bring back and make new kingofthehill FOXTV PLEASE The new cartoons you have on are not it The line up should go\n",
      "1 BobsBurgersFOX \n",
      "2 King of the hill\n",
      "3 TheSimpsons\n",
      "4FamilyGuyonFOX ⁦IronHillBrewery⁩  this is the worst mug ever in the 25 years I have been coming to your breweries  dontbespcheap kingofthehill mugclub httpstcoUTuxOGOHBN This 4 My Mother amp My Aunties  therealmaryjblige GODfidence KingOfTheHill Welcome2DibiWorld 👑😎🌎  Barcode New Jersey httpstcolm0qQzwxJ9 Mr Strickland got up under more balls than a midget hooker\n",
      "\n",
      "KingOfTheHill Again I have no one to share this with that would get it as much as katsukiibakugos would Enjoy\n",
      "BobbyHill KingoftheHill httpstcolyRWNvtmDU Again I have no one to share this with that would get it as much as katsukiibakugos would Enjoy\n",
      "BobbyHill KingoftheHill httpstcolyRWNvtmDU Not sure this scene from invincible has been memed at all But I’m doing it kingofthehill thinkmarkthink propane\n",
      "\n",
      "\n",
      "\n",
      "\n",
      "cartoon art illustration drawing sketch comic comics digitalart design artwork artist funny humor draw characterdesign doodle vectorart httpstcofQJz1953qz It’s 100 Tasha she’s just horrible 😩 FBOYISLAND absolutelynot power TheWalkingDead kingofthehill TheChi BreakingBad tv memes2021 TWD PowerBookIII powercouple goals RaisingKanan QuestionOfTheDay Questionbox Memes httpstco552Bpl1Aul Hot Springs Arkansas should open a speakeasy downtown \n",
      "You’re welcome \n",
      "CityPlanner \n",
      "MyTwoCents \n",
      "KingoftheHill\n",
      "cleaned: Hari Praamuka58 💚\n",
      "NCT DREAM the World Scout Foundation 💚 \n",
      "\n",
      "DREAMIS 💚\n",
      "NCT NCTDREAM Renjun Jisung Jaemin Haechan Jeno Chenle SMtown pramuka scout NCTzen httpstcokzEIBERZLA He is the Scout from TF2 here I made the Render in Blender httpstcoAiykyTKp0a He is the Scout from TF2 here I made the Render in Blender httpstcoAiykyTKp0a He is the Scout from TF2 here I made the Render in Blender httpstcoAiykyTKp0a He is the Scout from TF2 here I made the Render in Blender httpstcoAiykyTKp0a The face of a poor guy who walked for several kms with a 20kg backpack\n",
      "\n",
      "Still its fun a lot\n",
      "scout scouting camping httpstcowTPFqUtbG5 The winner of our recent WIN A KELLY KETTLE competition can be found at httpstcolD4TSiq2zi\n",
      "scout scouting scoutmagazine scoutingmagazine httpstcoNYVf68EouZ The winner of our recent WIN A KELLY KETTLE competition can be found at httpstcolD4TSiq2zi\n",
      "scout scouting scoutmagazine scoutingmagazine httpstcoNYVf68EouZ 🔥  OFFER FROM DENMARK  🇩🇰\n",
      "\n",
      "👔 SCOUT IS LOOKING FOR 🔥 MIDFIELDERS FOR THE 🇩🇰 DANISH TEAM 🔥\n",
      "\n",
      "✍️ Click here for more info 👉 httpstcoLSbpH6vD4v\n",
      "\n",
      "agent scout offer transfer club team football soccer Denmark player midfielder platform network beprocom httpstcoYx47h5WRk1 Our newest fat tire ebikes the Nomad and Scout have quickly become two of our best sellers\n",
      "\n",
      "ebikeplus ottawa ebikes magnum magnumbikes electricbicycles fattire nomad scout ebikeshop bicycles ottawaebikes httpstcolKEQKf6A41 Our newest fat tire ebikes the Nomad and Scout have quickly become two of our best sellers\n",
      "\n",
      "ebikeplus ottawa ebikes magnum magnumbikes electricbicycles fattire nomad scout ebikeshop bicycles ottawaebikes httpstcolKEQKf6A41 Here is the full post and details on how to join our scouts database football footballscout soccer sport scout soccerscout league nonleague grassroots \n",
      "\n",
      "httpstcoEynPyeaZUf Here is the full post and details on how to join our scouts database football footballscout soccer sport scout soccerscout league nonleague grassroots \n",
      "\n",
      "httpstcoEynPyeaZUf Here is the full post and details on how to join our scouts database football footballscout soccer sport scout soccerscout league nonleague grassroots \n",
      "\n",
      "httpstcoEynPyeaZUf Have you recently gained a scout qualification  Would you like to be added to our scouts database  \n",
      "We are looking to offer some scouting work experience in the coming months IPSO PFSA talentidentification scout football soccer ball footballscouting footballscouts httpstcoAXYMDq7r8Q Have you recently gained a scout qualification  Would you like to be added to our scouts database  \n",
      "We are looking to offer some scouting work experience in the coming months IPSO PFSA talentidentification scout football soccer ball footballscouting footballscouts httpstcoAXYMDq7r8Q Football Scouts  what is the state of play for annual PAY  SALARY in a FULL time scouting role in a professional football club in the UK \n",
      "\n",
      "Ps Should scouts be paid more Football TalentID Scout Football Scouts  what is the state of play for annual PAY  SALARY in a FULL time scouting role in a professional football club in the UK \n",
      "\n",
      "Ps Should scouts be paid more Football TalentID Scout Commission for ntmatoy \n",
      "\n",
      "Stealin the intelligence like a badass\n",
      "\n",
      "sfm tf2 femscout scout httpstconpQUCWlOGh Give it to me \n",
      "Thanks \n",
      "mrfestive \n",
      " \n",
      " for the high quality candy model \n",
      "SFM TF2 Scout Soldier FemScout httpstco5xkcclrrjn Do you ever have friend that can just pick you off the ground well make sure to tell them that you appreciate them\n",
      "SourceFilmmaker SFM TF2 TeamFortress2 scout femscout httpstcozhl13TYbxd A beautiful day to learn more about cotton Thank you Lord for this view and the sunshine Grow21 scout httpstcoELjyuLILNf Glad you are back in the swing of scout stuff httpstcoEx57EKR9hR 44\n",
      "And so I continue to finish the challenge with emotions\n",
      "0Brwka0 A1 and bezov A4 confuse the NzRak H3  hehe\n",
      "\n",
      "dmkll illustration challenge emotion art digital character face tf2 scout engineer monkey httpstcojdnAEmyHOq 🎉 New video on our YouTube channel We shared a video of Preston Judds 6 goals in the USLChampionship this season\n",
      "\n",
      "httpstcoU3PvwgT1Xv\n",
      "\n",
      "Skaut Scout FootballScout FootballAgent FootballVideos USLChampionship FootballTalents SoccerTalent SoccerTransfer LAGalaxy httpstcobMoKTtYw8M\n",
      "cleaned: Farm is looking glorious right now Will start combining spring barley ThursdayFriday and the oil seed rape won’t be far behind Wheat is now going off and potatoes have been pulverised and sprayed off so it’s all coming together nicely BackBritishFarming angus montrose httpstcoVpZOgVf8eC Farm is looking glorious right now Will start combining spring barley ThursdayFriday and the oil seed rape won’t be far behind Wheat is now going off and potatoes have been pulverised and sprayed off so it’s all coming together nicely BackBritishFarming angus montrose httpstcoVpZOgVf8eC Farm is looking glorious right now Will start combining spring barley ThursdayFriday and the oil seed rape won’t be far behind Wheat is now going off and potatoes have been pulverised and sprayed off so it’s all coming together nicely BackBritishFarming angus montrose httpstcoVpZOgVf8eC Farm is looking glorious right now Will start combining spring barley ThursdayFriday and the oil seed rape won’t be far behind Wheat is now going off and potatoes have been pulverised and sprayed off so it’s all coming together nicely BackBritishFarming angus montrose httpstcoVpZOgVf8eC 40 Purebred Cows  Angus\n",
      "\n",
      "1500 Per Head Average Weight of 1300 lb All are 35 Years Old Moderate to Large Frame\n",
      "\n",
      "Click the link to see ALL details\n",
      "httpstcop0bl4EmVsI\n",
      "\n",
      "Find the perfect livestock today\n",
      "\n",
      "LivestockMarket Livestock Cattle Angus Cows httpstcobPVnr41FUA It doesn’t matter where you shop you can recycle your soft plastics with us ♻️ CleanItScrunchItCoopIt\n",
      "httpstcoeBKm9x2eBD\n",
      "angus perthshire themearns httpstcojCaznyBnub Craving something unbelievably savory Try our new Bacon Bratwurst or the classic Cheddar Brat Theres a flavor for everybody so shop now httpstcoeSCIToeQqE smallbiz angus beef spokane PNW supportlocalbusiness httpstcoyEK1Xl6KnF ANGS\n",
      "\n",
      "Now why should I feed the Market Makers amp think there is no value higher than 09p in Angus Energy \n",
      "\n",
      "Markets fickle as too sellers who cant hold for more than 24hrs\n",
      "\n",
      "With Gas Prices elevated lets not forget I could sell 8m shares last week at 085p\n",
      "\n",
      "Hold 💰💰💰🚀🚀🚀 httpstconUsk5RvASv Love dramatic skies like these stormy angus rain northeastscotland grampian visitscotland httpstcoFDTf1DwMP2 WindyWilson88 Arbroath Angus just a few minutes ago Torrential rain on the drive through but glorious now 😎 httpstcokwbe96MJEz Delicious lunch today \n",
      "🐟smoked mackerel from arbroathfisheries \n",
      "🥗rainbow chard and cavolo nero from westertonfarmers \n",
      "🍑nectarine lemon and parsley🤤 🐟 \n",
      "localproduce angus arbroath lunch httpstcogNEBJoqYOg Delicious lunch today \n",
      "🐟smoked mackerel from arbroathfisheries \n",
      "🥗rainbow chard and cavolo nero from westertonfarmers \n",
      "🍑nectarine lemon and parsley🤤 🐟 \n",
      "localproduce angus arbroath lunch  Arbroath Angus httpstcoSvFOOLhl3A Certainly had problems today accessing this long awaited IPCCCH climate report  link below  setting the scene for COP26 Glasgow amp what critical agreements must be put in place now ClimateEmergency everyactioncounts Angus generationrestoration communities NetZero 🌍🌿 httpstcolQIqGruNlA PiE LOVERS OF ANGUS DUNDEE amp FIFE\n",
      "\n",
      "It’s a double header and Pie Weather weekend ahead Get along to Forfar Sat angusfarmers \n",
      "\n",
      "PlusWe’re buzzing to be heading over the water to Fife again Sun for the awesome BowhouseFife \n",
      "weecook weecookkitchen pie pies angus Fife httpstcociFkNxK9d0 PiE LOVERS OF ANGUS DUNDEE amp FIFE\n",
      "\n",
      "It’s a double header and Pie Weather weekend ahead Get along to Forfar Sat angusfarmers \n",
      "\n",
      "PlusWe’re buzzing to be heading over the water to Fife again Sun for the awesome BowhouseFife \n",
      "weecook weecookkitchen pie pies angus Fife httpstcociFkNxK9d0 Work with WeeCOOK\n",
      "\n",
      "Hospitality amp events PT team member position Join our friendly diverse inclusive team  Must be over 25 with clean licence to drive company vehicles experience essential barista skills desirable Email CV weecookyahoocouk Jobs hiring angus Dundee httpstcoIsrZbhF2hp Work with WeeCOOK\n",
      "\n",
      "Hospitality amp events PT team member position Join our friendly diverse inclusive team  Must be over 25 with clean licence to drive company vehicles experience essential barista skills desirable Email CV weecookyahoocouk Jobs hiring angus Dundee httpstcoIsrZbhF2hp Nice wee walk along the old railway line to Eassie🚶👣🛤️\n",
      "EassiePictishStone PictishStone Eassie Angus Scotland Picts httpstcovK3PMkdnUv GrogsGamut GatoDelCheshire Just this alone proves angus is talking BS httpstcoZK4o4lzCsa Fantastic food and drink on the east coast\n",
      "\n",
      "Hospitalfield Scotland Scottish Angus Tayside food drink \n",
      "\n",
      "httpstcokku5qUHuO5 httpstcoMlXwGfPZpp Fantastic food and drink on the east coast\n",
      "\n",
      "Hospitalfield Scotland Scottish Angus Tayside food drink \n",
      "\n",
      "httpstcokku5qUpTpv httpstcohssIIPKbZW As salmon net fishing in Scotland passes into history ⁦germanocean⁩ returns to StCyrus the place on the Angus coast where he first photographed the net fishermen in 1996 as part of the final chapter of CatchingTheTide httpstco5ZIPQwvTJu Bon Scott and Angus Young \n",
      "ACDC BON ANGUS httpstcoZgfJQ9V2jF ANGS\n",
      "\n",
      "Now why should I feed the Market Makers amp think there is no value higher than 09p in Angus Energy \n",
      "\n",
      "Markets fickle as too sellers who cant hold for more than 24hrs\n",
      "\n",
      "With Gas Prices elevated lets not forget I could sell 8m shares last week at 085p\n",
      "\n",
      "Hold 💰💰💰🚀🚀🚀 httpstconUsk5RvASv RT SocietyPaul RT ScottishField Fantastic food and drink on the east coast\n",
      "\n",
      "Hospitalfield Scotland Scottish Angus Tayside food drink \n",
      "\n",
      "httpstcoSNud3XUVYQ httpstcobwO3LAc7yU\n",
      "cleaned:nan\n",
      "cleaned:nan\n",
      "cleaned:nan\n",
      "cleaned:nan\n",
      "cleaned:nan\n",
      "cleaned: ⬆️\n",
      "  The Incredible DrPol x2 on NatGeoWild \n",
      "  DestinationFear  FortKnox Prospect Maine on TravelChannel \n",
      "  The DeadFiles  MarkedforDeath Glendale Arizona on TravelChannel The MichaelDevlin  JoeDempsey series so far published since 2018\n",
      "\n",
      "Book 1  KillerIntent\n",
      "Book 2  MarkedForDeath\n",
      "Book 3  PowerPlay\n",
      "Book 4  Coming soon\n",
      "\n",
      "Find them at Waterstones WHSmith Foyles amp any independent bookshop or on amazon\n",
      "\n",
      "httpstcoDxFjyLUN09… httpstcoagopiweYw1 but it was NOT the RIGHT TIME and you were totally out of PLACE I hope this is not offensive to anyone but EDUCATIONAL If anyone knows the plight of freedom of speech its ME trust amp believe Its not the end It has just begun Sincerely Luv MarkedForDeath 😘 but it was NOT the RIGHT TIME and you were totally out of PLACE I hope this is not offensive to anyone but EDUCATIONAL If anyone knows the plight of freedom of speech its ME trust amp believe Its not the end It has just begun Sincerely Luv MarkedForDeath 😘\n",
      "cleaned:nan\n",
      "cleaned:nan\n",
      "cleaned: WENEEDSTARFLEETNOW \n",
      "\n",
      "flyme\n",
      "httpstco7SALS3MlEG\n",
      "chairmanoftheboard \n",
      "\n",
      "quacKTV newtwerk23 \n",
      "\n",
      "I love You\n",
      "\n",
      "coin I would like an answer to this question raised by BullyingAlberta I do know in some states Directors can be sued for failing in their fiduciary responsibilities Thoughts\n",
      "gaylegifford nonprofit nonprofits boardsofdirectors boardofdirectors chairmanoftheboard httpstcoK4L4CwJ3Tn Visualizing the events\n",
      "Gamestop GME Hearing Shills Bots TheRuns Cheating Attacking Shorting Spoofing ETF FlashCrash IWM IJR Reddit RyanCohen ChairmanoftheBoard Fidelity BuySellRatio\n",
      "httpstcoOikxXheU0o\n",
      "cleaned: PlaylistPeopIe Check out the latest release from Hot Box called Bigg BANG Theory\n",
      "httpstcoyY1MsB2ClZ\n",
      "\n",
      "Video on YOUTUBE\n",
      "httpstcoF2WwLFASFT\n",
      "\n",
      "LIKE👍🏿SHARE 🤝SUBSCRIBE\n",
      "\n",
      "BANG Pow teacher class student HotBox BigBangTheory  INgrooves UMG HotBoxLLC CreateDigitalMusic Apple ManicLittle Check out the latest release from Hot Box called Bigg BANG Theory\n",
      "httpstcow9Nt77WutX\n",
      "\n",
      "Video on YOUTUBE\n",
      "httpstcocmjwyT0lFl\n",
      "\n",
      "LIKE👍🏿SHARE 🤝SUBSCRIBE\n",
      "\n",
      "BANG Pow teacher class student HotBox BigBangTheory  INgrooves UMG HotBoxLLC CreateDigitalMusic Apple futureguru100 Check out the latest release from Hot Box called Bigg BANG Theory\n",
      "httpstcoyY1MsB2ClZ\n",
      "\n",
      "Video on YOUTUBE\n",
      "httpstcoF2WwLFASFT\n",
      "\n",
      "LIKE👍🏿SHARE 🤝SUBSCRIBE\n",
      "\n",
      "BANG Pow teacher class student HotBox BigBangTheory  INgrooves UMG HotBoxLLC CreateDigitalMusic Apple loscapital DistroKid Check out the latest release from Hot Box called Bigg BANG Theory\n",
      "httpstcoyY1MsB2ClZ\n",
      "\n",
      "Video on YOUTUBE\n",
      "httpstcoF2WwLFASFT\n",
      "\n",
      "LIKE👍🏿SHARE 🤝SUBSCRIBE\n",
      "\n",
      "BANG Pow teacher class student HotBox BigBangTheory  INgrooves UMG HotBoxLLC CreateDigitalMusic Apple roderikopop Check out the latest release from Hot Box called Bigg BANG Theory\n",
      "httpstcoyY1MsB2ClZ\n",
      "\n",
      "Video on YOUTUBE\n",
      "httpstcoF2WwLFASFT\n",
      "\n",
      "LIKE👍🏿SHARE 🤝SUBSCRIBE\n",
      "\n",
      "BANG Pow teacher class student HotBox BigBangTheory  INgrooves UMG HotBoxLLC CreateDigitalMusic Apple PlaylistPeopIe Check out the latest release from Hot Box called Bigg BANG Theory\n",
      "httpstcoyY1MsB2ClZ\n",
      "\n",
      "Video on YOUTUBE\n",
      "httpstcoF2WwLFASFT\n",
      "\n",
      "LIKE👍🏿SHARE 🤝SUBSCRIBE\n",
      "\n",
      "BANG Pow teacher class student HotBox BigBangTheory  INgrooves UMG HotBoxLLC CreateDigitalMusic Apple spotifyking Check out the latest release from Hot Box called Bigg BANG Theory\n",
      "httpstcoyY1MsB2ClZ\n",
      "\n",
      "Video on YOUTUBE\n",
      "httpstcoF2WwLFASFT\n",
      "\n",
      "LIKE👍🏿SHARE 🤝SUBSCRIBE\n",
      "\n",
      "BANG Pow teacher class student HotBox BigBangTheory  INgrooves UMG HotBoxLLC CreateDigitalMusic Apple doveofficeal Check out the latest release from Hot Box called Bigg BANG Theory\n",
      "httpstcoyY1MsB2ClZ\n",
      "\n",
      "Video on YOUTUBE\n",
      "httpstcoF2WwLFASFT\n",
      "\n",
      "LIKE👍🏿SHARE 🤝SUBSCRIBE\n",
      "\n",
      "BANG Pow teacher class student HotBox BigBangTheory  INgrooves UMG HotBoxLLC CreateDigitalMusic Apple berthetrap Check out the latest release from Hot Box called Bigg BANG Theory\n",
      "httpstcoyY1MsB2ClZ\n",
      "\n",
      "Video on YOUTUBE\n",
      "httpstcoF2WwLFASFT\n",
      "\n",
      "LIKE👍🏿SHARE 🤝SUBSCRIBE\n",
      "\n",
      "BANG Pow teacher class student HotBox BigBangTheory  INgrooves UMG HotBoxLLC CreateDigitalMusic Apple MConnollyittm CarshaltonArt 4reform janea216 tmealham TheBlackWiseGuy thatginamiller nwnicholas efgbricklayer EthicalRenewal BarristerSecret SteveBakerHW albrummer TheFCA bankofengland smepathfinder TransparencyTF Many lawyers find it quite lucrative to defend and will even go so far as to openly support But are individual lawyers bad or are they caught within a bad system\n",
      "\n",
      "Were going to get the Boris and Rishi pump today to invest in the UK  will investors fall for it BigBangTheory A little bromance goes a long way on The Big Bang Theory tonight at 600p OnMyTVZ\n",
      "\n",
      "thebigbangtheory bigbangtheorycbs BigBangTheory 5nightsaweek weeknights HamptonRoads wtvz mytvz yourentertainmentstation LOL BigBang comedy sitcom httpstcoJ5gvQ89tLS Yesterday watching BigBangTheory a statement by Sheldon touched and made me think but am I overthinking\n",
      "He said that he highly doubts the dry cleaner would be able to do good as he is part time locksmith too\n",
      "opinions pls What i find so interesting all characters in friends and bigbangtheory lived in apartment but we never saw anyone else in the building I mean no neighbor no one passing by no one in laundry room just the main characters and thats it I just watched The Big Bang Theory 1x03 The Fuzzy Boots Corollary httpstcoDdO1FVbTGV BigBangTheory trakt I just watched The Big Bang Theory 1x02 The Big Bran Hypothesis httpstcoOkJMvRBX7t BigBangTheory trakt bigbangtheory Did anyone else noticed that Raj was talking in front of Penny in season 1 The Dumpling Paradox Also Sheldon didnt knock 3 times in season 1\n",
      "BigBangTheory I just watched The Big Bang Theory 1x01 Pilot httpstcoMQA3V2cJVu BigBangTheory trakt mithila22874577 Check out the latest release from Hot Box called Bigg BANG Theory\n",
      "httpstcoyY1MsB2ClZ\n",
      "\n",
      "Video on YOUTUBE\n",
      "httpstcoF2WwLFASFT\n",
      "\n",
      "LIKE👍🏿SHARE 🤝SUBSCRIBE\n",
      "\n",
      "BANG Pow teacher class student HotBox BigBangTheory  INgrooves UMG HotBoxLLC CreateDigitalMusic Apple TheIMRadio Check out the latest release from Hot Box called Bigg BANG Theory\n",
      "httpstcoyY1MsB2ClZ\n",
      "\n",
      "Video on YOUTUBE\n",
      "httpstcoF2WwLFASFT\n",
      "\n",
      "LIKE👍🏿SHARE 🤝SUBSCRIBE\n",
      "\n",
      "BANG Pow teacher class student HotBox BigBangTheory  INgrooves UMG HotBoxLLC CreateDigitalMusic Apple lilchev Check out the latest release from Hot Box called Bigg BANG Theory\n",
      "httpstcoyY1MsB2ClZ\n",
      "\n",
      "Video on YOUTUBE\n",
      "httpstcoF2WwLFASFT\n",
      "\n",
      "LIKE👍🏿SHARE 🤝SUBSCRIBE\n",
      "\n",
      "BANG Pow teacher class student HotBox BigBangTheory  INgrooves UMG HotBoxLLC CreateDigitalMusic Apple 1ElectricMag Check out the latest release from Hot Box called Bigg BANG Theory\n",
      "httpstcoyY1MsB2ClZ\n",
      "\n",
      "Video on YOUTUBE\n",
      "httpstcoF2WwLFASFT\n",
      "\n",
      "LIKE👍🏿SHARE 🤝SUBSCRIBE\n",
      "\n",
      "BANG Pow teacher class student HotBox BigBangTheory  INgrooves UMG HotBoxLLC CreateDigitalMusic Apple TheIMRadio Check out the latest release from Hot Box called Bigg BANG Theory\n",
      "httpstcoyY1MsB2ClZ\n",
      "\n",
      "Video on YOUTUBE\n",
      "httpstcoF2WwLFASFT\n",
      "\n",
      "LIKE👍🏿SHARE 🤝SUBSCRIBE\n",
      "\n",
      "BANG Pow teacher class student HotBox BigBangTheory  INgrooves UMG HotBoxLLC CreateDigitalMusic Apple rosarysins Check out the latest release from Hot Box called Bigg BANG Theory\n",
      "httpstcoyY1MsB2ClZ\n",
      "\n",
      "Video on YOUTUBE\n",
      "httpstcoF2WwLFASFT\n",
      "\n",
      "LIKE👍🏿SHARE 🤝SUBSCRIBE\n",
      "\n",
      "BANG Pow teacher class student HotBox BigBangTheory  INgrooves UMG HotBoxLLC CreateDigitalMusic Apple If you could be a flatmate with one of the Big bang theory cast who would you chose and why\n",
      "\n",
      "Mine would be penny just so I can steal any cheesecake she brings back from work\n",
      "\n",
      "bigbangtheory cheesecake I’ve been in the house all weekend and I have watched ever episode of the BigBangTheory I mean every episode\n",
      "cleaned:nan\n",
      "cleaned: Question \n",
      "\n",
      "What makes Kenyan Khat a drug but not the Ethiopian one\n",
      "\n",
      "it’s unfortunate that antidrug advocate would pick amp choose which country can import drugs into the country It’s like the US refusing Colombian cocaine but accepting Mexican cocaine\n",
      "\n",
      "Somalia twisted httpstco6ggCcsGAnm A Commissioned Twisted The Best Made Better Made Yours\n",
      "\n",
      "Watch this space as this 110 nears completion\n",
      "\n",
      "\n",
      "\n",
      "Twisted Certified TwistedCertified UsedDefender CustomDefender Adventure httpstcoAhGHFdhFRg Not knowing her name I wonder if its alright just plainly calling her Twisted Imagine My Image  Twisted Prose words wordsmith twisted wicked daily prose darkpoetry wrappedinwords 365daychallenge twistedroads twistedprose madness prose 2021 friday13th httpstco3FsHMpb8JA Some people are like a slinky Theyre twisted amp annoying as hell but you cant help but smile as they fall down the stairs Paper Elephants  Twisted Prose words wordsmith twisted wicked daily prose darkpoetry wrappedinwords 365daychallenge twistedroads twistedprose madness prose 2021 friday13th httpstcogy0RHUHDT2 Blackbuck httpstcolZnAD39ZrV blackbuck gazelle horns spiral twisted resting antelope joancarroll httpstcozK1LISh4TS This V8 90 sold before we could share it with you But were proud of it so here it is anyway\n",
      "\n",
      "If youd like us to build you something a little bit different click this link to begin your Twisted journey httpstcoc2znPbYzbc\n",
      "\n",
      "\n",
      "\n",
      "Twisted httpstco6FlUcCZi6j A Commissioned Twisted The Best Made Better Made Yours\n",
      "\n",
      "Watch this space as this 110 nears completion\n",
      "\n",
      "\n",
      "\n",
      "Twisted Certified TwistedCertified UsedDefender CustomDefender Adventure httpstcoAhGHFdhFRg Have you ever REALLY listened to the lyrics of love songs\n",
      "\n",
      "Doof brings you  twisted lyrics\n",
      "\n",
      "Sting thepolice everybreathyoutake twisted thisaintalovesong twistedlyrics\n",
      "\n",
      "Pls send suggestions for love songs that are actually about stalking  as Id love to do more httpstcob80swpbvoz Blackbuck httpstcolZnAD39ZrV blackbuck gazelle horns spiral twisted resting antelope joancarroll httpstcozK1LISh4TS Blackbuck httpstcolZnAD39ZrV blackbuck gazelle horns spiral twisted resting antelope joancarroll httpstcozK1LISh4TS You’re telling me the guy who doesn’t even have the will to actually run after a 14 year old boy let alone the will to live is just that much more Twisted than Trilla “Hungry Like The Wolf” Suduri Repost shanepaish with makerepost\n",
      "・・・\n",
      "muse of muses katemoss my mood this saturday arms up twisted creating  endless passion and drive direction in which path to follow love hair shine best waves httpstcoU7WcJole71 Blackbuck httpstcolZnAD39ZrV blackbuck gazelle horns spiral twisted resting antelope joancarroll httpstcozK1LISh4TS When your dog pulls you down the stairs after his morning out at the local park twisted sprained sore httpstco0nTk9KTrPT A Thriller with Depth\n",
      "A pageturning delight A Must read\n",
      "Get 4 chapters free at httpstcosfI9YTkBeF\n",
      "httpstcobMM63hEykM\n",
      "horror thriller suspense paranormal love lovestory revenge ghost possession twisted friday weekend fridaymorning httpstcoDpUYY2eCpG Youll have to taste the twist to tell the twist in the taste 😉\n",
      "\n",
      "\n",
      "Grab the twisted tasty burger here at burgerhomesofficial \n",
      "\n",
      "Visit Today at our Outlets to experience the Burger of perfection 😍\n",
      "\n",
      "burgerhomes twisted colddrinks burger burgertime🍔 burgerlove gurugram httpstcoMdoHblarAc Blackbuck httpstcolZnAD39ZrV blackbuck gazelle horns spiral twisted resting antelope joancarroll httpstcozK1LISh4TS Blackbuck httpstcolZnAD39ZrV blackbuck gazelle horns spiral twisted resting antelope joancarroll httpstcozK1LISh4TS Jeffs reviewsPigeonBlood Red by Ed Duncan pigeonbloodred  2016 httpstcoIkx9ybQG5o amreading Engaging multitwist crime noir CreativiaPub IARTG \n",
      "\n",
      "Duncan crafts a twisted thriller in his gangsterlaced debut httpstco2QYDntJM2q Blackbuck httpstcolZnAD39ZrV blackbuck gazelle horns spiral twisted resting antelope joancarroll httpstcozK1LISh4TS Blackbuck httpstcolZnAD39ZrV blackbuck gazelle horns spiral twisted resting antelope joancarroll httpstcozK1LISh4TS Jeffs reviewsPigeonBlood Red by Ed Duncan pigeonbloodred  2016 httpstcoIkx9ybQG5o amreading Engaging multitwist crime noir CreativiaPub IARTG \n",
      "\n",
      "Duncan crafts a twisted thriller in his gangsterlaced debut httpstco2QYDntJM2q If you’ve ever wondered how unhinged the anti gun lobby and their supporters are here’s a lunatic cheering that Canada didn’t medal out at the Olympics in the shooting sports These people are deviants unCanadian sick twisted GetHelp 🇨🇦 their hatred is strong Resist it httpstcoJKKwG0jbGb\n",
      "cleaned: Can you see it like we can 🌕\n",
      "\n",
      "Polylauncher is getting closer and closer 🚀 FullSpeed httpstcoNDYDEqRU4i Can you see it like we can 🌕\n",
      "\n",
      "Polylauncher is getting closer and closer 🚀 FullSpeed httpstcoNDYDEqRU4i Can you see it like we can 🌕\n",
      "\n",
      "Polylauncher is getting closer and closer 🚀 FullSpeed httpstcoNDYDEqRU4i Morning \n",
      "\n",
      "🔑 luckyburton ‘s coupe\n",
      "🔄📽 brotherscustom\n",
      "\n",
      "bonnevillesaltflats salt  landspeedracing flatheadford  modelacoupe saltflats sendit hotrod topspeed topend fullspeed bonneville utah httpstcoCAl8DQFYt4 Can you see it like we can 🌕\n",
      "\n",
      "Polylauncher is getting closer and closer 🚀 FullSpeed httpstcoNDYDEqRU4i Can you see it like we can 🌕\n",
      "\n",
      "Polylauncher is getting closer and closer 🚀 FullSpeed httpstcoNDYDEqRU4i Can you see it like we can 🌕\n",
      "\n",
      "Polylauncher is getting closer and closer 🚀 FullSpeed httpstcoNDYDEqRU4i Can you see it like we can 🌕\n",
      "\n",
      "Polylauncher is getting closer and closer 🚀 FullSpeed httpstcoNDYDEqRU4i Can you see it like we can 🌕\n",
      "\n",
      "Polylauncher is getting closer and closer 🚀 FullSpeed httpstcoNDYDEqRU4i Can you see it like we can 🌕\n",
      "\n",
      "Polylauncher is getting closer and closer 🚀 FullSpeed httpstcoNDYDEqRU4i Can you see it like we can 🌕\n",
      "\n",
      "Polylauncher is getting closer and closer 🚀 FullSpeed httpstcoNDYDEqRU4i Can you see it like we can 🌕\n",
      "\n",
      "Polylauncher is getting closer and closer 🚀 FullSpeed httpstcoNDYDEqRU4i Can you see it like we can 🌕\n",
      "\n",
      "Polylauncher is getting closer and closer 🚀 FullSpeed httpstcoNDYDEqRU4i Can you see it like we can 🌕\n",
      "\n",
      "Polylauncher is getting closer and closer 🚀 FullSpeed httpstcoNDYDEqRU4i Can you see it like we can 🌕\n",
      "\n",
      "Polylauncher is getting closer and closer 🚀 FullSpeed httpstcoNDYDEqRU4i polylauncher Fuel checked✔️  Engine checked✔️  pilot checked✔️  Pad checked✔️ Only launching remaining to be checked\n",
      "FullSpeed PolygonLaunchpad PolygonNetwork PolygonSpace blockchains TeamPolylauncher httpstcoMkhSFaxE7p polylauncher Fuel checked✔️  Engine checked✔️  pilot checked✔️  Pad checked✔️ Only launching remaining to be checked\n",
      "FullSpeed PolygonLaunchpad PolygonNetwork PolygonSpace blockchains TeamPolylauncher httpstcoMkhSFaxE7p Can you see it like we can 🌕\n",
      "\n",
      "Polylauncher is getting closer and closer 🚀 FullSpeed httpstcoNDYDEqRU4i Can you see it like we can 🌕\n",
      "\n",
      "Polylauncher is getting closer and closer 🚀 FullSpeed httpstcoNDYDEqRU4i Can you see it like we can 🌕\n",
      "\n",
      "Polylauncher is getting closer and closer 🚀 FullSpeed httpstcoNDYDEqRU4i polylauncher This is an amazing milestone from the ANGEL team Congrats guys Now lets go with fullspeed and launch one of the best launchpads out there on the 0xPolygon blockchain Can you see it like we can 🌕\n",
      "\n",
      "Polylauncher is getting closer and closer 🚀 FullSpeed httpstcoNDYDEqRU4i Can you see it like we can 🌕\n",
      "\n",
      "Polylauncher is getting closer and closer 🚀 FullSpeed httpstcoNDYDEqRU4i Can you see it like we can 🌕\n",
      "\n",
      "Polylauncher is getting closer and closer 🚀 FullSpeed httpstcoNDYDEqRU4i Can you see it like we can 🌕\n",
      "\n",
      "Polylauncher is getting closer and closer 🚀 FullSpeed httpstcoNDYDEqRU4i\n",
      "cleaned: Im just going to come out and say it the time is ripe for this to get a proper reappraisal away from being judged just as the movie that killed an entire studio\n",
      "\n",
      "My ★★★½ review of CutthroatIsland on Letterboxd \n",
      "\n",
      "httpstco2xE0D6Fqta httpstcoSO9E98NoNF just some random pencil doodles from today\n",
      "Am I the only person on this planet who actually likes CutthroatIsland\n",
      "art drawing httpstcoXTU5Ih5tax just some random pencil doodles from today\n",
      "Am I the only person on this planet who actually likes CutthroatIsland\n",
      "art drawing httpstcoXTU5Ih5tax just some random pencil doodles from today\n",
      "Am I the only person on this planet who actually likes CutthroatIsland\n",
      "art drawing httpstcoXTU5Ih5tax\n",
      "cleaned:nan\n",
      "cleaned: 70’s Vans are in a league all to themselves Vans show off the owners style one like no other vehicle on the road\n",
      "\n",
      "countskustoms countingcars lasvegas history van vanculture sherwinwilliams matrixedge httpstcoC2CUfM467t campbellru24 The Van gene 🧬 runs deep with this one eh dailyharley Vanalikes Afternoon 👏\n",
      "\n",
      "QuoteOfTheDay from the goat 🐐 LewisHamilton🔥\n",
      "\n",
      "NVR Car Van LewisHamilton Hire Rental 44 Reservation Delivery Collection Travel Explore Quotes httpstcog8D0qPZdB2 King of the hill KiaCarnival yyc calgary luv van minivan familyadventures  South Trail Kia httpstcopcENrNHwqZ Daily stock ready to get you on the road Call our sales team on 0121 553 2737 or visit httpstcoZFNYNfgjQm to find out more guest sherwood iveco van ivecodaily daily commercialvehicles fleet httpstcoNFEOgRnHjN So distraught our charitywork van  has been van deep gouges down the side we cant afford to repair the damage This is after they let our tyres down makes it hard to want to kepp going httpstco74BTg2K5aZ Out there in the wilderness\n",
      "\n",
      "Shared on Gala by AdrianLuna\n",
      "\n",
      "\n",
      "camping wilderness van tent nature trees naturephotography httpstcojBkqGUnpry Where are we off to today\n",
      "Download the App or \n",
      "Book us at 9052777777\n",
      "\n",
      "\n",
      "\n",
      "\n",
      "\n",
      "roundoclock Ontario airportTaxi van AccessibleTaxi MiTaxi businessTaxi Taxiapp Travel cars airport httpstcoNnzpJAIIRq This is the main transport in the city call i  Car Automobile Vehicle Transportation Person Human Tarmac Asphalt Road Metropolis Urban Building City Town Rain Gaborone Botswana Africa Minibus Bus Van httpstcoYSKrtlSZJi This is the main transport in the city call i  Car Automobile Vehicle Transportation Person Human Tarmac Asphalt Road Metropolis Urban Building City Town Rain Gaborone Botswana Africa Minibus Bus Van httpstcoYSKrtlSZJi The ATeam TShirts Masks teepublic  ⠀\n",
      "⠀\n",
      "httpstcoTMwKHZCuDg  ⠀\n",
      "⠀\n",
      "TheATeam ATeam MrT BABaracus GMC GMVandura van retro nostalgia ⠀\n",
      "tshirts masks stickers clothing facemask MaskUp httpstco2OIHBaR2AE Do you have an old car motorbike van or even a caravan that you no longer want🚗🏍️\n",
      "Maybe it is only fit for scrap\n",
      "Giveacar is a notforprofit social enterprise that can turn your old vehicle into cash for Communicare in Southampton\n",
      "Please see the pics for more info httpstcoNapX9RWkWN The Volkswagen Transporter 61 Panel Van is designed for those who get the job done\n",
      "\n",
      "Click to learn more\n",
      "👉 httpstcoVxzepkcW1Z httpstcooKQcJ8Hjkw This is the main transport in the city call i  Car Automobile Vehicle Transportation Person Human Tarmac Asphalt Road Metropolis Urban Building City Town Rain Gaborone Botswana Africa Minibus Bus Van httpstcoYSKrtlSZJi The ideal height difference right here 😉\n",
      "Ideal EspeciallyFor TITI Teehee TATA TUTU VAN ChildhoodMemories BT21 httpstcov1fIFIjZu6 So this is the way earthlings say hi 😅🦈\n",
      "But WhyWeShaking TATA VAN BT21UNIVERSE BT21 httpstcojY4MsbKLF3 Dear TITI  I love you the most in this whole UNIVERSE ⭐️\n",
      "\n",
      "Subscribe amp Get Ready for BT21 UNIVERSE ANIMATION\n",
      "👉 httpstconQw5KOZWwL\n",
      "\n",
      "ChildhoodMemories TATA VAN BT21UNIVERSE ANIMATION \n",
      "MonthlyEpisode EP02 StayTuned August28th BT21 httpstco3BCiImkNDI Quick everyone\n",
      "DO THE CHIMMY‼️ 🎶\n",
      "\n",
      "CHIMMY Squad KOYA RJ SHOOKY MANG TATA COOKY VAN BT21 httpstcohGKkiGUSGX KOYA quietly whistling\n",
      "And the rest as they say was history 🎶\n",
      "\n",
      "Friendship Begins KOYA RJ TATA COOKY VAN BT21UNIVERSE BT21 httpstcosl1TJeQnIP MOYA in desperate need of attention\n",
      "The struggle is real 😱\n",
      "\n",
      "SelfClaimed Genius Pretentious MOYA KOYA VAN ChildhoodMemories BT21UNIVERSE BT21 httpstcoAtuU9oFFXg When presence is the best present 🎁💕\n",
      "⠀\n",
      "ValentinesDay VAN BT21 httpstcoYEerRsRESW Tweeting a bright and colorful painting a day Blue Iris was inspired by the colors in the Getty Van Gogh httpstcoZLBJKawhvC Thank you to The Hireco Group for delivering our first electric van We hope this is the first of many as the business continues to reach ambitious carbon footprint targets \n",
      "\n",
      "van electric travel electricvehicles httpstcoob1Qh8b6Gv Whats your Daily mission Whatever you do get it done with the versatile Iveco Daily Visit httpstcouYkBhtLyvB or call 0121 553 2737 for more info guest sherwood iveco van ivecodaily daily commercialvehicles fleet vehicles httpstcoDFDarSCzAz SALE ENDS TODAY The ATeam amp All TShirts 13 Masks6 teepublic  ⠀\n",
      "⠀\n",
      "httpstcoTMwKHZCuDg  ⠀\n",
      "⠀\n",
      "TheATeam ATeam MrT BABaracus GMC GMVandura van retro nostalgia ⠀\n",
      "tshirts masks stickers clothing facemask maskup httpstcoBuBDAbI65t\n",
      "cleaned:nan\n",
      "cleaned: Stephen Kings Other Vampire Story Looking at the other vampires that King has created over the years and exploring the themes within httpstco2a2mWyDeHN  Videos Horrorvideos Horror vampires nightflier httpstco4XL0wlVM92\n",
      "cleaned: North central Ohio plays part of national US Bicycle Route System expansion  Richland Source httpstco9RIak1SKZA LA Metro Transit LosAngeles Transportation UK faces shortage of chips and roast potatoes as floods in Europe ruin crops metro httpstcoorwIhs2KyJ world news agriculture farming inflation mkt Your company are Builders in Metro\n",
      "\n",
      "Then you should probably own this web address\n",
      "\n",
      "httpstcozXE0RQiFBM\n",
      "Bid now  Click Metro Accounting web address for sale now\n",
      "\n",
      "httpstcozllNTsrfeN\n",
      "Own it I wasn’t supposed to make it this far but here I am still standing strong  So who gone stop me huh\n",
      "\n",
      "metro \n",
      "motivation \n",
      "hard \n",
      "hardwork \n",
      "gym \n",
      "performance \n",
      "selfcare \n",
      "seethroughmyeyes  Dallas Texas httpstcoCrgAW1j6EH Metro Engineering Web Address\n",
      "\n",
      "For sale\n",
      "\n",
      "httpstcoy1MDa6nQrw\n",
      "Own it Click Todays Headlines – Streetsblog Los Angeles  Streetsblog Los Angeles httpstcotq4J8Id2tt LA Metro Transit LosAngeles Transportation Man accused of leaving firebombs in LA subway station  Houston Chronicle httpstcob5xkWZNyqU LA Metro Transit LosAngeles Transportation I wasn’t supposed to make it this far but here I am still standing strong  So who gone stop me huh\n",
      "\n",
      "metro \n",
      "motivation \n",
      "hard \n",
      "hardwork \n",
      "gym \n",
      "performance \n",
      "selfcare \n",
      "seethroughmyeyes  Dallas Texas httpstcoCrgAW1j6EH Butterfly conservation project on the Tyne amp Wear Metro httpstcoZmubF4E5Qz railway train metro butterfly Alexander large blackandwhite tags on taxis buses in subways metro in fashion capitals English fashiondesigner AlexanderMcQueen fashion graffiti streetart urbanart parismetro httpstcofVjudwvnHj httpstcojr8XRa2vD3 Incredible news Ontario 🎉 🇨🇦  \n",
      "Our Incredible™ plant based products  will soon be in 130 MetroOntario supermarkets IncredibleFood 💪🌱  \n",
      "\n",
      "Stay tuned for more info 👀\n",
      " \n",
      "Read more httpstcoA6RB8BQ9Yi\n",
      "\n",
      "NonGMO Plantbased vegan veganbusiness metro MetroOntario Delhi Metro update Tenders invited for electrification works for Krishna Park underground extension station of Phase4\n",
      "\n",
      "Read morehttpstcoKgf6bzRy6N\n",
      "\n",
      "OfficialDMRC\n",
      "\n",
      "dmrc delhimetro tender electrification underground phase4 stations project metro httpstcodOWebpmtN0 Is COVID over  I see grocery stores in DurhamRegion like Metro and FarmBoy have stopped disinfecting their shopping carts between user  Seem very premature again \n",
      "Minecraft building metro gaming producerlife httpstcoRhKo0ptjtc again \n",
      "Minecraft building metro gaming producerlife httpstcoRhKo0ptjtc Willington Dene viaduct metro railwaybridge httpstcoFgoxeRpmlL httpstcoGCmRQpXsH2 Driver docked for allegedly damaging signal pole in Lagos\n",
      "LagMetropolitan dangerousdriving wilfuldamage Lagos LagosMetropolitan LagMetro LagMet metro httpstcoP71AQ7DgZS UN sounds deafening warning on climate change\n",
      "LagMetropolitan IPCCCH climatechange globalwarming deafeningwarning global Nigeria Lagos LagosMetropolitan LagMetro LagMet metro httpstcowHyMBTB2dq UN sounds deafening warning on climate change\n",
      "LagMetropolitan IPCCCH climatechange globalwarming deafeningwarning global Nigeria Lagos LagosMetropolitan LagMetro LagMet metro httpstcowHyMBTB2dq Looking at all these cute back to school pictures of kids with no masks that go to school 20 minutes away from my kids who start tomorrow IN masks\n",
      "This is so freaking stupid JohnCooper4Nash 🙄 MetroSchools\n",
      "METRO NASHVILLE \n",
      "UNMASKOURCHILDREN French company Egis Rail has signed an agreement with the Belgrade city government to design the second metro line in the Serbian capital\n",
      "\n",
      "httpstcoebfgQadh7m\n",
      "\n",
      "railwaynews metro france httpstcom37Oue5g8e MetroMonday midlandtram recently completed the first concrete pour outside the newly opened Wolverhampton station to start work on the Metro line\n",
      "\n",
      "Read more httpstcoOBzfgIXpOR\n",
      "\n",
      "UrbanRail Alliance Midlands LightRail Tram WestMidlands Birmingham WMmetro httpstcolWS2GncYUK Lets KeepItRail 🚇🚄🚋 \n",
      "\n",
      "📝 This nugget of information below is from our World Metro Figures report from 2018 Discover the report and everything railrelated in our dedicated digizine here👉 httpstcoUEpM69e9sX\n",
      "\n",
      "Metro Railways httpstcoqwmfvF1XSH ZOG plantbased vegan ESG CSE organic sustainable innovation metro Zoglos Incredible Food Corp to List its New Product Line in Ontario with Leading Canadian Supermarket Chain Metr httpstcoiEQXEKYCg8\n",
      "cleaned: richardcrasta Dinesh DSouza types find blowing smoke is easier than facing the truth Especially when it comes on the heels of a rotten to the core Trump Presidency Obama offers a contrast of good governance vs Trumps zero accountability\n",
      "TrumpLied600KAmericansdied\n",
      "httpstcoNUJnFRMvkJ httpstcoEF1q3qdoON There’s really nothing like being stuck in gridlock for an hour in the middle of east bumfuck I’d like to imagine something quaint like a shepherd and his flock blocking our path but in reality some dumbass probably flipped his four wheeler My ★★★★ review of Gridlockd 1997 on letterboxd httpstcoFkrEA3B7hE Thorongil16 tomozCali If you ever get a chance Id recommend driving down the highway named after him A few Roseville Dems still hold his name in high honor \n",
      "httpstcoMgvleAFkuV FB memories 2015 Els friends have amp continue to be an amazing support to her siblings She was extremely worried how they’d cope when she was gone its been hell on Earth this past yr with pollution amp excessive gridlock once more Ella tried to prepare them but they were v young httpstcoaToV8gUGTS SquarePegDem ryanraysr If you listen I describe our effort to meet with Obama when he was telling the public hed welcome that  httpstcoQckXbgCnZ0 But he never seized on our offer to do so and gridlock was neither our goal nor the result 2016 and full control of our federal government was there are multiple police cars with lights and sirens trying to get through the gridlock on addison and it’s going as well as you’d expect TRAIN5POTT1NG la la land the legend of 1900 gridlock’d i think that counts although it’s more of a playlist also the way two of these are tim films Gridlock’d had Thandiewe Newton THE Tupac Shakur Lucy Liu Tim Roth… \n",
      "\n",
      "Legendary FB memories 2015 Els friends have amp continue to be an amazing support to her siblings She was extremely worried how they’d cope when she was gone its been hell on Earth this past yr with pollution amp excessive gridlock once more Ella tried to prepare them but they were v young httpstcoaToV8gUGTS FB memories 2015 Els friends have amp continue to be an amazing support to her siblings She was extremely worried how they’d cope when she was gone its been hell on Earth this past yr with pollution amp excessive gridlock once more Ella tried to prepare them but they were v young httpstcoaToV8gUGTS Im watching this movie called Gridlockd wit Tupac in it and i gotta question was he bisexual in this movie cuz this is strange And in another scene the white man was laying in his lap sleeping httpstcoedYCPpWeR9 FB memories 2015 Els friends have amp continue to be an amazing support to her siblings She was extremely worried how they’d cope when she was gone its been hell on Earth this past yr with pollution amp excessive gridlock once more Ella tried to prepare them but they were v young httpstcoaToV8gUGTS Evil Dave Chapelle had a nice gun in gridlock’d FB memories 2015 Els friends have amp continue to be an amazing support to her siblings She was extremely worried how they’d cope when she was gone its been hell on Earth this past yr with pollution amp excessive gridlock once more Ella tried to prepare them but they were v young httpstcoaToV8gUGTS FB memories 2015 Els friends have amp continue to be an amazing support to her siblings She was extremely worried how they’d cope when she was gone its been hell on Earth this past yr with pollution amp excessive gridlock once more Ella tried to prepare them but they were v young httpstcoaToV8gUGTS FB memories 2015 Els friends have amp continue to be an amazing support to her siblings She was extremely worried how they’d cope when she was gone its been hell on Earth this past yr with pollution amp excessive gridlock once more Ella tried to prepare them but they were v young httpstcoaToV8gUGTS mostlyh85078050 brocccolini NAllison89 Both D and R parties need to purge the libertarians that have infiltrated them making them both unreasonable Libertarians like gridlock they prefer government that can’t get anything done mthrlwd ewarren Nothing is happening because thats what Americans voted for half R half D gridlock\n",
      "If they vote D and things happen they will decide they dont like it and swing R felandath mehdirhasan ashishkjha jameshamblin Id argue 4way Stop Signs \n",
      "\n",
      " confusing protocol that no one follows\n",
      " leads to accidents where everybody is at fault\n",
      " accidents guaranteed to cause gridlock SquarePegDem ryanraysr If you listen I describe our effort to meet with Obama when he was telling the public hed welcome that  httpstcoQckXbgCnZ0 But he never seized on our offer to do so and gridlock was neither our goal nor the result 2016 and full control of our federal government was Soul Food\n",
      "Above The Rim\n",
      "Gridlock’d httpstcofpZteHCoDA BREAKING SENATE FINALLY BREAKS POLITICAL GRIDLOCK TO SCREW CRYPTO COMMUNITY 6727 Senate breaks filibuster on bipartisan infrastructure package Howd they get to yes Political negotiations are all about psychology strategy and pressure Read my four case studies with an intro by the great NormOrnstein httpstcoHPPi6N5QYY 6727 Senate breaks filibuster on bipartisan infrastructure package Howd they get to yes Political negotiations are all about psychology strategy and pressure Read my four case studies with an intro by the great NormOrnstein httpstcoHPPi6N5QYY\n",
      "cleaned:nan\n",
      "cleaned: Rainbow the Carolina Corn snake and his favourite MalaReignz jam Go get that Tropicana 🤌 tropicana malareignz badgirls httpstcoGMAYpJKRNz If Im not mistaken tomorrow is the day that series two of BadGirls drops on UKTVPlay 🎉🎉🎉 httpstcoP3gAprfBnt Thank God cos I just binged watched the rest of Series 1 yesterday amp then forgot Helen simonelahbib leaves us hanging after dumping Sean amp him burning his suit Obvs we know what happens but still it was 22 years ago amp I was only 23 them…ugh feel old 😂 badgirls HelenandNikki httpstcoqXOTan9Sp3 Rewatching BadGirls cant beat a bit of simonelahbib as Helen Second series of Bad girls starts tonight 😁 I must not binge watch them all tomorrow Badgirls Yeah that wasnt great\n",
      "\n",
      "My ★★ review of BadGirls on Letterboxd httpstcoEFbi8tkv6C Todays movie is BadGirls I hear its shit Lets see NowWatching DebraStephenson ethansgrumps liamdbergin ProstateUK macmillancancer Two VERY important charities 🙌\n",
      "\n",
      "Scary that BadGirls is the same age as me Mum thought I wouldnt be interested in it if I watched it Ive got into it purely because of your fantastic portrayal of ShellDockley Cant wait to watch Series 2 with Mum\n",
      "\n",
      "Tia 😊 x Shut the fuck up badGirls is god tier Guess who’s calling in sick tomorrow 🤷🏼‍♂️ httpstcoaytlRDs4Mh Nice surprise BadGirls on drama 🔥Bad Girls🔥\n",
      "photographs criminal girls badgirls httpstcouOIZvhlZX0 Commitments coming soon Couldn’t be prouder of this group of young ladies BadGirls we will always have a special place for the class of 2022 httpstcoYKzFSHasyk AlcockVicky Lucyspeed simonelahbib oliviadlima AdeleJJames mrjasondone gabbyglaister jenkinssue You are welcome Vickyloved you in BadGirls 😊😊 Watching BadGirls from the start Follow \n",
      "httpstcoE19zwxod30\n",
      "RT Follow Comment 🤍\n",
      "\n",
      "f4f FolloMe badgirls httpstcocUuUVyfI08 I heard you like bad girls Well I’m bad… at everything winks at you with both eyes badgirls badgirlsclub botheyes winkwink baddie badtothebone naughty naughtynancy httpstco4Z5VT5IKzG UKTVPlay dramachannel UKTV To answer our most popular question How do I get ticket to meet 12 actors from BadGirls we just reply with the website httpstco7fXqzzd3ZT \n",
      "\n",
      "This is a charity event for EBMemorialFund \n",
      "\n",
      "Any chance of a RT UKTVPlay dramachannel UKTV Absolutely loving that dramachannel are showing BadGirls from the beginning Helen amp Nikki 💜💔 DuncanLindsay I’m currently rewatching Wentworth on Amazon and just wanted your professional opinion…… badgirls or wentworth 🤔🤔 Jim Fenner in BadGirls still gets on my wick no matter how many times Ive seen the series Commitments coming soon Couldn’t be prouder of this group of young ladies BadGirls we will always have a special place for the class of 2022 httpstcoYKzFSHasyk Commitments coming soon Couldn’t be prouder of this group of young ladies BadGirls we will always have a special place for the class of 2022 httpstcoYKzFSHasyk And the Bestseller flag is back Woo Hoo BadGirls boldwoodbooks httpstcoVmnuFYc1ER Nickyfar dramachannel SallyDexterUK beckawheatley BadGirlsTVShow It’s brilliant Absolutely Love BadGirlsTVShow   \n",
      "\n",
      "BaddestAndTheBest FirstLady ShellDockley SnowballMerriman BadGirls Any BadGirls fans why has Sylvia got the nickname “bodybag”  dramachannel\n",
      "cleaned: Giveaway 1000 🎁 5 days\n",
      "\n",
      "🔥 Retweet amp Follow Yearnblink \n",
      "🔥 Join TG httpstcozmpnt4d2sA  Post Proof\n",
      "\n",
      "BLINK DeFI AI\n",
      "\n",
      "𝓦 httpstcorBV5Nn0Twy 2 PRETTY BESTFRIENDS\n",
      "\n",
      "MCBamBamSimplyCONTOUR \n",
      "Bambam Lisa Bamlisa Blackpink Got7 Blink Ahgase Gotpink Kpop httpstcoLoS2TQ6JM1 Giveaway 1000 🎁 5 days\n",
      "\n",
      "🔥 Retweet amp Follow Yearnblink \n",
      "🔥 Join TG httpstcozmpnt4d2sA  Post Proof\n",
      "\n",
      "BLINK DeFI AI\n",
      "\n",
      "𝓦 httpstcorBV5Nn0Twy Giveaway 1000 🎁 5 days\n",
      "\n",
      "🔥 Retweet amp Follow Yearnblink \n",
      "🔥 Join TG httpstcozmpnt4d2sA  Post Proof\n",
      "\n",
      "BLINK DeFI AI\n",
      "\n",
      "𝓦 httpstcorBV5Nn0Twy Giveaway 1000 🎁 5 days\n",
      "\n",
      "🔥 Retweet amp Follow Yearnblink \n",
      "🔥 Join TG httpstcozmpnt4d2sA  Post Proof\n",
      "\n",
      "BLINK DeFI AI\n",
      "\n",
      "𝓦 httpstcorBV5Nn0Twy Giveaway 1000 🎁 5 days\n",
      "\n",
      "🔥 Retweet amp Follow Yearnblink \n",
      "🔥 Join TG httpstcozmpnt4d2sA  Post Proof\n",
      "\n",
      "BLINK DeFI AI\n",
      "\n",
      "𝓦 httpstcorBV5Nn0Twy BLACKPINK is celebrating their 5th anniversary with How You Like That Dance Performance Video 800M views and Jennie ‘SOLO’ MV 700M views on YouTube  \n",
      "📸 ZEPETOBP\n",
      "\n",
      "BlackPink 블렉핑크 JENNIE 제니 JISOO 지수 ROSE 로제 LISA 리사 Blink SOLO MV YG RoroSocial httpstcozUl5Mt2Mdc 🖤 HAPPY BLACKPINK5thANNIVERSARY 💗\n",
      "\n",
      "Jazz one of the BLINK from the Philippines shared her thoughts on how BLACKPINK encouraged her to join climaterelated campaigns🌎\n",
      "\n",
      "As a BLINK she will fully support ygentofficial if they are taking more advanced climateaction✊🏼 httpstcohJ4TxzMXku Not really chatty here Been pretty busy working on a tiny BLACKPINK project BLINK BLACKPINK httpstcowcrsjvpoHj Giveaway 1000 🎁 5 days\n",
      "\n",
      "🔥 Retweet amp Follow Yearnblink \n",
      "🔥 Join TG httpstcozmpnt4d2sA  Post Proof\n",
      "\n",
      "BLINK DeFI AI\n",
      "\n",
      "𝓦 httpstcorBV5Nn0Twy There’s so much you can do w WIN\n",
      "\n",
      "🔥 Stake to earn a daily share of Wink’s revenue\n",
      "🔥 Trade it\n",
      "🔥 Lend on httpstcoytxsxl0sSc\n",
      "🔥 Farm CAKE on Pancakeswap\n",
      "🔥 Century mining on httpstcotXoegOfOkU\n",
      "🔥 Play on httpstcoQHGjCIu7mm\n",
      "\n",
      "WINKLINK WIN BLK Tron BSC BLINK httpstcojae5TkgHyp Giveaway 1000 🎁 5 days\n",
      "\n",
      "🔥 Retweet amp Follow Yearnblink \n",
      "🔥 Join TG httpstcozmpnt4d2sA  Post Proof\n",
      "\n",
      "BLINK DeFI AI\n",
      "\n",
      "𝓦 httpstcorBV5Nn0Twy Giveaway 1000 🎁 5 days\n",
      "\n",
      "🔥 Retweet amp Follow Yearnblink \n",
      "🔥 Join TG httpstcozmpnt4d2sA  Post Proof\n",
      "\n",
      "BLINK DeFI AI\n",
      "\n",
      "𝓦 httpstcorBV5Nn0Twy Giveaway 1000 🎁 5 days\n",
      "\n",
      "🔥 Retweet amp Follow Yearnblink \n",
      "🔥 Join TG httpstcozmpnt4d2sA  Post Proof\n",
      "\n",
      "BLINK DeFI AI\n",
      "\n",
      "𝓦 httpstcorBV5Nn0Twy Giveaway 1000 🎁 5 days\n",
      "\n",
      "🔥 Retweet amp Follow Yearnblink \n",
      "🔥 Join TG httpstcozmpnt4d2sA  Post Proof\n",
      "\n",
      "BLINK DeFI AI\n",
      "\n",
      "𝓦 httpstcorBV5Nn0Twy 🖤 HAPPY BLACKPINK5thANNIVERSARY 💗\n",
      "\n",
      "Jazz one of the BLINK from the Philippines shared her thoughts on how BLACKPINK encouraged her to join climaterelated campaigns🌎\n",
      "\n",
      "As a BLINK she will fully support ygentofficial if they are taking more advanced climateaction✊🏼 httpstcohJ4TxzMXku Giveaway 1000 🎁 5 days\n",
      "\n",
      "🔥 Retweet amp Follow Yearnblink \n",
      "🔥 Join TG httpstcozmpnt4d2sA  Post Proof\n",
      "\n",
      "BLINK DeFI AI\n",
      "\n",
      "𝓦 httpstcorBV5Nn0Twy Giveaway 1000 🎁 5 days\n",
      "\n",
      "🔥 Retweet amp Follow Yearnblink \n",
      "🔥 Join TG httpstcozmpnt4d2sA  Post Proof\n",
      "\n",
      "BLINK DeFI AI\n",
      "\n",
      "𝓦 httpstcorBV5Nn0Twy Giveaway 1000 🎁 5 days\n",
      "\n",
      "🔥 Retweet amp Follow Yearnblink \n",
      "🔥 Join TG httpstcozmpnt4d2sA  Post Proof\n",
      "\n",
      "BLINK DeFI AI\n",
      "\n",
      "𝓦 httpstcorBV5Nn0Twy Giveaway 1000 🎁 5 days\n",
      "\n",
      "🔥 Retweet amp Follow Yearnblink \n",
      "🔥 Join TG httpstcozmpnt4d2sA  Post Proof\n",
      "\n",
      "BLINK DeFI AI\n",
      "\n",
      "𝓦 httpstcorBV5Nn0Twy Giveaway 1000 🎁 5 days\n",
      "\n",
      "🔥 Retweet amp Follow Yearnblink \n",
      "🔥 Join TG httpstcozmpnt4d2sA  Post Proof\n",
      "\n",
      "BLINK DeFI AI\n",
      "\n",
      "𝓦 httpstcorBV5Nn0Twy Giveaway 1000 🎁 5 days\n",
      "\n",
      "🔥 Retweet amp Follow Yearnblink \n",
      "🔥 Join TG httpstcozmpnt4d2sA  Post Proof\n",
      "\n",
      "BLINK DeFI AI\n",
      "\n",
      "𝓦 httpstcorBV5Nn0Twy Giveaway 1000 🎁 5 days\n",
      "\n",
      "🔥 Retweet amp Follow Yearnblink \n",
      "🔥 Join TG httpstcozmpnt4d2sA  Post Proof\n",
      "\n",
      "BLINK DeFI AI\n",
      "\n",
      "𝓦 httpstcorBV5Nn0Twy Giveaway 1000 🎁 5 days\n",
      "\n",
      "🔥 Retweet amp Follow Yearnblink \n",
      "🔥 Join TG httpstcozmpnt4d2sA  Post Proof\n",
      "\n",
      "BLINK DeFI AI\n",
      "\n",
      "𝓦 httpstcorBV5Nn0Twy Giveaway 1000 🎁 5 days\n",
      "\n",
      "🔥 Retweet amp Follow Yearnblink \n",
      "🔥 Join TG httpstcozmpnt4d2sA  Post Proof\n",
      "\n",
      "BLINK DeFI AI\n",
      "\n",
      "𝓦 httpstcorBV5Nn0Twy\n",
      "cleaned: PREORDER\n",
      "\n",
      "ForLoveOrMoney from KinoLorber is now available to preorder on Amazon\n",
      "\n",
      "httpstcozkBbDSGh5t\n",
      "\n",
      "BluRay PhysicalMedia BluRays BluRayCollectors Collecting Collectors CultMovies BluRayJunkie HorrorObsessed MichaelJFox Kino KinoLorber\n",
      "cleaned:nan\n",
      "cleaned:nan\n",
      "cleaned:nan\n",
      "cleaned:nan\n",
      "cleaned: Watching  Gone Fishin  Directors Cut  mrdannyglover JoePesci  GoneFishin Official Hilarious  httpstcohvai20LgN4 Ya boi be out here 💪🏽🎣 GoneFishin httpstco4sPAheJpX2 Views through the windshield Some cool ass clouds out there today\n",
      "fishboarder360 gonefishin exploreoregon keeporegongreen centraloregon fjcruiser httpstco64cKSWwhUf Arguably one of the best kitchen designers in the biz Congratulations Jeff on your retirement  Mighty Mifflin Forever 🧡 GoneFishin SteelCitySquad WMHomeDepot MightyMifflinSpecialty Millaya VanessaTHD170 httpstcoANeAhFBvta gonefishin at the rivers of Gridania Needed some zen… found it ✌️❤️ 🎣 \n",
      "peace love gonefishin gigharborwa gigharborlife gigharbor  Maritime Pier Gig Harbor Wa httpstcoeO3PENKyX2 Arguably one of the best kitchen designers in the biz Congratulations Jeff on your retirement  Mighty Mifflin Forever 🧡 GoneFishin SteelCitySquad WMHomeDepot MightyMifflinSpecialty Millaya VanessaTHD170 httpstcoANeAhFBvta The day we’ve been waiting months for…a muchneeded VACATION See you in a couple weeks gonefishin httpstcoUs5hNohQyq Fish fry tomorrow Caught some bigguns⚜️👑⚜️\n",
      "fish fry gonefishin GeauxRegals httpstcoMNIIcCjnfd Fish fry tomorrow Caught some bigguns⚜️👑⚜️\n",
      "fish fry gonefishin GeauxRegals httpstcoMNIIcCjnfd Looking like somebody’s dad gonefishin🎣😎 httpstcolDmiiEHjSe Looking like somebody’s dad gonefishin🎣😎 httpstcolDmiiEHjSe Hey CityKidz Are you looking to try something new this summer  Have you ever been fishing This week you can join Eveliina as she swaps fish stories with two of our very special CityKidz friends\n",
      "GoneFishin CityKidz\n",
      "httpstcopYvqrKmh2v Summertime Mississippi 1930sFarm Security Administration photo by Marion Post Wolcott summertime FSA Mississippi gonefishin httpstcoO1ccJun3z7 This Guy had a Great Time yesterday More to come \n",
      "\n",
      "TheGhettoMeterologistOnVacation continues\n",
      "\n",
      "GoneFishin 😎🎣  Disneyland httpstcoqh9078vVXA Season 14 cwspn and in love with Jack… Alex8Calvert teehee 🥰😍😊SPNFamily JensenAckles jarpad mishacollins gonefishin tbtduluth bentpaddlebeer Thanks for the beer and the cardboard It’s been a productive morning so far GoneFishin PaddleResponsibly WalleyeTacos TacoTuesday httpstcoevLrZhRZRM gonefishin on the lake in Mor Dhona gonefishin at the rivers of Gridania GoneFishin🎣 but still sad 🥲💔⚾️ miss you MaxScherzer httpstcopk6eMUMDaU Off to Alaska tomorrow gonefishin Was too sad to go Fishin yesterday Was told it’s exactly what I need to feel better I cried and said no I want Max back 🥲💔⚾️ that’s not happening so I’m gonefishin 🎣 Blue skies \n",
      "\n",
      "frenchriver lakenipissing gonefishin  Dokis First Nation httpstcodfIrbi1Oa9\n",
      "cleaned: JenniferLopez looked pretty in a ElieSaab Fall 2021 dress with BrokenEnglish jewelry More on the blog link in bio tapforcredits fashion runway celebrityfashion celebritystyle TheFashionistaStories\n",
      "httpstcohBL4BBj6gM\n",
      "cleaned:nan\n",
      "cleaned:nan\n",
      "cleaned: peacockTV might we one day see TrialAndError in the lineup rscottelder amp I will say LadyDriver and laugh until we faint of Stendhal’s I need to show my younger kids why this is so funny\n",
      "faceblindness EastPeck sherrieshepherd JohnLithgow KChenoweth nicholasdagosto Different types of sensor used in Robotics Experimentation Research TrialandError CorrelationvsCausation Physics jamaica Jamaican httpstco9etKMwiD0q Theory of Everything Possible but Elusive Einstein and Schrodinger failed to unify Gravity to make it work Experimentation Research TrialandError CorrelationvsCausation Physics jamaica Jamaican httpstcoMFmphaaBvT If you arent living life on the edge you arent doing it right 😉 AttackLife TrialAndError Limitless LoveMyLife EverySummerHasAStory Hiking Cardio OutdoorFitness MadeToMove ↟💜🌲🥾☀️↟ httpstcoPXjRGNb7fD Reward success AND failure\n",
      "\n",
      "effort trialanderror motivation goforit NeverGiveUp this might be look reckless but serious \n",
      "trialanderror Trial and error Learning process can be sometimes frustrating but also vital and enjoyable Every step is so important\n",
      "\n",
      "feltflorist makerslife trialanderror  Kenley United Kingdom httpstcoAsVYjsofcv The idea of TrialAndError used to be a tricky subject in education circles Now during pandemic times it has become part of the process whether we like it or not MarketScale spoke with AlKingsleyEdu on the necessity of risk in EdTech innovation httpstcoeorJKrL1Ne httpstcoG5i4qruOoI The idea of TrialAndError used to be a tricky subject in education circles Now during pandemic times it has become part of the process whether we like it or not MarketScale spoke with AlKingsleyEdu on the necessity of risk in EdTech innovation httpstcoeorJKrL1Ne httpstcoG5i4qruOoI The idea of TrialAndError used to be a tricky subject in education circles Now during pandemic times it has become part of the process whether we like it or not MarketScale spoke with AlKingsleyEdu on the necessity of risk in EdTech innovation httpstcoeorJKrL1Ne httpstcoG5i4qruOoI The idea of TrialAndError used to be a tricky subject in education circles Now during pandemic times it has become part of the process whether we like it or not MarketScale spoke with AlKingsleyEdu on the necessity of risk in EdTech innovation httpstcoeorJKrL1Ne httpstcoG5i4qruOoI EccentricMan Thank you I went for the ‘less is more’ approach as the reds and blues are a bit more contrasted with inks So Vallejo light grey and white highlight no ink TrialAndError HaplessBumbling 😜 If you arent living life on the edge you arent doing it right 😉 AttackLife TrialAndError Limitless LoveMyLife EverySummerHasAStory Hiking Cardio OutdoorFitness MadeToMove ↟💜🌲🥾☀️↟ httpstcoPXjRGNb7fD If you arent living life on the edge you arent doing it right 😉 AttackLife TrialAndError Limitless LoveMyLife EverySummerHasAStory Hiking Cardio OutdoorFitness MadeToMove ↟💜🌲🥾☀️↟ httpstcoPXjRGNb7fD TelevisionAcad DeadlineDominic JohnLithgow TheCrownNetflix SHODexter As a kid he was the guy from Harry and the Hendersons but I’ve gotten so many laughs out of NBC’s TrialAndError that it’s now the first thing that comes to mind He was perfect Nobody creates a great resume the first time This can be broadened to the sense that nobody achieves success on their first try Success is earned through trial and error and learning from past mistakes\n",
      "Success TrialAndError GlennAndrew httpstcoXESEfVcL6C Profound simplicity yes God \n",
      "maryssoulspacecom LoveHeals TrialandError Spiritualpoetry httpstcoxnlJy3EekR Profound simplicity yes God \n",
      "maryssoulspacecom LoveHeals TrialandError Spiritualpoetry httpstcoxnlJy3EekR If you arent living life on the edge you arent doing it right 😉 AttackLife TrialAndError Limitless LoveMyLife EverySummerHasAStory Hiking Cardio OutdoorFitness MadeToMove ↟💜🌲🥾☀️↟ httpstcoPXjRGNb7fD Can never nap properly before nights always very broken Today Im going to attemptn2 shorter naoslay downs instead of one longer one in the hope that is makes me feel as though Ive rested more 😅 nightshift trialanderror God morning beautiful souls wake up and be free that’s all maryssoulspace LoveHeals TrialandError spiritualpoetryforthesoul God morning beautiful souls wake up and be free that’s all maryssoulspace LoveHeals TrialandError spiritualpoetryforthesoul I messed up the amber ale recipe 3 times now so B had to step in His recipe is fantastic pizzabeerhappy trialanderror  Als Of Hampden httpstcoETk5pjqQg7 My issue with trialanderror is that you can sometimes try so often and err equally that when what you were attempting to fix gets fixed you dont know how it got done God morning beautiful souls it’s a beautiful day to do your personal best maryssoulspacecom LoveHeals TrialandErroramazoncom Spiritualupliftingpoetry 💖\n",
      "cleaned: So Kababjees have a Partner now following soon by PieInTheSky Delizia Suaad Mehmood KhalidSweets RehmateShireen amp RizwanSweets are joining them soon \n",
      "Need Invoice for Continental BlueRibbon amp Hobnob if anyone can Chip in would be appreciated TaxChoriBandKaru httpstcolIrOilor4u So Kababjees have a Partner now following soon by PieInTheSky Delizia Suaad Mehmood KhalidSweets RehmateShireen amp RizwanSweets are joining them soon \n",
      "Need Invoice for Continental BlueRibbon amp Hobnob if anyone can Chip in would be appreciated TaxChoriBandKaru httpstcolIrOilor4u So Kababjees have a Partner now following soon by PieInTheSky Delizia Suaad Mehmood KhalidSweets RehmateShireen amp RizwanSweets are joining them soon \n",
      "Need Invoice for Continental BlueRibbon amp Hobnob if anyone can Chip in would be appreciated TaxChoriBandKaru httpstcolIrOilor4u So Kababjees have a Partner now following soon by PieInTheSky Delizia Suaad Mehmood KhalidSweets RehmateShireen amp RizwanSweets are joining them soon \n",
      "Need Invoice for Continental BlueRibbon amp Hobnob if anyone can Chip in would be appreciated TaxChoriBandKaru httpstcolIrOilor4u So Kababjees have a Partner now following soon by PieInTheSky Delizia Suaad Mehmood KhalidSweets RehmateShireen amp RizwanSweets are joining them soon \n",
      "Need Invoice for Continental BlueRibbon amp Hobnob if anyone can Chip in would be appreciated TaxChoriBandKaru httpstcolIrOilor4u So Kababjees have a Partner now following soon by PieInTheSky Delizia Suaad Mehmood KhalidSweets RehmateShireen amp RizwanSweets are joining them soon \n",
      "Need Invoice for Continental BlueRibbon amp Hobnob if anyone can Chip in would be appreciated TaxChoriBandKaru httpstcolIrOilor4u So Kababjees have a Partner now following soon by PieInTheSky Delizia Suaad Mehmood KhalidSweets RehmateShireen amp RizwanSweets are joining them soon \n",
      "Need Invoice for Continental BlueRibbon amp Hobnob if anyone can Chip in would be appreciated TaxChoriBandKaru httpstcolIrOilor4u So Kababjees have a Partner now following soon by PieInTheSky Delizia Suaad Mehmood KhalidSweets RehmateShireen amp RizwanSweets are joining them soon \n",
      "Need Invoice for Continental BlueRibbon amp Hobnob if anyone can Chip in would be appreciated TaxChoriBandKaru httpstcolIrOilor4u So Kababjees have a Partner now following soon by PieInTheSky Delizia Suaad Mehmood KhalidSweets RehmateShireen amp RizwanSweets are joining them soon \n",
      "Need Invoice for Continental BlueRibbon amp Hobnob if anyone can Chip in would be appreciated TaxChoriBandKaru httpstcolIrOilor4u Congrats team PITS  ❤️\n",
      "\n",
      "💰 httpstcorc23iPonjP\n",
      " httpstcofzRHKxSe26\n",
      "\n",
      "✅✅✅✅✅✅✅✅\n",
      "👀👀👀👀👀👀👀👀\n",
      "\n",
      "PITS BSCscan ❤️ PIEINTHESKY TOTHEMOON httpstconMXgoJpjpp More PieInTheSky from erinotoole and the CPCHQ httpstcoulrSfix2FL More PieInTheSky from erinotoole and the CPCHQ httpstcoulrSfix2FL Congrats team PITS  ❤️\n",
      "\n",
      "💰 httpstcorc23iPonjP\n",
      " httpstcofzRHKxSe26\n",
      "\n",
      "✅✅✅✅✅✅✅✅\n",
      "👀👀👀👀👀👀👀👀\n",
      "\n",
      "PITS BSCscan ❤️ PIEINTHESKY TOTHEMOON httpstconMXgoJpjpp Congrats team PITS  ❤️\n",
      "\n",
      "💰 httpstcorc23iPonjP\n",
      " httpstcofzRHKxSe26\n",
      "\n",
      "✅✅✅✅✅✅✅✅\n",
      "👀👀👀👀👀👀👀👀\n",
      "\n",
      "PITS BSCscan ❤️ PIEINTHESKY TOTHEMOON httpstconMXgoJpjpp Congrats team PITS  ❤️\n",
      "\n",
      "💰 httpstcorc23iPonjP\n",
      " httpstcofzRHKxSe26\n",
      "\n",
      "✅✅✅✅✅✅✅✅\n",
      "👀👀👀👀👀👀👀👀\n",
      "\n",
      "PITS BSCscan ❤️ PIEINTHESKY TOTHEMOON httpstconMXgoJpjpp Congrats team PITS  ❤️\n",
      "\n",
      "💰 httpstcorc23iPonjP\n",
      " httpstcofzRHKxSe26\n",
      "\n",
      "✅✅✅✅✅✅✅✅\n",
      "👀👀👀👀👀👀👀👀\n",
      "\n",
      "PITS BSCscan ❤️ PIEINTHESKY TOTHEMOON httpstconMXgoJpjpp Congrats team PITS  ❤️\n",
      "\n",
      "💰 httpstcorc23iPonjP\n",
      " httpstcofzRHKxSe26\n",
      "\n",
      "✅✅✅✅✅✅✅✅\n",
      "👀👀👀👀👀👀👀👀\n",
      "\n",
      "PITS BSCscan ❤️ PIEINTHESKY TOTHEMOON httpstconMXgoJpjpp Congrats team PITS  ❤️\n",
      "\n",
      "💰 httpstcorc23iPonjP\n",
      " httpstcofzRHKxSe26\n",
      "\n",
      "✅✅✅✅✅✅✅✅\n",
      "👀👀👀👀👀👀👀👀\n",
      "\n",
      "PITS BSCscan ❤️ PIEINTHESKY TOTHEMOON httpstconMXgoJpjpp Congrats team PITS  ❤️\n",
      "\n",
      "💰 httpstcorc23iPonjP\n",
      " httpstcofzRHKxSe26\n",
      "\n",
      "✅✅✅✅✅✅✅✅\n",
      "👀👀👀👀👀👀👀👀\n",
      "\n",
      "PITS BSCscan ❤️ PIEINTHESKY TOTHEMOON httpstconMXgoJpjpp Congrats team PITS  ❤️\n",
      "\n",
      "💰 httpstcorc23iPonjP\n",
      " httpstcofzRHKxSe26\n",
      "\n",
      "✅✅✅✅✅✅✅✅\n",
      "👀👀👀👀👀👀👀👀\n",
      "\n",
      "PITS BSCscan ❤️ PIEINTHESKY TOTHEMOON httpstconMXgoJpjpp Congrats team PITS  ❤️\n",
      "\n",
      "💰 httpstcorc23iPonjP\n",
      " httpstcofzRHKxSe26\n",
      "\n",
      "✅✅✅✅✅✅✅✅\n",
      "👀👀👀👀👀👀👀👀\n",
      "\n",
      "PITS BSCscan ❤️ PIEINTHESKY TOTHEMOON httpstconMXgoJpjpp Congrats team PITS  ❤️\n",
      "\n",
      "💰 httpstcorc23iPonjP\n",
      " httpstcofzRHKxSe26\n",
      "\n",
      "✅✅✅✅✅✅✅✅\n",
      "👀👀👀👀👀👀👀👀\n",
      "\n",
      "PITS BSCscan ❤️ PIEINTHESKY TOTHEMOON httpstconMXgoJpjpp Congrats team PITS  ❤️\n",
      "\n",
      "💰 httpstcorc23iPonjP\n",
      " httpstcofzRHKxSe26\n",
      "\n",
      "✅✅✅✅✅✅✅✅\n",
      "👀👀👀👀👀👀👀👀\n",
      "\n",
      "PITS BSCscan ❤️ PIEINTHESKY TOTHEMOON httpstconMXgoJpjpp Congrats team PITS  ❤️\n",
      "\n",
      "💰 httpstcorc23iPonjP\n",
      " httpstcofzRHKxSe26\n",
      "\n",
      "✅✅✅✅✅✅✅✅\n",
      "👀👀👀👀👀👀👀👀\n",
      "\n",
      "PITS BSCscan ❤️ PIEINTHESKY TOTHEMOON httpstconMXgoJpjpp In honor of \n",
      "elonmusk\n",
      " 50th Birthday we present to you Elon Musk HODL BLAST OFF  There will be an unlockable Telegram link to use which will help keep information secure BNB ETH BinanceSmartChain PITS PIEinTHEsky NFTcollector NFTs ART\n",
      "\n",
      "httpstcoyc1bFho4uD httpstcoRD8uSSGIyE\n",
      "cleaned: moon eclipse in first days of August   Mooneclipse Eclipse Totaleclipse Moonlight Landscape Nightview Nature Outdoors Flare Light Night Moon Astronomy OuterSpace Universe Space httpstcorJOWvKOWEL A message from EXO PLANET \n",
      "EXO ThePowerofMusic TotalEclipse httpstcoAt92qXN4Mn moon eclipse in first days of August   Mooneclipse Eclipse Totaleclipse Moonlight Landscape Nightview Nature Outdoors Flare Light Night Moon Astronomy OuterSpace Universe Space httpstcorJOWvKOWEL moon eclipse in first days of August   Mooneclipse Eclipse Totaleclipse Moonlight Landscape Nightview Nature Outdoors Flare Light Night Moon Astronomy OuterSpace Universe Space httpstcorJOWvKOWEL moon eclipse in first days of August   Mooneclipse Eclipse Totaleclipse Moonlight Landscape Nightview Nature Outdoors Flare Light Night Moon Astronomy OuterSpace Universe Space httpstcorJOWvKOWEL moon eclipse in first days of August   Mooneclipse Eclipse Totaleclipse Moonlight Landscape Nightview Nature Outdoors Flare Light Night Moon Astronomy OuterSpace Universe Space httpstcorJOWvKOWEL Johnny Orlando  Piece Of My Heart Live At INRO Virtual World Tour 2020 httpstco5eBeIbMZNr via YouTube\n",
      "\n",
      "Here Is A YouTubeTwitterMVJ Premiere Music Video From brat TotalEclipse johnnyorlando \n",
      "\n",
      "Get His Music From Spotify amazonmusic \n",
      "\n",
      "WasteMyTime\n",
      "WhatIf \n",
      "\n",
      "amp More Johnny Orlando  Piece Of My Heart Live At INRO Virtual World Tour 2020 httpstco5eBeIbMZNr via YouTube\n",
      "\n",
      "Here Is A YouTubeTwitterMVJ Premiere Music Video From brat TotalEclipse johnnyorlando \n",
      "\n",
      "Get His Music From Spotify amazonmusic \n",
      "\n",
      "WasteMyTime\n",
      "WhatIf \n",
      "\n",
      "amp More\n",
      "cleaned:nan\n",
      "cleaned:nan\n",
      "cleaned: Gwen always comes back to Alex at the perfect timewhen he needs her most\n",
      "GwenFoxFire AlexFoxFire\n",
      "FoxFire Family Ties\n",
      "TheClaimedSaga continues\n",
      "Amazon httpstcoqY4UELbITi\n",
      "Barnes amp Nobles httpstco97vyVwCRiq\n",
      "iBooks httpstco7cTtvFoJmT\n",
      "FoxFirePub JHDeMond httpstco5Odjfdw9p9 A sibling rivalry can only occur if they see you as competition GwenFoxFire GavinFoxFire doesnt\n",
      "FoxFire The Kitsune\n",
      "TheClaimedSaga started here\n",
      "Amazon httpstcokC3s5MxpNu\n",
      "Barnes amp Noble httpstcocB45r3gcof\n",
      "iBook httpstcovhZ2KjQQkp\n",
      "FoxFirePub JHDeMond httpstco5Lvf1UNEOG Cyber Jungle has begun as a Testlevel  soon we found out that this level has Potential and fits perfect into the Story Foxfire game steam pcgame gamedeveloper gamedevelopment gameconsole psn switch nintendoswitch ps4 pc platformer jumpnrun fox vectorgame furry httpstcow2hwcb9iJk EzriValtin Yea several in notyet published works Also the big bads at the end of FieryWitch The Cursed Brothers amp FoxFire Family Ties are 1 of the 3 in OlympusAwakening Gods Among Us is too WritingCommunity amwriting amwritingfantasy YAFantasy FoxFirePub JHDeMond Tonight at 7pm\n",
      "Make your reservations and come in out for some dinner and music\n",
      "Both are pretty damn good\n",
      "\n",
      "bigdogmercer bluesbandforhire blueshalloffame chicagobluesandrock chicagoblues foxfire httpstcolwhvILI6tN Just in case you were wondering the HuskyBuzzell zedrun stable now includes FoxFire EasyGoing TheAlphaAndOmega and GinSmokeLies  Two Fillys and Two Coltsso the breeding and naming is going to be a blast 95star Kitsune Skinwalkers Vampires Wolves Witches Daemons amp Fae collide in the mounting battle caused by En Quosque’s attempts to revive their evil demigod master \n",
      "TheClaimedSaga FoxFire MidnightPrincess amp FieryWitch\n",
      "Amazon httpstcoQAJvwNwZZP httpstco1xl1LIMrTu Check out Vintage 80’s Foxfire by Hirsch Weiss Puffy Ski Vest Size XL RedWhiteBlue  Foxfire httpstcozMDL2WjGc6 via eBay Foxfire Book If you ever wanted to know how to make moonshine dress a hog or build a log cabin this book is for you foxfire  httpstcoDUlIwW2HAu Is someone trying to leave Alex behind Gwen I cant imagine why\n",
      "GwenFoxFire AlexFoxFire\n",
      "FoxFire Reigning Sun\n",
      "TheClaimedSaga continues\n",
      "Amazon httpstcokep4MWtTON\n",
      "Barnes amp Noble httpstco6nEMG1r3gK\n",
      "FoxFirePub JHDeMond TheTJBerry httpstcodgGcC9hVIJ Gwen is a fierce defender of her loved onesnow who was in Meghans bedroomamp why\n",
      "GwenFoxFire FoxFire Family Ties\n",
      "TheClaimedSaga continues\n",
      "Amazon httpstcoqY4UELbITi\n",
      "Barnes amp Nobles httpstco97vyVwCRiq\n",
      "iBooks httpstco7cTtvFoJmT\n",
      "FoxFirePub JHDeMond httpstcolNXM6ZA5tU TheClaimedSaga FoxFire MidnightPrincess amp FieryWitch Amazon httpstcoQAJvwNwZZP\n",
      "OlympusAwakening \n",
      "   Gods Among Us Amazon httpstcoOrYSzwC4vF\n",
      "   The Queen Olympian Amazon httpstcohOJBdIStHU\n",
      "Ashcroft Amazon httpstcoZFtCbZRLm4 httpstcozu7l3RPMsR Hard to believe Gwens friendship with Meghan started with what she thought was a sarcastic comment\n",
      "GwenFoxFire FoxFire The Kitsune\n",
      "TheClaimedSaga started here\n",
      "Amazon httpstcokC3s5MxpNu\n",
      "BampN httpstcocB45r3gcof\n",
      "iBook httpstcovhZ2KjQQkp\n",
      "FoxFirePub JHDeMond httpstcoKI3WeoGXQm Matt33237989 blink69e Kitsune Skinwalkers Vampires Wolves Witches Daemons amp Fae collide in the mounting battle caused by En Quosque’s attempts to revive their evil demigod master \n",
      "TheClaimedSaga FoxFire MidnightPrincess amp FieryWitch\n",
      "Amazon httpstcoQAJvwNwZZP\n",
      "FoxFirePub JHDeMond TheClaimedSaga FoxFire MidnightPrincess amp FieryWitch Amazon httpstcoQAJvwNwZZP\n",
      "OlympusAwakening \n",
      "   Gods Among Us Amazon httpstcoOrYSzwC4vF\n",
      "   The Queen Olympian Amazon httpstcohOJBdIStHU\n",
      "Ashcroft Amazon httpstcoZFtCbZRLm4 httpstcozu7l3RPMsR TheClaimedSaga FoxFire MidnightPrincess amp FieryWitch Amazon httpstcoQAJvwNwZZP\n",
      "OlympusAwakening \n",
      "   Gods Among Us Amazon httpstcoOrYSzwC4vF\n",
      "   The Queen Olympian Amazon httpstcohOJBdIStHU\n",
      "Ashcroft Amazon httpstcoZFtCbZRLm4 httpstcozu7l3RPMsR Matt33237989 blink69e Kitsune Skinwalkers Vampires Wolves Witches Daemons amp Fae collide in the mounting battle caused by En Quosque’s attempts to revive their evil demigod master \n",
      "TheClaimedSaga FoxFire MidnightPrincess amp FieryWitch\n",
      "Amazon httpstcoQAJvwNwZZP\n",
      "FoxFirePub JHDeMond NuttlyR Kitsune Skinwalkers Vampires Wolves Witches Daemons amp Fae collide in the mounting battle caused by En Quosque’s attempts to revive their evil demigod master TheClaimedSaga FoxFire MidnightPrincess amp FieryWitch \n",
      "Amazon httpstcoQAJvwNwZZP\n",
      "FoxFirePub JHDeMond AuthorZeph rtArtBoost WritingRobot Kitsune Skinwalkers Vampires Wolves Witches Daemons amp Fae collide in the mounting battle caused by En Quosque’s attempts to revive their evil demigod master \n",
      "TheClaimedSaga FoxFire MidnightPrincess amp FieryWitch\n",
      "Amazon httpstcoQAJvwNwZZP\n",
      "FoxFirePub JHDeMond NuttlyR Kitsune Skinwalkers Vampires Wolves Witches Daemons amp Fae collide in the mounting battle caused by En Quosque’s attempts to revive their evil demigod master TheClaimedSaga FoxFire MidnightPrincess amp FieryWitch \n",
      "Amazon httpstcoQAJvwNwZZP\n",
      "FoxFirePub JHDeMond AuthorZeph rtArtBoost Kitsune Skinwalkers Vampires Wolves Witches Daemons amp Fae collide in the mounting battle caused by En Quosque’s attempts to revive their evil demigod master TheClaimedSaga FoxFire MidnightPrincess amp FieryWitch \n",
      "Amazon httpstcoQAJvwNwZZP\n",
      "FoxFirePub JHDeMond AuthorZeph rtArtBoost Kitsune Skinwalkers Vampires Wolves Witches Daemons amp Fae collide in the mounting battle caused by En Quosque’s attempts to revive their evil demigod master TheClaimedSaga FoxFire MidnightPrincess amp FieryWitch \n",
      "Amazon httpstcoQAJvwNwZZP\n",
      "FoxFirePub JHDeMond JohnnAEscobar Kitsune Skinwalkers Vampires Wolves Witches Daemons amp Fae collide in the mounting battle caused by En Quosque’s attempts to revive their evil demigod master \n",
      "TheClaimedSaga FoxFire MidnightPrincess amp FieryWitch Amazon httpstcoQAJvwNwZZP\n",
      "FoxFirePub JHDeMond\n",
      "cleaned: Looking forward to seeing the Sussex Freemasons display tent at the Steampunk weekend If youre curious about Freemasonry come along and ask us about it Nothingtolose httpstcoXuBdeK3xM8 Looking forward to seeing the Sussex Freemasons display tent at the Steampunk weekend If youre curious about Freemasonry come along and ask us about it Nothingtolose httpstcoXuBdeK3xM8 This is how I want to see the first 3 mins next Sunday\n",
      "\n",
      "statement\n",
      "\n",
      "passion\n",
      "\n",
      "nothingtolose\n",
      "\n",
      "stickupforyourmates\n",
      "\n",
      "showsomethingtoyourfans\n",
      "\n",
      "someonedothebasilcampbellrole \n",
      "\n",
      "GOHARDORGOHOME \n",
      "\n",
      "Theirgrandfinal \n",
      "\n",
      "httpstcoazQu8lPldw This is how I want to see the first 3 mins next Sunday\n",
      "\n",
      "statement\n",
      "\n",
      "passion\n",
      "\n",
      "nothingtolose\n",
      "\n",
      "stickupforyourmates\n",
      "\n",
      "showsomethingtoyourfans\n",
      "\n",
      "someonedothebasilcampbellrole \n",
      "\n",
      "GOHARDORGOHOME \n",
      "\n",
      "Theirgrandfinal \n",
      "\n",
      "httpstcoazQu8lPldw “It’s not you… well actually it IS you” nothingtolose Never contend with a man who has nothing to lose  BaltasarGracian ThinkBIGSundayWithMarsha ThinkingOutLoud QuickQuotes SundayMotivation NothingToLose httpstcossbXUoVwXg Never contend with a man who has nothing to lose  BaltasarGracian ThinkBIGSundayWithMarsha ThinkingOutLoud QuickQuotes SundayMotivation NothingToLose httpstcossbXUoVwXg Never contend with a man who has nothing to lose  BaltasarGracian ThinkBIGSundayWithMarsha ThinkingOutLoud QuickQuotes SundayMotivation NothingToLose httpstcossbXUoVwXg Imagine turning up for work and performing like Carlton did today You would be frog marched out of the joint never to return Forget about the lack of ability but not to even have a crack is unforgiveable Might be time for some of the AFLW players to get a run nothingtolose acaseofthegolf1 CudaChamp Have enjoyed following Mark this week Keep it going this afternoon and into the weekend nothingtolose How does £1200 before Xmas sound \n",
      "\n",
      "Visit my website now to find out how \n",
      "\n",
      "joinessens watchmenow entrepeneur nothingtolose\n",
      "\n",
      "httpstcoqOZG5Htsxh httpstcozXoX4zyeIk Whats good Z\n",
      "How is it they used your music on grownish Season 4 episode 3\n",
      "ZANILLYAMUSIC \n",
      "NothingToLose\n",
      "ZoeFacesRochelle Hey NorwichCityFC maybe give Leo a call nothingtolose OTBC httpstcorTeMGqs4tB FoxNews Surprise Hes lives long and well King Adallah died 95 Sure he will make a second round ByeByeTrump Biden inyourface F2G nothingtohide NothingToLose BeaneaterB Marlins will boot stomp your dreams  NothingToLose ShontelMBrown I dont tolerate elections won based on lies and dishonesty Step down nothingtolose httpstcojfIzsSi6jP ZANILLYAMUSIC grownish I heard the start and was like I heard that fade in some where before\n",
      "Then I thought oh thats Z\n",
      "That was wild\n",
      "\n",
      "Congrats to you Zanillya\n",
      "NothingToLose ZANILLYAMUSIC grownish I heard the start and was like I heard that fade in some where before\n",
      "Then I thought oh thats Z\n",
      "That was wild\n",
      "\n",
      "Congrats to you Zanillya\n",
      "NothingToLose Whats good Z\n",
      "How is it they used your music on grownish Season 4 episode 3\n",
      "ZANILLYAMUSIC \n",
      "NothingToLose\n",
      "ZoeFacesRochelle Happy Birthday John C McGinley 🙂 Im not going to rest until someone at disneyplus or whoever allows JohnCMcGinley and quiethandfilms the chance for revenge against TimRobbins1 and realmartymar Its long overdue Make it happen 🙂\n",
      "\n",
      "JohnCMcGinley Disney NothingToLose httpstcotPT5j9O5Uk Happy Birthday John C McGinley 🙂 Im not going to rest until someone at disneyplus or whoever allows JohnCMcGinley and quiethandfilms the chance for revenge against TimRobbins1 and realmartymar Its long overdue Make it happen 🙂\n",
      "\n",
      "JohnCMcGinley Disney NothingToLose httpstcotPT5j9O5Uk I Hope people who ve been active on Twitter and have SecretsToTell spill the beans before they pop their clogs Know I will NothingToLose My kids are getting Tw passwords too along with responsibility to erect a shrine in my honour haha just kidding\n",
      "Gosh Im funny🤣\n",
      "pun kanyewest Hey Kanye today’s my birthday and it’s Yeezy day but knowing my luck I’m not gonna win anything Would appreciate a solid birthday gift\n",
      "\n",
      "Thanks 🙏🏽 \n",
      "\n",
      "worthashot YEEZYDAY retweetforme lol nothingtolose Men… Lots of you are Curious about LeVel and Why you might Benefit too \n",
      "\n",
      "Listen to this athlete  construction worker 💪🏻👏👇🏻\n",
      "menover40 itworks guthealth fitornotfit nothingtolose messageme  httpstcowE6R4wUAVj karunchandhok NicoRosberg Im wondering why redbullracing didnt gamble to put Max33Verstappen on dry tyres at the restart given that the sun was out during the red flag\n",
      "amp the car had such heavy damage that gaining positions on pace would be nearly impossible NothingToLose\n",
      "cleaned: The Best Personalized Gift Idea is a Decorative Star Maps giftidea starmaps\n",
      "httpstcoydjnyKklyD 💫 𝘾𝙀𝙇𝙀𝙎𝙏𝙄𝘼𝙇 𝙀𝙑𝙀𝙉𝙏 𝗧𝗵𝗲 𝗠𝗼𝗼𝗻 amp 𝗧𝗮𝘂𝗿𝘂𝘀 💫\n",
      "From 𝗔𝘂𝗴𝘂𝘀𝘁 𝟮𝗻𝗱  𝟰𝘁𝗵 watch the Moon in constellation Taurus 🐃\n",
      "when the waning crescent Moon will pass close to the Pleiades\n",
      "\n",
      "Source StarWalk\n",
      "\n",
      "starmaps\n",
      "underluckystars\n",
      "celestialevents httpstco4JSgeYcabG 🔭 𝙄𝙉 𝙎𝙀𝘼𝙍𝘾𝙃 𝙊𝙁 𝙃𝘼𝙋𝙋𝙄𝙉𝙀𝙎𝙎  🔭\n",
      "𝚈𝚘𝚞 𝚊𝚛𝚎 𝚝𝚑𝚎 𝚌𝚘𝚖𝚖𝚊𝚗𝚍𝚎𝚛 𝚘𝚏 𝚢𝚘𝚞𝚛 𝚕𝚒𝚏𝚎 \n",
      "𝙼𝚊𝚔𝚎 𝚜𝚞𝚛𝚎 𝚝𝚑𝚊𝚝 𝚎𝚟𝚎𝚛𝚢 𝚍𝚎𝚌𝚒𝚜𝚒𝚘𝚗 𝚢𝚘𝚞 𝚖𝚊𝚔𝚎 𝚕𝚎𝚊𝚍𝚜 𝚝𝚘 𝚑𝚊𝚙𝚙𝚒𝚗𝚎𝚜𝚜\n",
      "Thanks for the photo ammardarhou     \n",
      "\n",
      "ULSpeople\n",
      "starmaps httpstcoaLBA52bW3P\n",
      "cleaned:nan\n",
      "cleaned: Its that Philip Bailey Children of the Ghetto type weather in Brooklyn today 💯 Clockers BeRelentless Strike was selling dope in the projects to buy a fucking train set lmfaoooo what a bozo Clockers\n",
      "cleaned:nan\n",
      "cleaned: Happy Anniversary to Tony ThaaoPenghlis and Anna LeannHunley Thank you for 36 years of romance and Love in the Afternoon You made me fall in love with love No one does it better Tanna DAYS magic chemistry LoveintheAfternoon httpstcoc14rmDZCVL TheHeavystormQuietStorm \n",
      "TuesdayRadioSchedule\n",
      "LegalCrimeRadio 1pm ET\n",
      "LoveInTheAfternoon \n",
      "ThrowbackTy74 GreatSoulRadio 9pm ET\n",
      "CruzIncRadio 12am ET\n",
      "Hosted by melvinjordan71 \n",
      "Special Guest Conversation Conducted PacDiva Soulcraver76 httpstco7v6RU0CkPs Candlelight and bended knee sigh\n",
      "Will she or won’t she\n",
      "Stay tuned The answer is mere Days away…\n",
      "Tony ThaaoPenghlis and his beloved Anna LeannHunley \n",
      "⌛️🕯🕺🏻♥️💃🏼🕯⌛️\n",
      "Magic LoversAndFriends LoveInTheAfternoon DanceOfRomance Tanna httpstcocCMtq3x729 Love In The Afternoon In Hallmarks A Little Daytime Drama loveintheafternoon alittledaytimedrama paeveypack \n",
      "\n",
      "httpstcouXKsb3ip09\n",
      "cleaned:nan\n",
      "cleaned: Fellow Ethiopians Focus amp resolve imperative TPLF Tigrayan fascists 3 divisions sent to Afar decimated Woldia repulsed waves of TPLF malignant cells North Gonder human waves decimated They cut thru South Gondar amp Wollo via Gishena to attack less defended Lalibela Now Available ShuswapLakePark North Srvcd Sep 2430 Fellow Ethiopians Focus amp resolve imperative TPLF Tigrayan fascists 3 divisions sent to Afar decimated Woldia repulsed waves of TPLF malignant cells North Gonder human waves decimated They cut thru South Gondar amp Wollo via Gishena to attack less defended Lalibela Supercar seized in operation to tackle illegal driving\n",
      "\n",
      "More httpstcoWaI9cnhXTi\n",
      "\n",
      "Home gt News gt News stories gt Supercar seized in operation to tackle illegal driving\n",
      "Last modified 9 August 2021 at Clear Harrogate North Now Available ShuswapLakePark North Std Sep 68 SproatLakePark Upper Std Aug 31Sep 1 WellsGrayPark Clrwtr Std Aug 2729 Aurora high density crown\n",
      "\n",
      "norway fantasticearth awesome astrophotography instadaily night skycaptures nature mathernature travel 极光 aurora auroraborealis northernlights north wonderfulplaces visitnorway astrophoto 오로라 astronomy scandinavia tromsø httpstco6qaN6pQJQA TPLF Tigrayan fascists 3 divisions sent to Afar decimated Woldia repulsed waves of TPLF malignant cells North Gonder human waves decimated They cut thru South Gondar amp Wollo via Gishena to attack less defended Lalibela Fellow Ethiopians Focus amp resolve imperative Realtors Showcase Listings NEAR Broker Tour \n",
      "Andover amp North Andover\n",
      "Towns Included in the Tour \n",
      "Boxford Dracut Haverhill Lawrence Middleton Methuen North Reading Tewksbury Wilmington \n",
      "\n",
      "Tag your brokerage \n",
      "LeadingEdgeRealEstate httpstcockIkGKWwDG North  The percentage of people above 30 years jabbed with the 1st doses across the Province has increased to 7905 while 1547 have been jabbed with 2nd doses \n",
      "\n",
      "In total 519810 people have been administered the 1st doses while 101733 have received the second jabs httpstcojnCCzyRNtZ Me in today’s yorkshirepost talking about what arts and culture can do to help high streets across the county recover Here at acethenorth we are working closely with HeritageFundNOR HistoricEngland TheNP11 to make this a reality right across the North httpstcoslwaPeZgDS Fellow Ethiopians Focus amp resolve imperative TPLF Tigrayan fascists 3 divisions sent to Afar decimated Woldia repulsed waves of TPLF malignant cells North Gonder human waves decimated They cut thru South Gondar amp Wollo via Gishena to attack less defended Lalibela TPLF Tigrayan fascists 3 divisions sent to Afar decimated Woldia repulsed waves of TPLF malignant cells North Gonder human waves decimated They cut thru South Gondar amp Wollo via Gishena to attack less defended Lalibela Fellow Ethiopians Focus amp resolve imperative Fellow Ethiopians Focus amp resolve imperative TPLF Tigrayan fascists 3 divisions sent to Afar decimated Woldia repulsed waves of TPLF malignant cells North Gonder human waves decimated They cut thru South Gondar amp Wollo via Gishena to attack less defended Lalibela TPLF Tigrayan fascists 3 divisions sent to Afar decimated Woldia repulsed waves of TPLF malignant cells North Gonder human waves decimated They cut thru South Gondar amp Wollo via Gishena to attack less defended Lalibela Fellow Ethiopians Focus amp resolve imperative Fellow Ethiopians Focus amp resolve imperative TPLF Tigrayan fascists 3 divisions sent to Afar decimated Woldia repulsed waves of TPLF malignant cells North Gonder human waves decimated They cut thru South Gondar amp Wollo via Gishena to attack less defended Lalibela Konahrik\n",
      "YouTube video including a giveaway\n",
      "Link in the bio\n",
      "konahrik skyrim elderscrolls skyrimcosplay elderscrollsonline dragonpriestmask moldandcast 3dprinting ps5 gaming  sewing medival vikings north gamingsetup art interiordesign bethesda fantasy cosplay httpstcorYFgM4E0Bp Fellow Ethiopians Focus amp resolve imperative TPLF Tigrayan fascists 3 divisions sent to Afar decimated Woldia repulsed waves of TPLF malignant cells North Gonder human waves decimated They cut thru South Gondar amp Wollo via Gishena to attack less defended Lalibela Fellow Ethiopians Focus amp resolve imperative TPLF Tigrayan fascists 3 divisions sent to Afar decimated Woldia repulsed waves of TPLF malignant cells North Gonder human waves decimated They cut thru South Gondar amp Wollo via Gishena to attack less defended Lalibela TPLF Tigrayan fascists 3 divisions sent to Afar decimated Woldia repulsed waves of TPLF malignant cells North Gonder human waves decimated They cut thru South Gondar amp Wollo via Gishena to attack less defended Lalibela Fellow Ethiopians Focus amp resolve imperative Fellow Ethiopians Focus amp resolve imperative TPLF Tigrayan fascists 3 divisions sent to Afar decimated Woldia repulsed waves of TPLF malignant cells North Gonder human waves decimated They cut thru South Gondar amp Wollo via Gishena to attack less defended Lalibela TPLF Tigrayan fascists 3 divisions sent to Afar decimated Woldia repulsed waves of TPLF malignant cells North Gonder human waves decimated They cut thru South Gondar amp Wollo via Gishena to attack less defended Lalibela Fellow Ethiopians Focus amp resolve imperative Fellow Ethiopians Focus amp resolve imperative TPLF Tigrayan fascists 3 divisions sent to Afar decimated Woldia repulsed waves of TPLF malignant cells North Gonder human waves decimated They cut thru South Gondar amp Wollo via Gishena to attack less defended Lalibela Fellow Ethiopians Focus amp resolve imperative TPLF Tigrayan fascists 3 divisions sent to Afar decimated Woldia repulsed waves of TPLF malignant cells North Gonder human waves decimated They cut thru South Gondar amp Wollo via Gishena to attack less defended Lalibela Fellow Ethiopians Focus amp resolve imperative TPLF Tigrayan fascists 3 divisions sent to Afar decimated Woldia repulsed waves of TPLF malignant cells North Gonder human waves decimated They cut thru South Gondar amp Wollo via Gishena to attack less defended Lalibela Fellow Ethiopians Focus amp resolve imperative TPLF Tigrayan fascists 3 divisions sent to Afar decimated Woldia repulsed waves of TPLF malignant cells North Gonder human waves decimated They cut thru South Gondar amp Wollo via Gishena to attack less defended Lalibela\n",
      "cleaned:nan\n",
      "cleaned: Episode ONE reveal Color of Night 1994 Subscribe wherever you get your podcasts colorofnight brucewillis janemarch richardrush newpodcast\n",
      "cleaned: CobraShadowJoes Robocop Robocop2 Robocop3   I like things in each Even like parts of the remake Let me think Im leaning toward 1  too Privatized cops soliders prisons are already a thing Mass evictions seem nearing Some1 is going make  Off all this misery  Some1 always does Robocop3 Feeling a bit visionary httpstcoAzTZnvu0m4 Let’s do a Saturday morning poll  What Robocop do you enjoy the most I love the brutality of 2 and barely edges out 1 in my book 1 is a masterpiece of a movie Robocop1 Robocop2 Robocop3 Orion Let’s do a Saturday morning poll  What Robocop do you enjoy the most I love the brutality of 2 and barely edges out 1 in my book 1 is a masterpiece of a movie Robocop1 Robocop2 Robocop3 Orion Let’s do a Saturday morning poll  What Robocop do you enjoy the most I love the brutality of 2 and barely edges out 1 in my book 1 is a masterpiece of a movie Robocop1 Robocop2 Robocop3 Orion Let’s do a Saturday morning poll  What Robocop do you enjoy the most I love the brutality of 2 and barely edges out 1 in my book 1 is a masterpiece of a movie Robocop1 Robocop2 Robocop3 Orion My Robocop 3 C64 longplay\n",
      "robocop3 commodore commodore64 c64 longplay myrryspeikko C64Retweets EC64Forum ocean httpstcouD6GoaJMng My Robocop 3 C64 longplay\n",
      "robocop3 commodore commodore64 c64 longplay myrryspeikko C64Retweets EC64Forum ocean httpstcouD6GoaJMng My Robocop 3 C64 longplay\n",
      "robocop3 commodore commodore64 c64 longplay myrryspeikko C64Retweets EC64Forum ocean httpstcouD6GoaJMng My Robocop 3 C64 longplay\n",
      "robocop3 commodore commodore64 c64 longplay myrryspeikko C64Retweets EC64Forum ocean httpstcouD6GoaJMng A comic commission written by and for my patron Goff Goff \n",
      "get a discounts requests and OC at my patron \n",
      "httpstco8xDnQ3PoYV\n",
      "\n",
      "Read it here \n",
      "httpstcobepQH8UUDY\n",
      "and here\n",
      "httpstco5pEwQIjcs5\n",
      "terminator robocop3 scifi gritty dystopiansciencefiction lytlelemurart httpstcohS3mnR2MzM A comic commission written by and for my patron Goff Goff \n",
      "get a discounts requests and OC at my patron \n",
      "httpstco8xDnQ3PoYV\n",
      "\n",
      "Read it here \n",
      "httpstcobepQH8UUDY\n",
      "and here\n",
      "httpstco5pEwQIjcs5\n",
      "terminator robocop3 scifi gritty dystopiansciencefiction lytlelemurart httpstcohS3mnR2MzM Oh Honare you not old enough to remember robocop3 blessyourheart httpstcohzgWols6Ge httpstcoJcdXoxcXFI\n",
      "cleaned:nan\n",
      "cleaned: ✨Summer Fresh Produce Giveaway ✨ \n",
      "\n",
      "community CommunityCenter BRCDC BAYRIDGE SUNSETPARK communitysupport httpstcoEYMfc90qyc emilykschrader This is what Palestinian Intifada   GlobalizeTheIntifada🩸means 🔝 Terrorist bombing in a Sbarro pizza shop Brooklyn NYTimes NYCParks GCCUNY CUNY nyuniversity Columbia SunsetPark bmcccuny BrooklynNets HunterCollege BaruchCollege Queens NYC We held a bake sale fundraiser this afternoon to continue with our mission thank you to everyone who stopped by to support us Shoutout to William for being the best salesperson around 😎🧁 bakesale visionfuturo sunsetpark httpstcouKueYnNFno We held a bake sale fundraiser this afternoon to continue with our mission thank you to everyone who stopped by to support us Shoutout to William for being the best salesperson around 😎🧁 bakesale visionfuturo sunsetpark httpstcouKueYnNFno Watching BlindspottingTV and  hearing ARamosofficial explain a SLAP with the knuckles and d the  RAHH sound had me laughing so hard🤣 Just like  us old  school BORICUA Moms did lol and OHHH way to represent BKLYN sunsetpark love this show 📸 from a landing zone earlier this afternoon at Sunsetpark in harveycedarsnj for a trauma patient NJSP HPVFC51 LongBeachTwpPD httpstcophwhWPFnmX 📸 from a landing zone earlier this afternoon at Sunsetpark in harveycedarsnj for a trauma patient NJSP HPVFC51 LongBeachTwpPD httpstcophwhWPFnmX ✨BRCDC’s Fresh Produce Giveaway is underway Come pick up your groceries at our center✨ foodgiveaway giveaway community communitycenter brcdc bayridge sunsetpark httpstconXZjw9O0IA TeamZ is out with cpcnyc in SunsetPark distributing food and multilingual resources to our neighbors\n",
      "\n",
      "Can we help YOU with anything We hold Sunset Park office hours every Monday in the office of MMitaynes Come through httpstcoJBKp5S5mI0 TeamZ is out with cpcnyc in SunsetPark distributing food and multilingual resources to our neighbors\n",
      "\n",
      "Can we help YOU with anything We hold Sunset Park office hours every Monday in the office of MMitaynes Come through httpstcoJBKp5S5mI0 ✨Tomorrow is the Summer Fresh Produce Giveaway Be sure to pick up your fresh groceries and share with those whom you know✨ foodgiveaway freshproduce giveaway community communitycenter brcdc bayridge brooklyn sunsetpark httpstcoHFOGVdDerx Lucy’s Deli 860 4th Ave Brooklyn NY  deligrossery lucysdeli lucy sunsetpark greenwood greenwoodheights  greenwoodcemetery sandwich  sandwiches bodega  deli  delicatessen  deligrocery newyork vintagesign handpainted handpaintedsign signpainter vintage httpstcoVVYZ8dBx0n ✨Tomorrow is the Summer Fresh Produce Giveaway Be sure to pick up your fresh groceries and share with those whom you know✨ foodgiveaway freshproduce giveaway community communitycenter brcdc bayridge brooklyn sunsetpark httpstcoHFOGVdDerx ✨Tomorrow is the Summer Fresh Produce Giveaway Be sure to pick up your fresh groceries and share with those whom you know✨ foodgiveaway freshproduce giveaway community communitycenter brcdc bayridge brooklyn sunsetpark httpstcoHFOGVdDerx Name This Movie httpstcog62c35y0PS 👈🏿👈🏿 CLICK THE LINK‼️‼️ watsonmybrain watsonmybrainpodcast womb viral namethismovie namethatmovie parody comedy sunsetpark httpstcogTtoL3Ozoz TeamZ is out with cpcnyc in SunsetPark distributing food and multilingual resources to our neighbors\n",
      "\n",
      "Can we help YOU with anything We hold Sunset Park office hours every Monday in the office of MMitaynes Come through httpstcoJBKp5S5mI0 TeamZ is out with cpcnyc in SunsetPark distributing food and multilingual resources to our neighbors\n",
      "\n",
      "Can we help YOU with anything We hold Sunset Park office hours every Monday in the office of MMitaynes Come through httpstcoJBKp5S5mI0 TeamZ is out with cpcnyc in SunsetPark distributing food and multilingual resources to our neighbors\n",
      "\n",
      "Can we help YOU with anything We hold Sunset Park office hours every Monday in the office of MMitaynes Come through httpstcoJBKp5S5mI0 The best tacos In sunsetpark brooklyn sorry… my gente del Barrio but it is what it is 🤷 streetfood newyorkcity httpstcoaD98NvFOmg Office for the day \n",
      "\n",
      "IndustryCity SunsetPark Brooklyn Outdoors  Industry City Courtyard 34 httpstcohBKO4UjJxj Maybe my favorite single pastry in NYC  Egg tart perfection at xinfabakery in sunsetpark will make all those Portuguese pastels you find all over the city subpar  brooklynchinatown  Xinfa Bakery Inc httpstcokZZIuPXvnt Congrats to our dedicated agent Tamako for closing this sweet deal with Aesthetic Touch Inc in Sunset Park This one is 600 SF at 462 36th Street Keep up the good work👏\n",
      "\n",
      "cre brooklyn luxuryoffice brooklynbroker tscrbklyn available crelistings tristatecr sunsetpark httpstcoPc3cVIclAT MUST SELL at once twofamily brownstone house near Catholic school church parkprice 13500 Brooklyn SunsetPark NYC History httpstcoUuPxJhfvkI httpstcowm6tVpcDvy My 1012yr old neighbors Jingyi and Mia  made me a bracelet while I was setting up more stuff in my apartment today AND they showed me where our recycling goes 💙💓💜  So sweet Brooklynkids community SunsetPark thekidsarealright httpstcoqOOmRDph6t Tranquility \n",
      "\n",
      "GreenWoodHF \n",
      "\n",
      "Besosdenyc\n",
      "koipond\n",
      "fishpond\n",
      "waterscape\n",
      "greenwoodcemetery\n",
      "historicgreenwoodcemetery \n",
      "sunsetparkbrooklyn \n",
      "sunsetpark \n",
      "brooklyn \n",
      "nyc\n",
      "nycphotography \n",
      "streetphotography\n",
      "Iseenyc\n",
      "nycitworld\n",
      "lovesnyc\n",
      "\n",
      "TikTok httpstcoVllkamTTDZ\n",
      "cleaned: Enosoul x Ntate Tshego x Dearson  Struggles and Pains SetItOff TheGlenzitoSuperDrive YouthEndala GlenLewisSA LeloMzaca nathindamase mamntungwa Radio2000ZA Jombana3rd httpstcoAmEIjRLfmL In MY Life in REAL Time I Am STONY \n",
      "\n",
      "DONT get it Twisted\n",
      "\n",
      "MoveInsilence  💛💋 SetitOFF 👑\n",
      "ImREADY httpstcouXsPKmeWbq wildstreet put on a killer show BarXIIIDelaware last night setitoff poisonkiss wannagetiton tennesseecocaine raisehell threewayride httpstcoRDMHTCj802 casspernyovest taking over the braai show on OfficialSABC1 now called TheBraaiShowWithCass Thats good nyuz hes about to setitoff congratulations Don Billiato \n",
      "httpstcosYFmcfNBn2 casspernyovest taking over the braai show on OfficialSABC1 now called TheBraaiShowWithCass Thats good nyuz hes about to setitoff congratulations Don Billiato \n",
      "httpstcosYFmcfNBn2 🎶  They call me tryhard\n",
      "Our generation has had it hard\n",
      "Hurry chase em🎶 \n",
      "\n",
      "Woohoo First time ever hearing \n",
      " SILVER SPOONBAEPSAE  by BTStwt on SetItOff kissradiohits  🔥 🥳🎊\n",
      "\n",
      "Thanks DJclymaxxx devobrown \n",
      "BTS BTSARMY\n",
      "CanadaxBTS BTSVancity httpstco5RnjfwwQwb wildstreet put on a killer show BarXIIIDelaware last night setitoff poisonkiss wannagetiton tennesseecocaine raisehell threewayride httpstcoRDMHTCj802 devobrown namukoree DJclymaxxx BTStwt I wasnt expecting you to reply but thank you for getting back to me It makes me happy and thankful to know you read my message Cant wait to tune into the next SetItOff 💜 devobrown namukoree DJclymaxxx BTStwt I wasnt expecting you to reply but thank you for getting back to me It makes me happy and thankful to know you read my message Cant wait to tune into the next SetItOff 💜 SweeneyABC FlyFrontier must have missed MsVivicaFox stellar performance in SetItOff with IAMQUEENLATIFAH jadapsmith and iKimberlyElise\n",
      "\n",
      "Not as dramatic BUT we are in a pandemic and the irate dude was screaming with no mask on WhatsTheProcedureWhen… httpstcoSH7tHdgrrH wildstreet put on a killer show BarXIIIDelaware last night setitoff poisonkiss wannagetiton tennesseecocaine raisehell threewayride httpstcoRDMHTCj802 wildstreet put on a killer show BarXIIIDelaware last night setitoff poisonkiss wannagetiton tennesseecocaine raisehell threewayride httpstcoRDMHTCj802 wildstreet put on a killer show BarXIIIDelaware last night setitoff poisonkiss wannagetiton tennesseecocaine raisehell threewayride httpstcoRDMHTCj802 KiSS925 DJclymaxxx devobrown Hi May I request to play AfterMidnight by ASTRO  offclASTRO  on setitoff Thank u for lonelydance song and midnight album Guys u are awesome sio SetItOff siofamily \n",
      "CodySIO MaxxSIO ZachSIO SetItOff httpstcoNH0vIG81Da Let us comment Dance On My Own by LOONA loonatheworld for SetItOff 👇 httpstcoSO02dA7g64 KiSS925 DJclymaxxx devobrown Dance On My Own by LOONA loonatheworld for SetItOff 🎶 Lets try matching our speeds\n",
      "Without going too fast\n",
      "Or going too slow\n",
      "This is pretty long and fun roller coaster🎶 \n",
      "\n",
      "Telepathy by  BTStwt on  setitoff kissradiohits\n",
      "Thank you so much DJclymaxxx devobrown 🔥\n",
      "\n",
      "CanadaxBTS BTSVancity \n",
      "BTS BTSARMY httpstcoD4FYZ4SwmP 🎶  They call me tryhard\n",
      "Our generation has had it hard\n",
      "Hurry chase em🎶 \n",
      "\n",
      "Woohoo First time ever hearing \n",
      " SILVER SPOONBAEPSAE  by BTStwt on SetItOff kissradiohits  🔥 🥳🎊\n",
      "\n",
      "Thanks DJclymaxxx devobrown \n",
      "BTS BTSARMY\n",
      "CanadaxBTS BTSVancity httpstco5RnjfwwQwb 🎶 your every picture\n",
      "I wann have under my pillow Oh bae🎶 🕺💃\n",
      "\n",
      "Boy with Luv by BTStwt and Halsey on setitoff kissradiohits \n",
      "Thanks DJclymaxxx devobrown 💜\n",
      "\n",
      "Its NOT true that BTSARMY are upset about not being called their Bestfriend 🥺\n",
      "\n",
      "CanadaxBTS BTSVancity httpstco8ELC8mLcwj 🎶  Lets break our plans and live just like were golden \n",
      "And roll in like were dancing fools🎶 \n",
      "\n",
      "PermissionToDance  by BTStwt on SetItOff kissradiohits 💜🕺💃\n",
      "\n",
      " Thank you DJclymaxxx amp  devobrown  💜\n",
      "CanadaxBTS BTSVancity\n",
      "BTSARMY MAPLEARMY P httpstcoUCDI61lseZ 🎶  Waiting for you Anpanman\n",
      "Waiting for you Anpanman🎶 \n",
      "\n",
      "Anpanman by BTStwt on SetItOff kissradiohits  🕺 🔥 \n",
      "\n",
      "Thanks DJclymaxxx and devobrown \n",
      "\n",
      "BTS BTSARMY\n",
      "CanadaxBTS BTSVancity httpstcoTIxex5cgsn 🎶And I know theres no making this right this right\n",
      "And I know theres no changing your mind your mind 🎶 💜💜\n",
      "\n",
      "Waste it on Me by SteveAoki feat BTStwt on  setitoff kissradiohits\n",
      "\n",
      "Thank  DJclymaxxx devobrown for a great night 💜\n",
      "\n",
      "CanadaxBTS BTSVancity \n",
      "BTS BTSARMY httpstcoUfI4RF9ZwY 🎶we all Ddaeng\n",
      "No matter whos strong\n",
      "I Ddaeng dont care at all 🎶 🎵 \n",
      "\n",
      "Ddaeng by BTStwt s Rapline on SetItOff kissradiohits 🔥🔥🔥\n",
      "\n",
      "Thanks DJclymaxxx devobrown \n",
      "\n",
      "BTS BTSARMY\n",
      "CanadaxBTS BTSVancity httpstcobyu1NDvgqT 🎶 Lets try matching our speeds\n",
      "Without going too fast\n",
      "Or going too slow\n",
      "This is pretty long and fun roller coaster🎶 \n",
      "\n",
      "Telepathy by  BTStwt on  setitoff kissradiohits\n",
      "Thank you so much DJclymaxxx devobrown 🔥\n",
      "\n",
      "CanadaxBTS BTSVancity \n",
      "BTS BTSARMY httpstcoD4FYZ4SwmP\n",
      "cleaned: DRAMA SelenaGomez took to Twitter to call out Paramount show TheGoodFight on their “tasteless” kidney transplant joke Was the joke fair game Or should it have been left on the cutting room floor RespectSelena RespectSelenaGomez  Lupus Selenators SelenaGomez Selena httpstcoixvgYjNtNr Kids Logo\n",
      "just click\n",
      "httpstcoJqpeaLwlA2\n",
      "tshirts logomaker tshirtdesign \n",
      "dribbble Amazon NFTs BANvAUS BinanceChain Nikki Selena Maddison Zoom BiggBossOTT Fiverr Lucky Chelsea Lukaku httpstcoAUvuXZMBrm Selena visits Cunningham Middle School to encourage kids to stay in school November 14th 1994 💛 selena selenaquintanilla httpstcoZ8CjaUzuUI TShirt Design\n",
      "just click\n",
      "httpstcotzlEG0csxi\n",
      "tshirts logomaker tshirtdesign \n",
      "dribbble Amazon NFTs BANvAUS BinanceChain Nikki Selena Maddison Zoom BiggBossOTT Fiverr Lucky Chelsea Lukaku httpstcoiYlqNZ0LAe SELENA more than a woman ꨄ httpstco5d5Ffpodev DRAMA SelenaGomez took to Twitter to call out Paramount show TheGoodFight on their “tasteless” kidney transplant joke Was the joke fair game Or should it have been left on the cutting room floor RespectSelena RespectSelenaGomez  Lupus Selenators SelenaGomez Selena httpstcoixvgYjNtNr 912CroozeFM hey bro thanks 4de show  kindly drop me good for you  Selena Gomez My debut single Besitos is out now\n",
      "Selena Besitos RobloxArt httpstcop2aDs6bkXI My debut single Besitos is out now\n",
      "Selena Besitos RobloxArt httpstcop2aDs6bkXI Here are the new titles being released this week There was a misalignment printing error in the Selena book but it fixed and will be on Amazon before Weds thanks for the patience \n",
      "\n",
      "selena FirstLadies httpstco7Ul1W4uiEA SELENA more than a woman ꨄ httpstco5d5Ffpodev 🎸The Simplest Way to Play A7 Chord on Guitar\n",
      "There are two unique approaches to play the A7 chord on guitar Both utilize standard E tuning and are simple for novices to dominate more link below httpstcoDMvYD8CIHp\n",
      "guitar ARMYs namjoon NFTs Selena GOAT Have you seen the JeremyMJordan amp Selena references in my KindleVella serial novel ‘Liberty Calling’ Stay tuned More to come this month Read here httpstcoTZ7bPNJfrk LatinxReads Music SouthTexasStars httpstco6SeGgirH9s Name file  Selena from Eterluna Vtuber Fanart \n",
      "\n",
      "The result of failure should be enjoyed not regretted1\n",
      "\n",
      "selena fanart vtuber vtuberfanart loli lolicon girlcute cute kawaii loligirl lolicute girlkawaii anime animegirl eterluna \n",
      "selenaShinyfanart httpstco5bTmfuWWWl StarsOverWashington Horoscope Autumn Equinox 2021 Selena and the Snake Charmer httpstcoDlVetVtj9R Selena snake Trump Autumn astrology politics USA 🇺🇸 2021 — At least 2000 people have been killed or injured mass shootings since 1999 when 13 students were killed Columbine 🙏🏻 \n",
      "\n",
      "2001 selena 1st BiLingual Latina Beauty Star 🌟— Tejano ampAmericana Music 🎼 Songwriter Singer Dancer Emmy Awards Best Both Worlds💋24 yrs young httpstcoB9RJaSONYV USA 🇺🇸 2021 — At least 2000 people have been killed or injured mass shootings since 1999 when 13 students were killed Columbine 🙏🏻 \n",
      "\n",
      "2001 selena 1st BiLingual Latina Beauty Star 🌟— Tejano ampAmericana Music 🎼 Songwriter Singer Dancer Emmy Awards Best Both Worlds💋24 yrs young httpstcoB9RJaSONYV StarsOverWashington Horoscope Autumn Equinox 2021 Selena and the Snake Charmer httpstcoDlVetVtj9R Selena snake Trump Autumn astrology politics I could fall in love with you\n",
      "\n",
      "I could fall in love with you\n",
      "selena DreamingOfYou26 RobloxGFX httpstco5zujVZqzxl I could fall in love with you\n",
      "\n",
      "I could fall in love with you\n",
      "selena DreamingOfYou26 RobloxGFX httpstco5zujVZqzxl Discovered this mural today selena httpstcosLa1SdODcf Selena Vive ❤️ httpstcoDbbJ83XQXT Just finished “Anything for Selena” and I highly recommend itBeautiful podcast about Mexican Americans culture language family and the AmericanDream told through the story of Selena NopalitaMami gracias por compartir con nosostras SiSePuede Chicanas Just finished “Anything for Selena” and I highly recommend itBeautiful podcast about Mexican Americans culture language family and the AmericanDream told through the story of Selena NopalitaMami gracias por compartir con nosostras SiSePuede Chicanas Just finished “Anything for Selena” and I highly recommend itBeautiful podcast about Mexican Americans culture language family and the AmericanDream told through the story of Selena NopalitaMami gracias por compartir con nosostras SiSePuede Chicanas\n",
      "cleaned: “If we can teach people about wildlife they will be touched Share my wildlife with me Because humans want to save things that they love”  Steve Irwin\n",
      "naturalist conservation wildlifephotography naturephotography wildlifelovers nycwildlife wildnewyork wildamerica httpstcoXDMtajTA65 “If we can teach people about wildlife they will be touched Share my wildlife with me Because humans want to save things that they love”  Steve Irwin\n",
      "naturalist conservation wildlifephotography naturephotography wildlifelovers nycwildlife wildnewyork wildamerica httpstcoXDMtajTA65 A nice show I grew up watching httpstcoWqOspoHLXF\n",
      "WildAmerica MartyStouffer\n",
      "cleaned: Similar movies with GangRelated 1997\n",
      "\n",
      "TheNegotiator\n",
      "TrainingDay\n",
      "Another48Hrs\n",
      "\n",
      "More 📽 httpstcoQe4NiFtcLB\n",
      "\n",
      "CinPick whatToWatch findMovies movies similarMovies httpstcof1uNvuj7hc Oh look who I just spotted on my current favourite show AnimalKingdom 🥰🥰🥰 I was looking at my phone tweeting as usual and I heard the voice and I looked up and there was my friend therealelrey looking all smooth and sexy  Fiasco SOA GangRelated httpstcopauU3O6Nl6 Oh look who I just spotted on my current favourite show AnimalKingdom 🥰🥰🥰 I was looking at my phone tweeting as usual and I heard the voice and I looked up and there was my friend therealelrey looking all smooth and sexy  Fiasco SOA GangRelated httpstcopauU3O6Nl6 TheRealShantel The disrespect that GangRelatedFOX keeps getting is insane Shantel was also on CWTheFlash along with the GangRelated I got to meet and speak with Shantel and learned some inside info on some of the shows via galaxyconlive You don’t want to miss your chance She is awesome Catch the late Tupac Makaveli as he plays the role of a corrupt cop and murderer Dont miss Gang Related at 10PM for all the action on eMovies extra channel 107\n",
      "\n",
      "GangRelated eMovies Openview httpstcoDnmQCwycjk Catch the late Tupac Makaveli as he plays the role of a corrupt cop and murderer Dont miss Gang Related at 10PM for all the action on eMovies extra channel 107\n",
      "\n",
      "GangRelated eMovies Openview httpstcoDnmQCwycjk “Gang Related began shooting August 1996 Here is some behind the scenes footage and interviews with 2pac jimbelushi and James Earl Jones \n",
      "\n",
      "gangrelated \n",
      "film \n",
      "la \n",
      "actors  Los Angeles California httpstcoEkUdlIx0LA\n",
      "cleaned:nan\n",
      "cleaned:nan\n",
      "cleaned:nan\n"
     ]
    },
    {
     "name": "stderr",
     "output_type": "stream",
     "text": [
      "IOPub data rate exceeded.\n",
      "The notebook server will temporarily stop sending output\n",
      "to the client in order to avoid crashing it.\n",
      "To change this limit, set the config variable\n",
      "`--NotebookApp.iopub_data_rate_limit`.\n",
      "\n",
      "Current values:\n",
      "NotebookApp.iopub_data_rate_limit=1000000.0 (bytes/sec)\n",
      "NotebookApp.rate_limit_window=3.0 (secs)\n",
      "\n"
     ]
    }
   ],
   "source": [
    "def clean_text(text ): \n",
    "    delete_dict = {spl_char: '' for spl_char in string.punctuation} \n",
    "    delete_dict[' '] = ' ' \n",
    "    table = str.maketrans(delete_dict)\n",
    "    text1 = text.translate(table)\n",
    "    print('cleaned:'+text1)\n",
    "    textArr= text1.split()\n",
    "    text2 = ' '.join([w for w in textArr if ( not w.isdigit() and  ( not w.isdigit() and len(w)>3))]) \n",
    "    \n",
    "    return text2.lower()\n",
    "\n",
    "movie_tweets['cleaned_tweets'] = movie_tweets['cleaned_tweets'].astype(str)\n",
    "movie_tweets['cleaned_tweets'] = movie_tweets['Tweets'].apply(clean_text)"
   ]
  },
  {
   "cell_type": "code",
   "execution_count": null,
   "metadata": {
    "colab": {
     "base_uri": "https://localhost:8080/",
     "height": 204
    },
    "id": "p6wsieOXNUxP",
    "outputId": "cbf5a403-5005-4ea2-90a9-58a0c299162b"
   },
   "outputs": [
    {
     "data": {
      "text/html": [
       "<div>\n",
       "<style scoped>\n",
       "    .dataframe tbody tr th:only-of-type {\n",
       "        vertical-align: middle;\n",
       "    }\n",
       "\n",
       "    .dataframe tbody tr th {\n",
       "        vertical-align: top;\n",
       "    }\n",
       "\n",
       "    .dataframe thead th {\n",
       "        text-align: right;\n",
       "    }\n",
       "</style>\n",
       "<table border=\"1\" class=\"dataframe\">\n",
       "  <thead>\n",
       "    <tr style=\"text-align: right;\">\n",
       "      <th></th>\n",
       "      <th>movie_title</th>\n",
       "      <th>hashtags</th>\n",
       "      <th>Tweets</th>\n",
       "      <th>cleaned_tweets</th>\n",
       "    </tr>\n",
       "  </thead>\n",
       "  <tbody>\n",
       "    <tr>\n",
       "      <th>0</th>\n",
       "      <td>Toy Story (1995)</td>\n",
       "      <td>#ToyStory</td>\n",
       "      <td>The little monsters in the anime story are so...</td>\n",
       "      <td>little monsters anime story sometimes more mem...</td>\n",
       "    </tr>\n",
       "    <tr>\n",
       "      <th>1</th>\n",
       "      <td>GoldenEye (1995)</td>\n",
       "      <td>#GoldenEye</td>\n",
       "      <td>#GoldenEye Multiplayer Daily Totals \\n\\n0 Use...</td>\n",
       "      <td>goldeneye multiplayer daily totals users playe...</td>\n",
       "    </tr>\n",
       "    <tr>\n",
       "      <th>2</th>\n",
       "      <td>Four Rooms (1995)</td>\n",
       "      <td>#FourRooms</td>\n",
       "      <td>@paperbuddha #FourRooms is one of it 🤘</td>\n",
       "      <td>paperbuddha fourrooms</td>\n",
       "    </tr>\n",
       "    <tr>\n",
       "      <th>3</th>\n",
       "      <td>Get Shorty (1995)</td>\n",
       "      <td>#GetShorty</td>\n",
       "      <td>#Mini not quite #quirky enough? How about a #...</td>\n",
       "      <td>mini quite quirky enough about minimini getsho...</td>\n",
       "    </tr>\n",
       "    <tr>\n",
       "      <th>4</th>\n",
       "      <td>Copycat (1995)</td>\n",
       "      <td>#Copycat</td>\n",
       "      <td>“Hey, Ernie!  You think there’s any truth to ...</td>\n",
       "      <td>“hey ernie think there’s truth what were sayin...</td>\n",
       "    </tr>\n",
       "  </tbody>\n",
       "</table>\n",
       "</div>"
      ],
      "text/plain": [
       "         movie_title  ...                                     cleaned_tweets\n",
       "0   Toy Story (1995)  ...  little monsters anime story sometimes more mem...\n",
       "1   GoldenEye (1995)  ...  goldeneye multiplayer daily totals users playe...\n",
       "2  Four Rooms (1995)  ...                              paperbuddha fourrooms\n",
       "3  Get Shorty (1995)  ...  mini quite quirky enough about minimini getsho...\n",
       "4     Copycat (1995)  ...  “hey ernie think there’s truth what were sayin...\n",
       "\n",
       "[5 rows x 4 columns]"
      ]
     },
     "execution_count": 17,
     "metadata": {
      "tags": []
     },
     "output_type": "execute_result"
    }
   ],
   "source": [
    "movie_tweets.head()"
   ]
  },
  {
   "cell_type": "code",
   "execution_count": null,
   "metadata": {
    "id": "FnPoGdCF6Ugl"
   },
   "outputs": [],
   "source": [
    "# movie_tweets.dtypes"
   ]
  },
  {
   "cell_type": "code",
   "execution_count": null,
   "metadata": {
    "id": "joQ2ZetD_UOH"
   },
   "outputs": [],
   "source": [
    "for tweet in movie_tweets.cleaned_tweets:\n",
    " #print(tweet.text)\n",
    " tweet_list.append(tweet)\n",
    " analysis = TextBlob(tweet)\n",
    " score = SentimentIntensityAnalyzer().polarity_scores(tweet)\n",
    " neg = score['neg']\n",
    " neu = score['neu']\n",
    " pos = score['pos']\n",
    " comp = score['compound']\n",
    " polarity += analysis.sentiment.polarity\n",
    " \n",
    " if neg > pos:\n",
    "   negative_list.append(tweet)\n",
    "   negative += 1\n",
    " elif pos > neg:\n",
    "   positive_list.append(tweet)\n",
    "   positive += 1\n",
    " \n",
    " elif pos == neg:\n",
    "   neutral_list.append(tweet)\n",
    "   neutral += 1\n",
    "positive = percentage(positive, n)\n",
    "negative = percentage(negative, n)\n",
    "neutral = percentage(neutral, n)\n",
    "polarity = percentage(polarity, n)\n",
    "positive = format(positive, '.1f')\n",
    "negative = format(negative, '.1f')\n",
    "neutral = format(neutral, '.1f')"
   ]
  },
  {
   "cell_type": "markdown",
   "metadata": {
    "id": "8KLGFsGZiXWl"
   },
   "source": [
    "#### **Tweet Sentiments**"
   ]
  },
  {
   "cell_type": "code",
   "execution_count": null,
   "metadata": {
    "colab": {
     "base_uri": "https://localhost:8080/"
    },
    "id": "Cl7pXEU2_UT5",
    "outputId": "cbf6d856-ca24-4005-b1b0-6bf5f17abae9"
   },
   "outputs": [
    {
     "name": "stdout",
     "output_type": "stream",
     "text": [
      "total number:  1682\n",
      "positive number:  851\n",
      "negative number:  148\n",
      "neutral number:  683\n"
     ]
    }
   ],
   "source": [
    "#Number of Tweets (Total, Positive, Negative, Neutral)\n",
    "tweet_list = pd.DataFrame(tweet_list, columns=['Tweets'])\n",
    "neutral_list = pd.DataFrame(neutral_list)\n",
    "negative_list = pd.DataFrame(negative_list)\n",
    "positive_list = pd.DataFrame(positive_list)\n",
    "print('total number: ',len(tweet_list))\n",
    "print('positive number: ',len(positive_list))\n",
    "print('negative number: ', len(negative_list))\n",
    "print('neutral number: ',len(neutral_list))"
   ]
  },
  {
   "cell_type": "code",
   "execution_count": null,
   "metadata": {
    "id": "vfR8_xh8_Ub2"
   },
   "outputs": [],
   "source": [
    "tweet_list.drop_duplicates(inplace = True)\n",
    "tweet_list.dropna(axis = 0, how ='any',inplace=True)"
   ]
  },
  {
   "cell_type": "code",
   "execution_count": null,
   "metadata": {
    "colab": {
     "base_uri": "https://localhost:8080/",
     "height": 204
    },
    "id": "YJPdY_PnurVK",
    "outputId": "f558dab2-6a7c-4890-beac-385251b59051"
   },
   "outputs": [
    {
     "data": {
      "text/html": [
       "<div>\n",
       "<style scoped>\n",
       "    .dataframe tbody tr th:only-of-type {\n",
       "        vertical-align: middle;\n",
       "    }\n",
       "\n",
       "    .dataframe tbody tr th {\n",
       "        vertical-align: top;\n",
       "    }\n",
       "\n",
       "    .dataframe thead th {\n",
       "        text-align: right;\n",
       "    }\n",
       "</style>\n",
       "<table border=\"1\" class=\"dataframe\">\n",
       "  <thead>\n",
       "    <tr style=\"text-align: right;\">\n",
       "      <th></th>\n",
       "      <th>Tweets</th>\n",
       "    </tr>\n",
       "  </thead>\n",
       "  <tbody>\n",
       "    <tr>\n",
       "      <th>0</th>\n",
       "      <td>little monsters anime story sometimes more mem...</td>\n",
       "    </tr>\n",
       "    <tr>\n",
       "      <th>1</th>\n",
       "      <td>goldeneye multiplayer daily totals users playe...</td>\n",
       "    </tr>\n",
       "    <tr>\n",
       "      <th>2</th>\n",
       "      <td>paperbuddha fourrooms</td>\n",
       "    </tr>\n",
       "    <tr>\n",
       "      <th>3</th>\n",
       "      <td>mini quite quirky enough about minimini getsho...</td>\n",
       "    </tr>\n",
       "    <tr>\n",
       "      <th>4</th>\n",
       "      <td>“hey ernie think there’s truth what were sayin...</td>\n",
       "    </tr>\n",
       "  </tbody>\n",
       "</table>\n",
       "</div>"
      ],
      "text/plain": [
       "                                              Tweets\n",
       "0  little monsters anime story sometimes more mem...\n",
       "1  goldeneye multiplayer daily totals users playe...\n",
       "2                              paperbuddha fourrooms\n",
       "3  mini quite quirky enough about minimini getsho...\n",
       "4  “hey ernie think there’s truth what were sayin..."
      ]
     },
     "execution_count": 24,
     "metadata": {
      "tags": []
     },
     "output_type": "execute_result"
    }
   ],
   "source": [
    "tweet_list.head()"
   ]
  },
  {
   "cell_type": "code",
   "execution_count": null,
   "metadata": {
    "colab": {
     "base_uri": "https://localhost:8080/"
    },
    "id": "ha2ttbuT3UIi",
    "outputId": "fad3bae8-2ae2-41e3-8863-39df2d9c64f3"
   },
   "outputs": [
    {
     "data": {
      "text/plain": [
       "Tweets    0\n",
       "dtype: int64"
      ]
     },
     "execution_count": 26,
     "metadata": {
      "tags": []
     },
     "output_type": "execute_result"
    }
   ],
   "source": [
    "tweet_list.isnull().sum()"
   ]
  },
  {
   "cell_type": "markdown",
   "metadata": {
    "id": "Q_dAlnApirH8"
   },
   "source": [
    "### **Calculating Sentiment Scores**"
   ]
  },
  {
   "cell_type": "code",
   "execution_count": null,
   "metadata": {
    "colab": {
     "base_uri": "https://localhost:8080/",
     "height": 359
    },
    "id": "brvqqJti_UjT",
    "outputId": "638e7794-d1cc-42b8-c542-2cd9db2cfdf5"
   },
   "outputs": [
    {
     "data": {
      "text/html": [
       "<div>\n",
       "<style scoped>\n",
       "    .dataframe tbody tr th:only-of-type {\n",
       "        vertical-align: middle;\n",
       "    }\n",
       "\n",
       "    .dataframe tbody tr th {\n",
       "        vertical-align: top;\n",
       "    }\n",
       "\n",
       "    .dataframe thead th {\n",
       "        text-align: right;\n",
       "    }\n",
       "</style>\n",
       "<table border=\"1\" class=\"dataframe\">\n",
       "  <thead>\n",
       "    <tr style=\"text-align: right;\">\n",
       "      <th></th>\n",
       "      <th>Tweets</th>\n",
       "      <th>polarity</th>\n",
       "      <th>subjectivity</th>\n",
       "      <th>sentiment</th>\n",
       "      <th>neg</th>\n",
       "      <th>neu</th>\n",
       "      <th>pos</th>\n",
       "      <th>compound</th>\n",
       "    </tr>\n",
       "  </thead>\n",
       "  <tbody>\n",
       "    <tr>\n",
       "      <th>0</th>\n",
       "      <td>little monsters anime story sometimes more mem...</td>\n",
       "      <td>0.202396</td>\n",
       "      <td>0.614393</td>\n",
       "      <td>positive</td>\n",
       "      <td>NaN</td>\n",
       "      <td>NaN</td>\n",
       "      <td>NaN</td>\n",
       "      <td>NaN</td>\n",
       "    </tr>\n",
       "    <tr>\n",
       "      <th>1</th>\n",
       "      <td>goldeneye multiplayer daily totals users playe...</td>\n",
       "      <td>0.255581</td>\n",
       "      <td>0.492127</td>\n",
       "      <td>positive</td>\n",
       "      <td>NaN</td>\n",
       "      <td>NaN</td>\n",
       "      <td>NaN</td>\n",
       "      <td>NaN</td>\n",
       "    </tr>\n",
       "    <tr>\n",
       "      <th>2</th>\n",
       "      <td>paperbuddha fourrooms</td>\n",
       "      <td>0.000000</td>\n",
       "      <td>0.000000</td>\n",
       "      <td>neutral</td>\n",
       "      <td>0.0</td>\n",
       "      <td>1.0</td>\n",
       "      <td>0.0</td>\n",
       "      <td>0.0</td>\n",
       "    </tr>\n",
       "    <tr>\n",
       "      <th>3</th>\n",
       "      <td>mini quite quirky enough about minimini getsho...</td>\n",
       "      <td>0.071429</td>\n",
       "      <td>0.758929</td>\n",
       "      <td>negative</td>\n",
       "      <td>NaN</td>\n",
       "      <td>NaN</td>\n",
       "      <td>NaN</td>\n",
       "      <td>NaN</td>\n",
       "    </tr>\n",
       "    <tr>\n",
       "      <th>4</th>\n",
       "      <td>“hey ernie think there’s truth what were sayin...</td>\n",
       "      <td>0.120699</td>\n",
       "      <td>0.508333</td>\n",
       "      <td>positive</td>\n",
       "      <td>NaN</td>\n",
       "      <td>NaN</td>\n",
       "      <td>NaN</td>\n",
       "      <td>NaN</td>\n",
       "    </tr>\n",
       "    <tr>\n",
       "      <th>5</th>\n",
       "      <td></td>\n",
       "      <td>0.000000</td>\n",
       "      <td>0.000000</td>\n",
       "      <td>neutral</td>\n",
       "      <td>0.0</td>\n",
       "      <td>0.0</td>\n",
       "      <td>0.0</td>\n",
       "      <td>0.0</td>\n",
       "    </tr>\n",
       "    <tr>\n",
       "      <th>6</th>\n",
       "      <td>tonight twelvemonkeys httpstcog9kys0vroy https...</td>\n",
       "      <td>0.500000</td>\n",
       "      <td>1.000000</td>\n",
       "      <td>positive</td>\n",
       "      <td>NaN</td>\n",
       "      <td>NaN</td>\n",
       "      <td>NaN</td>\n",
       "      <td>NaN</td>\n",
       "    </tr>\n",
       "    <tr>\n",
       "      <th>8</th>\n",
       "      <td>everything will will used against inside octag...</td>\n",
       "      <td>-0.332680</td>\n",
       "      <td>0.670915</td>\n",
       "      <td>positive</td>\n",
       "      <td>NaN</td>\n",
       "      <td>NaN</td>\n",
       "      <td>NaN</td>\n",
       "      <td>NaN</td>\n",
       "    </tr>\n",
       "    <tr>\n",
       "      <th>9</th>\n",
       "      <td>richard “shakespeare provides glimpse further ...</td>\n",
       "      <td>0.398352</td>\n",
       "      <td>0.605189</td>\n",
       "      <td>positive</td>\n",
       "      <td>NaN</td>\n",
       "      <td>NaN</td>\n",
       "      <td>NaN</td>\n",
       "      <td>NaN</td>\n",
       "    </tr>\n",
       "    <tr>\n",
       "      <th>10</th>\n",
       "      <td>repost staritmusic photoaroundapp se7enofficia...</td>\n",
       "      <td>-0.338636</td>\n",
       "      <td>0.675000</td>\n",
       "      <td>negative</td>\n",
       "      <td>NaN</td>\n",
       "      <td>NaN</td>\n",
       "      <td>NaN</td>\n",
       "      <td>NaN</td>\n",
       "    </tr>\n",
       "  </tbody>\n",
       "</table>\n",
       "</div>"
      ],
      "text/plain": [
       "                                               Tweets  polarity  ...  pos compound\n",
       "0   little monsters anime story sometimes more mem...  0.202396  ...  NaN      NaN\n",
       "1   goldeneye multiplayer daily totals users playe...  0.255581  ...  NaN      NaN\n",
       "2                               paperbuddha fourrooms  0.000000  ...  0.0      0.0\n",
       "3   mini quite quirky enough about minimini getsho...  0.071429  ...  NaN      NaN\n",
       "4   “hey ernie think there’s truth what were sayin...  0.120699  ...  NaN      NaN\n",
       "5                                                      0.000000  ...  0.0      0.0\n",
       "6   tonight twelvemonkeys httpstcog9kys0vroy https...  0.500000  ...  NaN      NaN\n",
       "8   everything will will used against inside octag... -0.332680  ...  NaN      NaN\n",
       "9   richard “shakespeare provides glimpse further ...  0.398352  ...  NaN      NaN\n",
       "10  repost staritmusic photoaroundapp se7enofficia... -0.338636  ...  NaN      NaN\n",
       "\n",
       "[10 rows x 8 columns]"
      ]
     },
     "execution_count": 27,
     "metadata": {
      "tags": []
     },
     "output_type": "execute_result"
    }
   ],
   "source": [
    "#Calculating Negative, Positive, Neutral and Compound values\n",
    "tw_list = pd.DataFrame(tweet_list, columns=['Tweets'])\n",
    "# tw_list[\"text\"] = tw_list['Tweets']\n",
    "\n",
    "tw_list[['polarity', 'subjectivity']] = tw_list['Tweets'].apply(lambda Text: pd.Series(TextBlob(Text).sentiment))\n",
    "for index, row in tw_list['Tweets'].iteritems():\n",
    "  score = SentimentIntensityAnalyzer().polarity_scores(row)\n",
    "  neg = score['neg']\n",
    "  neu = score['neu']\n",
    "  pos = score['pos']\n",
    "  comp = score['compound']\n",
    "  if neg > pos:\n",
    "    tw_list.loc[index, 'sentiment'] = 'negative'\n",
    "  elif pos > neg:\n",
    "    tw_list.loc[index, 'sentiment'] = 'positive'\n",
    "  else:\n",
    "    tw_list.loc[index, 'sentiment'] = 'neutral'\n",
    "    tw_list.loc[index, 'neg'] = neg\n",
    "    tw_list.loc[index, 'neu'] = neu\n",
    "    tw_list.loc[index, 'pos'] = pos\n",
    "    tw_list.loc[index, 'compound'] = comp\n",
    "\n",
    "tw_list.head(10)"
   ]
  },
  {
   "cell_type": "code",
   "execution_count": null,
   "metadata": {
    "id": "cwpDng-O_UoY"
   },
   "outputs": [],
   "source": [
    "#Creating new data frames for all sentiments (positive, negative and neutral)\n",
    "tw_list_negative = tw_list[tw_list[\"sentiment\"]==\"negative\"]\n",
    "tw_list_positive = tw_list[tw_list[\"sentiment\"]==\"positive\"]\n",
    "tw_list_neutral = tw_list[tw_list[\"sentiment\"]==\"neutral\"]"
   ]
  },
  {
   "cell_type": "code",
   "execution_count": null,
   "metadata": {
    "colab": {
     "base_uri": "https://localhost:8080/",
     "height": 142
    },
    "id": "jXcq5OpH_Urf",
    "outputId": "719caeda-fbb1-44dd-eb5b-defeaa5ee5b0"
   },
   "outputs": [
    {
     "data": {
      "text/html": [
       "<div>\n",
       "<style scoped>\n",
       "    .dataframe tbody tr th:only-of-type {\n",
       "        vertical-align: middle;\n",
       "    }\n",
       "\n",
       "    .dataframe tbody tr th {\n",
       "        vertical-align: top;\n",
       "    }\n",
       "\n",
       "    .dataframe thead th {\n",
       "        text-align: right;\n",
       "    }\n",
       "</style>\n",
       "<table border=\"1\" class=\"dataframe\">\n",
       "  <thead>\n",
       "    <tr style=\"text-align: right;\">\n",
       "      <th></th>\n",
       "      <th>Total</th>\n",
       "      <th>Percentage</th>\n",
       "    </tr>\n",
       "  </thead>\n",
       "  <tbody>\n",
       "    <tr>\n",
       "      <th>positive</th>\n",
       "      <td>842</td>\n",
       "      <td>79.58</td>\n",
       "    </tr>\n",
       "    <tr>\n",
       "      <th>negative</th>\n",
       "      <td>143</td>\n",
       "      <td>13.52</td>\n",
       "    </tr>\n",
       "    <tr>\n",
       "      <th>neutral</th>\n",
       "      <td>73</td>\n",
       "      <td>6.90</td>\n",
       "    </tr>\n",
       "  </tbody>\n",
       "</table>\n",
       "</div>"
      ],
      "text/plain": [
       "          Total  Percentage\n",
       "positive    842       79.58\n",
       "negative    143       13.52\n",
       "neutral      73        6.90"
      ]
     },
     "execution_count": 29,
     "metadata": {
      "tags": []
     },
     "output_type": "execute_result"
    }
   ],
   "source": [
    "def count_values_in_column(data,feature):\n",
    " total=data.loc[:,feature].value_counts(dropna=False)\n",
    " percentage=round(data.loc[:,feature].value_counts(dropna=False,normalize=True)*100,2)\n",
    " return pd.concat([total,percentage],axis=1,keys=['Total','Percentage'])\n",
    "#Count_values for sentiment\n",
    "count_values_in_column(tw_list,\"sentiment\")"
   ]
  },
  {
   "cell_type": "markdown",
   "metadata": {
    "id": "3wPCOSgUi5pd"
   },
   "source": [
    "#### **Sentiment Distribution Chart**"
   ]
  },
  {
   "cell_type": "code",
   "execution_count": null,
   "metadata": {
    "colab": {
     "base_uri": "https://localhost:8080/",
     "height": 248
    },
    "id": "_KwlFt1X_Utm",
    "outputId": "de9e6b7c-02e7-405d-b75b-2c015217d30a"
   },
   "outputs": [
    {
     "data": {
      "image/png": "[encoded data removed]",
      "text/plain": [
       "<Figure size 432x288 with 1 Axes>"
      ]
     },
     "metadata": {
      "tags": []
     },
     "output_type": "display_data"
    }
   ],
   "source": [
    "# create data for Pie Chart\n",
    "pichart = count_values_in_column(tw_list,\"sentiment\")\n",
    "names= pichart.index\n",
    "size=pichart[\"Percentage\"]\n",
    " \n",
    "# Create a circle for the center of the plot\n",
    "my_circle=plt.Circle( (0,0), 0.7, color='white')\n",
    "plt.pie(size, labels=names, colors=['green','blue','red'])\n",
    "p=plt.gcf()\n",
    "p.gca().add_artist(my_circle)\n",
    "plt.show()"
   ]
  },
  {
   "cell_type": "code",
   "execution_count": null,
   "metadata": {
    "id": "MdRnTDdW_Uvm"
   },
   "outputs": [],
   "source": []
  },
  {
   "cell_type": "code",
   "execution_count": null,
   "metadata": {
    "id": "aQ_eACVxtNmU"
   },
   "outputs": [],
   "source": []
  },
  {
   "cell_type": "code",
   "execution_count": null,
   "metadata": {
    "id": "-3cLiMTWtNtk"
   },
   "outputs": [],
   "source": []
  },
  {
   "cell_type": "markdown",
   "metadata": {
    "id": "liry8XmhtOHh"
   },
   "source": [
    "## **Collaborative filter recomender system**"
   ]
  },
  {
   "cell_type": "code",
   "execution_count": null,
   "metadata": {
    "id": "SRcXDLUHyoP1"
   },
   "outputs": [],
   "source": [
    "# ratings_list"
   ]
  },
  {
   "cell_type": "markdown",
   "metadata": {
    "id": "afwo3kc4jciP"
   },
   "source": [
    "### **Loading Ratings and Movie data**"
   ]
  },
  {
   "cell_type": "code",
   "execution_count": null,
   "metadata": {
    "id": "Gnxjt6XgwbcN"
   },
   "outputs": [],
   "source": [
    "ratings_df = pd.read_csv('/content/drive/MyDrive/Lambton-Stuff/data.txt', names = ['UserID', 'MovieID', 'Rating', 'Timestamp'], sep='\\t', encoding='latin-1')\n",
    "\n",
    "col_names = ['movie_id', 'movie_title', 'release_date', 'video_release_date', \n",
    "          'IMDb_URL', 'unknown', 'Action', 'Adventure', 'Animation', 'Children_s', \n",
    "          'Comedy', 'Crime', 'Documentary', 'Drama', 'Fantasy', 'Film_Noir', 'Horror', \n",
    "          'Musical', 'Mystery', 'Romance', 'Sci_Fi', 'Thriller', 'War', 'Western']\n",
    "\n",
    "movies_df = pd.read_csv('/content/drive/MyDrive/Lambton-Stuff/item.txt', names = col_names, sep='|', encoding='latin-1')\n",
    "movies_df['movie_id'] = movies_df['movie_id'].apply(pd.to_numeric)"
   ]
  },
  {
   "cell_type": "code",
   "execution_count": null,
   "metadata": {
    "colab": {
     "base_uri": "https://localhost:8080/",
     "height": 204
    },
    "id": "eg269clRwbg0",
    "outputId": "672d98c4-7f0e-41f3-b52d-1e3baf0b759d"
   },
   "outputs": [
    {
     "data": {
      "text/html": [
       "<div>\n",
       "<style scoped>\n",
       "    .dataframe tbody tr th:only-of-type {\n",
       "        vertical-align: middle;\n",
       "    }\n",
       "\n",
       "    .dataframe tbody tr th {\n",
       "        vertical-align: top;\n",
       "    }\n",
       "\n",
       "    .dataframe thead th {\n",
       "        text-align: right;\n",
       "    }\n",
       "</style>\n",
       "<table border=\"1\" class=\"dataframe\">\n",
       "  <thead>\n",
       "    <tr style=\"text-align: right;\">\n",
       "      <th></th>\n",
       "      <th>UserID</th>\n",
       "      <th>MovieID</th>\n",
       "      <th>Rating</th>\n",
       "      <th>Timestamp</th>\n",
       "    </tr>\n",
       "  </thead>\n",
       "  <tbody>\n",
       "    <tr>\n",
       "      <th>0</th>\n",
       "      <td>196</td>\n",
       "      <td>242</td>\n",
       "      <td>3</td>\n",
       "      <td>881250949</td>\n",
       "    </tr>\n",
       "    <tr>\n",
       "      <th>1</th>\n",
       "      <td>186</td>\n",
       "      <td>302</td>\n",
       "      <td>3</td>\n",
       "      <td>891717742</td>\n",
       "    </tr>\n",
       "    <tr>\n",
       "      <th>2</th>\n",
       "      <td>22</td>\n",
       "      <td>377</td>\n",
       "      <td>1</td>\n",
       "      <td>878887116</td>\n",
       "    </tr>\n",
       "    <tr>\n",
       "      <th>3</th>\n",
       "      <td>244</td>\n",
       "      <td>51</td>\n",
       "      <td>2</td>\n",
       "      <td>880606923</td>\n",
       "    </tr>\n",
       "    <tr>\n",
       "      <th>4</th>\n",
       "      <td>166</td>\n",
       "      <td>346</td>\n",
       "      <td>1</td>\n",
       "      <td>886397596</td>\n",
       "    </tr>\n",
       "  </tbody>\n",
       "</table>\n",
       "</div>"
      ],
      "text/plain": [
       "   UserID  MovieID  Rating  Timestamp\n",
       "0     196      242       3  881250949\n",
       "1     186      302       3  891717742\n",
       "2      22      377       1  878887116\n",
       "3     244       51       2  880606923\n",
       "4     166      346       1  886397596"
      ]
     },
     "execution_count": 34,
     "metadata": {
      "tags": []
     },
     "output_type": "execute_result"
    }
   ],
   "source": [
    "ratings_df.head()"
   ]
  },
  {
   "cell_type": "code",
   "execution_count": null,
   "metadata": {
    "colab": {
     "base_uri": "https://localhost:8080/",
     "height": 343
    },
    "id": "9bOe3ntzwbjO",
    "outputId": "35aaaea7-ec5e-4cd7-9b79-63934ed9fd25"
   },
   "outputs": [
    {
     "data": {
      "text/html": [
       "<div>\n",
       "<style scoped>\n",
       "    .dataframe tbody tr th:only-of-type {\n",
       "        vertical-align: middle;\n",
       "    }\n",
       "\n",
       "    .dataframe tbody tr th {\n",
       "        vertical-align: top;\n",
       "    }\n",
       "\n",
       "    .dataframe thead th {\n",
       "        text-align: right;\n",
       "    }\n",
       "</style>\n",
       "<table border=\"1\" class=\"dataframe\">\n",
       "  <thead>\n",
       "    <tr style=\"text-align: right;\">\n",
       "      <th></th>\n",
       "      <th>movie_id</th>\n",
       "      <th>movie_title</th>\n",
       "      <th>release_date</th>\n",
       "      <th>video_release_date</th>\n",
       "      <th>IMDb_URL</th>\n",
       "      <th>unknown</th>\n",
       "      <th>Action</th>\n",
       "      <th>Adventure</th>\n",
       "      <th>Animation</th>\n",
       "      <th>Children_s</th>\n",
       "      <th>Comedy</th>\n",
       "      <th>Crime</th>\n",
       "      <th>Documentary</th>\n",
       "      <th>Drama</th>\n",
       "      <th>Fantasy</th>\n",
       "      <th>Film_Noir</th>\n",
       "      <th>Horror</th>\n",
       "      <th>Musical</th>\n",
       "      <th>Mystery</th>\n",
       "      <th>Romance</th>\n",
       "      <th>Sci_Fi</th>\n",
       "      <th>Thriller</th>\n",
       "      <th>War</th>\n",
       "      <th>Western</th>\n",
       "    </tr>\n",
       "  </thead>\n",
       "  <tbody>\n",
       "    <tr>\n",
       "      <th>0</th>\n",
       "      <td>1</td>\n",
       "      <td>Toy Story (1995)</td>\n",
       "      <td>01-Jan-1995</td>\n",
       "      <td>NaN</td>\n",
       "      <td>http://us.imdb.com/M/title-exact?Toy%20Story%2...</td>\n",
       "      <td>0</td>\n",
       "      <td>0</td>\n",
       "      <td>0</td>\n",
       "      <td>1</td>\n",
       "      <td>1</td>\n",
       "      <td>1</td>\n",
       "      <td>0</td>\n",
       "      <td>0</td>\n",
       "      <td>0</td>\n",
       "      <td>0</td>\n",
       "      <td>0</td>\n",
       "      <td>0</td>\n",
       "      <td>0</td>\n",
       "      <td>0</td>\n",
       "      <td>0</td>\n",
       "      <td>0</td>\n",
       "      <td>0</td>\n",
       "      <td>0</td>\n",
       "      <td>0</td>\n",
       "    </tr>\n",
       "    <tr>\n",
       "      <th>1</th>\n",
       "      <td>2</td>\n",
       "      <td>GoldenEye (1995)</td>\n",
       "      <td>01-Jan-1995</td>\n",
       "      <td>NaN</td>\n",
       "      <td>http://us.imdb.com/M/title-exact?GoldenEye%20(...</td>\n",
       "      <td>0</td>\n",
       "      <td>1</td>\n",
       "      <td>1</td>\n",
       "      <td>0</td>\n",
       "      <td>0</td>\n",
       "      <td>0</td>\n",
       "      <td>0</td>\n",
       "      <td>0</td>\n",
       "      <td>0</td>\n",
       "      <td>0</td>\n",
       "      <td>0</td>\n",
       "      <td>0</td>\n",
       "      <td>0</td>\n",
       "      <td>0</td>\n",
       "      <td>0</td>\n",
       "      <td>0</td>\n",
       "      <td>1</td>\n",
       "      <td>0</td>\n",
       "      <td>0</td>\n",
       "    </tr>\n",
       "    <tr>\n",
       "      <th>2</th>\n",
       "      <td>3</td>\n",
       "      <td>Four Rooms (1995)</td>\n",
       "      <td>01-Jan-1995</td>\n",
       "      <td>NaN</td>\n",
       "      <td>http://us.imdb.com/M/title-exact?Four%20Rooms%...</td>\n",
       "      <td>0</td>\n",
       "      <td>0</td>\n",
       "      <td>0</td>\n",
       "      <td>0</td>\n",
       "      <td>0</td>\n",
       "      <td>0</td>\n",
       "      <td>0</td>\n",
       "      <td>0</td>\n",
       "      <td>0</td>\n",
       "      <td>0</td>\n",
       "      <td>0</td>\n",
       "      <td>0</td>\n",
       "      <td>0</td>\n",
       "      <td>0</td>\n",
       "      <td>0</td>\n",
       "      <td>0</td>\n",
       "      <td>1</td>\n",
       "      <td>0</td>\n",
       "      <td>0</td>\n",
       "    </tr>\n",
       "    <tr>\n",
       "      <th>3</th>\n",
       "      <td>4</td>\n",
       "      <td>Get Shorty (1995)</td>\n",
       "      <td>01-Jan-1995</td>\n",
       "      <td>NaN</td>\n",
       "      <td>http://us.imdb.com/M/title-exact?Get%20Shorty%...</td>\n",
       "      <td>0</td>\n",
       "      <td>1</td>\n",
       "      <td>0</td>\n",
       "      <td>0</td>\n",
       "      <td>0</td>\n",
       "      <td>1</td>\n",
       "      <td>0</td>\n",
       "      <td>0</td>\n",
       "      <td>1</td>\n",
       "      <td>0</td>\n",
       "      <td>0</td>\n",
       "      <td>0</td>\n",
       "      <td>0</td>\n",
       "      <td>0</td>\n",
       "      <td>0</td>\n",
       "      <td>0</td>\n",
       "      <td>0</td>\n",
       "      <td>0</td>\n",
       "      <td>0</td>\n",
       "    </tr>\n",
       "    <tr>\n",
       "      <th>4</th>\n",
       "      <td>5</td>\n",
       "      <td>Copycat (1995)</td>\n",
       "      <td>01-Jan-1995</td>\n",
       "      <td>NaN</td>\n",
       "      <td>http://us.imdb.com/M/title-exact?Copycat%20(1995)</td>\n",
       "      <td>0</td>\n",
       "      <td>0</td>\n",
       "      <td>0</td>\n",
       "      <td>0</td>\n",
       "      <td>0</td>\n",
       "      <td>0</td>\n",
       "      <td>1</td>\n",
       "      <td>0</td>\n",
       "      <td>1</td>\n",
       "      <td>0</td>\n",
       "      <td>0</td>\n",
       "      <td>0</td>\n",
       "      <td>0</td>\n",
       "      <td>0</td>\n",
       "      <td>0</td>\n",
       "      <td>0</td>\n",
       "      <td>1</td>\n",
       "      <td>0</td>\n",
       "      <td>0</td>\n",
       "    </tr>\n",
       "  </tbody>\n",
       "</table>\n",
       "</div>"
      ],
      "text/plain": [
       "   movie_id        movie_title release_date  ...  Thriller War  Western\n",
       "0         1   Toy Story (1995)  01-Jan-1995  ...         0   0        0\n",
       "1         2   GoldenEye (1995)  01-Jan-1995  ...         1   0        0\n",
       "2         3  Four Rooms (1995)  01-Jan-1995  ...         1   0        0\n",
       "3         4  Get Shorty (1995)  01-Jan-1995  ...         0   0        0\n",
       "4         5     Copycat (1995)  01-Jan-1995  ...         1   0        0\n",
       "\n",
       "[5 rows x 24 columns]"
      ]
     },
     "execution_count": 35,
     "metadata": {
      "tags": []
     },
     "output_type": "execute_result"
    }
   ],
   "source": [
    "movies_df.head()"
   ]
  },
  {
   "cell_type": "markdown",
   "metadata": {
    "id": "nSDMsA7pjoEQ"
   },
   "source": [
    "#### **Merge and Pivot dataframes**"
   ]
  },
  {
   "cell_type": "code",
   "execution_count": null,
   "metadata": {
    "colab": {
     "base_uri": "https://localhost:8080/",
     "height": 284
    },
    "id": "Kqt6loM0wblQ",
    "outputId": "fe1c7689-c3a7-4e3d-b143-f582754029dc"
   },
   "outputs": [
    {
     "data": {
      "text/html": [
       "<div>\n",
       "<style scoped>\n",
       "    .dataframe tbody tr th:only-of-type {\n",
       "        vertical-align: middle;\n",
       "    }\n",
       "\n",
       "    .dataframe tbody tr th {\n",
       "        vertical-align: top;\n",
       "    }\n",
       "\n",
       "    .dataframe thead th {\n",
       "        text-align: right;\n",
       "    }\n",
       "</style>\n",
       "<table border=\"1\" class=\"dataframe\">\n",
       "  <thead>\n",
       "    <tr style=\"text-align: right;\">\n",
       "      <th>MovieID</th>\n",
       "      <th>1</th>\n",
       "      <th>2</th>\n",
       "      <th>3</th>\n",
       "      <th>4</th>\n",
       "      <th>5</th>\n",
       "      <th>6</th>\n",
       "      <th>7</th>\n",
       "      <th>8</th>\n",
       "      <th>9</th>\n",
       "      <th>10</th>\n",
       "      <th>11</th>\n",
       "      <th>12</th>\n",
       "      <th>13</th>\n",
       "      <th>14</th>\n",
       "      <th>15</th>\n",
       "      <th>16</th>\n",
       "      <th>17</th>\n",
       "      <th>18</th>\n",
       "      <th>19</th>\n",
       "      <th>20</th>\n",
       "      <th>21</th>\n",
       "      <th>22</th>\n",
       "      <th>23</th>\n",
       "      <th>24</th>\n",
       "      <th>25</th>\n",
       "      <th>26</th>\n",
       "      <th>27</th>\n",
       "      <th>28</th>\n",
       "      <th>29</th>\n",
       "      <th>30</th>\n",
       "      <th>31</th>\n",
       "      <th>32</th>\n",
       "      <th>33</th>\n",
       "      <th>34</th>\n",
       "      <th>35</th>\n",
       "      <th>36</th>\n",
       "      <th>37</th>\n",
       "      <th>38</th>\n",
       "      <th>39</th>\n",
       "      <th>40</th>\n",
       "      <th>...</th>\n",
       "      <th>1643</th>\n",
       "      <th>1644</th>\n",
       "      <th>1645</th>\n",
       "      <th>1646</th>\n",
       "      <th>1647</th>\n",
       "      <th>1648</th>\n",
       "      <th>1649</th>\n",
       "      <th>1650</th>\n",
       "      <th>1651</th>\n",
       "      <th>1652</th>\n",
       "      <th>1653</th>\n",
       "      <th>1654</th>\n",
       "      <th>1655</th>\n",
       "      <th>1656</th>\n",
       "      <th>1657</th>\n",
       "      <th>1658</th>\n",
       "      <th>1659</th>\n",
       "      <th>1660</th>\n",
       "      <th>1661</th>\n",
       "      <th>1662</th>\n",
       "      <th>1663</th>\n",
       "      <th>1664</th>\n",
       "      <th>1665</th>\n",
       "      <th>1666</th>\n",
       "      <th>1667</th>\n",
       "      <th>1668</th>\n",
       "      <th>1669</th>\n",
       "      <th>1670</th>\n",
       "      <th>1671</th>\n",
       "      <th>1672</th>\n",
       "      <th>1673</th>\n",
       "      <th>1674</th>\n",
       "      <th>1675</th>\n",
       "      <th>1676</th>\n",
       "      <th>1677</th>\n",
       "      <th>1678</th>\n",
       "      <th>1679</th>\n",
       "      <th>1680</th>\n",
       "      <th>1681</th>\n",
       "      <th>1682</th>\n",
       "    </tr>\n",
       "    <tr>\n",
       "      <th>UserID</th>\n",
       "      <th></th>\n",
       "      <th></th>\n",
       "      <th></th>\n",
       "      <th></th>\n",
       "      <th></th>\n",
       "      <th></th>\n",
       "      <th></th>\n",
       "      <th></th>\n",
       "      <th></th>\n",
       "      <th></th>\n",
       "      <th></th>\n",
       "      <th></th>\n",
       "      <th></th>\n",
       "      <th></th>\n",
       "      <th></th>\n",
       "      <th></th>\n",
       "      <th></th>\n",
       "      <th></th>\n",
       "      <th></th>\n",
       "      <th></th>\n",
       "      <th></th>\n",
       "      <th></th>\n",
       "      <th></th>\n",
       "      <th></th>\n",
       "      <th></th>\n",
       "      <th></th>\n",
       "      <th></th>\n",
       "      <th></th>\n",
       "      <th></th>\n",
       "      <th></th>\n",
       "      <th></th>\n",
       "      <th></th>\n",
       "      <th></th>\n",
       "      <th></th>\n",
       "      <th></th>\n",
       "      <th></th>\n",
       "      <th></th>\n",
       "      <th></th>\n",
       "      <th></th>\n",
       "      <th></th>\n",
       "      <th></th>\n",
       "      <th></th>\n",
       "      <th></th>\n",
       "      <th></th>\n",
       "      <th></th>\n",
       "      <th></th>\n",
       "      <th></th>\n",
       "      <th></th>\n",
       "      <th></th>\n",
       "      <th></th>\n",
       "      <th></th>\n",
       "      <th></th>\n",
       "      <th></th>\n",
       "      <th></th>\n",
       "      <th></th>\n",
       "      <th></th>\n",
       "      <th></th>\n",
       "      <th></th>\n",
       "      <th></th>\n",
       "      <th></th>\n",
       "      <th></th>\n",
       "      <th></th>\n",
       "      <th></th>\n",
       "      <th></th>\n",
       "      <th></th>\n",
       "      <th></th>\n",
       "      <th></th>\n",
       "      <th></th>\n",
       "      <th></th>\n",
       "      <th></th>\n",
       "      <th></th>\n",
       "      <th></th>\n",
       "      <th></th>\n",
       "      <th></th>\n",
       "      <th></th>\n",
       "      <th></th>\n",
       "      <th></th>\n",
       "      <th></th>\n",
       "      <th></th>\n",
       "      <th></th>\n",
       "      <th></th>\n",
       "    </tr>\n",
       "  </thead>\n",
       "  <tbody>\n",
       "    <tr>\n",
       "      <th>1</th>\n",
       "      <td>5.0</td>\n",
       "      <td>3.0</td>\n",
       "      <td>4.0</td>\n",
       "      <td>3.0</td>\n",
       "      <td>3.0</td>\n",
       "      <td>5.0</td>\n",
       "      <td>4.0</td>\n",
       "      <td>1.0</td>\n",
       "      <td>5.0</td>\n",
       "      <td>3.0</td>\n",
       "      <td>2.0</td>\n",
       "      <td>5.0</td>\n",
       "      <td>5.0</td>\n",
       "      <td>5.0</td>\n",
       "      <td>5.0</td>\n",
       "      <td>5.0</td>\n",
       "      <td>3.0</td>\n",
       "      <td>4.0</td>\n",
       "      <td>5.0</td>\n",
       "      <td>4.0</td>\n",
       "      <td>1.0</td>\n",
       "      <td>4.0</td>\n",
       "      <td>4.0</td>\n",
       "      <td>3.0</td>\n",
       "      <td>4.0</td>\n",
       "      <td>3.0</td>\n",
       "      <td>2.0</td>\n",
       "      <td>4.0</td>\n",
       "      <td>1.0</td>\n",
       "      <td>3.0</td>\n",
       "      <td>3.0</td>\n",
       "      <td>5.0</td>\n",
       "      <td>4.0</td>\n",
       "      <td>2.0</td>\n",
       "      <td>1.0</td>\n",
       "      <td>2.0</td>\n",
       "      <td>2.0</td>\n",
       "      <td>3.0</td>\n",
       "      <td>4.0</td>\n",
       "      <td>3.0</td>\n",
       "      <td>...</td>\n",
       "      <td>0.0</td>\n",
       "      <td>0.0</td>\n",
       "      <td>0.0</td>\n",
       "      <td>0.0</td>\n",
       "      <td>0.0</td>\n",
       "      <td>0.0</td>\n",
       "      <td>0.0</td>\n",
       "      <td>0.0</td>\n",
       "      <td>0.0</td>\n",
       "      <td>0.0</td>\n",
       "      <td>0.0</td>\n",
       "      <td>0.0</td>\n",
       "      <td>0.0</td>\n",
       "      <td>0.0</td>\n",
       "      <td>0.0</td>\n",
       "      <td>0.0</td>\n",
       "      <td>0.0</td>\n",
       "      <td>0.0</td>\n",
       "      <td>0.0</td>\n",
       "      <td>0.0</td>\n",
       "      <td>0.0</td>\n",
       "      <td>0.0</td>\n",
       "      <td>0.0</td>\n",
       "      <td>0.0</td>\n",
       "      <td>0.0</td>\n",
       "      <td>0.0</td>\n",
       "      <td>0.0</td>\n",
       "      <td>0.0</td>\n",
       "      <td>0.0</td>\n",
       "      <td>0.0</td>\n",
       "      <td>0.0</td>\n",
       "      <td>0.0</td>\n",
       "      <td>0.0</td>\n",
       "      <td>0.0</td>\n",
       "      <td>0.0</td>\n",
       "      <td>0.0</td>\n",
       "      <td>0.0</td>\n",
       "      <td>0.0</td>\n",
       "      <td>0.0</td>\n",
       "      <td>0.0</td>\n",
       "    </tr>\n",
       "    <tr>\n",
       "      <th>2</th>\n",
       "      <td>4.0</td>\n",
       "      <td>0.0</td>\n",
       "      <td>0.0</td>\n",
       "      <td>0.0</td>\n",
       "      <td>0.0</td>\n",
       "      <td>0.0</td>\n",
       "      <td>0.0</td>\n",
       "      <td>0.0</td>\n",
       "      <td>0.0</td>\n",
       "      <td>2.0</td>\n",
       "      <td>0.0</td>\n",
       "      <td>0.0</td>\n",
       "      <td>4.0</td>\n",
       "      <td>4.0</td>\n",
       "      <td>0.0</td>\n",
       "      <td>0.0</td>\n",
       "      <td>0.0</td>\n",
       "      <td>0.0</td>\n",
       "      <td>3.0</td>\n",
       "      <td>0.0</td>\n",
       "      <td>0.0</td>\n",
       "      <td>0.0</td>\n",
       "      <td>0.0</td>\n",
       "      <td>0.0</td>\n",
       "      <td>4.0</td>\n",
       "      <td>0.0</td>\n",
       "      <td>0.0</td>\n",
       "      <td>0.0</td>\n",
       "      <td>0.0</td>\n",
       "      <td>0.0</td>\n",
       "      <td>0.0</td>\n",
       "      <td>0.0</td>\n",
       "      <td>0.0</td>\n",
       "      <td>0.0</td>\n",
       "      <td>0.0</td>\n",
       "      <td>0.0</td>\n",
       "      <td>0.0</td>\n",
       "      <td>0.0</td>\n",
       "      <td>0.0</td>\n",
       "      <td>0.0</td>\n",
       "      <td>...</td>\n",
       "      <td>0.0</td>\n",
       "      <td>0.0</td>\n",
       "      <td>0.0</td>\n",
       "      <td>0.0</td>\n",
       "      <td>0.0</td>\n",
       "      <td>0.0</td>\n",
       "      <td>0.0</td>\n",
       "      <td>0.0</td>\n",
       "      <td>0.0</td>\n",
       "      <td>0.0</td>\n",
       "      <td>0.0</td>\n",
       "      <td>0.0</td>\n",
       "      <td>0.0</td>\n",
       "      <td>0.0</td>\n",
       "      <td>0.0</td>\n",
       "      <td>0.0</td>\n",
       "      <td>0.0</td>\n",
       "      <td>0.0</td>\n",
       "      <td>0.0</td>\n",
       "      <td>0.0</td>\n",
       "      <td>0.0</td>\n",
       "      <td>0.0</td>\n",
       "      <td>0.0</td>\n",
       "      <td>0.0</td>\n",
       "      <td>0.0</td>\n",
       "      <td>0.0</td>\n",
       "      <td>0.0</td>\n",
       "      <td>0.0</td>\n",
       "      <td>0.0</td>\n",
       "      <td>0.0</td>\n",
       "      <td>0.0</td>\n",
       "      <td>0.0</td>\n",
       "      <td>0.0</td>\n",
       "      <td>0.0</td>\n",
       "      <td>0.0</td>\n",
       "      <td>0.0</td>\n",
       "      <td>0.0</td>\n",
       "      <td>0.0</td>\n",
       "      <td>0.0</td>\n",
       "      <td>0.0</td>\n",
       "    </tr>\n",
       "    <tr>\n",
       "      <th>3</th>\n",
       "      <td>0.0</td>\n",
       "      <td>0.0</td>\n",
       "      <td>0.0</td>\n",
       "      <td>0.0</td>\n",
       "      <td>0.0</td>\n",
       "      <td>0.0</td>\n",
       "      <td>0.0</td>\n",
       "      <td>0.0</td>\n",
       "      <td>0.0</td>\n",
       "      <td>0.0</td>\n",
       "      <td>0.0</td>\n",
       "      <td>0.0</td>\n",
       "      <td>0.0</td>\n",
       "      <td>0.0</td>\n",
       "      <td>0.0</td>\n",
       "      <td>0.0</td>\n",
       "      <td>0.0</td>\n",
       "      <td>0.0</td>\n",
       "      <td>0.0</td>\n",
       "      <td>0.0</td>\n",
       "      <td>0.0</td>\n",
       "      <td>0.0</td>\n",
       "      <td>0.0</td>\n",
       "      <td>0.0</td>\n",
       "      <td>0.0</td>\n",
       "      <td>0.0</td>\n",
       "      <td>0.0</td>\n",
       "      <td>0.0</td>\n",
       "      <td>0.0</td>\n",
       "      <td>0.0</td>\n",
       "      <td>0.0</td>\n",
       "      <td>0.0</td>\n",
       "      <td>0.0</td>\n",
       "      <td>0.0</td>\n",
       "      <td>0.0</td>\n",
       "      <td>0.0</td>\n",
       "      <td>0.0</td>\n",
       "      <td>0.0</td>\n",
       "      <td>0.0</td>\n",
       "      <td>0.0</td>\n",
       "      <td>...</td>\n",
       "      <td>0.0</td>\n",
       "      <td>0.0</td>\n",
       "      <td>0.0</td>\n",
       "      <td>0.0</td>\n",
       "      <td>0.0</td>\n",
       "      <td>0.0</td>\n",
       "      <td>0.0</td>\n",
       "      <td>0.0</td>\n",
       "      <td>0.0</td>\n",
       "      <td>0.0</td>\n",
       "      <td>0.0</td>\n",
       "      <td>0.0</td>\n",
       "      <td>0.0</td>\n",
       "      <td>0.0</td>\n",
       "      <td>0.0</td>\n",
       "      <td>0.0</td>\n",
       "      <td>0.0</td>\n",
       "      <td>0.0</td>\n",
       "      <td>0.0</td>\n",
       "      <td>0.0</td>\n",
       "      <td>0.0</td>\n",
       "      <td>0.0</td>\n",
       "      <td>0.0</td>\n",
       "      <td>0.0</td>\n",
       "      <td>0.0</td>\n",
       "      <td>0.0</td>\n",
       "      <td>0.0</td>\n",
       "      <td>0.0</td>\n",
       "      <td>0.0</td>\n",
       "      <td>0.0</td>\n",
       "      <td>0.0</td>\n",
       "      <td>0.0</td>\n",
       "      <td>0.0</td>\n",
       "      <td>0.0</td>\n",
       "      <td>0.0</td>\n",
       "      <td>0.0</td>\n",
       "      <td>0.0</td>\n",
       "      <td>0.0</td>\n",
       "      <td>0.0</td>\n",
       "      <td>0.0</td>\n",
       "    </tr>\n",
       "    <tr>\n",
       "      <th>4</th>\n",
       "      <td>0.0</td>\n",
       "      <td>0.0</td>\n",
       "      <td>0.0</td>\n",
       "      <td>0.0</td>\n",
       "      <td>0.0</td>\n",
       "      <td>0.0</td>\n",
       "      <td>0.0</td>\n",
       "      <td>0.0</td>\n",
       "      <td>0.0</td>\n",
       "      <td>0.0</td>\n",
       "      <td>4.0</td>\n",
       "      <td>0.0</td>\n",
       "      <td>0.0</td>\n",
       "      <td>0.0</td>\n",
       "      <td>0.0</td>\n",
       "      <td>0.0</td>\n",
       "      <td>0.0</td>\n",
       "      <td>0.0</td>\n",
       "      <td>0.0</td>\n",
       "      <td>0.0</td>\n",
       "      <td>0.0</td>\n",
       "      <td>0.0</td>\n",
       "      <td>0.0</td>\n",
       "      <td>0.0</td>\n",
       "      <td>0.0</td>\n",
       "      <td>0.0</td>\n",
       "      <td>0.0</td>\n",
       "      <td>0.0</td>\n",
       "      <td>0.0</td>\n",
       "      <td>0.0</td>\n",
       "      <td>0.0</td>\n",
       "      <td>0.0</td>\n",
       "      <td>0.0</td>\n",
       "      <td>0.0</td>\n",
       "      <td>0.0</td>\n",
       "      <td>0.0</td>\n",
       "      <td>0.0</td>\n",
       "      <td>0.0</td>\n",
       "      <td>0.0</td>\n",
       "      <td>0.0</td>\n",
       "      <td>...</td>\n",
       "      <td>0.0</td>\n",
       "      <td>0.0</td>\n",
       "      <td>0.0</td>\n",
       "      <td>0.0</td>\n",
       "      <td>0.0</td>\n",
       "      <td>0.0</td>\n",
       "      <td>0.0</td>\n",
       "      <td>0.0</td>\n",
       "      <td>0.0</td>\n",
       "      <td>0.0</td>\n",
       "      <td>0.0</td>\n",
       "      <td>0.0</td>\n",
       "      <td>0.0</td>\n",
       "      <td>0.0</td>\n",
       "      <td>0.0</td>\n",
       "      <td>0.0</td>\n",
       "      <td>0.0</td>\n",
       "      <td>0.0</td>\n",
       "      <td>0.0</td>\n",
       "      <td>0.0</td>\n",
       "      <td>0.0</td>\n",
       "      <td>0.0</td>\n",
       "      <td>0.0</td>\n",
       "      <td>0.0</td>\n",
       "      <td>0.0</td>\n",
       "      <td>0.0</td>\n",
       "      <td>0.0</td>\n",
       "      <td>0.0</td>\n",
       "      <td>0.0</td>\n",
       "      <td>0.0</td>\n",
       "      <td>0.0</td>\n",
       "      <td>0.0</td>\n",
       "      <td>0.0</td>\n",
       "      <td>0.0</td>\n",
       "      <td>0.0</td>\n",
       "      <td>0.0</td>\n",
       "      <td>0.0</td>\n",
       "      <td>0.0</td>\n",
       "      <td>0.0</td>\n",
       "      <td>0.0</td>\n",
       "    </tr>\n",
       "    <tr>\n",
       "      <th>5</th>\n",
       "      <td>4.0</td>\n",
       "      <td>3.0</td>\n",
       "      <td>0.0</td>\n",
       "      <td>0.0</td>\n",
       "      <td>0.0</td>\n",
       "      <td>0.0</td>\n",
       "      <td>0.0</td>\n",
       "      <td>0.0</td>\n",
       "      <td>0.0</td>\n",
       "      <td>0.0</td>\n",
       "      <td>0.0</td>\n",
       "      <td>0.0</td>\n",
       "      <td>0.0</td>\n",
       "      <td>0.0</td>\n",
       "      <td>0.0</td>\n",
       "      <td>0.0</td>\n",
       "      <td>4.0</td>\n",
       "      <td>0.0</td>\n",
       "      <td>0.0</td>\n",
       "      <td>0.0</td>\n",
       "      <td>3.0</td>\n",
       "      <td>0.0</td>\n",
       "      <td>0.0</td>\n",
       "      <td>4.0</td>\n",
       "      <td>3.0</td>\n",
       "      <td>0.0</td>\n",
       "      <td>0.0</td>\n",
       "      <td>0.0</td>\n",
       "      <td>4.0</td>\n",
       "      <td>0.0</td>\n",
       "      <td>0.0</td>\n",
       "      <td>0.0</td>\n",
       "      <td>0.0</td>\n",
       "      <td>0.0</td>\n",
       "      <td>0.0</td>\n",
       "      <td>0.0</td>\n",
       "      <td>0.0</td>\n",
       "      <td>0.0</td>\n",
       "      <td>0.0</td>\n",
       "      <td>4.0</td>\n",
       "      <td>...</td>\n",
       "      <td>0.0</td>\n",
       "      <td>0.0</td>\n",
       "      <td>0.0</td>\n",
       "      <td>0.0</td>\n",
       "      <td>0.0</td>\n",
       "      <td>0.0</td>\n",
       "      <td>0.0</td>\n",
       "      <td>0.0</td>\n",
       "      <td>0.0</td>\n",
       "      <td>0.0</td>\n",
       "      <td>0.0</td>\n",
       "      <td>0.0</td>\n",
       "      <td>0.0</td>\n",
       "      <td>0.0</td>\n",
       "      <td>0.0</td>\n",
       "      <td>0.0</td>\n",
       "      <td>0.0</td>\n",
       "      <td>0.0</td>\n",
       "      <td>0.0</td>\n",
       "      <td>0.0</td>\n",
       "      <td>0.0</td>\n",
       "      <td>0.0</td>\n",
       "      <td>0.0</td>\n",
       "      <td>0.0</td>\n",
       "      <td>0.0</td>\n",
       "      <td>0.0</td>\n",
       "      <td>0.0</td>\n",
       "      <td>0.0</td>\n",
       "      <td>0.0</td>\n",
       "      <td>0.0</td>\n",
       "      <td>0.0</td>\n",
       "      <td>0.0</td>\n",
       "      <td>0.0</td>\n",
       "      <td>0.0</td>\n",
       "      <td>0.0</td>\n",
       "      <td>0.0</td>\n",
       "      <td>0.0</td>\n",
       "      <td>0.0</td>\n",
       "      <td>0.0</td>\n",
       "      <td>0.0</td>\n",
       "    </tr>\n",
       "  </tbody>\n",
       "</table>\n",
       "<p>5 rows × 1682 columns</p>\n",
       "</div>"
      ],
      "text/plain": [
       "MovieID  1     2     3     4     5     6     ...  1677  1678  1679  1680  1681  1682\n",
       "UserID                                       ...                                    \n",
       "1         5.0   3.0   4.0   3.0   3.0   5.0  ...   0.0   0.0   0.0   0.0   0.0   0.0\n",
       "2         4.0   0.0   0.0   0.0   0.0   0.0  ...   0.0   0.0   0.0   0.0   0.0   0.0\n",
       "3         0.0   0.0   0.0   0.0   0.0   0.0  ...   0.0   0.0   0.0   0.0   0.0   0.0\n",
       "4         0.0   0.0   0.0   0.0   0.0   0.0  ...   0.0   0.0   0.0   0.0   0.0   0.0\n",
       "5         4.0   3.0   0.0   0.0   0.0   0.0  ...   0.0   0.0   0.0   0.0   0.0   0.0\n",
       "\n",
       "[5 rows x 1682 columns]"
      ]
     },
     "execution_count": 36,
     "metadata": {
      "tags": []
     },
     "output_type": "execute_result"
    }
   ],
   "source": [
    "R_df = ratings_df.pivot(index = 'UserID', columns ='MovieID', values = 'Rating').fillna(0)\n",
    "R_df.head()"
   ]
  },
  {
   "cell_type": "code",
   "execution_count": null,
   "metadata": {
    "id": "KDUqzYvVwbng"
   },
   "outputs": [],
   "source": [
    "R = R_df.to_numpy()\n",
    "user_ratings_mean = np.mean(R, axis = 1)\n",
    "R_demeaned = R - user_ratings_mean.reshape(-1, 1)"
   ]
  },
  {
   "cell_type": "code",
   "execution_count": null,
   "metadata": {
    "colab": {
     "base_uri": "https://localhost:8080/"
    },
    "id": "9Clwex-Q_Uz0",
    "outputId": "25414cf4-3e59-4411-8563-d8cda8ba4734"
   },
   "outputs": [
    {
     "data": {
      "text/plain": [
       "array([[ 4.41617122,  2.41617122,  3.41617122, ..., -0.58382878,\n",
       "        -0.58382878, -0.58382878],\n",
       "       [ 3.86325803, -0.13674197, -0.13674197, ..., -0.13674197,\n",
       "        -0.13674197, -0.13674197],\n",
       "       [-0.08977408, -0.08977408, -0.08977408, ..., -0.08977408,\n",
       "        -0.08977408, -0.08977408],\n",
       "       ...,\n",
       "       [ 4.9470868 , -0.0529132 , -0.0529132 , ..., -0.0529132 ,\n",
       "        -0.0529132 , -0.0529132 ],\n",
       "       [-0.20035672, -0.20035672, -0.20035672, ..., -0.20035672,\n",
       "        -0.20035672, -0.20035672],\n",
       "       [-0.34066587,  4.65933413, -0.34066587, ..., -0.34066587,\n",
       "        -0.34066587, -0.34066587]])"
      ]
     },
     "execution_count": 38,
     "metadata": {
      "tags": []
     },
     "output_type": "execute_result"
    }
   ],
   "source": [
    "R_demeaned"
   ]
  },
  {
   "cell_type": "code",
   "execution_count": null,
   "metadata": {
    "id": "VKPIeFHw2WxT"
   },
   "outputs": [],
   "source": [
    "from scipy.sparse.linalg import svds\n",
    "U, sigma, Vt = svds(R_demeaned, k = 50)"
   ]
  },
  {
   "cell_type": "code",
   "execution_count": null,
   "metadata": {
    "id": "ywjsifxO2XKc"
   },
   "outputs": [],
   "source": [
    "sigma = np.diag(sigma)"
   ]
  },
  {
   "cell_type": "code",
   "execution_count": null,
   "metadata": {
    "id": "AqMup6Jr2XM1"
   },
   "outputs": [],
   "source": [
    "all_user_predicted_ratings = np.dot(np.dot(U, sigma), Vt) + user_ratings_mean.reshape(-1, 1)\n",
    "preds_df = pd.DataFrame(all_user_predicted_ratings, columns = R_df.columns)"
   ]
  },
  {
   "cell_type": "code",
   "execution_count": null,
   "metadata": {
    "id": "xbT4zwcs2XPC"
   },
   "outputs": [],
   "source": []
  },
  {
   "cell_type": "markdown",
   "metadata": {
    "id": "rFLOUFTjklFp"
   },
   "source": [
    "### **Function to Predict**"
   ]
  },
  {
   "cell_type": "code",
   "execution_count": null,
   "metadata": {
    "colab": {
     "base_uri": "https://localhost:8080/"
    },
    "id": "tWhirr-N2XQ6",
    "outputId": "4f6b1411-9169-41e8-a12c-67cc7eff0aaf"
   },
   "outputs": [
    {
     "name": "stdout",
     "output_type": "stream",
     "text": [
      "User 837 has already rated 46 movies.\n",
      "Recommending the highest 10 predicted ratings movies not already rated.\n"
     ]
    }
   ],
   "source": [
    "def recommend_movies(predictions_df, userID, movies_df, original_ratings_df, num_recommendations=5):\n",
    "    \n",
    "    # Get and sort the user's predictions\n",
    "    user_row_number = userID - 1 # UserID starts at 1, not 0\n",
    "    sorted_user_predictions = predictions_df.iloc[user_row_number].sort_values(ascending=False)\n",
    "    \n",
    "    # Get the user's data and merge in the movie information.\n",
    "    user_data = original_ratings_df[original_ratings_df.UserID == (userID)]\n",
    "    user_full = (user_data.merge(movies_df, how = 'left', left_on = 'MovieID', right_on = 'movie_id').\n",
    "                     sort_values(['Rating'], ascending=False)\n",
    "                 )\n",
    "\n",
    "    print('User {0} has already rated {1} movies.'.format(userID, user_full.shape[0]))\n",
    "    print('Recommending the highest {0} predicted ratings movies not already rated.'.format(num_recommendations))\n",
    "    \n",
    "    # Recommend the highest predicted rating movies that the user hasn't seen yet.\n",
    "    recommendations = (movies_df[~movies_df['movie_id'].isin(user_full['movie_id'])].\n",
    "         merge(pd.DataFrame(sorted_user_predictions).reset_index(), how = 'left',\n",
    "               left_on = 'movie_id',\n",
    "               right_on = 'MovieID').\n",
    "         rename(columns = {user_row_number: 'Predictions'}).\n",
    "         sort_values('Predictions', ascending = False).\n",
    "                       iloc[:num_recommendations, :-1]\n",
    "                      )\n",
    "\n",
    "    return user_full, recommendations\n",
    "\n",
    "already_rated, predictions = recommend_movies(preds_df, 837, movies_df, ratings_df, 10)"
   ]
  },
  {
   "cell_type": "code",
   "execution_count": null,
   "metadata": {
    "colab": {
     "base_uri": "https://localhost:8080/",
     "height": 685
    },
    "id": "I1VNIqdc2XTO",
    "outputId": "fbc80b03-80fd-47ee-856d-6b41d3f32c91"
   },
   "outputs": [
    {
     "data": {
      "text/html": [
       "<div>\n",
       "<style scoped>\n",
       "    .dataframe tbody tr th:only-of-type {\n",
       "        vertical-align: middle;\n",
       "    }\n",
       "\n",
       "    .dataframe tbody tr th {\n",
       "        vertical-align: top;\n",
       "    }\n",
       "\n",
       "    .dataframe thead th {\n",
       "        text-align: right;\n",
       "    }\n",
       "</style>\n",
       "<table border=\"1\" class=\"dataframe\">\n",
       "  <thead>\n",
       "    <tr style=\"text-align: right;\">\n",
       "      <th></th>\n",
       "      <th>UserID</th>\n",
       "      <th>MovieID</th>\n",
       "      <th>Rating</th>\n",
       "      <th>Timestamp</th>\n",
       "      <th>movie_id</th>\n",
       "      <th>movie_title</th>\n",
       "      <th>release_date</th>\n",
       "      <th>video_release_date</th>\n",
       "      <th>IMDb_URL</th>\n",
       "      <th>unknown</th>\n",
       "      <th>Action</th>\n",
       "      <th>Adventure</th>\n",
       "      <th>Animation</th>\n",
       "      <th>Children_s</th>\n",
       "      <th>Comedy</th>\n",
       "      <th>Crime</th>\n",
       "      <th>Documentary</th>\n",
       "      <th>Drama</th>\n",
       "      <th>Fantasy</th>\n",
       "      <th>Film_Noir</th>\n",
       "      <th>Horror</th>\n",
       "      <th>Musical</th>\n",
       "      <th>Mystery</th>\n",
       "      <th>Romance</th>\n",
       "      <th>Sci_Fi</th>\n",
       "      <th>Thriller</th>\n",
       "      <th>War</th>\n",
       "      <th>Western</th>\n",
       "    </tr>\n",
       "  </thead>\n",
       "  <tbody>\n",
       "    <tr>\n",
       "      <th>44</th>\n",
       "      <td>837</td>\n",
       "      <td>740</td>\n",
       "      <td>5</td>\n",
       "      <td>875722123</td>\n",
       "      <td>740</td>\n",
       "      <td>Jane Eyre (1996)</td>\n",
       "      <td>05-Apr-1996</td>\n",
       "      <td>NaN</td>\n",
       "      <td>http://us.imdb.com/M/title-exact?Jane%20Eyre%2...</td>\n",
       "      <td>0</td>\n",
       "      <td>0</td>\n",
       "      <td>0</td>\n",
       "      <td>0</td>\n",
       "      <td>0</td>\n",
       "      <td>0</td>\n",
       "      <td>0</td>\n",
       "      <td>0</td>\n",
       "      <td>1</td>\n",
       "      <td>0</td>\n",
       "      <td>0</td>\n",
       "      <td>0</td>\n",
       "      <td>0</td>\n",
       "      <td>0</td>\n",
       "      <td>1</td>\n",
       "      <td>0</td>\n",
       "      <td>0</td>\n",
       "      <td>0</td>\n",
       "      <td>0</td>\n",
       "    </tr>\n",
       "    <tr>\n",
       "      <th>37</th>\n",
       "      <td>837</td>\n",
       "      <td>1009</td>\n",
       "      <td>5</td>\n",
       "      <td>875721765</td>\n",
       "      <td>1009</td>\n",
       "      <td>Stealing Beauty (1996)</td>\n",
       "      <td>14-Jun-1996</td>\n",
       "      <td>NaN</td>\n",
       "      <td>http://us.imdb.com/M/title-exact?Stealing%20Be...</td>\n",
       "      <td>0</td>\n",
       "      <td>0</td>\n",
       "      <td>0</td>\n",
       "      <td>0</td>\n",
       "      <td>0</td>\n",
       "      <td>0</td>\n",
       "      <td>0</td>\n",
       "      <td>0</td>\n",
       "      <td>1</td>\n",
       "      <td>0</td>\n",
       "      <td>0</td>\n",
       "      <td>0</td>\n",
       "      <td>0</td>\n",
       "      <td>0</td>\n",
       "      <td>0</td>\n",
       "      <td>0</td>\n",
       "      <td>0</td>\n",
       "      <td>0</td>\n",
       "      <td>0</td>\n",
       "    </tr>\n",
       "    <tr>\n",
       "      <th>9</th>\n",
       "      <td>837</td>\n",
       "      <td>283</td>\n",
       "      <td>5</td>\n",
       "      <td>875722069</td>\n",
       "      <td>283</td>\n",
       "      <td>Emma (1996)</td>\n",
       "      <td>02-Aug-1996</td>\n",
       "      <td>NaN</td>\n",
       "      <td>http://us.imdb.com/M/title-exact?Emma%20(1996)</td>\n",
       "      <td>0</td>\n",
       "      <td>0</td>\n",
       "      <td>0</td>\n",
       "      <td>0</td>\n",
       "      <td>0</td>\n",
       "      <td>0</td>\n",
       "      <td>0</td>\n",
       "      <td>0</td>\n",
       "      <td>1</td>\n",
       "      <td>0</td>\n",
       "      <td>0</td>\n",
       "      <td>0</td>\n",
       "      <td>0</td>\n",
       "      <td>0</td>\n",
       "      <td>1</td>\n",
       "      <td>0</td>\n",
       "      <td>0</td>\n",
       "      <td>0</td>\n",
       "      <td>0</td>\n",
       "    </tr>\n",
       "    <tr>\n",
       "      <th>36</th>\n",
       "      <td>837</td>\n",
       "      <td>125</td>\n",
       "      <td>5</td>\n",
       "      <td>875722032</td>\n",
       "      <td>125</td>\n",
       "      <td>Phenomenon (1996)</td>\n",
       "      <td>29-Jun-1996</td>\n",
       "      <td>NaN</td>\n",
       "      <td>http://us.imdb.com/M/title-exact?Phenomenon%20...</td>\n",
       "      <td>0</td>\n",
       "      <td>0</td>\n",
       "      <td>0</td>\n",
       "      <td>0</td>\n",
       "      <td>0</td>\n",
       "      <td>0</td>\n",
       "      <td>0</td>\n",
       "      <td>0</td>\n",
       "      <td>1</td>\n",
       "      <td>0</td>\n",
       "      <td>0</td>\n",
       "      <td>0</td>\n",
       "      <td>0</td>\n",
       "      <td>0</td>\n",
       "      <td>1</td>\n",
       "      <td>0</td>\n",
       "      <td>0</td>\n",
       "      <td>0</td>\n",
       "      <td>0</td>\n",
       "    </tr>\n",
       "    <tr>\n",
       "      <th>11</th>\n",
       "      <td>837</td>\n",
       "      <td>289</td>\n",
       "      <td>5</td>\n",
       "      <td>875721539</td>\n",
       "      <td>289</td>\n",
       "      <td>Evita (1996)</td>\n",
       "      <td>25-Dec-1996</td>\n",
       "      <td>NaN</td>\n",
       "      <td>http://us.imdb.com/M/title-exact?Evita%20(1996)</td>\n",
       "      <td>0</td>\n",
       "      <td>0</td>\n",
       "      <td>0</td>\n",
       "      <td>0</td>\n",
       "      <td>0</td>\n",
       "      <td>0</td>\n",
       "      <td>0</td>\n",
       "      <td>0</td>\n",
       "      <td>1</td>\n",
       "      <td>0</td>\n",
       "      <td>0</td>\n",
       "      <td>0</td>\n",
       "      <td>1</td>\n",
       "      <td>0</td>\n",
       "      <td>0</td>\n",
       "      <td>0</td>\n",
       "      <td>0</td>\n",
       "      <td>0</td>\n",
       "      <td>0</td>\n",
       "    </tr>\n",
       "    <tr>\n",
       "      <th>24</th>\n",
       "      <td>837</td>\n",
       "      <td>151</td>\n",
       "      <td>5</td>\n",
       "      <td>875721734</td>\n",
       "      <td>151</td>\n",
       "      <td>Willy Wonka and the Chocolate Factory (1971)</td>\n",
       "      <td>01-Jan-1971</td>\n",
       "      <td>NaN</td>\n",
       "      <td>http://us.imdb.com/M/title-exact?Willy%20Wonka...</td>\n",
       "      <td>0</td>\n",
       "      <td>0</td>\n",
       "      <td>1</td>\n",
       "      <td>0</td>\n",
       "      <td>1</td>\n",
       "      <td>1</td>\n",
       "      <td>0</td>\n",
       "      <td>0</td>\n",
       "      <td>0</td>\n",
       "      <td>0</td>\n",
       "      <td>0</td>\n",
       "      <td>0</td>\n",
       "      <td>0</td>\n",
       "      <td>0</td>\n",
       "      <td>0</td>\n",
       "      <td>0</td>\n",
       "      <td>0</td>\n",
       "      <td>0</td>\n",
       "      <td>0</td>\n",
       "    </tr>\n",
       "    <tr>\n",
       "      <th>23</th>\n",
       "      <td>837</td>\n",
       "      <td>258</td>\n",
       "      <td>4</td>\n",
       "      <td>875721473</td>\n",
       "      <td>258</td>\n",
       "      <td>Contact (1997)</td>\n",
       "      <td>11-Jul-1997</td>\n",
       "      <td>NaN</td>\n",
       "      <td>http://us.imdb.com/Title?Contact+(1997/I)</td>\n",
       "      <td>0</td>\n",
       "      <td>0</td>\n",
       "      <td>0</td>\n",
       "      <td>0</td>\n",
       "      <td>0</td>\n",
       "      <td>0</td>\n",
       "      <td>0</td>\n",
       "      <td>0</td>\n",
       "      <td>1</td>\n",
       "      <td>0</td>\n",
       "      <td>0</td>\n",
       "      <td>0</td>\n",
       "      <td>0</td>\n",
       "      <td>0</td>\n",
       "      <td>0</td>\n",
       "      <td>1</td>\n",
       "      <td>0</td>\n",
       "      <td>0</td>\n",
       "      <td>0</td>\n",
       "    </tr>\n",
       "    <tr>\n",
       "      <th>14</th>\n",
       "      <td>837</td>\n",
       "      <td>20</td>\n",
       "      <td>4</td>\n",
       "      <td>875721919</td>\n",
       "      <td>20</td>\n",
       "      <td>Angels and Insects (1995)</td>\n",
       "      <td>01-Jan-1995</td>\n",
       "      <td>NaN</td>\n",
       "      <td>http://us.imdb.com/M/title-exact?Angels%20and%...</td>\n",
       "      <td>0</td>\n",
       "      <td>0</td>\n",
       "      <td>0</td>\n",
       "      <td>0</td>\n",
       "      <td>0</td>\n",
       "      <td>0</td>\n",
       "      <td>0</td>\n",
       "      <td>0</td>\n",
       "      <td>1</td>\n",
       "      <td>0</td>\n",
       "      <td>0</td>\n",
       "      <td>0</td>\n",
       "      <td>0</td>\n",
       "      <td>0</td>\n",
       "      <td>1</td>\n",
       "      <td>0</td>\n",
       "      <td>0</td>\n",
       "      <td>0</td>\n",
       "      <td>0</td>\n",
       "    </tr>\n",
       "    <tr>\n",
       "      <th>22</th>\n",
       "      <td>837</td>\n",
       "      <td>294</td>\n",
       "      <td>4</td>\n",
       "      <td>875721502</td>\n",
       "      <td>294</td>\n",
       "      <td>Liar Liar (1997)</td>\n",
       "      <td>21-Mar-1997</td>\n",
       "      <td>NaN</td>\n",
       "      <td>http://us.imdb.com/Title?Liar+Liar+(1997)</td>\n",
       "      <td>0</td>\n",
       "      <td>0</td>\n",
       "      <td>0</td>\n",
       "      <td>0</td>\n",
       "      <td>0</td>\n",
       "      <td>1</td>\n",
       "      <td>0</td>\n",
       "      <td>0</td>\n",
       "      <td>0</td>\n",
       "      <td>0</td>\n",
       "      <td>0</td>\n",
       "      <td>0</td>\n",
       "      <td>0</td>\n",
       "      <td>0</td>\n",
       "      <td>0</td>\n",
       "      <td>0</td>\n",
       "      <td>0</td>\n",
       "      <td>0</td>\n",
       "      <td>0</td>\n",
       "    </tr>\n",
       "    <tr>\n",
       "      <th>27</th>\n",
       "      <td>837</td>\n",
       "      <td>328</td>\n",
       "      <td>4</td>\n",
       "      <td>875721604</td>\n",
       "      <td>328</td>\n",
       "      <td>Conspiracy Theory (1997)</td>\n",
       "      <td>08-Aug-1997</td>\n",
       "      <td>NaN</td>\n",
       "      <td>http://us.imdb.com/M/title-exact?Conspiracy+Th...</td>\n",
       "      <td>0</td>\n",
       "      <td>1</td>\n",
       "      <td>0</td>\n",
       "      <td>0</td>\n",
       "      <td>0</td>\n",
       "      <td>0</td>\n",
       "      <td>0</td>\n",
       "      <td>0</td>\n",
       "      <td>0</td>\n",
       "      <td>0</td>\n",
       "      <td>0</td>\n",
       "      <td>0</td>\n",
       "      <td>0</td>\n",
       "      <td>1</td>\n",
       "      <td>1</td>\n",
       "      <td>0</td>\n",
       "      <td>1</td>\n",
       "      <td>0</td>\n",
       "      <td>0</td>\n",
       "    </tr>\n",
       "  </tbody>\n",
       "</table>\n",
       "</div>"
      ],
      "text/plain": [
       "    UserID  MovieID  Rating  Timestamp  ...  Sci_Fi Thriller War  Western\n",
       "44     837      740       5  875722123  ...       0        0   0        0\n",
       "37     837     1009       5  875721765  ...       0        0   0        0\n",
       "9      837      283       5  875722069  ...       0        0   0        0\n",
       "36     837      125       5  875722032  ...       0        0   0        0\n",
       "11     837      289       5  875721539  ...       0        0   0        0\n",
       "24     837      151       5  875721734  ...       0        0   0        0\n",
       "23     837      258       4  875721473  ...       1        0   0        0\n",
       "14     837       20       4  875721919  ...       0        0   0        0\n",
       "22     837      294       4  875721502  ...       0        0   0        0\n",
       "27     837      328       4  875721604  ...       0        1   0        0\n",
       "\n",
       "[10 rows x 28 columns]"
      ]
     },
     "execution_count": 43,
     "metadata": {
      "tags": []
     },
     "output_type": "execute_result"
    }
   ],
   "source": [
    "already_rated.head(10)"
   ]
  },
  {
   "cell_type": "code",
   "execution_count": null,
   "metadata": {
    "colab": {
     "base_uri": "https://localhost:8080/",
     "height": 634
    },
    "id": "XUFUKm6Y2XpI",
    "outputId": "955a610f-05a7-4cee-b6fd-4401c71a6ff3"
   },
   "outputs": [
    {
     "data": {
      "text/html": [
       "<div>\n",
       "<style scoped>\n",
       "    .dataframe tbody tr th:only-of-type {\n",
       "        vertical-align: middle;\n",
       "    }\n",
       "\n",
       "    .dataframe tbody tr th {\n",
       "        vertical-align: top;\n",
       "    }\n",
       "\n",
       "    .dataframe thead th {\n",
       "        text-align: right;\n",
       "    }\n",
       "</style>\n",
       "<table border=\"1\" class=\"dataframe\">\n",
       "  <thead>\n",
       "    <tr style=\"text-align: right;\">\n",
       "      <th></th>\n",
       "      <th>movie_id</th>\n",
       "      <th>movie_title</th>\n",
       "      <th>release_date</th>\n",
       "      <th>video_release_date</th>\n",
       "      <th>IMDb_URL</th>\n",
       "      <th>unknown</th>\n",
       "      <th>Action</th>\n",
       "      <th>Adventure</th>\n",
       "      <th>Animation</th>\n",
       "      <th>Children_s</th>\n",
       "      <th>Comedy</th>\n",
       "      <th>Crime</th>\n",
       "      <th>Documentary</th>\n",
       "      <th>Drama</th>\n",
       "      <th>Fantasy</th>\n",
       "      <th>Film_Noir</th>\n",
       "      <th>Horror</th>\n",
       "      <th>Musical</th>\n",
       "      <th>Mystery</th>\n",
       "      <th>Romance</th>\n",
       "      <th>Sci_Fi</th>\n",
       "      <th>Thriller</th>\n",
       "      <th>War</th>\n",
       "      <th>Western</th>\n",
       "      <th>MovieID</th>\n",
       "    </tr>\n",
       "  </thead>\n",
       "  <tbody>\n",
       "    <tr>\n",
       "      <th>11</th>\n",
       "      <td>14</td>\n",
       "      <td>Postino, Il (1994)</td>\n",
       "      <td>01-Jan-1994</td>\n",
       "      <td>NaN</td>\n",
       "      <td>http://us.imdb.com/M/title-exact?Postino,%20Il...</td>\n",
       "      <td>0</td>\n",
       "      <td>0</td>\n",
       "      <td>0</td>\n",
       "      <td>0</td>\n",
       "      <td>0</td>\n",
       "      <td>0</td>\n",
       "      <td>0</td>\n",
       "      <td>0</td>\n",
       "      <td>1</td>\n",
       "      <td>0</td>\n",
       "      <td>0</td>\n",
       "      <td>0</td>\n",
       "      <td>0</td>\n",
       "      <td>0</td>\n",
       "      <td>1</td>\n",
       "      <td>0</td>\n",
       "      <td>0</td>\n",
       "      <td>0</td>\n",
       "      <td>0</td>\n",
       "      <td>14</td>\n",
       "    </tr>\n",
       "    <tr>\n",
       "      <th>0</th>\n",
       "      <td>1</td>\n",
       "      <td>Toy Story (1995)</td>\n",
       "      <td>01-Jan-1995</td>\n",
       "      <td>NaN</td>\n",
       "      <td>http://us.imdb.com/M/title-exact?Toy%20Story%2...</td>\n",
       "      <td>0</td>\n",
       "      <td>0</td>\n",
       "      <td>0</td>\n",
       "      <td>1</td>\n",
       "      <td>1</td>\n",
       "      <td>1</td>\n",
       "      <td>0</td>\n",
       "      <td>0</td>\n",
       "      <td>0</td>\n",
       "      <td>0</td>\n",
       "      <td>0</td>\n",
       "      <td>0</td>\n",
       "      <td>0</td>\n",
       "      <td>0</td>\n",
       "      <td>0</td>\n",
       "      <td>0</td>\n",
       "      <td>0</td>\n",
       "      <td>0</td>\n",
       "      <td>0</td>\n",
       "      <td>1</td>\n",
       "    </tr>\n",
       "    <tr>\n",
       "      <th>107</th>\n",
       "      <td>116</td>\n",
       "      <td>Cold Comfort Farm (1995)</td>\n",
       "      <td>23-Apr-1996</td>\n",
       "      <td>NaN</td>\n",
       "      <td>http://us.imdb.com/M/title-exact?Cold%20Comfor...</td>\n",
       "      <td>0</td>\n",
       "      <td>0</td>\n",
       "      <td>0</td>\n",
       "      <td>0</td>\n",
       "      <td>0</td>\n",
       "      <td>1</td>\n",
       "      <td>0</td>\n",
       "      <td>0</td>\n",
       "      <td>0</td>\n",
       "      <td>0</td>\n",
       "      <td>0</td>\n",
       "      <td>0</td>\n",
       "      <td>0</td>\n",
       "      <td>0</td>\n",
       "      <td>0</td>\n",
       "      <td>0</td>\n",
       "      <td>0</td>\n",
       "      <td>0</td>\n",
       "      <td>0</td>\n",
       "      <td>116</td>\n",
       "    </tr>\n",
       "    <tr>\n",
       "      <th>116</th>\n",
       "      <td>126</td>\n",
       "      <td>Spitfire Grill, The (1996)</td>\n",
       "      <td>06-Sep-1996</td>\n",
       "      <td>NaN</td>\n",
       "      <td>http://us.imdb.com/M/title-exact?Spitfire%20Gr...</td>\n",
       "      <td>0</td>\n",
       "      <td>0</td>\n",
       "      <td>0</td>\n",
       "      <td>0</td>\n",
       "      <td>0</td>\n",
       "      <td>0</td>\n",
       "      <td>0</td>\n",
       "      <td>0</td>\n",
       "      <td>1</td>\n",
       "      <td>0</td>\n",
       "      <td>0</td>\n",
       "      <td>0</td>\n",
       "      <td>0</td>\n",
       "      <td>0</td>\n",
       "      <td>0</td>\n",
       "      <td>0</td>\n",
       "      <td>0</td>\n",
       "      <td>0</td>\n",
       "      <td>0</td>\n",
       "      <td>126</td>\n",
       "    </tr>\n",
       "    <tr>\n",
       "      <th>42</th>\n",
       "      <td>50</td>\n",
       "      <td>Star Wars (1977)</td>\n",
       "      <td>01-Jan-1977</td>\n",
       "      <td>NaN</td>\n",
       "      <td>http://us.imdb.com/M/title-exact?Star%20Wars%2...</td>\n",
       "      <td>0</td>\n",
       "      <td>1</td>\n",
       "      <td>1</td>\n",
       "      <td>0</td>\n",
       "      <td>0</td>\n",
       "      <td>0</td>\n",
       "      <td>0</td>\n",
       "      <td>0</td>\n",
       "      <td>0</td>\n",
       "      <td>0</td>\n",
       "      <td>0</td>\n",
       "      <td>0</td>\n",
       "      <td>0</td>\n",
       "      <td>0</td>\n",
       "      <td>1</td>\n",
       "      <td>1</td>\n",
       "      <td>0</td>\n",
       "      <td>1</td>\n",
       "      <td>0</td>\n",
       "      <td>50</td>\n",
       "    </tr>\n",
       "    <tr>\n",
       "      <th>238</th>\n",
       "      <td>255</td>\n",
       "      <td>My Best Friend's Wedding (1997)</td>\n",
       "      <td>20-Jun-1997</td>\n",
       "      <td>NaN</td>\n",
       "      <td>http://us.imdb.com/M/title-exact?My+Best+Frien...</td>\n",
       "      <td>0</td>\n",
       "      <td>0</td>\n",
       "      <td>0</td>\n",
       "      <td>0</td>\n",
       "      <td>0</td>\n",
       "      <td>1</td>\n",
       "      <td>0</td>\n",
       "      <td>0</td>\n",
       "      <td>0</td>\n",
       "      <td>0</td>\n",
       "      <td>0</td>\n",
       "      <td>0</td>\n",
       "      <td>0</td>\n",
       "      <td>0</td>\n",
       "      <td>1</td>\n",
       "      <td>0</td>\n",
       "      <td>0</td>\n",
       "      <td>0</td>\n",
       "      <td>0</td>\n",
       "      <td>255</td>\n",
       "    </tr>\n",
       "    <tr>\n",
       "      <th>440</th>\n",
       "      <td>471</td>\n",
       "      <td>Courage Under Fire (1996)</td>\n",
       "      <td>08-Mar-1996</td>\n",
       "      <td>NaN</td>\n",
       "      <td>http://us.imdb.com/M/title-exact?Courage%20Und...</td>\n",
       "      <td>0</td>\n",
       "      <td>0</td>\n",
       "      <td>0</td>\n",
       "      <td>0</td>\n",
       "      <td>0</td>\n",
       "      <td>0</td>\n",
       "      <td>0</td>\n",
       "      <td>0</td>\n",
       "      <td>1</td>\n",
       "      <td>0</td>\n",
       "      <td>0</td>\n",
       "      <td>0</td>\n",
       "      <td>0</td>\n",
       "      <td>0</td>\n",
       "      <td>0</td>\n",
       "      <td>0</td>\n",
       "      <td>0</td>\n",
       "      <td>1</td>\n",
       "      <td>0</td>\n",
       "      <td>471</td>\n",
       "    </tr>\n",
       "    <tr>\n",
       "      <th>92</th>\n",
       "      <td>100</td>\n",
       "      <td>Fargo (1996)</td>\n",
       "      <td>14-Feb-1997</td>\n",
       "      <td>NaN</td>\n",
       "      <td>http://us.imdb.com/M/title-exact?Fargo%20(1996)</td>\n",
       "      <td>0</td>\n",
       "      <td>0</td>\n",
       "      <td>0</td>\n",
       "      <td>0</td>\n",
       "      <td>0</td>\n",
       "      <td>0</td>\n",
       "      <td>1</td>\n",
       "      <td>0</td>\n",
       "      <td>1</td>\n",
       "      <td>0</td>\n",
       "      <td>0</td>\n",
       "      <td>0</td>\n",
       "      <td>0</td>\n",
       "      <td>0</td>\n",
       "      <td>0</td>\n",
       "      <td>0</td>\n",
       "      <td>1</td>\n",
       "      <td>0</td>\n",
       "      <td>0</td>\n",
       "      <td>100</td>\n",
       "    </tr>\n",
       "    <tr>\n",
       "      <th>258</th>\n",
       "      <td>282</td>\n",
       "      <td>Time to Kill, A (1996)</td>\n",
       "      <td>13-Jul-1996</td>\n",
       "      <td>NaN</td>\n",
       "      <td>http://us.imdb.com/M/title-exact?Time%20to%20K...</td>\n",
       "      <td>0</td>\n",
       "      <td>0</td>\n",
       "      <td>0</td>\n",
       "      <td>0</td>\n",
       "      <td>0</td>\n",
       "      <td>0</td>\n",
       "      <td>0</td>\n",
       "      <td>0</td>\n",
       "      <td>1</td>\n",
       "      <td>0</td>\n",
       "      <td>0</td>\n",
       "      <td>0</td>\n",
       "      <td>0</td>\n",
       "      <td>0</td>\n",
       "      <td>0</td>\n",
       "      <td>0</td>\n",
       "      <td>0</td>\n",
       "      <td>0</td>\n",
       "      <td>0</td>\n",
       "      <td>282</td>\n",
       "    </tr>\n",
       "    <tr>\n",
       "      <th>704</th>\n",
       "      <td>742</td>\n",
       "      <td>Ransom (1996)</td>\n",
       "      <td>08-Nov-1996</td>\n",
       "      <td>NaN</td>\n",
       "      <td>http://us.imdb.com/M/title-exact?Ransom%20(1996)</td>\n",
       "      <td>0</td>\n",
       "      <td>0</td>\n",
       "      <td>0</td>\n",
       "      <td>0</td>\n",
       "      <td>0</td>\n",
       "      <td>0</td>\n",
       "      <td>0</td>\n",
       "      <td>0</td>\n",
       "      <td>1</td>\n",
       "      <td>0</td>\n",
       "      <td>0</td>\n",
       "      <td>0</td>\n",
       "      <td>0</td>\n",
       "      <td>0</td>\n",
       "      <td>0</td>\n",
       "      <td>0</td>\n",
       "      <td>1</td>\n",
       "      <td>0</td>\n",
       "      <td>0</td>\n",
       "      <td>742</td>\n",
       "    </tr>\n",
       "  </tbody>\n",
       "</table>\n",
       "</div>"
      ],
      "text/plain": [
       "     movie_id                      movie_title  ... Western  MovieID\n",
       "11         14               Postino, Il (1994)  ...       0       14\n",
       "0           1                 Toy Story (1995)  ...       0        1\n",
       "107       116         Cold Comfort Farm (1995)  ...       0      116\n",
       "116       126       Spitfire Grill, The (1996)  ...       0      126\n",
       "42         50                 Star Wars (1977)  ...       0       50\n",
       "238       255  My Best Friend's Wedding (1997)  ...       0      255\n",
       "440       471        Courage Under Fire (1996)  ...       0      471\n",
       "92        100                     Fargo (1996)  ...       0      100\n",
       "258       282           Time to Kill, A (1996)  ...       0      282\n",
       "704       742                    Ransom (1996)  ...       0      742\n",
       "\n",
       "[10 rows x 25 columns]"
      ]
     },
     "execution_count": 44,
     "metadata": {
      "tags": []
     },
     "output_type": "execute_result"
    }
   ],
   "source": [
    "predictions"
   ]
  },
  {
   "cell_type": "code",
   "execution_count": null,
   "metadata": {
    "id": "hbzE2KO02Xrv"
   },
   "outputs": [],
   "source": [
    "def matrix_factorization(R, P, Q, K, steps, alpha=0.0002, beta=0.02):\n",
    "    Q = Q.T\n",
    "    print(type(steps),steps)\n",
    "    for step in pb.progressbar(range(steps)):\n",
    "        for i in range(len(R)): #Iterate Rows of R: i.e: 1683\n",
    "            for j in range(len(R[i])): #Iterate Columns of R: i.e: 944\n",
    "                if R[i][j] > 0:\n",
    "                    eij = R[i][j] - np.dot(P[i,:],Q[:,j])\n",
    "                    for k in range(K): # K represents column of P & Rows of Q\n",
    "                        P[i][k] = P[i][k] + alpha * (2 * eij * Q[k][j] - beta * P[i][k]) # Gradient descent formula.\n",
    "                        Q[k][j] = Q[k][j] + alpha * (2 * eij * P[i][k] - beta * Q[k][j]) # Gradient descent formula.\n",
    "        \n",
    "        #Estimate for how well the prediction matrix is doing\n",
    "        eR = np.dot(P,Q)\n",
    "        e = 0\n",
    "        counter = 0\n",
    "        for i in range(len(R)): #Iterate Rows of R: i.e: 1683\n",
    "            for j in range(len(R[i])): #Iterate Columns of R: i.e: 944\n",
    "                if R[i][j] > 0:\n",
    "                    e = e + pow(R[i][j] - np.dot(P[i,:],Q[:,j]), 2)\n",
    "                    counter+=1\n",
    "                    for k in range(K):  # K represents column of P & Rows of Q\n",
    "                        e = e + (beta/2) * (pow(P[i][k],2) + pow(Q[k][j],2))\n",
    "                        counter+=1\n",
    "\n",
    "        e=e/counter # Here, e is MSE\n",
    "        rmse = math.sqrt(e)\n",
    "\n",
    "        print(' STEP ===>',step,'; MSE:',round(e,5), '; RMSE:',round(rmse,5))\n",
    "        if e < 0.01:\n",
    "            break\n",
    "    return P, Q.T\n"
   ]
  },
  {
   "cell_type": "code",
   "execution_count": null,
   "metadata": {
    "colab": {
     "base_uri": "https://localhost:8080/"
    },
    "id": "6lAqIhFC2XuW",
    "outputId": "1640379b-d61d-4e0a-91e1-ca49020c642f"
   },
   "outputs": [
    {
     "name": "stdout",
     "output_type": "stream",
     "text": [
      "943 1682\n",
      "P: (943, 50)\n",
      "Q: (1682, 50)\n"
     ]
    }
   ],
   "source": [
    "R = np.array(R_df)\n",
    "N = len(R) # Rows\n",
    "M = len(R[0]) # Columns\n",
    "K = 50 # Random\n",
    "P = np.random.rand(N,K)#6, size=(N,K))\n",
    "Q = np.random.rand(M,K)#6, size=(M,K))\n",
    "print(N, M)\n",
    "print('P:',P.shape)\n",
    "print('Q:',Q.shape)"
   ]
  },
  {
   "cell_type": "code",
   "execution_count": null,
   "metadata": {
    "colab": {
     "base_uri": "https://localhost:8080/"
    },
    "id": "NEmrq8F9e2ru",
    "outputId": "fa4888ce-a652-4752-a386-7e46df7a5a77"
   },
   "outputs": [
    {
     "name": "stderr",
     "output_type": "stream",
     "text": [
      "\r",
      "                                                                               \r",
      "\r",
      "N/A% (0 of 500) |                        | Elapsed Time: 0:00:00 ETA:  --:--:--"
     ]
    },
    {
     "name": "stdout",
     "output_type": "stream",
     "text": [
      "<class 'int'> 500\n"
     ]
    },
    {
     "name": "stderr",
     "output_type": "stream",
     "text": [
      "\r",
      "                                                                               \r",
      "\r",
      "  0% (1 of 500) |                        | Elapsed Time: 0:00:43 ETA:   6:04:26"
     ]
    },
    {
     "name": "stdout",
     "output_type": "stream",
     "text": [
      " STEP ===> 0 ; MSE: 0.12631 ; RMSE: 0.3554\n"
     ]
    },
    {
     "name": "stderr",
     "output_type": "stream",
     "text": [
      "\r",
      "                                                                               \r",
      "\r",
      "  0% (2 of 500) |                        | Elapsed Time: 0:01:26 ETA:   5:55:39"
     ]
    },
    {
     "name": "stdout",
     "output_type": "stream",
     "text": [
      " STEP ===> 1 ; MSE: 0.09269 ; RMSE: 0.30445\n"
     ]
    },
    {
     "name": "stderr",
     "output_type": "stream",
     "text": [
      "\r",
      "                                                                               \r",
      "\r",
      "  0% (3 of 500) |                        | Elapsed Time: 0:02:10 ETA:   6:02:30"
     ]
    },
    {
     "name": "stdout",
     "output_type": "stream",
     "text": [
      " STEP ===> 2 ; MSE: 0.07654 ; RMSE: 0.27666\n"
     ]
    },
    {
     "name": "stderr",
     "output_type": "stream",
     "text": [
      "\r",
      "                                                                               \r",
      "\r",
      "  0% (4 of 500) |                        | Elapsed Time: 0:02:54 ETA:   6:00:48"
     ]
    },
    {
     "name": "stdout",
     "output_type": "stream",
     "text": [
      " STEP ===> 3 ; MSE: 0.06688 ; RMSE: 0.25861\n"
     ]
    },
    {
     "name": "stderr",
     "output_type": "stream",
     "text": [
      "\r",
      "                                                                               \r",
      "\r",
      "  1% (5 of 500) |                        | Elapsed Time: 0:03:38 ETA:   6:04:34"
     ]
    },
    {
     "name": "stdout",
     "output_type": "stream",
     "text": [
      " STEP ===> 4 ; MSE: 0.0603 ; RMSE: 0.24555\n"
     ]
    },
    {
     "name": "stderr",
     "output_type": "stream",
     "text": [
      "\r",
      "                                                                               \r",
      "\r",
      "  1% (6 of 500) |                        | Elapsed Time: 0:04:22 ETA:   6:01:10"
     ]
    },
    {
     "name": "stdout",
     "output_type": "stream",
     "text": [
      " STEP ===> 5 ; MSE: 0.05543 ; RMSE: 0.23543\n"
     ]
    },
    {
     "name": "stderr",
     "output_type": "stream",
     "text": [
      "\r",
      "                                                                               \r",
      "\r",
      "  1% (7 of 500) |                        | Elapsed Time: 0:05:05 ETA:   5:54:17"
     ]
    },
    {
     "name": "stdout",
     "output_type": "stream",
     "text": [
      " STEP ===> 6 ; MSE: 0.05163 ; RMSE: 0.22722\n"
     ]
    },
    {
     "name": "stderr",
     "output_type": "stream",
     "text": [
      "\r",
      "                                                                               \r",
      "\r",
      "  1% (8 of 500) |                        | Elapsed Time: 0:05:48 ETA:   5:56:54"
     ]
    },
    {
     "name": "stdout",
     "output_type": "stream",
     "text": [
      " STEP ===> 7 ; MSE: 0.04855 ; RMSE: 0.22033\n"
     ]
    },
    {
     "name": "stderr",
     "output_type": "stream",
     "text": [
      "\r",
      "                                                                               \r",
      "\r",
      "  1% (9 of 500) |                        | Elapsed Time: 0:06:31 ETA:   5:51:52"
     ]
    },
    {
     "name": "stdout",
     "output_type": "stream",
     "text": [
      " STEP ===> 8 ; MSE: 0.04597 ; RMSE: 0.21442\n"
     ]
    },
    {
     "name": "stderr",
     "output_type": "stream",
     "text": [
      "\r",
      "                                                                               \r",
      "\r",
      "  2% (10 of 500) |                       | Elapsed Time: 0:07:14 ETA:   5:48:17"
     ]
    },
    {
     "name": "stdout",
     "output_type": "stream",
     "text": [
      " STEP ===> 9 ; MSE: 0.04378 ; RMSE: 0.20924\n"
     ]
    },
    {
     "name": "stderr",
     "output_type": "stream",
     "text": [
      "\r",
      "                                                                               \r",
      "\r",
      "  2% (11 of 500) |                       | Elapsed Time: 0:07:57 ETA:   5:54:06"
     ]
    },
    {
     "name": "stdout",
     "output_type": "stream",
     "text": [
      " STEP ===> 10 ; MSE: 0.04188 ; RMSE: 0.20466\n"
     ]
    },
    {
     "name": "stderr",
     "output_type": "stream",
     "text": [
      "\r",
      "                                                                               \r",
      "\r",
      "  2% (12 of 500) |                       | Elapsed Time: 0:08:40 ETA:   5:49:01"
     ]
    },
    {
     "name": "stdout",
     "output_type": "stream",
     "text": [
      " STEP ===> 11 ; MSE: 0.04022 ; RMSE: 0.20054\n"
     ]
    },
    {
     "name": "stderr",
     "output_type": "stream",
     "text": [
      "\r",
      "                                                                               \r",
      "\r",
      "  2% (13 of 500) |                       | Elapsed Time: 0:09:23 ETA:   5:50:33"
     ]
    },
    {
     "name": "stdout",
     "output_type": "stream",
     "text": [
      " STEP ===> 12 ; MSE: 0.03874 ; RMSE: 0.19682\n"
     ]
    },
    {
     "name": "stderr",
     "output_type": "stream",
     "text": [
      "\r",
      "                                                                               \r",
      "\r",
      "  2% (14 of 500) |                       | Elapsed Time: 0:10:06 ETA:   5:48:20"
     ]
    },
    {
     "name": "stdout",
     "output_type": "stream",
     "text": [
      " STEP ===> 13 ; MSE: 0.03742 ; RMSE: 0.19343\n"
     ]
    },
    {
     "name": "stderr",
     "output_type": "stream",
     "text": [
      "\r",
      "                                                                               \r",
      "\r",
      "  3% (15 of 500) |                       | Elapsed Time: 0:10:50 ETA:   5:48:17"
     ]
    },
    {
     "name": "stdout",
     "output_type": "stream",
     "text": [
      " STEP ===> 14 ; MSE: 0.03622 ; RMSE: 0.19032\n"
     ]
    },
    {
     "name": "stderr",
     "output_type": "stream",
     "text": [
      "\r",
      "                                                                               \r",
      "\r",
      "  3% (16 of 500) |                       | Elapsed Time: 0:11:33 ETA:   5:48:03"
     ]
    },
    {
     "name": "stdout",
     "output_type": "stream",
     "text": [
      " STEP ===> 15 ; MSE: 0.03514 ; RMSE: 0.18746\n"
     ]
    },
    {
     "name": "stderr",
     "output_type": "stream",
     "text": [
      "\r",
      "                                                                               \r",
      "\r",
      "  3% (17 of 500) |                       | Elapsed Time: 0:12:16 ETA:   5:51:40"
     ]
    },
    {
     "name": "stdout",
     "output_type": "stream",
     "text": [
      " STEP ===> 16 ; MSE: 0.03415 ; RMSE: 0.1848\n"
     ]
    },
    {
     "name": "stderr",
     "output_type": "stream",
     "text": [
      "\r",
      "                                                                               \r",
      "\r",
      "  3% (18 of 500) |                       | Elapsed Time: 0:12:59 ETA:   5:45:28"
     ]
    },
    {
     "name": "stdout",
     "output_type": "stream",
     "text": [
      " STEP ===> 17 ; MSE: 0.03324 ; RMSE: 0.18233\n"
     ]
    },
    {
     "name": "stderr",
     "output_type": "stream",
     "text": [
      "\r",
      "                                                                               \r",
      "\r",
      "  3% (19 of 500) |                       | Elapsed Time: 0:13:43 ETA:   5:50:18"
     ]
    },
    {
     "name": "stdout",
     "output_type": "stream",
     "text": [
      " STEP ===> 18 ; MSE: 0.03241 ; RMSE: 0.18002\n"
     ]
    },
    {
     "name": "stderr",
     "output_type": "stream",
     "text": [
      "\r",
      "                                                                               \r",
      "\r",
      "  4% (20 of 500) |                       | Elapsed Time: 0:14:26 ETA:   5:45:13"
     ]
    },
    {
     "name": "stdout",
     "output_type": "stream",
     "text": [
      " STEP ===> 19 ; MSE: 0.03164 ; RMSE: 0.17786\n"
     ]
    },
    {
     "name": "stderr",
     "output_type": "stream",
     "text": [
      "\r",
      "                                                                               \r",
      "\r",
      "  4% (21 of 500) |                       | Elapsed Time: 0:15:09 ETA:   5:37:46"
     ]
    },
    {
     "name": "stdout",
     "output_type": "stream",
     "text": [
      " STEP ===> 20 ; MSE: 0.03092 ; RMSE: 0.17584\n"
     ]
    },
    {
     "name": "stderr",
     "output_type": "stream",
     "text": [
      "\r",
      "                                                                               \r",
      "\r",
      "  4% (22 of 500) |#                      | Elapsed Time: 0:15:52 ETA:   5:45:18"
     ]
    },
    {
     "name": "stdout",
     "output_type": "stream",
     "text": [
      " STEP ===> 21 ; MSE: 0.03025 ; RMSE: 0.17393\n"
     ]
    },
    {
     "name": "stderr",
     "output_type": "stream",
     "text": [
      "\r",
      "                                                                               \r",
      "\r",
      "  4% (23 of 500) |#                      | Elapsed Time: 0:16:35 ETA:   5:42:58"
     ]
    },
    {
     "name": "stdout",
     "output_type": "stream",
     "text": [
      " STEP ===> 22 ; MSE: 0.02963 ; RMSE: 0.17213\n"
     ]
    },
    {
     "name": "stderr",
     "output_type": "stream",
     "text": [
      "\r",
      "                                                                               \r",
      "\r",
      "  4% (24 of 500) |#                      | Elapsed Time: 0:17:19 ETA:   5:45:28"
     ]
    },
    {
     "name": "stdout",
     "output_type": "stream",
     "text": [
      " STEP ===> 23 ; MSE: 0.02905 ; RMSE: 0.17043\n"
     ]
    },
    {
     "name": "stderr",
     "output_type": "stream",
     "text": [
      "\r",
      "                                                                               \r",
      "\r",
      "  5% (25 of 500) |#                      | Elapsed Time: 0:18:02 ETA:   5:42:02"
     ]
    },
    {
     "name": "stdout",
     "output_type": "stream",
     "text": [
      " STEP ===> 24 ; MSE: 0.0285 ; RMSE: 0.16881\n"
     ]
    },
    {
     "name": "stderr",
     "output_type": "stream",
     "text": [
      "\r",
      "                                                                               \r",
      "\r",
      "  5% (26 of 500) |#                      | Elapsed Time: 0:18:44 ETA:   5:36:37"
     ]
    },
    {
     "name": "stdout",
     "output_type": "stream",
     "text": [
      " STEP ===> 25 ; MSE: 0.02798 ; RMSE: 0.16728\n"
     ]
    },
    {
     "name": "stderr",
     "output_type": "stream",
     "text": [
      "\r",
      "                                                                               \r",
      "\r",
      "  5% (27 of 500) |#                      | Elapsed Time: 0:19:27 ETA:   5:39:07"
     ]
    },
    {
     "name": "stdout",
     "output_type": "stream",
     "text": [
      " STEP ===> 26 ; MSE: 0.0275 ; RMSE: 0.16583\n"
     ]
    },
    {
     "name": "stderr",
     "output_type": "stream",
     "text": [
      "\r",
      "                                                                               \r",
      "\r",
      "  5% (28 of 500) |#                      | Elapsed Time: 0:20:10 ETA:   5:38:41"
     ]
    },
    {
     "name": "stdout",
     "output_type": "stream",
     "text": [
      " STEP ===> 27 ; MSE: 0.02704 ; RMSE: 0.16444\n"
     ]
    },
    {
     "name": "stderr",
     "output_type": "stream",
     "text": [
      "\r",
      "                                                                               \r",
      "\r",
      "  5% (29 of 500) |#                      | Elapsed Time: 0:20:53 ETA:   5:34:12"
     ]
    },
    {
     "name": "stdout",
     "output_type": "stream",
     "text": [
      " STEP ===> 28 ; MSE: 0.02661 ; RMSE: 0.16312\n"
     ]
    },
    {
     "name": "stderr",
     "output_type": "stream",
     "text": [
      "\r",
      "                                                                               \r",
      "\r",
      "  6% (30 of 500) |#                      | Elapsed Time: 0:21:36 ETA:   5:38:40"
     ]
    },
    {
     "name": "stdout",
     "output_type": "stream",
     "text": [
      " STEP ===> 29 ; MSE: 0.0262 ; RMSE: 0.16186\n"
     ]
    },
    {
     "name": "stderr",
     "output_type": "stream",
     "text": [
      "\r",
      "                                                                               \r",
      "\r",
      "  6% (31 of 500) |#                      | Elapsed Time: 0:22:19 ETA:   5:35:51"
     ]
    },
    {
     "name": "stdout",
     "output_type": "stream",
     "text": [
      " STEP ===> 30 ; MSE: 0.02581 ; RMSE: 0.16066\n"
     ]
    },
    {
     "name": "stderr",
     "output_type": "stream",
     "text": [
      "\r",
      "                                                                               \r",
      "\r",
      "  6% (32 of 500) |#                      | Elapsed Time: 0:23:03 ETA:   5:37:15"
     ]
    },
    {
     "name": "stdout",
     "output_type": "stream",
     "text": [
      " STEP ===> 31 ; MSE: 0.02544 ; RMSE: 0.15951\n"
     ]
    },
    {
     "name": "stderr",
     "output_type": "stream",
     "text": [
      "\r",
      "                                                                               \r",
      "\r",
      "  6% (33 of 500) |#                      | Elapsed Time: 0:23:46 ETA:   5:39:47"
     ]
    },
    {
     "name": "stdout",
     "output_type": "stream",
     "text": [
      " STEP ===> 32 ; MSE: 0.02509 ; RMSE: 0.15841\n"
     ]
    },
    {
     "name": "stderr",
     "output_type": "stream",
     "text": [
      "\r",
      "                                                                               \r",
      "\r",
      "  6% (34 of 500) |#                      | Elapsed Time: 0:24:29 ETA:   5:36:02"
     ]
    },
    {
     "name": "stdout",
     "output_type": "stream",
     "text": [
      " STEP ===> 33 ; MSE: 0.02476 ; RMSE: 0.15735\n"
     ]
    },
    {
     "name": "stderr",
     "output_type": "stream",
     "text": [
      "\r",
      "                                                                               \r",
      "\r",
      "  7% (35 of 500) |#                      | Elapsed Time: 0:25:13 ETA:   5:36:21"
     ]
    },
    {
     "name": "stdout",
     "output_type": "stream",
     "text": [
      " STEP ===> 34 ; MSE: 0.02444 ; RMSE: 0.15633\n"
     ]
    },
    {
     "name": "stderr",
     "output_type": "stream",
     "text": [
      "\r",
      "                                                                               \r",
      "\r",
      "  7% (36 of 500) |#                      | Elapsed Time: 0:25:56 ETA:   5:31:09"
     ]
    },
    {
     "name": "stdout",
     "output_type": "stream",
     "text": [
      " STEP ===> 35 ; MSE: 0.02414 ; RMSE: 0.15536\n"
     ]
    },
    {
     "name": "stderr",
     "output_type": "stream",
     "text": [
      "\r",
      "                                                                               \r",
      "\r",
      "  7% (37 of 500) |#                      | Elapsed Time: 0:26:39 ETA:   5:32:22"
     ]
    },
    {
     "name": "stdout",
     "output_type": "stream",
     "text": [
      " STEP ===> 36 ; MSE: 0.02385 ; RMSE: 0.15442\n"
     ]
    },
    {
     "name": "stderr",
     "output_type": "stream",
     "text": [
      "\r",
      "                                                                               \r",
      "\r",
      "  7% (38 of 500) |#                      | Elapsed Time: 0:27:22 ETA:   5:31:56"
     ]
    },
    {
     "name": "stdout",
     "output_type": "stream",
     "text": [
      " STEP ===> 37 ; MSE: 0.02357 ; RMSE: 0.15352\n"
     ]
    },
    {
     "name": "stderr",
     "output_type": "stream",
     "text": [
      "\r",
      "                                                                               \r",
      "\r",
      "  7% (39 of 500) |#                      | Elapsed Time: 0:28:04 ETA:   5:25:29"
     ]
    },
    {
     "name": "stdout",
     "output_type": "stream",
     "text": [
      " STEP ===> 38 ; MSE: 0.0233 ; RMSE: 0.15265\n"
     ]
    },
    {
     "name": "stderr",
     "output_type": "stream",
     "text": [
      "\r",
      "                                                                               \r",
      "\r",
      "  8% (40 of 500) |#                      | Elapsed Time: 0:28:47 ETA:   5:28:50"
     ]
    },
    {
     "name": "stdout",
     "output_type": "stream",
     "text": [
      " STEP ===> 39 ; MSE: 0.02305 ; RMSE: 0.15182\n"
     ]
    },
    {
     "name": "stderr",
     "output_type": "stream",
     "text": [
      "\r",
      "                                                                               \r",
      "\r",
      "  8% (41 of 500) |#                      | Elapsed Time: 0:29:31 ETA:   5:36:08"
     ]
    },
    {
     "name": "stdout",
     "output_type": "stream",
     "text": [
      " STEP ===> 40 ; MSE: 0.0228 ; RMSE: 0.15101\n"
     ]
    },
    {
     "name": "stderr",
     "output_type": "stream",
     "text": [
      "\r",
      "                                                                               \r",
      "\r",
      "  8% (42 of 500) |#                      | Elapsed Time: 0:30:13 ETA:   5:21:46"
     ]
    },
    {
     "name": "stdout",
     "output_type": "stream",
     "text": [
      " STEP ===> 41 ; MSE: 0.02257 ; RMSE: 0.15023\n"
     ]
    },
    {
     "name": "stderr",
     "output_type": "stream",
     "text": [
      "\r",
      "                                                                               \r",
      "\r",
      "  8% (43 of 500) |#                      | Elapsed Time: 0:30:56 ETA:   5:24:25"
     ]
    },
    {
     "name": "stdout",
     "output_type": "stream",
     "text": [
      " STEP ===> 42 ; MSE: 0.02234 ; RMSE: 0.14948\n"
     ]
    },
    {
     "name": "stderr",
     "output_type": "stream",
     "text": [
      "\r",
      "                                                                               \r",
      "\r",
      "  8% (44 of 500) |##                     | Elapsed Time: 0:31:39 ETA:   5:26:00"
     ]
    },
    {
     "name": "stdout",
     "output_type": "stream",
     "text": [
      " STEP ===> 43 ; MSE: 0.02213 ; RMSE: 0.14876\n"
     ]
    },
    {
     "name": "stderr",
     "output_type": "stream",
     "text": [
      "\r",
      "                                                                               \r",
      "\r",
      "  9% (45 of 500) |##                     | Elapsed Time: 0:32:21 ETA:   5:19:49"
     ]
    },
    {
     "name": "stdout",
     "output_type": "stream",
     "text": [
      " STEP ===> 44 ; MSE: 0.02192 ; RMSE: 0.14805\n"
     ]
    },
    {
     "name": "stderr",
     "output_type": "stream",
     "text": [
      "\r",
      "                                                                               \r",
      "\r",
      "  9% (46 of 500) |##                     | Elapsed Time: 0:33:04 ETA:   5:23:41"
     ]
    },
    {
     "name": "stdout",
     "output_type": "stream",
     "text": [
      " STEP ===> 45 ; MSE: 0.02172 ; RMSE: 0.14738\n"
     ]
    },
    {
     "name": "stderr",
     "output_type": "stream",
     "text": [
      "\r",
      "                                                                               \r",
      "\r",
      "  9% (47 of 500) |##                     | Elapsed Time: 0:33:47 ETA:   5:25:47"
     ]
    },
    {
     "name": "stdout",
     "output_type": "stream",
     "text": [
      " STEP ===> 46 ; MSE: 0.02153 ; RMSE: 0.14672\n"
     ]
    },
    {
     "name": "stderr",
     "output_type": "stream",
     "text": [
      "\r",
      "                                                                               \r",
      "\r",
      "  9% (48 of 500) |##                     | Elapsed Time: 0:34:30 ETA:   5:23:43"
     ]
    },
    {
     "name": "stdout",
     "output_type": "stream",
     "text": [
      " STEP ===> 47 ; MSE: 0.02134 ; RMSE: 0.14608\n"
     ]
    },
    {
     "name": "stderr",
     "output_type": "stream",
     "text": [
      "\r",
      "                                                                               \r",
      "\r",
      "  9% (49 of 500) |##                     | Elapsed Time: 0:35:13 ETA:   5:26:51"
     ]
    },
    {
     "name": "stdout",
     "output_type": "stream",
     "text": [
      " STEP ===> 48 ; MSE: 0.02116 ; RMSE: 0.14547\n"
     ]
    },
    {
     "name": "stderr",
     "output_type": "stream",
     "text": [
      "\r",
      "                                                                               \r",
      "\r",
      " 10% (50 of 500) |##                     | Elapsed Time: 0:35:56 ETA:   5:20:00"
     ]
    },
    {
     "name": "stdout",
     "output_type": "stream",
     "text": [
      " STEP ===> 49 ; MSE: 0.02099 ; RMSE: 0.14487\n"
     ]
    },
    {
     "name": "stderr",
     "output_type": "stream",
     "text": [
      "\r",
      "                                                                               \r",
      "\r",
      " 10% (51 of 500) |##                     | Elapsed Time: 0:36:38 ETA:   5:18:10"
     ]
    },
    {
     "name": "stdout",
     "output_type": "stream",
     "text": [
      " STEP ===> 50 ; MSE: 0.02082 ; RMSE: 0.14429\n"
     ]
    },
    {
     "name": "stderr",
     "output_type": "stream",
     "text": [
      "\r",
      "                                                                               \r",
      "\r",
      " 10% (52 of 500) |##                     | Elapsed Time: 0:37:21 ETA:   5:17:45"
     ]
    },
    {
     "name": "stdout",
     "output_type": "stream",
     "text": [
      " STEP ===> 51 ; MSE: 0.02066 ; RMSE: 0.14372\n"
     ]
    },
    {
     "name": "stderr",
     "output_type": "stream",
     "text": [
      "\r",
      "                                                                               \r",
      "\r",
      " 10% (53 of 500) |##                     | Elapsed Time: 0:38:03 ETA:   5:14:42"
     ]
    },
    {
     "name": "stdout",
     "output_type": "stream",
     "text": [
      " STEP ===> 52 ; MSE: 0.0205 ; RMSE: 0.14318\n"
     ]
    },
    {
     "name": "stderr",
     "output_type": "stream",
     "text": [
      "\r",
      "                                                                               \r",
      "\r",
      " 10% (54 of 500) |##                     | Elapsed Time: 0:38:46 ETA:   5:18:10"
     ]
    },
    {
     "name": "stdout",
     "output_type": "stream",
     "text": [
      " STEP ===> 53 ; MSE: 0.02035 ; RMSE: 0.14265\n"
     ]
    },
    {
     "name": "stderr",
     "output_type": "stream",
     "text": [
      "\r",
      "                                                                               \r",
      "\r",
      " 11% (55 of 500) |##                     | Elapsed Time: 0:39:29 ETA:   5:20:37"
     ]
    },
    {
     "name": "stdout",
     "output_type": "stream",
     "text": [
      " STEP ===> 54 ; MSE: 0.0202 ; RMSE: 0.14213\n"
     ]
    },
    {
     "name": "stderr",
     "output_type": "stream",
     "text": [
      "\r",
      "                                                                               \r",
      "\r",
      " 11% (56 of 500) |##                     | Elapsed Time: 0:40:12 ETA:   5:17:50"
     ]
    },
    {
     "name": "stdout",
     "output_type": "stream",
     "text": [
      " STEP ===> 55 ; MSE: 0.02006 ; RMSE: 0.14163\n"
     ]
    },
    {
     "name": "stderr",
     "output_type": "stream",
     "text": [
      "\r",
      "                                                                               \r",
      "\r",
      " 11% (57 of 500) |##                     | Elapsed Time: 0:40:55 ETA:   5:15:18"
     ]
    },
    {
     "name": "stdout",
     "output_type": "stream",
     "text": [
      " STEP ===> 56 ; MSE: 0.01992 ; RMSE: 0.14114\n"
     ]
    },
    {
     "name": "stderr",
     "output_type": "stream",
     "text": [
      "\r",
      "                                                                               \r",
      "\r",
      " 11% (58 of 500) |##                     | Elapsed Time: 0:41:37 ETA:   5:13:25"
     ]
    },
    {
     "name": "stdout",
     "output_type": "stream",
     "text": [
      " STEP ===> 57 ; MSE: 0.01979 ; RMSE: 0.14066\n"
     ]
    },
    {
     "name": "stderr",
     "output_type": "stream",
     "text": [
      "\r",
      "                                                                               \r",
      "\r",
      " 11% (59 of 500) |##                     | Elapsed Time: 0:42:20 ETA:   5:12:18"
     ]
    },
    {
     "name": "stdout",
     "output_type": "stream",
     "text": [
      " STEP ===> 58 ; MSE: 0.01966 ; RMSE: 0.1402\n"
     ]
    },
    {
     "name": "stderr",
     "output_type": "stream",
     "text": [
      "\r",
      "                                                                               \r",
      "\r",
      " 12% (60 of 500) |##                     | Elapsed Time: 0:43:03 ETA:   5:16:15"
     ]
    },
    {
     "name": "stdout",
     "output_type": "stream",
     "text": [
      " STEP ===> 59 ; MSE: 0.01953 ; RMSE: 0.13975\n"
     ]
    },
    {
     "name": "stderr",
     "output_type": "stream",
     "text": [
      "\r",
      "                                                                               \r",
      "\r",
      " 12% (61 of 500) |##                     | Elapsed Time: 0:43:46 ETA:   5:13:49"
     ]
    },
    {
     "name": "stdout",
     "output_type": "stream",
     "text": [
      " STEP ===> 60 ; MSE: 0.01941 ; RMSE: 0.13931\n"
     ]
    },
    {
     "name": "stderr",
     "output_type": "stream",
     "text": [
      "\r",
      "                                                                               \r",
      "\r",
      " 12% (62 of 500) |##                     | Elapsed Time: 0:44:29 ETA:   5:10:40"
     ]
    },
    {
     "name": "stdout",
     "output_type": "stream",
     "text": [
      " STEP ===> 61 ; MSE: 0.01929 ; RMSE: 0.13888\n"
     ]
    },
    {
     "name": "stderr",
     "output_type": "stream",
     "text": [
      "\r",
      "                                                                               \r",
      "\r",
      " 12% (63 of 500) |##                     | Elapsed Time: 0:45:11 ETA:   5:09:23"
     ]
    },
    {
     "name": "stdout",
     "output_type": "stream",
     "text": [
      " STEP ===> 62 ; MSE: 0.01917 ; RMSE: 0.13846\n"
     ]
    },
    {
     "name": "stderr",
     "output_type": "stream",
     "text": [
      "\r",
      "                                                                               \r",
      "\r",
      " 12% (64 of 500) |##                     | Elapsed Time: 0:45:53 ETA:   5:07:31"
     ]
    },
    {
     "name": "stdout",
     "output_type": "stream",
     "text": [
      " STEP ===> 63 ; MSE: 0.01906 ; RMSE: 0.13805\n"
     ]
    },
    {
     "name": "stderr",
     "output_type": "stream",
     "text": [
      "\r",
      "                                                                               \r",
      "\r",
      " 13% (65 of 500) |##                     | Elapsed Time: 0:46:36 ETA:   5:07:29"
     ]
    },
    {
     "name": "stdout",
     "output_type": "stream",
     "text": [
      " STEP ===> 64 ; MSE: 0.01895 ; RMSE: 0.13765\n"
     ]
    },
    {
     "name": "stderr",
     "output_type": "stream",
     "text": [
      "\r",
      "                                                                               \r",
      "\r",
      " 13% (66 of 500) |###                    | Elapsed Time: 0:47:19 ETA:   5:13:23"
     ]
    },
    {
     "name": "stdout",
     "output_type": "stream",
     "text": [
      " STEP ===> 65 ; MSE: 0.01884 ; RMSE: 0.13726\n"
     ]
    },
    {
     "name": "stderr",
     "output_type": "stream",
     "text": [
      "\r",
      "                                                                               \r",
      "\r",
      " 13% (67 of 500) |###                    | Elapsed Time: 0:48:02 ETA:   5:11:55"
     ]
    },
    {
     "name": "stdout",
     "output_type": "stream",
     "text": [
      " STEP ===> 66 ; MSE: 0.01874 ; RMSE: 0.13688\n"
     ]
    },
    {
     "name": "stderr",
     "output_type": "stream",
     "text": [
      "\r",
      "                                                                               \r",
      "\r",
      " 13% (68 of 500) |###                    | Elapsed Time: 0:48:46 ETA:   5:13:09"
     ]
    },
    {
     "name": "stdout",
     "output_type": "stream",
     "text": [
      " STEP ===> 67 ; MSE: 0.01863 ; RMSE: 0.1365\n"
     ]
    },
    {
     "name": "stderr",
     "output_type": "stream",
     "text": [
      "\r",
      "                                                                               \r",
      "\r",
      " 13% (69 of 500) |###                    | Elapsed Time: 0:49:29 ETA:   5:09:20"
     ]
    },
    {
     "name": "stdout",
     "output_type": "stream",
     "text": [
      " STEP ===> 68 ; MSE: 0.01853 ; RMSE: 0.13614\n"
     ]
    },
    {
     "name": "stderr",
     "output_type": "stream",
     "text": [
      "\r",
      "                                                                               \r",
      "\r",
      " 14% (70 of 500) |###                    | Elapsed Time: 0:50:12 ETA:   5:10:50"
     ]
    },
    {
     "name": "stdout",
     "output_type": "stream",
     "text": [
      " STEP ===> 69 ; MSE: 0.01844 ; RMSE: 0.13578\n"
     ]
    },
    {
     "name": "stderr",
     "output_type": "stream",
     "text": [
      "\r",
      "                                                                               \r",
      "\r",
      " 14% (71 of 500) |###                    | Elapsed Time: 0:50:55 ETA:   5:06:28"
     ]
    },
    {
     "name": "stdout",
     "output_type": "stream",
     "text": [
      " STEP ===> 70 ; MSE: 0.01834 ; RMSE: 0.13543\n"
     ]
    },
    {
     "name": "stderr",
     "output_type": "stream",
     "text": [
      "\r",
      "                                                                               \r",
      "\r",
      " 14% (72 of 500) |###                    | Elapsed Time: 0:51:38 ETA:   5:05:45"
     ]
    },
    {
     "name": "stdout",
     "output_type": "stream",
     "text": [
      " STEP ===> 71 ; MSE: 0.01825 ; RMSE: 0.13509\n"
     ]
    },
    {
     "name": "stderr",
     "output_type": "stream",
     "text": [
      "\r",
      "                                                                               \r",
      "\r",
      " 14% (73 of 500) |###                    | Elapsed Time: 0:52:21 ETA:   5:03:09"
     ]
    },
    {
     "name": "stdout",
     "output_type": "stream",
     "text": [
      " STEP ===> 72 ; MSE: 0.01816 ; RMSE: 0.13475\n"
     ]
    },
    {
     "name": "stderr",
     "output_type": "stream",
     "text": [
      "\r",
      "                                                                               \r",
      "\r",
      " 14% (74 of 500) |###                    | Elapsed Time: 0:53:03 ETA:   5:03:43"
     ]
    },
    {
     "name": "stdout",
     "output_type": "stream",
     "text": [
      " STEP ===> 73 ; MSE: 0.01807 ; RMSE: 0.13442\n"
     ]
    },
    {
     "name": "stderr",
     "output_type": "stream",
     "text": [
      "\r",
      "                                                                               \r",
      "\r",
      " 15% (75 of 500) |###                    | Elapsed Time: 0:53:47 ETA:   5:06:59"
     ]
    },
    {
     "name": "stdout",
     "output_type": "stream",
     "text": [
      " STEP ===> 74 ; MSE: 0.01798 ; RMSE: 0.1341\n"
     ]
    },
    {
     "name": "stderr",
     "output_type": "stream",
     "text": [
      "\r",
      "                                                                               \r",
      "\r",
      " 15% (76 of 500) |###                    | Elapsed Time: 0:54:30 ETA:   5:05:21"
     ]
    },
    {
     "name": "stdout",
     "output_type": "stream",
     "text": [
      " STEP ===> 75 ; MSE: 0.0179 ; RMSE: 0.13378\n"
     ]
    },
    {
     "name": "stderr",
     "output_type": "stream",
     "text": [
      "\r",
      "                                                                               \r",
      "\r",
      " 15% (77 of 500) |###                    | Elapsed Time: 0:55:14 ETA:   5:08:28"
     ]
    },
    {
     "name": "stdout",
     "output_type": "stream",
     "text": [
      " STEP ===> 76 ; MSE: 0.01781 ; RMSE: 0.13347\n"
     ]
    },
    {
     "name": "stderr",
     "output_type": "stream",
     "text": [
      "\r",
      "                                                                               \r",
      "\r",
      " 15% (78 of 500) |###                    | Elapsed Time: 0:55:57 ETA:   5:03:17"
     ]
    },
    {
     "name": "stdout",
     "output_type": "stream",
     "text": [
      " STEP ===> 77 ; MSE: 0.01773 ; RMSE: 0.13317\n"
     ]
    },
    {
     "name": "stderr",
     "output_type": "stream",
     "text": [
      "\r",
      "                                                                               \r",
      "\r",
      " 15% (79 of 500) |###                    | Elapsed Time: 0:56:39 ETA:   4:58:01"
     ]
    },
    {
     "name": "stdout",
     "output_type": "stream",
     "text": [
      " STEP ===> 78 ; MSE: 0.01765 ; RMSE: 0.13287\n"
     ]
    },
    {
     "name": "stderr",
     "output_type": "stream",
     "text": [
      "\r",
      "                                                                               \r",
      "\r",
      " 16% (80 of 500) |###                    | Elapsed Time: 0:57:22 ETA:   5:00:54"
     ]
    },
    {
     "name": "stdout",
     "output_type": "stream",
     "text": [
      " STEP ===> 79 ; MSE: 0.01758 ; RMSE: 0.13257\n"
     ]
    },
    {
     "name": "stderr",
     "output_type": "stream",
     "text": [
      "\r",
      "                                                                               \r",
      "\r",
      " 16% (81 of 500) |###                    | Elapsed Time: 0:58:05 ETA:   5:01:39"
     ]
    },
    {
     "name": "stdout",
     "output_type": "stream",
     "text": [
      " STEP ===> 80 ; MSE: 0.0175 ; RMSE: 0.13228\n"
     ]
    },
    {
     "name": "stderr",
     "output_type": "stream",
     "text": [
      "\r",
      "                                                                               \r",
      "\r",
      " 16% (82 of 500) |###                    | Elapsed Time: 0:58:49 ETA:   5:04:23"
     ]
    },
    {
     "name": "stdout",
     "output_type": "stream",
     "text": [
      " STEP ===> 81 ; MSE: 0.01742 ; RMSE: 0.132\n"
     ]
    },
    {
     "name": "stderr",
     "output_type": "stream",
     "text": [
      "\r",
      "                                                                               \r",
      "\r",
      " 16% (83 of 500) |###                    | Elapsed Time: 0:59:33 ETA:   5:05:21"
     ]
    },
    {
     "name": "stdout",
     "output_type": "stream",
     "text": [
      " STEP ===> 82 ; MSE: 0.01735 ; RMSE: 0.13172\n"
     ]
    },
    {
     "name": "stderr",
     "output_type": "stream",
     "text": [
      "\r",
      "                                                                               \r",
      "\r",
      " 16% (84 of 500) |###                    | Elapsed Time: 1:00:17 ETA:   5:07:02"
     ]
    },
    {
     "name": "stdout",
     "output_type": "stream",
     "text": [
      " STEP ===> 83 ; MSE: 0.01728 ; RMSE: 0.13144\n"
     ]
    },
    {
     "name": "stderr",
     "output_type": "stream",
     "text": [
      "\r",
      "                                                                               \r",
      "\r",
      " 17% (85 of 500) |###                    | Elapsed Time: 1:01:01 ETA:   5:00:11"
     ]
    },
    {
     "name": "stdout",
     "output_type": "stream",
     "text": [
      " STEP ===> 84 ; MSE: 0.01721 ; RMSE: 0.13117\n"
     ]
    },
    {
     "name": "stderr",
     "output_type": "stream",
     "text": [
      "\r",
      "                                                                               \r",
      "\r",
      " 17% (86 of 500) |###                    | Elapsed Time: 1:01:44 ETA:   5:00:36"
     ]
    },
    {
     "name": "stdout",
     "output_type": "stream",
     "text": [
      " STEP ===> 85 ; MSE: 0.01714 ; RMSE: 0.1309\n"
     ]
    },
    {
     "name": "stderr",
     "output_type": "stream",
     "text": [
      "\r",
      "                                                                               \r",
      "\r",
      " 17% (87 of 500) |####                   | Elapsed Time: 1:02:28 ETA:   5:00:13"
     ]
    },
    {
     "name": "stdout",
     "output_type": "stream",
     "text": [
      " STEP ===> 86 ; MSE: 0.01707 ; RMSE: 0.13064\n"
     ]
    },
    {
     "name": "stderr",
     "output_type": "stream",
     "text": [
      "\r",
      "                                                                               \r",
      "\r",
      " 17% (88 of 500) |####                   | Elapsed Time: 1:03:11 ETA:   4:57:36"
     ]
    },
    {
     "name": "stdout",
     "output_type": "stream",
     "text": [
      " STEP ===> 87 ; MSE: 0.017 ; RMSE: 0.13038\n"
     ]
    },
    {
     "name": "stderr",
     "output_type": "stream",
     "text": [
      "\r",
      "                                                                               \r",
      "\r",
      " 17% (89 of 500) |####                   | Elapsed Time: 1:03:55 ETA:   4:56:20"
     ]
    },
    {
     "name": "stdout",
     "output_type": "stream",
     "text": [
      " STEP ===> 88 ; MSE: 0.01693 ; RMSE: 0.13012\n"
     ]
    },
    {
     "name": "stderr",
     "output_type": "stream",
     "text": [
      "\r",
      "                                                                               \r",
      "\r",
      " 18% (90 of 500) |####                   | Elapsed Time: 1:04:38 ETA:   4:58:36"
     ]
    },
    {
     "name": "stdout",
     "output_type": "stream",
     "text": [
      " STEP ===> 89 ; MSE: 0.01687 ; RMSE: 0.12987\n"
     ]
    },
    {
     "name": "stderr",
     "output_type": "stream",
     "text": [
      "\r",
      "                                                                               \r",
      "\r",
      " 18% (91 of 500) |####                   | Elapsed Time: 1:05:22 ETA:   5:00:01"
     ]
    },
    {
     "name": "stdout",
     "output_type": "stream",
     "text": [
      " STEP ===> 90 ; MSE: 0.0168 ; RMSE: 0.12962\n"
     ]
    },
    {
     "name": "stderr",
     "output_type": "stream",
     "text": [
      "\r",
      "                                                                               \r",
      "\r",
      " 18% (92 of 500) |####                   | Elapsed Time: 1:06:05 ETA:   4:49:59"
     ]
    },
    {
     "name": "stdout",
     "output_type": "stream",
     "text": [
      " STEP ===> 91 ; MSE: 0.01674 ; RMSE: 0.12938\n"
     ]
    },
    {
     "name": "stderr",
     "output_type": "stream",
     "text": [
      "\r",
      "                                                                               \r",
      "\r",
      " 18% (93 of 500) |####                   | Elapsed Time: 1:06:48 ETA:   4:53:16"
     ]
    },
    {
     "name": "stdout",
     "output_type": "stream",
     "text": [
      " STEP ===> 92 ; MSE: 0.01668 ; RMSE: 0.12914\n"
     ]
    },
    {
     "name": "stderr",
     "output_type": "stream",
     "text": [
      "\r",
      "                                                                               \r",
      "\r",
      " 18% (94 of 500) |####                   | Elapsed Time: 1:07:31 ETA:   4:52:00"
     ]
    },
    {
     "name": "stdout",
     "output_type": "stream",
     "text": [
      " STEP ===> 93 ; MSE: 0.01661 ; RMSE: 0.1289\n"
     ]
    },
    {
     "name": "stderr",
     "output_type": "stream",
     "text": [
      "\r",
      "                                                                               \r",
      "\r",
      " 19% (95 of 500) |####                   | Elapsed Time: 1:08:14 ETA:   4:50:35"
     ]
    },
    {
     "name": "stdout",
     "output_type": "stream",
     "text": [
      " STEP ===> 94 ; MSE: 0.01655 ; RMSE: 0.12866\n"
     ]
    },
    {
     "name": "stderr",
     "output_type": "stream",
     "text": [
      "\r",
      "                                                                               \r",
      "\r",
      " 19% (96 of 500) |####                   | Elapsed Time: 1:08:57 ETA:   4:48:23"
     ]
    },
    {
     "name": "stdout",
     "output_type": "stream",
     "text": [
      " STEP ===> 95 ; MSE: 0.01649 ; RMSE: 0.12843\n"
     ]
    },
    {
     "name": "stderr",
     "output_type": "stream",
     "text": [
      "\r",
      "                                                                               \r",
      "\r",
      " 19% (97 of 500) |####                   | Elapsed Time: 1:09:41 ETA:   4:51:55"
     ]
    },
    {
     "name": "stdout",
     "output_type": "stream",
     "text": [
      " STEP ===> 96 ; MSE: 0.01644 ; RMSE: 0.1282\n"
     ]
    },
    {
     "name": "stderr",
     "output_type": "stream",
     "text": [
      "\r",
      "                                                                               \r",
      "\r",
      " 19% (98 of 500) |####                   | Elapsed Time: 1:10:25 ETA:   4:54:20"
     ]
    },
    {
     "name": "stdout",
     "output_type": "stream",
     "text": [
      " STEP ===> 97 ; MSE: 0.01638 ; RMSE: 0.12797\n"
     ]
    },
    {
     "name": "stderr",
     "output_type": "stream",
     "text": [
      "\r",
      "                                                                               \r",
      "\r",
      " 19% (99 of 500) |####                   | Elapsed Time: 1:11:08 ETA:   4:49:34"
     ]
    },
    {
     "name": "stdout",
     "output_type": "stream",
     "text": [
      " STEP ===> 98 ; MSE: 0.01632 ; RMSE: 0.12775\n"
     ]
    },
    {
     "name": "stderr",
     "output_type": "stream",
     "text": [
      "\r",
      "                                                                               \r",
      "\r",
      " 20% (100 of 500) |####                  | Elapsed Time: 1:11:51 ETA:   4:48:33"
     ]
    },
    {
     "name": "stdout",
     "output_type": "stream",
     "text": [
      " STEP ===> 99 ; MSE: 0.01626 ; RMSE: 0.12753\n"
     ]
    },
    {
     "name": "stderr",
     "output_type": "stream",
     "text": [
      "\r",
      "                                                                               \r",
      "\r",
      " 20% (101 of 500) |####                  | Elapsed Time: 1:12:35 ETA:   4:50:03"
     ]
    },
    {
     "name": "stdout",
     "output_type": "stream",
     "text": [
      " STEP ===> 100 ; MSE: 0.01621 ; RMSE: 0.12731\n"
     ]
    },
    {
     "name": "stderr",
     "output_type": "stream",
     "text": [
      "\r",
      "                                                                               \r",
      "\r",
      " 20% (102 of 500) |####                  | Elapsed Time: 1:13:18 ETA:   4:46:43"
     ]
    },
    {
     "name": "stdout",
     "output_type": "stream",
     "text": [
      " STEP ===> 101 ; MSE: 0.01615 ; RMSE: 0.12709\n"
     ]
    },
    {
     "name": "stderr",
     "output_type": "stream",
     "text": [
      "\r",
      "                                                                               \r",
      "\r",
      " 20% (103 of 500) |####                  | Elapsed Time: 1:14:01 ETA:   4:44:45"
     ]
    },
    {
     "name": "stdout",
     "output_type": "stream",
     "text": [
      " STEP ===> 102 ; MSE: 0.0161 ; RMSE: 0.12688\n"
     ]
    },
    {
     "name": "stderr",
     "output_type": "stream",
     "text": [
      "\r",
      "                                                                               \r",
      "\r",
      " 20% (104 of 500) |####                  | Elapsed Time: 1:14:44 ETA:   4:46:47"
     ]
    },
    {
     "name": "stdout",
     "output_type": "stream",
     "text": [
      " STEP ===> 103 ; MSE: 0.01604 ; RMSE: 0.12667\n"
     ]
    },
    {
     "name": "stderr",
     "output_type": "stream",
     "text": [
      "\r",
      "                                                                               \r",
      "\r",
      " 21% (105 of 500) |####                  | Elapsed Time: 1:15:28 ETA:   4:45:39"
     ]
    },
    {
     "name": "stdout",
     "output_type": "stream",
     "text": [
      " STEP ===> 104 ; MSE: 0.01599 ; RMSE: 0.12646\n"
     ]
    },
    {
     "name": "stderr",
     "output_type": "stream",
     "text": [
      "\r",
      "                                                                               \r",
      "\r",
      " 21% (106 of 500) |####                  | Elapsed Time: 1:16:11 ETA:   4:44:54"
     ]
    },
    {
     "name": "stdout",
     "output_type": "stream",
     "text": [
      " STEP ===> 105 ; MSE: 0.01594 ; RMSE: 0.12625\n"
     ]
    },
    {
     "name": "stderr",
     "output_type": "stream",
     "text": [
      "\r",
      "                                                                               \r",
      "\r",
      " 21% (107 of 500) |####                  | Elapsed Time: 1:16:54 ETA:   4:41:20"
     ]
    },
    {
     "name": "stdout",
     "output_type": "stream",
     "text": [
      " STEP ===> 106 ; MSE: 0.01589 ; RMSE: 0.12604\n"
     ]
    },
    {
     "name": "stderr",
     "output_type": "stream",
     "text": [
      "\r",
      "                                                                               \r",
      "\r",
      " 21% (108 of 500) |####                  | Elapsed Time: 1:17:38 ETA:   4:43:31"
     ]
    },
    {
     "name": "stdout",
     "output_type": "stream",
     "text": [
      " STEP ===> 107 ; MSE: 0.01584 ; RMSE: 0.12584\n"
     ]
    },
    {
     "name": "stderr",
     "output_type": "stream",
     "text": [
      "\r",
      "                                                                               \r",
      "\r",
      " 21% (109 of 500) |####                  | Elapsed Time: 1:18:21 ETA:   4:41:40"
     ]
    },
    {
     "name": "stdout",
     "output_type": "stream",
     "text": [
      " STEP ===> 108 ; MSE: 0.01578 ; RMSE: 0.12564\n"
     ]
    },
    {
     "name": "stderr",
     "output_type": "stream",
     "text": [
      "\r",
      "                                                                               \r",
      "\r",
      " 22% (110 of 500) |####                  | Elapsed Time: 1:19:04 ETA:   4:38:24"
     ]
    },
    {
     "name": "stdout",
     "output_type": "stream",
     "text": [
      " STEP ===> 109 ; MSE: 0.01573 ; RMSE: 0.12544\n"
     ]
    },
    {
     "name": "stderr",
     "output_type": "stream",
     "text": [
      "\r",
      "                                                                               \r",
      "\r",
      " 22% (111 of 500) |####                  | Elapsed Time: 1:19:47 ETA:   4:38:53"
     ]
    },
    {
     "name": "stdout",
     "output_type": "stream",
     "text": [
      " STEP ===> 110 ; MSE: 0.01568 ; RMSE: 0.12524\n"
     ]
    },
    {
     "name": "stderr",
     "output_type": "stream",
     "text": [
      "\r",
      "                                                                               \r",
      "\r",
      " 22% (112 of 500) |####                  | Elapsed Time: 1:20:29 ETA:   4:34:19"
     ]
    },
    {
     "name": "stdout",
     "output_type": "stream",
     "text": [
      " STEP ===> 111 ; MSE: 0.01564 ; RMSE: 0.12504\n"
     ]
    },
    {
     "name": "stderr",
     "output_type": "stream",
     "text": [
      "\r",
      "                                                                               \r",
      "\r",
      " 22% (113 of 500) |####                  | Elapsed Time: 1:21:13 ETA:   4:40:24"
     ]
    },
    {
     "name": "stdout",
     "output_type": "stream",
     "text": [
      " STEP ===> 112 ; MSE: 0.01559 ; RMSE: 0.12485\n"
     ]
    },
    {
     "name": "stderr",
     "output_type": "stream",
     "text": [
      "\r",
      "                                                                               \r",
      "\r",
      " 22% (114 of 500) |#####                 | Elapsed Time: 1:21:56 ETA:   4:38:21"
     ]
    },
    {
     "name": "stdout",
     "output_type": "stream",
     "text": [
      " STEP ===> 113 ; MSE: 0.01554 ; RMSE: 0.12465\n"
     ]
    },
    {
     "name": "stderr",
     "output_type": "stream",
     "text": [
      "\r",
      "                                                                               \r",
      "\r",
      " 23% (115 of 500) |#####                 | Elapsed Time: 1:22:39 ETA:   4:35:54"
     ]
    },
    {
     "name": "stdout",
     "output_type": "stream",
     "text": [
      " STEP ===> 114 ; MSE: 0.01549 ; RMSE: 0.12446\n"
     ]
    },
    {
     "name": "stderr",
     "output_type": "stream",
     "text": [
      "\r",
      "                                                                               \r",
      "\r",
      " 23% (116 of 500) |#####                 | Elapsed Time: 1:23:22 ETA:   4:35:58"
     ]
    },
    {
     "name": "stdout",
     "output_type": "stream",
     "text": [
      " STEP ===> 115 ; MSE: 0.01544 ; RMSE: 0.12427\n"
     ]
    },
    {
     "name": "stderr",
     "output_type": "stream",
     "text": [
      "\r",
      "                                                                               \r",
      "\r",
      " 23% (117 of 500) |#####                 | Elapsed Time: 1:24:05 ETA:   4:32:25"
     ]
    },
    {
     "name": "stdout",
     "output_type": "stream",
     "text": [
      " STEP ===> 116 ; MSE: 0.0154 ; RMSE: 0.12409\n"
     ]
    },
    {
     "name": "stderr",
     "output_type": "stream",
     "text": [
      "\r",
      "                                                                               \r",
      "\r",
      " 23% (118 of 500) |#####                 | Elapsed Time: 1:24:48 ETA:   4:35:49"
     ]
    },
    {
     "name": "stdout",
     "output_type": "stream",
     "text": [
      " STEP ===> 117 ; MSE: 0.01535 ; RMSE: 0.1239\n"
     ]
    },
    {
     "name": "stderr",
     "output_type": "stream",
     "text": [
      "\r",
      "                                                                               \r",
      "\r",
      " 23% (119 of 500) |#####                 | Elapsed Time: 1:25:31 ETA:   4:32:11"
     ]
    },
    {
     "name": "stdout",
     "output_type": "stream",
     "text": [
      " STEP ===> 118 ; MSE: 0.01531 ; RMSE: 0.12371\n"
     ]
    },
    {
     "name": "stderr",
     "output_type": "stream",
     "text": [
      "\r",
      "                                                                               \r",
      "\r",
      " 24% (120 of 500) |#####                 | Elapsed Time: 1:26:14 ETA:   4:35:44"
     ]
    },
    {
     "name": "stdout",
     "output_type": "stream",
     "text": [
      " STEP ===> 119 ; MSE: 0.01526 ; RMSE: 0.12353\n"
     ]
    },
    {
     "name": "stderr",
     "output_type": "stream",
     "text": [
      "\r",
      "                                                                               \r",
      "\r",
      " 24% (121 of 500) |#####                 | Elapsed Time: 1:26:58 ETA:   4:38:45"
     ]
    },
    {
     "name": "stdout",
     "output_type": "stream",
     "text": [
      " STEP ===> 120 ; MSE: 0.01521 ; RMSE: 0.12335\n"
     ]
    },
    {
     "name": "stderr",
     "output_type": "stream",
     "text": [
      "\r",
      "                                                                               \r",
      "\r",
      " 24% (122 of 500) |#####                 | Elapsed Time: 1:27:42 ETA:   4:36:21"
     ]
    },
    {
     "name": "stdout",
     "output_type": "stream",
     "text": [
      " STEP ===> 121 ; MSE: 0.01517 ; RMSE: 0.12317\n"
     ]
    },
    {
     "name": "stderr",
     "output_type": "stream",
     "text": [
      "\r",
      "                                                                               \r",
      "\r",
      " 24% (123 of 500) |#####                 | Elapsed Time: 1:28:25 ETA:   4:30:17"
     ]
    },
    {
     "name": "stdout",
     "output_type": "stream",
     "text": [
      " STEP ===> 122 ; MSE: 0.01513 ; RMSE: 0.12299\n"
     ]
    },
    {
     "name": "stderr",
     "output_type": "stream",
     "text": [
      "\r",
      "                                                                               \r",
      "\r",
      " 24% (124 of 500) |#####                 | Elapsed Time: 1:29:09 ETA:   4:32:28"
     ]
    },
    {
     "name": "stdout",
     "output_type": "stream",
     "text": [
      " STEP ===> 123 ; MSE: 0.01508 ; RMSE: 0.12281\n"
     ]
    },
    {
     "name": "stderr",
     "output_type": "stream",
     "text": [
      "\r",
      "                                                                               \r",
      "\r",
      " 25% (125 of 500) |#####                 | Elapsed Time: 1:29:52 ETA:   4:30:50"
     ]
    },
    {
     "name": "stdout",
     "output_type": "stream",
     "text": [
      " STEP ===> 124 ; MSE: 0.01504 ; RMSE: 0.12263\n"
     ]
    },
    {
     "name": "stderr",
     "output_type": "stream",
     "text": [
      "\r",
      "                                                                               \r",
      "\r",
      " 25% (126 of 500) |#####                 | Elapsed Time: 1:30:35 ETA:   4:29:05"
     ]
    },
    {
     "name": "stdout",
     "output_type": "stream",
     "text": [
      " STEP ===> 125 ; MSE: 0.015 ; RMSE: 0.12246\n"
     ]
    },
    {
     "name": "stderr",
     "output_type": "stream",
     "text": [
      "\r",
      "                                                                               \r",
      "\r",
      " 25% (127 of 500) |#####                 | Elapsed Time: 1:31:19 ETA:   4:29:03"
     ]
    },
    {
     "name": "stdout",
     "output_type": "stream",
     "text": [
      " STEP ===> 126 ; MSE: 0.01495 ; RMSE: 0.12228\n"
     ]
    },
    {
     "name": "stderr",
     "output_type": "stream",
     "text": [
      "\r",
      "                                                                               \r",
      "\r",
      " 25% (128 of 500) |#####                 | Elapsed Time: 1:32:01 ETA:   4:25:31"
     ]
    },
    {
     "name": "stdout",
     "output_type": "stream",
     "text": [
      " STEP ===> 127 ; MSE: 0.01491 ; RMSE: 0.12211\n"
     ]
    },
    {
     "name": "stderr",
     "output_type": "stream",
     "text": [
      "\r",
      "                                                                               \r",
      "\r",
      " 25% (129 of 500) |#####                 | Elapsed Time: 1:32:44 ETA:   4:25:17"
     ]
    },
    {
     "name": "stdout",
     "output_type": "stream",
     "text": [
      " STEP ===> 128 ; MSE: 0.01487 ; RMSE: 0.12194\n"
     ]
    },
    {
     "name": "stderr",
     "output_type": "stream",
     "text": [
      "\r",
      "                                                                               \r",
      "\r",
      " 26% (130 of 500) |#####                 | Elapsed Time: 1:33:27 ETA:   4:23:18"
     ]
    },
    {
     "name": "stdout",
     "output_type": "stream",
     "text": [
      " STEP ===> 129 ; MSE: 0.01483 ; RMSE: 0.12177\n"
     ]
    },
    {
     "name": "stderr",
     "output_type": "stream",
     "text": [
      "\r",
      "                                                                               \r",
      "\r",
      " 26% (131 of 500) |#####                 | Elapsed Time: 1:34:10 ETA:   4:26:45"
     ]
    },
    {
     "name": "stdout",
     "output_type": "stream",
     "text": [
      " STEP ===> 130 ; MSE: 0.01479 ; RMSE: 0.1216\n"
     ]
    },
    {
     "name": "stderr",
     "output_type": "stream",
     "text": [
      "\r",
      "                                                                               \r",
      "\r",
      " 26% (132 of 500) |#####                 | Elapsed Time: 1:34:54 ETA:   4:24:15"
     ]
    },
    {
     "name": "stdout",
     "output_type": "stream",
     "text": [
      " STEP ===> 131 ; MSE: 0.01475 ; RMSE: 0.12143\n"
     ]
    },
    {
     "name": "stderr",
     "output_type": "stream",
     "text": [
      "\r",
      "                                                                               \r",
      "\r",
      " 26% (133 of 500) |#####                 | Elapsed Time: 1:35:37 ETA:   4:22:55"
     ]
    },
    {
     "name": "stdout",
     "output_type": "stream",
     "text": [
      " STEP ===> 132 ; MSE: 0.01471 ; RMSE: 0.12126\n"
     ]
    },
    {
     "name": "stderr",
     "output_type": "stream",
     "text": [
      "\r",
      "                                                                               \r",
      "\r",
      " 26% (134 of 500) |#####                 | Elapsed Time: 1:36:20 ETA:   4:24:22"
     ]
    },
    {
     "name": "stdout",
     "output_type": "stream",
     "text": [
      " STEP ===> 133 ; MSE: 0.01466 ; RMSE: 0.1211\n"
     ]
    },
    {
     "name": "stderr",
     "output_type": "stream",
     "text": [
      "\r",
      "                                                                               \r",
      "\r",
      " 27% (135 of 500) |#####                 | Elapsed Time: 1:37:03 ETA:   4:24:22"
     ]
    },
    {
     "name": "stdout",
     "output_type": "stream",
     "text": [
      " STEP ===> 134 ; MSE: 0.01462 ; RMSE: 0.12093\n"
     ]
    },
    {
     "name": "stderr",
     "output_type": "stream",
     "text": [
      "\r",
      "                                                                               \r",
      "\r",
      " 27% (136 of 500) |#####                 | Elapsed Time: 1:37:46 ETA:   4:20:01"
     ]
    },
    {
     "name": "stdout",
     "output_type": "stream",
     "text": [
      " STEP ===> 135 ; MSE: 0.01459 ; RMSE: 0.12077\n"
     ]
    },
    {
     "name": "stderr",
     "output_type": "stream",
     "text": [
      "\r",
      "                                                                               \r",
      "\r",
      " 27% (137 of 500) |######                | Elapsed Time: 1:38:29 ETA:   4:20:06"
     ]
    },
    {
     "name": "stdout",
     "output_type": "stream",
     "text": [
      " STEP ===> 136 ; MSE: 0.01455 ; RMSE: 0.12061\n"
     ]
    },
    {
     "name": "stderr",
     "output_type": "stream",
     "text": [
      "\r",
      "                                                                               \r",
      "\r",
      " 27% (138 of 500) |######                | Elapsed Time: 1:39:12 ETA:   4:16:25"
     ]
    },
    {
     "name": "stdout",
     "output_type": "stream",
     "text": [
      " STEP ===> 137 ; MSE: 0.01451 ; RMSE: 0.12044\n"
     ]
    },
    {
     "name": "stderr",
     "output_type": "stream",
     "text": [
      "\r",
      "                                                                               \r",
      "\r",
      " 27% (139 of 500) |######                | Elapsed Time: 1:39:55 ETA:   4:20:38"
     ]
    },
    {
     "name": "stdout",
     "output_type": "stream",
     "text": [
      " STEP ===> 138 ; MSE: 0.01447 ; RMSE: 0.12028\n"
     ]
    },
    {
     "name": "stderr",
     "output_type": "stream",
     "text": [
      "\r",
      "                                                                               \r",
      "\r",
      " 28% (140 of 500) |######                | Elapsed Time: 1:40:38 ETA:   4:19:45"
     ]
    },
    {
     "name": "stdout",
     "output_type": "stream",
     "text": [
      " STEP ===> 139 ; MSE: 0.01443 ; RMSE: 0.12012\n"
     ]
    },
    {
     "name": "stderr",
     "output_type": "stream",
     "text": [
      "\r",
      "                                                                               \r",
      "\r",
      " 28% (141 of 500) |######                | Elapsed Time: 1:41:21 ETA:   4:16:23"
     ]
    },
    {
     "name": "stdout",
     "output_type": "stream",
     "text": [
      " STEP ===> 140 ; MSE: 0.01439 ; RMSE: 0.11996\n"
     ]
    },
    {
     "name": "stderr",
     "output_type": "stream",
     "text": [
      "\r",
      "                                                                               \r",
      "\r",
      " 28% (142 of 500) |######                | Elapsed Time: 1:42:04 ETA:   4:16:36"
     ]
    },
    {
     "name": "stdout",
     "output_type": "stream",
     "text": [
      " STEP ===> 141 ; MSE: 0.01435 ; RMSE: 0.11981\n"
     ]
    },
    {
     "name": "stderr",
     "output_type": "stream",
     "text": [
      "\r",
      "                                                                               \r",
      "\r",
      " 28% (143 of 500) |######                | Elapsed Time: 1:42:48 ETA:   4:20:41"
     ]
    },
    {
     "name": "stdout",
     "output_type": "stream",
     "text": [
      " STEP ===> 142 ; MSE: 0.01432 ; RMSE: 0.11965\n"
     ]
    },
    {
     "name": "stderr",
     "output_type": "stream",
     "text": [
      "\r",
      "                                                                               \r",
      "\r",
      " 28% (144 of 500) |######                | Elapsed Time: 1:43:32 ETA:   4:18:30"
     ]
    },
    {
     "name": "stdout",
     "output_type": "stream",
     "text": [
      " STEP ===> 143 ; MSE: 0.01428 ; RMSE: 0.11949\n"
     ]
    },
    {
     "name": "stderr",
     "output_type": "stream",
     "text": [
      "\r",
      "                                                                               \r",
      "\r",
      " 28% (145 of 500) |######                | Elapsed Time: 1:44:15 ETA:   4:18:35"
     ]
    },
    {
     "name": "stdout",
     "output_type": "stream",
     "text": [
      " STEP ===> 144 ; MSE: 0.01424 ; RMSE: 0.11934\n"
     ]
    },
    {
     "name": "stderr",
     "output_type": "stream",
     "text": [
      "\r",
      "                                                                               \r",
      "\r",
      " 29% (146 of 500) |######                | Elapsed Time: 1:44:59 ETA:   4:16:48"
     ]
    },
    {
     "name": "stdout",
     "output_type": "stream",
     "text": [
      " STEP ===> 145 ; MSE: 0.0142 ; RMSE: 0.11918\n"
     ]
    },
    {
     "name": "stderr",
     "output_type": "stream",
     "text": [
      "\r",
      "                                                                               \r",
      "\r",
      " 29% (147 of 500) |######                | Elapsed Time: 1:45:42 ETA:   4:11:49"
     ]
    },
    {
     "name": "stdout",
     "output_type": "stream",
     "text": [
      " STEP ===> 146 ; MSE: 0.01417 ; RMSE: 0.11903\n"
     ]
    },
    {
     "name": "stderr",
     "output_type": "stream",
     "text": [
      "\r",
      "                                                                               \r",
      "\r",
      " 29% (148 of 500) |######                | Elapsed Time: 1:46:25 ETA:   4:15:00"
     ]
    },
    {
     "name": "stdout",
     "output_type": "stream",
     "text": [
      " STEP ===> 147 ; MSE: 0.01413 ; RMSE: 0.11888\n"
     ]
    },
    {
     "name": "stderr",
     "output_type": "stream",
     "text": [
      "\r",
      "                                                                               \r",
      "\r",
      " 29% (149 of 500) |######                | Elapsed Time: 1:47:08 ETA:   4:12:44"
     ]
    },
    {
     "name": "stdout",
     "output_type": "stream",
     "text": [
      " STEP ===> 148 ; MSE: 0.0141 ; RMSE: 0.11873\n"
     ]
    },
    {
     "name": "stderr",
     "output_type": "stream",
     "text": [
      "\r",
      "                                                                               \r",
      "\r",
      " 30% (150 of 500) |######                | Elapsed Time: 1:47:51 ETA:   4:08:31"
     ]
    },
    {
     "name": "stdout",
     "output_type": "stream",
     "text": [
      " STEP ===> 149 ; MSE: 0.01406 ; RMSE: 0.11857\n"
     ]
    },
    {
     "name": "stderr",
     "output_type": "stream",
     "text": [
      "\r",
      "                                                                               \r",
      "\r",
      " 30% (151 of 500) |######                | Elapsed Time: 1:48:34 ETA:   4:12:54"
     ]
    },
    {
     "name": "stdout",
     "output_type": "stream",
     "text": [
      " STEP ===> 150 ; MSE: 0.01402 ; RMSE: 0.11842\n"
     ]
    },
    {
     "name": "stderr",
     "output_type": "stream",
     "text": [
      "\r",
      "                                                                               \r",
      "\r",
      " 30% (152 of 500) |######                | Elapsed Time: 1:49:18 ETA:   4:13:23"
     ]
    },
    {
     "name": "stdout",
     "output_type": "stream",
     "text": [
      " STEP ===> 151 ; MSE: 0.01399 ; RMSE: 0.11828\n"
     ]
    },
    {
     "name": "stderr",
     "output_type": "stream",
     "text": [
      "\r",
      "                                                                               \r",
      "\r",
      " 30% (153 of 500) |######                | Elapsed Time: 1:50:02 ETA:   4:11:42"
     ]
    },
    {
     "name": "stdout",
     "output_type": "stream",
     "text": [
      " STEP ===> 152 ; MSE: 0.01395 ; RMSE: 0.11813\n"
     ]
    },
    {
     "name": "stderr",
     "output_type": "stream",
     "text": [
      "\r",
      "                                                                               \r",
      "\r",
      " 30% (154 of 500) |######                | Elapsed Time: 1:50:45 ETA:   4:11:44"
     ]
    },
    {
     "name": "stdout",
     "output_type": "stream",
     "text": [
      " STEP ===> 153 ; MSE: 0.01392 ; RMSE: 0.11798\n"
     ]
    },
    {
     "name": "stderr",
     "output_type": "stream",
     "text": [
      "\r",
      "                                                                               \r",
      "\r",
      " 31% (155 of 500) |######                | Elapsed Time: 1:51:29 ETA:   4:11:13"
     ]
    },
    {
     "name": "stdout",
     "output_type": "stream",
     "text": [
      " STEP ===> 154 ; MSE: 0.01388 ; RMSE: 0.11783\n"
     ]
    },
    {
     "name": "stderr",
     "output_type": "stream",
     "text": [
      "\r",
      "                                                                               \r",
      "\r",
      " 31% (156 of 500) |######                | Elapsed Time: 1:52:13 ETA:   4:11:03"
     ]
    },
    {
     "name": "stdout",
     "output_type": "stream",
     "text": [
      " STEP ===> 155 ; MSE: 0.01385 ; RMSE: 0.11769\n"
     ]
    },
    {
     "name": "stderr",
     "output_type": "stream",
     "text": [
      "\r",
      "                                                                               \r",
      "\r",
      " 31% (157 of 500) |######                | Elapsed Time: 1:52:56 ETA:   4:08:09"
     ]
    },
    {
     "name": "stdout",
     "output_type": "stream",
     "text": [
      " STEP ===> 156 ; MSE: 0.01382 ; RMSE: 0.11754\n"
     ]
    },
    {
     "name": "stderr",
     "output_type": "stream",
     "text": [
      "\r",
      "                                                                               \r",
      "\r",
      " 31% (158 of 500) |######                | Elapsed Time: 1:53:40 ETA:   4:08:22"
     ]
    },
    {
     "name": "stdout",
     "output_type": "stream",
     "text": [
      " STEP ===> 157 ; MSE: 0.01378 ; RMSE: 0.1174\n"
     ]
    },
    {
     "name": "stderr",
     "output_type": "stream",
     "text": [
      "\r",
      "                                                                               \r",
      "\r",
      " 31% (159 of 500) |######                | Elapsed Time: 1:54:23 ETA:   4:08:40"
     ]
    },
    {
     "name": "stdout",
     "output_type": "stream",
     "text": [
      " STEP ===> 158 ; MSE: 0.01375 ; RMSE: 0.11725\n"
     ]
    },
    {
     "name": "stderr",
     "output_type": "stream",
     "text": [
      "\r",
      "                                                                               \r",
      "\r",
      " 32% (160 of 500) |#######               | Elapsed Time: 1:55:07 ETA:   4:09:45"
     ]
    },
    {
     "name": "stdout",
     "output_type": "stream",
     "text": [
      " STEP ===> 159 ; MSE: 0.01371 ; RMSE: 0.11711\n"
     ]
    },
    {
     "name": "stderr",
     "output_type": "stream",
     "text": [
      "\r",
      "                                                                               \r",
      "\r",
      " 32% (161 of 500) |#######               | Elapsed Time: 1:55:51 ETA:   4:03:47"
     ]
    },
    {
     "name": "stdout",
     "output_type": "stream",
     "text": [
      " STEP ===> 160 ; MSE: 0.01368 ; RMSE: 0.11697\n"
     ]
    },
    {
     "name": "stderr",
     "output_type": "stream",
     "text": [
      "\r",
      "                                                                               \r",
      "\r",
      " 32% (162 of 500) |#######               | Elapsed Time: 1:56:34 ETA:   4:04:25"
     ]
    },
    {
     "name": "stdout",
     "output_type": "stream",
     "text": [
      " STEP ===> 161 ; MSE: 0.01365 ; RMSE: 0.11683\n"
     ]
    },
    {
     "name": "stderr",
     "output_type": "stream",
     "text": [
      "\r",
      "                                                                               \r",
      "\r",
      " 32% (163 of 500) |#######               | Elapsed Time: 1:57:17 ETA:   4:01:20"
     ]
    },
    {
     "name": "stdout",
     "output_type": "stream",
     "text": [
      " STEP ===> 162 ; MSE: 0.01362 ; RMSE: 0.11669\n"
     ]
    },
    {
     "name": "stderr",
     "output_type": "stream",
     "text": [
      "\r",
      "                                                                               \r",
      "\r",
      " 32% (164 of 500) |#######               | Elapsed Time: 1:58:00 ETA:   4:01:20"
     ]
    },
    {
     "name": "stdout",
     "output_type": "stream",
     "text": [
      " STEP ===> 163 ; MSE: 0.01358 ; RMSE: 0.11655\n"
     ]
    },
    {
     "name": "stderr",
     "output_type": "stream",
     "text": [
      "\r",
      "                                                                               \r",
      "\r",
      " 33% (165 of 500) |#######               | Elapsed Time: 1:58:44 ETA:   4:03:38"
     ]
    },
    {
     "name": "stdout",
     "output_type": "stream",
     "text": [
      " STEP ===> 164 ; MSE: 0.01355 ; RMSE: 0.11641\n"
     ]
    },
    {
     "name": "stderr",
     "output_type": "stream",
     "text": [
      "\r",
      "                                                                               \r",
      "\r",
      " 33% (166 of 500) |#######               | Elapsed Time: 1:59:27 ETA:   4:03:38"
     ]
    },
    {
     "name": "stdout",
     "output_type": "stream",
     "text": [
      " STEP ===> 165 ; MSE: 0.01352 ; RMSE: 0.11627\n"
     ]
    },
    {
     "name": "stderr",
     "output_type": "stream",
     "text": [
      "\r",
      "                                                                               \r",
      "\r",
      " 33% (167 of 500) |#######               | Elapsed Time: 2:00:11 ETA:   4:03:21"
     ]
    },
    {
     "name": "stdout",
     "output_type": "stream",
     "text": [
      " STEP ===> 166 ; MSE: 0.01349 ; RMSE: 0.11613\n"
     ]
    },
    {
     "name": "stderr",
     "output_type": "stream",
     "text": [
      "\r",
      "                                                                               \r",
      "\r",
      " 33% (168 of 500) |#######               | Elapsed Time: 2:00:55 ETA:   4:01:19"
     ]
    },
    {
     "name": "stdout",
     "output_type": "stream",
     "text": [
      " STEP ===> 167 ; MSE: 0.01345 ; RMSE: 0.11599\n"
     ]
    },
    {
     "name": "stderr",
     "output_type": "stream",
     "text": [
      "\r",
      "                                                                               \r",
      "\r",
      " 33% (169 of 500) |#######               | Elapsed Time: 2:01:39 ETA:   4:01:59"
     ]
    },
    {
     "name": "stdout",
     "output_type": "stream",
     "text": [
      " STEP ===> 168 ; MSE: 0.01342 ; RMSE: 0.11586\n"
     ]
    },
    {
     "name": "stderr",
     "output_type": "stream",
     "text": [
      "\r",
      "                                                                               \r",
      "\r",
      " 34% (170 of 500) |#######               | Elapsed Time: 2:02:22 ETA:   3:57:42"
     ]
    },
    {
     "name": "stdout",
     "output_type": "stream",
     "text": [
      " STEP ===> 169 ; MSE: 0.01339 ; RMSE: 0.11572\n"
     ]
    },
    {
     "name": "stderr",
     "output_type": "stream",
     "text": [
      "\r",
      "                                                                               \r",
      "\r",
      " 34% (171 of 500) |#######               | Elapsed Time: 2:03:05 ETA:   3:58:12"
     ]
    },
    {
     "name": "stdout",
     "output_type": "stream",
     "text": [
      " STEP ===> 170 ; MSE: 0.01336 ; RMSE: 0.11558\n"
     ]
    },
    {
     "name": "stderr",
     "output_type": "stream",
     "text": [
      "\r",
      "                                                                               \r",
      "\r",
      " 34% (172 of 500) |#######               | Elapsed Time: 2:03:49 ETA:   3:56:12"
     ]
    },
    {
     "name": "stdout",
     "output_type": "stream",
     "text": [
      " STEP ===> 171 ; MSE: 0.01333 ; RMSE: 0.11545\n"
     ]
    },
    {
     "name": "stderr",
     "output_type": "stream",
     "text": [
      "\r",
      "                                                                               \r",
      "\r",
      " 34% (173 of 500) |#######               | Elapsed Time: 2:04:32 ETA:   3:57:16"
     ]
    },
    {
     "name": "stdout",
     "output_type": "stream",
     "text": [
      " STEP ===> 172 ; MSE: 0.0133 ; RMSE: 0.11532\n"
     ]
    },
    {
     "name": "stderr",
     "output_type": "stream",
     "text": [
      "\r",
      "                                                                               \r",
      "\r",
      " 34% (174 of 500) |#######               | Elapsed Time: 2:05:16 ETA:   3:59:38"
     ]
    },
    {
     "name": "stdout",
     "output_type": "stream",
     "text": [
      " STEP ===> 173 ; MSE: 0.01327 ; RMSE: 0.11518\n"
     ]
    },
    {
     "name": "stderr",
     "output_type": "stream",
     "text": [
      "\r",
      "                                                                               \r",
      "\r",
      " 35% (175 of 500) |#######               | Elapsed Time: 2:06:00 ETA:   3:56:41"
     ]
    },
    {
     "name": "stdout",
     "output_type": "stream",
     "text": [
      " STEP ===> 174 ; MSE: 0.01324 ; RMSE: 0.11505\n"
     ]
    },
    {
     "name": "stderr",
     "output_type": "stream",
     "text": [
      "\r",
      "                                                                               \r",
      "\r",
      " 35% (176 of 500) |#######               | Elapsed Time: 2:06:44 ETA:   3:54:50"
     ]
    },
    {
     "name": "stdout",
     "output_type": "stream",
     "text": [
      " STEP ===> 175 ; MSE: 0.01321 ; RMSE: 0.11492\n"
     ]
    },
    {
     "name": "stderr",
     "output_type": "stream",
     "text": [
      "\r",
      "                                                                               \r",
      "\r",
      " 35% (177 of 500) |#######               | Elapsed Time: 2:07:27 ETA:   3:54:16"
     ]
    },
    {
     "name": "stdout",
     "output_type": "stream",
     "text": [
      " STEP ===> 176 ; MSE: 0.01318 ; RMSE: 0.11479\n"
     ]
    },
    {
     "name": "stderr",
     "output_type": "stream",
     "text": [
      "\r",
      "                                                                               \r",
      "\r",
      " 35% (178 of 500) |#######               | Elapsed Time: 2:08:10 ETA:   3:51:58"
     ]
    },
    {
     "name": "stdout",
     "output_type": "stream",
     "text": [
      " STEP ===> 177 ; MSE: 0.01315 ; RMSE: 0.11466\n"
     ]
    },
    {
     "name": "stderr",
     "output_type": "stream",
     "text": [
      "\r",
      "                                                                               \r",
      "\r",
      " 35% (179 of 500) |#######               | Elapsed Time: 2:08:54 ETA:   3:53:12"
     ]
    },
    {
     "name": "stdout",
     "output_type": "stream",
     "text": [
      " STEP ===> 178 ; MSE: 0.01312 ; RMSE: 0.11453\n"
     ]
    },
    {
     "name": "stderr",
     "output_type": "stream",
     "text": [
      "\r",
      "                                                                               \r",
      "\r",
      " 36% (180 of 500) |#######               | Elapsed Time: 2:09:38 ETA:   3:53:15"
     ]
    },
    {
     "name": "stdout",
     "output_type": "stream",
     "text": [
      " STEP ===> 179 ; MSE: 0.01309 ; RMSE: 0.1144\n"
     ]
    },
    {
     "name": "stderr",
     "output_type": "stream",
     "text": [
      "\r",
      "                                                                               \r",
      "\r",
      " 36% (181 of 500) |#######               | Elapsed Time: 2:10:21 ETA:   3:52:44"
     ]
    },
    {
     "name": "stdout",
     "output_type": "stream",
     "text": [
      " STEP ===> 180 ; MSE: 0.01306 ; RMSE: 0.11427\n"
     ]
    },
    {
     "name": "stderr",
     "output_type": "stream",
     "text": [
      "\r",
      "                                                                               \r",
      "\r",
      " 36% (182 of 500) |########              | Elapsed Time: 2:11:05 ETA:   3:48:55"
     ]
    },
    {
     "name": "stdout",
     "output_type": "stream",
     "text": [
      " STEP ===> 181 ; MSE: 0.01303 ; RMSE: 0.11414\n"
     ]
    },
    {
     "name": "stderr",
     "output_type": "stream",
     "text": [
      "\r",
      "                                                                               \r",
      "\r",
      " 36% (183 of 500) |########              | Elapsed Time: 2:11:48 ETA:   3:46:55"
     ]
    },
    {
     "name": "stdout",
     "output_type": "stream",
     "text": [
      " STEP ===> 182 ; MSE: 0.013 ; RMSE: 0.11401\n"
     ]
    },
    {
     "name": "stderr",
     "output_type": "stream",
     "text": [
      "\r",
      "                                                                               \r",
      "\r",
      " 36% (184 of 500) |########              | Elapsed Time: 2:12:31 ETA:   3:48:49"
     ]
    },
    {
     "name": "stdout",
     "output_type": "stream",
     "text": [
      " STEP ===> 183 ; MSE: 0.01297 ; RMSE: 0.11389\n"
     ]
    },
    {
     "name": "stderr",
     "output_type": "stream",
     "text": [
      "\r",
      "                                                                               \r",
      "\r",
      " 37% (185 of 500) |########              | Elapsed Time: 2:13:15 ETA:   3:50:36"
     ]
    },
    {
     "name": "stdout",
     "output_type": "stream",
     "text": [
      " STEP ===> 184 ; MSE: 0.01294 ; RMSE: 0.11376\n"
     ]
    },
    {
     "name": "stderr",
     "output_type": "stream",
     "text": [
      "\r",
      "                                                                               \r",
      "\r",
      " 37% (186 of 500) |########              | Elapsed Time: 2:13:58 ETA:   3:46:23"
     ]
    },
    {
     "name": "stdout",
     "output_type": "stream",
     "text": [
      " STEP ===> 185 ; MSE: 0.01291 ; RMSE: 0.11364\n"
     ]
    },
    {
     "name": "stderr",
     "output_type": "stream",
     "text": [
      "\r",
      "                                                                               \r",
      "\r",
      " 37% (187 of 500) |########              | Elapsed Time: 2:14:42 ETA:   3:47:07"
     ]
    },
    {
     "name": "stdout",
     "output_type": "stream",
     "text": [
      " STEP ===> 186 ; MSE: 0.01288 ; RMSE: 0.11351\n"
     ]
    },
    {
     "name": "stderr",
     "output_type": "stream",
     "text": [
      "\r",
      "                                                                               \r",
      "\r",
      " 37% (188 of 500) |########              | Elapsed Time: 2:15:26 ETA:   3:49:05"
     ]
    },
    {
     "name": "stdout",
     "output_type": "stream",
     "text": [
      " STEP ===> 187 ; MSE: 0.01286 ; RMSE: 0.11339\n"
     ]
    },
    {
     "name": "stderr",
     "output_type": "stream",
     "text": [
      "\r",
      "                                                                               \r",
      "\r",
      " 37% (189 of 500) |########              | Elapsed Time: 2:16:09 ETA:   3:44:38"
     ]
    },
    {
     "name": "stdout",
     "output_type": "stream",
     "text": [
      " STEP ===> 188 ; MSE: 0.01283 ; RMSE: 0.11326\n"
     ]
    },
    {
     "name": "stderr",
     "output_type": "stream",
     "text": [
      "\r",
      "                                                                               \r",
      "\r",
      " 38% (190 of 500) |########              | Elapsed Time: 2:16:52 ETA:   3:42:11"
     ]
    },
    {
     "name": "stdout",
     "output_type": "stream",
     "text": [
      " STEP ===> 189 ; MSE: 0.0128 ; RMSE: 0.11314\n"
     ]
    },
    {
     "name": "stderr",
     "output_type": "stream",
     "text": [
      "\r",
      "                                                                               \r",
      "\r",
      " 38% (191 of 500) |########              | Elapsed Time: 2:17:36 ETA:   3:45:30"
     ]
    },
    {
     "name": "stdout",
     "output_type": "stream",
     "text": [
      " STEP ===> 190 ; MSE: 0.01277 ; RMSE: 0.11302\n"
     ]
    },
    {
     "name": "stderr",
     "output_type": "stream",
     "text": [
      "\r",
      "                                                                               \r",
      "\r",
      " 38% (192 of 500) |########              | Elapsed Time: 2:18:20 ETA:   3:45:16"
     ]
    },
    {
     "name": "stdout",
     "output_type": "stream",
     "text": [
      " STEP ===> 191 ; MSE: 0.01275 ; RMSE: 0.1129\n"
     ]
    },
    {
     "name": "stderr",
     "output_type": "stream",
     "text": [
      "\r",
      "                                                                               \r",
      "\r",
      " 38% (193 of 500) |########              | Elapsed Time: 2:19:03 ETA:   3:41:06"
     ]
    },
    {
     "name": "stdout",
     "output_type": "stream",
     "text": [
      " STEP ===> 192 ; MSE: 0.01272 ; RMSE: 0.11277\n"
     ]
    },
    {
     "name": "stderr",
     "output_type": "stream",
     "text": [
      "\r",
      "                                                                               \r",
      "\r",
      " 38% (194 of 500) |########              | Elapsed Time: 2:19:47 ETA:   3:44:29"
     ]
    },
    {
     "name": "stdout",
     "output_type": "stream",
     "text": [
      " STEP ===> 193 ; MSE: 0.01269 ; RMSE: 0.11265\n"
     ]
    },
    {
     "name": "stderr",
     "output_type": "stream",
     "text": [
      "\r",
      "                                                                               \r",
      "\r",
      " 39% (195 of 500) |########              | Elapsed Time: 2:20:30 ETA:   3:37:33"
     ]
    },
    {
     "name": "stdout",
     "output_type": "stream",
     "text": [
      " STEP ===> 194 ; MSE: 0.01266 ; RMSE: 0.11253\n"
     ]
    },
    {
     "name": "stderr",
     "output_type": "stream",
     "text": [
      "\r",
      "                                                                               \r",
      "\r",
      " 39% (196 of 500) |########              | Elapsed Time: 2:21:13 ETA:   3:41:22"
     ]
    },
    {
     "name": "stdout",
     "output_type": "stream",
     "text": [
      " STEP ===> 195 ; MSE: 0.01264 ; RMSE: 0.11241\n"
     ]
    },
    {
     "name": "stderr",
     "output_type": "stream",
     "text": [
      "\r",
      "                                                                               \r",
      "\r",
      " 39% (197 of 500) |########              | Elapsed Time: 2:21:57 ETA:   3:37:39"
     ]
    },
    {
     "name": "stdout",
     "output_type": "stream",
     "text": [
      " STEP ===> 196 ; MSE: 0.01261 ; RMSE: 0.1123\n"
     ]
    },
    {
     "name": "stderr",
     "output_type": "stream",
     "text": [
      "\r",
      "                                                                               \r",
      "\r",
      " 39% (198 of 500) |########              | Elapsed Time: 2:22:39 ETA:   3:34:46"
     ]
    },
    {
     "name": "stdout",
     "output_type": "stream",
     "text": [
      " STEP ===> 197 ; MSE: 0.01258 ; RMSE: 0.11218\n"
     ]
    },
    {
     "name": "stderr",
     "output_type": "stream",
     "text": [
      "\r",
      "                                                                               \r",
      "\r",
      " 39% (199 of 500) |########              | Elapsed Time: 2:23:23 ETA:   3:38:22"
     ]
    },
    {
     "name": "stdout",
     "output_type": "stream",
     "text": [
      " STEP ===> 198 ; MSE: 0.01256 ; RMSE: 0.11206\n"
     ]
    },
    {
     "name": "stderr",
     "output_type": "stream",
     "text": [
      "\r",
      "                                                                               \r",
      "\r",
      " 40% (200 of 500) |########              | Elapsed Time: 2:24:06 ETA:   3:38:19"
     ]
    },
    {
     "name": "stdout",
     "output_type": "stream",
     "text": [
      " STEP ===> 199 ; MSE: 0.01253 ; RMSE: 0.11194\n"
     ]
    },
    {
     "name": "stderr",
     "output_type": "stream",
     "text": [
      "\r",
      "                                                                               \r",
      "\r",
      " 40% (201 of 500) |########              | Elapsed Time: 2:24:50 ETA:   3:35:45"
     ]
    },
    {
     "name": "stdout",
     "output_type": "stream",
     "text": [
      " STEP ===> 200 ; MSE: 0.0125 ; RMSE: 0.11182\n"
     ]
    },
    {
     "name": "stderr",
     "output_type": "stream",
     "text": [
      "\r",
      "                                                                               \r",
      "\r",
      " 40% (202 of 500) |########              | Elapsed Time: 2:25:34 ETA:   3:37:29"
     ]
    },
    {
     "name": "stdout",
     "output_type": "stream",
     "text": [
      " STEP ===> 201 ; MSE: 0.01248 ; RMSE: 0.11171\n"
     ]
    },
    {
     "name": "stderr",
     "output_type": "stream",
     "text": [
      "\r",
      "                                                                               \r",
      "\r",
      " 40% (203 of 500) |########              | Elapsed Time: 2:26:17 ETA:   3:33:12"
     ]
    },
    {
     "name": "stdout",
     "output_type": "stream",
     "text": [
      " STEP ===> 202 ; MSE: 0.01245 ; RMSE: 0.11159\n"
     ]
    },
    {
     "name": "stderr",
     "output_type": "stream",
     "text": [
      "\r",
      "                                                                               \r",
      "\r",
      " 40% (204 of 500) |########              | Elapsed Time: 2:27:00 ETA:   3:33:05"
     ]
    },
    {
     "name": "stdout",
     "output_type": "stream",
     "text": [
      " STEP ===> 203 ; MSE: 0.01243 ; RMSE: 0.11148\n"
     ]
    },
    {
     "name": "stderr",
     "output_type": "stream",
     "text": [
      "\r",
      "                                                                               \r",
      "\r",
      " 41% (205 of 500) |#########             | Elapsed Time: 2:27:43 ETA:   3:33:12"
     ]
    },
    {
     "name": "stdout",
     "output_type": "stream",
     "text": [
      " STEP ===> 204 ; MSE: 0.0124 ; RMSE: 0.11136\n"
     ]
    },
    {
     "name": "stderr",
     "output_type": "stream",
     "text": [
      "\r",
      "                                                                               \r",
      "\r",
      " 41% (206 of 500) |#########             | Elapsed Time: 2:28:27 ETA:   3:36:22"
     ]
    },
    {
     "name": "stdout",
     "output_type": "stream",
     "text": [
      " STEP ===> 205 ; MSE: 0.01238 ; RMSE: 0.11125\n"
     ]
    },
    {
     "name": "stderr",
     "output_type": "stream",
     "text": [
      "\r",
      "                                                                               \r",
      "\r",
      " 41% (207 of 500) |#########             | Elapsed Time: 2:29:11 ETA:   3:31:08"
     ]
    },
    {
     "name": "stdout",
     "output_type": "stream",
     "text": [
      " STEP ===> 206 ; MSE: 0.01235 ; RMSE: 0.11113\n"
     ]
    },
    {
     "name": "stderr",
     "output_type": "stream",
     "text": [
      "\r",
      "                                                                               \r",
      "\r",
      " 41% (208 of 500) |#########             | Elapsed Time: 2:29:53 ETA:   3:27:34"
     ]
    },
    {
     "name": "stdout",
     "output_type": "stream",
     "text": [
      " STEP ===> 207 ; MSE: 0.01233 ; RMSE: 0.11102\n"
     ]
    },
    {
     "name": "stderr",
     "output_type": "stream",
     "text": [
      "\r",
      "                                                                               \r",
      "\r",
      " 41% (209 of 500) |#########             | Elapsed Time: 2:30:36 ETA:   3:29:04"
     ]
    },
    {
     "name": "stdout",
     "output_type": "stream",
     "text": [
      " STEP ===> 208 ; MSE: 0.0123 ; RMSE: 0.11091\n"
     ]
    },
    {
     "name": "stderr",
     "output_type": "stream",
     "text": [
      "\r",
      "                                                                               \r",
      "\r",
      " 42% (210 of 500) |#########             | Elapsed Time: 2:31:20 ETA:   3:30:01"
     ]
    },
    {
     "name": "stdout",
     "output_type": "stream",
     "text": [
      " STEP ===> 209 ; MSE: 0.01228 ; RMSE: 0.1108\n"
     ]
    },
    {
     "name": "stderr",
     "output_type": "stream",
     "text": [
      "\r",
      "                                                                               \r",
      "\r",
      " 42% (211 of 500) |#########             | Elapsed Time: 2:32:03 ETA:   3:29:52"
     ]
    },
    {
     "name": "stdout",
     "output_type": "stream",
     "text": [
      " STEP ===> 210 ; MSE: 0.01225 ; RMSE: 0.11069\n"
     ]
    },
    {
     "name": "stderr",
     "output_type": "stream",
     "text": [
      "\r",
      "                                                                               \r",
      "\r",
      " 42% (212 of 500) |#########             | Elapsed Time: 2:32:46 ETA:   3:26:42"
     ]
    },
    {
     "name": "stdout",
     "output_type": "stream",
     "text": [
      " STEP ===> 211 ; MSE: 0.01223 ; RMSE: 0.11057\n"
     ]
    },
    {
     "name": "stderr",
     "output_type": "stream",
     "text": [
      "\r",
      "                                                                               \r",
      "\r",
      " 42% (213 of 500) |#########             | Elapsed Time: 2:33:30 ETA:   3:28:54"
     ]
    },
    {
     "name": "stdout",
     "output_type": "stream",
     "text": [
      " STEP ===> 212 ; MSE: 0.0122 ; RMSE: 0.11046\n"
     ]
    },
    {
     "name": "stderr",
     "output_type": "stream",
     "text": [
      "\r",
      "                                                                               \r",
      "\r",
      " 42% (214 of 500) |#########             | Elapsed Time: 2:34:14 ETA:   3:28:06"
     ]
    },
    {
     "name": "stdout",
     "output_type": "stream",
     "text": [
      " STEP ===> 213 ; MSE: 0.01218 ; RMSE: 0.11035\n"
     ]
    },
    {
     "name": "stderr",
     "output_type": "stream",
     "text": [
      "\r",
      "                                                                               \r",
      "\r",
      " 43% (215 of 500) |#########             | Elapsed Time: 2:34:57 ETA:   3:27:21"
     ]
    },
    {
     "name": "stdout",
     "output_type": "stream",
     "text": [
      " STEP ===> 214 ; MSE: 0.01215 ; RMSE: 0.11024\n"
     ]
    },
    {
     "name": "stderr",
     "output_type": "stream",
     "text": [
      "\r",
      "                                                                               \r",
      "\r",
      " 43% (216 of 500) |#########             | Elapsed Time: 2:35:41 ETA:   3:26:59"
     ]
    },
    {
     "name": "stdout",
     "output_type": "stream",
     "text": [
      " STEP ===> 215 ; MSE: 0.01213 ; RMSE: 0.11013\n"
     ]
    },
    {
     "name": "stderr",
     "output_type": "stream",
     "text": [
      "\r",
      "                                                                               \r",
      "\r",
      " 43% (217 of 500) |#########             | Elapsed Time: 2:36:24 ETA:   3:21:53"
     ]
    },
    {
     "name": "stdout",
     "output_type": "stream",
     "text": [
      " STEP ===> 216 ; MSE: 0.01211 ; RMSE: 0.11003\n"
     ]
    },
    {
     "name": "stderr",
     "output_type": "stream",
     "text": [
      "\r",
      "                                                                               \r",
      "\r",
      " 43% (218 of 500) |#########             | Elapsed Time: 2:37:07 ETA:   3:23:08"
     ]
    },
    {
     "name": "stdout",
     "output_type": "stream",
     "text": [
      " STEP ===> 217 ; MSE: 0.01208 ; RMSE: 0.10992\n"
     ]
    },
    {
     "name": "stderr",
     "output_type": "stream",
     "text": [
      "\r",
      "                                                                               \r",
      "\r",
      " 43% (219 of 500) |#########             | Elapsed Time: 2:37:50 ETA:   3:21:27"
     ]
    },
    {
     "name": "stdout",
     "output_type": "stream",
     "text": [
      " STEP ===> 218 ; MSE: 0.01206 ; RMSE: 0.10981\n"
     ]
    },
    {
     "name": "stderr",
     "output_type": "stream",
     "text": [
      "\r",
      "                                                                               \r",
      "\r",
      " 44% (220 of 500) |#########             | Elapsed Time: 2:38:33 ETA:   3:21:20"
     ]
    },
    {
     "name": "stdout",
     "output_type": "stream",
     "text": [
      " STEP ===> 219 ; MSE: 0.01203 ; RMSE: 0.1097\n"
     ]
    },
    {
     "name": "stderr",
     "output_type": "stream",
     "text": [
      "\r",
      "                                                                               \r",
      "\r",
      " 44% (221 of 500) |#########             | Elapsed Time: 2:39:17 ETA:   3:24:51"
     ]
    },
    {
     "name": "stdout",
     "output_type": "stream",
     "text": [
      " STEP ===> 220 ; MSE: 0.01201 ; RMSE: 0.1096\n"
     ]
    },
    {
     "name": "stderr",
     "output_type": "stream",
     "text": [
      "\r",
      "                                                                               \r",
      "\r",
      " 44% (222 of 500) |#########             | Elapsed Time: 2:40:01 ETA:   3:21:47"
     ]
    },
    {
     "name": "stdout",
     "output_type": "stream",
     "text": [
      " STEP ===> 221 ; MSE: 0.01199 ; RMSE: 0.10949\n"
     ]
    },
    {
     "name": "stderr",
     "output_type": "stream",
     "text": [
      "\r",
      "                                                                               \r",
      "\r",
      " 44% (223 of 500) |#########             | Elapsed Time: 2:40:45 ETA:   3:21:25"
     ]
    },
    {
     "name": "stdout",
     "output_type": "stream",
     "text": [
      " STEP ===> 222 ; MSE: 0.01197 ; RMSE: 0.10939\n"
     ]
    },
    {
     "name": "stderr",
     "output_type": "stream",
     "text": [
      "\r",
      "                                                                               \r",
      "\r",
      " 44% (224 of 500) |#########             | Elapsed Time: 2:41:28 ETA:   3:18:24"
     ]
    },
    {
     "name": "stdout",
     "output_type": "stream",
     "text": [
      " STEP ===> 223 ; MSE: 0.01194 ; RMSE: 0.10928\n"
     ]
    },
    {
     "name": "stderr",
     "output_type": "stream",
     "text": [
      "\r",
      "                                                                               \r",
      "\r",
      " 45% (225 of 500) |#########             | Elapsed Time: 2:42:11 ETA:   3:17:00"
     ]
    },
    {
     "name": "stdout",
     "output_type": "stream",
     "text": [
      " STEP ===> 224 ; MSE: 0.01192 ; RMSE: 0.10918\n"
     ]
    },
    {
     "name": "stderr",
     "output_type": "stream",
     "text": [
      "\r",
      "                                                                               \r",
      "\r",
      " 45% (226 of 500) |#########             | Elapsed Time: 2:42:54 ETA:   3:17:48"
     ]
    },
    {
     "name": "stdout",
     "output_type": "stream",
     "text": [
      " STEP ===> 225 ; MSE: 0.0119 ; RMSE: 0.10907\n"
     ]
    },
    {
     "name": "stderr",
     "output_type": "stream",
     "text": [
      "\r",
      "                                                                               \r",
      "\r",
      " 45% (227 of 500) |#########             | Elapsed Time: 2:43:37 ETA:   3:13:48"
     ]
    },
    {
     "name": "stdout",
     "output_type": "stream",
     "text": [
      " STEP ===> 226 ; MSE: 0.01187 ; RMSE: 0.10897\n"
     ]
    },
    {
     "name": "stderr",
     "output_type": "stream",
     "text": [
      "\r",
      "                                                                               \r",
      "\r",
      " 45% (228 of 500) |##########            | Elapsed Time: 2:44:20 ETA:   3:17:18"
     ]
    },
    {
     "name": "stdout",
     "output_type": "stream",
     "text": [
      " STEP ===> 227 ; MSE: 0.01185 ; RMSE: 0.10886\n"
     ]
    },
    {
     "name": "stderr",
     "output_type": "stream",
     "text": [
      "\r",
      "                                                                               \r",
      "\r",
      " 45% (229 of 500) |##########            | Elapsed Time: 2:45:03 ETA:   3:15:47"
     ]
    },
    {
     "name": "stdout",
     "output_type": "stream",
     "text": [
      " STEP ===> 228 ; MSE: 0.01183 ; RMSE: 0.10876\n"
     ]
    },
    {
     "name": "stderr",
     "output_type": "stream",
     "text": [
      "\r",
      "                                                                               \r",
      "\r",
      " 46% (230 of 500) |##########            | Elapsed Time: 2:45:48 ETA:   3:20:16"
     ]
    },
    {
     "name": "stdout",
     "output_type": "stream",
     "text": [
      " STEP ===> 229 ; MSE: 0.01181 ; RMSE: 0.10866\n"
     ]
    },
    {
     "name": "stderr",
     "output_type": "stream",
     "text": [
      "\r",
      "                                                                               \r",
      "\r",
      " 46% (231 of 500) |##########            | Elapsed Time: 2:46:31 ETA:   3:15:08"
     ]
    },
    {
     "name": "stdout",
     "output_type": "stream",
     "text": [
      " STEP ===> 230 ; MSE: 0.01178 ; RMSE: 0.10856\n"
     ]
    },
    {
     "name": "stderr",
     "output_type": "stream",
     "text": [
      "\r",
      "                                                                               \r",
      "\r",
      " 46% (232 of 500) |##########            | Elapsed Time: 2:47:15 ETA:   3:15:09"
     ]
    },
    {
     "name": "stdout",
     "output_type": "stream",
     "text": [
      " STEP ===> 231 ; MSE: 0.01176 ; RMSE: 0.10846\n"
     ]
    },
    {
     "name": "stderr",
     "output_type": "stream",
     "text": [
      "\r",
      "                                                                               \r",
      "\r",
      " 46% (233 of 500) |##########            | Elapsed Time: 2:47:59 ETA:   3:14:29"
     ]
    },
    {
     "name": "stdout",
     "output_type": "stream",
     "text": [
      " STEP ===> 232 ; MSE: 0.01174 ; RMSE: 0.10835\n"
     ]
    },
    {
     "name": "stderr",
     "output_type": "stream",
     "text": [
      "\r",
      "                                                                               \r",
      "\r",
      " 46% (234 of 500) |##########            | Elapsed Time: 2:48:43 ETA:   3:14:45"
     ]
    },
    {
     "name": "stdout",
     "output_type": "stream",
     "text": [
      " STEP ===> 233 ; MSE: 0.01172 ; RMSE: 0.10825\n"
     ]
    },
    {
     "name": "stderr",
     "output_type": "stream",
     "text": [
      "\r",
      "                                                                               \r",
      "\r",
      " 47% (235 of 500) |##########            | Elapsed Time: 2:49:27 ETA:   3:13:34"
     ]
    },
    {
     "name": "stdout",
     "output_type": "stream",
     "text": [
      " STEP ===> 234 ; MSE: 0.0117 ; RMSE: 0.10815\n"
     ]
    },
    {
     "name": "stderr",
     "output_type": "stream",
     "text": [
      "\r",
      "                                                                               \r",
      "\r",
      " 47% (236 of 500) |##########            | Elapsed Time: 2:50:10 ETA:   3:11:26"
     ]
    },
    {
     "name": "stdout",
     "output_type": "stream",
     "text": [
      " STEP ===> 235 ; MSE: 0.01168 ; RMSE: 0.10805\n"
     ]
    },
    {
     "name": "stderr",
     "output_type": "stream",
     "text": [
      "\r",
      "                                                                               \r",
      "\r",
      " 47% (237 of 500) |##########            | Elapsed Time: 2:50:53 ETA:   3:09:37"
     ]
    },
    {
     "name": "stdout",
     "output_type": "stream",
     "text": [
      " STEP ===> 236 ; MSE: 0.01165 ; RMSE: 0.10796\n"
     ]
    },
    {
     "name": "stderr",
     "output_type": "stream",
     "text": [
      "\r",
      "                                                                               \r",
      "\r",
      " 47% (238 of 500) |##########            | Elapsed Time: 2:51:38 ETA:   3:13:19"
     ]
    },
    {
     "name": "stdout",
     "output_type": "stream",
     "text": [
      " STEP ===> 237 ; MSE: 0.01163 ; RMSE: 0.10786\n"
     ]
    },
    {
     "name": "stderr",
     "output_type": "stream",
     "text": [
      "\r",
      "                                                                               \r",
      "\r",
      " 47% (239 of 500) |##########            | Elapsed Time: 2:52:22 ETA:   3:10:50"
     ]
    },
    {
     "name": "stdout",
     "output_type": "stream",
     "text": [
      " STEP ===> 238 ; MSE: 0.01161 ; RMSE: 0.10776\n"
     ]
    },
    {
     "name": "stderr",
     "output_type": "stream",
     "text": [
      "\r",
      "                                                                               \r",
      "\r",
      " 48% (240 of 500) |##########            | Elapsed Time: 2:53:05 ETA:   3:07:47"
     ]
    },
    {
     "name": "stdout",
     "output_type": "stream",
     "text": [
      " STEP ===> 239 ; MSE: 0.01159 ; RMSE: 0.10766\n"
     ]
    },
    {
     "name": "stderr",
     "output_type": "stream",
     "text": [
      "\r",
      "                                                                               \r",
      "\r",
      " 48% (241 of 500) |##########            | Elapsed Time: 2:53:49 ETA:   3:08:30"
     ]
    },
    {
     "name": "stdout",
     "output_type": "stream",
     "text": [
      " STEP ===> 240 ; MSE: 0.01157 ; RMSE: 0.10756\n"
     ]
    },
    {
     "name": "stderr",
     "output_type": "stream",
     "text": [
      "\r",
      "                                                                               \r",
      "\r",
      " 48% (242 of 500) |##########            | Elapsed Time: 2:54:32 ETA:   3:08:44"
     ]
    },
    {
     "name": "stdout",
     "output_type": "stream",
     "text": [
      " STEP ===> 241 ; MSE: 0.01155 ; RMSE: 0.10747\n"
     ]
    },
    {
     "name": "stderr",
     "output_type": "stream",
     "text": [
      "\r",
      "                                                                               \r",
      "\r",
      " 48% (243 of 500) |##########            | Elapsed Time: 2:55:16 ETA:   3:08:04"
     ]
    },
    {
     "name": "stdout",
     "output_type": "stream",
     "text": [
      " STEP ===> 242 ; MSE: 0.01153 ; RMSE: 0.10737\n"
     ]
    },
    {
     "name": "stderr",
     "output_type": "stream",
     "text": [
      "\r",
      "                                                                               \r",
      "\r",
      " 48% (244 of 500) |##########            | Elapsed Time: 2:56:00 ETA:   3:07:28"
     ]
    },
    {
     "name": "stdout",
     "output_type": "stream",
     "text": [
      " STEP ===> 243 ; MSE: 0.01151 ; RMSE: 0.10727\n"
     ]
    },
    {
     "name": "stderr",
     "output_type": "stream",
     "text": [
      "\r",
      "                                                                               \r",
      "\r",
      " 49% (245 of 500) |##########            | Elapsed Time: 2:56:44 ETA:   3:05:12"
     ]
    },
    {
     "name": "stdout",
     "output_type": "stream",
     "text": [
      " STEP ===> 244 ; MSE: 0.01149 ; RMSE: 0.10718\n"
     ]
    },
    {
     "name": "stderr",
     "output_type": "stream",
     "text": [
      "\r",
      "                                                                               \r",
      "\r",
      " 49% (246 of 500) |##########            | Elapsed Time: 2:57:27 ETA:   3:03:47"
     ]
    },
    {
     "name": "stdout",
     "output_type": "stream",
     "text": [
      " STEP ===> 245 ; MSE: 0.01147 ; RMSE: 0.10708\n"
     ]
    },
    {
     "name": "stderr",
     "output_type": "stream",
     "text": [
      "\r",
      "                                                                               \r",
      "\r",
      " 49% (247 of 500) |##########            | Elapsed Time: 2:58:10 ETA:   3:02:05"
     ]
    },
    {
     "name": "stdout",
     "output_type": "stream",
     "text": [
      " STEP ===> 246 ; MSE: 0.01145 ; RMSE: 0.10699\n"
     ]
    },
    {
     "name": "stderr",
     "output_type": "stream",
     "text": [
      "\r",
      "                                                                               \r",
      "\r",
      " 49% (248 of 500) |##########            | Elapsed Time: 2:58:54 ETA:   3:03:23"
     ]
    },
    {
     "name": "stdout",
     "output_type": "stream",
     "text": [
      " STEP ===> 247 ; MSE: 0.01143 ; RMSE: 0.10689\n"
     ]
    },
    {
     "name": "stderr",
     "output_type": "stream",
     "text": [
      "\r",
      "                                                                               \r",
      "\r",
      " 49% (249 of 500) |##########            | Elapsed Time: 2:59:38 ETA:   3:01:51"
     ]
    },
    {
     "name": "stdout",
     "output_type": "stream",
     "text": [
      " STEP ===> 248 ; MSE: 0.01141 ; RMSE: 0.1068\n"
     ]
    },
    {
     "name": "stderr",
     "output_type": "stream",
     "text": [
      "\r",
      "                                                                               \r",
      "\r",
      " 50% (250 of 500) |###########           | Elapsed Time: 3:00:22 ETA:   3:03:39"
     ]
    },
    {
     "name": "stdout",
     "output_type": "stream",
     "text": [
      " STEP ===> 249 ; MSE: 0.01139 ; RMSE: 0.1067\n"
     ]
    },
    {
     "name": "stderr",
     "output_type": "stream",
     "text": [
      "\r",
      "                                                                               \r",
      "\r",
      " 50% (251 of 500) |###########           | Elapsed Time: 3:01:05 ETA:   3:01:27"
     ]
    },
    {
     "name": "stdout",
     "output_type": "stream",
     "text": [
      " STEP ===> 250 ; MSE: 0.01137 ; RMSE: 0.10661\n"
     ]
    },
    {
     "name": "stderr",
     "output_type": "stream",
     "text": [
      "\r",
      "                                                                               \r",
      "\r",
      " 50% (252 of 500) |###########           | Elapsed Time: 3:01:49 ETA:   2:59:24"
     ]
    },
    {
     "name": "stdout",
     "output_type": "stream",
     "text": [
      " STEP ===> 251 ; MSE: 0.01135 ; RMSE: 0.10652\n"
     ]
    },
    {
     "name": "stderr",
     "output_type": "stream",
     "text": [
      "\r",
      "                                                                               \r",
      "\r",
      " 50% (253 of 500) |###########           | Elapsed Time: 3:02:32 ETA:   2:59:05"
     ]
    },
    {
     "name": "stdout",
     "output_type": "stream",
     "text": [
      " STEP ===> 252 ; MSE: 0.01133 ; RMSE: 0.10643\n"
     ]
    },
    {
     "name": "stderr",
     "output_type": "stream",
     "text": [
      "\r",
      "                                                                               \r",
      "\r",
      " 50% (254 of 500) |###########           | Elapsed Time: 3:03:15 ETA:   2:56:57"
     ]
    },
    {
     "name": "stdout",
     "output_type": "stream",
     "text": [
      " STEP ===> 253 ; MSE: 0.01131 ; RMSE: 0.10633\n"
     ]
    },
    {
     "name": "stderr",
     "output_type": "stream",
     "text": [
      "\r",
      "                                                                               \r",
      "\r",
      " 51% (255 of 500) |###########           | Elapsed Time: 3:03:59 ETA:   2:57:03"
     ]
    },
    {
     "name": "stdout",
     "output_type": "stream",
     "text": [
      " STEP ===> 254 ; MSE: 0.01129 ; RMSE: 0.10624\n"
     ]
    },
    {
     "name": "stderr",
     "output_type": "stream",
     "text": [
      "\r",
      "                                                                               \r",
      "\r",
      " 51% (256 of 500) |###########           | Elapsed Time: 3:04:42 ETA:   2:54:43"
     ]
    },
    {
     "name": "stdout",
     "output_type": "stream",
     "text": [
      " STEP ===> 255 ; MSE: 0.01127 ; RMSE: 0.10615\n"
     ]
    },
    {
     "name": "stderr",
     "output_type": "stream",
     "text": [
      "\r",
      "                                                                               \r",
      "\r",
      " 51% (257 of 500) |###########           | Elapsed Time: 3:05:26 ETA:   2:57:25"
     ]
    },
    {
     "name": "stdout",
     "output_type": "stream",
     "text": [
      " STEP ===> 256 ; MSE: 0.01125 ; RMSE: 0.10606\n"
     ]
    },
    {
     "name": "stderr",
     "output_type": "stream",
     "text": [
      "\r",
      "                                                                               \r",
      "\r",
      " 51% (258 of 500) |###########           | Elapsed Time: 3:06:09 ETA:   2:55:18"
     ]
    },
    {
     "name": "stdout",
     "output_type": "stream",
     "text": [
      " STEP ===> 257 ; MSE: 0.01123 ; RMSE: 0.10597\n"
     ]
    },
    {
     "name": "stderr",
     "output_type": "stream",
     "text": [
      "\r",
      "                                                                               \r",
      "\r",
      " 51% (259 of 500) |###########           | Elapsed Time: 3:06:53 ETA:   2:54:52"
     ]
    },
    {
     "name": "stdout",
     "output_type": "stream",
     "text": [
      " STEP ===> 258 ; MSE: 0.01121 ; RMSE: 0.10588\n"
     ]
    },
    {
     "name": "stderr",
     "output_type": "stream",
     "text": [
      "\r",
      "                                                                               \r",
      "\r",
      " 52% (260 of 500) |###########           | Elapsed Time: 3:07:36 ETA:   2:52:49"
     ]
    },
    {
     "name": "stdout",
     "output_type": "stream",
     "text": [
      " STEP ===> 259 ; MSE: 0.01119 ; RMSE: 0.10579\n"
     ]
    },
    {
     "name": "stderr",
     "output_type": "stream",
     "text": [
      "\r",
      "                                                                               \r",
      "\r",
      " 52% (261 of 500) |###########           | Elapsed Time: 3:08:19 ETA:   2:51:33"
     ]
    },
    {
     "name": "stdout",
     "output_type": "stream",
     "text": [
      " STEP ===> 260 ; MSE: 0.01117 ; RMSE: 0.1057\n"
     ]
    },
    {
     "name": "stderr",
     "output_type": "stream",
     "text": [
      "\r",
      "                                                                               \r",
      "\r",
      " 52% (262 of 500) |###########           | Elapsed Time: 3:09:02 ETA:   2:49:58"
     ]
    },
    {
     "name": "stdout",
     "output_type": "stream",
     "text": [
      " STEP ===> 261 ; MSE: 0.01115 ; RMSE: 0.10561\n"
     ]
    },
    {
     "name": "stderr",
     "output_type": "stream",
     "text": [
      "\r",
      "                                                                               \r",
      "\r",
      " 52% (263 of 500) |###########           | Elapsed Time: 3:09:46 ETA:   2:53:38"
     ]
    },
    {
     "name": "stdout",
     "output_type": "stream",
     "text": [
      " STEP ===> 262 ; MSE: 0.01114 ; RMSE: 0.10552\n"
     ]
    },
    {
     "name": "stderr",
     "output_type": "stream",
     "text": [
      "\r",
      "                                                                               \r",
      "\r",
      " 52% (264 of 500) |###########           | Elapsed Time: 3:10:29 ETA:   2:48:48"
     ]
    },
    {
     "name": "stdout",
     "output_type": "stream",
     "text": [
      " STEP ===> 263 ; MSE: 0.01112 ; RMSE: 0.10544\n"
     ]
    },
    {
     "name": "stderr",
     "output_type": "stream",
     "text": [
      "\r",
      "                                                                               \r",
      "\r",
      " 53% (265 of 500) |###########           | Elapsed Time: 3:11:11 ETA:   2:46:58"
     ]
    },
    {
     "name": "stdout",
     "output_type": "stream",
     "text": [
      " STEP ===> 264 ; MSE: 0.0111 ; RMSE: 0.10535\n"
     ]
    },
    {
     "name": "stderr",
     "output_type": "stream",
     "text": [
      "\r",
      "                                                                               \r",
      "\r",
      " 53% (266 of 500) |###########           | Elapsed Time: 3:11:54 ETA:   2:45:41"
     ]
    },
    {
     "name": "stdout",
     "output_type": "stream",
     "text": [
      " STEP ===> 265 ; MSE: 0.01108 ; RMSE: 0.10526\n"
     ]
    },
    {
     "name": "stderr",
     "output_type": "stream",
     "text": [
      "\r",
      "                                                                               \r",
      "\r",
      " 53% (267 of 500) |###########           | Elapsed Time: 3:12:37 ETA:   2:46:36"
     ]
    },
    {
     "name": "stdout",
     "output_type": "stream",
     "text": [
      " STEP ===> 266 ; MSE: 0.01106 ; RMSE: 0.10517\n"
     ]
    },
    {
     "name": "stderr",
     "output_type": "stream",
     "text": [
      "\r",
      "                                                                               \r",
      "\r",
      " 53% (268 of 500) |###########           | Elapsed Time: 3:13:20 ETA:   2:48:19"
     ]
    },
    {
     "name": "stdout",
     "output_type": "stream",
     "text": [
      " STEP ===> 267 ; MSE: 0.01104 ; RMSE: 0.10509\n"
     ]
    },
    {
     "name": "stderr",
     "output_type": "stream",
     "text": [
      "\r",
      "                                                                               \r",
      "\r",
      " 53% (269 of 500) |###########           | Elapsed Time: 3:14:03 ETA:   2:46:25"
     ]
    },
    {
     "name": "stdout",
     "output_type": "stream",
     "text": [
      " STEP ===> 268 ; MSE: 0.01103 ; RMSE: 0.105\n"
     ]
    },
    {
     "name": "stderr",
     "output_type": "stream",
     "text": [
      "\r",
      "                                                                               \r",
      "\r",
      " 54% (270 of 500) |###########           | Elapsed Time: 3:14:47 ETA:   2:46:00"
     ]
    },
    {
     "name": "stdout",
     "output_type": "stream",
     "text": [
      " STEP ===> 269 ; MSE: 0.01101 ; RMSE: 0.10491\n"
     ]
    },
    {
     "name": "stderr",
     "output_type": "stream",
     "text": [
      "\r",
      "                                                                               \r",
      "\r",
      " 54% (271 of 500) |###########           | Elapsed Time: 3:15:30 ETA:   2:45:42"
     ]
    },
    {
     "name": "stdout",
     "output_type": "stream",
     "text": [
      " STEP ===> 270 ; MSE: 0.01099 ; RMSE: 0.10483\n"
     ]
    },
    {
     "name": "stderr",
     "output_type": "stream",
     "text": [
      "\r",
      "                                                                               \r",
      "\r",
      " 54% (272 of 500) |###########           | Elapsed Time: 3:16:13 ETA:   2:41:06"
     ]
    },
    {
     "name": "stdout",
     "output_type": "stream",
     "text": [
      " STEP ===> 271 ; MSE: 0.01097 ; RMSE: 0.10474\n"
     ]
    },
    {
     "name": "stderr",
     "output_type": "stream",
     "text": [
      "\r",
      "                                                                               \r",
      "\r",
      " 54% (273 of 500) |############          | Elapsed Time: 3:16:56 ETA:   2:42:54"
     ]
    },
    {
     "name": "stdout",
     "output_type": "stream",
     "text": [
      " STEP ===> 272 ; MSE: 0.01095 ; RMSE: 0.10466\n"
     ]
    },
    {
     "name": "stderr",
     "output_type": "stream",
     "text": [
      "\r",
      "                                                                               \r",
      "\r",
      " 54% (274 of 500) |############          | Elapsed Time: 3:17:38 ETA:   2:41:03"
     ]
    },
    {
     "name": "stdout",
     "output_type": "stream",
     "text": [
      " STEP ===> 273 ; MSE: 0.01094 ; RMSE: 0.10457\n"
     ]
    },
    {
     "name": "stderr",
     "output_type": "stream",
     "text": [
      "\r",
      "                                                                               \r",
      "\r",
      " 55% (275 of 500) |############          | Elapsed Time: 3:18:22 ETA:   2:42:11"
     ]
    },
    {
     "name": "stdout",
     "output_type": "stream",
     "text": [
      " STEP ===> 274 ; MSE: 0.01092 ; RMSE: 0.10449\n"
     ]
    },
    {
     "name": "stderr",
     "output_type": "stream",
     "text": [
      "\r",
      "                                                                               \r",
      "\r",
      " 55% (276 of 500) |############          | Elapsed Time: 3:19:04 ETA:   2:39:54"
     ]
    },
    {
     "name": "stdout",
     "output_type": "stream",
     "text": [
      " STEP ===> 275 ; MSE: 0.0109 ; RMSE: 0.10441\n"
     ]
    },
    {
     "name": "stderr",
     "output_type": "stream",
     "text": [
      "\r",
      "                                                                               \r",
      "\r",
      " 55% (277 of 500) |############          | Elapsed Time: 3:19:48 ETA:   2:41:55"
     ]
    },
    {
     "name": "stdout",
     "output_type": "stream",
     "text": [
      " STEP ===> 276 ; MSE: 0.01088 ; RMSE: 0.10432\n"
     ]
    },
    {
     "name": "stderr",
     "output_type": "stream",
     "text": [
      "\r",
      "                                                                               \r",
      "\r",
      " 55% (278 of 500) |############          | Elapsed Time: 3:20:31 ETA:   2:40:23"
     ]
    },
    {
     "name": "stdout",
     "output_type": "stream",
     "text": [
      " STEP ===> 277 ; MSE: 0.01087 ; RMSE: 0.10424\n"
     ]
    },
    {
     "name": "stderr",
     "output_type": "stream",
     "text": [
      "\r",
      "                                                                               \r",
      "\r",
      " 55% (279 of 500) |############          | Elapsed Time: 3:21:15 ETA:   2:39:24"
     ]
    },
    {
     "name": "stdout",
     "output_type": "stream",
     "text": [
      " STEP ===> 278 ; MSE: 0.01085 ; RMSE: 0.10416\n"
     ]
    },
    {
     "name": "stderr",
     "output_type": "stream",
     "text": [
      "\r",
      "                                                                               \r",
      "\r",
      " 56% (280 of 500) |############          | Elapsed Time: 3:21:57 ETA:   2:36:36"
     ]
    },
    {
     "name": "stdout",
     "output_type": "stream",
     "text": [
      " STEP ===> 279 ; MSE: 0.01083 ; RMSE: 0.10408\n"
     ]
    },
    {
     "name": "stderr",
     "output_type": "stream",
     "text": [
      "\r",
      "                                                                               \r",
      "\r",
      " 56% (281 of 500) |############          | Elapsed Time: 3:22:41 ETA:   2:37:30"
     ]
    },
    {
     "name": "stdout",
     "output_type": "stream",
     "text": [
      " STEP ===> 280 ; MSE: 0.01081 ; RMSE: 0.10399\n"
     ]
    },
    {
     "name": "stderr",
     "output_type": "stream",
     "text": [
      "\r",
      "                                                                               \r",
      "\r",
      " 56% (282 of 500) |############          | Elapsed Time: 3:23:24 ETA:   2:38:22"
     ]
    },
    {
     "name": "stdout",
     "output_type": "stream",
     "text": [
      " STEP ===> 281 ; MSE: 0.0108 ; RMSE: 0.10391\n"
     ]
    },
    {
     "name": "stderr",
     "output_type": "stream",
     "text": [
      "\r",
      "                                                                               \r",
      "\r",
      " 56% (283 of 500) |############          | Elapsed Time: 3:24:07 ETA:   2:33:59"
     ]
    },
    {
     "name": "stdout",
     "output_type": "stream",
     "text": [
      " STEP ===> 282 ; MSE: 0.01078 ; RMSE: 0.10383\n"
     ]
    },
    {
     "name": "stderr",
     "output_type": "stream",
     "text": [
      "\r",
      "                                                                               \r",
      "\r",
      " 56% (284 of 500) |############          | Elapsed Time: 3:24:50 ETA:   2:35:59"
     ]
    },
    {
     "name": "stdout",
     "output_type": "stream",
     "text": [
      " STEP ===> 283 ; MSE: 0.01076 ; RMSE: 0.10375\n"
     ]
    },
    {
     "name": "stderr",
     "output_type": "stream",
     "text": [
      "\r",
      "                                                                               \r",
      "\r",
      " 56% (285 of 500) |############          | Elapsed Time: 3:25:33 ETA:   2:35:16"
     ]
    },
    {
     "name": "stdout",
     "output_type": "stream",
     "text": [
      " STEP ===> 284 ; MSE: 0.01075 ; RMSE: 0.10367\n"
     ]
    },
    {
     "name": "stderr",
     "output_type": "stream",
     "text": [
      "\r",
      "                                                                               \r",
      "\r",
      " 57% (286 of 500) |############          | Elapsed Time: 3:26:16 ETA:   2:32:24"
     ]
    },
    {
     "name": "stdout",
     "output_type": "stream",
     "text": [
      " STEP ===> 285 ; MSE: 0.01073 ; RMSE: 0.10359\n"
     ]
    },
    {
     "name": "stderr",
     "output_type": "stream",
     "text": [
      "\r",
      "                                                                               \r",
      "\r",
      " 57% (287 of 500) |############          | Elapsed Time: 3:27:00 ETA:   2:34:45"
     ]
    },
    {
     "name": "stdout",
     "output_type": "stream",
     "text": [
      " STEP ===> 286 ; MSE: 0.01071 ; RMSE: 0.10351\n"
     ]
    },
    {
     "name": "stderr",
     "output_type": "stream",
     "text": [
      "\r",
      "                                                                               \r",
      "\r",
      " 57% (288 of 500) |############          | Elapsed Time: 3:27:42 ETA:   2:29:49"
     ]
    },
    {
     "name": "stdout",
     "output_type": "stream",
     "text": [
      " STEP ===> 287 ; MSE: 0.0107 ; RMSE: 0.10343\n"
     ]
    },
    {
     "name": "stderr",
     "output_type": "stream",
     "text": [
      "\r",
      "                                                                               \r",
      "\r",
      " 57% (289 of 500) |############          | Elapsed Time: 3:28:25 ETA:   2:31:44"
     ]
    },
    {
     "name": "stdout",
     "output_type": "stream",
     "text": [
      " STEP ===> 288 ; MSE: 0.01068 ; RMSE: 0.10335\n"
     ]
    },
    {
     "name": "stderr",
     "output_type": "stream",
     "text": [
      "\r",
      "                                                                               \r",
      "\r",
      " 57% (290 of 500) |############          | Elapsed Time: 3:29:09 ETA:   2:31:59"
     ]
    },
    {
     "name": "stdout",
     "output_type": "stream",
     "text": [
      " STEP ===> 289 ; MSE: 0.01066 ; RMSE: 0.10327\n"
     ]
    },
    {
     "name": "stderr",
     "output_type": "stream",
     "text": [
      "\r",
      "                                                                               \r",
      "\r",
      " 58% (291 of 500) |############          | Elapsed Time: 3:29:52 ETA:   2:30:46"
     ]
    },
    {
     "name": "stdout",
     "output_type": "stream",
     "text": [
      " STEP ===> 290 ; MSE: 0.01065 ; RMSE: 0.10319\n"
     ]
    },
    {
     "name": "stderr",
     "output_type": "stream",
     "text": [
      "\r",
      "                                                                               \r",
      "\r",
      " 58% (292 of 500) |############          | Elapsed Time: 3:30:35 ETA:   2:30:06"
     ]
    },
    {
     "name": "stdout",
     "output_type": "stream",
     "text": [
      " STEP ===> 291 ; MSE: 0.01063 ; RMSE: 0.10311\n"
     ]
    },
    {
     "name": "stderr",
     "output_type": "stream",
     "text": [
      "\r",
      "                                                                               \r",
      "\r",
      " 58% (293 of 500) |############          | Elapsed Time: 3:31:18 ETA:   2:28:50"
     ]
    },
    {
     "name": "stdout",
     "output_type": "stream",
     "text": [
      " STEP ===> 292 ; MSE: 0.01062 ; RMSE: 0.10304\n"
     ]
    },
    {
     "name": "stderr",
     "output_type": "stream",
     "text": [
      "\r",
      "                                                                               \r",
      "\r",
      " 58% (294 of 500) |############          | Elapsed Time: 3:32:01 ETA:   2:28:03"
     ]
    },
    {
     "name": "stdout",
     "output_type": "stream",
     "text": [
      " STEP ===> 293 ; MSE: 0.0106 ; RMSE: 0.10296\n"
     ]
    },
    {
     "name": "stderr",
     "output_type": "stream",
     "text": [
      "\r",
      "                                                                               \r",
      "\r",
      " 59% (295 of 500) |############          | Elapsed Time: 3:32:44 ETA:   2:26:03"
     ]
    },
    {
     "name": "stdout",
     "output_type": "stream",
     "text": [
      " STEP ===> 294 ; MSE: 0.01058 ; RMSE: 0.10288\n"
     ]
    },
    {
     "name": "stderr",
     "output_type": "stream",
     "text": [
      "\r",
      "                                                                               \r",
      "\r",
      " 59% (296 of 500) |#############         | Elapsed Time: 3:33:28 ETA:   2:27:38"
     ]
    },
    {
     "name": "stdout",
     "output_type": "stream",
     "text": [
      " STEP ===> 295 ; MSE: 0.01057 ; RMSE: 0.10281\n"
     ]
    },
    {
     "name": "stderr",
     "output_type": "stream",
     "text": [
      "\r",
      "                                                                               \r",
      "\r",
      " 59% (297 of 500) |#############         | Elapsed Time: 3:34:11 ETA:   2:26:32"
     ]
    },
    {
     "name": "stdout",
     "output_type": "stream",
     "text": [
      " STEP ===> 296 ; MSE: 0.01055 ; RMSE: 0.10273\n"
     ]
    },
    {
     "name": "stderr",
     "output_type": "stream",
     "text": [
      "\r",
      "                                                                               \r",
      "\r",
      " 59% (298 of 500) |#############         | Elapsed Time: 3:34:54 ETA:   2:26:22"
     ]
    },
    {
     "name": "stdout",
     "output_type": "stream",
     "text": [
      " STEP ===> 297 ; MSE: 0.01054 ; RMSE: 0.10265\n"
     ]
    },
    {
     "name": "stderr",
     "output_type": "stream",
     "text": [
      "\r",
      "                                                                               \r",
      "\r",
      " 59% (299 of 500) |#############         | Elapsed Time: 3:35:38 ETA:   2:26:30"
     ]
    },
    {
     "name": "stdout",
     "output_type": "stream",
     "text": [
      " STEP ===> 298 ; MSE: 0.01052 ; RMSE: 0.10258\n"
     ]
    },
    {
     "name": "stderr",
     "output_type": "stream",
     "text": [
      "\r",
      "                                                                               \r",
      "\r",
      " 60% (300 of 500) |#############         | Elapsed Time: 3:36:21 ETA:   2:23:49"
     ]
    },
    {
     "name": "stdout",
     "output_type": "stream",
     "text": [
      " STEP ===> 299 ; MSE: 0.01051 ; RMSE: 0.1025\n"
     ]
    },
    {
     "name": "stderr",
     "output_type": "stream",
     "text": [
      "\r",
      "                                                                               \r",
      "\r",
      " 60% (301 of 500) |#############         | Elapsed Time: 3:37:05 ETA:   2:24:12"
     ]
    },
    {
     "name": "stdout",
     "output_type": "stream",
     "text": [
      " STEP ===> 300 ; MSE: 0.01049 ; RMSE: 0.10243\n"
     ]
    },
    {
     "name": "stderr",
     "output_type": "stream",
     "text": [
      "\r",
      "                                                                               \r",
      "\r",
      " 60% (302 of 500) |#############         | Elapsed Time: 3:37:48 ETA:   2:21:54"
     ]
    },
    {
     "name": "stdout",
     "output_type": "stream",
     "text": [
      " STEP ===> 301 ; MSE: 0.01048 ; RMSE: 0.10235\n"
     ]
    },
    {
     "name": "stderr",
     "output_type": "stream",
     "text": [
      "\r",
      "                                                                               \r",
      "\r",
      " 60% (303 of 500) |#############         | Elapsed Time: 3:38:31 ETA:   2:23:03"
     ]
    },
    {
     "name": "stdout",
     "output_type": "stream",
     "text": [
      " STEP ===> 302 ; MSE: 0.01046 ; RMSE: 0.10228\n"
     ]
    },
    {
     "name": "stderr",
     "output_type": "stream",
     "text": [
      "\r",
      "                                                                               \r",
      "\r",
      " 60% (304 of 500) |#############         | Elapsed Time: 3:39:15 ETA:   2:21:43"
     ]
    },
    {
     "name": "stdout",
     "output_type": "stream",
     "text": [
      " STEP ===> 303 ; MSE: 0.01045 ; RMSE: 0.1022\n"
     ]
    },
    {
     "name": "stderr",
     "output_type": "stream",
     "text": [
      "\r",
      "                                                                               \r",
      "\r",
      " 61% (305 of 500) |#############         | Elapsed Time: 3:39:58 ETA:   2:19:42"
     ]
    },
    {
     "name": "stdout",
     "output_type": "stream",
     "text": [
      " STEP ===> 304 ; MSE: 0.01043 ; RMSE: 0.10213\n"
     ]
    },
    {
     "name": "stderr",
     "output_type": "stream",
     "text": [
      "\r",
      "                                                                               \r",
      "\r",
      " 61% (306 of 500) |#############         | Elapsed Time: 3:40:41 ETA:   2:20:29"
     ]
    },
    {
     "name": "stdout",
     "output_type": "stream",
     "text": [
      " STEP ===> 305 ; MSE: 0.01041 ; RMSE: 0.10205\n"
     ]
    },
    {
     "name": "stderr",
     "output_type": "stream",
     "text": [
      "\r",
      "                                                                               \r",
      "\r",
      " 61% (307 of 500) |#############         | Elapsed Time: 3:41:24 ETA:   2:16:31"
     ]
    },
    {
     "name": "stdout",
     "output_type": "stream",
     "text": [
      " STEP ===> 306 ; MSE: 0.0104 ; RMSE: 0.10198\n"
     ]
    },
    {
     "name": "stderr",
     "output_type": "stream",
     "text": [
      "\r",
      "                                                                               \r",
      "\r",
      " 61% (308 of 500) |#############         | Elapsed Time: 3:42:07 ETA:   2:18:42"
     ]
    },
    {
     "name": "stdout",
     "output_type": "stream",
     "text": [
      " STEP ===> 307 ; MSE: 0.01039 ; RMSE: 0.10191\n"
     ]
    },
    {
     "name": "stderr",
     "output_type": "stream",
     "text": [
      "\r",
      "                                                                               \r",
      "\r",
      " 61% (309 of 500) |#############         | Elapsed Time: 3:42:51 ETA:   2:19:09"
     ]
    },
    {
     "name": "stdout",
     "output_type": "stream",
     "text": [
      " STEP ===> 308 ; MSE: 0.01037 ; RMSE: 0.10183\n"
     ]
    },
    {
     "name": "stderr",
     "output_type": "stream",
     "text": [
      "\r",
      "                                                                               \r",
      "\r",
      " 62% (310 of 500) |#############         | Elapsed Time: 3:43:35 ETA:   2:19:07"
     ]
    },
    {
     "name": "stdout",
     "output_type": "stream",
     "text": [
      " STEP ===> 309 ; MSE: 0.01036 ; RMSE: 0.10176\n"
     ]
    },
    {
     "name": "stderr",
     "output_type": "stream",
     "text": [
      "\r",
      "                                                                               \r",
      "\r",
      " 62% (311 of 500) |#############         | Elapsed Time: 3:44:18 ETA:   2:17:13"
     ]
    },
    {
     "name": "stdout",
     "output_type": "stream",
     "text": [
      " STEP ===> 310 ; MSE: 0.01034 ; RMSE: 0.10169\n"
     ]
    },
    {
     "name": "stderr",
     "output_type": "stream",
     "text": [
      "\r",
      "                                                                               \r",
      "\r",
      " 62% (312 of 500) |#############         | Elapsed Time: 3:45:01 ETA:   2:14:30"
     ]
    },
    {
     "name": "stdout",
     "output_type": "stream",
     "text": [
      " STEP ===> 311 ; MSE: 0.01033 ; RMSE: 0.10162\n"
     ]
    },
    {
     "name": "stderr",
     "output_type": "stream",
     "text": [
      "\r",
      "                                                                               \r",
      "\r",
      " 62% (313 of 500) |#############         | Elapsed Time: 3:45:45 ETA:   2:18:01"
     ]
    },
    {
     "name": "stdout",
     "output_type": "stream",
     "text": [
      " STEP ===> 312 ; MSE: 0.01031 ; RMSE: 0.10155\n"
     ]
    },
    {
     "name": "stderr",
     "output_type": "stream",
     "text": [
      "\r",
      "                                                                               \r",
      "\r",
      " 62% (314 of 500) |#############         | Elapsed Time: 3:46:29 ETA:   2:15:33"
     ]
    },
    {
     "name": "stdout",
     "output_type": "stream",
     "text": [
      " STEP ===> 313 ; MSE: 0.0103 ; RMSE: 0.10147\n"
     ]
    },
    {
     "name": "stderr",
     "output_type": "stream",
     "text": [
      "\r",
      "                                                                               \r",
      "\r",
      " 63% (315 of 500) |#############         | Elapsed Time: 3:47:12 ETA:   2:12:37"
     ]
    },
    {
     "name": "stdout",
     "output_type": "stream",
     "text": [
      " STEP ===> 314 ; MSE: 0.01028 ; RMSE: 0.1014\n"
     ]
    },
    {
     "name": "stderr",
     "output_type": "stream",
     "text": [
      "\r",
      "                                                                               \r",
      "\r",
      " 63% (316 of 500) |#############         | Elapsed Time: 3:47:56 ETA:   2:13:06"
     ]
    },
    {
     "name": "stdout",
     "output_type": "stream",
     "text": [
      " STEP ===> 315 ; MSE: 0.01027 ; RMSE: 0.10133\n"
     ]
    },
    {
     "name": "stderr",
     "output_type": "stream",
     "text": [
      "\r",
      "                                                                               \r",
      "\r",
      " 63% (317 of 500) |#############         | Elapsed Time: 3:48:39 ETA:   2:12:23"
     ]
    },
    {
     "name": "stdout",
     "output_type": "stream",
     "text": [
      " STEP ===> 316 ; MSE: 0.01025 ; RMSE: 0.10126\n"
     ]
    },
    {
     "name": "stderr",
     "output_type": "stream",
     "text": [
      "\r",
      "                                                                               \r",
      "\r",
      " 63% (318 of 500) |#############         | Elapsed Time: 3:49:23 ETA:   2:12:43"
     ]
    },
    {
     "name": "stdout",
     "output_type": "stream",
     "text": [
      " STEP ===> 317 ; MSE: 0.01024 ; RMSE: 0.10119\n"
     ]
    },
    {
     "name": "stderr",
     "output_type": "stream",
     "text": [
      "\r",
      "                                                                               \r",
      "\r",
      " 63% (319 of 500) |##############        | Elapsed Time: 3:50:06 ETA:   2:11:57"
     ]
    },
    {
     "name": "stdout",
     "output_type": "stream",
     "text": [
      " STEP ===> 318 ; MSE: 0.01023 ; RMSE: 0.10112\n"
     ]
    },
    {
     "name": "stderr",
     "output_type": "stream",
     "text": [
      "\r",
      "                                                                               \r",
      "\r",
      " 64% (320 of 500) |##############        | Elapsed Time: 3:50:51 ETA:   2:12:30"
     ]
    },
    {
     "name": "stdout",
     "output_type": "stream",
     "text": [
      " STEP ===> 319 ; MSE: 0.01021 ; RMSE: 0.10105\n"
     ]
    },
    {
     "name": "stderr",
     "output_type": "stream",
     "text": [
      "\r",
      "                                                                               \r",
      "\r",
      " 64% (321 of 500) |##############        | Elapsed Time: 3:51:35 ETA:   2:11:54"
     ]
    },
    {
     "name": "stdout",
     "output_type": "stream",
     "text": [
      " STEP ===> 320 ; MSE: 0.0102 ; RMSE: 0.10098\n"
     ]
    },
    {
     "name": "stderr",
     "output_type": "stream",
     "text": [
      "\r",
      "                                                                               \r",
      "\r",
      " 64% (322 of 500) |##############        | Elapsed Time: 3:52:19 ETA:   2:10:23"
     ]
    },
    {
     "name": "stdout",
     "output_type": "stream",
     "text": [
      " STEP ===> 321 ; MSE: 0.01018 ; RMSE: 0.10091\n"
     ]
    },
    {
     "name": "stderr",
     "output_type": "stream",
     "text": [
      "\r",
      "                                                                               \r",
      "\r",
      " 64% (323 of 500) |##############        | Elapsed Time: 3:53:02 ETA:   2:08:43"
     ]
    },
    {
     "name": "stdout",
     "output_type": "stream",
     "text": [
      " STEP ===> 322 ; MSE: 0.01017 ; RMSE: 0.10085\n"
     ]
    },
    {
     "name": "stderr",
     "output_type": "stream",
     "text": [
      "\r",
      "                                                                               \r",
      "\r",
      " 64% (324 of 500) |##############        | Elapsed Time: 3:53:46 ETA:   2:08:08"
     ]
    },
    {
     "name": "stdout",
     "output_type": "stream",
     "text": [
      " STEP ===> 323 ; MSE: 0.01016 ; RMSE: 0.10078\n"
     ]
    },
    {
     "name": "stderr",
     "output_type": "stream",
     "text": [
      "\r",
      "                                                                               \r",
      "\r",
      " 65% (325 of 500) |##############        | Elapsed Time: 3:54:30 ETA:   2:08:02"
     ]
    },
    {
     "name": "stdout",
     "output_type": "stream",
     "text": [
      " STEP ===> 324 ; MSE: 0.01014 ; RMSE: 0.10071\n"
     ]
    },
    {
     "name": "stderr",
     "output_type": "stream",
     "text": [
      "\r",
      "                                                                               \r",
      "\r",
      " 65% (326 of 500) |##############        | Elapsed Time: 3:55:13 ETA:   2:05:12"
     ]
    },
    {
     "name": "stdout",
     "output_type": "stream",
     "text": [
      " STEP ===> 325 ; MSE: 0.01013 ; RMSE: 0.10064\n"
     ]
    },
    {
     "name": "stderr",
     "output_type": "stream",
     "text": [
      "\r",
      "                                                                               \r",
      "\r",
      " 65% (327 of 500) |##############        | Elapsed Time: 3:55:56 ETA:   2:04:16"
     ]
    },
    {
     "name": "stdout",
     "output_type": "stream",
     "text": [
      " STEP ===> 326 ; MSE: 0.01011 ; RMSE: 0.10057\n"
     ]
    },
    {
     "name": "stderr",
     "output_type": "stream",
     "text": [
      "\r",
      "                                                                               \r",
      "\r",
      " 65% (328 of 500) |##############        | Elapsed Time: 3:56:40 ETA:   2:05:27"
     ]
    },
    {
     "name": "stdout",
     "output_type": "stream",
     "text": [
      " STEP ===> 327 ; MSE: 0.0101 ; RMSE: 0.10051\n"
     ]
    },
    {
     "name": "stderr",
     "output_type": "stream",
     "text": [
      "\r",
      "                                                                               \r",
      "\r",
      " 65% (329 of 500) |##############        | Elapsed Time: 3:57:23 ETA:   2:02:41"
     ]
    },
    {
     "name": "stdout",
     "output_type": "stream",
     "text": [
      " STEP ===> 328 ; MSE: 0.01009 ; RMSE: 0.10044\n"
     ]
    },
    {
     "name": "stderr",
     "output_type": "stream",
     "text": [
      "\r",
      "                                                                               \r",
      "\r",
      " 66% (330 of 500) |##############        | Elapsed Time: 3:58:06 ETA:   2:02:28"
     ]
    },
    {
     "name": "stdout",
     "output_type": "stream",
     "text": [
      " STEP ===> 329 ; MSE: 0.01007 ; RMSE: 0.10037\n"
     ]
    },
    {
     "name": "stderr",
     "output_type": "stream",
     "text": [
      "\r",
      "                                                                               \r",
      "\r",
      " 66% (331 of 500) |##############        | Elapsed Time: 3:58:49 ETA:   2:01:06"
     ]
    },
    {
     "name": "stdout",
     "output_type": "stream",
     "text": [
      " STEP ===> 330 ; MSE: 0.01006 ; RMSE: 0.1003\n"
     ]
    },
    {
     "name": "stderr",
     "output_type": "stream",
     "text": [
      "\r",
      "                                                                               \r",
      "\r",
      " 66% (332 of 500) |##############        | Elapsed Time: 3:59:33 ETA:   2:00:48"
     ]
    },
    {
     "name": "stdout",
     "output_type": "stream",
     "text": [
      " STEP ===> 331 ; MSE: 0.01005 ; RMSE: 0.10024\n"
     ]
    },
    {
     "name": "stderr",
     "output_type": "stream",
     "text": [
      "\r",
      "                                                                               \r",
      "\r",
      " 66% (333 of 500) |##############        | Elapsed Time: 4:00:17 ETA:   2:02:49"
     ]
    },
    {
     "name": "stdout",
     "output_type": "stream",
     "text": [
      " STEP ===> 332 ; MSE: 0.01003 ; RMSE: 0.10017\n"
     ]
    },
    {
     "name": "stderr",
     "output_type": "stream",
     "text": [
      "\r",
      "                                                                               \r",
      "\r",
      " 66% (334 of 500) |##############        | Elapsed Time: 4:01:00 ETA:   2:00:48"
     ]
    },
    {
     "name": "stdout",
     "output_type": "stream",
     "text": [
      " STEP ===> 333 ; MSE: 0.01002 ; RMSE: 0.10011\n"
     ]
    },
    {
     "name": "stderr",
     "output_type": "stream",
     "text": [
      "\r",
      "                                                                               \r",
      "\r",
      " 67% (335 of 500) |##############        | Elapsed Time: 4:01:44 ETA:   2:01:05"
     ]
    },
    {
     "name": "stdout",
     "output_type": "stream",
     "text": [
      " STEP ===> 334 ; MSE: 0.01001 ; RMSE: 0.10004\n",
      " STEP ===> 335 ; MSE: 0.01 ; RMSE: 0.09998\n"
     ]
    }
   ],
   "source": [
    "nP, nQ = matrix_factorization(R, P, Q, K, 500)\n",
    "nR = np.dot(nP, nQ.T)"
   ]
  },
  {
   "cell_type": "code",
   "execution_count": null,
   "metadata": {
    "colab": {
     "base_uri": "https://localhost:8080/"
    },
    "id": "5XBNTdcve2uo",
    "outputId": "d7479a7a-02c6-4cfb-eaf7-a092b9496407"
   },
   "outputs": [
    {
     "data": {
      "text/plain": [
       "array([[4.30453181, 3.93723147, 4.06556548, ..., 5.5007433 , 4.53799612,\n",
       "        4.92101298],\n",
       "       [3.53747375, 3.25204384, 3.34279564, ..., 4.94510684, 5.73957184,\n",
       "        6.11943796],\n",
       "       [3.79931364, 3.49296703, 2.92009311, ..., 4.87853283, 3.68995442,\n",
       "        3.98157145],\n",
       "       ...,\n",
       "       [4.1248771 , 4.21060062, 2.55016743, ..., 5.54722624, 5.53739978,\n",
       "        4.88960668],\n",
       "       [4.10261655, 4.68977747, 4.04651335, ..., 4.78266313, 6.43639585,\n",
       "        5.59216098],\n",
       "       [3.71921286, 3.70741765, 2.97103639, ..., 5.17474836, 5.2969356 ,\n",
       "        4.35551875]])"
      ]
     },
     "execution_count": 52,
     "metadata": {
      "tags": []
     },
     "output_type": "execute_result"
    }
   ],
   "source": [
    "nR"
   ]
  },
  {
   "cell_type": "code",
   "execution_count": null,
   "metadata": {
    "id": "asUSXm0we2xT"
   },
   "outputs": [],
   "source": []
  },
  {
   "cell_type": "code",
   "execution_count": null,
   "metadata": {
    "id": "idxpl44f2Xwj"
   },
   "outputs": [],
   "source": []
  },
  {
   "cell_type": "markdown",
   "metadata": {
    "id": "PlvEUp-pdoGT"
   },
   "source": [
    "## Hybrid Recommender System"
   ]
  },
  {
   "cell_type": "code",
   "execution_count": null,
   "metadata": {
    "id": "FVj7NqOcdrjs"
   },
   "outputs": [],
   "source": []
  },
  {
   "cell_type": "code",
   "execution_count": null,
   "metadata": {
    "id": "V4sX1Vw5drmB"
   },
   "outputs": [],
   "source": []
  },
  {
   "cell_type": "code",
   "execution_count": null,
   "metadata": {
    "id": "nR4ne54ndrsj"
   },
   "outputs": [],
   "source": []
  },
  {
   "cell_type": "code",
   "execution_count": null,
   "metadata": {
    "id": "7FNEs0aDdrwV"
   },
   "outputs": [],
   "source": []
  },
  {
   "cell_type": "code",
   "execution_count": null,
   "metadata": {
    "id": "ToT-B_hFdr0J"
   },
   "outputs": [],
   "source": []
  },
  {
   "cell_type": "code",
   "execution_count": null,
   "metadata": {
    "id": "lVHWr3qFdr3b"
   },
   "outputs": [],
   "source": []
  },
  {
   "cell_type": "code",
   "execution_count": null,
   "metadata": {
    "id": "h9f5oz0jdsQU"
   },
   "outputs": [],
   "source": []
  },
  {
   "cell_type": "code",
   "execution_count": null,
   "metadata": {
    "id": "xjNumDRIdsS5"
   },
   "outputs": [],
   "source": []
  }
 ],
 "metadata": {
  "colab": {
   "collapsed_sections": [],
   "name": "Final_Project.ipynb",
   "provenance": []
  },
  "kernelspec": {
   "display_name": "Python 3",
   "language": "python",
   "name": "python3"
  },
  "language_info": {
   "codemirror_mode": {
    "name": "ipython",
    "version": 3
   },
   "file_extension": ".py",
   "mimetype": "text/x-python",
   "name": "python",
   "nbconvert_exporter": "python",
   "pygments_lexer": "ipython3",
   "version": "3.7.6"
  }
 },
 "nbformat": 4,
 "nbformat_minor": 1
}
