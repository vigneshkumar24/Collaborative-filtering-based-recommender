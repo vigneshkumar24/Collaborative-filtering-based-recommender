{
 "cells": [
  {
   "cell_type": "code",
   "execution_count": 68,
   "metadata": {},
   "outputs": [],
   "source": [
    "import pandas as pd"
   ]
  },
  {
   "cell_type": "code",
   "execution_count": 69,
   "metadata": {},
   "outputs": [],
   "source": [
    "columns_user_interaction = ['userId', 'movieId', 'rating', 'timestamp']\n",
    "user_interaction_df = pd.read_csv('u.data.txt',sep='\\t',names=columns_user_interaction)\n",
    "backup_df = user_interaction_df.copy()"
   ]
  },
  {
   "cell_type": "code",
   "execution_count": 70,
   "metadata": {},
   "outputs": [
    {
     "data": {
      "text/html": [
       "<div>\n",
       "<style scoped>\n",
       "    .dataframe tbody tr th:only-of-type {\n",
       "        vertical-align: middle;\n",
       "    }\n",
       "\n",
       "    .dataframe tbody tr th {\n",
       "        vertical-align: top;\n",
       "    }\n",
       "\n",
       "    .dataframe thead th {\n",
       "        text-align: right;\n",
       "    }\n",
       "</style>\n",
       "<table border=\"1\" class=\"dataframe\">\n",
       "  <thead>\n",
       "    <tr style=\"text-align: right;\">\n",
       "      <th></th>\n",
       "      <th>userId</th>\n",
       "      <th>movieId</th>\n",
       "      <th>rating</th>\n",
       "      <th>timestamp</th>\n",
       "    </tr>\n",
       "  </thead>\n",
       "  <tbody>\n",
       "    <tr>\n",
       "      <th>0</th>\n",
       "      <td>196</td>\n",
       "      <td>242</td>\n",
       "      <td>3</td>\n",
       "      <td>881250949</td>\n",
       "    </tr>\n",
       "    <tr>\n",
       "      <th>1</th>\n",
       "      <td>186</td>\n",
       "      <td>302</td>\n",
       "      <td>3</td>\n",
       "      <td>891717742</td>\n",
       "    </tr>\n",
       "    <tr>\n",
       "      <th>2</th>\n",
       "      <td>22</td>\n",
       "      <td>377</td>\n",
       "      <td>1</td>\n",
       "      <td>878887116</td>\n",
       "    </tr>\n",
       "    <tr>\n",
       "      <th>3</th>\n",
       "      <td>244</td>\n",
       "      <td>51</td>\n",
       "      <td>2</td>\n",
       "      <td>880606923</td>\n",
       "    </tr>\n",
       "    <tr>\n",
       "      <th>4</th>\n",
       "      <td>166</td>\n",
       "      <td>346</td>\n",
       "      <td>1</td>\n",
       "      <td>886397596</td>\n",
       "    </tr>\n",
       "  </tbody>\n",
       "</table>\n",
       "</div>"
      ],
      "text/plain": [
       "   userId  movieId  rating  timestamp\n",
       "0     196      242       3  881250949\n",
       "1     186      302       3  891717742\n",
       "2      22      377       1  878887116\n",
       "3     244       51       2  880606923\n",
       "4     166      346       1  886397596"
      ]
     },
     "execution_count": 70,
     "metadata": {},
     "output_type": "execute_result"
    }
   ],
   "source": [
    "user_interaction_df.head()"
   ]
  },
  {
   "cell_type": "code",
   "execution_count": 71,
   "metadata": {},
   "outputs": [
    {
     "data": {
      "text/html": [
       "<div>\n",
       "<style scoped>\n",
       "    .dataframe tbody tr th:only-of-type {\n",
       "        vertical-align: middle;\n",
       "    }\n",
       "\n",
       "    .dataframe tbody tr th {\n",
       "        vertical-align: top;\n",
       "    }\n",
       "\n",
       "    .dataframe thead th {\n",
       "        text-align: right;\n",
       "    }\n",
       "</style>\n",
       "<table border=\"1\" class=\"dataframe\">\n",
       "  <thead>\n",
       "    <tr style=\"text-align: right;\">\n",
       "      <th></th>\n",
       "      <th>count</th>\n",
       "      <th>mean</th>\n",
       "      <th>std</th>\n",
       "      <th>min</th>\n",
       "      <th>25%</th>\n",
       "      <th>50%</th>\n",
       "      <th>75%</th>\n",
       "      <th>max</th>\n",
       "    </tr>\n",
       "  </thead>\n",
       "  <tbody>\n",
       "    <tr>\n",
       "      <th>userId</th>\n",
       "      <td>100000.0</td>\n",
       "      <td>4.624848e+02</td>\n",
       "      <td>2.666144e+02</td>\n",
       "      <td>1.0</td>\n",
       "      <td>254.0</td>\n",
       "      <td>447.0</td>\n",
       "      <td>682.0</td>\n",
       "      <td>943.0</td>\n",
       "    </tr>\n",
       "    <tr>\n",
       "      <th>movieId</th>\n",
       "      <td>100000.0</td>\n",
       "      <td>4.255301e+02</td>\n",
       "      <td>3.307984e+02</td>\n",
       "      <td>1.0</td>\n",
       "      <td>175.0</td>\n",
       "      <td>322.0</td>\n",
       "      <td>631.0</td>\n",
       "      <td>1682.0</td>\n",
       "    </tr>\n",
       "    <tr>\n",
       "      <th>rating</th>\n",
       "      <td>100000.0</td>\n",
       "      <td>3.529860e+00</td>\n",
       "      <td>1.125674e+00</td>\n",
       "      <td>1.0</td>\n",
       "      <td>3.0</td>\n",
       "      <td>4.0</td>\n",
       "      <td>4.0</td>\n",
       "      <td>5.0</td>\n",
       "    </tr>\n",
       "    <tr>\n",
       "      <th>timestamp</th>\n",
       "      <td>100000.0</td>\n",
       "      <td>8.835289e+08</td>\n",
       "      <td>5.343856e+06</td>\n",
       "      <td>874724710.0</td>\n",
       "      <td>879448709.5</td>\n",
       "      <td>882826944.0</td>\n",
       "      <td>888259984.0</td>\n",
       "      <td>893286638.0</td>\n",
       "    </tr>\n",
       "  </tbody>\n",
       "</table>\n",
       "</div>"
      ],
      "text/plain": [
       "              count          mean           std          min          25%  \\\n",
       "userId     100000.0  4.624848e+02  2.666144e+02          1.0        254.0   \n",
       "movieId    100000.0  4.255301e+02  3.307984e+02          1.0        175.0   \n",
       "rating     100000.0  3.529860e+00  1.125674e+00          1.0          3.0   \n",
       "timestamp  100000.0  8.835289e+08  5.343856e+06  874724710.0  879448709.5   \n",
       "\n",
       "                   50%          75%          max  \n",
       "userId           447.0        682.0        943.0  \n",
       "movieId          322.0        631.0       1682.0  \n",
       "rating             4.0          4.0          5.0  \n",
       "timestamp  882826944.0  888259984.0  893286638.0  "
      ]
     },
     "execution_count": 71,
     "metadata": {},
     "output_type": "execute_result"
    }
   ],
   "source": [
    "user_interaction_df.describe().T"
   ]
  },
  {
   "cell_type": "code",
   "execution_count": 72,
   "metadata": {},
   "outputs": [
    {
     "data": {
      "text/plain": [
       "4    34174\n",
       "3    27145\n",
       "5    21201\n",
       "2    11370\n",
       "1     6110\n",
       "Name: rating, dtype: int64"
      ]
     },
     "execution_count": 72,
     "metadata": {},
     "output_type": "execute_result"
    }
   ],
   "source": [
    "user_interaction_df['rating'].value_counts()"
   ]
  },
  {
   "cell_type": "code",
   "execution_count": 73,
   "metadata": {},
   "outputs": [
    {
     "data": {
      "text/plain": [
       "'141 Records got deleted'"
      ]
     },
     "execution_count": 73,
     "metadata": {},
     "output_type": "execute_result"
    }
   ],
   "source": [
    "# Least number of ratings required\n",
    "min_movie_ratings = 2 \n",
    "min_user_ratings =  5 \n",
    "\n",
    "old_records = user_interaction_df.shape[0]\n",
    "# Filter records with least ratings\n",
    "user_interaction_df = user_interaction_df.groupby(\"movieId\").filter(lambda x: x['movieId'].count() >= min_movie_ratings)\n",
    "user_interaction_df = user_interaction_df.groupby(\"userId\").filter(lambda x: x['userId'].count() >= min_user_ratings)\n",
    "\n",
    "\n",
    "# Print the records\n",
    "\"{0} Records got deleted\".format(old_records - user_interaction_df.shape[0])"
   ]
  },
  {
   "cell_type": "markdown",
   "metadata": {},
   "source": [
    "## 1. Matrix Factorization"
   ]
  },
  {
   "cell_type": "markdown",
   "metadata": {},
   "source": [
    "In this project, we tried to explore Matrix factorization as both recommendation technique and reduction technique. Though the end goal of both technique is to reduce a large matrix into latent features(small matrixes), both approaches the problem for different approaches (and inspired from different papers). We performed Matrix factorization using Sklearn (which approaches NMF as reduction technique) and Surprise (which approaches NMF as recommendation technique)."
   ]
  },
  {
   "cell_type": "markdown",
   "metadata": {},
   "source": [
    "### 1.1 Sklearn library (As reduction technique)"
   ]
  },
  {
   "cell_type": "markdown",
   "metadata": {},
   "source": [
    "Inspired from <br> <br>\n",
    "Cichocki, Andrzej, and P. H. A. N. Anh-Huy. “Fast local algorithms for large scale nonnegative matrix and tensor factorizations.” IEICE transactions on fundamentals of electronics, communications and computer sciences 92.3: 708-721, 2009."
   ]
  },
  {
   "cell_type": "code",
   "execution_count": 74,
   "metadata": {},
   "outputs": [
    {
     "data": {
      "text/html": [
       "<div>\n",
       "<style scoped>\n",
       "    .dataframe tbody tr th:only-of-type {\n",
       "        vertical-align: middle;\n",
       "    }\n",
       "\n",
       "    .dataframe tbody tr th {\n",
       "        vertical-align: top;\n",
       "    }\n",
       "\n",
       "    .dataframe thead th {\n",
       "        text-align: right;\n",
       "    }\n",
       "</style>\n",
       "<table border=\"1\" class=\"dataframe\">\n",
       "  <thead>\n",
       "    <tr style=\"text-align: right;\">\n",
       "      <th>movieId</th>\n",
       "      <th>1</th>\n",
       "      <th>2</th>\n",
       "      <th>3</th>\n",
       "      <th>4</th>\n",
       "      <th>5</th>\n",
       "      <th>6</th>\n",
       "      <th>7</th>\n",
       "      <th>8</th>\n",
       "      <th>9</th>\n",
       "      <th>10</th>\n",
       "      <th>...</th>\n",
       "      <th>1642</th>\n",
       "      <th>1643</th>\n",
       "      <th>1644</th>\n",
       "      <th>1646</th>\n",
       "      <th>1652</th>\n",
       "      <th>1656</th>\n",
       "      <th>1658</th>\n",
       "      <th>1662</th>\n",
       "      <th>1664</th>\n",
       "      <th>1672</th>\n",
       "    </tr>\n",
       "    <tr>\n",
       "      <th>userId</th>\n",
       "      <th></th>\n",
       "      <th></th>\n",
       "      <th></th>\n",
       "      <th></th>\n",
       "      <th></th>\n",
       "      <th></th>\n",
       "      <th></th>\n",
       "      <th></th>\n",
       "      <th></th>\n",
       "      <th></th>\n",
       "      <th></th>\n",
       "      <th></th>\n",
       "      <th></th>\n",
       "      <th></th>\n",
       "      <th></th>\n",
       "      <th></th>\n",
       "      <th></th>\n",
       "      <th></th>\n",
       "      <th></th>\n",
       "      <th></th>\n",
       "      <th></th>\n",
       "    </tr>\n",
       "  </thead>\n",
       "  <tbody>\n",
       "    <tr>\n",
       "      <th>1</th>\n",
       "      <td>5.0</td>\n",
       "      <td>3.0</td>\n",
       "      <td>4.0</td>\n",
       "      <td>3.0</td>\n",
       "      <td>3.0</td>\n",
       "      <td>5.0</td>\n",
       "      <td>4.0</td>\n",
       "      <td>1.0</td>\n",
       "      <td>5.0</td>\n",
       "      <td>3.0</td>\n",
       "      <td>...</td>\n",
       "      <td>0.0</td>\n",
       "      <td>0.0</td>\n",
       "      <td>0.0</td>\n",
       "      <td>0.0</td>\n",
       "      <td>0.0</td>\n",
       "      <td>0.0</td>\n",
       "      <td>0.0</td>\n",
       "      <td>0.0</td>\n",
       "      <td>0.0</td>\n",
       "      <td>0.0</td>\n",
       "    </tr>\n",
       "    <tr>\n",
       "      <th>2</th>\n",
       "      <td>4.0</td>\n",
       "      <td>0.0</td>\n",
       "      <td>0.0</td>\n",
       "      <td>0.0</td>\n",
       "      <td>0.0</td>\n",
       "      <td>0.0</td>\n",
       "      <td>0.0</td>\n",
       "      <td>0.0</td>\n",
       "      <td>0.0</td>\n",
       "      <td>2.0</td>\n",
       "      <td>...</td>\n",
       "      <td>0.0</td>\n",
       "      <td>0.0</td>\n",
       "      <td>0.0</td>\n",
       "      <td>0.0</td>\n",
       "      <td>0.0</td>\n",
       "      <td>0.0</td>\n",
       "      <td>0.0</td>\n",
       "      <td>0.0</td>\n",
       "      <td>0.0</td>\n",
       "      <td>0.0</td>\n",
       "    </tr>\n",
       "    <tr>\n",
       "      <th>3</th>\n",
       "      <td>0.0</td>\n",
       "      <td>0.0</td>\n",
       "      <td>0.0</td>\n",
       "      <td>0.0</td>\n",
       "      <td>0.0</td>\n",
       "      <td>0.0</td>\n",
       "      <td>0.0</td>\n",
       "      <td>0.0</td>\n",
       "      <td>0.0</td>\n",
       "      <td>0.0</td>\n",
       "      <td>...</td>\n",
       "      <td>0.0</td>\n",
       "      <td>0.0</td>\n",
       "      <td>0.0</td>\n",
       "      <td>0.0</td>\n",
       "      <td>0.0</td>\n",
       "      <td>0.0</td>\n",
       "      <td>0.0</td>\n",
       "      <td>0.0</td>\n",
       "      <td>0.0</td>\n",
       "      <td>0.0</td>\n",
       "    </tr>\n",
       "    <tr>\n",
       "      <th>4</th>\n",
       "      <td>0.0</td>\n",
       "      <td>0.0</td>\n",
       "      <td>0.0</td>\n",
       "      <td>0.0</td>\n",
       "      <td>0.0</td>\n",
       "      <td>0.0</td>\n",
       "      <td>0.0</td>\n",
       "      <td>0.0</td>\n",
       "      <td>0.0</td>\n",
       "      <td>0.0</td>\n",
       "      <td>...</td>\n",
       "      <td>0.0</td>\n",
       "      <td>0.0</td>\n",
       "      <td>0.0</td>\n",
       "      <td>0.0</td>\n",
       "      <td>0.0</td>\n",
       "      <td>0.0</td>\n",
       "      <td>0.0</td>\n",
       "      <td>0.0</td>\n",
       "      <td>0.0</td>\n",
       "      <td>0.0</td>\n",
       "    </tr>\n",
       "    <tr>\n",
       "      <th>5</th>\n",
       "      <td>4.0</td>\n",
       "      <td>3.0</td>\n",
       "      <td>0.0</td>\n",
       "      <td>0.0</td>\n",
       "      <td>0.0</td>\n",
       "      <td>0.0</td>\n",
       "      <td>0.0</td>\n",
       "      <td>0.0</td>\n",
       "      <td>0.0</td>\n",
       "      <td>0.0</td>\n",
       "      <td>...</td>\n",
       "      <td>0.0</td>\n",
       "      <td>0.0</td>\n",
       "      <td>0.0</td>\n",
       "      <td>0.0</td>\n",
       "      <td>0.0</td>\n",
       "      <td>0.0</td>\n",
       "      <td>0.0</td>\n",
       "      <td>0.0</td>\n",
       "      <td>0.0</td>\n",
       "      <td>0.0</td>\n",
       "    </tr>\n",
       "  </tbody>\n",
       "</table>\n",
       "<p>5 rows × 1541 columns</p>\n",
       "</div>"
      ],
      "text/plain": [
       "movieId  1     2     3     4     5     6     7     8     9     10    ...  \\\n",
       "userId                                                               ...   \n",
       "1         5.0   3.0   4.0   3.0   3.0   5.0   4.0   1.0   5.0   3.0  ...   \n",
       "2         4.0   0.0   0.0   0.0   0.0   0.0   0.0   0.0   0.0   2.0  ...   \n",
       "3         0.0   0.0   0.0   0.0   0.0   0.0   0.0   0.0   0.0   0.0  ...   \n",
       "4         0.0   0.0   0.0   0.0   0.0   0.0   0.0   0.0   0.0   0.0  ...   \n",
       "5         4.0   3.0   0.0   0.0   0.0   0.0   0.0   0.0   0.0   0.0  ...   \n",
       "\n",
       "movieId  1642  1643  1644  1646  1652  1656  1658  1662  1664  1672  \n",
       "userId                                                               \n",
       "1         0.0   0.0   0.0   0.0   0.0   0.0   0.0   0.0   0.0   0.0  \n",
       "2         0.0   0.0   0.0   0.0   0.0   0.0   0.0   0.0   0.0   0.0  \n",
       "3         0.0   0.0   0.0   0.0   0.0   0.0   0.0   0.0   0.0   0.0  \n",
       "4         0.0   0.0   0.0   0.0   0.0   0.0   0.0   0.0   0.0   0.0  \n",
       "5         0.0   0.0   0.0   0.0   0.0   0.0   0.0   0.0   0.0   0.0  \n",
       "\n",
       "[5 rows x 1541 columns]"
      ]
     },
     "execution_count": 74,
     "metadata": {},
     "output_type": "execute_result"
    }
   ],
   "source": [
    "movie_user = user_interaction_df.pivot_table(index='userId',columns='movieId',values='rating').fillna(0)\n",
    "movie_user.head()"
   ]
  },
  {
   "cell_type": "code",
   "execution_count": 75,
   "metadata": {},
   "outputs": [],
   "source": [
    "import numpy as np\n",
    "from sklearn.decomposition import NMF as sk_NMF\n",
    "\n",
    "from sklearn.metrics import mean_squared_error\n",
    "from sklearn.metrics import mean_absolute_error\n",
    "\n",
    "from sklearn.metrics import precision_score\n",
    "from sklearn.metrics import recall_score\n",
    "from sklearn.metrics import f1_score\n",
    "\n",
    "import matplotlib.pyplot as plt"
   ]
  },
  {
   "cell_type": "code",
   "execution_count": 76,
   "metadata": {},
   "outputs": [],
   "source": [
    "class matrix_factorize_data_sklearn:\n",
    "    def __init__(self,latent_vector_sizes,print_process=False):\n",
    "        self.latent_vector_sizes = latent_vector_sizes\n",
    "        self.print_process = print_process\n",
    "    \n",
    "    def train(self,data):\n",
    "        self.data = data\n",
    "        self.models = []\n",
    "        self.Ws = []\n",
    "        self.Hs = []\n",
    "        for latent_vector in self.latent_vector_sizes:\n",
    "            model = sk_NMF(n_components=latent_vector, init='random', random_state=0, max_iter=2000)\n",
    "            W = model.fit_transform(self.data)\n",
    "            H = model.components_\n",
    "            self.models.append(model)\n",
    "            self.Ws.append(W)\n",
    "            self.Hs.append(H)\n",
    "            if self.print_process:\n",
    "                print(f'Performed MF for latent vector size {latent_vector}')\n",
    "                print(f'Matrix is reduced to two small matrix of shapes {W.shape},{H.shape}')\n",
    "                \n",
    "            \n",
    "    def evaluate(self):\n",
    "        self.rmses = []\n",
    "        self.maes = []\n",
    "        self.precisions = []\n",
    "        self.recalls = []\n",
    "        self.f1_scores = []\n",
    "        \n",
    "        original_recommend = np.array((self.data >= 3)*1)\n",
    "        \n",
    "        for i in range(len(self.latent_vector_sizes)):\n",
    "            ### Evaluating as ratings (numbers)\n",
    "            # Create a new matrix from formed latent vectors\n",
    "            formed_matrix = self.Ws[i].dot(self.Hs[i])\n",
    "            # Create a dataframe with value 1 for ratings present already, 0 for ratings not present\n",
    "            non_zero_values = (self.data!= 0)*1\n",
    "            # Multiplying it with formed matrix will make new predictions zero, so scored will only be calculated for \n",
    "            # old available ratings\n",
    "            non_zero_formed_matrix = formed_matrix * np.array(non_zero_values)\n",
    "            original_matrix = np.array(self.data)\n",
    "            # Calculate rsme and mae for available ratings\n",
    "            rmse = mean_squared_error(original_matrix,non_zero_formed_matrix,squared=False)\n",
    "            mae = mean_absolute_error(original_matrix,non_zero_formed_matrix)\n",
    "            self.rmses.append(rmse)\n",
    "            self.maes.append(mae)\n",
    "            \n",
    "        \n",
    "            ### Evaluating as categories(recommend & don't recommend)\n",
    "            formed_recommend = (non_zero_formed_matrix >= 3)*1\n",
    "            precision = precision_score(original_recommend[0],formed_recommend[0])\n",
    "            recall = recall_score(original_recommend[0],formed_recommend[0])\n",
    "            f1score = f1_score(original_recommend[0],formed_recommend[0])\n",
    "            self.precisions.append(precision)\n",
    "            self.recalls.append(recall)\n",
    "            self.f1_scores.append(f1score)\n",
    "            \n",
    "            if self.print_process:\n",
    "                print(f'Evaluation performed for latent vector size {self.latent_vector_sizes[i]}')\n",
    "            \n",
    "    def plot_metrics(self):\n",
    "        plt.figure(figsize=(10,7))\n",
    "        plt.subplot(3,2,1)\n",
    "        plt.plot(self.latent_vector_sizes,self.rmse,label='RMSE')\n",
    "        plt.xticks(self.latent_vector_sizes)\n",
    "        plt.legend()\n",
    "        plt.subplot(3,2,2)\n",
    "        plt.plot(self.latent_vector_sizes,self.maes,label='MAE')\n",
    "        plt.xticks(self.latent_vector_sizes)\n",
    "        plt.legend()\n",
    "        plt.subplot(3,2,3)\n",
    "        plt.plot(self.latent_vector_sizes,self.precisions,label='Precision')\n",
    "        plt.xticks(self.latent_vector_sizes)\n",
    "        plt.legend()\n",
    "        plt.subplot(3,2,4)\n",
    "        plt.plot(self.latent_vector_sizes,self.recalls,label='Recall')\n",
    "        plt.xticks(self.latent_vector_sizes)\n",
    "        plt.legend()\n",
    "        plt.subplot(3,2,5)\n",
    "        plt.plot(self.latent_vector_sizes,self.f1_scores,label='F1 Score')\n",
    "        plt.xticks(self.latent_vector_sizes)\n",
    "        plt.legend()\n",
    "        plt.show()"
   ]
  },
  {
   "cell_type": "code",
   "execution_count": 78,
   "metadata": {},
   "outputs": [
    {
     "name": "stdout",
     "output_type": "stream",
     "text": [
      "Performed MF for latent vector size 20\n",
      "Matrix is reduced to two small matrix of shapes (943, 20),(20, 1541)\n",
      "Performed MF for latent vector size 30\n",
      "Matrix is reduced to two small matrix of shapes (943, 30),(30, 1541)\n",
      "Performed MF for latent vector size 40\n",
      "Matrix is reduced to two small matrix of shapes (943, 40),(40, 1541)\n",
      "Performed MF for latent vector size 50\n",
      "Matrix is reduced to two small matrix of shapes (943, 50),(50, 1541)\n"
     ]
    }
   ],
   "source": [
    "sk_mf = matrix_factorize_data_sklearn([20,30,40,50],print_process=True)\n",
    "sk_mf.train(movie_user)"
   ]
  },
  {
   "cell_type": "code",
   "execution_count": 79,
   "metadata": {},
   "outputs": [
    {
     "name": "stdout",
     "output_type": "stream",
     "text": [
      "Evaluation performed for latent vector size 20\n",
      "Evaluation performed for latent vector size 30\n",
      "Evaluation performed for latent vector size 40\n",
      "Evaluation performed for latent vector size 50\n"
     ]
    },
    {
     "data": {
      "image/png": "[encoded data removed]",
      "text/plain": [
       "<Figure size 720x504 with 5 Axes>"
      ]
     },
     "metadata": {
      "needs_background": "light"
     },
     "output_type": "display_data"
    }
   ],
   "source": [
    "sk_mf.evaluate()\n",
    "sk_mf.plot_metrics()"
   ]
  },
  {
   "cell_type": "markdown",
   "metadata": {},
   "source": [
    "### 1.2 Surprise library (As recommendation technique)"
   ]
  },
  {
   "cell_type": "markdown",
   "metadata": {},
   "source": [
    "Inspired from Netflix prize project"
   ]
  },
  {
   "cell_type": "code",
   "execution_count": 80,
   "metadata": {},
   "outputs": [],
   "source": [
    "# Importing Surprise library and its methods\n",
    "import surprise\n",
    "\n",
    "from surprise.reader import Reader\n",
    "from surprise import Dataset\n",
    "\n",
    "from surprise import NMF as sp_NMF"
   ]
  },
  {
   "cell_type": "code",
   "execution_count": 126,
   "metadata": {},
   "outputs": [],
   "source": [
    "reader = Reader() #Reader to specify the rating scale, as default its 1 to 5\n",
    "# Loading the data from the dataset\n",
    "data = Dataset.load_from_df(user_interaction_df[[\"userId\",\"movieId\",\"rating\"]], reader=reader)"
   ]
  },
  {
   "cell_type": "code",
   "execution_count": 82,
   "metadata": {},
   "outputs": [],
   "source": [
    "class matrix_factorize_data_surprise:\n",
    "    def __init__(self,latent_vector_sizes,print_process=False):\n",
    "        self.latent_vector_sizes = latent_vector_sizes\n",
    "        self.print_process = print_process\n",
    "    \n",
    "    def train(self,data):\n",
    "        self.data = data\n",
    "        self.models = []\n",
    "        # Build the trainset\n",
    "        trainset = self.data.build_full_trainset()\n",
    "        \n",
    "        for latent_vector in self.latent_vector_sizes:\n",
    "            model = sp_NMF(n_factors = latent_vector)\n",
    "            model.fit(trainset)\n",
    "            self.models.append(model)\n",
    "            if self.print_process:\n",
    "                print(f'Performed MF for latent vector size {latent_vector}')\n",
    "    \n",
    "    \n",
    "    def evaluate(self):\n",
    "        original_data = self.data.df.pivot_table(index='userId',columns='movieId',values='rating').fillna(0)\n",
    "        transformed_data = [self.data.df.iloc[i].to_list()[:2] for i in range(len(self.data.df))]\n",
    "    \n",
    "        self.rmses = []\n",
    "        self.maes = []\n",
    "        self.precisions = []\n",
    "        self.recalls = []\n",
    "        self.f1_scores = []\n",
    "        \n",
    "        original_recommend = np.array((original_data >= 3)*1)\n",
    "        \n",
    "        for i in range(len(self.latent_vector_sizes)):\n",
    "            \n",
    "            calculated_matrix = pd.DataFrame(columns=['userId','movieId','rating'])\n",
    "\n",
    "            for _ in transformed_data:\n",
    "                calculation = dict()\n",
    "                calculation['userId'] = _[0]\n",
    "                calculation['movieId'] = _[1]\n",
    "                \n",
    "                calculation['rating'] = self.models[i].predict(_[0],_[1]).est\n",
    "                calculated_matrix = calculated_matrix.append(calculation,ignore_index=True)\n",
    "             \n",
    "            # Create a new matrix from formed latent vectors\n",
    "            formed_matrix = calculated_matrix.pivot_table(index='userId',columns='movieId',values='rating').fillna(0)\n",
    "            formed_matrix = np.array(formed_matrix)\n",
    "                \n",
    "            ### Evaluating as ratings (numbers)\n",
    "            # Create a dataframe with value 1 for ratings present already, 0 for ratings not present\n",
    "            non_zero_values = (original_data != 0)*1\n",
    "            # Multiplying it with formed matrix will make new predictions zero, so scored will only be calculated for \n",
    "            # old available ratings\n",
    "            non_zero_formed_matrix = formed_matrix * np.array(non_zero_values)\n",
    "            original_matrix = np.array(original_data)\n",
    "            # Calculate rsme and mae for available ratings\n",
    "            rmse = mean_squared_error(original_matrix,non_zero_formed_matrix,squared=False)\n",
    "            mae = mean_absolute_error(original_matrix,non_zero_formed_matrix)\n",
    "            self.rmse.append(rmse)\n",
    "            self.maes.append(mae)\n",
    "        \n",
    "            ### Evaluating as categories(recommend & don't recommend)\n",
    "            formed_recommend = (non_zero_formed_matrix >= 3)*1\n",
    "            precision = precision_score(original_recommend[0],formed_recommend[0])\n",
    "            recall = recall_score(original_recommend[0],formed_recommend[0])\n",
    "            f1score = f1_score(original_recommend[0],formed_recommend[0])\n",
    "            self.precisions.append(precision)\n",
    "            self.recalls.append(recall)\n",
    "            self.f1_scores.append(f1score)\n",
    "        \n",
    "            \n",
    "    def plot_metrics(self):\n",
    "        plt.figure(figsize=(10,7))\n",
    "        plt.subplot(3,2,1)\n",
    "        plt.plot(self.latent_vector_sizes,self.rmse,label='RMSE')\n",
    "        plt.xticks(self.latent_vector_sizes)\n",
    "        plt.legend()\n",
    "        plt.subplot(3,2,2)\n",
    "        plt.plot(self.latent_vector_sizes,self.maes,label='MAE')\n",
    "        plt.xticks(self.latent_vector_sizes)\n",
    "        plt.legend()\n",
    "        plt.subplot(3,2,3)\n",
    "        plt.plot(self.latent_vector_sizes,self.precisions,label='Precision')\n",
    "        plt.xticks(self.latent_vector_sizes)\n",
    "        plt.legend()\n",
    "        plt.subplot(3,2,4)\n",
    "        plt.plot(self.latent_vector_sizes,self.recalls,label='Recall')\n",
    "        plt.xticks(self.latent_vector_sizes)\n",
    "        plt.legend()\n",
    "        plt.subplot(3,2,5)\n",
    "        plt.plot(self.latent_vector_sizes,self.f1_scores,label='F1 Score')\n",
    "        plt.xticks(self.latent_vector_sizes)\n",
    "        plt.legend()\n",
    "        plt.show()   "
   ]
  },
  {
   "cell_type": "code",
   "execution_count": 83,
   "metadata": {},
   "outputs": [
    {
     "name": "stdout",
     "output_type": "stream",
     "text": [
      "Performed MF for latent vector size 20\n",
      "Performed MF for latent vector size 30\n",
      "Performed MF for latent vector size 40\n",
      "Performed MF for latent vector size 50\n"
     ]
    }
   ],
   "source": [
    "sp_mf = matrix_factorize_data_surprise([20,30,40,50],print_process=True)\n",
    "sp_mf.train(data)"
   ]
  },
  {
   "cell_type": "code",
   "execution_count": 84,
   "metadata": {},
   "outputs": [
    {
     "data": {
      "image/png": "[encoded data removed]",
      "text/plain": [
       "<Figure size 720x504 with 5 Axes>"
      ]
     },
     "metadata": {
      "needs_background": "light"
     },
     "output_type": "display_data"
    }
   ],
   "source": [
    "sp_mf.evaluate()\n",
    "sp_mf.plot_metrics()"
   ]
  },
  {
   "cell_type": "markdown",
   "metadata": {},
   "source": [
    "## 2. Neural collaborative filtering"
   ]
  },
  {
   "cell_type": "markdown",
   "metadata": {},
   "source": [
    "### 2.1 Sentiment Analysis"
   ]
  },
  {
   "cell_type": "markdown",
   "metadata": {},
   "source": [
    "#### 2.1.1 Data Collection"
   ]
  },
  {
   "cell_type": "code",
   "execution_count": 85,
   "metadata": {},
   "outputs": [],
   "source": [
    "# Importing libraries\n",
    "import tweepy as tw\n",
    "import time\n",
    "import os.path\n",
    "import re"
   ]
  },
  {
   "cell_type": "markdown",
   "metadata": {},
   "source": [
    "Inorder to mask our credentials, we stored them in file and read them. So it won't be exposed in Notebook."
   ]
  },
  {
   "cell_type": "code",
   "execution_count": 86,
   "metadata": {},
   "outputs": [],
   "source": [
    "# Dictonary to store credentials \n",
    "credentials_dict = {}\n",
    "# Reading credentials from file\n",
    "with open('twitter_credentials.txt') as file:\n",
    "    credentials_temp = file.read().splitlines()\n",
    "    \n",
    "# Loop through the file lines \n",
    "for _ in credentials_temp:\n",
    "    # Adding the credentials to the dictonary\n",
    "    credentials_dict[_.split('=')[0]] = _.split('=')[1]"
   ]
  },
  {
   "cell_type": "markdown",
   "metadata": {},
   "source": [
    "We have used Tweepy library to authenticate with Twitter, and create a cursor to collect the data."
   ]
  },
  {
   "cell_type": "code",
   "execution_count": 87,
   "metadata": {},
   "outputs": [],
   "source": [
    "# Authenticating\n",
    "auth = tw.OAuthHandler(credentials_dict['consumer_key'], credentials_dict['consumer_secret'])\n",
    "auth.set_access_token(credentials_dict['access_token'], credentials_dict['access_token_secret'])\n",
    "api = tw.API(auth,wait_on_rate_limit=True )"
   ]
  },
  {
   "cell_type": "code",
   "execution_count": 88,
   "metadata": {},
   "outputs": [
    {
     "name": "stdout",
     "output_type": "stream",
     "text": [
      "['movieId', 'movieName', 'releaseDate', 'videoReleaseDate', 'imdbLink', 'unknown', 'Action', 'Adventure', 'Animation', \"Children's\", 'Comedy', 'Crime', 'Documentary', 'Drama', 'Fantasy', 'Film-Noir', 'Horror', 'Musical', 'Mystery', 'Romance', 'Sci-Fi', 'Thriller', 'War', 'Western']\n"
     ]
    }
   ],
   "source": [
    "item_column = ['movieId','movieName','releaseDate','videoReleaseDate','imdbLink']\n",
    "with open('u.genre.txt','r') as file:\n",
    "    genres = file.readlines()\n",
    "\n",
    "for genre in genres:\n",
    "    item_column.append(genre.split('|')[0])\n",
    "\n",
    "print(item_column)"
   ]
  },
  {
   "cell_type": "code",
   "execution_count": 89,
   "metadata": {},
   "outputs": [],
   "source": [
    "item_df = pd.read_csv('u.item.txt',sep='|',names=item_column)"
   ]
  },
  {
   "cell_type": "code",
   "execution_count": 90,
   "metadata": {},
   "outputs": [
    {
     "data": {
      "text/html": [
       "<div>\n",
       "<style scoped>\n",
       "    .dataframe tbody tr th:only-of-type {\n",
       "        vertical-align: middle;\n",
       "    }\n",
       "\n",
       "    .dataframe tbody tr th {\n",
       "        vertical-align: top;\n",
       "    }\n",
       "\n",
       "    .dataframe thead th {\n",
       "        text-align: right;\n",
       "    }\n",
       "</style>\n",
       "<table border=\"1\" class=\"dataframe\">\n",
       "  <thead>\n",
       "    <tr style=\"text-align: right;\">\n",
       "      <th></th>\n",
       "      <th>movieId</th>\n",
       "      <th>movieName</th>\n",
       "      <th>releaseDate</th>\n",
       "      <th>videoReleaseDate</th>\n",
       "      <th>imdbLink</th>\n",
       "      <th>unknown</th>\n",
       "      <th>Action</th>\n",
       "      <th>Adventure</th>\n",
       "      <th>Animation</th>\n",
       "      <th>Children's</th>\n",
       "      <th>...</th>\n",
       "      <th>Fantasy</th>\n",
       "      <th>Film-Noir</th>\n",
       "      <th>Horror</th>\n",
       "      <th>Musical</th>\n",
       "      <th>Mystery</th>\n",
       "      <th>Romance</th>\n",
       "      <th>Sci-Fi</th>\n",
       "      <th>Thriller</th>\n",
       "      <th>War</th>\n",
       "      <th>Western</th>\n",
       "    </tr>\n",
       "  </thead>\n",
       "  <tbody>\n",
       "    <tr>\n",
       "      <th>0</th>\n",
       "      <td>1</td>\n",
       "      <td>Toy Story (1995)</td>\n",
       "      <td>01-Jan-1995</td>\n",
       "      <td>NaN</td>\n",
       "      <td>http://us.imdb.com/M/title-exact?Toy%20Story%2...</td>\n",
       "      <td>0</td>\n",
       "      <td>0</td>\n",
       "      <td>0</td>\n",
       "      <td>1</td>\n",
       "      <td>1</td>\n",
       "      <td>...</td>\n",
       "      <td>0</td>\n",
       "      <td>0</td>\n",
       "      <td>0</td>\n",
       "      <td>0</td>\n",
       "      <td>0</td>\n",
       "      <td>0</td>\n",
       "      <td>0</td>\n",
       "      <td>0</td>\n",
       "      <td>0</td>\n",
       "      <td>0</td>\n",
       "    </tr>\n",
       "    <tr>\n",
       "      <th>1</th>\n",
       "      <td>2</td>\n",
       "      <td>GoldenEye (1995)</td>\n",
       "      <td>01-Jan-1995</td>\n",
       "      <td>NaN</td>\n",
       "      <td>http://us.imdb.com/M/title-exact?GoldenEye%20(...</td>\n",
       "      <td>0</td>\n",
       "      <td>1</td>\n",
       "      <td>1</td>\n",
       "      <td>0</td>\n",
       "      <td>0</td>\n",
       "      <td>...</td>\n",
       "      <td>0</td>\n",
       "      <td>0</td>\n",
       "      <td>0</td>\n",
       "      <td>0</td>\n",
       "      <td>0</td>\n",
       "      <td>0</td>\n",
       "      <td>0</td>\n",
       "      <td>1</td>\n",
       "      <td>0</td>\n",
       "      <td>0</td>\n",
       "    </tr>\n",
       "    <tr>\n",
       "      <th>2</th>\n",
       "      <td>3</td>\n",
       "      <td>Four Rooms (1995)</td>\n",
       "      <td>01-Jan-1995</td>\n",
       "      <td>NaN</td>\n",
       "      <td>http://us.imdb.com/M/title-exact?Four%20Rooms%...</td>\n",
       "      <td>0</td>\n",
       "      <td>0</td>\n",
       "      <td>0</td>\n",
       "      <td>0</td>\n",
       "      <td>0</td>\n",
       "      <td>...</td>\n",
       "      <td>0</td>\n",
       "      <td>0</td>\n",
       "      <td>0</td>\n",
       "      <td>0</td>\n",
       "      <td>0</td>\n",
       "      <td>0</td>\n",
       "      <td>0</td>\n",
       "      <td>1</td>\n",
       "      <td>0</td>\n",
       "      <td>0</td>\n",
       "    </tr>\n",
       "    <tr>\n",
       "      <th>3</th>\n",
       "      <td>4</td>\n",
       "      <td>Get Shorty (1995)</td>\n",
       "      <td>01-Jan-1995</td>\n",
       "      <td>NaN</td>\n",
       "      <td>http://us.imdb.com/M/title-exact?Get%20Shorty%...</td>\n",
       "      <td>0</td>\n",
       "      <td>1</td>\n",
       "      <td>0</td>\n",
       "      <td>0</td>\n",
       "      <td>0</td>\n",
       "      <td>...</td>\n",
       "      <td>0</td>\n",
       "      <td>0</td>\n",
       "      <td>0</td>\n",
       "      <td>0</td>\n",
       "      <td>0</td>\n",
       "      <td>0</td>\n",
       "      <td>0</td>\n",
       "      <td>0</td>\n",
       "      <td>0</td>\n",
       "      <td>0</td>\n",
       "    </tr>\n",
       "    <tr>\n",
       "      <th>4</th>\n",
       "      <td>5</td>\n",
       "      <td>Copycat (1995)</td>\n",
       "      <td>01-Jan-1995</td>\n",
       "      <td>NaN</td>\n",
       "      <td>http://us.imdb.com/M/title-exact?Copycat%20(1995)</td>\n",
       "      <td>0</td>\n",
       "      <td>0</td>\n",
       "      <td>0</td>\n",
       "      <td>0</td>\n",
       "      <td>0</td>\n",
       "      <td>...</td>\n",
       "      <td>0</td>\n",
       "      <td>0</td>\n",
       "      <td>0</td>\n",
       "      <td>0</td>\n",
       "      <td>0</td>\n",
       "      <td>0</td>\n",
       "      <td>0</td>\n",
       "      <td>1</td>\n",
       "      <td>0</td>\n",
       "      <td>0</td>\n",
       "    </tr>\n",
       "  </tbody>\n",
       "</table>\n",
       "<p>5 rows × 24 columns</p>\n",
       "</div>"
      ],
      "text/plain": [
       "   movieId          movieName  releaseDate  videoReleaseDate  \\\n",
       "0        1   Toy Story (1995)  01-Jan-1995               NaN   \n",
       "1        2   GoldenEye (1995)  01-Jan-1995               NaN   \n",
       "2        3  Four Rooms (1995)  01-Jan-1995               NaN   \n",
       "3        4  Get Shorty (1995)  01-Jan-1995               NaN   \n",
       "4        5     Copycat (1995)  01-Jan-1995               NaN   \n",
       "\n",
       "                                            imdbLink  unknown  Action  \\\n",
       "0  http://us.imdb.com/M/title-exact?Toy%20Story%2...        0       0   \n",
       "1  http://us.imdb.com/M/title-exact?GoldenEye%20(...        0       1   \n",
       "2  http://us.imdb.com/M/title-exact?Four%20Rooms%...        0       0   \n",
       "3  http://us.imdb.com/M/title-exact?Get%20Shorty%...        0       1   \n",
       "4  http://us.imdb.com/M/title-exact?Copycat%20(1995)        0       0   \n",
       "\n",
       "   Adventure  Animation  Children's  ...  Fantasy  Film-Noir  Horror  Musical  \\\n",
       "0          0          1           1  ...        0          0       0        0   \n",
       "1          1          0           0  ...        0          0       0        0   \n",
       "2          0          0           0  ...        0          0       0        0   \n",
       "3          0          0           0  ...        0          0       0        0   \n",
       "4          0          0           0  ...        0          0       0        0   \n",
       "\n",
       "   Mystery  Romance  Sci-Fi  Thriller  War  Western  \n",
       "0        0        0       0         0    0        0  \n",
       "1        0        0       0         1    0        0  \n",
       "2        0        0       0         1    0        0  \n",
       "3        0        0       0         0    0        0  \n",
       "4        0        0       0         1    0        0  \n",
       "\n",
       "[5 rows x 24 columns]"
      ]
     },
     "execution_count": 90,
     "metadata": {},
     "output_type": "execute_result"
    }
   ],
   "source": [
    "item_df.head()"
   ]
  },
  {
   "cell_type": "markdown",
   "metadata": {},
   "source": [
    "#### Ensuring Continuity in Data Collection"
   ]
  },
  {
   "cell_type": "code",
   "execution_count": 91,
   "metadata": {},
   "outputs": [],
   "source": [
    "# Required columns to be collected\n",
    "data_columns = ['movieId', 'movieName', 'tweets']\n",
    "\n",
    "# File names/path of the output files\n",
    "output_file_path = 'Data/collected_tweet.csv'\n",
    "\n",
    "# If output files doesn't exist, create an empty dataframe\n",
    "if os.path.isfile(output_file_path):\n",
    "    collected_tweet = pd.read_csv(output_file_path) \n",
    "else:\n",
    "    collected_tweet = pd.DataFrame(columns=data_columns)\n",
    "    collected_tweet.to_csv(output_file_path,index=False)"
   ]
  },
  {
   "cell_type": "markdown",
   "metadata": {},
   "source": [
    "#### Extract Ids that are not scrapped yet"
   ]
  },
  {
   "cell_type": "code",
   "execution_count": 92,
   "metadata": {},
   "outputs": [
    {
     "name": "stdout",
     "output_type": "stream",
     "text": [
      "Already worked on 798 ID out of 1664...\n",
      "866 more to go\n"
     ]
    }
   ],
   "source": [
    "# All given IDs\n",
    "all_id = set(item_df['movieName'])\n",
    "# All worked IDs\n",
    "worked_id = set(collected_tweet['movieName'])\n",
    "# Extracting IDs that are not yet worked\n",
    "not_worked_id = all_id.difference(worked_id)\n",
    "print(f'Already worked on {len(worked_id)} ID out of {len(all_id)}...\\n{len(not_worked_id)} more to go')"
   ]
  },
  {
   "cell_type": "code",
   "execution_count": null,
   "metadata": {},
   "outputs": [
    {
     "name": "stdout",
     "output_type": "stream",
     "text": [
      "50 data were extracted on this cycle\n",
      "100 data were extracted on this cycle\n",
      "150 data were extracted on this cycle\n"
     ]
    }
   ],
   "source": [
    "record_count = 1\n",
    "for movie in not_worked_id:\n",
    "    \n",
    "    if record_count % 50 == 0:\n",
    "        collected_tweet.to_csv(output_file_path,index=False)\n",
    "        print(f'{record_count} data were extracted on this cycle')\n",
    "        #time.sleep(120)\n",
    "        \n",
    "    tweets_dict = dict()\n",
    "    tweets_dict['movieName'] = movie\n",
    "    query = re.sub(r'\\(\\d*\\)','',movie)\n",
    "    query = query.lower()\n",
    "    query += '-filter:retweets AND -filter:replies'\n",
    "    movie_tweets_cursor = api.search(q=query, count=100,\n",
    "                        result_type = \"recent\",\n",
    "                        lang = \"en\")\n",
    "    \n",
    "    tweet_list = []\n",
    "    for movie_tweets in movie_tweets_cursor:\n",
    "        tweet_list.append(movie_tweets.text)\n",
    "    \n",
    "    tweets_dict['tweets'] = tweet_list\n",
    "    \n",
    "    collected_tweet = collected_tweet.append(tweets_dict,ignore_index=True)\n",
    "    \n",
    "    record_count += 1"
   ]
  },
  {
   "cell_type": "code",
   "execution_count": 93,
   "metadata": {},
   "outputs": [],
   "source": [
    "# Import Sentiment Analyzer\n",
    "from vaderSentiment.vaderSentiment import SentimentIntensityAnalyzer\n",
    "from ast import literal_eval"
   ]
  },
  {
   "cell_type": "code",
   "execution_count": 94,
   "metadata": {},
   "outputs": [],
   "source": [
    "# Function to find sentiment, and calculate positive score\n",
    "def calculate_sentiment(x):\n",
    "    \n",
    "    # Creating an object\n",
    "    sentiment_analyzer = SentimentIntensityAnalyzer()\n",
    "\n",
    "    # If value is null, return sentiments as 0,0\n",
    "    if type(x) == float:\n",
    "        return 0,0,0\n",
    "    \n",
    "    x = literal_eval(x)\n",
    "    # Cleaned comments\n",
    "    cleaned_x = []\n",
    "    # Positive scores for each comment\n",
    "    positive_scores = []\n",
    "    # As number of comments is not always equal, we should record them individually\n",
    "    no_of_positive = 0\n",
    "    #no_of_negative = 0\n",
    "\n",
    "    for comment in x:\n",
    "        # lower case\n",
    "        comment = comment.lower()\n",
    "        \n",
    "        # remove numbers\n",
    "        comment = re.sub(r'[0-9]+', '', comment)\n",
    "    \n",
    "        # remove spaces\n",
    "        comment = re.sub(r'[\\n,\\b,\\t]', '', comment)\n",
    "    \n",
    "        # remove non-alpha\n",
    "        comment = re.sub(r'[^\\w]', ' ', comment)\n",
    "        comment = re.sub(r'_', '', comment)\n",
    "        \n",
    "        # remove less characters\n",
    "        comment = re.sub(r'\\b\\w{1,2}\\b','', comment)\n",
    "    \n",
    "        # remove unwanted spaces:\n",
    "        comment = re.sub(r' +', ' ', comment)\n",
    "        \n",
    "\n",
    "        # If comment has any real value\n",
    "        if comment != ' ' and comment != '' :\n",
    "            cleaned_x.append(comment)\n",
    "        \n",
    "        \n",
    "    # Add the positive score of each comment to the list\n",
    "    for comment in cleaned_x:\n",
    "        sentiment_comment = sentiment_analyzer.polarity_scores(comment)\n",
    "        positive_scores.append(sentiment_comment['pos'])\n",
    "        \n",
    "       \n",
    "    if len(positive_scores) == 0:\n",
    "        return 0\n",
    "    else:\n",
    "        average_positive_score = sum(positive_scores)/len(positive_scores)\n",
    "\n",
    "        \n",
    "    return average_positive_score"
   ]
  },
  {
   "cell_type": "code",
   "execution_count": 95,
   "metadata": {},
   "outputs": [],
   "source": [
    "collected_tweet['average_sentiment'] = collected_tweet.apply(lambda x: calculate_sentiment(x['tweets']), axis=1)"
   ]
  },
  {
   "cell_type": "markdown",
   "metadata": {},
   "source": [
    "#### EDA"
   ]
  },
  {
   "cell_type": "code",
   "execution_count": 96,
   "metadata": {},
   "outputs": [],
   "source": [
    "def no_of_tweets(x):\n",
    "    \n",
    "    # Function to find sentiment, and calculate positive score\n",
    "    if type(x) == float:\n",
    "        return 0,0,0\n",
    "    \n",
    "    x = literal_eval(x)\n",
    "    return len(x)"
   ]
  },
  {
   "cell_type": "code",
   "execution_count": 97,
   "metadata": {},
   "outputs": [],
   "source": [
    "collected_tweet['no_of_tweets'] = collected_tweet.apply(lambda x: no_of_tweets(x['tweets']), axis=1)"
   ]
  },
  {
   "cell_type": "code",
   "execution_count": 98,
   "metadata": {},
   "outputs": [
    {
     "data": {
      "text/html": [
       "<div>\n",
       "<style scoped>\n",
       "    .dataframe tbody tr th:only-of-type {\n",
       "        vertical-align: middle;\n",
       "    }\n",
       "\n",
       "    .dataframe tbody tr th {\n",
       "        vertical-align: top;\n",
       "    }\n",
       "\n",
       "    .dataframe thead th {\n",
       "        text-align: right;\n",
       "    }\n",
       "</style>\n",
       "<table border=\"1\" class=\"dataframe\">\n",
       "  <thead>\n",
       "    <tr style=\"text-align: right;\">\n",
       "      <th>movieId</th>\n",
       "      <th>1</th>\n",
       "      <th>2</th>\n",
       "      <th>3</th>\n",
       "      <th>4</th>\n",
       "      <th>5</th>\n",
       "      <th>6</th>\n",
       "      <th>7</th>\n",
       "      <th>8</th>\n",
       "      <th>9</th>\n",
       "      <th>10</th>\n",
       "      <th>...</th>\n",
       "      <th>1673</th>\n",
       "      <th>1674</th>\n",
       "      <th>1675</th>\n",
       "      <th>1676</th>\n",
       "      <th>1677</th>\n",
       "      <th>1678</th>\n",
       "      <th>1679</th>\n",
       "      <th>1680</th>\n",
       "      <th>1681</th>\n",
       "      <th>1682</th>\n",
       "    </tr>\n",
       "    <tr>\n",
       "      <th>userId</th>\n",
       "      <th></th>\n",
       "      <th></th>\n",
       "      <th></th>\n",
       "      <th></th>\n",
       "      <th></th>\n",
       "      <th></th>\n",
       "      <th></th>\n",
       "      <th></th>\n",
       "      <th></th>\n",
       "      <th></th>\n",
       "      <th></th>\n",
       "      <th></th>\n",
       "      <th></th>\n",
       "      <th></th>\n",
       "      <th></th>\n",
       "      <th></th>\n",
       "      <th></th>\n",
       "      <th></th>\n",
       "      <th></th>\n",
       "      <th></th>\n",
       "      <th></th>\n",
       "    </tr>\n",
       "  </thead>\n",
       "  <tbody>\n",
       "    <tr>\n",
       "      <th>1</th>\n",
       "      <td>5.0</td>\n",
       "      <td>3.0</td>\n",
       "      <td>4.0</td>\n",
       "      <td>3.0</td>\n",
       "      <td>3.0</td>\n",
       "      <td>5.0</td>\n",
       "      <td>4.0</td>\n",
       "      <td>1.0</td>\n",
       "      <td>5.0</td>\n",
       "      <td>3.0</td>\n",
       "      <td>...</td>\n",
       "      <td>NaN</td>\n",
       "      <td>NaN</td>\n",
       "      <td>NaN</td>\n",
       "      <td>NaN</td>\n",
       "      <td>NaN</td>\n",
       "      <td>NaN</td>\n",
       "      <td>NaN</td>\n",
       "      <td>NaN</td>\n",
       "      <td>NaN</td>\n",
       "      <td>NaN</td>\n",
       "    </tr>\n",
       "    <tr>\n",
       "      <th>2</th>\n",
       "      <td>4.0</td>\n",
       "      <td>NaN</td>\n",
       "      <td>NaN</td>\n",
       "      <td>NaN</td>\n",
       "      <td>NaN</td>\n",
       "      <td>NaN</td>\n",
       "      <td>NaN</td>\n",
       "      <td>NaN</td>\n",
       "      <td>NaN</td>\n",
       "      <td>2.0</td>\n",
       "      <td>...</td>\n",
       "      <td>NaN</td>\n",
       "      <td>NaN</td>\n",
       "      <td>NaN</td>\n",
       "      <td>NaN</td>\n",
       "      <td>NaN</td>\n",
       "      <td>NaN</td>\n",
       "      <td>NaN</td>\n",
       "      <td>NaN</td>\n",
       "      <td>NaN</td>\n",
       "      <td>NaN</td>\n",
       "    </tr>\n",
       "    <tr>\n",
       "      <th>3</th>\n",
       "      <td>NaN</td>\n",
       "      <td>NaN</td>\n",
       "      <td>NaN</td>\n",
       "      <td>NaN</td>\n",
       "      <td>NaN</td>\n",
       "      <td>NaN</td>\n",
       "      <td>NaN</td>\n",
       "      <td>NaN</td>\n",
       "      <td>NaN</td>\n",
       "      <td>NaN</td>\n",
       "      <td>...</td>\n",
       "      <td>NaN</td>\n",
       "      <td>NaN</td>\n",
       "      <td>NaN</td>\n",
       "      <td>NaN</td>\n",
       "      <td>NaN</td>\n",
       "      <td>NaN</td>\n",
       "      <td>NaN</td>\n",
       "      <td>NaN</td>\n",
       "      <td>NaN</td>\n",
       "      <td>NaN</td>\n",
       "    </tr>\n",
       "    <tr>\n",
       "      <th>4</th>\n",
       "      <td>NaN</td>\n",
       "      <td>NaN</td>\n",
       "      <td>NaN</td>\n",
       "      <td>NaN</td>\n",
       "      <td>NaN</td>\n",
       "      <td>NaN</td>\n",
       "      <td>NaN</td>\n",
       "      <td>NaN</td>\n",
       "      <td>NaN</td>\n",
       "      <td>NaN</td>\n",
       "      <td>...</td>\n",
       "      <td>NaN</td>\n",
       "      <td>NaN</td>\n",
       "      <td>NaN</td>\n",
       "      <td>NaN</td>\n",
       "      <td>NaN</td>\n",
       "      <td>NaN</td>\n",
       "      <td>NaN</td>\n",
       "      <td>NaN</td>\n",
       "      <td>NaN</td>\n",
       "      <td>NaN</td>\n",
       "    </tr>\n",
       "    <tr>\n",
       "      <th>5</th>\n",
       "      <td>4.0</td>\n",
       "      <td>3.0</td>\n",
       "      <td>NaN</td>\n",
       "      <td>NaN</td>\n",
       "      <td>NaN</td>\n",
       "      <td>NaN</td>\n",
       "      <td>NaN</td>\n",
       "      <td>NaN</td>\n",
       "      <td>NaN</td>\n",
       "      <td>NaN</td>\n",
       "      <td>...</td>\n",
       "      <td>NaN</td>\n",
       "      <td>NaN</td>\n",
       "      <td>NaN</td>\n",
       "      <td>NaN</td>\n",
       "      <td>NaN</td>\n",
       "      <td>NaN</td>\n",
       "      <td>NaN</td>\n",
       "      <td>NaN</td>\n",
       "      <td>NaN</td>\n",
       "      <td>NaN</td>\n",
       "    </tr>\n",
       "  </tbody>\n",
       "</table>\n",
       "<p>5 rows × 1682 columns</p>\n",
       "</div>"
      ],
      "text/plain": [
       "movieId  1     2     3     4     5     6     7     8     9     10    ...  \\\n",
       "userId                                                               ...   \n",
       "1         5.0   3.0   4.0   3.0   3.0   5.0   4.0   1.0   5.0   3.0  ...   \n",
       "2         4.0   NaN   NaN   NaN   NaN   NaN   NaN   NaN   NaN   2.0  ...   \n",
       "3         NaN   NaN   NaN   NaN   NaN   NaN   NaN   NaN   NaN   NaN  ...   \n",
       "4         NaN   NaN   NaN   NaN   NaN   NaN   NaN   NaN   NaN   NaN  ...   \n",
       "5         4.0   3.0   NaN   NaN   NaN   NaN   NaN   NaN   NaN   NaN  ...   \n",
       "\n",
       "movieId  1673  1674  1675  1676  1677  1678  1679  1680  1681  1682  \n",
       "userId                                                               \n",
       "1         NaN   NaN   NaN   NaN   NaN   NaN   NaN   NaN   NaN   NaN  \n",
       "2         NaN   NaN   NaN   NaN   NaN   NaN   NaN   NaN   NaN   NaN  \n",
       "3         NaN   NaN   NaN   NaN   NaN   NaN   NaN   NaN   NaN   NaN  \n",
       "4         NaN   NaN   NaN   NaN   NaN   NaN   NaN   NaN   NaN   NaN  \n",
       "5         NaN   NaN   NaN   NaN   NaN   NaN   NaN   NaN   NaN   NaN  \n",
       "\n",
       "[5 rows x 1682 columns]"
      ]
     },
     "execution_count": 98,
     "metadata": {},
     "output_type": "execute_result"
    }
   ],
   "source": [
    "exploration_df = backup_df.pivot_table(index='userId',columns='movieId',values='rating')\n",
    "exploration_df.head()"
   ]
  },
  {
   "cell_type": "code",
   "execution_count": 99,
   "metadata": {},
   "outputs": [
    {
     "name": "stdout",
     "output_type": "stream",
     "text": [
      "There are 37 tweets per movie on average\n",
      "There are 59 ratings per movie on average\n",
      "Highest number of ratings for a movie is 583\n",
      "Lowest number of ratings for a movie is 1\n"
     ]
    }
   ],
   "source": [
    "average_tweets = collected_tweet['no_of_tweets'].sum()/len(collected_tweet['no_of_tweets'])\n",
    "lowest_rating = exploration_df.count(axis=0).min()\n",
    "highest_rating = exploration_df.count(axis=0).max()\n",
    "average_rating = exploration_df.count(axis=0).mean()\n",
    "print(f'There are {int(average_tweets)} tweets per movie on average')\n",
    "print(f'There are {int(average_rating)} ratings per movie on average')\n",
    "print(f'Highest number of ratings for a movie is {highest_rating}')\n",
    "print(f'Lowest number of ratings for a movie is {lowest_rating}')"
   ]
  },
  {
   "cell_type": "markdown",
   "metadata": {},
   "source": [
    "### 2.2 Nueral Embedding Layer"
   ]
  },
  {
   "cell_type": "code",
   "execution_count": 100,
   "metadata": {},
   "outputs": [],
   "source": [
    "import torch\n",
    "import torch.nn as nn\n",
    "import torch.nn.functional as F\n",
    "import numpy as np"
   ]
  },
  {
   "cell_type": "code",
   "execution_count": 101,
   "metadata": {},
   "outputs": [],
   "source": [
    "genere_columns = []\n",
    "for genere in genres:\n",
    "    genere_columns.append(genere.split('|')[0])"
   ]
  },
  {
   "cell_type": "code",
   "execution_count": 102,
   "metadata": {},
   "outputs": [],
   "source": [
    "all_df = user_interaction_df.merge(item_df,on=['movieId'])\n",
    "all_df = all_df.merge(collected_tweet.drop('movieId',axis=1),on=['movieName'])"
   ]
  },
  {
   "cell_type": "code",
   "execution_count": 103,
   "metadata": {},
   "outputs": [],
   "source": [
    "users = torch.LongTensor(all_df.userId.values)\n",
    "items = torch.LongTensor(all_df.movieId.values)"
   ]
  },
  {
   "cell_type": "code",
   "execution_count": 104,
   "metadata": {},
   "outputs": [],
   "source": [
    "ratings = torch.FloatTensor(all_df.rating.values)\n",
    "ratings_shape = len(all_df.rating.values)\n",
    "ratings = torch.reshape(ratings, (ratings_shape, 1))"
   ]
  },
  {
   "cell_type": "code",
   "execution_count": 105,
   "metadata": {},
   "outputs": [],
   "source": [
    "class MF(nn.Module):\n",
    "    def __init__(self, num_users, num_items, emb_size=100):\n",
    "        super(MF, self).__init__()\n",
    "        # setting a seed value to prevent randomness when creating the embedding vectors\n",
    "        torch.manual_seed(0)\n",
    "        self.embedding_user_mf = nn.Embedding(num_users+1, emb_size)\n",
    "        self.embedding_item_mf = nn.Embedding(num_items+1, emb_size)\n",
    "        \n",
    "        # Random weights to the embedding layer\n",
    "        self.embedding_user_mf.weight.data.uniform_(0, 0.05)\n",
    "        self.embedding_item_mf.weight.data.uniform_(0, 0.05)\n",
    "        \n",
    "        # Linear and non-linear functions at output layer\n",
    "        self.logits = torch.nn.Linear(in_features=((emb_size*2)+20) , out_features=1)\n",
    "        self.sigmoid = torch.nn.Sigmoid()\n",
    "        \n",
    "    def forward(self, user, item, generes,sentiment):\n",
    "        user = self.embedding_user_mf(user)\n",
    "        item = self.embedding_item_mf(item)\n",
    "        # Converting generes and sentiments into tensors to concat with embedding layers\n",
    "        generes = torch.Tensor(generes).to(torch.int64).long()\n",
    "        sentiment = torch.Tensor(sentiment)\n",
    "        sentiment = torch.reshape(sentiment, (-1, 1))\n",
    "    \n",
    "        user_tensor = torch.Tensor(user)\n",
    "        item_tensor = torch.Tensor(item)\n",
    "        #feature_vec_tt = torch.Tensor(feature_vec_list)\n",
    "        \n",
    "        # Concatenating user, item, genere, and sentiment tensors\n",
    "        concat_tensor = torch.cat((user_tensor, item_tensor), -1)\n",
    "\n",
    "        concat_tensor = torch.cat((concat_tensor, generes), -1)\n",
    "        concat_tensor = torch.cat((concat_tensor, sentiment), -1)\n",
    "    \n",
    "        output_score = self.sigmoid(self.logits(concat_tensor))\n",
    "        \n",
    "        # Multiply by 5 to convert sigmoid output to the range of 0 to 5\n",
    "        return output_score*5"
   ]
  },
  {
   "cell_type": "code",
   "execution_count": 106,
   "metadata": {},
   "outputs": [],
   "source": [
    "# Function to run epochs and train the model\n",
    "def run_epochs(model, users, items, generes, sentiment, ratings, epochs=10, lr=0.1):\n",
    "    # Using Adam optimizer\n",
    "    optimizer = torch.optim.Adam(model.parameters(), lr=lr)\n",
    "    # Run the epochs\n",
    "    for i in range(epochs):\n",
    "        \n",
    "        model.train()\n",
    "    \n",
    "        # Model Prediction\n",
    "        y_predicted = model(users, items, generes,sentiment)\n",
    "        \n",
    "        # Model evaluation\n",
    "        rmse = torch.sqrt(F.mse_loss(y_predicted, ratings))\n",
    "\n",
    "        optimizer.zero_grad()\n",
    "        rmse.backward()\n",
    "        optimizer.step()\n",
    "        \n",
    "        print(f'Epoch {i+1} | Training RMSE {rmse.item()}')\n",
    "\n",
    "    print('Model Training completed')\n",
    "    return model,rmse.item()"
   ]
  },
  {
   "cell_type": "code",
   "execution_count": 107,
   "metadata": {},
   "outputs": [],
   "source": [
    "class NeuralEmbeddingLayer:\n",
    "    def __init__(self,latent_vector_sizes,print_process=True):\n",
    "        self.latent_vector_sizes = latent_vector_sizes\n",
    "        self.print_process = print_process\n",
    "    \n",
    "    def train(self, users, items, generes, sentiment, ratings):\n",
    "        self.users = users\n",
    "        self.items = items\n",
    "        self.generes = generes\n",
    "        self.sentiment = sentiment\n",
    "        self.ratings = ratings\n",
    "        self.models = []\n",
    "        self.rmses = []\n",
    "        \n",
    "        for latent_vector in self.latent_vector_sizes:\n",
    "            model = MF(944,1673,latent_vector)\n",
    "            model, rmse = run_epochs(model, users, items, generes, sentiment, \n",
    "                       ratings, epochs=10, lr=0.1)\n",
    "            self.models.append(model)\n",
    "            self.rmses.append(rmse)\n",
    "            \n",
    "            if self.print_process:\n",
    "                print(f'Trained neural embedding layer for latent vector size {latent_vector}\\n\\n')\n",
    "                \n",
    "    def evaluate(self,data):\n",
    "        original_data = data.df.pivot_table(index='userId',columns='movieId',values='rating').fillna(0)\n",
    "        \n",
    "        self.rmses = []\n",
    "        self.maes = []\n",
    "        self.precisions = []\n",
    "        self.recalls = []\n",
    "        self.f1_scores = []\n",
    "        \n",
    "        original_recommend = np.array((original_data >= 3)*1)\n",
    "        \n",
    "        for i in range(len(self.latent_vector_sizes)):\n",
    "            calculated_matrix = pd.DataFrame(columns=['userId','movieId','rating'])\n",
    "            \n",
    "            curr_prediction = self.models[i](self.users, self.items, self.generes, self.sentiment)\n",
    "            \n",
    "             \n",
    "            calculated_matrix['userId'] = self.users\n",
    "            calculated_matrix['movieId'] = self.items\n",
    "            calculated_matrix['rating'] = curr_prediction.detach().numpy()\n",
    "            \n",
    "            # Create a new matrix from formed latent vectors\n",
    "            formed_matrix = calculated_matrix.pivot_table(index='userId',columns='movieId',values='rating').fillna(0)\n",
    "            formed_matrix = np.array(formed_matrix)\n",
    "            \n",
    "                \n",
    "            ### Evaluating as ratings (numbers)\n",
    "            # Create a dataframe with value 1 for ratings present already, 0 for ratings not present\n",
    "            non_zero_values = (original_data != 0)*1\n",
    "            # Multiplying it with formed matrix will make new predictions zero, so scored will only be calculated for \n",
    "            # old available ratings\n",
    "            non_zero_formed_matrix = formed_matrix * np.array(non_zero_values)\n",
    "            original_matrix = np.array(original_data)\n",
    "            # Calculate rsme and mae for available ratings\n",
    "            rmse = mean_squared_error(original_matrix,non_zero_formed_matrix,squared=False)\n",
    "            mae = mean_absolute_error(original_matrix,non_zero_formed_matrix)\n",
    "            self.rmses.append(rmse)\n",
    "            self.maes.append(mae)\n",
    "        \n",
    "            ### Evaluating as categories(recommend & don't recommend)\n",
    "            formed_recommend = (non_zero_formed_matrix >= 3)*1\n",
    "            precision = precision_score(original_recommend[0],formed_recommend[0])\n",
    "            recall = recall_score(original_recommend[0],formed_recommend[0])\n",
    "            f1score = f1_score(original_recommend[0],formed_recommend[0])\n",
    "            self.precisions.append(precision)\n",
    "            self.recalls.append(recall)\n",
    "            self.f1_scores.append(f1score)\n",
    "        \n",
    "            \n",
    "    def plot_metrics(self):\n",
    "        plt.figure(figsize=(10,7))\n",
    "        plt.subplot(3,2,1)\n",
    "        plt.plot(self.latent_vector_sizes,self.rmses,label='RMSE')\n",
    "        plt.xticks(self.latent_vector_sizes)\n",
    "        plt.legend()\n",
    "        plt.subplot(3,2,2)\n",
    "        plt.plot(self.latent_vector_sizes,self.maes,label='MAE')\n",
    "        plt.xticks(self.latent_vector_sizes)\n",
    "        plt.legend()\n",
    "        plt.subplot(3,2,3)\n",
    "        plt.plot(self.latent_vector_sizes,self.precisions,label='Precision')\n",
    "        plt.xticks(self.latent_vector_sizes)\n",
    "        plt.legend()\n",
    "        plt.subplot(3,2,4)\n",
    "        plt.plot(self.latent_vector_sizes,self.recalls,label='Recall')\n",
    "        plt.xticks(self.latent_vector_sizes)\n",
    "        plt.legend()\n",
    "        plt.subplot(3,2,5)\n",
    "        plt.plot(self.latent_vector_sizes,self.f1_scores,label='F1 Score')\n",
    "        plt.xticks(self.latent_vector_sizes)\n",
    "        plt.legend()\n",
    "        plt.show()       \n",
    "    "
   ]
  },
  {
   "cell_type": "code",
   "execution_count": 108,
   "metadata": {},
   "outputs": [
    {
     "name": "stdout",
     "output_type": "stream",
     "text": [
      "Epoch 1 | Training RSME 1.532198190689087\n",
      "Epoch 2 | Training RSME 1.1634690761566162\n",
      "Epoch 3 | Training RSME 1.1098734140396118\n",
      "Epoch 4 | Training RSME 1.0819190740585327\n",
      "Epoch 5 | Training RSME 0.9510976076126099\n",
      "Epoch 6 | Training RSME 1.0678162574768066\n",
      "Epoch 7 | Training RSME 0.9576927423477173\n",
      "Epoch 8 | Training RSME 0.931222677230835\n",
      "Epoch 9 | Training RSME 0.9701426029205322\n",
      "Epoch 10 | Training RSME 0.961381196975708\n",
      "Model Training completed\n",
      "Trained neural embedding layer for latent vector size 20\n",
      "\n",
      "\n",
      "Epoch 1 | Training RSME 1.657572865486145\n",
      "Epoch 2 | Training RSME 1.1684107780456543\n",
      "Epoch 3 | Training RSME 1.187407374382019\n",
      "Epoch 4 | Training RSME 1.079007863998413\n",
      "Epoch 5 | Training RSME 1.0108728408813477\n",
      "Epoch 6 | Training RSME 1.030199408531189\n",
      "Epoch 7 | Training RSME 0.9227935671806335\n",
      "Epoch 8 | Training RSME 0.9634891748428345\n",
      "Epoch 9 | Training RSME 0.952825129032135\n",
      "Epoch 10 | Training RSME 0.9335296750068665\n",
      "Model Training completed\n",
      "Trained neural embedding layer for latent vector size 30\n",
      "\n",
      "\n",
      "Epoch 1 | Training RSME 1.5870046615600586\n",
      "Epoch 2 | Training RSME 1.094913363456726\n",
      "Epoch 3 | Training RSME 1.0698970556259155\n",
      "Epoch 4 | Training RSME 1.1732618808746338\n",
      "Epoch 5 | Training RSME 0.9728374481201172\n",
      "Epoch 6 | Training RSME 1.0215728282928467\n",
      "Epoch 7 | Training RSME 0.9785140156745911\n",
      "Epoch 8 | Training RSME 0.975171685218811\n",
      "Epoch 9 | Training RSME 0.975048840045929\n",
      "Epoch 10 | Training RSME 0.9313315749168396\n",
      "Model Training completed\n",
      "Trained neural embedding layer for latent vector size 40\n",
      "\n",
      "\n",
      "Epoch 1 | Training RSME 1.5524250268936157\n",
      "Epoch 2 | Training RSME 1.0951361656188965\n",
      "Epoch 3 | Training RSME 0.9498014450073242\n",
      "Epoch 4 | Training RSME 1.2605518102645874\n",
      "Epoch 5 | Training RSME 1.1933201551437378\n",
      "Epoch 6 | Training RSME 1.3484519720077515\n",
      "Epoch 7 | Training RSME 1.3192031383514404\n",
      "Epoch 8 | Training RSME 1.1824026107788086\n",
      "Epoch 9 | Training RSME 1.0500223636627197\n",
      "Epoch 10 | Training RSME 1.18472421169281\n",
      "Model Training completed\n",
      "Trained neural embedding layer for latent vector size 50\n",
      "\n",
      "\n"
     ]
    }
   ],
   "source": [
    "nel = NeuralEmbeddingLayer([20,30,40,50])\n",
    "nel.train( users, items, all_df[genere_columns].values, all_df.average_sentiment.values, ratings)"
   ]
  },
  {
   "cell_type": "code",
   "execution_count": 125,
   "metadata": {
    "scrolled": true
   },
   "outputs": [
    {
     "data": {
      "image/png": "[encoded data removed]",
      "text/plain": [
       "<Figure size 720x504 with 5 Axes>"
      ]
     },
     "metadata": {
      "needs_background": "light"
     },
     "output_type": "display_data"
    }
   ],
   "source": [
    "nel_data = Dataset.load_from_df(all_df[[\"userId\",\"movieId\",\"rating\"]], reader=reader)\n",
    "nel.evaluate(nel_data)\n",
    "nel.plot_metrics()"
   ]
  },
  {
   "cell_type": "markdown",
   "metadata": {},
   "source": [
    "## 3. Model comparison"
   ]
  },
  {
   "cell_type": "markdown",
   "metadata": {},
   "source": [
    "### 3.1 RMSE"
   ]
  },
  {
   "cell_type": "code",
   "execution_count": 111,
   "metadata": {},
   "outputs": [
    {
     "data": {
      "image/png": "[encoded data removed]",
      "text/plain": [
       "<Figure size 432x288 with 1 Axes>"
      ]
     },
     "metadata": {
      "needs_background": "light"
     },
     "output_type": "display_data"
    }
   ],
   "source": [
    "mf_sk_rmse = sk_mf.rsmes\n",
    "mf_sp_rmse = sp_mf.rsmes\n",
    "nel_rmse = nel.rmses\n",
    "plt.plot(sk_mf.latent_vector_sizes,mf_sk_rmse, label='Sklearn MF')\n",
    "plt.plot(sk_mf.latent_vector_sizes,mf_sp_rmse, label='Surprise MF')\n",
    "plt.plot(sk_mf.latent_vector_sizes,nel_rmse, label='Neural Embedding Layer')\n",
    "plt.title('RMSE comparision')\n",
    "plt.xticks(sk_mf.latent_vector_sizes)\n",
    "plt.legend()\n",
    "plt.show()"
   ]
  },
  {
   "cell_type": "markdown",
   "metadata": {},
   "source": [
    "### 3.2 MAE"
   ]
  },
  {
   "cell_type": "code",
   "execution_count": 113,
   "metadata": {},
   "outputs": [
    {
     "data": {
      "image/png": "[encoded data removed]",
      "text/plain": [
       "<Figure size 432x288 with 1 Axes>"
      ]
     },
     "metadata": {
      "needs_background": "light"
     },
     "output_type": "display_data"
    }
   ],
   "source": [
    "mf_sk_mae = sk_mf.maes\n",
    "mf_sp_mae = sp_mf.maes\n",
    "nel_mae = nel.maes\n",
    "plt.plot(sk_mf.latent_vector_sizes,mf_sk_mae, label='Sklearn MF')\n",
    "plt.plot(sk_mf.latent_vector_sizes,mf_sp_mae, label='Surprise MF')\n",
    "plt.plot(sk_mf.latent_vector_sizes,nel_mae, label='Neural Embedding Layer')\n",
    "plt.title('MAE comparision')\n",
    "plt.xticks(sk_mf.latent_vector_sizes)\n",
    "plt.legend()\n",
    "plt.show()"
   ]
  },
  {
   "cell_type": "markdown",
   "metadata": {},
   "source": [
    "### 3.3 Precision"
   ]
  },
  {
   "cell_type": "code",
   "execution_count": 115,
   "metadata": {},
   "outputs": [
    {
     "data": {
      "image/png": "[encoded data removed]",
      "text/plain": [
       "<Figure size 432x288 with 1 Axes>"
      ]
     },
     "metadata": {
      "needs_background": "light"
     },
     "output_type": "display_data"
    }
   ],
   "source": [
    "mf_sk_precision = sk_mf.precisions\n",
    "mf_sp_precision = sp_mf.precisions\n",
    "nel_precision = nel.precisions\n",
    "plt.plot(sk_mf.latent_vector_sizes,mf_sk_precision, label='Sklearn MF')\n",
    "plt.plot(sk_mf.latent_vector_sizes,mf_sp_precision, label='Surprise MF')\n",
    "plt.plot(sk_mf.latent_vector_sizes,nel_precision, label='Neural Embedding Layer')\n",
    "plt.title('Precision comparision')\n",
    "plt.xticks(sk_mf.latent_vector_sizes)\n",
    "plt.legend()\n",
    "plt.show()"
   ]
  },
  {
   "cell_type": "markdown",
   "metadata": {},
   "source": [
    "### 3.4 Recall"
   ]
  },
  {
   "cell_type": "code",
   "execution_count": 118,
   "metadata": {},
   "outputs": [
    {
     "data": {
      "image/png": "[encoded data removed]",
      "text/plain": [
       "<Figure size 432x288 with 1 Axes>"
      ]
     },
     "metadata": {
      "needs_background": "light"
     },
     "output_type": "display_data"
    }
   ],
   "source": [
    "mf_sk_recall = sk_mf.recalls\n",
    "mf_sp_recall  = sp_mf.recalls\n",
    "nel_recall  = nel.recalls\n",
    "plt.plot(sk_mf.latent_vector_sizes,mf_sk_recall, label='Sklearn MF')\n",
    "plt.plot(sk_mf.latent_vector_sizes,mf_sp_recall, label='Surprise MF')\n",
    "plt.plot(sk_mf.latent_vector_sizes,nel_recall, label='Neural Embedding Layer')\n",
    "plt.title('Recall comparision')\n",
    "plt.xticks(sk_mf.latent_vector_sizes)\n",
    "plt.legend()\n",
    "plt.show()"
   ]
  },
  {
   "cell_type": "markdown",
   "metadata": {},
   "source": [
    "### 3.5 F1 Score"
   ]
  },
  {
   "cell_type": "code",
   "execution_count": 119,
   "metadata": {},
   "outputs": [
    {
     "data": {
      "image/png": "[encoded data removed]",
      "text/plain": [
       "<Figure size 432x288 with 1 Axes>"
      ]
     },
     "metadata": {
      "needs_background": "light"
     },
     "output_type": "display_data"
    }
   ],
   "source": [
    "mf_sk_f1score = sk_mf.f1_scores\n",
    "mf_sp_f1score  = sp_mf.f1_scores\n",
    "nel_f1score  = nel.f1_scores\n",
    "plt.plot(sk_mf.latent_vector_sizes,mf_sk_f1score, label='Sklearn MF')\n",
    "plt.plot(sk_mf.latent_vector_sizes,mf_sp_f1score, label='Surprise MF')\n",
    "plt.plot(sk_mf.latent_vector_sizes,nel_f1score, label='Neural Embedding Layer')\n",
    "plt.title('F1 Score comparision')\n",
    "plt.xticks(sk_mf.latent_vector_sizes)\n",
    "plt.legend()\n",
    "plt.show()"
   ]
  },
  {
   "cell_type": "markdown",
   "metadata": {},
   "source": [
    "### 3.6 Top - 10 & 20 Recommendations"
   ]
  },
  {
   "cell_type": "markdown",
   "metadata": {},
   "source": [
    "#### Matrix Factorization"
   ]
  },
  {
   "cell_type": "code",
   "execution_count": 130,
   "metadata": {},
   "outputs": [],
   "source": [
    "model_number = sp_mf.latent_vector_sizes.index(40)\n",
    "sp_selected_model = sp_mf.models[model_number]"
   ]
  },
  {
   "cell_type": "code",
   "execution_count": 133,
   "metadata": {},
   "outputs": [
    {
     "ename": "NameError",
     "evalue": "name 'calculated_matrix' is not defined",
     "output_type": "error",
     "traceback": [
      "\u001b[1;31m---------------------------------------------------------------------------\u001b[0m",
      "\u001b[1;31mNameError\u001b[0m                                 Traceback (most recent call last)",
      "\u001b[1;32m<ipython-input-133-98aca06c89d7>\u001b[0m in \u001b[0;36m<module>\u001b[1;34m\u001b[0m\n\u001b[0;32m      8\u001b[0m \u001b[1;33m\u001b[0m\u001b[0m\n\u001b[0;32m      9\u001b[0m \u001b[1;31m# Create a new matrix from formed latent vectors\u001b[0m\u001b[1;33m\u001b[0m\u001b[1;33m\u001b[0m\u001b[1;33m\u001b[0m\u001b[0m\n\u001b[1;32m---> 10\u001b[1;33m \u001b[0mformed_matrix\u001b[0m \u001b[1;33m=\u001b[0m \u001b[0mcalculated_matrix\u001b[0m\u001b[1;33m.\u001b[0m\u001b[0mpivot_table\u001b[0m\u001b[1;33m(\u001b[0m\u001b[0mindex\u001b[0m\u001b[1;33m=\u001b[0m\u001b[1;34m'userId'\u001b[0m\u001b[1;33m,\u001b[0m\u001b[0mcolumns\u001b[0m\u001b[1;33m=\u001b[0m\u001b[1;34m'movieId'\u001b[0m\u001b[1;33m,\u001b[0m\u001b[0mvalues\u001b[0m\u001b[1;33m=\u001b[0m\u001b[1;34m'rating'\u001b[0m\u001b[1;33m)\u001b[0m\u001b[1;33m.\u001b[0m\u001b[0mfillna\u001b[0m\u001b[1;33m(\u001b[0m\u001b[1;36m0\u001b[0m\u001b[1;33m)\u001b[0m\u001b[1;33m\u001b[0m\u001b[1;33m\u001b[0m\u001b[0m\n\u001b[0m",
      "\u001b[1;31mNameError\u001b[0m: name 'calculated_matrix' is not defined"
     ]
    }
   ],
   "source": [
    "calculated_matrix_mf = pd.DataFrame(columns=['userId','movieId','rating'])\n",
    "transformed_data = [data.df.iloc[i].to_list()[:2] for i in range(len(data.df))]\n",
    "for _ in transformed_data:\n",
    "    calculation = dict()\n",
    "    calculation['userId'] = _[0]\n",
    "    calculation['movieId'] = _[1]\n",
    "    \n",
    "    calculation['rating'] = sp_selected_model.predict(_[0],_[1]).est\n",
    "    calculated_matrix_mf = calculated_matrix_mf.append(calculation,ignore_index=True)\n",
    "  \n",
    " # Create a new matrix from formed latent vectors\n",
    "formed_matrix_mf = calculated_matrix_mf.pivot_table(index='userId',columns='movieId',values='rating').fillna(0)"
   ]
  },
  {
   "cell_type": "code",
   "execution_count": 190,
   "metadata": {},
   "outputs": [],
   "source": [
    "mf_predicted_ratings_10 = []\n",
    "mf_true_ratings_10 = []\n",
    "mf_predicted_recommendation_10 = []\n",
    "mf_true_recommendation_10 = []\n",
    "\n",
    "mf_predicted_ratings_20 = []\n",
    "mf_true_ratings_20 = []\n",
    "mf_predicted_recommendation_20 = []\n",
    "mf_true_recommendation_20 = []\n",
    "\n",
    "for idx in range(len(formed_matrix_mf)):\n",
    "    ### Top - 10 recommendation\n",
    "    ten_indexes = formed_matrix_mf.iloc[idx].sort_values(ascending=False).index[:10]\n",
    "    # Ratings\n",
    "    ten_predicted_ratings = formed_matrix_mf.iloc[idx][ten_indexes].to_list()\n",
    "    ten_true_rating = movie_user.iloc[idx][ten_indexes].to_list()\n",
    "    mf_predicted_ratings_10.extend(ten_predicted_ratings)\n",
    "    mf_true_ratings_10.extend(ten_true_rating)\n",
    "    #print(len(ten_indexes))\n",
    "    \n",
    "    # Recommendation\n",
    "    ten_true_recommendation = ((movie_user.iloc[idx][ten_indexes] > 3) * 1).to_list()\n",
    "    ten_predicted_recommendation = ((formed_matrix_mf.iloc[idx][ten_indexes] > 3) * 1).to_list()\n",
    "    mf_predicted_recommendation_10.extend(ten_predicted_recommendation)\n",
    "    mf_true_recommendation_10.extend(ten_true_recommendation)\n",
    "    \n",
    "    ### Top - 20 recommendation\n",
    "    twenty_indexes = formed_matrix_mf.iloc[idx].sort_values(ascending=False).index[:20]\n",
    "    # Ratings\n",
    "    twenty_predicted_ratings = formed_matrix_mf.iloc[idx][twenty_indexes].to_list()\n",
    "    twenty_true_rating = movie_user.iloc[idx][twenty_indexes].to_list()\n",
    "    mf_predicted_ratings_20.extend(twenty_predicted_ratings)\n",
    "    mf_true_ratings_20.extend(twenty_true_rating)\n",
    "    #print(len(ten_indexes))\n",
    "    \n",
    "    # Recommendation\n",
    "    twenty_true_recommendation = ((movie_user.iloc[idx][twenty_indexes] > 3) * 1).to_list()\n",
    "    twenty_predicted_recommendation = ((formed_matrix_mf.iloc[idx][twenty_indexes] > 3) * 1).to_list()\n",
    "    mf_predicted_recommendation_20.extend(twenty_predicted_recommendation)\n",
    "    mf_true_recommendation_20.extend(twenty_true_recommendation)"
   ]
  },
  {
   "cell_type": "code",
   "execution_count": 195,
   "metadata": {},
   "outputs": [],
   "source": [
    "# Top-10 recommendation\n",
    "ten_mf_rmse = mean_squared_error(mf_true_ratings_10,mf_predicted_ratings_10,squared=False)\n",
    "ten_mf_mae = mean_absolute_error(mf_true_ratings_10,mf_predicted_ratings_10)\n",
    "ten_mf_precision = precision_score(mf_true_recommendation_10,mf_predicted_recommendation_10)\n",
    "ten_mf_recall = recall_score(mf_true_recommendation_10,mf_predicted_recommendation_10)\n",
    "ten_mf_f1score = f1_score(mf_true_recommendation_10,mf_predicted_recommendation_10)\n",
    "\n",
    "# Top-20 recommendation\n",
    "twenty_mf_rmse = mean_squared_error(mf_true_ratings_20,mf_predicted_ratings_20,squared=False)\n",
    "twenty_mf_mae = mean_absolute_error(mf_true_ratings_20,mf_predicted_ratings_20)\n",
    "twenty_mf_precision = precision_score(mf_true_recommendation_10,mf_predicted_recommendation_10)\n",
    "twenty_mf_recall = recall_score(mf_true_recommendation_20,mf_predicted_recommendation_20)\n",
    "twenty_mf_f1score = f1_score(mf_true_recommendation_20,mf_predicted_recommendation_20)"
   ]
  },
  {
   "cell_type": "markdown",
   "metadata": {},
   "source": [
    "#### Neural Embedding Layer"
   ]
  },
  {
   "cell_type": "code",
   "execution_count": 197,
   "metadata": {},
   "outputs": [],
   "source": [
    "nel_selected_model =nel.models[model_number]"
   ]
  },
  {
   "cell_type": "code",
   "execution_count": 198,
   "metadata": {},
   "outputs": [],
   "source": [
    "calculated_matrix_nel = pd.DataFrame(columns=['userId','movieId','rating'])\n",
    "\n",
    "curr_prediction = nel_selected_model(users, items, all_df[genere_columns].values, all_df.average_sentiment.values)\n",
    "\n",
    " \n",
    "calculated_matrix_nel['userId'] = users\n",
    "calculated_matrix_nel['movieId'] = items\n",
    "calculated_matrix_nel['rating'] = curr_prediction.detach().numpy()\n",
    "\n",
    "# Create a new matrix from formed latent vectors\n",
    "formed_matrix_nel = calculated_matrix_nel.pivot_table(index='userId',columns='movieId',values='rating').fillna(0)"
   ]
  },
  {
   "cell_type": "code",
   "execution_count": 201,
   "metadata": {},
   "outputs": [],
   "source": [
    "nel_predicted_ratings_10 = []\n",
    "nel_true_ratings_10 = []\n",
    "nel_predicted_recommendation_10 = []\n",
    "nel_true_recommendation_10 = []\n",
    "\n",
    "nel_predicted_ratings_20 = []\n",
    "nel_true_ratings_20 = []\n",
    "nel_predicted_recommendation_20 = []\n",
    "nel_true_recommendation_20 = []\n",
    "\n",
    "for idx in range(len(formed_matrix_nel)):\n",
    "    ### Top - 10 recommendation\n",
    "    ten_indexes = formed_matrix_nel.iloc[idx].sort_values(ascending=False).index[:10]\n",
    "    # Ratings\n",
    "    ten_predicted_ratings = formed_matrix_nel.iloc[idx][ten_indexes].to_list()\n",
    "    ten_true_rating = movie_user.iloc[idx][ten_indexes].to_list()\n",
    "    nel_predicted_ratings_10.extend(ten_predicted_ratings)\n",
    "    nel_true_ratings_10.extend(ten_true_rating)\n",
    "    #print(len(ten_indexes))\n",
    "    \n",
    "    # Recommendation\n",
    "    ten_true_recommendation = ((movie_user.iloc[idx][ten_indexes] > 3) * 1).to_list()\n",
    "    ten_predicted_recommendation = ((formed_matrix_nel.iloc[idx][ten_indexes] > 3) * 1).to_list()\n",
    "    nel_predicted_recommendation_10.extend(ten_predicted_recommendation)\n",
    "    nel_true_recommendation_10.extend(ten_true_recommendation)\n",
    "    \n",
    "    ### Top - 20 recommendation\n",
    "    twenty_indexes = formed_matrix_nel.iloc[idx].sort_values(ascending=False).index[:20]\n",
    "    # Ratings\n",
    "    twenty_predicted_ratings = formed_matrix_nel.iloc[idx][twenty_indexes].to_list()\n",
    "    twenty_true_rating = movie_user.iloc[idx][twenty_indexes].to_list()\n",
    "    nel_predicted_ratings_20.extend(twenty_predicted_ratings)\n",
    "    nel_true_ratings_20.extend(twenty_true_rating)\n",
    "    #print(len(ten_indexes))\n",
    "    \n",
    "    # Recommendation\n",
    "    twenty_true_recommendation = ((movie_user.iloc[idx][twenty_indexes] > 3) * 1).to_list()\n",
    "    twenty_predicted_recommendation = ((formed_matrix_nel.iloc[idx][twenty_indexes] > 3) * 1).to_list()\n",
    "    nel_predicted_recommendation_20.extend(twenty_predicted_recommendation)\n",
    "    nel_true_recommendation_20.extend(twenty_true_recommendation)"
   ]
  },
  {
   "cell_type": "code",
   "execution_count": 202,
   "metadata": {},
   "outputs": [],
   "source": [
    "# Top-10 recommendation\n",
    "ten_nel_rmse = mean_squared_error(nel_true_ratings_10,nel_predicted_ratings_10,squared=False)\n",
    "ten_nel_mae = mean_absolute_error(nel_true_ratings_10,nel_predicted_ratings_10)\n",
    "ten_nel_precision = precision_score(nel_true_recommendation_10,nel_predicted_recommendation_10)\n",
    "ten_nel_recall = recall_score(nel_true_recommendation_10,nel_predicted_recommendation_10)\n",
    "ten_nel_f1score = f1_score(nel_true_recommendation_10,nel_predicted_recommendation_10)\n",
    "\n",
    "# Top-20 recommendation\n",
    "twenty_nel_rmse = mean_squared_error(nel_true_ratings_20,nel_predicted_ratings_20,squared=False)\n",
    "twenty_nel_mae = mean_absolute_error(nel_true_ratings_20,nel_predicted_ratings_20)\n",
    "twenty_nel_precision = precision_score(nel_true_recommendation_20,nel_predicted_recommendation_20)\n",
    "twenty_nel_recall = recall_score(nel_true_recommendation_20,nel_predicted_recommendation_20)\n",
    "twenty_nel_f1score = f1_score(nel_true_recommendation_20,nel_predicted_recommendation_20)"
   ]
  },
  {
   "cell_type": "markdown",
   "metadata": {},
   "source": [
    "## Top-10 Recommendation"
   ]
  },
  {
   "cell_type": "code",
   "execution_count": 234,
   "metadata": {},
   "outputs": [],
   "source": [
    "y1 = [ten_nel_rmse,ten_nel_mae,ten_nel_precision,ten_nel_recall,ten_nel_f1score]\n",
    "y2 = [ten_mf_rmse,ten_mf_mae,ten_mf_precision,ten_mf_recall,ten_mf_f1score]\n",
    "x_values = ['RMSE','MAE', 'Precision','Recall','F1 Score']\n",
    "x1 = np.array(range(len(y)))\n",
    "x2 = np.array(range(len(y))) + .25"
   ]
  },
  {
   "cell_type": "code",
   "execution_count": 235,
   "metadata": {},
   "outputs": [
    {
     "data": {
      "image/png": "[encoded data removed]",
      "text/plain": [
       "<Figure size 432x288 with 1 Axes>"
      ]
     },
     "metadata": {
      "needs_background": "light"
     },
     "output_type": "display_data"
    }
   ],
   "source": [
    "plt.bar(x1,y1,width=0.25,label='Neural Embedding Layer')\n",
    "plt.bar(x2,y2,width=0.25,label='Matrix Factorization')\n",
    "plt.xticks(x1,x_values)\n",
    "plt.title('Top-10 recommendation')\n",
    "plt.legend()\n",
    "plt.show()"
   ]
  },
  {
   "cell_type": "markdown",
   "metadata": {},
   "source": [
    "## Top-20 Recommendation"
   ]
  },
  {
   "cell_type": "code",
   "execution_count": 236,
   "metadata": {},
   "outputs": [],
   "source": [
    "y1 = [twenty_nel_rmse,twenty_nel_mae,twenty_nel_precision,twenty_nel_recall,twenty_nel_f1score]\n",
    "y2 = [twenty_mf_rmse,twenty_mf_mae,twenty_mf_precision,twenty_mf_recall,twenty_mf_f1score]\n",
    "x_values = ['RMSE','MAE', 'Precision','Recall','F1 Score']\n",
    "x1 = np.array(range(len(y)))\n",
    "x2 = np.array(range(len(y))) + .25"
   ]
  },
  {
   "cell_type": "code",
   "execution_count": 237,
   "metadata": {},
   "outputs": [
    {
     "data": {
      "image/png": "[encoded data removed]",
      "text/plain": [
       "<Figure size 432x288 with 1 Axes>"
      ]
     },
     "metadata": {
      "needs_background": "light"
     },
     "output_type": "display_data"
    }
   ],
   "source": [
    "plt.bar(x1,y1,width=0.25,label='Neural Embedding Layer')\n",
    "plt.bar(x2,y2,width=0.25,label='Matrix Factorization')\n",
    "plt.xticks(x1,x_values)\n",
    "plt.title('Top-20 recommendation')\n",
    "plt.legend()\n",
    "plt.show()"
   ]
  }
 ],
 "metadata": {
  "kernelspec": {
   "display_name": "Python 3",
   "language": "python",
   "name": "python3"
  },
  "language_info": {
   "codemirror_mode": {
    "name": "ipython",
    "version": 3
   },
   "file_extension": ".py",
   "mimetype": "text/x-python",
   "name": "python",
   "nbconvert_exporter": "python",
   "pygments_lexer": "ipython3",
   "version": "3.7.6"
  }
 },
 "nbformat": 4,
 "nbformat_minor": 5
}
